{
 "cells": [
  {
   "cell_type": "markdown",
   "metadata": {
    "toc": true
   },
   "source": [
    "<h1>Содержание<span class=\"tocSkip\"></span></h1>\n",
    "<div class=\"toc\"><ul class=\"toc-item\"><li><span><a href=\"#Подготовка-данных\" data-toc-modified-id=\"Подготовка-данных-1\"><span class=\"toc-item-num\">1&nbsp;&nbsp;</span>Подготовка данных</a></span></li><li><span><a href=\"#Исследование-задачи\" data-toc-modified-id=\"Исследование-задачи-2\"><span class=\"toc-item-num\">2&nbsp;&nbsp;</span>Исследование задачи</a></span><ul class=\"toc-item\"><li><span><a href=\"#Подготовка-данных\" data-toc-modified-id=\"Подготовка-данных-2.1\"><span class=\"toc-item-num\">2.1&nbsp;&nbsp;</span>Подготовка данных</a></span></li><li><span><a href=\"#Создание-выборок\" data-toc-modified-id=\"Создание-выборок-2.2\"><span class=\"toc-item-num\">2.2&nbsp;&nbsp;</span>Создание выборок</a></span><ul class=\"toc-item\"><li><span><a href=\"#Обучающая-выборка\" data-toc-modified-id=\"Обучающая-выборка-2.2.1\"><span class=\"toc-item-num\">2.2.1&nbsp;&nbsp;</span>Обучающая выборка</a></span></li><li><span><a href=\"#Тестовая-выборка\" data-toc-modified-id=\"Тестовая-выборка-2.2.2\"><span class=\"toc-item-num\">2.2.2&nbsp;&nbsp;</span>Тестовая выборка</a></span></li><li><span><a href=\"#Валидационная-выборка\" data-toc-modified-id=\"Валидационная-выборка-2.2.3\"><span class=\"toc-item-num\">2.2.3&nbsp;&nbsp;</span>Валидационная выборка</a></span></li></ul></li><li><span><a href=\"#Масштабирование-признаков\" data-toc-modified-id=\"Масштабирование-признаков-2.3\"><span class=\"toc-item-num\">2.3&nbsp;&nbsp;</span>Масштабирование признаков</a></span></li><li><span><a href=\"#Исследование-модели\" data-toc-modified-id=\"Исследование-модели-2.4\"><span class=\"toc-item-num\">2.4&nbsp;&nbsp;</span>Исследование модели</a></span><ul class=\"toc-item\"><li><span><a href=\"#DecisionTreeClassifier\" data-toc-modified-id=\"DecisionTreeClassifier-2.4.1\"><span class=\"toc-item-num\">2.4.1&nbsp;&nbsp;</span>DecisionTreeClassifier</a></span></li><li><span><a href=\"#RandomForestClassifier\" data-toc-modified-id=\"RandomForestClassifier-2.4.2\"><span class=\"toc-item-num\">2.4.2&nbsp;&nbsp;</span>RandomForestClassifier</a></span></li><li><span><a href=\"#LogisticRegression\" data-toc-modified-id=\"LogisticRegression-2.4.3\"><span class=\"toc-item-num\">2.4.3&nbsp;&nbsp;</span>LogisticRegression</a></span></li></ul></li><li><span><a href=\"#Проверка-метрик\" data-toc-modified-id=\"Проверка-метрик-2.5\"><span class=\"toc-item-num\">2.5&nbsp;&nbsp;</span>Проверка метрик</a></span><ul class=\"toc-item\"><li><span><a href=\"#DecisionTreeClassifier\" data-toc-modified-id=\"DecisionTreeClassifier-2.5.1\"><span class=\"toc-item-num\">2.5.1&nbsp;&nbsp;</span>DecisionTreeClassifier</a></span></li><li><span><a href=\"#RandomForestClassifier\" data-toc-modified-id=\"RandomForestClassifier-2.5.2\"><span class=\"toc-item-num\">2.5.2&nbsp;&nbsp;</span>RandomForestClassifier</a></span></li><li><span><a href=\"#LogisticRegression\" data-toc-modified-id=\"LogisticRegression-2.5.3\"><span class=\"toc-item-num\">2.5.3&nbsp;&nbsp;</span>LogisticRegression</a></span></li></ul></li></ul></li><li><span><a href=\"#Борьба-с-дисбалансом\" data-toc-modified-id=\"Борьба-с-дисбалансом-3\"><span class=\"toc-item-num\">3&nbsp;&nbsp;</span>Борьба с дисбалансом</a></span><ul class=\"toc-item\"><li><span><a href=\"#Работа-с-дисбалансом\" data-toc-modified-id=\"Работа-с-дисбалансом-3.1\"><span class=\"toc-item-num\">3.1&nbsp;&nbsp;</span>Работа с дисбалансом</a></span><ul class=\"toc-item\"><li><span><a href=\"#Upsampled\" data-toc-modified-id=\"Upsampled-3.1.1\"><span class=\"toc-item-num\">3.1.1&nbsp;&nbsp;</span>Upsampled</a></span></li><li><span><a href=\"#Downsampled\" data-toc-modified-id=\"Downsampled-3.1.2\"><span class=\"toc-item-num\">3.1.2&nbsp;&nbsp;</span>Downsampled</a></span></li></ul></li><li><span><a href=\"#Обучение-на-сбалансированной-выборке\" data-toc-modified-id=\"Обучение-на-сбалансированной-выборке-3.2\"><span class=\"toc-item-num\">3.2&nbsp;&nbsp;</span>Обучение на сбалансированной выборке</a></span><ul class=\"toc-item\"><li><span><a href=\"#DecisionTreeClassifier\" data-toc-modified-id=\"DecisionTreeClassifier-3.2.1\"><span class=\"toc-item-num\">3.2.1&nbsp;&nbsp;</span>DecisionTreeClassifier</a></span></li><li><span><a href=\"#RandomForestClassifier\" data-toc-modified-id=\"RandomForestClassifier-3.2.2\"><span class=\"toc-item-num\">3.2.2&nbsp;&nbsp;</span>RandomForestClassifier</a></span></li><li><span><a href=\"#LogisticRegression\" data-toc-modified-id=\"LogisticRegression-3.2.3\"><span class=\"toc-item-num\">3.2.3&nbsp;&nbsp;</span>LogisticRegression</a></span></li></ul></li></ul></li><li><span><a href=\"#Тестирование-модели\" data-toc-modified-id=\"Тестирование-модели-4\"><span class=\"toc-item-num\">4&nbsp;&nbsp;</span>Тестирование модели</a></span></li><li><span><a href=\"#Общие-выводы\" data-toc-modified-id=\"Общие-выводы-5\"><span class=\"toc-item-num\">5&nbsp;&nbsp;</span>Общие выводы</a></span></li></ul></div>"
   ]
  },
  {
   "cell_type": "markdown",
   "metadata": {},
   "source": [
    "# Отток клиентов"
   ]
  },
  {
   "cell_type": "markdown",
   "metadata": {},
   "source": [
    "<b>Цели проекта:</b>  \n",
    "Построить модель с предельно большим значением F1-меры.  \n",
    "  \n",
    "<b>Задачи проекта:</b>  \n",
    "1. провести предобработку данных;\n",
    "2. разбить данные на выборки;  \n",
    "3. исследовать модели,\n",
    "    - DecisionTreeClassifier,\n",
    "    - RandomForestClassifier,\n",
    "    - LogisticRegression;\n",
    "4. проверить метрики;\n",
    "5. убрать дисбаланс классов;\n",
    "6. протестировать финальную модель;\n",
    "7. сделать общие выводы.\n",
    "\n",
    "<b>Данные:</b>  \n",
    "Данные об уходе клиентов из \"Бета-Банка\"."
   ]
  },
  {
   "cell_type": "markdown",
   "metadata": {},
   "source": [
    "<b>Описание данных</b>  \n",
    "Признаки\n",
    "- <code>RowNumber</code> — индекс строки в данных\n",
    "- <code>CustomerId</code> — уникальный идентификатор клиента\n",
    "- <code>Surname</code> — фамилия\n",
    "- <code>CreditScore</code> — кредитный рейтинг\n",
    "- <code>Geography</code> — страна проживания\n",
    "- <code>Gender</code> — пол\n",
    "- <code>Age</code> — возраст\n",
    "- <code>Tenure</code> — сколько лет человек является клиентом банка\n",
    "- <code>Balance</code> — баланс на счёте\n",
    "- <code>NumOfProducts</code> — количество продуктов банка, используемых клиентом\n",
    "- <code>HasCrCard</code> — наличие кредитной карты\n",
    "- <code>IsActiveMember</code> — активность клиента\n",
    "- <code>EstimatedSalary</code> — предполагаемая зарплата  \n",
    "  \n",
    "Целевой признак\n",
    "- <code>Exited</code> — факт ухода клиента"
   ]
  },
  {
   "cell_type": "markdown",
   "metadata": {},
   "source": [
    "## Подготовка данных"
   ]
  },
  {
   "cell_type": "code",
   "execution_count": 1,
   "metadata": {},
   "outputs": [],
   "source": [
    "# импортировать библиотеки\n",
    "import pandas as pd\n",
    "import matplotlib.pyplot as plt\n",
    "\n",
    "from sklearn.model_selection import train_test_split\n",
    "from sklearn.preprocessing import StandardScaler \n",
    "from sklearn.metrics import accuracy_score\n",
    "\n",
    "from sklearn.tree import DecisionTreeClassifier\n",
    "from sklearn.ensemble import RandomForestClassifier\n",
    "from sklearn.linear_model import LogisticRegression\n",
    "\n",
    "from sklearn.metrics import confusion_matrix\n",
    "from sklearn.metrics import recall_score\n",
    "from sklearn.metrics import precision_score\n",
    "from sklearn.metrics import f1_score\n",
    "from sklearn.metrics import roc_auc_score \n",
    "from sklearn.metrics import roc_curve\n",
    "\n",
    "from sklearn.utils import shuffle"
   ]
  },
  {
   "cell_type": "code",
   "execution_count": 2,
   "metadata": {},
   "outputs": [],
   "source": [
    "# записать файл в data\n",
    "try: \n",
    "    data = pd.read_csv('/datasets/Churn.csv', sep=',')\n",
    "except:\n",
    "    data = pd.read_csv('Churn.csv', sep=',')"
   ]
  },
  {
   "cell_type": "code",
   "execution_count": 3,
   "metadata": {},
   "outputs": [
    {
     "data": {
      "text/html": [
       "<div>\n",
       "<style scoped>\n",
       "    .dataframe tbody tr th:only-of-type {\n",
       "        vertical-align: middle;\n",
       "    }\n",
       "\n",
       "    .dataframe tbody tr th {\n",
       "        vertical-align: top;\n",
       "    }\n",
       "\n",
       "    .dataframe thead th {\n",
       "        text-align: right;\n",
       "    }\n",
       "</style>\n",
       "<table border=\"1\" class=\"dataframe\">\n",
       "  <thead>\n",
       "    <tr style=\"text-align: right;\">\n",
       "      <th></th>\n",
       "      <th>RowNumber</th>\n",
       "      <th>CustomerId</th>\n",
       "      <th>Surname</th>\n",
       "      <th>CreditScore</th>\n",
       "      <th>Geography</th>\n",
       "      <th>Gender</th>\n",
       "      <th>Age</th>\n",
       "      <th>Tenure</th>\n",
       "      <th>Balance</th>\n",
       "      <th>NumOfProducts</th>\n",
       "      <th>HasCrCard</th>\n",
       "      <th>IsActiveMember</th>\n",
       "      <th>EstimatedSalary</th>\n",
       "      <th>Exited</th>\n",
       "    </tr>\n",
       "  </thead>\n",
       "  <tbody>\n",
       "    <tr>\n",
       "      <th>0</th>\n",
       "      <td>1</td>\n",
       "      <td>15634602</td>\n",
       "      <td>Hargrave</td>\n",
       "      <td>619</td>\n",
       "      <td>France</td>\n",
       "      <td>Female</td>\n",
       "      <td>42</td>\n",
       "      <td>2.0</td>\n",
       "      <td>0.00</td>\n",
       "      <td>1</td>\n",
       "      <td>1</td>\n",
       "      <td>1</td>\n",
       "      <td>101348.88</td>\n",
       "      <td>1</td>\n",
       "    </tr>\n",
       "    <tr>\n",
       "      <th>1</th>\n",
       "      <td>2</td>\n",
       "      <td>15647311</td>\n",
       "      <td>Hill</td>\n",
       "      <td>608</td>\n",
       "      <td>Spain</td>\n",
       "      <td>Female</td>\n",
       "      <td>41</td>\n",
       "      <td>1.0</td>\n",
       "      <td>83807.86</td>\n",
       "      <td>1</td>\n",
       "      <td>0</td>\n",
       "      <td>1</td>\n",
       "      <td>112542.58</td>\n",
       "      <td>0</td>\n",
       "    </tr>\n",
       "    <tr>\n",
       "      <th>2</th>\n",
       "      <td>3</td>\n",
       "      <td>15619304</td>\n",
       "      <td>Onio</td>\n",
       "      <td>502</td>\n",
       "      <td>France</td>\n",
       "      <td>Female</td>\n",
       "      <td>42</td>\n",
       "      <td>8.0</td>\n",
       "      <td>159660.80</td>\n",
       "      <td>3</td>\n",
       "      <td>1</td>\n",
       "      <td>0</td>\n",
       "      <td>113931.57</td>\n",
       "      <td>1</td>\n",
       "    </tr>\n",
       "    <tr>\n",
       "      <th>3</th>\n",
       "      <td>4</td>\n",
       "      <td>15701354</td>\n",
       "      <td>Boni</td>\n",
       "      <td>699</td>\n",
       "      <td>France</td>\n",
       "      <td>Female</td>\n",
       "      <td>39</td>\n",
       "      <td>1.0</td>\n",
       "      <td>0.00</td>\n",
       "      <td>2</td>\n",
       "      <td>0</td>\n",
       "      <td>0</td>\n",
       "      <td>93826.63</td>\n",
       "      <td>0</td>\n",
       "    </tr>\n",
       "    <tr>\n",
       "      <th>4</th>\n",
       "      <td>5</td>\n",
       "      <td>15737888</td>\n",
       "      <td>Mitchell</td>\n",
       "      <td>850</td>\n",
       "      <td>Spain</td>\n",
       "      <td>Female</td>\n",
       "      <td>43</td>\n",
       "      <td>2.0</td>\n",
       "      <td>125510.82</td>\n",
       "      <td>1</td>\n",
       "      <td>1</td>\n",
       "      <td>1</td>\n",
       "      <td>79084.10</td>\n",
       "      <td>0</td>\n",
       "    </tr>\n",
       "    <tr>\n",
       "      <th>5</th>\n",
       "      <td>6</td>\n",
       "      <td>15574012</td>\n",
       "      <td>Chu</td>\n",
       "      <td>645</td>\n",
       "      <td>Spain</td>\n",
       "      <td>Male</td>\n",
       "      <td>44</td>\n",
       "      <td>8.0</td>\n",
       "      <td>113755.78</td>\n",
       "      <td>2</td>\n",
       "      <td>1</td>\n",
       "      <td>0</td>\n",
       "      <td>149756.71</td>\n",
       "      <td>1</td>\n",
       "    </tr>\n",
       "    <tr>\n",
       "      <th>6</th>\n",
       "      <td>7</td>\n",
       "      <td>15592531</td>\n",
       "      <td>Bartlett</td>\n",
       "      <td>822</td>\n",
       "      <td>France</td>\n",
       "      <td>Male</td>\n",
       "      <td>50</td>\n",
       "      <td>7.0</td>\n",
       "      <td>0.00</td>\n",
       "      <td>2</td>\n",
       "      <td>1</td>\n",
       "      <td>1</td>\n",
       "      <td>10062.80</td>\n",
       "      <td>0</td>\n",
       "    </tr>\n",
       "    <tr>\n",
       "      <th>7</th>\n",
       "      <td>8</td>\n",
       "      <td>15656148</td>\n",
       "      <td>Obinna</td>\n",
       "      <td>376</td>\n",
       "      <td>Germany</td>\n",
       "      <td>Female</td>\n",
       "      <td>29</td>\n",
       "      <td>4.0</td>\n",
       "      <td>115046.74</td>\n",
       "      <td>4</td>\n",
       "      <td>1</td>\n",
       "      <td>0</td>\n",
       "      <td>119346.88</td>\n",
       "      <td>1</td>\n",
       "    </tr>\n",
       "    <tr>\n",
       "      <th>8</th>\n",
       "      <td>9</td>\n",
       "      <td>15792365</td>\n",
       "      <td>He</td>\n",
       "      <td>501</td>\n",
       "      <td>France</td>\n",
       "      <td>Male</td>\n",
       "      <td>44</td>\n",
       "      <td>4.0</td>\n",
       "      <td>142051.07</td>\n",
       "      <td>2</td>\n",
       "      <td>0</td>\n",
       "      <td>1</td>\n",
       "      <td>74940.50</td>\n",
       "      <td>0</td>\n",
       "    </tr>\n",
       "    <tr>\n",
       "      <th>9</th>\n",
       "      <td>10</td>\n",
       "      <td>15592389</td>\n",
       "      <td>H?</td>\n",
       "      <td>684</td>\n",
       "      <td>France</td>\n",
       "      <td>Male</td>\n",
       "      <td>27</td>\n",
       "      <td>2.0</td>\n",
       "      <td>134603.88</td>\n",
       "      <td>1</td>\n",
       "      <td>1</td>\n",
       "      <td>1</td>\n",
       "      <td>71725.73</td>\n",
       "      <td>0</td>\n",
       "    </tr>\n",
       "  </tbody>\n",
       "</table>\n",
       "</div>"
      ],
      "text/plain": [
       "   RowNumber  CustomerId   Surname  CreditScore Geography  Gender  Age  \\\n",
       "0          1    15634602  Hargrave          619    France  Female   42   \n",
       "1          2    15647311      Hill          608     Spain  Female   41   \n",
       "2          3    15619304      Onio          502    France  Female   42   \n",
       "3          4    15701354      Boni          699    France  Female   39   \n",
       "4          5    15737888  Mitchell          850     Spain  Female   43   \n",
       "5          6    15574012       Chu          645     Spain    Male   44   \n",
       "6          7    15592531  Bartlett          822    France    Male   50   \n",
       "7          8    15656148    Obinna          376   Germany  Female   29   \n",
       "8          9    15792365        He          501    France    Male   44   \n",
       "9         10    15592389        H?          684    France    Male   27   \n",
       "\n",
       "   Tenure    Balance  NumOfProducts  HasCrCard  IsActiveMember  \\\n",
       "0     2.0       0.00              1          1               1   \n",
       "1     1.0   83807.86              1          0               1   \n",
       "2     8.0  159660.80              3          1               0   \n",
       "3     1.0       0.00              2          0               0   \n",
       "4     2.0  125510.82              1          1               1   \n",
       "5     8.0  113755.78              2          1               0   \n",
       "6     7.0       0.00              2          1               1   \n",
       "7     4.0  115046.74              4          1               0   \n",
       "8     4.0  142051.07              2          0               1   \n",
       "9     2.0  134603.88              1          1               1   \n",
       "\n",
       "   EstimatedSalary  Exited  \n",
       "0        101348.88       1  \n",
       "1        112542.58       0  \n",
       "2        113931.57       1  \n",
       "3         93826.63       0  \n",
       "4         79084.10       0  \n",
       "5        149756.71       1  \n",
       "6         10062.80       0  \n",
       "7        119346.88       1  \n",
       "8         74940.50       0  \n",
       "9         71725.73       0  "
      ]
     },
     "execution_count": 3,
     "metadata": {},
     "output_type": "execute_result"
    }
   ],
   "source": [
    "# открыть файл\n",
    "data.head(10)"
   ]
  },
  {
   "cell_type": "code",
   "execution_count": 4,
   "metadata": {},
   "outputs": [
    {
     "name": "stdout",
     "output_type": "stream",
     "text": [
      "<class 'pandas.core.frame.DataFrame'>\n",
      "RangeIndex: 10000 entries, 0 to 9999\n",
      "Data columns (total 14 columns):\n",
      " #   Column           Non-Null Count  Dtype  \n",
      "---  ------           --------------  -----  \n",
      " 0   RowNumber        10000 non-null  int64  \n",
      " 1   CustomerId       10000 non-null  int64  \n",
      " 2   Surname          10000 non-null  object \n",
      " 3   CreditScore      10000 non-null  int64  \n",
      " 4   Geography        10000 non-null  object \n",
      " 5   Gender           10000 non-null  object \n",
      " 6   Age              10000 non-null  int64  \n",
      " 7   Tenure           9091 non-null   float64\n",
      " 8   Balance          10000 non-null  float64\n",
      " 9   NumOfProducts    10000 non-null  int64  \n",
      " 10  HasCrCard        10000 non-null  int64  \n",
      " 11  IsActiveMember   10000 non-null  int64  \n",
      " 12  EstimatedSalary  10000 non-null  float64\n",
      " 13  Exited           10000 non-null  int64  \n",
      "dtypes: float64(3), int64(8), object(3)\n",
      "memory usage: 1.1+ MB\n"
     ]
    }
   ],
   "source": [
    "# изучить файл: метод info()\n",
    "data.info()"
   ]
  },
  {
   "cell_type": "markdown",
   "metadata": {},
   "source": [
    "Пропуски обнаружены только в столбце <code>Tenure</code>. Определить причину возникновения пропусков тяжело, попробуем заполнить пропуски нулевыми значениями."
   ]
  },
  {
   "cell_type": "code",
   "execution_count": 5,
   "metadata": {},
   "outputs": [],
   "source": [
    "# заполнить пропуски в Tenure\n",
    "data['Tenure'] = data['Tenure'].fillna(0)"
   ]
  },
  {
   "cell_type": "markdown",
   "metadata": {},
   "source": [
    "Столбец <code>Tenure</code> в исходном датасете имеет тип <i>float</i>, хотя должно быть <i>int</i>, так как количество лет - целое число."
   ]
  },
  {
   "cell_type": "code",
   "execution_count": 6,
   "metadata": {},
   "outputs": [],
   "source": [
    "data['Tenure'] = data['Tenure'].astype('int')"
   ]
  },
  {
   "cell_type": "code",
   "execution_count": 7,
   "metadata": {},
   "outputs": [
    {
     "data": {
      "image/png": "[encoded data removed]",
      "text/plain": [
       "<Figure size 720x720 with 12 Axes>"
      ]
     },
     "metadata": {
      "needs_background": "light"
     },
     "output_type": "display_data"
    }
   ],
   "source": [
    "# изучить файл: гистограммы\n",
    "data.hist(figsize=(10, 10));"
   ]
  },
  {
   "cell_type": "code",
   "execution_count": 8,
   "metadata": {},
   "outputs": [
    {
     "data": {
      "text/html": [
       "<div>\n",
       "<style scoped>\n",
       "    .dataframe tbody tr th:only-of-type {\n",
       "        vertical-align: middle;\n",
       "    }\n",
       "\n",
       "    .dataframe tbody tr th {\n",
       "        vertical-align: top;\n",
       "    }\n",
       "\n",
       "    .dataframe thead th {\n",
       "        text-align: right;\n",
       "    }\n",
       "</style>\n",
       "<table border=\"1\" class=\"dataframe\">\n",
       "  <thead>\n",
       "    <tr style=\"text-align: right;\">\n",
       "      <th></th>\n",
       "      <th>RowNumber</th>\n",
       "      <th>CustomerId</th>\n",
       "      <th>CreditScore</th>\n",
       "      <th>Age</th>\n",
       "      <th>Tenure</th>\n",
       "      <th>Balance</th>\n",
       "      <th>NumOfProducts</th>\n",
       "      <th>HasCrCard</th>\n",
       "      <th>IsActiveMember</th>\n",
       "      <th>EstimatedSalary</th>\n",
       "      <th>Exited</th>\n",
       "    </tr>\n",
       "  </thead>\n",
       "  <tbody>\n",
       "    <tr>\n",
       "      <th>count</th>\n",
       "      <td>10000.00000</td>\n",
       "      <td>1.000000e+04</td>\n",
       "      <td>10000.000000</td>\n",
       "      <td>10000.000000</td>\n",
       "      <td>10000.000000</td>\n",
       "      <td>10000.000000</td>\n",
       "      <td>10000.000000</td>\n",
       "      <td>10000.00000</td>\n",
       "      <td>10000.000000</td>\n",
       "      <td>10000.000000</td>\n",
       "      <td>10000.000000</td>\n",
       "    </tr>\n",
       "    <tr>\n",
       "      <th>mean</th>\n",
       "      <td>5000.50000</td>\n",
       "      <td>1.569094e+07</td>\n",
       "      <td>650.528800</td>\n",
       "      <td>38.921800</td>\n",
       "      <td>4.543400</td>\n",
       "      <td>76485.889288</td>\n",
       "      <td>1.530200</td>\n",
       "      <td>0.70550</td>\n",
       "      <td>0.515100</td>\n",
       "      <td>100090.239881</td>\n",
       "      <td>0.203700</td>\n",
       "    </tr>\n",
       "    <tr>\n",
       "      <th>std</th>\n",
       "      <td>2886.89568</td>\n",
       "      <td>7.193619e+04</td>\n",
       "      <td>96.653299</td>\n",
       "      <td>10.487806</td>\n",
       "      <td>3.111573</td>\n",
       "      <td>62397.405202</td>\n",
       "      <td>0.581654</td>\n",
       "      <td>0.45584</td>\n",
       "      <td>0.499797</td>\n",
       "      <td>57510.492818</td>\n",
       "      <td>0.402769</td>\n",
       "    </tr>\n",
       "    <tr>\n",
       "      <th>min</th>\n",
       "      <td>1.00000</td>\n",
       "      <td>1.556570e+07</td>\n",
       "      <td>350.000000</td>\n",
       "      <td>18.000000</td>\n",
       "      <td>0.000000</td>\n",
       "      <td>0.000000</td>\n",
       "      <td>1.000000</td>\n",
       "      <td>0.00000</td>\n",
       "      <td>0.000000</td>\n",
       "      <td>11.580000</td>\n",
       "      <td>0.000000</td>\n",
       "    </tr>\n",
       "    <tr>\n",
       "      <th>25%</th>\n",
       "      <td>2500.75000</td>\n",
       "      <td>1.562853e+07</td>\n",
       "      <td>584.000000</td>\n",
       "      <td>32.000000</td>\n",
       "      <td>2.000000</td>\n",
       "      <td>0.000000</td>\n",
       "      <td>1.000000</td>\n",
       "      <td>0.00000</td>\n",
       "      <td>0.000000</td>\n",
       "      <td>51002.110000</td>\n",
       "      <td>0.000000</td>\n",
       "    </tr>\n",
       "    <tr>\n",
       "      <th>50%</th>\n",
       "      <td>5000.50000</td>\n",
       "      <td>1.569074e+07</td>\n",
       "      <td>652.000000</td>\n",
       "      <td>37.000000</td>\n",
       "      <td>4.000000</td>\n",
       "      <td>97198.540000</td>\n",
       "      <td>1.000000</td>\n",
       "      <td>1.00000</td>\n",
       "      <td>1.000000</td>\n",
       "      <td>100193.915000</td>\n",
       "      <td>0.000000</td>\n",
       "    </tr>\n",
       "    <tr>\n",
       "      <th>75%</th>\n",
       "      <td>7500.25000</td>\n",
       "      <td>1.575323e+07</td>\n",
       "      <td>718.000000</td>\n",
       "      <td>44.000000</td>\n",
       "      <td>7.000000</td>\n",
       "      <td>127644.240000</td>\n",
       "      <td>2.000000</td>\n",
       "      <td>1.00000</td>\n",
       "      <td>1.000000</td>\n",
       "      <td>149388.247500</td>\n",
       "      <td>0.000000</td>\n",
       "    </tr>\n",
       "    <tr>\n",
       "      <th>max</th>\n",
       "      <td>10000.00000</td>\n",
       "      <td>1.581569e+07</td>\n",
       "      <td>850.000000</td>\n",
       "      <td>92.000000</td>\n",
       "      <td>10.000000</td>\n",
       "      <td>250898.090000</td>\n",
       "      <td>4.000000</td>\n",
       "      <td>1.00000</td>\n",
       "      <td>1.000000</td>\n",
       "      <td>199992.480000</td>\n",
       "      <td>1.000000</td>\n",
       "    </tr>\n",
       "  </tbody>\n",
       "</table>\n",
       "</div>"
      ],
      "text/plain": [
       "         RowNumber    CustomerId   CreditScore           Age        Tenure  \\\n",
       "count  10000.00000  1.000000e+04  10000.000000  10000.000000  10000.000000   \n",
       "mean    5000.50000  1.569094e+07    650.528800     38.921800      4.543400   \n",
       "std     2886.89568  7.193619e+04     96.653299     10.487806      3.111573   \n",
       "min        1.00000  1.556570e+07    350.000000     18.000000      0.000000   \n",
       "25%     2500.75000  1.562853e+07    584.000000     32.000000      2.000000   \n",
       "50%     5000.50000  1.569074e+07    652.000000     37.000000      4.000000   \n",
       "75%     7500.25000  1.575323e+07    718.000000     44.000000      7.000000   \n",
       "max    10000.00000  1.581569e+07    850.000000     92.000000     10.000000   \n",
       "\n",
       "             Balance  NumOfProducts    HasCrCard  IsActiveMember  \\\n",
       "count   10000.000000   10000.000000  10000.00000    10000.000000   \n",
       "mean    76485.889288       1.530200      0.70550        0.515100   \n",
       "std     62397.405202       0.581654      0.45584        0.499797   \n",
       "min         0.000000       1.000000      0.00000        0.000000   \n",
       "25%         0.000000       1.000000      0.00000        0.000000   \n",
       "50%     97198.540000       1.000000      1.00000        1.000000   \n",
       "75%    127644.240000       2.000000      1.00000        1.000000   \n",
       "max    250898.090000       4.000000      1.00000        1.000000   \n",
       "\n",
       "       EstimatedSalary        Exited  \n",
       "count     10000.000000  10000.000000  \n",
       "mean     100090.239881      0.203700  \n",
       "std       57510.492818      0.402769  \n",
       "min          11.580000      0.000000  \n",
       "25%       51002.110000      0.000000  \n",
       "50%      100193.915000      0.000000  \n",
       "75%      149388.247500      0.000000  \n",
       "max      199992.480000      1.000000  "
      ]
     },
     "execution_count": 8,
     "metadata": {},
     "output_type": "execute_result"
    }
   ],
   "source": [
    "# изучение данных: метод describe()\n",
    "data.describe()"
   ]
  },
  {
   "cell_type": "markdown",
   "metadata": {},
   "source": [
    "Минимальное значение в <code>EstimatedSalary</code> 11.58 выглядит подозрительным, так как предполагаемая зарплата 11.58 кажется довольно маленькой. Остальные значения не выглядят аномальными."
   ]
  },
  {
   "cell_type": "code",
   "execution_count": 9,
   "metadata": {},
   "outputs": [
    {
     "data": {
      "text/plain": [
       "2362     11.58\n",
       "9647     90.07\n",
       "9010     91.75\n",
       "5548     96.27\n",
       "4989    106.67\n",
       "7565    123.07\n",
       "2498    142.81\n",
       "8722    143.34\n",
       "4774    178.19\n",
       "1451    216.27\n",
       "1462    236.45\n",
       "3446    247.36\n",
       "8502    287.99\n",
       "9649    332.81\n",
       "2046    343.38\n",
       "396     371.05\n",
       "393     417.41\n",
       "5675    428.23\n",
       "5120    440.20\n",
       "925     447.73\n",
       "Name: EstimatedSalary, dtype: float64"
      ]
     },
     "execution_count": 9,
     "metadata": {},
     "output_type": "execute_result"
    }
   ],
   "source": [
    "# отсортировать значения в EstimatedSalary\n",
    "data['EstimatedSalary'].sort_values().head(20)"
   ]
  },
  {
   "cell_type": "code",
   "execution_count": 10,
   "metadata": {},
   "outputs": [
    {
     "data": {
      "text/plain": [
       "<AxesSubplot:>"
      ]
     },
     "execution_count": 10,
     "metadata": {},
     "output_type": "execute_result"
    },
    {
     "data": {
      "image/png": "[encoded data removed]",
      "text/plain": [
       "<Figure size 432x288 with 1 Axes>"
      ]
     },
     "metadata": {
      "needs_background": "light"
     },
     "output_type": "display_data"
    }
   ],
   "source": [
    "# отсортировать значения в EstimatedSalary\n",
    "data['EstimatedSalary'].hist(bins=10, range=(0,300))"
   ]
  },
  {
   "cell_type": "markdown",
   "metadata": {},
   "source": [
    "Видим, что только у одного человека предполагаемая зарплата составляет 11.58. Предполагаемая зарплата до 200 выглядит довольно маленькой, поэтому удалим эти значения"
   ]
  },
  {
   "cell_type": "code",
   "execution_count": 11,
   "metadata": {},
   "outputs": [],
   "source": [
    "# удалить строки, где EstimatedSalary меньше 200\n",
    "data = data[data.EstimatedSalary > 200]"
   ]
  },
  {
   "cell_type": "code",
   "execution_count": 12,
   "metadata": {},
   "outputs": [
    {
     "data": {
      "text/plain": [
       "0"
      ]
     },
     "execution_count": 12,
     "metadata": {},
     "output_type": "execute_result"
    }
   ],
   "source": [
    "# поиск дубликатов\n",
    "data.duplicated().sum()"
   ]
  },
  {
   "cell_type": "markdown",
   "metadata": {},
   "source": [
    "Дубликатов нет."
   ]
  },
  {
   "cell_type": "code",
   "execution_count": 13,
   "metadata": {},
   "outputs": [
    {
     "data": {
      "text/plain": [
       "(9991, 14)"
      ]
     },
     "execution_count": 13,
     "metadata": {},
     "output_type": "execute_result"
    }
   ],
   "source": [
    "# определить размер data\n",
    "data.shape"
   ]
  },
  {
   "cell_type": "markdown",
   "metadata": {},
   "source": [
    "<b>ИТОГИ</b>\n",
    "1. Импортирована библиотека pandas и открыт файл.\n",
    "2. Изучен файл выводом первых 10 строк.\n",
    "3. Изучен файл методом <i>info()</i>.\n",
    "4. Построены гистограммы.  \n",
    "5. Тип данных в <code>Tenure</code> изменён на <i>int</i>.  \n",
    "6. Удалены строки, в которых <code>EstimatedSalary</code> меньше 200."
   ]
  },
  {
   "cell_type": "markdown",
   "metadata": {},
   "source": [
    "## Исследование задачи"
   ]
  },
  {
   "cell_type": "markdown",
   "metadata": {},
   "source": [
    "### Подготовка данных"
   ]
  },
  {
   "cell_type": "markdown",
   "metadata": {},
   "source": [
    "В данных есть столбцы, которые дальше не будут учитываться при обучении и изучении моделей. Это столбцы <code>RowNumber</code>, <code>CustomerId</code>, <code>Surname</code>."
   ]
  },
  {
   "cell_type": "code",
   "execution_count": 14,
   "metadata": {},
   "outputs": [
    {
     "data": {
      "text/html": [
       "<div>\n",
       "<style scoped>\n",
       "    .dataframe tbody tr th:only-of-type {\n",
       "        vertical-align: middle;\n",
       "    }\n",
       "\n",
       "    .dataframe tbody tr th {\n",
       "        vertical-align: top;\n",
       "    }\n",
       "\n",
       "    .dataframe thead th {\n",
       "        text-align: right;\n",
       "    }\n",
       "</style>\n",
       "<table border=\"1\" class=\"dataframe\">\n",
       "  <thead>\n",
       "    <tr style=\"text-align: right;\">\n",
       "      <th></th>\n",
       "      <th>CreditScore</th>\n",
       "      <th>Geography</th>\n",
       "      <th>Gender</th>\n",
       "      <th>Age</th>\n",
       "      <th>Tenure</th>\n",
       "      <th>Balance</th>\n",
       "      <th>NumOfProducts</th>\n",
       "      <th>HasCrCard</th>\n",
       "      <th>IsActiveMember</th>\n",
       "      <th>EstimatedSalary</th>\n",
       "      <th>Exited</th>\n",
       "    </tr>\n",
       "  </thead>\n",
       "  <tbody>\n",
       "    <tr>\n",
       "      <th>0</th>\n",
       "      <td>619</td>\n",
       "      <td>France</td>\n",
       "      <td>Female</td>\n",
       "      <td>42</td>\n",
       "      <td>2</td>\n",
       "      <td>0.00</td>\n",
       "      <td>1</td>\n",
       "      <td>1</td>\n",
       "      <td>1</td>\n",
       "      <td>101348.88</td>\n",
       "      <td>1</td>\n",
       "    </tr>\n",
       "    <tr>\n",
       "      <th>1</th>\n",
       "      <td>608</td>\n",
       "      <td>Spain</td>\n",
       "      <td>Female</td>\n",
       "      <td>41</td>\n",
       "      <td>1</td>\n",
       "      <td>83807.86</td>\n",
       "      <td>1</td>\n",
       "      <td>0</td>\n",
       "      <td>1</td>\n",
       "      <td>112542.58</td>\n",
       "      <td>0</td>\n",
       "    </tr>\n",
       "    <tr>\n",
       "      <th>2</th>\n",
       "      <td>502</td>\n",
       "      <td>France</td>\n",
       "      <td>Female</td>\n",
       "      <td>42</td>\n",
       "      <td>8</td>\n",
       "      <td>159660.80</td>\n",
       "      <td>3</td>\n",
       "      <td>1</td>\n",
       "      <td>0</td>\n",
       "      <td>113931.57</td>\n",
       "      <td>1</td>\n",
       "    </tr>\n",
       "    <tr>\n",
       "      <th>3</th>\n",
       "      <td>699</td>\n",
       "      <td>France</td>\n",
       "      <td>Female</td>\n",
       "      <td>39</td>\n",
       "      <td>1</td>\n",
       "      <td>0.00</td>\n",
       "      <td>2</td>\n",
       "      <td>0</td>\n",
       "      <td>0</td>\n",
       "      <td>93826.63</td>\n",
       "      <td>0</td>\n",
       "    </tr>\n",
       "    <tr>\n",
       "      <th>4</th>\n",
       "      <td>850</td>\n",
       "      <td>Spain</td>\n",
       "      <td>Female</td>\n",
       "      <td>43</td>\n",
       "      <td>2</td>\n",
       "      <td>125510.82</td>\n",
       "      <td>1</td>\n",
       "      <td>1</td>\n",
       "      <td>1</td>\n",
       "      <td>79084.10</td>\n",
       "      <td>0</td>\n",
       "    </tr>\n",
       "  </tbody>\n",
       "</table>\n",
       "</div>"
      ],
      "text/plain": [
       "   CreditScore Geography  Gender  Age  Tenure    Balance  NumOfProducts  \\\n",
       "0          619    France  Female   42       2       0.00              1   \n",
       "1          608     Spain  Female   41       1   83807.86              1   \n",
       "2          502    France  Female   42       8  159660.80              3   \n",
       "3          699    France  Female   39       1       0.00              2   \n",
       "4          850     Spain  Female   43       2  125510.82              1   \n",
       "\n",
       "   HasCrCard  IsActiveMember  EstimatedSalary  Exited  \n",
       "0          1               1        101348.88       1  \n",
       "1          0               1        112542.58       0  \n",
       "2          1               0        113931.57       1  \n",
       "3          0               0         93826.63       0  \n",
       "4          1               1         79084.10       0  "
      ]
     },
     "execution_count": 14,
     "metadata": {},
     "output_type": "execute_result"
    }
   ],
   "source": [
    "# удалить столбцы\n",
    "data = data.drop(['RowNumber', 'CustomerId', 'Surname'], axis=1)\n",
    "data.head()"
   ]
  },
  {
   "cell_type": "code",
   "execution_count": 15,
   "metadata": {},
   "outputs": [
    {
     "data": {
      "text/plain": [
       "(9991, 11)"
      ]
     },
     "execution_count": 15,
     "metadata": {},
     "output_type": "execute_result"
    }
   ],
   "source": [
    "data.shape"
   ]
  },
  {
   "cell_type": "code",
   "execution_count": 16,
   "metadata": {
    "scrolled": true
   },
   "outputs": [
    {
     "data": {
      "text/html": [
       "<div>\n",
       "<style scoped>\n",
       "    .dataframe tbody tr th:only-of-type {\n",
       "        vertical-align: middle;\n",
       "    }\n",
       "\n",
       "    .dataframe tbody tr th {\n",
       "        vertical-align: top;\n",
       "    }\n",
       "\n",
       "    .dataframe thead th {\n",
       "        text-align: right;\n",
       "    }\n",
       "</style>\n",
       "<table border=\"1\" class=\"dataframe\">\n",
       "  <thead>\n",
       "    <tr style=\"text-align: right;\">\n",
       "      <th></th>\n",
       "      <th>CreditScore</th>\n",
       "      <th>Age</th>\n",
       "      <th>Tenure</th>\n",
       "      <th>Balance</th>\n",
       "      <th>NumOfProducts</th>\n",
       "      <th>HasCrCard</th>\n",
       "      <th>IsActiveMember</th>\n",
       "      <th>EstimatedSalary</th>\n",
       "      <th>Exited</th>\n",
       "      <th>Geography_Germany</th>\n",
       "      <th>Geography_Spain</th>\n",
       "      <th>Gender_Male</th>\n",
       "    </tr>\n",
       "  </thead>\n",
       "  <tbody>\n",
       "    <tr>\n",
       "      <th>0</th>\n",
       "      <td>619</td>\n",
       "      <td>42</td>\n",
       "      <td>2</td>\n",
       "      <td>0.00</td>\n",
       "      <td>1</td>\n",
       "      <td>1</td>\n",
       "      <td>1</td>\n",
       "      <td>101348.88</td>\n",
       "      <td>1</td>\n",
       "      <td>0</td>\n",
       "      <td>0</td>\n",
       "      <td>0</td>\n",
       "    </tr>\n",
       "    <tr>\n",
       "      <th>1</th>\n",
       "      <td>608</td>\n",
       "      <td>41</td>\n",
       "      <td>1</td>\n",
       "      <td>83807.86</td>\n",
       "      <td>1</td>\n",
       "      <td>0</td>\n",
       "      <td>1</td>\n",
       "      <td>112542.58</td>\n",
       "      <td>0</td>\n",
       "      <td>0</td>\n",
       "      <td>1</td>\n",
       "      <td>0</td>\n",
       "    </tr>\n",
       "    <tr>\n",
       "      <th>2</th>\n",
       "      <td>502</td>\n",
       "      <td>42</td>\n",
       "      <td>8</td>\n",
       "      <td>159660.80</td>\n",
       "      <td>3</td>\n",
       "      <td>1</td>\n",
       "      <td>0</td>\n",
       "      <td>113931.57</td>\n",
       "      <td>1</td>\n",
       "      <td>0</td>\n",
       "      <td>0</td>\n",
       "      <td>0</td>\n",
       "    </tr>\n",
       "    <tr>\n",
       "      <th>3</th>\n",
       "      <td>699</td>\n",
       "      <td>39</td>\n",
       "      <td>1</td>\n",
       "      <td>0.00</td>\n",
       "      <td>2</td>\n",
       "      <td>0</td>\n",
       "      <td>0</td>\n",
       "      <td>93826.63</td>\n",
       "      <td>0</td>\n",
       "      <td>0</td>\n",
       "      <td>0</td>\n",
       "      <td>0</td>\n",
       "    </tr>\n",
       "    <tr>\n",
       "      <th>4</th>\n",
       "      <td>850</td>\n",
       "      <td>43</td>\n",
       "      <td>2</td>\n",
       "      <td>125510.82</td>\n",
       "      <td>1</td>\n",
       "      <td>1</td>\n",
       "      <td>1</td>\n",
       "      <td>79084.10</td>\n",
       "      <td>0</td>\n",
       "      <td>0</td>\n",
       "      <td>1</td>\n",
       "      <td>0</td>\n",
       "    </tr>\n",
       "  </tbody>\n",
       "</table>\n",
       "</div>"
      ],
      "text/plain": [
       "   CreditScore  Age  Tenure    Balance  NumOfProducts  HasCrCard  \\\n",
       "0          619   42       2       0.00              1          1   \n",
       "1          608   41       1   83807.86              1          0   \n",
       "2          502   42       8  159660.80              3          1   \n",
       "3          699   39       1       0.00              2          0   \n",
       "4          850   43       2  125510.82              1          1   \n",
       "\n",
       "   IsActiveMember  EstimatedSalary  Exited  Geography_Germany  \\\n",
       "0               1        101348.88       1                  0   \n",
       "1               1        112542.58       0                  0   \n",
       "2               0        113931.57       1                  0   \n",
       "3               0         93826.63       0                  0   \n",
       "4               1         79084.10       0                  0   \n",
       "\n",
       "   Geography_Spain  Gender_Male  \n",
       "0                0            0  \n",
       "1                1            0  \n",
       "2                0            0  \n",
       "3                0            0  \n",
       "4                1            0  "
      ]
     },
     "execution_count": 16,
     "metadata": {},
     "output_type": "execute_result"
    }
   ],
   "source": [
    "# преобразуем данные техникой OHE, чтобы не попасть в дамми-ловушку, применяем аргумент drop_first функции pd.get_dummies()\n",
    "data = pd.get_dummies(data, drop_first=True)\n",
    "data.head()"
   ]
  },
  {
   "cell_type": "code",
   "execution_count": 17,
   "metadata": {},
   "outputs": [
    {
     "data": {
      "text/plain": [
       "(9991, 12)"
      ]
     },
     "execution_count": 17,
     "metadata": {},
     "output_type": "execute_result"
    }
   ],
   "source": [
    "data.shape"
   ]
  },
  {
   "cell_type": "markdown",
   "metadata": {},
   "source": [
    "<b>Вывод:</b> вызовом <i>pd.get_dummies()</i> c аргументом <i>drop_first</i> преобразовался не только столбец <code>Gender</code>, но и столбец <code>Geography</code>, так как в нём всего 3 уникальных значения."
   ]
  },
  {
   "cell_type": "markdown",
   "metadata": {},
   "source": [
    "### Создание выборок"
   ]
  },
  {
   "cell_type": "markdown",
   "metadata": {},
   "source": [
    "#### Обучающая выборка"
   ]
  },
  {
   "cell_type": "code",
   "execution_count": 18,
   "metadata": {},
   "outputs": [],
   "source": [
    "# создание обучающей выборки\n",
    "df_test, df_train = train_test_split(data, test_size=0.6, random_state=12345)"
   ]
  },
  {
   "cell_type": "code",
   "execution_count": 19,
   "metadata": {},
   "outputs": [],
   "source": [
    "# объявить переменные-признаки (переменные для признаков и целевого признака)\n",
    "features_train = df_train.drop(['Exited'], axis=1)\n",
    "target_train = df_train['Exited']"
   ]
  },
  {
   "cell_type": "code",
   "execution_count": 20,
   "metadata": {},
   "outputs": [
    {
     "name": "stdout",
     "output_type": "stream",
     "text": [
      "(5995, 11)\n",
      "(5995,)\n"
     ]
    }
   ],
   "source": [
    "# размеры таблиц, которые хранятся в переменных\n",
    "print(features_train.shape)\n",
    "print(target_train.shape)"
   ]
  },
  {
   "cell_type": "markdown",
   "metadata": {},
   "source": [
    "#### Тестовая выборка"
   ]
  },
  {
   "cell_type": "code",
   "execution_count": 21,
   "metadata": {},
   "outputs": [],
   "source": [
    "# создание тестовой и валидационной выборок\n",
    "df_valid, df_test = train_test_split(df_test, test_size=0.5, random_state=12345)"
   ]
  },
  {
   "cell_type": "code",
   "execution_count": 22,
   "metadata": {},
   "outputs": [],
   "source": [
    "# объявить переменные-признаки (переменные для признаков и целевого признака)\n",
    "features_test = df_test.drop(['Exited'], axis=1)\n",
    "target_test = df_test['Exited']"
   ]
  },
  {
   "cell_type": "code",
   "execution_count": 23,
   "metadata": {},
   "outputs": [
    {
     "name": "stdout",
     "output_type": "stream",
     "text": [
      "(1998, 11)\n",
      "(1998,)\n"
     ]
    }
   ],
   "source": [
    "# размеры таблиц, которые хранятся в переменных test\n",
    "print(features_test.shape)\n",
    "print(target_test.shape)"
   ]
  },
  {
   "cell_type": "markdown",
   "metadata": {},
   "source": [
    "#### Валидационная выборка"
   ]
  },
  {
   "cell_type": "code",
   "execution_count": 24,
   "metadata": {},
   "outputs": [],
   "source": [
    "# объявить переменные-признаки (переменные для признаков и целевого признака)\n",
    "features_valid = df_valid.drop(['Exited'], axis=1)\n",
    "target_valid = df_valid['Exited']"
   ]
  },
  {
   "cell_type": "code",
   "execution_count": 25,
   "metadata": {},
   "outputs": [
    {
     "name": "stdout",
     "output_type": "stream",
     "text": [
      "(1998, 11)\n",
      "(1998,)\n"
     ]
    }
   ],
   "source": [
    "# размеры таблиц, которые хранятся в переменных valid\n",
    "print(features_valid.shape)\n",
    "print(target_valid.shape)"
   ]
  },
  {
   "cell_type": "markdown",
   "metadata": {},
   "source": [
    "<b>Вывод:</b> данные были разделены на обучающую, тестовую и валидационную выборки."
   ]
  },
  {
   "cell_type": "markdown",
   "metadata": {},
   "source": [
    "### Масштабирование признаков"
   ]
  },
  {
   "cell_type": "markdown",
   "metadata": {},
   "source": [
    "В данных есть столбцы <code>Age</code> и <code>Balance</code>. Возможен возраст от 18 до 92 лет, а баланс на счёте — от 0  до 250 898. Значения и их разбросы в столбце <code>Balance</code> больше, поэтому алгоритм автоматически решит, что этот признак важнее возраста. А это не так: все признаки значимы.  \n",
    "\n",
    "Чтобы избежать этой ловушки, необходимо масштабировать признаки — привести к одному масштабу."
   ]
  },
  {
   "cell_type": "markdown",
   "metadata": {},
   "source": [
    "В переменной <code>numeric</code> сохраним список всех численных признаков."
   ]
  },
  {
   "cell_type": "code",
   "execution_count": 26,
   "metadata": {},
   "outputs": [],
   "source": [
    "# сохранить список всех численных признаков\n",
    "numeric = ['CreditScore', 'Age', 'Tenure', 'Balance', 'NumOfProducts', 'EstimatedSalary']"
   ]
  },
  {
   "cell_type": "markdown",
   "metadata": {},
   "source": [
    "Необходимо создать объект структуры для стандартизации данных и настроить его на обучающих данных. Настройка — это вычисление среднего и дисперсии."
   ]
  },
  {
   "cell_type": "code",
   "execution_count": 27,
   "metadata": {},
   "outputs": [
    {
     "data": {
      "text/plain": [
       "StandardScaler()"
      ]
     },
     "execution_count": 27,
     "metadata": {},
     "output_type": "execute_result"
    }
   ],
   "source": [
    "# создать объект для стандартизации данных\n",
    "scaler = StandardScaler()\n",
    "scaler.fit(features_train[numeric])"
   ]
  },
  {
   "cell_type": "markdown",
   "metadata": {},
   "source": [
    "Далее необходимо сохранить преобразованные обучающую, тестовую и валидационную выборки в переменных: features_train, features_test и features_valid"
   ]
  },
  {
   "cell_type": "code",
   "execution_count": 28,
   "metadata": {},
   "outputs": [],
   "source": [
    "# сохранить преобразованную обучающую выборку в переменной features_train\n",
    "features_train[numeric] = scaler.transform(features_train[numeric])\n",
    "\n",
    "# сохранить преобразованную тестовую выборку в переменной features_test\n",
    "features_test[numeric] = scaler.transform(features_test[numeric])\n",
    "\n",
    "# сохранить преобразованную валидационную выборку в переменной features_valid\n",
    "features_valid[numeric] = scaler.transform(features_valid[numeric])"
   ]
  },
  {
   "cell_type": "code",
   "execution_count": 29,
   "metadata": {},
   "outputs": [
    {
     "name": "stdout",
     "output_type": "stream",
     "text": [
      "      CreditScore       Age    Tenure   Balance  NumOfProducts  HasCrCard  \\\n",
      "1328    -0.592677  2.175062 -0.495610  0.676091      -0.906539          0   \n",
      "8595     1.106538 -1.497346  0.148758  0.748018      -0.906539          1   \n",
      "2687    -1.468030  0.480104 -0.495610  0.631664       0.829232          0   \n",
      "6471     2.053979  0.103447 -1.462161 -1.211521       0.829232          1   \n",
      "3233    -0.572081 -0.273210  0.470942  0.157778      -0.906539          1   \n",
      "\n",
      "      IsActiveMember  EstimatedSalary  Geography_Germany  Geography_Spain  \\\n",
      "1328               1        -1.306447                  1                0   \n",
      "8595               0         0.045037                  1                0   \n",
      "2687               0        -0.567716                  0                0   \n",
      "6471               0        -1.127828                  0                0   \n",
      "3233               1        -1.305799                  0                1   \n",
      "\n",
      "      Gender_Male  \n",
      "1328            0  \n",
      "8595            0  \n",
      "2687            1  \n",
      "6471            0  \n",
      "3233            1  \n",
      "      CreditScore       Age    Tenure   Balance  NumOfProducts  HasCrCard  \\\n",
      "4511    -0.170448  0.574269 -0.817793 -1.211521       4.300774          1   \n",
      "5576    -0.870731  2.457555 -0.173426  0.705891      -0.906539          1   \n",
      "4245     0.838783 -0.461539  1.115309  0.741621       0.829232          1   \n",
      "9995     1.240415  0.009283  0.148758 -1.211521       0.829232          1   \n",
      "3899     1.044748 -0.273210 -0.817793  0.702891      -0.906539          1   \n",
      "\n",
      "      IsActiveMember  EstimatedSalary  Geography_Germany  Geography_Spain  \\\n",
      "4511               0         0.020314                  0                0   \n",
      "5576               0         0.133790                  1                0   \n",
      "4245               0         1.532715                  0                0   \n",
      "9995               0        -0.062640                  0                0   \n",
      "3899               0         0.425877                  0                0   \n",
      "\n",
      "      Gender_Male  \n",
      "4511            0  \n",
      "5576            1  \n",
      "4245            0  \n",
      "9995            1  \n",
      "3899            0  \n",
      "      CreditScore       Age    Tenure   Balance  NumOfProducts  HasCrCard  \\\n",
      "5488    -2.477261 -0.367374  0.793126  0.659326      -0.906539          1   \n",
      "9712    -0.139553 -0.649867 -0.495610 -1.211521       0.829232          1   \n",
      "4708    -1.241468  0.480104  0.470942 -1.211521       0.829232          0   \n",
      "3887     0.025219  0.668433  0.148758 -1.211521       0.829232          1   \n",
      "2315     0.117904 -0.179046  0.470942 -1.211521       0.829232          1   \n",
      "\n",
      "      IsActiveMember  EstimatedSalary  Geography_Germany  Geography_Spain  \\\n",
      "5488               1         0.171546                  0                0   \n",
      "9712               1         1.703899                  0                0   \n",
      "4708               0        -0.764989                  0                1   \n",
      "3887               0        -0.872584                  0                0   \n",
      "2315               0        -0.846121                  0                0   \n",
      "\n",
      "      Gender_Male  \n",
      "5488            0  \n",
      "9712            1  \n",
      "4708            1  \n",
      "3887            0  \n",
      "2315            0  \n"
     ]
    }
   ],
   "source": [
    "# напечатать первые 5 строк таблиц\n",
    "print(features_train.head())\n",
    "print(features_test.head())\n",
    "print(features_valid.head())"
   ]
  },
  {
   "cell_type": "markdown",
   "metadata": {},
   "source": [
    "Появились отрицательные значения, но это нормально, так как теперь масштаб всех признаков теперь одинаковый."
   ]
  },
  {
   "cell_type": "markdown",
   "metadata": {},
   "source": [
    "<b>Вывод:</b> проведено масштабирование признаков - они приведены к одному масштабу."
   ]
  },
  {
   "cell_type": "markdown",
   "metadata": {},
   "source": [
    "### Исследование модели"
   ]
  },
  {
   "cell_type": "markdown",
   "metadata": {},
   "source": [
    "#### DecisionTreeClassifier"
   ]
  },
  {
   "cell_type": "code",
   "execution_count": 30,
   "metadata": {},
   "outputs": [],
   "source": [
    "# DecisionTreeClassifier\n",
    "model = DecisionTreeClassifier(random_state=12345, max_depth=20) # обучить модель с заданной глубиной дерева\n",
    "model.fit(features_train, target_train) # обучить модель\n",
    "predictions = model.predict(features_valid) # получить предсказания модели\n",
    "result = accuracy_score(target_valid, predictions) # посчитать качество модели"
   ]
  },
  {
   "cell_type": "code",
   "execution_count": 31,
   "metadata": {},
   "outputs": [
    {
     "name": "stdout",
     "output_type": "stream",
     "text": [
      "accuracy лучшей модели: 0.7932932932932933\n"
     ]
    }
   ],
   "source": [
    "# вывести результаты\n",
    "print('accuracy лучшей модели:', result)"
   ]
  },
  {
   "cell_type": "markdown",
   "metadata": {},
   "source": [
    "#### RandomForestClassifier"
   ]
  },
  {
   "cell_type": "code",
   "execution_count": 32,
   "metadata": {},
   "outputs": [],
   "source": [
    "# RandomForestClassifier\n",
    "model = RandomForestClassifier(random_state=12345, max_depth = 20, n_estimators=50, min_samples_leaf=3)\n",
    "model.fit(features_train, target_train) # обучить модель на тренировочной выборке\n",
    "result = model.score(features_valid, target_valid)"
   ]
  },
  {
   "cell_type": "code",
   "execution_count": 33,
   "metadata": {},
   "outputs": [
    {
     "name": "stdout",
     "output_type": "stream",
     "text": [
      "accuracy лучшей модели: 0.8658658658658659\n"
     ]
    }
   ],
   "source": [
    "# вывести результаты\n",
    "print('accuracy лучшей модели:', result)"
   ]
  },
  {
   "cell_type": "markdown",
   "metadata": {},
   "source": [
    "#### LogisticRegression"
   ]
  },
  {
   "cell_type": "code",
   "execution_count": 34,
   "metadata": {},
   "outputs": [],
   "source": [
    "# LogisticRegression\n",
    "model = LogisticRegression(random_state=12345, solver='liblinear', max_iter=1000)\n",
    "model.fit(features_train, target_train)\n",
    "predictions = model.predict(features_valid)\n",
    "accuracy = accuracy_score(predictions, target_valid)"
   ]
  },
  {
   "cell_type": "code",
   "execution_count": 35,
   "metadata": {},
   "outputs": [
    {
     "name": "stdout",
     "output_type": "stream",
     "text": [
      "accuracy лучшей модели: 0.8098098098098098\n"
     ]
    }
   ],
   "source": [
    "# вывести результаты\n",
    "print('accuracy лучшей модели:', accuracy)"
   ]
  },
  {
   "cell_type": "markdown",
   "metadata": {},
   "source": [
    "<b>Вывод:</b> исследованы модели.  \n",
    "accuracy лучшей модели DecisionTreeClassifier = 0.86  \n",
    "accuracy лучшей модели RandomForestClassifier = 0.85  \n",
    "accuracy лучшей модели LogisticRegression = 0.81"
   ]
  },
  {
   "cell_type": "markdown",
   "metadata": {},
   "source": [
    "### Проверка метрик"
   ]
  },
  {
   "cell_type": "markdown",
   "metadata": {},
   "source": [
    "#### DecisionTreeClassifier"
   ]
  },
  {
   "cell_type": "code",
   "execution_count": 36,
   "metadata": {},
   "outputs": [
    {
     "data": {
      "image/png": "[encoded data removed]",
      "text/plain": [
       "<Figure size 432x288 with 1 Axes>"
      ]
     },
     "metadata": {
      "needs_background": "light"
     },
     "output_type": "display_data"
    },
    {
     "name": "stdout",
     "output_type": "stream",
     "text": [
      "Матрица ошибок для DecisionTreeClassifier =\n",
      " [[1378  212]\n",
      " [ 201  207]]\n",
      "Полнота для DecisionTreeClassifier = 0.5073529411764706\n",
      "Точность для DecisionTreeClassifier = 0.49403341288782815\n",
      "F1-мера для DecisionTreeClassifier = 0.5006045949214026\n",
      "roc_auc_score для DecisionTreeClassifier = 0.6870098039215686\n"
     ]
    }
   ],
   "source": [
    "# построить матрицу ошибок на DecisionTreeClassifier\n",
    "model = DecisionTreeClassifier(random_state=12345, max_depth=20) # обучить модель с заданной глубиной дерева\n",
    "model.fit(features_train, target_train) # обучить модель\n",
    "predictions = model.predict(features_valid)\n",
    "\n",
    "probabilities_valid = model.predict_proba(features_valid)\n",
    "probabilities_one_valid = probabilities_valid[:, 1]\n",
    "\n",
    "fpr, tpr, thresholds = roc_curve(target_valid, probabilities_one_valid) \n",
    "\n",
    "plt.figure()\n",
    "\n",
    "# ROC-кривая случайной модели (выглядит как прямая)\n",
    "plt.plot([0, 1], [0, 1], linestyle='--')\n",
    "\n",
    "plt.plot(fpr, tpr)\n",
    "plt.xlim([0.0, 1.0])\n",
    "plt.ylim([0.0, 1.0])\n",
    "plt.xlabel('False Positive Rate')\n",
    "plt.ylabel('True Positive Rate')\n",
    "plt.title('ROC-кривая')\n",
    "plt.show() \n",
    "\n",
    "print('Матрица ошибок для DecisionTreeClassifier =\\n',confusion_matrix(target_valid, predictions))\n",
    "print('Полнота для DecisionTreeClassifier =', recall_score(target_valid, predictions))\n",
    "print('Точность для DecisionTreeClassifier =', precision_score(target_valid, predictions))\n",
    "print('F1-мера для DecisionTreeClassifier =', f1_score(target_valid, predictions))\n",
    "print('roc_auc_score для DecisionTreeClassifier =', roc_auc_score(target_valid, probabilities_one_valid))"
   ]
  },
  {
   "cell_type": "markdown",
   "metadata": {},
   "source": [
    "Высокое количество ложных позитивных предсказания (FP).  \n",
    "Полнота равна 0,51. Это неплохой результат.  \n",
    "Точность равна 0.49. Это не очень хороший результат.  \n",
    "F1-мера равна 0.50. Относительно хороший результат.  \n",
    "roc_auc равен 0.69."
   ]
  },
  {
   "cell_type": "markdown",
   "metadata": {},
   "source": [
    "#### RandomForestClassifier"
   ]
  },
  {
   "cell_type": "code",
   "execution_count": 37,
   "metadata": {},
   "outputs": [
    {
     "data": {
      "image/png": "[encoded data removed]",
      "text/plain": [
       "<Figure size 432x288 with 1 Axes>"
      ]
     },
     "metadata": {
      "needs_background": "light"
     },
     "output_type": "display_data"
    },
    {
     "name": "stdout",
     "output_type": "stream",
     "text": [
      "Матрица ошибок для DecisionTreeClassifier =\n",
      " [[1531   59]\n",
      " [ 209  199]]\n",
      "Полнота для RandomForestClassifier = 0.4877450980392157\n",
      "Точность для RandomForestClassifier = 0.7713178294573644\n",
      "F1-мера для RandomForestClassifier = 0.5975975975975976\n",
      "roc_auc_score для RandomForestClassifier = 0.8286772413367862\n"
     ]
    }
   ],
   "source": [
    "# построить матрицу ошибок на RandomForestClassifier\n",
    "model = RandomForestClassifier(random_state=12345, max_depth = 20, n_estimators=50, min_samples_leaf=3)\n",
    "model.fit(features_train, target_train) # обучить модель на тренировочной выборке\n",
    "predictions = model.predict(features_valid)\n",
    "\n",
    "probabilities_valid = model.predict_proba(features_valid)\n",
    "probabilities_one_valid = probabilities_valid[:, 1]\n",
    "\n",
    "fpr, tpr, thresholds = roc_curve(target_valid, probabilities_one_valid) \n",
    "\n",
    "plt.figure()\n",
    "\n",
    "# ROC-кривая случайной модели (выглядит как прямая)\n",
    "plt.plot([0, 1], [0, 1], linestyle='--')\n",
    "\n",
    "plt.plot(fpr, tpr)\n",
    "plt.xlim([0.0, 1.0])\n",
    "plt.ylim([0.0, 1.0])\n",
    "plt.xlabel('False Positive Rate')\n",
    "plt.ylabel('True Positive Rate')\n",
    "plt.title('ROC-кривая')\n",
    "plt.show() \n",
    "\n",
    "print('Матрица ошибок для DecisionTreeClassifier =\\n', confusion_matrix(target_valid, predictions))\n",
    "print('Полнота для RandomForestClassifier =', recall_score(target_valid, predictions))\n",
    "print('Точность для RandomForestClassifier =', precision_score(target_valid, predictions))\n",
    "print('F1-мера для RandomForestClassifier =', f1_score(target_valid, predictions))\n",
    "print('roc_auc_score для RandomForestClassifier =', roc_auc_score(target_valid, probabilities_one_valid))"
   ]
  },
  {
   "cell_type": "markdown",
   "metadata": {},
   "source": [
    "Высокое количество предсказаний FN.  \n",
    "Полнота равна 0,49. Это неплохой результат, но до 1 далеко.  \n",
    "Точность равна 0,77. Это относительно хороший результат.  \n",
    "Хорошее значение F1-меры."
   ]
  },
  {
   "cell_type": "markdown",
   "metadata": {},
   "source": [
    "#### LogisticRegression"
   ]
  },
  {
   "cell_type": "code",
   "execution_count": 38,
   "metadata": {},
   "outputs": [
    {
     "data": {
      "image/png": "[encoded data removed]",
      "text/plain": [
       "<Figure size 432x288 with 1 Axes>"
      ]
     },
     "metadata": {
      "needs_background": "light"
     },
     "output_type": "display_data"
    },
    {
     "name": "stdout",
     "output_type": "stream",
     "text": [
      "Матрица ошибок для DecisionTreeClassifier =\n",
      " [[1539   51]\n",
      " [ 329   79]]\n",
      "Полнота для RandomForestClassifier = 0.19362745098039216\n",
      "Точность для RandomForestClassifier = 0.6076923076923076\n",
      "F1-мера для RandomForestClassifier = 0.2936802973977695\n",
      "roc_auc_score для RandomForestClassifier = 0.7529982118633618\n"
     ]
    }
   ],
   "source": [
    "# построить матрицу ошибок на LogisticRegression\n",
    "model = LogisticRegression(random_state=12345, solver='liblinear', max_iter=1000)\n",
    "model.fit(features_train, target_train)\n",
    "predictions = model.predict(features_valid)\n",
    "\n",
    "probabilities_valid = model.predict_proba(features_valid)\n",
    "probabilities_one_valid = probabilities_valid[:, 1]\n",
    "\n",
    "fpr, tpr, thresholds = roc_curve(target_valid, probabilities_one_valid) \n",
    "\n",
    "plt.figure()\n",
    "\n",
    "# ROC-кривая случайной модели (выглядит как прямая)\n",
    "plt.plot([0, 1], [0, 1], linestyle='--')\n",
    "\n",
    "plt.plot(fpr, tpr)\n",
    "plt.xlim([0.0, 1.0])\n",
    "plt.ylim([0.0, 1.0])\n",
    "plt.xlabel('False Positive Rate')\n",
    "plt.ylabel('True Positive Rate')\n",
    "plt.title('ROC-кривая')\n",
    "plt.show() \n",
    "\n",
    "print('Матрица ошибок для DecisionTreeClassifier =\\n', confusion_matrix(target_valid, predictions))\n",
    "print('Полнота для RandomForestClassifier =', recall_score(target_valid, predictions))\n",
    "print('Точность для RandomForestClassifier =', precision_score(target_valid, predictions))\n",
    "print('F1-мера для RandomForestClassifier =', f1_score(target_valid, predictions))\n",
    "print('roc_auc_score для RandomForestClassifier =', roc_auc_score(target_valid, probabilities_one_valid))"
   ]
  },
  {
   "cell_type": "markdown",
   "metadata": {},
   "source": [
    "Высокое количество FN.  \n",
    "Полнота равна 0.16. Это очень низкое значение.  \n",
    "Точность равна 0.63. Относительно других моделей это хороший результат.  \n",
    "Очень низкое значение F1-меры, это из-за низкого качества модели.  "
   ]
  },
  {
   "cell_type": "markdown",
   "metadata": {},
   "source": [
    "## Борьба с дисбалансом"
   ]
  },
  {
   "cell_type": "markdown",
   "metadata": {},
   "source": [
    "### Работа с дисбалансом"
   ]
  },
  {
   "cell_type": "markdown",
   "metadata": {},
   "source": [
    "Перед тем, как бороться с дисбалансом, необходимо понять, что нам нужно сделать: увеличить выборку или её уменьшить. Для этого посмотрим, как выглядит дисбаланс."
   ]
  },
  {
   "cell_type": "code",
   "execution_count": 39,
   "metadata": {},
   "outputs": [
    {
     "data": {
      "text/plain": [
       "(5995,)"
      ]
     },
     "execution_count": 39,
     "metadata": {},
     "output_type": "execute_result"
    },
    {
     "data": {
      "image/png": "[encoded data removed]",
      "text/plain": [
       "<Figure size 360x360 with 1 Axes>"
      ]
     },
     "metadata": {
      "needs_background": "light"
     },
     "output_type": "display_data"
    }
   ],
   "source": [
    "# построить гистограмму, чтобы посмотреть на дисбаланс\n",
    "target_train.hist(figsize=(5,5))\n",
    "target_train.value_counts()\n",
    "target_train.shape"
   ]
  },
  {
   "cell_type": "markdown",
   "metadata": {},
   "source": [
    "#### Upsampled"
   ]
  },
  {
   "cell_type": "markdown",
   "metadata": {},
   "source": [
    "По гистограмме видим, что единиц примерно в 4 раза меньше, поэтому преувеличим количество наименьших классов ещё до обучения модели: продублируем 4 (отношение количества преобладающего класса к интересующему) раза наименьший класс."
   ]
  },
  {
   "cell_type": "markdown",
   "metadata": {},
   "source": [
    "Напишем функцию, где преобразование проходит в несколько этапов:\n",
    "- Разделить обучающую выборку на отрицательные и положительные объекты;\n",
    "- Скопировать несколько раз положительные объекты;\n",
    "- С учётом полученных данных создать новую обучающую выборку;\n",
    "- Перемешать данные: идущие друг за другом одинаковые вопросы не помогут обучению."
   ]
  },
  {
   "cell_type": "code",
   "execution_count": 40,
   "metadata": {},
   "outputs": [],
   "source": [
    "# функция для увеличения выборки\n",
    "def upsample(features, target, repeat):\n",
    "    features_zeros = features[target == 0]\n",
    "    features_ones = features[target == 1]\n",
    "    target_zeros = target[target == 0]\n",
    "    target_ones = target[target == 1]\n",
    "\n",
    "\n",
    "    features_upsampled = pd.concat([features_zeros] + [features_ones] * repeat)\n",
    "    target_upsampled = pd.concat([target_zeros] + [target_ones] * repeat)\n",
    "    \n",
    "    features_upsampled, target_upsampled = shuffle(\n",
    "        features_upsampled, target_upsampled, random_state=12345)\n",
    "    \n",
    "    return features_upsampled, target_upsampled"
   ]
  },
  {
   "cell_type": "code",
   "execution_count": 41,
   "metadata": {},
   "outputs": [],
   "source": [
    "# применить функцию\n",
    "features_upsampled, target_upsampled = upsample(features_train, target_train, 4)"
   ]
  },
  {
   "cell_type": "code",
   "execution_count": 42,
   "metadata": {},
   "outputs": [
    {
     "name": "stdout",
     "output_type": "stream",
     "text": [
      "1    0.503116\n",
      "0    0.496884\n",
      "Name: Exited, dtype: float64\n"
     ]
    },
    {
     "data": {
      "text/plain": [
       "(9628,)"
      ]
     },
     "execution_count": 42,
     "metadata": {},
     "output_type": "execute_result"
    },
    {
     "data": {
      "image/png": "[encoded data removed]",
      "text/plain": [
       "<Figure size 360x360 with 1 Axes>"
      ]
     },
     "metadata": {
      "needs_background": "light"
     },
     "output_type": "display_data"
    }
   ],
   "source": [
    "# построить гистограмму, чтобы посмотреть на дисбаланс\n",
    "target_upsampled.hist(figsize=(5,5))\n",
    "print(target_upsampled.value_counts(normalize=True))\n",
    "target_upsampled.shape"
   ]
  },
  {
   "cell_type": "markdown",
   "metadata": {},
   "source": [
    "<b>Вывод:</b> Количество 1 и 0 практически одинаковое."
   ]
  },
  {
   "cell_type": "markdown",
   "metadata": {},
   "source": [
    "#### Downsampled"
   ]
  },
  {
   "cell_type": "markdown",
   "metadata": {},
   "source": [
    "По гистограмме видим, что нулей примерно в 4 раза больше, поэтому уменьшим количество наибольших классов ещё до обучения модели: уменьшим в 4 (отношение количества преобладающего класса к интересующему) раза наибольший класс."
   ]
  },
  {
   "cell_type": "markdown",
   "metadata": {},
   "source": [
    "Преобразование проходит в несколько этапов:\n",
    "- Разделить обучающую выборку на отрицательные и положительные объекты;\n",
    "- Случайным образом отбросить часть из отрицательных объектов;\n",
    "- С учётом полученных данных создать новую обучающую выборку;\n",
    "- Перемешать данные. Положительные не должны идти следом за отрицательными: алгоритмам будет сложнее обучаться."
   ]
  },
  {
   "cell_type": "code",
   "execution_count": 43,
   "metadata": {},
   "outputs": [],
   "source": [
    "# функция\n",
    "def downsample(features, target, fraction):\n",
    "    features_zeros = features[target == 0]\n",
    "    features_ones = features[target == 1]\n",
    "    target_zeros = target[target == 0]\n",
    "    target_ones = target[target == 1]\n",
    "\n",
    "    features_downsampled = pd.concat(\n",
    "        [features_zeros.sample(frac=fraction, random_state=12345)] + [features_ones])\n",
    "    target_downsampled = pd.concat(\n",
    "        [target_zeros.sample(frac=fraction, random_state=12345)] + [target_ones])\n",
    "    \n",
    "    features_downsampled, target_downsampled = shuffle(\n",
    "        features_downsampled, target_downsampled, random_state=12345)\n",
    "    \n",
    "    return features_downsampled, target_downsampled"
   ]
  },
  {
   "cell_type": "code",
   "execution_count": 44,
   "metadata": {},
   "outputs": [],
   "source": [
    "# применить функцию\n",
    "features_downsampled, target_downsampled = downsample(features_train, target_train, 0.25)"
   ]
  },
  {
   "cell_type": "code",
   "execution_count": 45,
   "metadata": {},
   "outputs": [
    {
     "name": "stdout",
     "output_type": "stream",
     "text": [
      "1    0.503116\n",
      "0    0.496884\n",
      "Name: Exited, dtype: float64\n"
     ]
    },
    {
     "data": {
      "text/plain": [
       "(2407,)"
      ]
     },
     "execution_count": 45,
     "metadata": {},
     "output_type": "execute_result"
    },
    {
     "data": {
      "image/png": "[encoded data removed]",
      "text/plain": [
       "<Figure size 360x360 with 1 Axes>"
      ]
     },
     "metadata": {
      "needs_background": "light"
     },
     "output_type": "display_data"
    }
   ],
   "source": [
    "# построить гистограмму, чтобы посмотреть на дисбаланс\n",
    "target_downsampled.hist(figsize=(5,5))\n",
    "print(target_downsampled.value_counts(normalize=True))\n",
    "target_downsampled.shape"
   ]
  },
  {
   "cell_type": "markdown",
   "metadata": {},
   "source": [
    "<b>Вывод:</b> Количество 1 и 0 практически одинаковое."
   ]
  },
  {
   "cell_type": "markdown",
   "metadata": {},
   "source": [
    "<b>ИТОГ:</b> в дальнейшей работе буду использовать upsample, так как downsample вместо повторения важных вопросов убирает часть неважных."
   ]
  },
  {
   "cell_type": "markdown",
   "metadata": {},
   "source": [
    "### Обучение на сбалансированной выборке"
   ]
  },
  {
   "cell_type": "markdown",
   "metadata": {},
   "source": [
    "#### DecisionTreeClassifier"
   ]
  },
  {
   "cell_type": "code",
   "execution_count": 46,
   "metadata": {},
   "outputs": [
    {
     "name": "stdout",
     "output_type": "stream",
     "text": [
      "accuracy лучшей модели DecisionTreeClassifier: 0.7962962962962963\n",
      "Полнота для DecisionTreeClassifier = 0.4950980392156863\n",
      "Точность для DecisionTreeClassifier = 0.5012406947890818\n",
      "F1-мера для DecisionTreeClassifier = 0.49815043156596794\n",
      "roc_auc_score для DecisionTreeClassifier = 0.6849912134665186\n"
     ]
    }
   ],
   "source": [
    "model = DecisionTreeClassifier(random_state=12345, max_depth=20) # обучить модель с заданной глубиной дерева\n",
    "model.fit(features_upsampled, target_upsampled) # обучить модель\n",
    "predictions = model.predict(features_valid) # получить предсказания модели\n",
    "result = accuracy_score(target_valid, predictions) # посчитать качество модели\n",
    "    \n",
    "probabilities_valid = model.predict_proba(features_valid)\n",
    "probabilities_one_valid = probabilities_valid[:, 1]\n",
    "    \n",
    "print('accuracy лучшей модели DecisionTreeClassifier:', result)\n",
    "\n",
    "print('Полнота для DecisionTreeClassifier =', recall_score(target_valid, predictions))\n",
    "print('Точность для DecisionTreeClassifier =', precision_score(target_valid, predictions))\n",
    "print('F1-мера для DecisionTreeClassifier =', f1_score(target_valid, predictions))\n",
    "print('roc_auc_score для DecisionTreeClassifier =', roc_auc_score(target_valid, probabilities_one_valid))"
   ]
  },
  {
   "cell_type": "markdown",
   "metadata": {},
   "source": [
    "Прошлые значение: \n",
    "- accuracy = 0.79\n",
    "- полнота = 0.51\n",
    "- точность = 0.49\n",
    "- F1 = 0.50\n",
    "- roc_auc = 0.69  \n",
    "  \n",
    "Новые значения:\n",
    "- accuracy = 0.80\n",
    "- полнота = 0.50\n",
    "- точность = 0.50\n",
    "- F1 = 0.50\n",
    "- roc_auc = 0.68"
   ]
  },
  {
   "cell_type": "markdown",
   "metadata": {},
   "source": [
    "<b>Вывод:</b> можем заметить, что значения практически не изменились."
   ]
  },
  {
   "cell_type": "markdown",
   "metadata": {},
   "source": [
    "#### RandomForestClassifier"
   ]
  },
  {
   "cell_type": "code",
   "execution_count": 47,
   "metadata": {
    "scrolled": false
   },
   "outputs": [
    {
     "name": "stdout",
     "output_type": "stream",
     "text": [
      "accuracy лучшей модели: 0.8303303303303303\n",
      "Полнота для RandomForestClassifier = 0.6029411764705882\n",
      "Точность для RandomForestClassifier = 0.5815602836879432\n",
      "F1-мера для RandomForestClassifier = 0.592057761732852\n",
      "roc_auc_score для RandomForestClassifier = 0.8266779195955112\n"
     ]
    }
   ],
   "source": [
    "# RandomForestClassifier\n",
    "model = RandomForestClassifier(random_state=12345, max_depth = 20, n_estimators=50, min_samples_leaf=3)\n",
    "model.fit(features_upsampled, target_upsampled) # обучить модель на тренировочной выборке\n",
    "predictions = model.predict(features_valid)\n",
    "result = model.score(features_valid, target_valid)\n",
    "        \n",
    "probabilities_valid = model.predict_proba(features_valid)\n",
    "probabilities_one_valid = probabilities_valid[:, 1]\n",
    "        \n",
    "# вывести результаты\n",
    "print('accuracy лучшей модели:', result)\n",
    "\n",
    "print('Полнота для RandomForestClassifier =', recall_score(target_valid, predictions))\n",
    "print('Точность для RandomForestClassifier =', precision_score(target_valid, predictions))\n",
    "print('F1-мера для RandomForestClassifier =', f1_score(target_valid, predictions))\n",
    "print('roc_auc_score для RandomForestClassifier =', roc_auc_score(target_valid, probabilities_one_valid))"
   ]
  },
  {
   "cell_type": "markdown",
   "metadata": {},
   "source": [
    "Прошлые значение: \n",
    "- accuracy = 0.87\n",
    "- полнота = 0.49\n",
    "- точность = 0.76\n",
    "- F1 = 0.60\n",
    "- roc_auc = 0.83   \n",
    "  \n",
    "Новые значения:\n",
    "- accuracy = 0.83\n",
    "- полнота = 0.60\n",
    "- точность = 0.58\n",
    "- F1 = 0.59\n",
    "- roc_auc = 0.83"
   ]
  },
  {
   "cell_type": "markdown",
   "metadata": {},
   "source": [
    "<b>Вывод:</b> можем заметить, что значения практически не изменились."
   ]
  },
  {
   "cell_type": "markdown",
   "metadata": {},
   "source": [
    "#### LogisticRegression"
   ]
  },
  {
   "cell_type": "code",
   "execution_count": 48,
   "metadata": {},
   "outputs": [
    {
     "name": "stdout",
     "output_type": "stream",
     "text": [
      "accuracy лучшей модели: 0.7042042042042042\n",
      "Полнота для RandomForestClassifier = 0.6691176470588235\n",
      "Точность для RandomForestClassifier = 0.37448559670781895\n",
      "F1-мера для RandomForestClassifier = 0.4802110817941952\n",
      "roc_auc_score для RandomForestClassifier = 0.7544117647058823\n"
     ]
    }
   ],
   "source": [
    "# LogisticRegression\n",
    "model = LogisticRegression(random_state=12345, solver='liblinear', max_iter=1000)\n",
    "model.fit(features_upsampled, target_upsampled)\n",
    "predictions = model.predict(features_valid)\n",
    "accuracy = accuracy_score(predictions, target_valid)\n",
    "\n",
    "probabilities_valid = model.predict_proba(features_valid)\n",
    "probabilities_one_valid = probabilities_valid[:, 1]\n",
    "\n",
    "# вывести результаты\n",
    "print('accuracy лучшей модели:', accuracy)\n",
    "print('Полнота для RandomForestClassifier =', recall_score(target_valid, predictions))\n",
    "print('Точность для RandomForestClassifier =', precision_score(target_valid, predictions))\n",
    "print('F1-мера для RandomForestClassifier =', f1_score(target_valid, predictions))\n",
    "print('roc_auc_score для RandomForestClassifier =', roc_auc_score(target_valid, probabilities_one_valid))"
   ]
  },
  {
   "cell_type": "markdown",
   "metadata": {},
   "source": [
    "Прошлые значение: \n",
    "- accuracy = 0.81\n",
    "- полнота = 0.19\n",
    "- точность = 0.60\n",
    "- F1 = 0.29\n",
    "- roc_auc = 0.75   \n",
    "  \n",
    "Новые значения:\n",
    "- accuracy = 0.70\n",
    "- полнота = 0.67\n",
    "- точность = 0.37\n",
    "- F1 = 0.48\n",
    "- roc_auc = 0.75"
   ]
  },
  {
   "cell_type": "markdown",
   "metadata": {},
   "source": [
    "<b>Вывод:</b> можем заметить, что accuracy и точность уменьшились, полнота и F1 увеличились, roc_auc не изменилось."
   ]
  },
  {
   "cell_type": "markdown",
   "metadata": {},
   "source": [
    "<b>ИТОГ:</b> лучшие результаты показала модель RandomForestClassifier."
   ]
  },
  {
   "cell_type": "markdown",
   "metadata": {},
   "source": [
    "## Тестирование модели"
   ]
  },
  {
   "cell_type": "code",
   "execution_count": 49,
   "metadata": {},
   "outputs": [
    {
     "data": {
      "text/plain": [
       "RandomForestClassifier(max_depth=20, min_samples_leaf=3, n_estimators=50,\n",
       "                       random_state=12345)"
      ]
     },
     "execution_count": 49,
     "metadata": {},
     "output_type": "execute_result"
    }
   ],
   "source": [
    "# обучить модель\n",
    "model = RandomForestClassifier(random_state=12345, max_depth = 20, \n",
    "                               n_estimators=50, min_samples_leaf=3)\n",
    "model.fit(features_upsampled, target_upsampled)"
   ]
  },
  {
   "cell_type": "code",
   "execution_count": 50,
   "metadata": {},
   "outputs": [
    {
     "name": "stdout",
     "output_type": "stream",
     "text": [
      "Accuracy =  0.8373373373373373\n",
      "Полнота = 0.6168674698795181\n",
      "Точность = 0.6066350710900474\n",
      "F1-мера = 0.6117084826762247\n",
      "roc_auc_score = 0.8556279445006812\n"
     ]
    }
   ],
   "source": [
    "predictions = model.predict(features_test)\n",
    "print('Accuracy = ', accuracy_score(target_test, predictions))\n",
    "print('Полнота =', recall_score(target_test, predictions))\n",
    "print('Точность =', precision_score(target_test, predictions))\n",
    "print('F1-мера =', f1_score(target_test, predictions))\n",
    "\n",
    "probabilities = model.predict_proba(features_test)\n",
    "probabilities_one = probabilities[:, 1]\n",
    "\n",
    "print('roc_auc_score =', roc_auc_score(target_test, probabilities_one))"
   ]
  },
  {
   "cell_type": "code",
   "execution_count": 51,
   "metadata": {},
   "outputs": [
    {
     "data": {
      "text/plain": [
       "(1998,)"
      ]
     },
     "execution_count": 51,
     "metadata": {},
     "output_type": "execute_result"
    }
   ],
   "source": [
    "# создать константную модель\n",
    "predictions_test = pd.Series([1]*len(target_test))\n",
    "predictions_test.shape"
   ]
  },
  {
   "cell_type": "code",
   "execution_count": 52,
   "metadata": {},
   "outputs": [
    {
     "name": "stdout",
     "output_type": "stream",
     "text": [
      "Accuracy =  0.2042042042042042\n",
      "F1-мера = 0.3391521197007481\n",
      "roc_auc_score = 0.5\n"
     ]
    }
   ],
   "source": [
    "print('Accuracy = ', accuracy_score(target_valid, predictions_test))\n",
    "\n",
    "print('F1-мера =', f1_score(target_valid, predictions_test))\n",
    "\n",
    "print('roc_auc_score =', roc_auc_score(target_valid, predictions_test))"
   ]
  },
  {
   "cell_type": "markdown",
   "metadata": {},
   "source": [
    "<b>ИТОГ:</b> финальная модель показывает результат лучше константной."
   ]
  },
  {
   "cell_type": "markdown",
   "metadata": {},
   "source": [
    "## Общие выводы"
   ]
  },
  {
   "cell_type": "markdown",
   "metadata": {},
   "source": [
    "1. <b>Изучен файл</b>  \n",
    "    - Пропуски в данных были заменены на 0.  \n",
    "    - Тип данных в <code>Tenure</code> изменён на <i>int</i>.  \n",
    "    - Удалены строки, в которых <code>EstimatedSalary</code> меньше 200. \n",
    "2. <b>Данные разбиты на выборки</b> \n",
    "    - Вызовом <i>pd.get_dummies()</i> c аргументом <i>drop_first</i> преобразовался не только столбец <code>Gender</code>, но и столбец <code>Geography</code>, так как в нём всего 3 уникальных значения.\n",
    "    - Данные были разбиты на три выборки: обучающая, тренировочная и валидационная в отношении 3:1:1 соответственно.  \n",
    "    - Проведено масштабирование признаков - признаки приведены к одному масштабу.\n",
    "3. <b>Исследованы модели</b> \n",
    "    - DecisionTreeClassifier: accuracy лучшей модели = 0.79.\n",
    "    - RandomForestClassifier: accuracy лучшей модели = 0.87.  \n",
    "    - LogisticRegression: accuracy лучшей модели = 0.81.\n",
    "4. <b>Проведена работа с дисбалансом классов</b> \n",
    "    - Написанной функцией была увеличена выборка.\n",
    "    - Проведено обучение модели на сбалансированной выборке: \n",
    "        1. DecisionTreeClassifier: F1-мера = 0.49815043156596794.\n",
    "        2. RandomForestClassifier: F1-мера = 0.592057761732852.  \n",
    "        3. LogisticRegression: F1-мера = 0.4802110817941952.\n",
    "5. <b>Проверена модель на тестовой выборке</b>"
   ]
  }
 ],
 "metadata": {
  "ExecuteTimeLog": [
   {
    "duration": 1486,
    "start_time": "2023-02-27T05:46:35.039Z"
   },
   {
    "duration": 77,
    "start_time": "2023-02-27T05:46:36.527Z"
   },
   {
    "duration": 18,
    "start_time": "2023-02-27T05:46:36.605Z"
   },
   {
    "duration": 11,
    "start_time": "2023-02-27T05:46:36.624Z"
   },
   {
    "duration": 3,
    "start_time": "2023-02-27T05:46:36.638Z"
   },
   {
    "duration": 7,
    "start_time": "2023-02-27T05:46:36.642Z"
   },
   {
    "duration": 1161,
    "start_time": "2023-02-27T05:46:36.651Z"
   },
   {
    "duration": 43,
    "start_time": "2023-02-27T05:46:37.813Z"
   },
   {
    "duration": 6,
    "start_time": "2023-02-27T05:46:37.858Z"
   },
   {
    "duration": 163,
    "start_time": "2023-02-27T05:46:37.866Z"
   },
   {
    "duration": 6,
    "start_time": "2023-02-27T05:46:38.031Z"
   },
   {
    "duration": 12,
    "start_time": "2023-02-27T05:46:38.038Z"
   },
   {
    "duration": 3,
    "start_time": "2023-02-27T05:46:38.052Z"
   },
   {
    "duration": 12,
    "start_time": "2023-02-27T05:46:38.058Z"
   },
   {
    "duration": 31,
    "start_time": "2023-02-27T05:46:38.072Z"
   },
   {
    "duration": 17,
    "start_time": "2023-02-27T05:46:38.105Z"
   },
   {
    "duration": 3,
    "start_time": "2023-02-27T05:46:38.124Z"
   },
   {
    "duration": 7,
    "start_time": "2023-02-27T05:46:38.129Z"
   },
   {
    "duration": 4,
    "start_time": "2023-02-27T05:46:38.138Z"
   },
   {
    "duration": 6,
    "start_time": "2023-02-27T05:46:38.143Z"
   },
   {
    "duration": 6,
    "start_time": "2023-02-27T05:46:38.150Z"
   },
   {
    "duration": 6,
    "start_time": "2023-02-27T05:46:38.157Z"
   },
   {
    "duration": 5,
    "start_time": "2023-02-27T05:46:38.164Z"
   },
   {
    "duration": 4,
    "start_time": "2023-02-27T05:46:38.204Z"
   },
   {
    "duration": 9,
    "start_time": "2023-02-27T05:46:38.209Z"
   },
   {
    "duration": 7,
    "start_time": "2023-02-27T05:46:38.219Z"
   },
   {
    "duration": 15,
    "start_time": "2023-02-27T05:46:38.227Z"
   },
   {
    "duration": 44,
    "start_time": "2023-02-27T05:46:38.244Z"
   },
   {
    "duration": 15,
    "start_time": "2023-02-27T05:46:38.290Z"
   },
   {
    "duration": 37,
    "start_time": "2023-02-27T05:46:38.306Z"
   },
   {
    "duration": 3,
    "start_time": "2023-02-27T05:46:38.345Z"
   },
   {
    "duration": 314,
    "start_time": "2023-02-27T05:46:38.349Z"
   },
   {
    "duration": 2,
    "start_time": "2023-02-27T05:46:38.665Z"
   },
   {
    "duration": 36,
    "start_time": "2023-02-27T05:46:38.669Z"
   },
   {
    "duration": 3,
    "start_time": "2023-02-27T05:46:38.707Z"
   },
   {
    "duration": 228,
    "start_time": "2023-02-27T05:46:38.712Z"
   },
   {
    "duration": 37,
    "start_time": "2023-02-27T05:46:38.942Z"
   },
   {
    "duration": 44,
    "start_time": "2023-02-27T05:46:38.981Z"
   },
   {
    "duration": 35,
    "start_time": "2023-02-27T05:46:39.026Z"
   },
   {
    "duration": 200,
    "start_time": "2023-02-27T05:46:39.063Z"
   },
   {
    "duration": 332,
    "start_time": "2023-02-27T05:46:39.267Z"
   },
   {
    "duration": 318,
    "start_time": "2023-02-27T05:46:39.601Z"
   },
   {
    "duration": 335,
    "start_time": "2023-02-27T05:46:39.920Z"
   },
   {
    "duration": 321,
    "start_time": "2023-02-27T05:46:40.257Z"
   },
   {
    "duration": 436,
    "start_time": "2023-02-27T05:46:40.579Z"
   },
   {
    "duration": 21,
    "start_time": "2023-02-27T05:46:41.017Z"
   },
   {
    "duration": 171,
    "start_time": "2023-02-27T05:46:41.039Z"
   },
   {
    "duration": 204,
    "start_time": "2023-02-27T05:46:41.212Z"
   },
   {
    "duration": 189,
    "start_time": "2023-02-27T05:46:41.418Z"
   },
   {
    "duration": 406,
    "start_time": "2023-02-27T05:46:41.608Z"
   },
   {
    "duration": 144,
    "start_time": "2023-02-27T05:46:42.015Z"
   },
   {
    "duration": 4,
    "start_time": "2023-02-27T05:46:42.160Z"
   },
   {
    "duration": 21,
    "start_time": "2023-02-27T05:46:42.166Z"
   },
   {
    "duration": 134,
    "start_time": "2023-02-27T05:46:42.189Z"
   },
   {
    "duration": 51,
    "start_time": "2023-02-27T05:46:42.325Z"
   },
   {
    "duration": 525,
    "start_time": "2023-02-27T05:46:42.378Z"
   },
   {
    "duration": 109,
    "start_time": "2023-02-27T05:46:42.905Z"
   },
   {
    "duration": 426,
    "start_time": "2023-02-27T05:46:43.104Z"
   },
   {
    "duration": 73,
    "start_time": "2023-02-27T05:46:43.532Z"
   },
   {
    "duration": 5,
    "start_time": "2023-02-27T05:46:43.607Z"
   },
   {
    "duration": 13,
    "start_time": "2023-02-27T05:46:43.614Z"
   },
   {
    "duration": 33,
    "start_time": "2023-02-27T05:47:42.480Z"
   },
   {
    "duration": 36,
    "start_time": "2023-02-27T05:48:00.830Z"
   },
   {
    "duration": 35,
    "start_time": "2023-02-27T05:48:10.849Z"
   },
   {
    "duration": 35,
    "start_time": "2023-02-27T05:48:31.786Z"
   },
   {
    "duration": 40,
    "start_time": "2023-02-27T05:48:42.062Z"
   },
   {
    "duration": 41,
    "start_time": "2023-02-27T05:48:56.036Z"
   },
   {
    "duration": 43,
    "start_time": "2023-02-27T05:49:23.535Z"
   },
   {
    "duration": 154,
    "start_time": "2023-02-27T05:50:04.978Z"
   },
   {
    "duration": 375,
    "start_time": "2023-02-27T05:52:35.797Z"
   },
   {
    "duration": 351,
    "start_time": "2023-02-27T05:52:52.298Z"
   },
   {
    "duration": 377,
    "start_time": "2023-02-27T05:53:00.475Z"
   },
   {
    "duration": 362,
    "start_time": "2023-02-27T05:53:10.012Z"
   },
   {
    "duration": 520,
    "start_time": "2023-02-27T05:53:34.521Z"
   },
   {
    "duration": 305,
    "start_time": "2023-02-27T06:00:14.604Z"
   },
   {
    "duration": 409,
    "start_time": "2023-02-27T06:05:27.583Z"
   },
   {
    "duration": 64,
    "start_time": "2023-02-27T06:05:34.706Z"
   },
   {
    "duration": 2,
    "start_time": "2023-02-27T06:14:52.563Z"
   },
   {
    "duration": 4,
    "start_time": "2023-02-27T06:15:01.093Z"
   },
   {
    "duration": 111,
    "start_time": "2023-02-27T06:15:28.363Z"
   },
   {
    "duration": 11,
    "start_time": "2023-02-27T06:15:51.266Z"
   },
   {
    "duration": 134,
    "start_time": "2023-02-27T06:16:09.301Z"
   },
   {
    "duration": 125,
    "start_time": "2023-02-27T06:16:19.917Z"
   },
   {
    "duration": 123,
    "start_time": "2023-02-27T06:16:37.367Z"
   },
   {
    "duration": 248,
    "start_time": "2023-02-27T06:16:53.881Z"
   },
   {
    "duration": 67,
    "start_time": "2023-02-27T06:25:37.791Z"
   },
   {
    "duration": 52,
    "start_time": "2023-02-27T06:26:44.552Z"
   },
   {
    "duration": 512,
    "start_time": "2023-02-27T06:26:47.899Z"
   },
   {
    "duration": 499,
    "start_time": "2023-02-27T06:28:16.183Z"
   },
   {
    "duration": 174,
    "start_time": "2023-02-27T06:28:39.832Z"
   },
   {
    "duration": 423,
    "start_time": "2023-02-27T06:28:55.474Z"
   },
   {
    "duration": 75,
    "start_time": "2023-02-27T06:28:58.902Z"
   },
   {
    "duration": 7,
    "start_time": "2023-02-27T06:29:52.948Z"
   },
   {
    "duration": 14,
    "start_time": "2023-02-27T06:29:56.064Z"
   },
   {
    "duration": 8,
    "start_time": "2023-02-27T06:30:36.747Z"
   },
   {
    "duration": 1326,
    "start_time": "2023-02-27T06:32:17.591Z"
   },
   {
    "duration": 37,
    "start_time": "2023-02-27T06:32:18.919Z"
   },
   {
    "duration": 18,
    "start_time": "2023-02-27T06:32:18.957Z"
   },
   {
    "duration": 11,
    "start_time": "2023-02-27T06:32:18.978Z"
   },
   {
    "duration": 3,
    "start_time": "2023-02-27T06:32:18.991Z"
   },
   {
    "duration": 8,
    "start_time": "2023-02-27T06:32:18.995Z"
   },
   {
    "duration": 1177,
    "start_time": "2023-02-27T06:32:19.004Z"
   },
   {
    "duration": 48,
    "start_time": "2023-02-27T06:32:20.183Z"
   },
   {
    "duration": 7,
    "start_time": "2023-02-27T06:32:20.233Z"
   },
   {
    "duration": 152,
    "start_time": "2023-02-27T06:32:20.242Z"
   },
   {
    "duration": 10,
    "start_time": "2023-02-27T06:32:20.396Z"
   },
   {
    "duration": 18,
    "start_time": "2023-02-27T06:32:20.408Z"
   },
   {
    "duration": 3,
    "start_time": "2023-02-27T06:32:20.427Z"
   },
   {
    "duration": 14,
    "start_time": "2023-02-27T06:32:20.432Z"
   },
   {
    "duration": 5,
    "start_time": "2023-02-27T06:32:20.447Z"
   },
   {
    "duration": 22,
    "start_time": "2023-02-27T06:32:20.454Z"
   },
   {
    "duration": 27,
    "start_time": "2023-02-27T06:32:20.477Z"
   },
   {
    "duration": 11,
    "start_time": "2023-02-27T06:32:20.506Z"
   },
   {
    "duration": 4,
    "start_time": "2023-02-27T06:32:20.519Z"
   },
   {
    "duration": 7,
    "start_time": "2023-02-27T06:32:20.524Z"
   },
   {
    "duration": 17,
    "start_time": "2023-02-27T06:32:20.532Z"
   },
   {
    "duration": 6,
    "start_time": "2023-02-27T06:32:20.550Z"
   },
   {
    "duration": 5,
    "start_time": "2023-02-27T06:32:20.558Z"
   },
   {
    "duration": 6,
    "start_time": "2023-02-27T06:32:20.565Z"
   },
   {
    "duration": 8,
    "start_time": "2023-02-27T06:32:20.572Z"
   },
   {
    "duration": 5,
    "start_time": "2023-02-27T06:32:20.581Z"
   },
   {
    "duration": 22,
    "start_time": "2023-02-27T06:32:20.588Z"
   },
   {
    "duration": 25,
    "start_time": "2023-02-27T06:32:20.614Z"
   },
   {
    "duration": 17,
    "start_time": "2023-02-27T06:32:20.641Z"
   },
   {
    "duration": 62,
    "start_time": "2023-02-27T06:32:20.660Z"
   },
   {
    "duration": 3,
    "start_time": "2023-02-27T06:32:20.724Z"
   },
   {
    "duration": 344,
    "start_time": "2023-02-27T06:32:20.729Z"
   },
   {
    "duration": 4,
    "start_time": "2023-02-27T06:32:21.075Z"
   },
   {
    "duration": 30,
    "start_time": "2023-02-27T06:32:21.081Z"
   },
   {
    "duration": 198,
    "start_time": "2023-02-27T06:32:21.112Z"
   },
   {
    "duration": 152,
    "start_time": "2023-02-27T06:32:21.312Z"
   },
   {
    "duration": 470,
    "start_time": "2023-02-27T06:32:21.466Z"
   },
   {
    "duration": 274,
    "start_time": "2023-02-27T06:32:21.938Z"
   },
   {
    "duration": 134,
    "start_time": "2023-02-27T06:32:22.214Z"
   },
   {
    "duration": 4,
    "start_time": "2023-02-27T06:32:22.349Z"
   },
   {
    "duration": 28,
    "start_time": "2023-02-27T06:32:22.355Z"
   },
   {
    "duration": 132,
    "start_time": "2023-02-27T06:32:22.385Z"
   },
   {
    "duration": 4,
    "start_time": "2023-02-27T06:32:22.519Z"
   },
   {
    "duration": 15,
    "start_time": "2023-02-27T06:32:22.525Z"
   },
   {
    "duration": 134,
    "start_time": "2023-02-27T06:32:22.542Z"
   },
   {
    "duration": 57,
    "start_time": "2023-02-27T06:32:22.677Z"
   },
   {
    "duration": 515,
    "start_time": "2023-02-27T06:32:22.736Z"
   },
   {
    "duration": 157,
    "start_time": "2023-02-27T06:32:23.253Z"
   },
   {
    "duration": 505,
    "start_time": "2023-02-27T06:32:23.411Z"
   },
   {
    "duration": 63,
    "start_time": "2023-02-27T06:32:23.918Z"
   },
   {
    "duration": 5,
    "start_time": "2023-02-27T06:32:23.982Z"
   },
   {
    "duration": 8,
    "start_time": "2023-02-27T06:32:24.003Z"
   }
  ],
  "kernelspec": {
   "display_name": "Python 3 (ipykernel)",
   "language": "python",
   "name": "python3"
  },
  "language_info": {
   "codemirror_mode": {
    "name": "ipython",
    "version": 3
   },
   "file_extension": ".py",
   "mimetype": "text/x-python",
   "name": "python",
   "nbconvert_exporter": "python",
   "pygments_lexer": "ipython3",
   "version": "3.10.9"
  },
  "toc": {
   "base_numbering": 1,
   "nav_menu": {},
   "number_sections": true,
   "sideBar": true,
   "skip_h1_title": true,
   "title_cell": "Содержание",
   "title_sidebar": "Contents",
   "toc_cell": true,
   "toc_position": {},
   "toc_section_display": true,
   "toc_window_display": true
  }
 },
 "nbformat": 4,
 "nbformat_minor": 2
}
