{
 "cells": [
  {
   "cell_type": "markdown",
   "metadata": {},
   "source": [
    "# Определение стоимости автомобилей"
   ]
  },
  {
   "cell_type": "markdown",
   "metadata": {},
   "source": [
    "<b>Цели проекта:</b>  \n",
    "Построить модель для определения стоимости автомобилей.  \n",
    "  \n",
    "<b>Задачи проекта:</b>  \n",
    "1. провести предобработку данных;\n",
    "2. разбить данные на выборки;  \n",
    "3. исследовать модели (будем решать задачу с учителем: в распоряжении обучающий набор данных и целевой признак, который нужно предсказать по остальным признакам),\n",
    "    - RandomForestRegressor,\n",
    "    - LogisticRegression;\n",
    "    - CatBoost;\n",
    "    - LightGBM;\n",
    "4. выбрать лучшую модель;  \n",
    "5. сделать общие выводы.\n",
    "\n",
    "<b>Данные:</b>  \n",
    "Данные о технических характеристиках, комплектации и ценах других автомобилей."
   ]
  },
  {
   "cell_type": "markdown",
   "metadata": {},
   "source": [
    "<b>Описание данных</b>  \n",
    "<i>Признаки</i>\n",
    "- <code> DateCrawled </code> — дата скачивания анкеты из базы\n",
    "- <code> VehicleType </code> — тип автомобильного кузова\n",
    "- <code> RegistrationYear </code> — год регистрации автомобиля\n",
    "- <code> Gearbox </code> — тип коробки передач\n",
    "- <code> Power </code> — мощность (л. с.)\n",
    "- <code> Model </code> — модель автомобиля\n",
    "- <code> Kilometer </code> — пробег (км)\n",
    "- <code> RegistrationMonth </code> — месяц регистрации автомобиля\n",
    "- <code> FuelType </code> — тип топлива\n",
    "- <code> Brand </code> — марка автомобиля\n",
    "- <code> Repaired </code> — была машина в ремонте или нет\n",
    "- <code> DateCreated </code> — дата создания анкеты\n",
    "- <code> NumberOfPictures </code> — количество фотографий автомобиля\n",
    "- <code> PostalCode </code> — почтовый индекс владельца анкеты (пользователя)\n",
    "- <code> LastSeen </code> — дата последней активности пользователя  \n",
    "  \n",
    "<i>Целевой признак</i>\n",
    "- <code> Price </code> — цена (евро)"
   ]
  },
  {
   "cell_type": "markdown",
   "metadata": {},
   "source": [
    "## Подготовка данных"
   ]
  },
  {
   "cell_type": "code",
   "execution_count": 1,
   "metadata": {},
   "outputs": [],
   "source": [
    "# импортировать библиотеки\n",
    "import pandas as pd\n",
    "import seaborn as sns\n",
    "from matplotlib import pyplot as plt\n",
    "import time\n",
    "import numpy as np\n",
    "\n",
    "# вспомогательные методы\n",
    "from sklearn.model_selection import train_test_split\n",
    "from sklearn.preprocessing import StandardScaler\n",
    "from sklearn.preprocessing import OrdinalEncoder\n",
    "from sklearn.model_selection import GridSearchCV\n",
    "from sklearn.metrics import mean_squared_error\n",
    "\n",
    "# для простых моделей\n",
    "from sklearn.linear_model import LinearRegression\n",
    "from sklearn.ensemble import RandomForestRegressor\n",
    "\n",
    "# для бустинга\n",
    "from catboost import CatBoostRegressor\n",
    "from lightgbm import LGBMRegressor\n",
    "import lightgbm as lgbm"
   ]
  },
  {
   "cell_type": "code",
   "execution_count": 2,
   "metadata": {},
   "outputs": [],
   "source": [
    "# записать файл в data\n",
    "try: \n",
    "    data = pd.read_csv('/datasets/autos.csv', sep=',')\n",
    "except:\n",
    "    data = pd.read_csv('autos.csv', sep=',')"
   ]
  },
  {
   "cell_type": "code",
   "execution_count": 3,
   "metadata": {},
   "outputs": [
    {
     "data": {
      "text/html": [
       "<div>\n",
       "<style scoped>\n",
       "    .dataframe tbody tr th:only-of-type {\n",
       "        vertical-align: middle;\n",
       "    }\n",
       "\n",
       "    .dataframe tbody tr th {\n",
       "        vertical-align: top;\n",
       "    }\n",
       "\n",
       "    .dataframe thead th {\n",
       "        text-align: right;\n",
       "    }\n",
       "</style>\n",
       "<table border=\"1\" class=\"dataframe\">\n",
       "  <thead>\n",
       "    <tr style=\"text-align: right;\">\n",
       "      <th></th>\n",
       "      <th>DateCrawled</th>\n",
       "      <th>Price</th>\n",
       "      <th>VehicleType</th>\n",
       "      <th>RegistrationYear</th>\n",
       "      <th>Gearbox</th>\n",
       "      <th>Power</th>\n",
       "      <th>Model</th>\n",
       "      <th>Kilometer</th>\n",
       "      <th>RegistrationMonth</th>\n",
       "      <th>FuelType</th>\n",
       "      <th>Brand</th>\n",
       "      <th>Repaired</th>\n",
       "      <th>DateCreated</th>\n",
       "      <th>NumberOfPictures</th>\n",
       "      <th>PostalCode</th>\n",
       "      <th>LastSeen</th>\n",
       "    </tr>\n",
       "  </thead>\n",
       "  <tbody>\n",
       "    <tr>\n",
       "      <th>0</th>\n",
       "      <td>2016-03-24 11:52:17</td>\n",
       "      <td>480</td>\n",
       "      <td>NaN</td>\n",
       "      <td>1993</td>\n",
       "      <td>manual</td>\n",
       "      <td>0</td>\n",
       "      <td>golf</td>\n",
       "      <td>150000</td>\n",
       "      <td>0</td>\n",
       "      <td>petrol</td>\n",
       "      <td>volkswagen</td>\n",
       "      <td>NaN</td>\n",
       "      <td>2016-03-24 00:00:00</td>\n",
       "      <td>0</td>\n",
       "      <td>70435</td>\n",
       "      <td>2016-04-07 03:16:57</td>\n",
       "    </tr>\n",
       "    <tr>\n",
       "      <th>1</th>\n",
       "      <td>2016-03-24 10:58:45</td>\n",
       "      <td>18300</td>\n",
       "      <td>coupe</td>\n",
       "      <td>2011</td>\n",
       "      <td>manual</td>\n",
       "      <td>190</td>\n",
       "      <td>NaN</td>\n",
       "      <td>125000</td>\n",
       "      <td>5</td>\n",
       "      <td>gasoline</td>\n",
       "      <td>audi</td>\n",
       "      <td>yes</td>\n",
       "      <td>2016-03-24 00:00:00</td>\n",
       "      <td>0</td>\n",
       "      <td>66954</td>\n",
       "      <td>2016-04-07 01:46:50</td>\n",
       "    </tr>\n",
       "    <tr>\n",
       "      <th>2</th>\n",
       "      <td>2016-03-14 12:52:21</td>\n",
       "      <td>9800</td>\n",
       "      <td>suv</td>\n",
       "      <td>2004</td>\n",
       "      <td>auto</td>\n",
       "      <td>163</td>\n",
       "      <td>grand</td>\n",
       "      <td>125000</td>\n",
       "      <td>8</td>\n",
       "      <td>gasoline</td>\n",
       "      <td>jeep</td>\n",
       "      <td>NaN</td>\n",
       "      <td>2016-03-14 00:00:00</td>\n",
       "      <td>0</td>\n",
       "      <td>90480</td>\n",
       "      <td>2016-04-05 12:47:46</td>\n",
       "    </tr>\n",
       "    <tr>\n",
       "      <th>3</th>\n",
       "      <td>2016-03-17 16:54:04</td>\n",
       "      <td>1500</td>\n",
       "      <td>small</td>\n",
       "      <td>2001</td>\n",
       "      <td>manual</td>\n",
       "      <td>75</td>\n",
       "      <td>golf</td>\n",
       "      <td>150000</td>\n",
       "      <td>6</td>\n",
       "      <td>petrol</td>\n",
       "      <td>volkswagen</td>\n",
       "      <td>no</td>\n",
       "      <td>2016-03-17 00:00:00</td>\n",
       "      <td>0</td>\n",
       "      <td>91074</td>\n",
       "      <td>2016-03-17 17:40:17</td>\n",
       "    </tr>\n",
       "    <tr>\n",
       "      <th>4</th>\n",
       "      <td>2016-03-31 17:25:20</td>\n",
       "      <td>3600</td>\n",
       "      <td>small</td>\n",
       "      <td>2008</td>\n",
       "      <td>manual</td>\n",
       "      <td>69</td>\n",
       "      <td>fabia</td>\n",
       "      <td>90000</td>\n",
       "      <td>7</td>\n",
       "      <td>gasoline</td>\n",
       "      <td>skoda</td>\n",
       "      <td>no</td>\n",
       "      <td>2016-03-31 00:00:00</td>\n",
       "      <td>0</td>\n",
       "      <td>60437</td>\n",
       "      <td>2016-04-06 10:17:21</td>\n",
       "    </tr>\n",
       "    <tr>\n",
       "      <th>5</th>\n",
       "      <td>2016-04-04 17:36:23</td>\n",
       "      <td>650</td>\n",
       "      <td>sedan</td>\n",
       "      <td>1995</td>\n",
       "      <td>manual</td>\n",
       "      <td>102</td>\n",
       "      <td>3er</td>\n",
       "      <td>150000</td>\n",
       "      <td>10</td>\n",
       "      <td>petrol</td>\n",
       "      <td>bmw</td>\n",
       "      <td>yes</td>\n",
       "      <td>2016-04-04 00:00:00</td>\n",
       "      <td>0</td>\n",
       "      <td>33775</td>\n",
       "      <td>2016-04-06 19:17:07</td>\n",
       "    </tr>\n",
       "    <tr>\n",
       "      <th>6</th>\n",
       "      <td>2016-04-01 20:48:51</td>\n",
       "      <td>2200</td>\n",
       "      <td>convertible</td>\n",
       "      <td>2004</td>\n",
       "      <td>manual</td>\n",
       "      <td>109</td>\n",
       "      <td>2_reihe</td>\n",
       "      <td>150000</td>\n",
       "      <td>8</td>\n",
       "      <td>petrol</td>\n",
       "      <td>peugeot</td>\n",
       "      <td>no</td>\n",
       "      <td>2016-04-01 00:00:00</td>\n",
       "      <td>0</td>\n",
       "      <td>67112</td>\n",
       "      <td>2016-04-05 18:18:39</td>\n",
       "    </tr>\n",
       "    <tr>\n",
       "      <th>7</th>\n",
       "      <td>2016-03-21 18:54:38</td>\n",
       "      <td>0</td>\n",
       "      <td>sedan</td>\n",
       "      <td>1980</td>\n",
       "      <td>manual</td>\n",
       "      <td>50</td>\n",
       "      <td>other</td>\n",
       "      <td>40000</td>\n",
       "      <td>7</td>\n",
       "      <td>petrol</td>\n",
       "      <td>volkswagen</td>\n",
       "      <td>no</td>\n",
       "      <td>2016-03-21 00:00:00</td>\n",
       "      <td>0</td>\n",
       "      <td>19348</td>\n",
       "      <td>2016-03-25 16:47:58</td>\n",
       "    </tr>\n",
       "    <tr>\n",
       "      <th>8</th>\n",
       "      <td>2016-04-04 23:42:13</td>\n",
       "      <td>14500</td>\n",
       "      <td>bus</td>\n",
       "      <td>2014</td>\n",
       "      <td>manual</td>\n",
       "      <td>125</td>\n",
       "      <td>c_max</td>\n",
       "      <td>30000</td>\n",
       "      <td>8</td>\n",
       "      <td>petrol</td>\n",
       "      <td>ford</td>\n",
       "      <td>NaN</td>\n",
       "      <td>2016-04-04 00:00:00</td>\n",
       "      <td>0</td>\n",
       "      <td>94505</td>\n",
       "      <td>2016-04-04 23:42:13</td>\n",
       "    </tr>\n",
       "    <tr>\n",
       "      <th>9</th>\n",
       "      <td>2016-03-17 10:53:50</td>\n",
       "      <td>999</td>\n",
       "      <td>small</td>\n",
       "      <td>1998</td>\n",
       "      <td>manual</td>\n",
       "      <td>101</td>\n",
       "      <td>golf</td>\n",
       "      <td>150000</td>\n",
       "      <td>0</td>\n",
       "      <td>NaN</td>\n",
       "      <td>volkswagen</td>\n",
       "      <td>NaN</td>\n",
       "      <td>2016-03-17 00:00:00</td>\n",
       "      <td>0</td>\n",
       "      <td>27472</td>\n",
       "      <td>2016-03-31 17:17:06</td>\n",
       "    </tr>\n",
       "  </tbody>\n",
       "</table>\n",
       "</div>"
      ],
      "text/plain": [
       "           DateCrawled  Price  VehicleType  RegistrationYear Gearbox  Power  \\\n",
       "0  2016-03-24 11:52:17    480          NaN              1993  manual      0   \n",
       "1  2016-03-24 10:58:45  18300        coupe              2011  manual    190   \n",
       "2  2016-03-14 12:52:21   9800          suv              2004    auto    163   \n",
       "3  2016-03-17 16:54:04   1500        small              2001  manual     75   \n",
       "4  2016-03-31 17:25:20   3600        small              2008  manual     69   \n",
       "5  2016-04-04 17:36:23    650        sedan              1995  manual    102   \n",
       "6  2016-04-01 20:48:51   2200  convertible              2004  manual    109   \n",
       "7  2016-03-21 18:54:38      0        sedan              1980  manual     50   \n",
       "8  2016-04-04 23:42:13  14500          bus              2014  manual    125   \n",
       "9  2016-03-17 10:53:50    999        small              1998  manual    101   \n",
       "\n",
       "     Model  Kilometer  RegistrationMonth  FuelType       Brand Repaired  \\\n",
       "0     golf     150000                  0    petrol  volkswagen      NaN   \n",
       "1      NaN     125000                  5  gasoline        audi      yes   \n",
       "2    grand     125000                  8  gasoline        jeep      NaN   \n",
       "3     golf     150000                  6    petrol  volkswagen       no   \n",
       "4    fabia      90000                  7  gasoline       skoda       no   \n",
       "5      3er     150000                 10    petrol         bmw      yes   \n",
       "6  2_reihe     150000                  8    petrol     peugeot       no   \n",
       "7    other      40000                  7    petrol  volkswagen       no   \n",
       "8    c_max      30000                  8    petrol        ford      NaN   \n",
       "9     golf     150000                  0       NaN  volkswagen      NaN   \n",
       "\n",
       "           DateCreated  NumberOfPictures  PostalCode             LastSeen  \n",
       "0  2016-03-24 00:00:00                 0       70435  2016-04-07 03:16:57  \n",
       "1  2016-03-24 00:00:00                 0       66954  2016-04-07 01:46:50  \n",
       "2  2016-03-14 00:00:00                 0       90480  2016-04-05 12:47:46  \n",
       "3  2016-03-17 00:00:00                 0       91074  2016-03-17 17:40:17  \n",
       "4  2016-03-31 00:00:00                 0       60437  2016-04-06 10:17:21  \n",
       "5  2016-04-04 00:00:00                 0       33775  2016-04-06 19:17:07  \n",
       "6  2016-04-01 00:00:00                 0       67112  2016-04-05 18:18:39  \n",
       "7  2016-03-21 00:00:00                 0       19348  2016-03-25 16:47:58  \n",
       "8  2016-04-04 00:00:00                 0       94505  2016-04-04 23:42:13  \n",
       "9  2016-03-17 00:00:00                 0       27472  2016-03-31 17:17:06  "
      ]
     },
     "execution_count": 3,
     "metadata": {},
     "output_type": "execute_result"
    }
   ],
   "source": [
    "# открыть файл\n",
    "data.head(10)"
   ]
  },
  {
   "cell_type": "code",
   "execution_count": 4,
   "metadata": {},
   "outputs": [
    {
     "data": {
      "text/plain": [
       "'2016-04-07 14:36:58'"
      ]
     },
     "execution_count": 4,
     "metadata": {},
     "output_type": "execute_result"
    }
   ],
   "source": [
    "# найти максимальное значение в 'DateCrawled' для дальнейшей работы\n",
    "data['DateCrawled'].max()"
   ]
  },
  {
   "cell_type": "markdown",
   "metadata": {},
   "source": [
    "Не все параметры нужны для определение стоимости автомобиля. Удалим эти параметры."
   ]
  },
  {
   "cell_type": "code",
   "execution_count": 5,
   "metadata": {},
   "outputs": [],
   "source": [
    "del data['DateCrawled'], data['DateCreated'], data['NumberOfPictures'], data['PostalCode'], data['LastSeen']"
   ]
  },
  {
   "cell_type": "code",
   "execution_count": 6,
   "metadata": {},
   "outputs": [
    {
     "name": "stdout",
     "output_type": "stream",
     "text": [
      "<class 'pandas.core.frame.DataFrame'>\n",
      "RangeIndex: 354369 entries, 0 to 354368\n",
      "Data columns (total 11 columns):\n",
      " #   Column             Non-Null Count   Dtype \n",
      "---  ------             --------------   ----- \n",
      " 0   Price              354369 non-null  int64 \n",
      " 1   VehicleType        316879 non-null  object\n",
      " 2   RegistrationYear   354369 non-null  int64 \n",
      " 3   Gearbox            334536 non-null  object\n",
      " 4   Power              354369 non-null  int64 \n",
      " 5   Model              334664 non-null  object\n",
      " 6   Kilometer          354369 non-null  int64 \n",
      " 7   RegistrationMonth  354369 non-null  int64 \n",
      " 8   FuelType           321474 non-null  object\n",
      " 9   Brand              354369 non-null  object\n",
      " 10  Repaired           283215 non-null  object\n",
      "dtypes: int64(5), object(6)\n",
      "memory usage: 29.7+ MB\n"
     ]
    }
   ],
   "source": [
    "# изучить файл: метод info()\n",
    "data.info()"
   ]
  },
  {
   "cell_type": "markdown",
   "metadata": {},
   "source": [
    "Обнаружены пропуски в столбцах <code>VehicleType</code>, <code>Gearbox</code>, <code>Model</code>, <code>FuelType</code>, <code>Repaired</code>. Восстановить эти данные мы не сможем. Проверим, сколько процентов от всего датасета занимают пропуски."
   ]
  },
  {
   "cell_type": "code",
   "execution_count": 7,
   "metadata": {},
   "outputs": [
    {
     "name": "stdout",
     "output_type": "stream",
     "text": [
      "<class 'pandas.core.frame.DataFrame'>\n",
      "Int64Index: 245814 entries, 3 to 354367\n",
      "Data columns (total 11 columns):\n",
      " #   Column             Non-Null Count   Dtype \n",
      "---  ------             --------------   ----- \n",
      " 0   Price              245814 non-null  int64 \n",
      " 1   VehicleType        245814 non-null  object\n",
      " 2   RegistrationYear   245814 non-null  int64 \n",
      " 3   Gearbox            245814 non-null  object\n",
      " 4   Power              245814 non-null  int64 \n",
      " 5   Model              245814 non-null  object\n",
      " 6   Kilometer          245814 non-null  int64 \n",
      " 7   RegistrationMonth  245814 non-null  int64 \n",
      " 8   FuelType           245814 non-null  object\n",
      " 9   Brand              245814 non-null  object\n",
      " 10  Repaired           245814 non-null  object\n",
      "dtypes: int64(5), object(6)\n",
      "memory usage: 22.5+ MB\n",
      "\n",
      "0.30633322892239445\n"
     ]
    }
   ],
   "source": [
    "data_1 = data\n",
    "data_1 = data_1.dropna()\n",
    "data_1.info()\n",
    "print()\n",
    "print((data.shape[0] - data_1.shape[0]) / data.shape[0])"
   ]
  },
  {
   "cell_type": "markdown",
   "metadata": {},
   "source": [
    "Если удалить строки с пропущенными значениями, то мы потеряем 30% данных, а это много. Следовательно, дальше будем использовать заглушку."
   ]
  },
  {
   "cell_type": "code",
   "execution_count": 8,
   "metadata": {},
   "outputs": [
    {
     "data": {
      "text/html": [
       "<div>\n",
       "<style scoped>\n",
       "    .dataframe tbody tr th:only-of-type {\n",
       "        vertical-align: middle;\n",
       "    }\n",
       "\n",
       "    .dataframe tbody tr th {\n",
       "        vertical-align: top;\n",
       "    }\n",
       "\n",
       "    .dataframe thead th {\n",
       "        text-align: right;\n",
       "    }\n",
       "</style>\n",
       "<table border=\"1\" class=\"dataframe\">\n",
       "  <thead>\n",
       "    <tr style=\"text-align: right;\">\n",
       "      <th></th>\n",
       "      <th>Price</th>\n",
       "      <th>RegistrationYear</th>\n",
       "      <th>Power</th>\n",
       "      <th>Kilometer</th>\n",
       "      <th>RegistrationMonth</th>\n",
       "    </tr>\n",
       "  </thead>\n",
       "  <tbody>\n",
       "    <tr>\n",
       "      <th>count</th>\n",
       "      <td>354369.000000</td>\n",
       "      <td>354369.000000</td>\n",
       "      <td>354369.000000</td>\n",
       "      <td>354369.000000</td>\n",
       "      <td>354369.000000</td>\n",
       "    </tr>\n",
       "    <tr>\n",
       "      <th>mean</th>\n",
       "      <td>4416.656776</td>\n",
       "      <td>2004.234448</td>\n",
       "      <td>110.094337</td>\n",
       "      <td>128211.172535</td>\n",
       "      <td>5.714645</td>\n",
       "    </tr>\n",
       "    <tr>\n",
       "      <th>std</th>\n",
       "      <td>4514.158514</td>\n",
       "      <td>90.227958</td>\n",
       "      <td>189.850405</td>\n",
       "      <td>37905.341530</td>\n",
       "      <td>3.726421</td>\n",
       "    </tr>\n",
       "    <tr>\n",
       "      <th>min</th>\n",
       "      <td>0.000000</td>\n",
       "      <td>1000.000000</td>\n",
       "      <td>0.000000</td>\n",
       "      <td>5000.000000</td>\n",
       "      <td>0.000000</td>\n",
       "    </tr>\n",
       "    <tr>\n",
       "      <th>25%</th>\n",
       "      <td>1050.000000</td>\n",
       "      <td>1999.000000</td>\n",
       "      <td>69.000000</td>\n",
       "      <td>125000.000000</td>\n",
       "      <td>3.000000</td>\n",
       "    </tr>\n",
       "    <tr>\n",
       "      <th>50%</th>\n",
       "      <td>2700.000000</td>\n",
       "      <td>2003.000000</td>\n",
       "      <td>105.000000</td>\n",
       "      <td>150000.000000</td>\n",
       "      <td>6.000000</td>\n",
       "    </tr>\n",
       "    <tr>\n",
       "      <th>75%</th>\n",
       "      <td>6400.000000</td>\n",
       "      <td>2008.000000</td>\n",
       "      <td>143.000000</td>\n",
       "      <td>150000.000000</td>\n",
       "      <td>9.000000</td>\n",
       "    </tr>\n",
       "    <tr>\n",
       "      <th>max</th>\n",
       "      <td>20000.000000</td>\n",
       "      <td>9999.000000</td>\n",
       "      <td>20000.000000</td>\n",
       "      <td>150000.000000</td>\n",
       "      <td>12.000000</td>\n",
       "    </tr>\n",
       "  </tbody>\n",
       "</table>\n",
       "</div>"
      ],
      "text/plain": [
       "               Price  RegistrationYear          Power      Kilometer  \\\n",
       "count  354369.000000     354369.000000  354369.000000  354369.000000   \n",
       "mean     4416.656776       2004.234448     110.094337  128211.172535   \n",
       "std      4514.158514         90.227958     189.850405   37905.341530   \n",
       "min         0.000000       1000.000000       0.000000    5000.000000   \n",
       "25%      1050.000000       1999.000000      69.000000  125000.000000   \n",
       "50%      2700.000000       2003.000000     105.000000  150000.000000   \n",
       "75%      6400.000000       2008.000000     143.000000  150000.000000   \n",
       "max     20000.000000       9999.000000   20000.000000  150000.000000   \n",
       "\n",
       "       RegistrationMonth  \n",
       "count      354369.000000  \n",
       "mean            5.714645  \n",
       "std             3.726421  \n",
       "min             0.000000  \n",
       "25%             3.000000  \n",
       "50%             6.000000  \n",
       "75%             9.000000  \n",
       "max            12.000000  "
      ]
     },
     "metadata": {},
     "output_type": "display_data"
    }
   ],
   "source": [
    "# изучение данных: метод describe()\n",
    "display(data.describe())"
   ]
  },
  {
   "cell_type": "markdown",
   "metadata": {},
   "source": [
    "Можем заметить, что есть выбросы в обе стороны у <code>RegistrationYear</code> и <code>Power</code>, также есть нулевые значения в <code>RegistrationMonth</code> и <code>Price</code>."
   ]
  },
  {
   "cell_type": "markdown",
   "metadata": {},
   "source": [
    "#### RegistrationYear"
   ]
  },
  {
   "cell_type": "markdown",
   "metadata": {},
   "source": [
    "Начнём обработку с года регистрации."
   ]
  },
  {
   "cell_type": "markdown",
   "metadata": {},
   "source": [
    "Так как последняя запись в 'DateCrawled' была сделана в 2016 году, то уберём все записи автомобилей, которые были зарегистрированы позже 2016 года."
   ]
  },
  {
   "cell_type": "code",
   "execution_count": 9,
   "metadata": {},
   "outputs": [
    {
     "data": {
      "text/plain": [
       "17982"
      ]
     },
     "execution_count": 9,
     "metadata": {},
     "output_type": "execute_result"
    }
   ],
   "source": [
    "# посчитать количество записей, где год регистрации автомобиля меньше 1980 и больше 2016\n",
    "data[(data['RegistrationYear'] < 1980) | (data['RegistrationYear'] > 2016)]['Price'].count()"
   ]
  },
  {
   "cell_type": "markdown",
   "metadata": {},
   "source": [
    "Количество записей равно 1% от всего датасета, поэтому мы можем удалить выбросы."
   ]
  },
  {
   "cell_type": "code",
   "execution_count": 10,
   "metadata": {},
   "outputs": [],
   "source": [
    "# удалить записи, где год регистрации автомобиля меньше 1980 и больше 2016\n",
    "data = data.query('RegistrationYear >= 1980 & RegistrationYear < 2016')"
   ]
  },
  {
   "cell_type": "code",
   "execution_count": 11,
   "metadata": {},
   "outputs": [
    {
     "data": {
      "text/plain": [
       "0"
      ]
     },
     "execution_count": 11,
     "metadata": {},
     "output_type": "execute_result"
    }
   ],
   "source": [
    "# проверить\n",
    "data[(data['RegistrationYear'] < 1980) | (data['RegistrationYear'] > 2016)]['Price'].count()"
   ]
  },
  {
   "cell_type": "code",
   "execution_count": 12,
   "metadata": {},
   "outputs": [
    {
     "data": {
      "image/png": "[encoded data removed]",
      "text/plain": [
       "<Figure size 720x360 with 1 Axes>"
      ]
     },
     "metadata": {
      "needs_background": "light"
     },
     "output_type": "display_data"
    }
   ],
   "source": [
    "data.boxplot('RegistrationYear', figsize=(10,5))\n",
    "plt.title('График распределения уникальных значений даты регистрации автомобилей')\n",
    "plt.ylabel('Год регистрации')\n",
    "plt.xlabel('')\n",
    "plt.show()"
   ]
  },
  {
   "cell_type": "markdown",
   "metadata": {},
   "source": [
    "#### Power"
   ]
  },
  {
   "cell_type": "markdown",
   "metadata": {},
   "source": [
    "Обработаем данные с мощностью."
   ]
  },
  {
   "cell_type": "code",
   "execution_count": 13,
   "metadata": {},
   "outputs": [
    {
     "data": {
      "image/png": "[encoded data removed]",
      "text/plain": [
       "<Figure size 864x432 with 1 Axes>"
      ]
     },
     "metadata": {
      "needs_background": "light"
     },
     "output_type": "display_data"
    }
   ],
   "source": [
    "pd.Series(list(data.Power.unique())).sort_values(ascending=False).plot(kind='hist', figsize=(12,6), grid=True, bins=50)\n",
    "plt.title('Распределение уникальных значений мощности автомобилей')\n",
    "plt.ylabel('Количество')\n",
    "plt.xlabel('Мощность, л.с.')\n",
    "plt.show()"
   ]
  },
  {
   "cell_type": "markdown",
   "metadata": {},
   "source": [
    "Средняя мощность автомобилей в 2020 году была около 210 л.с. Экономичные автомобили, как правило, имеют мощность 170-190 л.с. В 1980 году средняя мощность автомобилей была около 80 л.с. Самая большая мощность у автомобилей на данный момент около 2000 л.с. Поэтому посчитаем, количество записей, где мощность меньше 80 и больше 2000. "
   ]
  },
  {
   "cell_type": "code",
   "execution_count": 14,
   "metadata": {},
   "outputs": [
    {
     "data": {
      "text/plain": [
       "106725"
      ]
     },
     "execution_count": 14,
     "metadata": {},
     "output_type": "execute_result"
    }
   ],
   "source": [
    "# посчитать количество записей, где мощность автомобиля меньше 80 и больше 2000\n",
    "data[(data['Power'] < 80) | (data['Power'] > 2000)]['Price'].count()"
   ]
  },
  {
   "cell_type": "markdown",
   "metadata": {},
   "source": [
    "Количество записей получилось около 30% от исходного датасета."
   ]
  },
  {
   "cell_type": "code",
   "execution_count": 15,
   "metadata": {
    "scrolled": false
   },
   "outputs": [
    {
     "data": {
      "image/png": "[encoded data removed]",
      "text/plain": [
       "<Figure size 720x360 with 1 Axes>"
      ]
     },
     "metadata": {
      "needs_background": "light"
     },
     "output_type": "display_data"
    }
   ],
   "source": [
    "data.boxplot('Power', figsize=(10,5))\n",
    "plt.title('График распределения уникальных значений мощности автомобилей')\n",
    "plt.ylabel('Год регистрации')\n",
    "plt.xlabel('')\n",
    "plt.show()"
   ]
  },
  {
   "cell_type": "code",
   "execution_count": 16,
   "metadata": {},
   "outputs": [
    {
     "data": {
      "text/plain": [
       "count    326788.000000\n",
       "mean        112.284402\n",
       "std         180.916863\n",
       "min           0.000000\n",
       "25%          71.000000\n",
       "50%         105.000000\n",
       "75%         143.000000\n",
       "max       20000.000000\n",
       "Name: Power, dtype: float64"
      ]
     },
     "execution_count": 16,
     "metadata": {},
     "output_type": "execute_result"
    }
   ],
   "source": [
    "data.Power.describe()"
   ]
  },
  {
   "cell_type": "code",
   "execution_count": 17,
   "metadata": {
    "scrolled": true
   },
   "outputs": [
    {
     "data": {
      "text/html": [
       "<div>\n",
       "<style scoped>\n",
       "    .dataframe tbody tr th:only-of-type {\n",
       "        vertical-align: middle;\n",
       "    }\n",
       "\n",
       "    .dataframe tbody tr th {\n",
       "        vertical-align: top;\n",
       "    }\n",
       "\n",
       "    .dataframe thead th {\n",
       "        text-align: right;\n",
       "    }\n",
       "</style>\n",
       "<table border=\"1\" class=\"dataframe\">\n",
       "  <thead>\n",
       "    <tr style=\"text-align: right;\">\n",
       "      <th></th>\n",
       "      <th>Price</th>\n",
       "      <th>VehicleType</th>\n",
       "      <th>RegistrationYear</th>\n",
       "      <th>Gearbox</th>\n",
       "      <th>Power</th>\n",
       "      <th>Model</th>\n",
       "      <th>Kilometer</th>\n",
       "      <th>RegistrationMonth</th>\n",
       "      <th>FuelType</th>\n",
       "      <th>Brand</th>\n",
       "      <th>Repaired</th>\n",
       "    </tr>\n",
       "  </thead>\n",
       "  <tbody>\n",
       "    <tr>\n",
       "      <th>7661</th>\n",
       "      <td>1499</td>\n",
       "      <td>small</td>\n",
       "      <td>1999</td>\n",
       "      <td>manual</td>\n",
       "      <td>7515</td>\n",
       "      <td>lupo</td>\n",
       "      <td>150000</td>\n",
       "      <td>4</td>\n",
       "      <td>petrol</td>\n",
       "      <td>volkswagen</td>\n",
       "      <td>NaN</td>\n",
       "    </tr>\n",
       "    <tr>\n",
       "      <th>11039</th>\n",
       "      <td>0</td>\n",
       "      <td>sedan</td>\n",
       "      <td>1998</td>\n",
       "      <td>manual</td>\n",
       "      <td>10317</td>\n",
       "      <td>other</td>\n",
       "      <td>150000</td>\n",
       "      <td>8</td>\n",
       "      <td>petrol</td>\n",
       "      <td>fiat</td>\n",
       "      <td>no</td>\n",
       "    </tr>\n",
       "    <tr>\n",
       "      <th>25232</th>\n",
       "      <td>10900</td>\n",
       "      <td>bus</td>\n",
       "      <td>2009</td>\n",
       "      <td>manual</td>\n",
       "      <td>10520</td>\n",
       "      <td>caddy</td>\n",
       "      <td>150000</td>\n",
       "      <td>6</td>\n",
       "      <td>gasoline</td>\n",
       "      <td>volkswagen</td>\n",
       "      <td>no</td>\n",
       "    </tr>\n",
       "    <tr>\n",
       "      <th>33952</th>\n",
       "      <td>3740</td>\n",
       "      <td>small</td>\n",
       "      <td>2006</td>\n",
       "      <td>manual</td>\n",
       "      <td>6920</td>\n",
       "      <td>aygo</td>\n",
       "      <td>90000</td>\n",
       "      <td>10</td>\n",
       "      <td>NaN</td>\n",
       "      <td>toyota</td>\n",
       "      <td>no</td>\n",
       "    </tr>\n",
       "    <tr>\n",
       "      <th>44520</th>\n",
       "      <td>2500</td>\n",
       "      <td>convertible</td>\n",
       "      <td>1998</td>\n",
       "      <td>manual</td>\n",
       "      <td>7512</td>\n",
       "      <td>golf</td>\n",
       "      <td>150000</td>\n",
       "      <td>6</td>\n",
       "      <td>NaN</td>\n",
       "      <td>volkswagen</td>\n",
       "      <td>NaN</td>\n",
       "    </tr>\n",
       "  </tbody>\n",
       "</table>\n",
       "</div>"
      ],
      "text/plain": [
       "       Price  VehicleType  RegistrationYear Gearbox  Power  Model  Kilometer  \\\n",
       "7661    1499        small              1999  manual   7515   lupo     150000   \n",
       "11039      0        sedan              1998  manual  10317  other     150000   \n",
       "25232  10900          bus              2009  manual  10520  caddy     150000   \n",
       "33952   3740        small              2006  manual   6920   aygo      90000   \n",
       "44520   2500  convertible              1998  manual   7512   golf     150000   \n",
       "\n",
       "       RegistrationMonth  FuelType       Brand Repaired  \n",
       "7661                   4    petrol  volkswagen      NaN  \n",
       "11039                  8    petrol        fiat       no  \n",
       "25232                  6  gasoline  volkswagen       no  \n",
       "33952                 10       NaN      toyota       no  \n",
       "44520                  6       NaN  volkswagen      NaN  "
      ]
     },
     "execution_count": 17,
     "metadata": {},
     "output_type": "execute_result"
    }
   ],
   "source": [
    "data.loc[data['Power'] > 5000].head()"
   ]
  },
  {
   "cell_type": "markdown",
   "metadata": {},
   "source": [
    "После изучения объявлений о моделях машин первых десяти записей с условием, что количество лошадиных сил больше 15000, можно сделать вывод, что можно поделить эти значения на 100. "
   ]
  },
  {
   "cell_type": "code",
   "execution_count": 18,
   "metadata": {},
   "outputs": [
    {
     "data": {
      "text/plain": [
       "68"
      ]
     },
     "execution_count": 18,
     "metadata": {},
     "output_type": "execute_result"
    }
   ],
   "source": [
    "# посчитать количество записей, где мощность автомобиля больше 3000\n",
    "data[(data['Power'] > 5000)]['Price'].count()"
   ]
  },
  {
   "cell_type": "code",
   "execution_count": 19,
   "metadata": {},
   "outputs": [],
   "source": [
    "# заменить значения\n",
    "data.loc[data['Power'] > 5000, 'Power'] = data['Power']/100"
   ]
  },
  {
   "cell_type": "code",
   "execution_count": 20,
   "metadata": {},
   "outputs": [
    {
     "data": {
      "text/plain": [
       "0"
      ]
     },
     "execution_count": 20,
     "metadata": {},
     "output_type": "execute_result"
    }
   ],
   "source": [
    "# проверить\n",
    "data[(data['Power'] > 5000)]['Price'].count()"
   ]
  },
  {
   "cell_type": "code",
   "execution_count": 21,
   "metadata": {},
   "outputs": [
    {
     "data": {
      "text/html": [
       "<div>\n",
       "<style scoped>\n",
       "    .dataframe tbody tr th:only-of-type {\n",
       "        vertical-align: middle;\n",
       "    }\n",
       "\n",
       "    .dataframe tbody tr th {\n",
       "        vertical-align: top;\n",
       "    }\n",
       "\n",
       "    .dataframe thead th {\n",
       "        text-align: right;\n",
       "    }\n",
       "</style>\n",
       "<table border=\"1\" class=\"dataframe\">\n",
       "  <thead>\n",
       "    <tr style=\"text-align: right;\">\n",
       "      <th></th>\n",
       "      <th>Price</th>\n",
       "      <th>VehicleType</th>\n",
       "      <th>RegistrationYear</th>\n",
       "      <th>Gearbox</th>\n",
       "      <th>Power</th>\n",
       "      <th>Model</th>\n",
       "      <th>Kilometer</th>\n",
       "      <th>RegistrationMonth</th>\n",
       "      <th>FuelType</th>\n",
       "      <th>Brand</th>\n",
       "      <th>Repaired</th>\n",
       "    </tr>\n",
       "  </thead>\n",
       "  <tbody>\n",
       "    <tr>\n",
       "      <th>3349</th>\n",
       "      <td>1990</td>\n",
       "      <td>small</td>\n",
       "      <td>2004</td>\n",
       "      <td>NaN</td>\n",
       "      <td>7.0</td>\n",
       "      <td>polo</td>\n",
       "      <td>150000</td>\n",
       "      <td>5</td>\n",
       "      <td>gasoline</td>\n",
       "      <td>volkswagen</td>\n",
       "      <td>no</td>\n",
       "    </tr>\n",
       "    <tr>\n",
       "      <th>4637</th>\n",
       "      <td>870</td>\n",
       "      <td>wagon</td>\n",
       "      <td>2000</td>\n",
       "      <td>manual</td>\n",
       "      <td>16.0</td>\n",
       "      <td>focus</td>\n",
       "      <td>150000</td>\n",
       "      <td>0</td>\n",
       "      <td>NaN</td>\n",
       "      <td>ford</td>\n",
       "      <td>no</td>\n",
       "    </tr>\n",
       "    <tr>\n",
       "      <th>12571</th>\n",
       "      <td>5999</td>\n",
       "      <td>small</td>\n",
       "      <td>2014</td>\n",
       "      <td>auto</td>\n",
       "      <td>15.0</td>\n",
       "      <td>other</td>\n",
       "      <td>10000</td>\n",
       "      <td>3</td>\n",
       "      <td>electric</td>\n",
       "      <td>renault</td>\n",
       "      <td>no</td>\n",
       "    </tr>\n",
       "    <tr>\n",
       "      <th>13227</th>\n",
       "      <td>5799</td>\n",
       "      <td>small</td>\n",
       "      <td>2013</td>\n",
       "      <td>auto</td>\n",
       "      <td>18.0</td>\n",
       "      <td>other</td>\n",
       "      <td>10000</td>\n",
       "      <td>6</td>\n",
       "      <td>electric</td>\n",
       "      <td>renault</td>\n",
       "      <td>no</td>\n",
       "    </tr>\n",
       "    <tr>\n",
       "      <th>22708</th>\n",
       "      <td>200</td>\n",
       "      <td>coupe</td>\n",
       "      <td>2001</td>\n",
       "      <td>manual</td>\n",
       "      <td>14.0</td>\n",
       "      <td>other</td>\n",
       "      <td>5000</td>\n",
       "      <td>3</td>\n",
       "      <td>petrol</td>\n",
       "      <td>toyota</td>\n",
       "      <td>yes</td>\n",
       "    </tr>\n",
       "  </tbody>\n",
       "</table>\n",
       "</div>"
      ],
      "text/plain": [
       "       Price VehicleType  RegistrationYear Gearbox  Power  Model  Kilometer  \\\n",
       "3349    1990       small              2004     NaN    7.0   polo     150000   \n",
       "4637     870       wagon              2000  manual   16.0  focus     150000   \n",
       "12571   5999       small              2014    auto   15.0  other      10000   \n",
       "13227   5799       small              2013    auto   18.0  other      10000   \n",
       "22708    200       coupe              2001  manual   14.0  other       5000   \n",
       "\n",
       "       RegistrationMonth  FuelType       Brand Repaired  \n",
       "3349                   5  gasoline  volkswagen       no  \n",
       "4637                   0       NaN        ford       no  \n",
       "12571                  3  electric     renault       no  \n",
       "13227                  6  electric     renault       no  \n",
       "22708                  3    petrol      toyota      yes  "
      ]
     },
     "execution_count": 21,
     "metadata": {},
     "output_type": "execute_result"
    }
   ],
   "source": [
    "data.loc[(data['Power'] < 20) & (data['Power'] > 6)].head()"
   ]
  },
  {
   "cell_type": "markdown",
   "metadata": {},
   "source": [
    "После изучения объявлений о моделях машин первых десяти записей с условием, что количество лошадиных сил меньше 20 и больше 6, можно сделать вывод, что значения можно умножить на 10."
   ]
  },
  {
   "cell_type": "code",
   "execution_count": 22,
   "metadata": {},
   "outputs": [],
   "source": [
    "# заменить значения\n",
    "data.loc[(data['Power'] < 20) & (data['Power'] > 4), 'Power'] = data['Power']*10"
   ]
  },
  {
   "cell_type": "code",
   "execution_count": 23,
   "metadata": {},
   "outputs": [
    {
     "data": {
      "text/plain": [
       "0"
      ]
     },
     "execution_count": 23,
     "metadata": {},
     "output_type": "execute_result"
    }
   ],
   "source": [
    "# проверить\n",
    "data[(data['Power'] < 20) & (data['Power'] > 4)]['Price'].count()"
   ]
  },
  {
   "cell_type": "code",
   "execution_count": 24,
   "metadata": {},
   "outputs": [
    {
     "data": {
      "text/plain": [
       "32633"
      ]
     },
     "execution_count": 24,
     "metadata": {},
     "output_type": "execute_result"
    }
   ],
   "source": [
    "# посчитать количество записей, где мощность автомобиля больше 2500 и меньше 20\n",
    "data[(data['Power'] < 20) & (data['Power'] < 2500)]['Price'].count()"
   ]
  },
  {
   "cell_type": "code",
   "execution_count": 25,
   "metadata": {},
   "outputs": [],
   "source": [
    "# удалить записи, где мощность автомобиля меньше 30 и больше 2500\n",
    "data = data.query('Power >= 30 & Power < 2500')"
   ]
  },
  {
   "cell_type": "code",
   "execution_count": 26,
   "metadata": {},
   "outputs": [
    {
     "data": {
      "text/plain": [
       "0"
      ]
     },
     "execution_count": 26,
     "metadata": {},
     "output_type": "execute_result"
    }
   ],
   "source": [
    "# проверить\n",
    "data[(data['Power'] < 30) | (data['Power'] > 2500)]['Price'].count()"
   ]
  },
  {
   "cell_type": "markdown",
   "metadata": {},
   "source": [
    "#### RegistrationMonth"
   ]
  },
  {
   "cell_type": "code",
   "execution_count": 27,
   "metadata": {
    "scrolled": false
   },
   "outputs": [
    {
     "data": {
      "image/png": "[encoded data removed]",
      "text/plain": [
       "<Figure size 864x432 with 1 Axes>"
      ]
     },
     "metadata": {
      "needs_background": "light"
     },
     "output_type": "display_data"
    }
   ],
   "source": [
    "pd.Series(list(data.RegistrationMonth)).sort_values(ascending=False).plot(kind='hist', \n",
    "                                                                          figsize=(12,6), grid=True, bins=50)\n",
    "plt.title('Распределение уникальных значений месяцев регистрации')\n",
    "plt.ylabel('Количество')\n",
    "plt.xlabel('Месяц')\n",
    "plt.show()"
   ]
  },
  {
   "cell_type": "markdown",
   "metadata": {},
   "source": [
    "Заменим строки со значением 0 на медианное (среднее почти равно 6)."
   ]
  },
  {
   "cell_type": "code",
   "execution_count": 28,
   "metadata": {},
   "outputs": [
    {
     "name": "stdout",
     "output_type": "stream",
     "text": [
      "6.0\n"
     ]
    },
    {
     "data": {
      "text/plain": [
       "0"
      ]
     },
     "execution_count": 28,
     "metadata": {},
     "output_type": "execute_result"
    }
   ],
   "source": [
    "# найти медиану\n",
    "print(data['RegistrationMonth'].median())\n",
    "\n",
    "# заменить нулевые значения на медианное\n",
    "data['RegistrationMonth'] = data['RegistrationMonth'].replace(0, 6)\n",
    "\n",
    "# проверяем, что строк с нулевым значением нет\n",
    "data[(data['RegistrationMonth'] == 0)]['Price'].count()"
   ]
  },
  {
   "cell_type": "markdown",
   "metadata": {},
   "source": [
    "#### Price"
   ]
  },
  {
   "cell_type": "code",
   "execution_count": 29,
   "metadata": {},
   "outputs": [
    {
     "data": {
      "image/png": "[encoded data removed]",
      "text/plain": [
       "<Figure size 864x432 with 1 Axes>"
      ]
     },
     "metadata": {
      "needs_background": "light"
     },
     "output_type": "display_data"
    }
   ],
   "source": [
    "pd.Series(list(data.Price)).sort_values(ascending=False).plot(kind='hist', figsize=(12,6), grid=True, bins=100)\n",
    "plt.title('Распределение уникальных значений цен автомобилей')\n",
    "plt.ylabel('Количество')\n",
    "plt.xlabel('Цена')\n",
    "plt.show()"
   ]
  },
  {
   "cell_type": "markdown",
   "metadata": {},
   "source": [
    "Видим, что у нас есть много около нулевых значений."
   ]
  },
  {
   "cell_type": "code",
   "execution_count": 30,
   "metadata": {},
   "outputs": [
    {
     "data": {
      "image/png": "[encoded data removed]",
      "text/plain": [
       "<Figure size 864x432 with 1 Axes>"
      ]
     },
     "metadata": {
      "needs_background": "light"
     },
     "output_type": "display_data"
    }
   ],
   "source": [
    "pd.Series(list(data.Price)).sort_values(ascending=False).plot(kind='hist', figsize=(12,6), grid=True, bins=1000)\n",
    "plt.title('Распределение уникальных значений цен автомобилей')\n",
    "plt.ylabel('Количество')\n",
    "plt.xlabel('Цена')\n",
    "plt.xlim(0,100)\n",
    "plt.show()"
   ]
  },
  {
   "cell_type": "code",
   "execution_count": 31,
   "metadata": {},
   "outputs": [],
   "source": [
    "# удалить строчки, где цена меньше 10\n",
    "data = data.query('Price > 10')"
   ]
  },
  {
   "cell_type": "code",
   "execution_count": 32,
   "metadata": {},
   "outputs": [
    {
     "data": {
      "text/plain": [
       "0"
      ]
     },
     "execution_count": 32,
     "metadata": {},
     "output_type": "execute_result"
    }
   ],
   "source": [
    "# проверка\n",
    "data[(data['Price'] < 10)]['Price'].count()"
   ]
  },
  {
   "cell_type": "markdown",
   "metadata": {},
   "source": [
    "#### Оставшиеся столбцы"
   ]
  },
  {
   "cell_type": "code",
   "execution_count": 33,
   "metadata": {},
   "outputs": [
    {
     "name": "stdout",
     "output_type": "stream",
     "text": [
      "<class 'pandas.core.frame.DataFrame'>\n",
      "Int64Index: 287254 entries, 1 to 354368\n",
      "Data columns (total 11 columns):\n",
      " #   Column             Non-Null Count   Dtype  \n",
      "---  ------             --------------   -----  \n",
      " 0   Price              287254 non-null  int64  \n",
      " 1   VehicleType        282582 non-null  object \n",
      " 2   RegistrationYear   287254 non-null  int64  \n",
      " 3   Gearbox            282523 non-null  object \n",
      " 4   Power              287254 non-null  float64\n",
      " 5   Model              277419 non-null  object \n",
      " 6   Kilometer          287254 non-null  int64  \n",
      " 7   RegistrationMonth  287254 non-null  int64  \n",
      " 8   FuelType           274546 non-null  object \n",
      " 9   Brand              287254 non-null  object \n",
      " 10  Repaired           247608 non-null  object \n",
      "dtypes: float64(1), int64(4), object(6)\n",
      "memory usage: 26.3+ MB\n"
     ]
    }
   ],
   "source": [
    "data.info()"
   ]
  },
  {
   "cell_type": "code",
   "execution_count": 34,
   "metadata": {},
   "outputs": [
    {
     "data": {
      "text/plain": [
       "array(['coupe', 'suv', 'small', 'sedan', 'convertible', 'bus', 'wagon',\n",
       "       'other', nan], dtype=object)"
      ]
     },
     "execution_count": 34,
     "metadata": {},
     "output_type": "execute_result"
    }
   ],
   "source": [
    "data.VehicleType.unique()"
   ]
  },
  {
   "cell_type": "markdown",
   "metadata": {},
   "source": [
    "Заменим nan на Unknown."
   ]
  },
  {
   "cell_type": "code",
   "execution_count": 35,
   "metadata": {},
   "outputs": [],
   "source": [
    "# заменить пропуски на Unknown\n",
    "data['VehicleType'] = data['VehicleType'].fillna('Unknown')"
   ]
  },
  {
   "cell_type": "markdown",
   "metadata": {},
   "source": [
    "Информация о типе коробки передач довольно важная, поэтому удалим строчки с nan."
   ]
  },
  {
   "cell_type": "code",
   "execution_count": 36,
   "metadata": {},
   "outputs": [],
   "source": [
    "# удалить пропуски в Gearbox\n",
    "data.dropna(subset=['Gearbox'], inplace=True)"
   ]
  },
  {
   "cell_type": "code",
   "execution_count": 37,
   "metadata": {},
   "outputs": [
    {
     "data": {
      "text/plain": [
       "array(['manual', 'auto'], dtype=object)"
      ]
     },
     "execution_count": 37,
     "metadata": {},
     "output_type": "execute_result"
    }
   ],
   "source": [
    "data.Gearbox.unique()"
   ]
  },
  {
   "cell_type": "markdown",
   "metadata": {},
   "source": [
    "Информация о моделе автомобиля самая важная, поэтому удалим строчки с nan."
   ]
  },
  {
   "cell_type": "code",
   "execution_count": 38,
   "metadata": {},
   "outputs": [],
   "source": [
    "# удалить пропуски в Model\n",
    "data.dropna(subset=['Model'], inplace=True)"
   ]
  },
  {
   "cell_type": "code",
   "execution_count": 39,
   "metadata": {},
   "outputs": [],
   "source": [
    "# заменить пропуски на other\n",
    "data['FuelType'] = data['FuelType'].fillna('other')"
   ]
  },
  {
   "cell_type": "code",
   "execution_count": 40,
   "metadata": {},
   "outputs": [
    {
     "data": {
      "text/plain": [
       "array(['gasoline', 'petrol', 'other', 'lpg', 'hybrid', 'cng', 'electric'],\n",
       "      dtype=object)"
      ]
     },
     "execution_count": 40,
     "metadata": {},
     "output_type": "execute_result"
    }
   ],
   "source": [
    "data.FuelType.unique()"
   ]
  },
  {
   "cell_type": "code",
   "execution_count": 41,
   "metadata": {},
   "outputs": [
    {
     "data": {
      "text/plain": [
       "array([nan, 'no', 'yes'], dtype=object)"
      ]
     },
     "execution_count": 41,
     "metadata": {},
     "output_type": "execute_result"
    }
   ],
   "source": [
    "data.Repaired.unique()"
   ]
  },
  {
   "cell_type": "code",
   "execution_count": 42,
   "metadata": {},
   "outputs": [],
   "source": [
    "# заменить пропуски на Unknown\n",
    "data['Repaired'] = data['VehicleType'].fillna('Unknown')"
   ]
  },
  {
   "cell_type": "code",
   "execution_count": 43,
   "metadata": {},
   "outputs": [
    {
     "name": "stdout",
     "output_type": "stream",
     "text": [
      "<class 'pandas.core.frame.DataFrame'>\n",
      "Int64Index: 273249 entries, 2 to 354368\n",
      "Data columns (total 11 columns):\n",
      " #   Column             Non-Null Count   Dtype  \n",
      "---  ------             --------------   -----  \n",
      " 0   Price              273249 non-null  int64  \n",
      " 1   VehicleType        273249 non-null  object \n",
      " 2   RegistrationYear   273249 non-null  int64  \n",
      " 3   Gearbox            273249 non-null  object \n",
      " 4   Power              273249 non-null  float64\n",
      " 5   Model              273249 non-null  object \n",
      " 6   Kilometer          273249 non-null  int64  \n",
      " 7   RegistrationMonth  273249 non-null  int64  \n",
      " 8   FuelType           273249 non-null  object \n",
      " 9   Brand              273249 non-null  object \n",
      " 10  Repaired           273249 non-null  object \n",
      "dtypes: float64(1), int64(4), object(6)\n",
      "memory usage: 25.0+ MB\n"
     ]
    }
   ],
   "source": [
    "data.info()"
   ]
  },
  {
   "cell_type": "code",
   "execution_count": 44,
   "metadata": {},
   "outputs": [
    {
     "data": {
      "text/plain": [
       "(273249, 11)"
      ]
     },
     "execution_count": 44,
     "metadata": {},
     "output_type": "execute_result"
    }
   ],
   "source": [
    "data.shape"
   ]
  },
  {
   "cell_type": "markdown",
   "metadata": {},
   "source": [
    "### Корреляция"
   ]
  },
  {
   "cell_type": "code",
   "execution_count": 45,
   "metadata": {},
   "outputs": [
    {
     "data": {
      "text/html": [
       "<style  type=\"text/css\" >\n",
       "#T_c08d6_row0_col0,#T_c08d6_row1_col1,#T_c08d6_row2_col2,#T_c08d6_row3_col3,#T_c08d6_row4_col4{\n",
       "            background-color:  #b40426;\n",
       "            color:  #f1f1f1;\n",
       "        }#T_c08d6_row0_col1{\n",
       "            background-color:  #f49a7b;\n",
       "            color:  #000000;\n",
       "        }#T_c08d6_row0_col2{\n",
       "            background-color:  #c5d6f2;\n",
       "            color:  #000000;\n",
       "        }#T_c08d6_row0_col3,#T_c08d6_row0_col4{\n",
       "            background-color:  #3f53c6;\n",
       "            color:  #f1f1f1;\n",
       "        }#T_c08d6_row1_col0{\n",
       "            background-color:  #f59c7d;\n",
       "            color:  #000000;\n",
       "        }#T_c08d6_row1_col2{\n",
       "            background-color:  #5e7de7;\n",
       "            color:  #000000;\n",
       "        }#T_c08d6_row1_col3,#T_c08d6_row1_col4,#T_c08d6_row3_col0,#T_c08d6_row3_col1,#T_c08d6_row3_col4,#T_c08d6_row4_col2{\n",
       "            background-color:  #3b4cc0;\n",
       "            color:  #f1f1f1;\n",
       "        }#T_c08d6_row2_col0{\n",
       "            background-color:  #f1cdba;\n",
       "            color:  #000000;\n",
       "        }#T_c08d6_row2_col1{\n",
       "            background-color:  #bcd2f7;\n",
       "            color:  #000000;\n",
       "        }#T_c08d6_row2_col3{\n",
       "            background-color:  #b2ccfb;\n",
       "            color:  #000000;\n",
       "        }#T_c08d6_row2_col4{\n",
       "            background-color:  #4055c8;\n",
       "            color:  #f1f1f1;\n",
       "        }#T_c08d6_row3_col2{\n",
       "            background-color:  #4f69d9;\n",
       "            color:  #000000;\n",
       "        }#T_c08d6_row4_col0,#T_c08d6_row4_col1{\n",
       "            background-color:  #9dbdff;\n",
       "            color:  #000000;\n",
       "        }#T_c08d6_row4_col3{\n",
       "            background-color:  #9ebeff;\n",
       "            color:  #000000;\n",
       "        }</style><table id=\"T_c08d6_\" ><thead>    <tr>        <th class=\"blank level0\" ></th>        <th class=\"col_heading level0 col0\" >Price</th>        <th class=\"col_heading level0 col1\" >RegistrationYear</th>        <th class=\"col_heading level0 col2\" >Power</th>        <th class=\"col_heading level0 col3\" >Kilometer</th>        <th class=\"col_heading level0 col4\" >RegistrationMonth</th>    </tr></thead><tbody>\n",
       "                <tr>\n",
       "                        <th id=\"T_c08d6_level0_row0\" class=\"row_heading level0 row0\" >Price</th>\n",
       "                        <td id=\"T_c08d6_row0_col0\" class=\"data row0 col0\" >1.000000</td>\n",
       "                        <td id=\"T_c08d6_row0_col1\" class=\"data row0 col1\" >0.641710</td>\n",
       "                        <td id=\"T_c08d6_row0_col2\" class=\"data row0 col2\" >0.428102</td>\n",
       "                        <td id=\"T_c08d6_row0_col3\" class=\"data row0 col3\" >-0.397537</td>\n",
       "                        <td id=\"T_c08d6_row0_col4\" class=\"data row0 col4\" >0.016033</td>\n",
       "            </tr>\n",
       "            <tr>\n",
       "                        <th id=\"T_c08d6_level0_row1\" class=\"row_heading level0 row1\" >RegistrationYear</th>\n",
       "                        <td id=\"T_c08d6_row1_col0\" class=\"data row1 col0\" >0.641710</td>\n",
       "                        <td id=\"T_c08d6_row1_col1\" class=\"data row1 col1\" >1.000000</td>\n",
       "                        <td id=\"T_c08d6_row1_col2\" class=\"data row1 col2\" >0.132429</td>\n",
       "                        <td id=\"T_c08d6_row1_col3\" class=\"data row1 col3\" >-0.421000</td>\n",
       "                        <td id=\"T_c08d6_row1_col4\" class=\"data row1 col4\" >-0.002699</td>\n",
       "            </tr>\n",
       "            <tr>\n",
       "                        <th id=\"T_c08d6_level0_row2\" class=\"row_heading level0 row2\" >Power</th>\n",
       "                        <td id=\"T_c08d6_row2_col0\" class=\"data row2 col0\" >0.428102</td>\n",
       "                        <td id=\"T_c08d6_row2_col1\" class=\"data row2 col1\" >0.132429</td>\n",
       "                        <td id=\"T_c08d6_row2_col2\" class=\"data row2 col2\" >1.000000</td>\n",
       "                        <td id=\"T_c08d6_row2_col3\" class=\"data row2 col3\" >0.084448</td>\n",
       "                        <td id=\"T_c08d6_row2_col4\" class=\"data row2 col4\" >0.018092</td>\n",
       "            </tr>\n",
       "            <tr>\n",
       "                        <th id=\"T_c08d6_level0_row3\" class=\"row_heading level0 row3\" >Kilometer</th>\n",
       "                        <td id=\"T_c08d6_row3_col0\" class=\"data row3 col0\" >-0.397537</td>\n",
       "                        <td id=\"T_c08d6_row3_col1\" class=\"data row3 col1\" >-0.421000</td>\n",
       "                        <td id=\"T_c08d6_row3_col2\" class=\"data row3 col2\" >0.084448</td>\n",
       "                        <td id=\"T_c08d6_row3_col3\" class=\"data row3 col3\" >1.000000</td>\n",
       "                        <td id=\"T_c08d6_row3_col4\" class=\"data row3 col4\" >0.001147</td>\n",
       "            </tr>\n",
       "            <tr>\n",
       "                        <th id=\"T_c08d6_level0_row4\" class=\"row_heading level0 row4\" >RegistrationMonth</th>\n",
       "                        <td id=\"T_c08d6_row4_col0\" class=\"data row4 col0\" >0.016033</td>\n",
       "                        <td id=\"T_c08d6_row4_col1\" class=\"data row4 col1\" >-0.002699</td>\n",
       "                        <td id=\"T_c08d6_row4_col2\" class=\"data row4 col2\" >0.018092</td>\n",
       "                        <td id=\"T_c08d6_row4_col3\" class=\"data row4 col3\" >0.001147</td>\n",
       "                        <td id=\"T_c08d6_row4_col4\" class=\"data row4 col4\" >1.000000</td>\n",
       "            </tr>\n",
       "    </tbody></table>"
      ],
      "text/plain": [
       "<pandas.io.formats.style.Styler at 0x7f01f0ff1d00>"
      ]
     },
     "execution_count": 45,
     "metadata": {},
     "output_type": "execute_result"
    }
   ],
   "source": [
    "# посмотреть корреляцию\n",
    "data.corr().style.background_gradient(cmap='coolwarm')"
   ]
  },
  {
   "cell_type": "markdown",
   "metadata": {},
   "source": [
    "Видим, что есть зависимость между ценой и годом регистрации, ценой и мощностью двигателя (чем больше значение года регистрации или мощности автомобиля, тем выше цена), ценой и пробегом (чем выше цена, тем меньше пробег), пробегом и годом регистрации (чем выше значение года регистрации, тем меньше пробег)."
   ]
  },
  {
   "cell_type": "markdown",
   "metadata": {},
   "source": [
    "### OrdinalEncoder"
   ]
  },
  {
   "cell_type": "markdown",
   "metadata": {},
   "source": [
    "При работе с любыми данными, связанными с ранжированием чего-либо с помощью нечисловых категорий, лучше всего использовать OrdinalEncoder."
   ]
  },
  {
   "cell_type": "markdown",
   "metadata": {},
   "source": [
    "Необходимо выбрать значимые столбцы, имеющие значение в ценообразовании."
   ]
  },
  {
   "cell_type": "code",
   "execution_count": 46,
   "metadata": {},
   "outputs": [],
   "source": [
    "# категориальные признаки\n",
    "category_features = ['VehicleType', 'Gearbox', 'Brand', 'Model', 'FuelType', 'Repaired', 'RegistrationMonth']\n",
    "\n",
    "# числовые признаки\n",
    "number_features = ['RegistrationYear', 'Power', 'Kilometer']"
   ]
  },
  {
   "cell_type": "code",
   "execution_count": 47,
   "metadata": {},
   "outputs": [
    {
     "data": {
      "text/html": [
       "<div>\n",
       "<style scoped>\n",
       "    .dataframe tbody tr th:only-of-type {\n",
       "        vertical-align: middle;\n",
       "    }\n",
       "\n",
       "    .dataframe tbody tr th {\n",
       "        vertical-align: top;\n",
       "    }\n",
       "\n",
       "    .dataframe thead th {\n",
       "        text-align: right;\n",
       "    }\n",
       "</style>\n",
       "<table border=\"1\" class=\"dataframe\">\n",
       "  <thead>\n",
       "    <tr style=\"text-align: right;\">\n",
       "      <th></th>\n",
       "      <th>RegistrationYear</th>\n",
       "      <th>Power</th>\n",
       "      <th>Kilometer</th>\n",
       "      <th>VehicleType</th>\n",
       "      <th>Gearbox</th>\n",
       "      <th>Brand</th>\n",
       "      <th>Model</th>\n",
       "      <th>FuelType</th>\n",
       "      <th>Repaired</th>\n",
       "      <th>RegistrationMonth</th>\n",
       "      <th>Price</th>\n",
       "    </tr>\n",
       "  </thead>\n",
       "  <tbody>\n",
       "    <tr>\n",
       "      <th>0</th>\n",
       "      <td>2004</td>\n",
       "      <td>163.0</td>\n",
       "      <td>125000</td>\n",
       "      <td>suv</td>\n",
       "      <td>auto</td>\n",
       "      <td>jeep</td>\n",
       "      <td>grand</td>\n",
       "      <td>gasoline</td>\n",
       "      <td>suv</td>\n",
       "      <td>8</td>\n",
       "      <td>9800</td>\n",
       "    </tr>\n",
       "    <tr>\n",
       "      <th>1</th>\n",
       "      <td>2001</td>\n",
       "      <td>75.0</td>\n",
       "      <td>150000</td>\n",
       "      <td>small</td>\n",
       "      <td>manual</td>\n",
       "      <td>volkswagen</td>\n",
       "      <td>golf</td>\n",
       "      <td>petrol</td>\n",
       "      <td>small</td>\n",
       "      <td>6</td>\n",
       "      <td>1500</td>\n",
       "    </tr>\n",
       "    <tr>\n",
       "      <th>2</th>\n",
       "      <td>2008</td>\n",
       "      <td>69.0</td>\n",
       "      <td>90000</td>\n",
       "      <td>small</td>\n",
       "      <td>manual</td>\n",
       "      <td>skoda</td>\n",
       "      <td>fabia</td>\n",
       "      <td>gasoline</td>\n",
       "      <td>small</td>\n",
       "      <td>7</td>\n",
       "      <td>3600</td>\n",
       "    </tr>\n",
       "    <tr>\n",
       "      <th>3</th>\n",
       "      <td>1995</td>\n",
       "      <td>102.0</td>\n",
       "      <td>150000</td>\n",
       "      <td>sedan</td>\n",
       "      <td>manual</td>\n",
       "      <td>bmw</td>\n",
       "      <td>3er</td>\n",
       "      <td>petrol</td>\n",
       "      <td>sedan</td>\n",
       "      <td>10</td>\n",
       "      <td>650</td>\n",
       "    </tr>\n",
       "    <tr>\n",
       "      <th>4</th>\n",
       "      <td>2004</td>\n",
       "      <td>109.0</td>\n",
       "      <td>150000</td>\n",
       "      <td>convertible</td>\n",
       "      <td>manual</td>\n",
       "      <td>peugeot</td>\n",
       "      <td>2_reihe</td>\n",
       "      <td>petrol</td>\n",
       "      <td>convertible</td>\n",
       "      <td>8</td>\n",
       "      <td>2200</td>\n",
       "    </tr>\n",
       "  </tbody>\n",
       "</table>\n",
       "</div>"
      ],
      "text/plain": [
       "   RegistrationYear  Power  Kilometer  VehicleType Gearbox       Brand  \\\n",
       "0              2004  163.0     125000          suv    auto        jeep   \n",
       "1              2001   75.0     150000        small  manual  volkswagen   \n",
       "2              2008   69.0      90000        small  manual       skoda   \n",
       "3              1995  102.0     150000        sedan  manual         bmw   \n",
       "4              2004  109.0     150000  convertible  manual     peugeot   \n",
       "\n",
       "     Model  FuelType     Repaired  RegistrationMonth  Price  \n",
       "0    grand  gasoline          suv                  8   9800  \n",
       "1     golf    petrol        small                  6   1500  \n",
       "2    fabia  gasoline        small                  7   3600  \n",
       "3      3er    petrol        sedan                 10    650  \n",
       "4  2_reihe    petrol  convertible                  8   2200  "
      ]
     },
     "execution_count": 47,
     "metadata": {},
     "output_type": "execute_result"
    }
   ],
   "source": [
    "# создать новый датасет\n",
    "df = data[number_features + category_features + ['Price']].copy()\n",
    "#сбросить индексы\n",
    "df = df.reset_index(drop=True)\n",
    "# напечатать\n",
    "df.head()"
   ]
  },
  {
   "cell_type": "markdown",
   "metadata": {},
   "source": [
    "### Выборки"
   ]
  },
  {
   "cell_type": "markdown",
   "metadata": {},
   "source": [
    "Разделим новый датасет на выборки в отношении 3:1."
   ]
  },
  {
   "cell_type": "code",
   "execution_count": 48,
   "metadata": {},
   "outputs": [],
   "source": [
    "# разделить данные на признаки\n",
    "features = df.drop(['Price'],axis=1)\n",
    "target = df['Price']"
   ]
  },
  {
   "cell_type": "code",
   "execution_count": 49,
   "metadata": {},
   "outputs": [],
   "source": [
    "# разделить данные на тестовую и обучающую выборки\n",
    "features_train, features_test, target_train, target_test = train_test_split(\n",
    "    features, target, test_size=0.25, random_state=12345)"
   ]
  },
  {
   "cell_type": "code",
   "execution_count": 50,
   "metadata": {},
   "outputs": [],
   "source": [
    "# порядковое кодирование\n",
    "encoder = OrdinalEncoder(handle_unknown='use_encoded_value', unknown_value=9999)\n",
    "cat_columns = category_features\n",
    "encoder.fit(features_train[cat_columns])\n",
    "\n",
    "features_train_ord = features_train.copy()\n",
    "features_test_ord = features_test.copy()\n",
    "\n",
    "features_train_ord[cat_columns] = encoder.transform(features_train_ord[cat_columns])\n",
    "features_test_ord[cat_columns] = encoder.transform(features_test_ord[cat_columns])"
   ]
  },
  {
   "cell_type": "markdown",
   "metadata": {},
   "source": [
    "### StandardScaler"
   ]
  },
  {
   "cell_type": "markdown",
   "metadata": {},
   "source": [
    "StandardScaler вступает в игру, когда характеристики входного набора данных сильно различаются между диапазонами или, когда они измеряются в разных единицах измерения."
   ]
  },
  {
   "cell_type": "code",
   "execution_count": 51,
   "metadata": {},
   "outputs": [
    {
     "name": "stdout",
     "output_type": "stream",
     "text": [
      "(204936, 10)\n",
      "(68313, 10)\n"
     ]
    },
    {
     "data": {
      "text/html": [
       "<div>\n",
       "<style scoped>\n",
       "    .dataframe tbody tr th:only-of-type {\n",
       "        vertical-align: middle;\n",
       "    }\n",
       "\n",
       "    .dataframe tbody tr th {\n",
       "        vertical-align: top;\n",
       "    }\n",
       "\n",
       "    .dataframe thead th {\n",
       "        text-align: right;\n",
       "    }\n",
       "</style>\n",
       "<table border=\"1\" class=\"dataframe\">\n",
       "  <thead>\n",
       "    <tr style=\"text-align: right;\">\n",
       "      <th></th>\n",
       "      <th>RegistrationYear</th>\n",
       "      <th>Power</th>\n",
       "      <th>Kilometer</th>\n",
       "      <th>VehicleType</th>\n",
       "      <th>Gearbox</th>\n",
       "      <th>Brand</th>\n",
       "      <th>Model</th>\n",
       "      <th>FuelType</th>\n",
       "      <th>Repaired</th>\n",
       "      <th>RegistrationMonth</th>\n",
       "    </tr>\n",
       "  </thead>\n",
       "  <tbody>\n",
       "    <tr>\n",
       "      <th>79683</th>\n",
       "      <td>2011</td>\n",
       "      <td>126.0</td>\n",
       "      <td>30000</td>\n",
       "      <td>bus</td>\n",
       "      <td>manual</td>\n",
       "      <td>kia</td>\n",
       "      <td>other</td>\n",
       "      <td>petrol</td>\n",
       "      <td>bus</td>\n",
       "      <td>10</td>\n",
       "    </tr>\n",
       "    <tr>\n",
       "      <th>263469</th>\n",
       "      <td>1994</td>\n",
       "      <td>90.0</td>\n",
       "      <td>150000</td>\n",
       "      <td>sedan</td>\n",
       "      <td>manual</td>\n",
       "      <td>audi</td>\n",
       "      <td>80</td>\n",
       "      <td>petrol</td>\n",
       "      <td>sedan</td>\n",
       "      <td>11</td>\n",
       "    </tr>\n",
       "    <tr>\n",
       "      <th>63910</th>\n",
       "      <td>2009</td>\n",
       "      <td>143.0</td>\n",
       "      <td>125000</td>\n",
       "      <td>sedan</td>\n",
       "      <td>manual</td>\n",
       "      <td>bmw</td>\n",
       "      <td>3er</td>\n",
       "      <td>gasoline</td>\n",
       "      <td>sedan</td>\n",
       "      <td>7</td>\n",
       "    </tr>\n",
       "    <tr>\n",
       "      <th>59878</th>\n",
       "      <td>2001</td>\n",
       "      <td>140.0</td>\n",
       "      <td>150000</td>\n",
       "      <td>convertible</td>\n",
       "      <td>auto</td>\n",
       "      <td>toyota</td>\n",
       "      <td>other</td>\n",
       "      <td>petrol</td>\n",
       "      <td>convertible</td>\n",
       "      <td>6</td>\n",
       "    </tr>\n",
       "    <tr>\n",
       "      <th>183553</th>\n",
       "      <td>2001</td>\n",
       "      <td>136.0</td>\n",
       "      <td>125000</td>\n",
       "      <td>sedan</td>\n",
       "      <td>manual</td>\n",
       "      <td>kia</td>\n",
       "      <td>other</td>\n",
       "      <td>petrol</td>\n",
       "      <td>sedan</td>\n",
       "      <td>8</td>\n",
       "    </tr>\n",
       "  </tbody>\n",
       "</table>\n",
       "</div>"
      ],
      "text/plain": [
       "        RegistrationYear  Power  Kilometer  VehicleType Gearbox   Brand  \\\n",
       "79683               2011  126.0      30000          bus  manual     kia   \n",
       "263469              1994   90.0     150000        sedan  manual    audi   \n",
       "63910               2009  143.0     125000        sedan  manual     bmw   \n",
       "59878               2001  140.0     150000  convertible    auto  toyota   \n",
       "183553              2001  136.0     125000        sedan  manual     kia   \n",
       "\n",
       "        Model  FuelType     Repaired  RegistrationMonth  \n",
       "79683   other    petrol          bus                 10  \n",
       "263469     80    petrol        sedan                 11  \n",
       "63910     3er  gasoline        sedan                  7  \n",
       "59878   other    petrol  convertible                  6  \n",
       "183553  other    petrol        sedan                  8  "
      ]
     },
     "execution_count": 51,
     "metadata": {},
     "output_type": "execute_result"
    }
   ],
   "source": [
    "scaler = StandardScaler()\n",
    "scaler.fit(features_train_ord[number_features])\n",
    "\n",
    "\n",
    "features_train_ord[number_features] = scaler.transform(features_train[number_features])\n",
    "features_test_ord[number_features] = scaler.transform(features_test[number_features])\n",
    "\n",
    "\n",
    "print(features_train_ord.shape)\n",
    "print(features_test_ord.shape)\n",
    "\n",
    "features_train.head()"
   ]
  },
  {
   "cell_type": "markdown",
   "metadata": {},
   "source": [
    "### Вывод"
   ]
  },
  {
   "cell_type": "markdown",
   "metadata": {},
   "source": [
    "- проведена предобработка данных: удалены/изменены аномальные значения, \n",
    "- данные разделены на тестовую и обучающую выборки,\n",
    "- текстовые признаки переведны в цифровой формат с помощью StandartScaler."
   ]
  },
  {
   "cell_type": "markdown",
   "metadata": {},
   "source": [
    "## Обучение моделей"
   ]
  },
  {
   "cell_type": "code",
   "execution_count": 52,
   "metadata": {},
   "outputs": [],
   "source": [
    "def rmse(target, predicted):\n",
    "    return (mean_squared_error(target, predicted) ** 0.5)"
   ]
  },
  {
   "cell_type": "markdown",
   "metadata": {},
   "source": [
    "### RandomForestRegressor"
   ]
  },
  {
   "cell_type": "code",
   "execution_count": 53,
   "metadata": {},
   "outputs": [
    {
     "name": "stdout",
     "output_type": "stream",
     "text": [
      "CPU times: user 1min 1s, sys: 118 ms, total: 1min 1s\n",
      "Wall time: 1min 2s\n"
     ]
    },
    {
     "data": {
      "text/plain": [
       "{'max_depth': 7,\n",
       " 'min_samples_leaf': 1,\n",
       " 'min_samples_split': 2,\n",
       " 'n_estimators': 10}"
      ]
     },
     "execution_count": 53,
     "metadata": {},
     "output_type": "execute_result"
    }
   ],
   "source": [
    "%%time\n",
    "start = time.time()\n",
    "\n",
    "\n",
    "parameters = {'n_estimators': range(5,11,5),'max_depth': range(1,8,3), \n",
    "              'min_samples_leaf': range(1,5,2), 'min_samples_split': range(2,6,2)}\n",
    "\n",
    "model_rfr = RandomForestRegressor()\n",
    "grid = GridSearchCV(model_rfr, parameters, cv=3, scoring='neg_mean_squared_error', error_score='raise')\n",
    "grid.fit(features_train_ord, target_train)\n",
    "\n",
    "grid.best_params_"
   ]
  },
  {
   "cell_type": "code",
   "execution_count": 54,
   "metadata": {},
   "outputs": [
    {
     "name": "stdout",
     "output_type": "stream",
     "text": [
      "CPU times: user 2.93 s, sys: 8 ms, total: 2.94 s\n",
      "Wall time: 2.98 s\n"
     ]
    }
   ],
   "source": [
    "%%time\n",
    "start = time.time()\n",
    "\n",
    "\n",
    "model_rfr = RandomForestRegressor(max_depth=7, min_samples_leaf=3, \n",
    "                              min_samples_split=2, n_estimators=10, random_state=12345)\n",
    "model_rfr.fit(features_train_ord, target_train)\n",
    "\n",
    "\n",
    "end = time.time()\n",
    "t_rfr_1 = round(end-start,2)"
   ]
  },
  {
   "cell_type": "code",
   "execution_count": 55,
   "metadata": {},
   "outputs": [
    {
     "name": "stdout",
     "output_type": "stream",
     "text": [
      "RMSE RandomForestRegressor =  2039.808172520536\n",
      "\n",
      "CPU times: user 141 ms, sys: 0 ns, total: 141 ms\n",
      "Wall time: 141 ms\n"
     ]
    }
   ],
   "source": [
    "%%time\n",
    "start = time.time()\n",
    "\n",
    "\n",
    "pred_rfr = model_rfr.predict(features_train_ord)\n",
    "\n",
    "end = time.time()\n",
    "t_rfr_2 = round(end-start,2)\n",
    "\n",
    "result_rfr = rmse(target_train, pred_rfr)\n",
    "print('RMSE RandomForestRegressor = ', result_rfr)\n",
    "print()"
   ]
  },
  {
   "cell_type": "markdown",
   "metadata": {},
   "source": [
    "### CatBoostRegressor"
   ]
  },
  {
   "cell_type": "code",
   "execution_count": 56,
   "metadata": {},
   "outputs": [
    {
     "name": "stderr",
     "output_type": "stream",
     "text": [
      "/tmp/ipykernel_157/4221834740.py:12: SettingWithCopyWarning: \n",
      "A value is trying to be set on a copy of a slice from a DataFrame.\n",
      "Try using .loc[row_indexer,col_indexer] = value instead\n",
      "\n",
      "See the caveats in the documentation: https://pandas.pydata.org/pandas-docs/stable/user_guide/indexing.html#returning-a-view-versus-a-copy\n",
      "  features_train[number_features] = scaler.transform(features_train[number_features])\n",
      "/opt/conda/lib/python3.9/site-packages/pandas/core/indexing.py:1738: SettingWithCopyWarning: \n",
      "A value is trying to be set on a copy of a slice from a DataFrame.\n",
      "Try using .loc[row_indexer,col_indexer] = value instead\n",
      "\n",
      "See the caveats in the documentation: https://pandas.pydata.org/pandas-docs/stable/user_guide/indexing.html#returning-a-view-versus-a-copy\n",
      "  self._setitem_single_column(loc, value[:, i].tolist(), pi)\n",
      "/tmp/ipykernel_157/4221834740.py:13: SettingWithCopyWarning: \n",
      "A value is trying to be set on a copy of a slice from a DataFrame.\n",
      "Try using .loc[row_indexer,col_indexer] = value instead\n",
      "\n",
      "See the caveats in the documentation: https://pandas.pydata.org/pandas-docs/stable/user_guide/indexing.html#returning-a-view-versus-a-copy\n",
      "  features_test[number_features] = scaler.transform(features_test[number_features])\n",
      "/opt/conda/lib/python3.9/site-packages/pandas/core/indexing.py:1738: SettingWithCopyWarning: \n",
      "A value is trying to be set on a copy of a slice from a DataFrame.\n",
      "Try using .loc[row_indexer,col_indexer] = value instead\n",
      "\n",
      "See the caveats in the documentation: https://pandas.pydata.org/pandas-docs/stable/user_guide/indexing.html#returning-a-view-versus-a-copy\n",
      "  self._setitem_single_column(loc, value[:, i].tolist(), pi)\n"
     ]
    }
   ],
   "source": [
    "# подготовить заново признаки для бустинга\n",
    "features = data.drop(columns='Price')\n",
    "target = data['Price']\n",
    "\n",
    "# разделить выборку на обучающую и тестовую\n",
    "features_train, features_test, target_train, target_test = train_test_split(\n",
    "    features, target, test_size=0.25, random_state=12345)\n",
    "\n",
    "# провести скалирование\n",
    "scaler = StandardScaler()\n",
    "scaler.fit(features_train[number_features])\n",
    "features_train[number_features] = scaler.transform(features_train[number_features])\n",
    "features_test[number_features] = scaler.transform(features_test[number_features])"
   ]
  },
  {
   "cell_type": "code",
   "execution_count": 57,
   "metadata": {},
   "outputs": [
    {
     "name": "stdout",
     "output_type": "stream",
     "text": [
      "Learning rate set to 0.5\n",
      "0:\tlearn: 3169.7893825\ttotal: 166ms\tremaining: 8.14s\n",
      "10:\tlearn: 1847.7156693\ttotal: 1.16s\tremaining: 4.12s\n",
      "20:\tlearn: 1761.1702988\ttotal: 2.1s\tremaining: 2.9s\n",
      "30:\tlearn: 1719.6410213\ttotal: 3.09s\tremaining: 1.9s\n",
      "40:\tlearn: 1689.1950421\ttotal: 4.23s\tremaining: 928ms\n",
      "49:\tlearn: 1670.5622316\ttotal: 5.2s\tremaining: 0us\n",
      "CPU times: user 5.52 s, sys: 95.2 ms, total: 5.62 s\n",
      "Wall time: 6.66 s\n"
     ]
    }
   ],
   "source": [
    "%%time\n",
    "start = time.time()\n",
    "\n",
    "\n",
    "model_cat = CatBoostRegressor(loss_function=\"RMSE\", iterations=50)\n",
    "model_cat.fit(features_train, target_train, cat_features=category_features, verbose=10)\n",
    "\n",
    "\n",
    "end = time.time()\n",
    "t_cat_1 = round(end-start,2)"
   ]
  },
  {
   "cell_type": "code",
   "execution_count": 58,
   "metadata": {},
   "outputs": [
    {
     "name": "stdout",
     "output_type": "stream",
     "text": [
      "RMSE CatBoost =  1667.3604497354756\n",
      "\n",
      "CPU times: user 379 ms, sys: 3.94 ms, total: 383 ms\n",
      "Wall time: 417 ms\n"
     ]
    }
   ],
   "source": [
    "%%time\n",
    "start = time.time()\n",
    "\n",
    "\n",
    "pred_cat = model_cat.predict(features_train)\n",
    "\n",
    "end = time.time()\n",
    "t_cat_2 = round(end-start,2)\n",
    "\n",
    "result_cat = rmse(target_train, pred_cat)\n",
    "print('RMSE CatBoost = ', result_cat)\n",
    "print()"
   ]
  },
  {
   "cell_type": "markdown",
   "metadata": {},
   "source": [
    "### LightGBM"
   ]
  },
  {
   "cell_type": "code",
   "execution_count": 59,
   "metadata": {},
   "outputs": [
    {
     "data": {
      "text/html": [
       "<div>\n",
       "<style scoped>\n",
       "    .dataframe tbody tr th:only-of-type {\n",
       "        vertical-align: middle;\n",
       "    }\n",
       "\n",
       "    .dataframe tbody tr th {\n",
       "        vertical-align: top;\n",
       "    }\n",
       "\n",
       "    .dataframe thead th {\n",
       "        text-align: right;\n",
       "    }\n",
       "</style>\n",
       "<table border=\"1\" class=\"dataframe\">\n",
       "  <thead>\n",
       "    <tr style=\"text-align: right;\">\n",
       "      <th></th>\n",
       "      <th>VehicleType</th>\n",
       "      <th>RegistrationYear</th>\n",
       "      <th>Gearbox</th>\n",
       "      <th>Power</th>\n",
       "      <th>Model</th>\n",
       "      <th>Kilometer</th>\n",
       "      <th>RegistrationMonth</th>\n",
       "      <th>FuelType</th>\n",
       "      <th>Brand</th>\n",
       "      <th>Repaired</th>\n",
       "    </tr>\n",
       "  </thead>\n",
       "  <tbody>\n",
       "    <tr>\n",
       "      <th>103199</th>\n",
       "      <td>1.0</td>\n",
       "      <td>1.448801</td>\n",
       "      <td>1.0</td>\n",
       "      <td>0.057416</td>\n",
       "      <td>166.0</td>\n",
       "      <td>-2.714972</td>\n",
       "      <td>10</td>\n",
       "      <td>6.0</td>\n",
       "      <td>15.0</td>\n",
       "      <td>1.0</td>\n",
       "    </tr>\n",
       "    <tr>\n",
       "      <th>341694</th>\n",
       "      <td>5.0</td>\n",
       "      <td>-1.589854</td>\n",
       "      <td>1.0</td>\n",
       "      <td>-0.520426</td>\n",
       "      <td>20.0</td>\n",
       "      <td>0.592037</td>\n",
       "      <td>11</td>\n",
       "      <td>6.0</td>\n",
       "      <td>1.0</td>\n",
       "      <td>5.0</td>\n",
       "    </tr>\n",
       "    <tr>\n",
       "      <th>82930</th>\n",
       "      <td>5.0</td>\n",
       "      <td>1.091312</td>\n",
       "      <td>1.0</td>\n",
       "      <td>0.330285</td>\n",
       "      <td>11.0</td>\n",
       "      <td>-0.096924</td>\n",
       "      <td>7</td>\n",
       "      <td>2.0</td>\n",
       "      <td>2.0</td>\n",
       "      <td>5.0</td>\n",
       "    </tr>\n",
       "    <tr>\n",
       "      <th>77701</th>\n",
       "      <td>2.0</td>\n",
       "      <td>-0.338643</td>\n",
       "      <td>0.0</td>\n",
       "      <td>0.282132</td>\n",
       "      <td>166.0</td>\n",
       "      <td>0.592037</td>\n",
       "      <td>6</td>\n",
       "      <td>6.0</td>\n",
       "      <td>35.0</td>\n",
       "      <td>2.0</td>\n",
       "    </tr>\n",
       "    <tr>\n",
       "      <th>238206</th>\n",
       "      <td>5.0</td>\n",
       "      <td>-0.338643</td>\n",
       "      <td>1.0</td>\n",
       "      <td>0.217927</td>\n",
       "      <td>166.0</td>\n",
       "      <td>-0.096924</td>\n",
       "      <td>8</td>\n",
       "      <td>6.0</td>\n",
       "      <td>15.0</td>\n",
       "      <td>5.0</td>\n",
       "    </tr>\n",
       "  </tbody>\n",
       "</table>\n",
       "</div>"
      ],
      "text/plain": [
       "        VehicleType  RegistrationYear  Gearbox     Power  Model  Kilometer  \\\n",
       "103199          1.0          1.448801      1.0  0.057416  166.0  -2.714972   \n",
       "341694          5.0         -1.589854      1.0 -0.520426   20.0   0.592037   \n",
       "82930           5.0          1.091312      1.0  0.330285   11.0  -0.096924   \n",
       "77701           2.0         -0.338643      0.0  0.282132  166.0   0.592037   \n",
       "238206          5.0         -0.338643      1.0  0.217927  166.0  -0.096924   \n",
       "\n",
       "        RegistrationMonth  FuelType  Brand  Repaired  \n",
       "103199                 10       6.0   15.0       1.0  \n",
       "341694                 11       6.0    1.0       5.0  \n",
       "82930                   7       2.0    2.0       5.0  \n",
       "77701                   6       6.0   35.0       2.0  \n",
       "238206                  8       6.0   15.0       5.0  "
      ]
     },
     "execution_count": 59,
     "metadata": {},
     "output_type": "execute_result"
    }
   ],
   "source": [
    "features_train_gbm = features_train.copy()\n",
    "features_test_gbm = features_test.copy()\n",
    "\n",
    "category_features_gbm = ['VehicleType', 'Gearbox', 'Brand', 'Model', 'FuelType', 'Repaired']\n",
    "\n",
    "encoder = OrdinalEncoder()\n",
    "encoder.fit(features_train_gbm[category_features_gbm])\n",
    "features_train_gbm[category_features_gbm] = encoder.transform(features_train_gbm[category_features_gbm])\n",
    "features_test_gbm[category_features_gbm] = encoder.transform(features_test_gbm[category_features_gbm])\n",
    "\n",
    "features_train_gbm.head()"
   ]
  },
  {
   "cell_type": "code",
   "execution_count": 60,
   "metadata": {
    "scrolled": true
   },
   "outputs": [
    {
     "name": "stdout",
     "output_type": "stream",
     "text": [
      "[LightGBM] [Warning] Auto-choosing row-wise multi-threading, the overhead of testing was 0.127417 seconds.\n",
      "You can set `force_row_wise=true` to remove the overhead.\n",
      "And if memory is not enough, you can set `force_col_wise=true`.\n",
      "[1]\tvalid_0's l2: 1.86193e+07\n",
      "[2]\tvalid_0's l2: 1.60916e+07\n",
      "[3]\tvalid_0's l2: 1.40195e+07\n",
      "[4]\tvalid_0's l2: 1.2319e+07\n",
      "[5]\tvalid_0's l2: 1.09175e+07\n",
      "[6]\tvalid_0's l2: 9.76333e+06\n",
      "[7]\tvalid_0's l2: 8.7971e+06\n",
      "[8]\tvalid_0's l2: 7.99876e+06\n",
      "[9]\tvalid_0's l2: 7.35124e+06\n",
      "[10]\tvalid_0's l2: 6.79393e+06\n",
      "[11]\tvalid_0's l2: 6.34224e+06\n",
      "[12]\tvalid_0's l2: 5.95588e+06\n",
      "[13]\tvalid_0's l2: 5.62127e+06\n",
      "[14]\tvalid_0's l2: 5.34338e+06\n",
      "[15]\tvalid_0's l2: 5.09574e+06\n",
      "[16]\tvalid_0's l2: 4.88111e+06\n",
      "[17]\tvalid_0's l2: 4.69177e+06\n",
      "[18]\tvalid_0's l2: 4.531e+06\n",
      "[19]\tvalid_0's l2: 4.401e+06\n",
      "[20]\tvalid_0's l2: 4.26954e+06\n",
      "[21]\tvalid_0's l2: 4.16276e+06\n",
      "[22]\tvalid_0's l2: 4.07227e+06\n",
      "[23]\tvalid_0's l2: 3.9869e+06\n",
      "[24]\tvalid_0's l2: 3.91035e+06\n",
      "[25]\tvalid_0's l2: 3.82236e+06\n",
      "[26]\tvalid_0's l2: 3.74961e+06\n",
      "[27]\tvalid_0's l2: 3.6852e+06\n",
      "[28]\tvalid_0's l2: 3.62459e+06\n",
      "[29]\tvalid_0's l2: 3.56866e+06\n",
      "[30]\tvalid_0's l2: 3.52211e+06\n",
      "[31]\tvalid_0's l2: 3.48309e+06\n",
      "[32]\tvalid_0's l2: 3.44956e+06\n",
      "[33]\tvalid_0's l2: 3.41401e+06\n",
      "[34]\tvalid_0's l2: 3.37557e+06\n",
      "[35]\tvalid_0's l2: 3.35079e+06\n",
      "[36]\tvalid_0's l2: 3.32036e+06\n",
      "[37]\tvalid_0's l2: 3.29804e+06\n",
      "[38]\tvalid_0's l2: 3.27493e+06\n",
      "[39]\tvalid_0's l2: 3.25768e+06\n",
      "[40]\tvalid_0's l2: 3.23513e+06\n",
      "[41]\tvalid_0's l2: 3.21944e+06\n",
      "[42]\tvalid_0's l2: 3.19743e+06\n",
      "[43]\tvalid_0's l2: 3.18207e+06\n",
      "[44]\tvalid_0's l2: 3.16523e+06\n",
      "[45]\tvalid_0's l2: 3.15e+06\n",
      "[46]\tvalid_0's l2: 3.13294e+06\n",
      "[47]\tvalid_0's l2: 3.11991e+06\n",
      "[48]\tvalid_0's l2: 3.10689e+06\n",
      "[49]\tvalid_0's l2: 3.09685e+06\n",
      "[50]\tvalid_0's l2: 3.08266e+06\n",
      "[51]\tvalid_0's l2: 3.07251e+06\n",
      "[52]\tvalid_0's l2: 3.05974e+06\n",
      "[53]\tvalid_0's l2: 3.05302e+06\n",
      "[70]\tvalid_0's l2: 2.91792e+06\n",
      "[71]\tvalid_0's l2: 2.91159e+06\n",
      "[72]\tvalid_0's l2: 2.90704e+06\n",
      "[73]\tvalid_0's l2: 2.90142e+06\n",
      "[74]\tvalid_0's l2: 2.89391e+06\n",
      "[75]\tvalid_0's l2: 2.88706e+06\n",
      "[76]\tvalid_0's l2: 2.8808e+06\n",
      "[77]\tvalid_0's l2: 2.87543e+06\n",
      "[78]\tvalid_0's l2: 2.86983e+06\n",
      "[79]\tvalid_0's l2: 2.86599e+06\n",
      "[80]\tvalid_0's l2: 2.86308e+06\n",
      "[81]\tvalid_0's l2: 2.85863e+06\n",
      "[82]\tvalid_0's l2: 2.85456e+06\n",
      "[83]\tvalid_0's l2: 2.84871e+06\n",
      "[84]\tvalid_0's l2: 2.8433e+06\n",
      "[85]\tvalid_0's l2: 2.8419e+06\n",
      "[86]\tvalid_0's l2: 2.83816e+06\n",
      "[87]\tvalid_0's l2: 2.83351e+06\n",
      "[88]\tvalid_0's l2: 2.82717e+06\n",
      "[89]\tvalid_0's l2: 2.82345e+06\n",
      "[90]\tvalid_0's l2: 2.81989e+06\n",
      "[91]\tvalid_0's l2: 2.81491e+06\n",
      "[92]\tvalid_0's l2: 2.81091e+06\n",
      "[93]\tvalid_0's l2: 2.80867e+06\n",
      "[94]\tvalid_0's l2: 2.80604e+06\n",
      "[95]\tvalid_0's l2: 2.80171e+06\n",
      "[96]\tvalid_0's l2: 2.79952e+06\n",
      "[97]\tvalid_0's l2: 2.79583e+06\n",
      "[98]\tvalid_0's l2: 2.79198e+06\n",
      "[99]\tvalid_0's l2: 2.78725e+06\n",
      "[100]\tvalid_0's l2: 2.7824e+06\n",
      "CPU times: user 7min 6s, sys: 4.52 s, total: 7min 11s\n",
      "Wall time: 7min 13s\n"
     ]
    }
   ],
   "source": [
    "%%time\n",
    "start = time.time()\n",
    "\n",
    "\n",
    "model_lgbm = LGBMRegressor(boosting_type='gbdt', verbose=0, seed=12345)\n",
    "model_lgbm.fit(features_train_gbm, target_train, eval_set=(features_test_gbm, target_test))\n",
    "\n",
    "\n",
    "end = time.time()\n",
    "t_lgbm_1 = round(end-start,2)"
   ]
  },
  {
   "cell_type": "code",
   "execution_count": 61,
   "metadata": {},
   "outputs": [
    {
     "name": "stdout",
     "output_type": "stream",
     "text": [
      "RMSE LinearRegression =  1632.2125307358694\n",
      "\n",
      "CPU times: user 1.52 s, sys: 9.1 ms, total: 1.53 s\n",
      "Wall time: 1.52 s\n"
     ]
    }
   ],
   "source": [
    "%%time\n",
    "start = time.time()\n",
    "\n",
    "\n",
    "pred_lgbm = model_lgbm.predict(features_train_gbm)\n",
    "\n",
    "\n",
    "end = time.time()\n",
    "t_lgbm_2 = round(end-start,2)\n",
    "\n",
    "result_lgbm = rmse(target_train, pred_lgbm)\n",
    "print('RMSE LinearRegression = ', result_lgbm)\n",
    "print()"
   ]
  },
  {
   "cell_type": "markdown",
   "metadata": {},
   "source": [
    "## Анализ моделей"
   ]
  },
  {
   "cell_type": "code",
   "execution_count": 62,
   "metadata": {},
   "outputs": [
    {
     "data": {
      "text/html": [
       "<div>\n",
       "<style scoped>\n",
       "    .dataframe tbody tr th:only-of-type {\n",
       "        vertical-align: middle;\n",
       "    }\n",
       "\n",
       "    .dataframe tbody tr th {\n",
       "        vertical-align: top;\n",
       "    }\n",
       "\n",
       "    .dataframe thead th {\n",
       "        text-align: right;\n",
       "    }\n",
       "</style>\n",
       "<table border=\"1\" class=\"dataframe\">\n",
       "  <thead>\n",
       "    <tr style=\"text-align: right;\">\n",
       "      <th></th>\n",
       "      <th>Модель</th>\n",
       "      <th>Время обучения</th>\n",
       "      <th>Время предсказания</th>\n",
       "      <th>RMSE</th>\n",
       "    </tr>\n",
       "  </thead>\n",
       "  <tbody>\n",
       "    <tr>\n",
       "      <th>0</th>\n",
       "      <td>RandomForestRegressor</td>\n",
       "      <td>2.98</td>\n",
       "      <td>0.14</td>\n",
       "      <td>2039.808173</td>\n",
       "    </tr>\n",
       "    <tr>\n",
       "      <th>1</th>\n",
       "      <td>CatBoost</td>\n",
       "      <td>6.66</td>\n",
       "      <td>0.42</td>\n",
       "      <td>1667.360450</td>\n",
       "    </tr>\n",
       "    <tr>\n",
       "      <th>2</th>\n",
       "      <td>LightGBM</td>\n",
       "      <td>433.24</td>\n",
       "      <td>1.52</td>\n",
       "      <td>1632.212531</td>\n",
       "    </tr>\n",
       "  </tbody>\n",
       "</table>\n",
       "</div>"
      ],
      "text/plain": [
       "                  Модель  Время обучения  Время предсказания         RMSE\n",
       "0  RandomForestRegressor            2.98                0.14  2039.808173\n",
       "1               CatBoost            6.66                0.42  1667.360450\n",
       "2               LightGBM          433.24                1.52  1632.212531"
      ]
     },
     "execution_count": 62,
     "metadata": {},
     "output_type": "execute_result"
    }
   ],
   "source": [
    "data_end = [{'Модель': 'RandomForestRegressor', 'Время обучения': t_rfr_1, \n",
    "             'Время предсказания': t_rfr_2, 'RMSE': result_rfr}, \n",
    "            {'Модель': 'CatBoost', 'Время обучения': t_cat_1, \n",
    "             'Время предсказания': t_cat_2, 'RMSE': result_cat},\n",
    "            {'Модель': 'LightGBM', 'Время обучения': t_lgbm_1, \n",
    "             'Время предсказания': t_lgbm_2, 'RMSE': result_lgbm}]\n",
    "\n",
    "dframe = pd.DataFrame(data_end, columns =['Модель', 'Время обучения', 'Время предсказания', 'RMSE'])\n",
    "dframe"
   ]
  },
  {
   "cell_type": "markdown",
   "metadata": {},
   "source": [
    "Качество предсказания у CatBoot и LightGBM практически одинаковое (LightGBM) немного выигрывает. Время обчуения у LightGBM довольно больше остальных моделей. Время предсказания у LightGBM тоже больше. Лучше всего справилась модель CatBoost."
   ]
  },
  {
   "cell_type": "markdown",
   "metadata": {},
   "source": [
    "## Тестирование лучшей модели"
   ]
  },
  {
   "cell_type": "markdown",
   "metadata": {},
   "source": [
    "Лучше всего на обучающей выборке показала себя модель CatBoost. Проведём тестирование этой модели."
   ]
  },
  {
   "cell_type": "code",
   "execution_count": 63,
   "metadata": {},
   "outputs": [
    {
     "name": "stdout",
     "output_type": "stream",
     "text": [
      "RMSE CatBoost =  1701.6945070542681\n",
      "\n",
      "CPU times: user 115 ms, sys: 0 ns, total: 115 ms\n",
      "Wall time: 124 ms\n"
     ]
    }
   ],
   "source": [
    "%%time\n",
    "start = time.time()\n",
    "pred_cat_new = model_cat.predict(features_test)\n",
    "\n",
    "end = time.time()\n",
    "t_cat_2 = round(end-start,2)\n",
    "\n",
    "result_cat_new = rmse(target_test, pred_cat_new)\n",
    "print('RMSE CatBoost = ', result_cat_new)\n",
    "print()"
   ]
  },
  {
   "cell_type": "markdown",
   "metadata": {},
   "source": [
    "## Выводы"
   ]
  },
  {
   "cell_type": "markdown",
   "metadata": {},
   "source": [
    "1. <b>Проведена предобработка данных</b>  \n",
    "    - Проведена работа с аномальными значениями.  \n",
    "    - Проведена работа с пропусками.  \n",
    "    - Изучена корреляция между признаками.  \n",
    "2. <b>Данные разбиты на выборки</b> \n",
    "    - Данные были разбиты на две выборки: обучающая и тестовая в отношении 3:1 соответственно.\n",
    "    - Использован OrdinalEncoder.\n",
    "    - Использован StandardScaler.\n",
    "3. <b>Исследованы модели</b> \n",
    "    - RandomForestRegressor: RMSE = 2124.144450.\n",
    "    - LinearRegression: RMSE = 3181.420617.\n",
    "    - CatBoost: RMSE = 1737.870490.\n",
    "    - LightGBM: RMSE = 1713.555717.\n",
    "4. <b>Лучшей моделью по критериям (время обучения, время предсказания, RMSE) выбрана CatBoost.</b>"
   ]
  }
 ],
 "metadata": {
  "ExecuteTimeLog": [
   {
    "duration": 91,
    "start_time": "2023-05-03T09:32:59.543Z"
   },
   {
    "duration": 1691,
    "start_time": "2023-05-03T09:33:43.656Z"
   },
   {
    "duration": 1264,
    "start_time": "2023-05-03T09:33:48.153Z"
   },
   {
    "duration": 21,
    "start_time": "2023-05-03T09:33:50.905Z"
   },
   {
    "duration": 144,
    "start_time": "2023-05-03T09:34:36.464Z"
   },
   {
    "duration": 344,
    "start_time": "2023-05-03T09:34:42.310Z"
   },
   {
    "duration": 29,
    "start_time": "2023-05-03T09:35:22.306Z"
   },
   {
    "duration": 104,
    "start_time": "2023-05-03T09:35:50.752Z"
   },
   {
    "duration": 13,
    "start_time": "2023-05-03T09:40:38.855Z"
   },
   {
    "duration": 4,
    "start_time": "2023-05-03T09:40:44.517Z"
   },
   {
    "duration": 80,
    "start_time": "2023-05-03T09:40:45.709Z"
   },
   {
    "duration": 20,
    "start_time": "2023-05-03T09:40:48.410Z"
   },
   {
    "duration": 94,
    "start_time": "2023-05-03T09:40:52.821Z"
   },
   {
    "duration": 48,
    "start_time": "2023-05-03T09:41:42.279Z"
   },
   {
    "duration": 14,
    "start_time": "2023-05-03T09:42:08.910Z"
   },
   {
    "duration": 39,
    "start_time": "2023-05-03T09:42:11.456Z"
   },
   {
    "duration": 8,
    "start_time": "2023-05-03T09:42:13.054Z"
   },
   {
    "duration": 444,
    "start_time": "2023-05-03T09:42:14.247Z"
   },
   {
    "duration": 250,
    "start_time": "2023-05-03T09:42:19.200Z"
   },
   {
    "duration": 16,
    "start_time": "2023-05-03T09:42:21.529Z"
   },
   {
    "duration": 352,
    "start_time": "2023-05-03T09:42:23.336Z"
   },
   {
    "duration": 18,
    "start_time": "2023-05-03T09:42:26.642Z"
   },
   {
    "duration": 21,
    "start_time": "2023-05-03T09:42:28.593Z"
   },
   {
    "duration": 8,
    "start_time": "2023-05-03T09:42:30.545Z"
   },
   {
    "duration": 25,
    "start_time": "2023-05-03T09:42:31.823Z"
   },
   {
    "duration": 7,
    "start_time": "2023-05-03T09:42:33.223Z"
   },
   {
    "duration": 21,
    "start_time": "2023-05-03T09:42:35.193Z"
   },
   {
    "duration": 14,
    "start_time": "2023-05-03T09:42:37.594Z"
   },
   {
    "duration": 6,
    "start_time": "2023-05-03T09:42:39.313Z"
   },
   {
    "duration": 12,
    "start_time": "2023-05-03T09:42:40.515Z"
   },
   {
    "duration": 30,
    "start_time": "2023-05-03T09:42:45.413Z"
   },
   {
    "duration": 6,
    "start_time": "2023-05-03T09:42:46.724Z"
   },
   {
    "duration": 417,
    "start_time": "2023-05-03T09:42:49.017Z"
   },
   {
    "duration": 347,
    "start_time": "2023-05-03T09:43:07.541Z"
   },
   {
    "duration": 15,
    "start_time": "2023-05-03T09:43:10.920Z"
   },
   {
    "duration": 447,
    "start_time": "2023-05-03T09:43:13.074Z"
   },
   {
    "duration": 1637,
    "start_time": "2023-05-03T09:43:15.704Z"
   },
   {
    "duration": 23,
    "start_time": "2023-05-03T09:43:19.265Z"
   },
   {
    "duration": 8,
    "start_time": "2023-05-03T09:43:20.700Z"
   },
   {
    "duration": 15,
    "start_time": "2023-05-03T09:43:25.741Z"
   },
   {
    "duration": 32,
    "start_time": "2023-05-03T09:43:27.907Z"
   },
   {
    "duration": 39,
    "start_time": "2023-05-03T09:43:29.993Z"
   },
   {
    "duration": 22,
    "start_time": "2023-05-03T09:43:31.400Z"
   },
   {
    "duration": 14,
    "start_time": "2023-05-03T09:43:34.329Z"
   },
   {
    "duration": 11,
    "start_time": "2023-05-03T09:43:40.159Z"
   },
   {
    "duration": 77,
    "start_time": "2023-05-03T09:43:53.812Z"
   },
   {
    "duration": 3,
    "start_time": "2023-05-03T09:44:04.309Z"
   },
   {
    "duration": 58,
    "start_time": "2023-05-03T09:44:05.748Z"
   },
   {
    "duration": 20,
    "start_time": "2023-05-03T09:44:08.208Z"
   },
   {
    "duration": 67,
    "start_time": "2023-05-03T09:44:11.439Z"
   },
   {
    "duration": 935,
    "start_time": "2023-05-03T09:44:13.291Z"
   },
   {
    "duration": 15,
    "start_time": "2023-05-03T09:44:26.054Z"
   },
   {
    "duration": 148,
    "start_time": "2023-05-03T09:44:42.998Z"
   },
   {
    "duration": 142,
    "start_time": "2023-05-03T09:46:39.718Z"
   },
   {
    "duration": 55301,
    "start_time": "2023-05-03T09:46:56.005Z"
   },
   {
    "duration": 2362,
    "start_time": "2023-05-03T09:48:34.749Z"
   },
   {
    "duration": 53,
    "start_time": "2023-05-03T09:49:11.302Z"
   },
   {
    "duration": 55,
    "start_time": "2023-05-03T09:49:21.653Z"
   },
   {
    "duration": 52,
    "start_time": "2023-05-03T09:49:48.346Z"
   },
   {
    "duration": 480,
    "start_time": "2023-05-03T09:52:55.933Z"
   },
   {
    "duration": 780,
    "start_time": "2023-05-03T09:53:31.522Z"
   },
   {
    "duration": 668,
    "start_time": "2023-05-03T09:53:50.314Z"
   },
   {
    "duration": 654,
    "start_time": "2023-05-03T09:54:29.746Z"
   },
   {
    "duration": 37012,
    "start_time": "2023-05-03T09:54:32.887Z"
   },
   {
    "duration": 153,
    "start_time": "2023-05-03T09:55:18.944Z"
   },
   {
    "duration": 3,
    "start_time": "2023-05-03T09:55:28.632Z"
   },
   {
    "duration": 2371,
    "start_time": "2023-05-03T09:57:53.603Z"
   },
   {
    "duration": 243,
    "start_time": "2023-05-03T09:58:45.818Z"
   },
   {
    "duration": 233,
    "start_time": "2023-05-03T09:59:00.598Z"
   },
   {
    "duration": 3187,
    "start_time": "2023-05-03T09:59:30.124Z"
   },
   {
    "duration": 214,
    "start_time": "2023-05-03T09:59:39.706Z"
   },
   {
    "duration": 53,
    "start_time": "2023-05-03T09:59:48.214Z"
   },
   {
    "duration": 228,
    "start_time": "2023-05-03T10:00:43.208Z"
   },
   {
    "duration": 50,
    "start_time": "2023-05-03T10:01:00.420Z"
   },
   {
    "duration": 59168,
    "start_time": "2023-05-03T10:03:01.388Z"
   },
   {
    "duration": 2516,
    "start_time": "2023-05-03T10:04:16.630Z"
   },
   {
    "duration": 51,
    "start_time": "2023-05-03T10:04:46.212Z"
   },
   {
    "duration": 285,
    "start_time": "2023-05-03T10:05:01.819Z"
   },
   {
    "duration": 124,
    "start_time": "2023-05-03T10:05:13.816Z"
   },
   {
    "duration": 644,
    "start_time": "2023-05-03T10:05:26.823Z"
   },
   {
    "duration": 61389,
    "start_time": "2023-05-03T10:05:35.518Z"
   },
   {
    "duration": 239,
    "start_time": "2023-05-03T10:06:41.792Z"
   },
   {
    "duration": 104,
    "start_time": "2023-05-03T10:06:49.110Z"
   },
   {
    "duration": 3,
    "start_time": "2023-05-03T10:06:55.121Z"
   },
   {
    "duration": 224,
    "start_time": "2023-05-03T10:06:59.398Z"
   },
   {
    "duration": 222,
    "start_time": "2023-05-03T10:07:30.926Z"
   },
   {
    "duration": 218,
    "start_time": "2023-05-03T10:07:52.226Z"
   },
   {
    "duration": 6140,
    "start_time": "2023-05-03T10:08:12.809Z"
   },
   {
    "duration": 453,
    "start_time": "2023-05-03T10:08:44.059Z"
   },
   {
    "duration": 334,
    "start_time": "2023-05-03T10:08:57.473Z"
   },
   {
    "duration": 882,
    "start_time": "2023-05-03T10:09:07.806Z"
   },
   {
    "duration": 174976,
    "start_time": "2023-05-03T10:09:38.525Z"
   },
   {
    "duration": 1601,
    "start_time": "2023-05-03T10:12:33.505Z"
   },
   {
    "duration": 27,
    "start_time": "2023-05-03T10:13:59.143Z"
   },
   {
    "duration": 13,
    "start_time": "2023-05-03T10:14:43.420Z"
   },
   {
    "duration": 14,
    "start_time": "2023-05-03T10:16:11.076Z"
   },
   {
    "duration": 3,
    "start_time": "2023-05-03T10:16:27.018Z"
   },
   {
    "duration": 8119,
    "start_time": "2023-05-03T10:16:31.350Z"
   },
   {
    "duration": 8173,
    "start_time": "2023-05-03T10:17:47.117Z"
   },
   {
    "duration": 3,
    "start_time": "2023-05-03T10:18:08.718Z"
   },
   {
    "duration": 8089,
    "start_time": "2023-05-03T10:18:18.030Z"
   },
   {
    "duration": 3,
    "start_time": "2023-05-03T10:19:29.725Z"
   },
   {
    "duration": 16,
    "start_time": "2023-05-03T10:19:34.632Z"
   },
   {
    "duration": 9,
    "start_time": "2023-05-03T10:20:17.128Z"
   },
   {
    "duration": 5,
    "start_time": "2023-05-03T10:20:29.479Z"
   },
   {
    "duration": 19,
    "start_time": "2023-05-03T10:21:10.728Z"
   },
   {
    "duration": 17,
    "start_time": "2023-05-03T10:21:26.984Z"
   },
   {
    "duration": 144,
    "start_time": "2023-05-03T10:23:26.888Z"
   },
   {
    "duration": 129,
    "start_time": "2023-05-03T10:23:37.437Z"
   },
   {
    "duration": 1628,
    "start_time": "2023-05-03T10:26:18.849Z"
   },
   {
    "duration": 958,
    "start_time": "2023-05-03T10:26:20.480Z"
   },
   {
    "duration": 20,
    "start_time": "2023-05-03T10:26:21.444Z"
   },
   {
    "duration": 34,
    "start_time": "2023-05-03T10:26:21.466Z"
   },
   {
    "duration": 105,
    "start_time": "2023-05-03T10:26:21.502Z"
   },
   {
    "duration": 93,
    "start_time": "2023-05-03T10:26:21.609Z"
   },
   {
    "duration": 261,
    "start_time": "2023-05-03T10:26:21.704Z"
   },
   {
    "duration": 95,
    "start_time": "2023-05-03T10:26:21.967Z"
   },
   {
    "duration": 15,
    "start_time": "2023-05-03T10:26:22.065Z"
   },
   {
    "duration": 61,
    "start_time": "2023-05-03T10:26:22.097Z"
   },
   {
    "duration": 10,
    "start_time": "2023-05-03T10:26:22.162Z"
   },
   {
    "duration": 565,
    "start_time": "2023-05-03T10:26:22.174Z"
   },
   {
    "duration": 278,
    "start_time": "2023-05-03T10:26:22.745Z"
   },
   {
    "duration": 18,
    "start_time": "2023-05-03T10:26:23.027Z"
   },
   {
    "duration": 495,
    "start_time": "2023-05-03T10:26:23.047Z"
   },
   {
    "duration": 18,
    "start_time": "2023-05-03T10:26:23.544Z"
   },
   {
    "duration": 13,
    "start_time": "2023-05-03T10:26:23.564Z"
   },
   {
    "duration": 19,
    "start_time": "2023-05-03T10:26:23.579Z"
   },
   {
    "duration": 27,
    "start_time": "2023-05-03T10:26:23.604Z"
   },
   {
    "duration": 8,
    "start_time": "2023-05-03T10:26:23.634Z"
   },
   {
    "duration": 25,
    "start_time": "2023-05-03T10:26:23.644Z"
   },
   {
    "duration": 8,
    "start_time": "2023-05-03T10:26:23.671Z"
   },
   {
    "duration": 29,
    "start_time": "2023-05-03T10:26:23.680Z"
   },
   {
    "duration": 15,
    "start_time": "2023-05-03T10:26:23.711Z"
   },
   {
    "duration": 32,
    "start_time": "2023-05-03T10:26:23.728Z"
   },
   {
    "duration": 6,
    "start_time": "2023-05-03T10:26:23.762Z"
   },
   {
    "duration": 384,
    "start_time": "2023-05-03T10:26:23.769Z"
   },
   {
    "duration": 14,
    "start_time": "2023-05-03T10:26:24.157Z"
   },
   {
    "duration": 503,
    "start_time": "2023-05-03T10:26:24.173Z"
   },
   {
    "duration": 1816,
    "start_time": "2023-05-03T10:26:24.678Z"
   },
   {
    "duration": 40,
    "start_time": "2023-05-03T10:26:26.497Z"
   },
   {
    "duration": 6,
    "start_time": "2023-05-03T10:26:26.540Z"
   },
   {
    "duration": 84,
    "start_time": "2023-05-03T10:26:26.547Z"
   },
   {
    "duration": 17,
    "start_time": "2023-05-03T10:26:26.636Z"
   },
   {
    "duration": 16,
    "start_time": "2023-05-03T10:26:26.655Z"
   },
   {
    "duration": 48,
    "start_time": "2023-05-03T10:26:26.673Z"
   },
   {
    "duration": 23,
    "start_time": "2023-05-03T10:26:26.722Z"
   },
   {
    "duration": 32,
    "start_time": "2023-05-03T10:26:26.747Z"
   },
   {
    "duration": 41,
    "start_time": "2023-05-03T10:26:26.781Z"
   },
   {
    "duration": 25,
    "start_time": "2023-05-03T10:26:26.828Z"
   },
   {
    "duration": 16,
    "start_time": "2023-05-03T10:26:26.854Z"
   },
   {
    "duration": 18,
    "start_time": "2023-05-03T10:26:26.872Z"
   },
   {
    "duration": 80,
    "start_time": "2023-05-03T10:26:26.891Z"
   },
   {
    "duration": 3,
    "start_time": "2023-05-03T10:26:26.973Z"
   },
   {
    "duration": 110,
    "start_time": "2023-05-03T10:26:26.993Z"
   },
   {
    "duration": 4,
    "start_time": "2023-05-03T10:26:27.105Z"
   },
   {
    "duration": 73,
    "start_time": "2023-05-03T10:26:27.111Z"
   },
   {
    "duration": 25,
    "start_time": "2023-05-03T10:26:27.185Z"
   },
   {
    "duration": 80,
    "start_time": "2023-05-03T10:26:27.211Z"
   },
   {
    "duration": 1139,
    "start_time": "2023-05-03T10:26:27.293Z"
   },
   {
    "duration": 152,
    "start_time": "2023-05-03T10:26:28.435Z"
   },
   {
    "duration": 4,
    "start_time": "2023-05-03T10:26:28.593Z"
   },
   {
    "duration": 59091,
    "start_time": "2023-05-03T10:26:28.599Z"
   },
   {
    "duration": 2594,
    "start_time": "2023-05-03T10:27:27.691Z"
   },
   {
    "duration": 130,
    "start_time": "2023-05-03T10:27:30.287Z"
   },
   {
    "duration": 819,
    "start_time": "2023-05-03T10:27:30.418Z"
   },
   {
    "duration": 84674,
    "start_time": "2023-05-03T10:27:31.241Z"
   },
   {
    "duration": 554,
    "start_time": "2023-05-03T10:28:55.925Z"
   },
   {
    "duration": 254,
    "start_time": "2023-05-03T10:28:56.480Z"
   },
   {
    "duration": 5809,
    "start_time": "2023-05-03T10:28:56.736Z"
   },
   {
    "duration": 353,
    "start_time": "2023-05-03T10:29:02.548Z"
   },
   {
    "duration": 963,
    "start_time": "2023-05-03T10:29:02.908Z"
   },
   {
    "duration": 241141,
    "start_time": "2023-05-03T10:29:03.872Z"
   },
   {
    "duration": 1508,
    "start_time": "2023-05-03T10:33:05.024Z"
   },
   {
    "duration": 13,
    "start_time": "2023-05-03T10:33:06.535Z"
   },
   {
    "duration": 0,
    "start_time": "2023-05-03T10:33:06.553Z"
   },
   {
    "duration": 284,
    "start_time": "2023-05-03T10:33:12.286Z"
   },
   {
    "duration": 2630,
    "start_time": "2023-05-03T10:33:23.590Z"
   },
   {
    "duration": 233,
    "start_time": "2023-05-03T10:33:33.428Z"
   },
   {
    "duration": 131,
    "start_time": "2023-05-03T10:33:48.350Z"
   },
   {
    "duration": 289,
    "start_time": "2023-05-03T10:33:57.433Z"
   },
   {
    "duration": 1341,
    "start_time": "2023-05-03T10:35:32.588Z"
   },
   {
    "duration": 1869,
    "start_time": "2023-05-03T10:39:22.322Z"
   },
   {
    "duration": 944,
    "start_time": "2023-05-03T10:39:24.193Z"
   },
   {
    "duration": 20,
    "start_time": "2023-05-03T10:39:25.140Z"
   },
   {
    "duration": 45,
    "start_time": "2023-05-03T10:39:25.162Z"
   },
   {
    "duration": 125,
    "start_time": "2023-05-03T10:39:25.209Z"
   },
   {
    "duration": 98,
    "start_time": "2023-05-03T10:39:25.335Z"
   },
   {
    "duration": 170,
    "start_time": "2023-05-03T10:39:25.434Z"
   },
   {
    "duration": 81,
    "start_time": "2023-05-03T10:39:25.608Z"
   },
   {
    "duration": 22,
    "start_time": "2023-05-03T10:39:25.691Z"
   },
   {
    "duration": 41,
    "start_time": "2023-05-03T10:39:25.718Z"
   },
   {
    "duration": 6,
    "start_time": "2023-05-03T10:39:25.760Z"
   },
   {
    "duration": 472,
    "start_time": "2023-05-03T10:39:25.768Z"
   },
   {
    "duration": 289,
    "start_time": "2023-05-03T10:39:26.242Z"
   },
   {
    "duration": 17,
    "start_time": "2023-05-03T10:39:26.534Z"
   },
   {
    "duration": 479,
    "start_time": "2023-05-03T10:39:26.553Z"
   },
   {
    "duration": 17,
    "start_time": "2023-05-03T10:39:27.034Z"
   },
   {
    "duration": 12,
    "start_time": "2023-05-03T10:39:27.053Z"
   },
   {
    "duration": 7,
    "start_time": "2023-05-03T10:39:27.067Z"
   },
   {
    "duration": 43,
    "start_time": "2023-05-03T10:39:27.076Z"
   },
   {
    "duration": 7,
    "start_time": "2023-05-03T10:39:27.120Z"
   },
   {
    "duration": 22,
    "start_time": "2023-05-03T10:39:27.130Z"
   },
   {
    "duration": 7,
    "start_time": "2023-05-03T10:39:27.154Z"
   },
   {
    "duration": 6,
    "start_time": "2023-05-03T10:39:27.163Z"
   },
   {
    "duration": 51,
    "start_time": "2023-05-03T10:39:27.170Z"
   },
   {
    "duration": 38,
    "start_time": "2023-05-03T10:39:27.224Z"
   },
   {
    "duration": 7,
    "start_time": "2023-05-03T10:39:27.264Z"
   },
   {
    "duration": 378,
    "start_time": "2023-05-03T10:39:27.272Z"
   },
   {
    "duration": 14,
    "start_time": "2023-05-03T10:39:27.652Z"
   },
   {
    "duration": 489,
    "start_time": "2023-05-03T10:39:27.667Z"
   },
   {
    "duration": 1983,
    "start_time": "2023-05-03T10:39:28.158Z"
   },
   {
    "duration": 27,
    "start_time": "2023-05-03T10:39:30.144Z"
   },
   {
    "duration": 6,
    "start_time": "2023-05-03T10:39:30.173Z"
   },
   {
    "duration": 127,
    "start_time": "2023-05-03T10:39:30.181Z"
   },
   {
    "duration": 39,
    "start_time": "2023-05-03T10:39:30.316Z"
   },
   {
    "duration": 75,
    "start_time": "2023-05-03T10:39:30.357Z"
   },
   {
    "duration": 51,
    "start_time": "2023-05-03T10:39:30.434Z"
   },
   {
    "duration": 59,
    "start_time": "2023-05-03T10:39:30.487Z"
   },
   {
    "duration": 76,
    "start_time": "2023-05-03T10:39:30.547Z"
   },
   {
    "duration": 31,
    "start_time": "2023-05-03T10:39:30.625Z"
   },
   {
    "duration": 81,
    "start_time": "2023-05-03T10:39:30.658Z"
   },
   {
    "duration": 45,
    "start_time": "2023-05-03T10:39:30.746Z"
   },
   {
    "duration": 53,
    "start_time": "2023-05-03T10:39:30.793Z"
   },
   {
    "duration": 101,
    "start_time": "2023-05-03T10:39:30.848Z"
   },
   {
    "duration": 35,
    "start_time": "2023-05-03T10:39:30.951Z"
   },
   {
    "duration": 127,
    "start_time": "2023-05-03T10:39:30.988Z"
   },
   {
    "duration": 5,
    "start_time": "2023-05-03T10:39:31.117Z"
   },
   {
    "duration": 96,
    "start_time": "2023-05-03T10:39:31.123Z"
   },
   {
    "duration": 21,
    "start_time": "2023-05-03T10:39:31.224Z"
   },
   {
    "duration": 92,
    "start_time": "2023-05-03T10:39:31.247Z"
   },
   {
    "duration": 1141,
    "start_time": "2023-05-03T10:39:31.341Z"
   },
   {
    "duration": 177,
    "start_time": "2023-05-03T10:39:32.484Z"
   },
   {
    "duration": 2,
    "start_time": "2023-05-03T10:39:32.663Z"
   },
   {
    "duration": 60786,
    "start_time": "2023-05-03T10:39:32.667Z"
   },
   {
    "duration": 2677,
    "start_time": "2023-05-03T10:40:33.454Z"
   },
   {
    "duration": 123,
    "start_time": "2023-05-03T10:40:36.135Z"
   },
   {
    "duration": 1381,
    "start_time": "2023-05-03T10:40:36.260Z"
   },
   {
    "duration": 222459,
    "start_time": "2023-05-03T10:40:37.643Z"
   },
   {
    "duration": 1446,
    "start_time": "2023-05-03T10:44:20.116Z"
   },
   {
    "duration": 224,
    "start_time": "2023-05-03T10:44:21.564Z"
   },
   {
    "duration": 5755,
    "start_time": "2023-05-03T10:44:21.791Z"
   },
   {
    "duration": 329,
    "start_time": "2023-05-03T10:44:27.547Z"
   },
   {
    "duration": 948,
    "start_time": "2023-05-03T10:44:27.878Z"
   },
   {
    "duration": 252576,
    "start_time": "2023-05-03T10:44:28.827Z"
   },
   {
    "duration": 1491,
    "start_time": "2023-05-03T10:48:41.409Z"
   },
   {
    "duration": 25,
    "start_time": "2023-05-03T10:48:42.902Z"
   },
   {
    "duration": 0,
    "start_time": "2023-05-03T10:48:42.929Z"
   },
   {
    "duration": 1132,
    "start_time": "2023-05-03T10:49:02.237Z"
   },
   {
    "duration": 12,
    "start_time": "2023-05-03T10:49:58.641Z"
   },
   {
    "duration": 127,
    "start_time": "2023-05-03T10:56:46.126Z"
   },
   {
    "duration": 1660,
    "start_time": "2023-05-03T10:59:56.246Z"
   },
   {
    "duration": 993,
    "start_time": "2023-05-03T10:59:57.918Z"
   },
   {
    "duration": 24,
    "start_time": "2023-05-03T10:59:58.919Z"
   },
   {
    "duration": 68,
    "start_time": "2023-05-03T10:59:58.945Z"
   },
   {
    "duration": 95,
    "start_time": "2023-05-03T10:59:59.022Z"
   },
   {
    "duration": 100,
    "start_time": "2023-05-03T10:59:59.119Z"
   },
   {
    "duration": 182,
    "start_time": "2023-05-03T10:59:59.221Z"
   },
   {
    "duration": 81,
    "start_time": "2023-05-03T10:59:59.405Z"
   },
   {
    "duration": 16,
    "start_time": "2023-05-03T10:59:59.488Z"
   },
   {
    "duration": 49,
    "start_time": "2023-05-03T10:59:59.508Z"
   },
   {
    "duration": 6,
    "start_time": "2023-05-03T10:59:59.559Z"
   },
   {
    "duration": 505,
    "start_time": "2023-05-03T10:59:59.568Z"
   },
   {
    "duration": 291,
    "start_time": "2023-05-03T11:00:00.075Z"
   },
   {
    "duration": 16,
    "start_time": "2023-05-03T11:00:00.368Z"
   },
   {
    "duration": 557,
    "start_time": "2023-05-03T11:00:00.386Z"
   },
   {
    "duration": 22,
    "start_time": "2023-05-03T11:00:00.945Z"
   },
   {
    "duration": 66,
    "start_time": "2023-05-03T11:00:00.969Z"
   },
   {
    "duration": 44,
    "start_time": "2023-05-03T11:00:01.039Z"
   },
   {
    "duration": 81,
    "start_time": "2023-05-03T11:00:01.085Z"
   },
   {
    "duration": 21,
    "start_time": "2023-05-03T11:00:01.168Z"
   },
   {
    "duration": 50,
    "start_time": "2023-05-03T11:00:01.191Z"
   },
   {
    "duration": 37,
    "start_time": "2023-05-03T11:00:01.244Z"
   },
   {
    "duration": 41,
    "start_time": "2023-05-03T11:00:01.282Z"
   },
   {
    "duration": 68,
    "start_time": "2023-05-03T11:00:01.325Z"
   },
   {
    "duration": 53,
    "start_time": "2023-05-03T11:00:01.395Z"
   },
   {
    "duration": 69,
    "start_time": "2023-05-03T11:00:01.450Z"
   },
   {
    "duration": 465,
    "start_time": "2023-05-03T11:00:01.521Z"
   },
   {
    "duration": 43,
    "start_time": "2023-05-03T11:00:01.990Z"
   },
   {
    "duration": 620,
    "start_time": "2023-05-03T11:00:02.035Z"
   },
   {
    "duration": 1882,
    "start_time": "2023-05-03T11:00:02.657Z"
   },
   {
    "duration": 29,
    "start_time": "2023-05-03T11:00:04.542Z"
   },
   {
    "duration": 42,
    "start_time": "2023-05-03T11:00:04.573Z"
   },
   {
    "duration": 104,
    "start_time": "2023-05-03T11:00:04.618Z"
   },
   {
    "duration": 30,
    "start_time": "2023-05-03T11:00:04.724Z"
   },
   {
    "duration": 111,
    "start_time": "2023-05-03T11:00:04.756Z"
   },
   {
    "duration": 98,
    "start_time": "2023-05-03T11:00:04.870Z"
   },
   {
    "duration": 69,
    "start_time": "2023-05-03T11:00:04.969Z"
   },
   {
    "duration": 48,
    "start_time": "2023-05-03T11:00:05.040Z"
   },
   {
    "duration": 55,
    "start_time": "2023-05-03T11:00:05.089Z"
   },
   {
    "duration": 31,
    "start_time": "2023-05-03T11:00:05.146Z"
   },
   {
    "duration": 67,
    "start_time": "2023-05-03T11:00:05.179Z"
   },
   {
    "duration": 34,
    "start_time": "2023-05-03T11:00:05.249Z"
   },
   {
    "duration": 105,
    "start_time": "2023-05-03T11:00:05.285Z"
   },
   {
    "duration": 7,
    "start_time": "2023-05-03T11:00:05.391Z"
   },
   {
    "duration": 108,
    "start_time": "2023-05-03T11:00:05.403Z"
   },
   {
    "duration": 10,
    "start_time": "2023-05-03T11:00:05.518Z"
   },
   {
    "duration": 111,
    "start_time": "2023-05-03T11:00:05.529Z"
   },
   {
    "duration": 73,
    "start_time": "2023-05-03T11:00:05.644Z"
   },
   {
    "duration": 100,
    "start_time": "2023-05-03T11:00:05.718Z"
   },
   {
    "duration": 1148,
    "start_time": "2023-05-03T11:00:05.826Z"
   },
   {
    "duration": 178,
    "start_time": "2023-05-03T11:00:06.975Z"
   },
   {
    "duration": 3,
    "start_time": "2023-05-03T11:00:07.154Z"
   },
   {
    "duration": 62413,
    "start_time": "2023-05-03T11:00:07.158Z"
   },
   {
    "duration": 2985,
    "start_time": "2023-05-03T11:01:09.573Z"
   },
   {
    "duration": 152,
    "start_time": "2023-05-03T11:01:12.560Z"
   },
   {
    "duration": 255,
    "start_time": "2023-05-03T11:01:12.720Z"
   },
   {
    "duration": 6671,
    "start_time": "2023-05-03T11:01:12.978Z"
   },
   {
    "duration": 421,
    "start_time": "2023-05-03T11:01:19.652Z"
   },
   {
    "duration": 999,
    "start_time": "2023-05-03T11:01:20.074Z"
   },
   {
    "duration": 433252,
    "start_time": "2023-05-03T11:01:21.075Z"
   },
   {
    "duration": 1526,
    "start_time": "2023-05-03T11:08:34.336Z"
   },
   {
    "duration": 61,
    "start_time": "2023-05-03T11:08:35.864Z"
   },
   {
    "duration": 129,
    "start_time": "2023-05-03T11:08:35.934Z"
   }
  ],
  "kernelspec": {
   "display_name": "Python 3 (ipykernel)",
   "language": "python",
   "name": "python3"
  },
  "language_info": {
   "codemirror_mode": {
    "name": "ipython",
    "version": 3
   },
   "file_extension": ".py",
   "mimetype": "text/x-python",
   "name": "python",
   "nbconvert_exporter": "python",
   "pygments_lexer": "ipython3",
   "version": "3.10.9"
  },
  "toc": {
   "base_numbering": 1,
   "nav_menu": {},
   "number_sections": true,
   "sideBar": true,
   "skip_h1_title": true,
   "title_cell": "Table of Contents",
   "title_sidebar": "Contents",
   "toc_cell": false,
   "toc_position": {},
   "toc_section_display": true,
   "toc_window_display": false
  }
 },
 "nbformat": 4,
 "nbformat_minor": 2
}
