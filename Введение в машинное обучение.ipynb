{
 "cells": [
  {
   "cell_type": "markdown",
   "metadata": {},
   "source": [
    "# Рекомендация тарифов"
   ]
  },
  {
   "cell_type": "markdown",
   "metadata": {},
   "source": [
    "<b>Цели проекта:</b>  \n",
    "Построить модель с максимально большим значением accuracy.  \n",
    "  \n",
    "<b>Задачи проекта:</b>  \n",
    "1. провести предобработку данных;\n",
    "2. разбить данные на выборки;  \n",
    "3. исследовать модели (будем решать задачу с учителем: в вашем распоряжении будет обучающий набор данных и целевой признак, который нужно предсказать по остальным признакам),\n",
    "    - DecisionTreeClassifier,\n",
    "    - RandomForestClassifier,\n",
    "    - LogisticRegression;\n",
    "4. проверить модель на тестовой выборке;  \n",
    "5. сделать общие выводы.\n",
    "\n",
    "<b>Данные:</b>  \n",
    "Данные о поведении клиентов, которые уже перешли на тарифы «Смарт» или «Ультра»."
   ]
  },
  {
   "cell_type": "markdown",
   "metadata": {},
   "source": [
    "<b>Описание данных</b>  \n",
    "- <code>сalls</code> — количество звонков,\n",
    "- <code>minutes</code> — суммарная длительность звонков в минутах, \n",
    "- <code>messages</code> — количество sms-сообщений,\n",
    "- <code>mb_used</code> — израсходованный интернет-трафик в Мб,  \n",
    "- <code>is_ultra</code> — каким тарифом пользовался в течение месяца («Ультра» — 1, «Смарт» — 0)"
   ]
  },
  {
   "cell_type": "markdown",
   "metadata": {},
   "source": [
    "<b>Содержание</b>\n",
    "1. <a href=\"#first\">Открытие файла с данными и изучение общей информации</a>  \n",
    "2. <a href=\"#second\">Разбивка данных на выборки</a>  \n",
    "    2.1. <a href=\"#second-first\">Обучающая выборка</a>  \n",
    "    2.2. <a href=\"#second-second\">Тестовая выборка</a>  \n",
    "    2.3. <a href=\"#second-third\">Валидационная выборка</a>  \n",
    "3. <a href=\"#third\">Исследование модели</a>  \n",
    "    3.1. <a href=\"#third-first\">DecisionTreeClassifier</a>  \n",
    "    3.2. <a href=\"#third-second\">RandomForestClassifier</a>  \n",
    "    3.3. <a href=\"#third-third\">LogisticRegression</a>  \n",
    "4. <a href=\"#fourth\">Проверка модели на тестовой выборке</a>  \n",
    "5. <a href=\"#fifth\">Общий вывод</a>  "
   ]
  },
  {
   "cell_type": "markdown",
   "metadata": {},
   "source": [
    "## <a class=\"anchor\" id=\"first\">Откройте и изучите файл</a>"
   ]
  },
  {
   "cell_type": "code",
   "execution_count": 1,
   "metadata": {},
   "outputs": [],
   "source": [
    "# импортировать библиотеки\n",
    "import pandas as pd\n",
    "from sklearn.model_selection import train_test_split\n",
    "from sklearn.metrics import accuracy_score\n",
    "from sklearn.tree import DecisionTreeClassifier\n",
    "from sklearn.ensemble import RandomForestClassifier\n",
    "from sklearn.linear_model import LogisticRegression"
   ]
  },
  {
   "cell_type": "code",
   "execution_count": 2,
   "metadata": {},
   "outputs": [],
   "source": [
    "# записать файл в data\n",
    "try: \n",
    "    data = pd.read_csv('/datasets/users_behavior.csv', sep=',')\n",
    "except:\n",
    "    data = pd.read_csv('users_behavior.csv', sep=',')"
   ]
  },
  {
   "cell_type": "code",
   "execution_count": 3,
   "metadata": {},
   "outputs": [
    {
     "data": {
      "text/html": [
       "<div>\n",
       "<style scoped>\n",
       "    .dataframe tbody tr th:only-of-type {\n",
       "        vertical-align: middle;\n",
       "    }\n",
       "\n",
       "    .dataframe tbody tr th {\n",
       "        vertical-align: top;\n",
       "    }\n",
       "\n",
       "    .dataframe thead th {\n",
       "        text-align: right;\n",
       "    }\n",
       "</style>\n",
       "<table border=\"1\" class=\"dataframe\">\n",
       "  <thead>\n",
       "    <tr style=\"text-align: right;\">\n",
       "      <th></th>\n",
       "      <th>calls</th>\n",
       "      <th>minutes</th>\n",
       "      <th>messages</th>\n",
       "      <th>mb_used</th>\n",
       "      <th>is_ultra</th>\n",
       "    </tr>\n",
       "  </thead>\n",
       "  <tbody>\n",
       "    <tr>\n",
       "      <th>0</th>\n",
       "      <td>40.0</td>\n",
       "      <td>311.90</td>\n",
       "      <td>83.0</td>\n",
       "      <td>19915.42</td>\n",
       "      <td>0</td>\n",
       "    </tr>\n",
       "    <tr>\n",
       "      <th>1</th>\n",
       "      <td>85.0</td>\n",
       "      <td>516.75</td>\n",
       "      <td>56.0</td>\n",
       "      <td>22696.96</td>\n",
       "      <td>0</td>\n",
       "    </tr>\n",
       "    <tr>\n",
       "      <th>2</th>\n",
       "      <td>77.0</td>\n",
       "      <td>467.66</td>\n",
       "      <td>86.0</td>\n",
       "      <td>21060.45</td>\n",
       "      <td>0</td>\n",
       "    </tr>\n",
       "    <tr>\n",
       "      <th>3</th>\n",
       "      <td>106.0</td>\n",
       "      <td>745.53</td>\n",
       "      <td>81.0</td>\n",
       "      <td>8437.39</td>\n",
       "      <td>1</td>\n",
       "    </tr>\n",
       "    <tr>\n",
       "      <th>4</th>\n",
       "      <td>66.0</td>\n",
       "      <td>418.74</td>\n",
       "      <td>1.0</td>\n",
       "      <td>14502.75</td>\n",
       "      <td>0</td>\n",
       "    </tr>\n",
       "    <tr>\n",
       "      <th>5</th>\n",
       "      <td>58.0</td>\n",
       "      <td>344.56</td>\n",
       "      <td>21.0</td>\n",
       "      <td>15823.37</td>\n",
       "      <td>0</td>\n",
       "    </tr>\n",
       "    <tr>\n",
       "      <th>6</th>\n",
       "      <td>57.0</td>\n",
       "      <td>431.64</td>\n",
       "      <td>20.0</td>\n",
       "      <td>3738.90</td>\n",
       "      <td>1</td>\n",
       "    </tr>\n",
       "    <tr>\n",
       "      <th>7</th>\n",
       "      <td>15.0</td>\n",
       "      <td>132.40</td>\n",
       "      <td>6.0</td>\n",
       "      <td>21911.60</td>\n",
       "      <td>0</td>\n",
       "    </tr>\n",
       "    <tr>\n",
       "      <th>8</th>\n",
       "      <td>7.0</td>\n",
       "      <td>43.39</td>\n",
       "      <td>3.0</td>\n",
       "      <td>2538.67</td>\n",
       "      <td>1</td>\n",
       "    </tr>\n",
       "    <tr>\n",
       "      <th>9</th>\n",
       "      <td>90.0</td>\n",
       "      <td>665.41</td>\n",
       "      <td>38.0</td>\n",
       "      <td>17358.61</td>\n",
       "      <td>0</td>\n",
       "    </tr>\n",
       "  </tbody>\n",
       "</table>\n",
       "</div>"
      ],
      "text/plain": [
       "   calls  minutes  messages   mb_used  is_ultra\n",
       "0   40.0   311.90      83.0  19915.42         0\n",
       "1   85.0   516.75      56.0  22696.96         0\n",
       "2   77.0   467.66      86.0  21060.45         0\n",
       "3  106.0   745.53      81.0   8437.39         1\n",
       "4   66.0   418.74       1.0  14502.75         0\n",
       "5   58.0   344.56      21.0  15823.37         0\n",
       "6   57.0   431.64      20.0   3738.90         1\n",
       "7   15.0   132.40       6.0  21911.60         0\n",
       "8    7.0    43.39       3.0   2538.67         1\n",
       "9   90.0   665.41      38.0  17358.61         0"
      ]
     },
     "execution_count": 3,
     "metadata": {},
     "output_type": "execute_result"
    }
   ],
   "source": [
    "# открыть файл\n",
    "data.head(10)"
   ]
  },
  {
   "cell_type": "code",
   "execution_count": 4,
   "metadata": {},
   "outputs": [
    {
     "name": "stdout",
     "output_type": "stream",
     "text": [
      "<class 'pandas.core.frame.DataFrame'>\n",
      "RangeIndex: 3214 entries, 0 to 3213\n",
      "Data columns (total 5 columns):\n",
      " #   Column    Non-Null Count  Dtype  \n",
      "---  ------    --------------  -----  \n",
      " 0   calls     3214 non-null   float64\n",
      " 1   minutes   3214 non-null   float64\n",
      " 2   messages  3214 non-null   float64\n",
      " 3   mb_used   3214 non-null   float64\n",
      " 4   is_ultra  3214 non-null   int64  \n",
      "dtypes: float64(4), int64(1)\n",
      "memory usage: 125.7 KB\n"
     ]
    }
   ],
   "source": [
    "# изучить файл: метод info()\n",
    "data.info()"
   ]
  },
  {
   "cell_type": "markdown",
   "metadata": {},
   "source": [
    "Пропусков в данных не обнаружено."
   ]
  },
  {
   "cell_type": "markdown",
   "metadata": {},
   "source": [
    "Столбцы <code>calls</code>, <code>messages</code> в исходном датасете имеют тип <i>float</i>, хотя должно быть <i>int</i>, так как количество звонков и сообщений - целые числа."
   ]
  },
  {
   "cell_type": "code",
   "execution_count": 5,
   "metadata": {},
   "outputs": [],
   "source": [
    "data['calls'] = data['calls'].astype('int')\n",
    "data['messages'] = data['messages'].astype('int')"
   ]
  },
  {
   "cell_type": "markdown",
   "metadata": {},
   "source": [
    "Проверяем, что тип данных изменился на <i>int</i>."
   ]
  },
  {
   "cell_type": "code",
   "execution_count": 6,
   "metadata": {},
   "outputs": [
    {
     "name": "stdout",
     "output_type": "stream",
     "text": [
      "<class 'pandas.core.frame.DataFrame'>\n",
      "RangeIndex: 3214 entries, 0 to 3213\n",
      "Data columns (total 5 columns):\n",
      " #   Column    Non-Null Count  Dtype  \n",
      "---  ------    --------------  -----  \n",
      " 0   calls     3214 non-null   int64  \n",
      " 1   minutes   3214 non-null   float64\n",
      " 2   messages  3214 non-null   int64  \n",
      " 3   mb_used   3214 non-null   float64\n",
      " 4   is_ultra  3214 non-null   int64  \n",
      "dtypes: float64(2), int64(3)\n",
      "memory usage: 125.7 KB\n"
     ]
    }
   ],
   "source": [
    "# проверка: метод info()\n",
    "data.info()"
   ]
  },
  {
   "cell_type": "code",
   "execution_count": 7,
   "metadata": {},
   "outputs": [
    {
     "data": {
      "image/png": "[encoded data removed]",
      "text/plain": [
       "<Figure size 720x720 with 6 Axes>"
      ]
     },
     "metadata": {
      "needs_background": "light"
     },
     "output_type": "display_data"
    }
   ],
   "source": [
    "# изучить файл: гистограммы\n",
    "data.hist(figsize=(10, 10));"
   ]
  },
  {
   "cell_type": "code",
   "execution_count": 8,
   "metadata": {},
   "outputs": [
    {
     "data": {
      "text/html": [
       "<div>\n",
       "<style scoped>\n",
       "    .dataframe tbody tr th:only-of-type {\n",
       "        vertical-align: middle;\n",
       "    }\n",
       "\n",
       "    .dataframe tbody tr th {\n",
       "        vertical-align: top;\n",
       "    }\n",
       "\n",
       "    .dataframe thead th {\n",
       "        text-align: right;\n",
       "    }\n",
       "</style>\n",
       "<table border=\"1\" class=\"dataframe\">\n",
       "  <thead>\n",
       "    <tr style=\"text-align: right;\">\n",
       "      <th></th>\n",
       "      <th>calls</th>\n",
       "      <th>minutes</th>\n",
       "      <th>messages</th>\n",
       "      <th>mb_used</th>\n",
       "      <th>is_ultra</th>\n",
       "    </tr>\n",
       "  </thead>\n",
       "  <tbody>\n",
       "    <tr>\n",
       "      <th>count</th>\n",
       "      <td>3214.000000</td>\n",
       "      <td>3214.000000</td>\n",
       "      <td>3214.000000</td>\n",
       "      <td>3214.000000</td>\n",
       "      <td>3214.000000</td>\n",
       "    </tr>\n",
       "    <tr>\n",
       "      <th>mean</th>\n",
       "      <td>63.038892</td>\n",
       "      <td>438.208787</td>\n",
       "      <td>38.281269</td>\n",
       "      <td>17207.673836</td>\n",
       "      <td>0.306472</td>\n",
       "    </tr>\n",
       "    <tr>\n",
       "      <th>std</th>\n",
       "      <td>33.236368</td>\n",
       "      <td>234.569872</td>\n",
       "      <td>36.148326</td>\n",
       "      <td>7570.968246</td>\n",
       "      <td>0.461100</td>\n",
       "    </tr>\n",
       "    <tr>\n",
       "      <th>min</th>\n",
       "      <td>0.000000</td>\n",
       "      <td>0.000000</td>\n",
       "      <td>0.000000</td>\n",
       "      <td>0.000000</td>\n",
       "      <td>0.000000</td>\n",
       "    </tr>\n",
       "    <tr>\n",
       "      <th>25%</th>\n",
       "      <td>40.000000</td>\n",
       "      <td>274.575000</td>\n",
       "      <td>9.000000</td>\n",
       "      <td>12491.902500</td>\n",
       "      <td>0.000000</td>\n",
       "    </tr>\n",
       "    <tr>\n",
       "      <th>50%</th>\n",
       "      <td>62.000000</td>\n",
       "      <td>430.600000</td>\n",
       "      <td>30.000000</td>\n",
       "      <td>16943.235000</td>\n",
       "      <td>0.000000</td>\n",
       "    </tr>\n",
       "    <tr>\n",
       "      <th>75%</th>\n",
       "      <td>82.000000</td>\n",
       "      <td>571.927500</td>\n",
       "      <td>57.000000</td>\n",
       "      <td>21424.700000</td>\n",
       "      <td>1.000000</td>\n",
       "    </tr>\n",
       "    <tr>\n",
       "      <th>max</th>\n",
       "      <td>244.000000</td>\n",
       "      <td>1632.060000</td>\n",
       "      <td>224.000000</td>\n",
       "      <td>49745.730000</td>\n",
       "      <td>1.000000</td>\n",
       "    </tr>\n",
       "  </tbody>\n",
       "</table>\n",
       "</div>"
      ],
      "text/plain": [
       "             calls      minutes     messages       mb_used     is_ultra\n",
       "count  3214.000000  3214.000000  3214.000000   3214.000000  3214.000000\n",
       "mean     63.038892   438.208787    38.281269  17207.673836     0.306472\n",
       "std      33.236368   234.569872    36.148326   7570.968246     0.461100\n",
       "min       0.000000     0.000000     0.000000      0.000000     0.000000\n",
       "25%      40.000000   274.575000     9.000000  12491.902500     0.000000\n",
       "50%      62.000000   430.600000    30.000000  16943.235000     0.000000\n",
       "75%      82.000000   571.927500    57.000000  21424.700000     1.000000\n",
       "max     244.000000  1632.060000   224.000000  49745.730000     1.000000"
      ]
     },
     "execution_count": 8,
     "metadata": {},
     "output_type": "execute_result"
    }
   ],
   "source": [
    "# изучение данных: метод describe()\n",
    "data.describe()"
   ]
  },
  {
   "cell_type": "markdown",
   "metadata": {},
   "source": [
    "Аномальных значений не обнаружено."
   ]
  },
  {
   "cell_type": "code",
   "execution_count": 9,
   "metadata": {},
   "outputs": [
    {
     "data": {
      "text/plain": [
       "(3214, 5)"
      ]
     },
     "execution_count": 9,
     "metadata": {},
     "output_type": "execute_result"
    }
   ],
   "source": [
    "# определить размер data\n",
    "data.shape"
   ]
  },
  {
   "cell_type": "markdown",
   "metadata": {},
   "source": [
    "<b>ИТОГИ</b>\n",
    "1. Импортирована библиотека pandas и открыт файл.\n",
    "2. Изучен файл выводом первых 10 строк.\n",
    "3. Изучен файл методом <i>info()</i>.\n",
    "4. Построены гистограммы.  \n",
    "  \n",
    "Пропусков в данных не обноружено. Тип данных в <code>calls</code> и <code>messages</code> изменён на <i>int</i>. Аномальных значений в данных не найдено.  "
   ]
  },
  {
   "cell_type": "markdown",
   "metadata": {},
   "source": [
    "## <a class=\"anchor\" id=\"second\">Разбейте данные на выборки</a>"
   ]
  },
  {
   "cell_type": "markdown",
   "metadata": {},
   "source": [
    "Данные нужно разбить на три части: обучающую, валидационную и тестовую. Размеры тестового и валидационного наборов обычно равны. Исходные данные разбивают в соотношении 3:1:1."
   ]
  },
  {
   "cell_type": "markdown",
   "metadata": {},
   "source": [
    "### <a class=\"anchor\" id=\"second-first\">Обучающая выборка</a>"
   ]
  },
  {
   "cell_type": "code",
   "execution_count": 10,
   "metadata": {},
   "outputs": [],
   "source": [
    "# создание обучающей выборки\n",
    "df_test, df_train = train_test_split(data, test_size=0.6, random_state=12345)"
   ]
  },
  {
   "cell_type": "code",
   "execution_count": 11,
   "metadata": {},
   "outputs": [],
   "source": [
    "# объявить переменные-признаки (переменные для признаков и целевого признака)\n",
    "features_train = df_train.drop(['is_ultra'], axis=1)\n",
    "target_train = df_train['is_ultra']"
   ]
  },
  {
   "cell_type": "code",
   "execution_count": 12,
   "metadata": {},
   "outputs": [
    {
     "name": "stdout",
     "output_type": "stream",
     "text": [
      "(1929, 4)\n",
      "(1929,)\n"
     ]
    }
   ],
   "source": [
    "# размеры таблиц, которые хранятся в переменных\n",
    "print(features_train.shape)\n",
    "print(target_train.shape)"
   ]
  },
  {
   "cell_type": "markdown",
   "metadata": {},
   "source": [
    "### <a class=\"anchor\" id=\"second-second\">Тестовая выборка</a>"
   ]
  },
  {
   "cell_type": "code",
   "execution_count": 13,
   "metadata": {},
   "outputs": [],
   "source": [
    "# создание тестовой и валидационной выборок\n",
    "df_valid, df_test = train_test_split(df_test, test_size=0.5, random_state=12345)"
   ]
  },
  {
   "cell_type": "code",
   "execution_count": 14,
   "metadata": {},
   "outputs": [],
   "source": [
    "# объявить переменные-признаки (переменные для признаков и целевого признака)\n",
    "features_test = df_test.drop(['is_ultra'], axis=1)\n",
    "target_test = df_test['is_ultra']"
   ]
  },
  {
   "cell_type": "code",
   "execution_count": 15,
   "metadata": {},
   "outputs": [
    {
     "name": "stdout",
     "output_type": "stream",
     "text": [
      "(643, 4)\n",
      "(643,)\n"
     ]
    }
   ],
   "source": [
    "# размеры таблиц, которые хранятся в переменных test\n",
    "print(features_test.shape)\n",
    "print(target_test.shape)"
   ]
  },
  {
   "cell_type": "markdown",
   "metadata": {},
   "source": [
    "### <a class=\"anchor\" id=\"second-third\">Валидационная выборка</a>"
   ]
  },
  {
   "cell_type": "code",
   "execution_count": 16,
   "metadata": {},
   "outputs": [],
   "source": [
    "# объявить переменные-признаки (переменные для признаков и целевого признака)\n",
    "features_valid = df_valid.drop(['is_ultra'], axis=1)\n",
    "target_valid = df_valid['is_ultra']"
   ]
  },
  {
   "cell_type": "code",
   "execution_count": 17,
   "metadata": {},
   "outputs": [
    {
     "name": "stdout",
     "output_type": "stream",
     "text": [
      "(642, 4)\n",
      "(642,)\n"
     ]
    }
   ],
   "source": [
    "# размеры таблиц, которые хранятся в переменных valid\n",
    "print(features_valid.shape)\n",
    "print(target_valid.shape)"
   ]
  },
  {
   "cell_type": "markdown",
   "metadata": {},
   "source": [
    "<b>ИТОГИ</b>  \n",
    "Данные были разбиты на три выборки: обучающая, тренировочная и валидационная в отношении 3:1:1 соответственно."
   ]
  },
  {
   "cell_type": "markdown",
   "metadata": {},
   "source": [
    "## <a class=\"anchor\" id=\"third\">Исследуйте модели</a>"
   ]
  },
  {
   "cell_type": "markdown",
   "metadata": {},
   "source": [
    "### <a class=\"anchor\" id=\"third-first\">DecisionTreeClassifier</a>"
   ]
  },
  {
   "cell_type": "code",
   "execution_count": 18,
   "metadata": {},
   "outputs": [],
   "source": [
    "# DecisionTreeClassifier\n",
    "best_model = None\n",
    "best_result = 0\n",
    "best_depth = 0\n",
    "for depth in range(1, 11):\n",
    "    model = DecisionTreeClassifier(random_state=12345, max_depth=depth) # обучить модель с заданной глубиной дерева\n",
    "    model.fit(features_train, target_train) # обучить модель\n",
    "    predictions = model.predict(features_valid) # получить предсказания модели\n",
    "    result = accuracy_score(target_valid, predictions) # посчитать качество модели\n",
    "    if result > best_result:\n",
    "        best_model = model\n",
    "        best_result = result\n",
    "        best_depth = depth"
   ]
  },
  {
   "cell_type": "code",
   "execution_count": 19,
   "metadata": {},
   "outputs": [
    {
     "name": "stdout",
     "output_type": "stream",
     "text": [
      "accuracy лучшей модели: 0.780373831775701\n",
      "depth лучшей модели: 4\n"
     ]
    }
   ],
   "source": [
    "# вывести результаты\n",
    "print('accuracy лучшей модели:', best_result)\n",
    "print('depth лучшей модели:', best_depth)"
   ]
  },
  {
   "cell_type": "markdown",
   "metadata": {},
   "source": [
    "<b>Вывод:</b> accuracy лучшей модели = 0.780373831775701 при глубине 4."
   ]
  },
  {
   "cell_type": "markdown",
   "metadata": {},
   "source": [
    "### <a class=\"anchor\" id=\"third-second\">RandomForestClassifier</a>"
   ]
  },
  {
   "cell_type": "code",
   "execution_count": 20,
   "metadata": {},
   "outputs": [],
   "source": [
    "# RandomForestClassifier\n",
    "best_model = None\n",
    "best_result = 0\n",
    "best_depth = 0\n",
    "for est in range(1, 11):\n",
    "    model = RandomForestClassifier(random_state=12345, n_estimators=est)\n",
    "    model.fit(features_train, target_train) # обучите модель на тренировочной выборке\n",
    "    result = model.score(features_valid, target_valid)\n",
    "    if result > best_result:\n",
    "        best_model = model\n",
    "        best_result = result\n",
    "        best_depth = depth"
   ]
  },
  {
   "cell_type": "code",
   "execution_count": 21,
   "metadata": {},
   "outputs": [
    {
     "name": "stdout",
     "output_type": "stream",
     "text": [
      "accuracy лучшей модели: 0.7975077881619937\n",
      "depth лучшей модели: 10\n"
     ]
    }
   ],
   "source": [
    "# вывести результаты\n",
    "print('accuracy лучшей модели:', best_result)\n",
    "print('depth лучшей модели:', best_depth)"
   ]
  },
  {
   "cell_type": "markdown",
   "metadata": {},
   "source": [
    "<b>Вывод:</b> accuracy лучшей модели = 0.7975077881619937 при глубине 10."
   ]
  },
  {
   "cell_type": "markdown",
   "metadata": {},
   "source": [
    "### <a class=\"anchor\" id=\"third-third\">LogisticRegression</a>"
   ]
  },
  {
   "cell_type": "code",
   "execution_count": 22,
   "metadata": {},
   "outputs": [],
   "source": [
    "# LogisticRegression\n",
    "model = LogisticRegression(random_state=12345, solver='lbfgs', max_iter=1000)\n",
    "model.fit(features_train, target_train)\n",
    "predictions = model.predict(features_valid)\n",
    "accuracy = accuracy_score(predictions, target_valid)"
   ]
  },
  {
   "cell_type": "code",
   "execution_count": 23,
   "metadata": {},
   "outputs": [
    {
     "name": "stdout",
     "output_type": "stream",
     "text": [
      "Accuracy лучшей модели: 0.7258566978193146\n"
     ]
    }
   ],
   "source": [
    "# вывести результаты\n",
    "print('Accuracy лучшей модели:', accuracy)"
   ]
  },
  {
   "cell_type": "markdown",
   "metadata": {},
   "source": [
    "<b>Вывод:</b> accuracy лучшей модели = 0.7258566978193146."
   ]
  },
  {
   "cell_type": "markdown",
   "metadata": {},
   "source": [
    "<b>ИТОГИ</b>  \n",
    "Было исследовано качество разных моделей при изменении гиперпараметров.  \n",
    "Наилучший результат по accuracy показал RandomForestClassifier (0.7975077881619937)."
   ]
  },
  {
   "cell_type": "markdown",
   "metadata": {},
   "source": [
    "## <a class=\"anchor\" id=\"fouth\">Проверьте модель на тестовой выборке</a>"
   ]
  },
  {
   "cell_type": "markdown",
   "metadata": {},
   "source": [
    "Так как наилучший результат был у модели RandomForestClassifier, то проверим его на тестовой выборке."
   ]
  },
  {
   "cell_type": "code",
   "execution_count": 24,
   "metadata": {},
   "outputs": [],
   "source": [
    "# проверка RandomForestClassifier на тестовой выборке\n",
    "model = RandomForestClassifier(random_state=12345, n_estimators = 10, max_depth = 10)\n",
    "model.fit(features_train, target_train)\n",
    "predictions = model.predict(features_test)\n",
    "result = accuracy_score(predictions, target_test)"
   ]
  },
  {
   "cell_type": "code",
   "execution_count": 25,
   "metadata": {},
   "outputs": [
    {
     "name": "stdout",
     "output_type": "stream",
     "text": [
      "accuracy на тестовой выборке: 0.8087091757387247\n"
     ]
    }
   ],
   "source": [
    "# вывести результаты\n",
    "print('accuracy на тестовой выборке:', result)"
   ]
  },
  {
   "cell_type": "markdown",
   "metadata": {},
   "source": [
    "<b>Вывод:</b> accuracy (доля правильных ответов) на тестовой выборке больше 0.75."
   ]
  },
  {
   "cell_type": "markdown",
   "metadata": {},
   "source": [
    "## <a class=\"anchor\" id=\"fifth\">Общие выводы</a>"
   ]
  },
  {
   "cell_type": "markdown",
   "metadata": {},
   "source": [
    "1. <b>Изучен файл</b>  \n",
    "    - Пропусков в данных не обноружено.  \n",
    "    - Тип данных в <code>calls</code> и <code>messages</code> изменён на <i>int</i>.  \n",
    "    - Аномальных значений в данных не найдено.  \n",
    "2. <b>Данные разбиты на выборки</b> \n",
    "    - Данные были разбиты на три выборки: обучающая, тренировочная и валидационная в отношении 3:1:1 соответственно.  \n",
    "3. <b>Исследованы модели</b> \n",
    "    - DecisionTreeClassifier: accuracy лучшей модели = 0.780373831775701 при глубине 4.\n",
    "    - RandomForestClassifier: accuracy лучшей модели = 0.7975077881619937 при глубине 10.  \n",
    "    - LogisticRegression: accuracy лучшей модели = 0.7258566978193146.\n",
    "4. <b>Проверена модель на тестовой выборке</b>"
   ]
  }
 ],
 "metadata": {
  "ExecuteTimeLog": [
   {
    "duration": 1890,
    "start_time": "2023-02-06T16:29:18.258Z"
   },
   {
    "duration": 136,
    "start_time": "2023-02-06T16:29:20.151Z"
   },
   {
    "duration": 19,
    "start_time": "2023-02-06T16:29:20.289Z"
   },
   {
    "duration": 11,
    "start_time": "2023-02-06T16:29:20.310Z"
   },
   {
    "duration": 10,
    "start_time": "2023-02-06T16:29:20.323Z"
   },
   {
    "duration": 24,
    "start_time": "2023-02-06T16:29:20.335Z"
   },
   {
    "duration": 1120,
    "start_time": "2023-02-06T16:29:20.360Z"
   },
   {
    "duration": 31,
    "start_time": "2023-02-06T16:29:21.486Z"
   },
   {
    "duration": 4,
    "start_time": "2023-02-06T16:29:21.519Z"
   },
   {
    "duration": 16,
    "start_time": "2023-02-06T16:29:21.525Z"
   },
   {
    "duration": 16,
    "start_time": "2023-02-06T16:29:21.546Z"
   },
   {
    "duration": 9,
    "start_time": "2023-02-06T16:29:21.564Z"
   },
   {
    "duration": 8,
    "start_time": "2023-02-06T16:29:21.575Z"
   },
   {
    "duration": 7,
    "start_time": "2023-02-06T16:29:21.586Z"
   },
   {
    "duration": 8,
    "start_time": "2023-02-06T16:29:21.595Z"
   },
   {
    "duration": 13,
    "start_time": "2023-02-06T16:29:21.605Z"
   },
   {
    "duration": 5,
    "start_time": "2023-02-06T16:29:21.620Z"
   },
   {
    "duration": 29,
    "start_time": "2023-02-06T16:29:21.627Z"
   },
   {
    "duration": 83,
    "start_time": "2023-02-06T16:29:21.658Z"
   },
   {
    "duration": 3,
    "start_time": "2023-02-06T16:29:21.747Z"
   },
   {
    "duration": 299,
    "start_time": "2023-02-06T16:29:21.752Z"
   },
   {
    "duration": 4,
    "start_time": "2023-02-06T16:29:22.054Z"
   },
   {
    "duration": 40,
    "start_time": "2023-02-06T16:29:22.061Z"
   },
   {
    "duration": 3,
    "start_time": "2023-02-06T16:29:22.102Z"
   },
   {
    "duration": 62,
    "start_time": "2023-02-06T16:29:22.107Z"
   },
   {
    "duration": 3,
    "start_time": "2023-02-06T16:29:22.171Z"
   },
   {
    "duration": 2201,
    "start_time": "2023-02-06T16:31:14.659Z"
   },
   {
    "duration": 106,
    "start_time": "2023-02-06T16:31:16.863Z"
   },
   {
    "duration": 88,
    "start_time": "2023-02-06T16:31:16.971Z"
   },
   {
    "duration": 87,
    "start_time": "2023-02-06T16:31:17.061Z"
   },
   {
    "duration": 16,
    "start_time": "2023-02-06T16:31:17.151Z"
   },
   {
    "duration": 18,
    "start_time": "2023-02-06T16:31:17.237Z"
   },
   {
    "duration": 2288,
    "start_time": "2023-02-06T16:31:17.261Z"
   },
   {
    "duration": 25,
    "start_time": "2023-02-06T16:31:19.550Z"
   },
   {
    "duration": 40,
    "start_time": "2023-02-06T16:31:19.577Z"
   },
   {
    "duration": 33,
    "start_time": "2023-02-06T16:31:19.619Z"
   },
   {
    "duration": 16,
    "start_time": "2023-02-06T16:31:19.653Z"
   },
   {
    "duration": 27,
    "start_time": "2023-02-06T16:31:19.671Z"
   },
   {
    "duration": 22,
    "start_time": "2023-02-06T16:31:19.700Z"
   },
   {
    "duration": 15,
    "start_time": "2023-02-06T16:31:19.725Z"
   },
   {
    "duration": 24,
    "start_time": "2023-02-06T16:31:19.742Z"
   },
   {
    "duration": 16,
    "start_time": "2023-02-06T16:31:19.768Z"
   },
   {
    "duration": 25,
    "start_time": "2023-02-06T16:31:19.786Z"
   },
   {
    "duration": 22,
    "start_time": "2023-02-06T16:31:19.813Z"
   },
   {
    "duration": 114,
    "start_time": "2023-02-06T16:31:19.836Z"
   },
   {
    "duration": 4,
    "start_time": "2023-02-06T16:31:19.952Z"
   },
   {
    "duration": 301,
    "start_time": "2023-02-06T16:31:19.958Z"
   },
   {
    "duration": 3,
    "start_time": "2023-02-06T16:31:20.261Z"
   },
   {
    "duration": 49,
    "start_time": "2023-02-06T16:31:20.266Z"
   },
   {
    "duration": 3,
    "start_time": "2023-02-06T16:31:20.317Z"
   },
   {
    "duration": 56,
    "start_time": "2023-02-06T16:31:20.321Z"
   },
   {
    "duration": 3,
    "start_time": "2023-02-06T16:31:20.378Z"
   },
   {
    "duration": 1790,
    "start_time": "2023-02-07T17:36:53.267Z"
   },
   {
    "duration": 33,
    "start_time": "2023-02-07T17:36:55.059Z"
   },
   {
    "duration": 27,
    "start_time": "2023-02-07T17:36:55.094Z"
   },
   {
    "duration": 13,
    "start_time": "2023-02-07T17:36:55.123Z"
   },
   {
    "duration": 7,
    "start_time": "2023-02-07T17:36:55.138Z"
   },
   {
    "duration": 16,
    "start_time": "2023-02-07T17:36:55.146Z"
   },
   {
    "duration": 778,
    "start_time": "2023-02-07T17:36:55.164Z"
   },
   {
    "duration": 22,
    "start_time": "2023-02-07T17:36:55.948Z"
   },
   {
    "duration": 4,
    "start_time": "2023-02-07T17:36:55.972Z"
   },
   {
    "duration": 5,
    "start_time": "2023-02-07T17:36:55.978Z"
   },
   {
    "duration": 6,
    "start_time": "2023-02-07T17:36:55.985Z"
   },
   {
    "duration": 6,
    "start_time": "2023-02-07T17:36:55.992Z"
   },
   {
    "duration": 6,
    "start_time": "2023-02-07T17:36:56.000Z"
   },
   {
    "duration": 4,
    "start_time": "2023-02-07T17:36:56.009Z"
   },
   {
    "duration": 35,
    "start_time": "2023-02-07T17:36:56.015Z"
   },
   {
    "duration": 11,
    "start_time": "2023-02-07T17:36:56.052Z"
   },
   {
    "duration": 8,
    "start_time": "2023-02-07T17:36:56.065Z"
   },
   {
    "duration": 83,
    "start_time": "2023-02-07T17:36:56.075Z"
   },
   {
    "duration": 5,
    "start_time": "2023-02-07T17:36:56.160Z"
   },
   {
    "duration": 324,
    "start_time": "2023-02-07T17:36:56.166Z"
   },
   {
    "duration": 5,
    "start_time": "2023-02-07T17:36:56.493Z"
   },
   {
    "duration": 55,
    "start_time": "2023-02-07T17:36:56.500Z"
   },
   {
    "duration": 3,
    "start_time": "2023-02-07T17:36:56.558Z"
   },
   {
    "duration": 57,
    "start_time": "2023-02-07T17:36:56.563Z"
   },
   {
    "duration": 3,
    "start_time": "2023-02-07T17:36:56.622Z"
   }
  ],
  "kernelspec": {
   "display_name": "Python 3 (ipykernel)",
   "language": "python",
   "name": "python3"
  },
  "language_info": {
   "codemirror_mode": {
    "name": "ipython",
    "version": 3
   },
   "file_extension": ".py",
   "mimetype": "text/x-python",
   "name": "python",
   "nbconvert_exporter": "python",
   "pygments_lexer": "ipython3",
   "version": "3.10.9"
  },
  "toc": {
   "base_numbering": 1,
   "nav_menu": {},
   "number_sections": true,
   "sideBar": true,
   "skip_h1_title": true,
   "title_cell": "Table of Contents",
   "title_sidebar": "Contents",
   "toc_cell": false,
   "toc_position": {
    "height": "calc(100% - 180px)",
    "left": "10px",
    "top": "150px",
    "width": "272.225px"
   },
   "toc_section_display": true,
   "toc_window_display": true
  }
 },
 "nbformat": 4,
 "nbformat_minor": 2
}
