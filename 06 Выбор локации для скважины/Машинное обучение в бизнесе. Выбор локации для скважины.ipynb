{
 "cells": [
  {
   "cell_type": "markdown",
   "metadata": {},
   "source": [
    "# Выбор локации для скважины"
   ]
  },
  {
   "cell_type": "markdown",
   "metadata": {},
   "source": [
    "<b>Цели проекта:</b>  \n",
    "Построить модель для определения региона, где добыча принесёт наибольшую прибыль. Проанализировать возможную прибыль и риски техникой Bootstrap. \n",
    "  \n",
    "<b>Задачи проекта:</b>  \n",
    "1. провести предобработку данных;\n",
    "2. разбить данные на выборки;  \n",
    "3. обучить модель и сделать предсказания;  \n",
    "4. рассчитать точку безубыточности;  \n",
    "5. применить технику Bootstrap;  \n",
    "6. найти среднюю прибыль, 95%-й доверительный интервал и риск убытков\n",
    "7. сделать общие выводы.\n",
    "\n",
    "<b>Данные:</b>  \n",
    "Данные геологоразведки трёх регионов из добывающей компании «ГлавРосГосНефть»."
   ]
  },
  {
   "cell_type": "markdown",
   "metadata": {},
   "source": [
    "<b>Описание данных</b>  \n",
    "Признаки\n",
    "- <code>id</code> — никальный идентификатор скважины\n",
    "- <code>f0</code> — признак точки\n",
    "- <code>f1</code> — признак точки\n",
    "- <code>f2</code> — признак точки \n",
    "  \n",
    "Целевой признак\n",
    "- <code>product</code> — объём запасов в скважине (тыс. баррелей)"
   ]
  },
  {
   "cell_type": "markdown",
   "metadata": {},
   "source": [
    "<b>Содержание</b>  \n",
    "1. Загрузка и подготовка данных\n",
    "2. Обучение и проверка модели\n",
    "    - первый регион\n",
    "    - второй регион\n",
    "    - третий регион\n",
    "3. Подготовка к расчёту прибыли\n",
    "4. Функция для расчёта прибыли по выбранным скважинам и предсказаниям модели\n",
    "5. Расчёт прибыли и рисков\n",
    "6. Общие выводы"
   ]
  },
  {
   "cell_type": "markdown",
   "metadata": {},
   "source": [
    "## Загрузка и подготовка данных"
   ]
  },
  {
   "cell_type": "code",
   "execution_count": 1,
   "metadata": {},
   "outputs": [],
   "source": [
    "# импортировать библиотеки\n",
    "import pandas as pd\n",
    "import numpy as np\n",
    "from scipy import stats as st\n",
    "from sklearn.preprocessing import OrdinalEncoder\n",
    "\n",
    "from sklearn.model_selection import train_test_split\n",
    "from sklearn.linear_model import LinearRegression\n",
    "\n",
    "from sklearn.metrics import mean_squared_error"
   ]
  },
  {
   "cell_type": "code",
   "execution_count": 2,
   "metadata": {},
   "outputs": [],
   "source": [
    "# записать файлы в data\n",
    "\n",
    "try: \n",
    "    data_0 = pd.read_csv('/datasets/geo_data_0.csv', sep=',')\n",
    "except:\n",
    "    data_0 = pd.read_csv('geo_data_0.csv', sep=',')\n",
    "    \n",
    "try: \n",
    "    data_1 = pd.read_csv('/datasets/geo_data_1.csv', sep=',')\n",
    "except:\n",
    "    data_1 = pd.read_csv('geo_data_1.csv', sep=',')\n",
    "    \n",
    "try: \n",
    "    data_2 = pd.read_csv('/datasets/geo_data_2.csv', sep=',')\n",
    "except:\n",
    "    data_2 = pd.read_csv('geo_data_2.csv', sep=',')"
   ]
  },
  {
   "cell_type": "code",
   "execution_count": 3,
   "metadata": {},
   "outputs": [],
   "source": [
    "data = [data_0, data_1, data_2]"
   ]
  },
  {
   "cell_type": "code",
   "execution_count": 4,
   "metadata": {},
   "outputs": [
    {
     "name": "stdout",
     "output_type": "stream",
     "text": [
      "      id        f0        f1        f2     product\n",
      "0  txEyH  0.705745 -0.497823  1.221170  105.280062\n",
      "1  2acmU  1.334711 -0.340164  4.365080   73.037750\n",
      "2  409Wp  1.022732  0.151990  1.419926   85.265647\n",
      "3  iJLyR -0.032172  0.139033  2.978566  168.620776\n",
      "4  Xdl7t  1.988431  0.155413  4.751769  154.036647\n",
      "      id         f0         f1        f2     product\n",
      "0  kBEdx -15.001348  -8.276000 -0.005876    3.179103\n",
      "1  62mP7  14.272088  -3.475083  0.999183   26.953261\n",
      "2  vyE1P   6.263187  -5.948386  5.001160  134.766305\n",
      "3  KcrkZ -13.081196 -11.506057  4.999415  137.945408\n",
      "4  AHL4O  12.702195  -8.147433  5.004363  134.766305\n",
      "      id        f0        f1        f2     product\n",
      "0  fwXo0 -1.146987  0.963328 -0.828965   27.758673\n",
      "1  WJtFt  0.262778  0.269839 -2.530187   56.069697\n",
      "2  ovLUW  0.194587  0.289035 -5.586433   62.871910\n",
      "3  q6cA6  2.236060 -0.553760  0.930038  114.572842\n",
      "4  WPMUX -0.515993  1.716266  5.899011  149.600746\n"
     ]
    }
   ],
   "source": [
    "# напечатать данные\n",
    "for item in data:\n",
    "    print(item.head())"
   ]
  },
  {
   "cell_type": "code",
   "execution_count": 5,
   "metadata": {},
   "outputs": [
    {
     "name": "stdout",
     "output_type": "stream",
     "text": [
      "<class 'pandas.core.frame.DataFrame'>\n",
      "RangeIndex: 100000 entries, 0 to 99999\n",
      "Data columns (total 5 columns):\n",
      " #   Column   Non-Null Count   Dtype  \n",
      "---  ------   --------------   -----  \n",
      " 0   id       100000 non-null  object \n",
      " 1   f0       100000 non-null  float64\n",
      " 2   f1       100000 non-null  float64\n",
      " 3   f2       100000 non-null  float64\n",
      " 4   product  100000 non-null  float64\n",
      "dtypes: float64(4), object(1)\n",
      "memory usage: 3.8+ MB\n",
      "None\n",
      "<class 'pandas.core.frame.DataFrame'>\n",
      "RangeIndex: 100000 entries, 0 to 99999\n",
      "Data columns (total 5 columns):\n",
      " #   Column   Non-Null Count   Dtype  \n",
      "---  ------   --------------   -----  \n",
      " 0   id       100000 non-null  object \n",
      " 1   f0       100000 non-null  float64\n",
      " 2   f1       100000 non-null  float64\n",
      " 3   f2       100000 non-null  float64\n",
      " 4   product  100000 non-null  float64\n",
      "dtypes: float64(4), object(1)\n",
      "memory usage: 3.8+ MB\n",
      "None\n",
      "<class 'pandas.core.frame.DataFrame'>\n",
      "RangeIndex: 100000 entries, 0 to 99999\n",
      "Data columns (total 5 columns):\n",
      " #   Column   Non-Null Count   Dtype  \n",
      "---  ------   --------------   -----  \n",
      " 0   id       100000 non-null  object \n",
      " 1   f0       100000 non-null  float64\n",
      " 2   f1       100000 non-null  float64\n",
      " 3   f2       100000 non-null  float64\n",
      " 4   product  100000 non-null  float64\n",
      "dtypes: float64(4), object(1)\n",
      "memory usage: 3.8+ MB\n",
      "None\n"
     ]
    }
   ],
   "source": [
    "# изучить файлы: метод info()\n",
    "for item in data:\n",
    "    print(item.info())"
   ]
  },
  {
   "cell_type": "markdown",
   "metadata": {},
   "source": [
    "Пропуски нигде не обнаружены. Типы данных все верные."
   ]
  },
  {
   "cell_type": "code",
   "execution_count": 6,
   "metadata": {
    "scrolled": false
   },
   "outputs": [
    {
     "data": {
      "image/png": "[encoded data removed]",
      "text/plain": [
       "<Figure size 720x720 with 4 Axes>"
      ]
     },
     "metadata": {
      "needs_background": "light"
     },
     "output_type": "display_data"
    },
    {
     "data": {
      "image/png": "[encoded data removed]",
      "text/plain": [
       "<Figure size 720x720 with 4 Axes>"
      ]
     },
     "metadata": {
      "needs_background": "light"
     },
     "output_type": "display_data"
    },
    {
     "data": {
      "image/png": "[encoded data removed]",
      "text/plain": [
       "<Figure size 720x720 with 4 Axes>"
      ]
     },
     "metadata": {
      "needs_background": "light"
     },
     "output_type": "display_data"
    }
   ],
   "source": [
    "# изучить файлы: гистограммы\n",
    "for item in data:\n",
    "    item.hist(figsize=(10, 10));"
   ]
  },
  {
   "cell_type": "code",
   "execution_count": 7,
   "metadata": {},
   "outputs": [
    {
     "name": "stdout",
     "output_type": "stream",
     "text": [
      "                  f0             f1             f2        product\n",
      "count  100000.000000  100000.000000  100000.000000  100000.000000\n",
      "mean        0.500419       0.250143       2.502647      92.500000\n",
      "std         0.871832       0.504433       3.248248      44.288691\n",
      "min        -1.408605      -0.848218     -12.088328       0.000000\n",
      "25%        -0.072580      -0.200881       0.287748      56.497507\n",
      "50%         0.502360       0.250252       2.515969      91.849972\n",
      "75%         1.073581       0.700646       4.715088     128.564089\n",
      "max         2.362331       1.343769      16.003790     185.364347\n",
      "                  f0             f1             f2        product\n",
      "count  100000.000000  100000.000000  100000.000000  100000.000000\n",
      "mean        1.141296      -4.796579       2.494541      68.825000\n",
      "std         8.965932       5.119872       1.703572      45.944423\n",
      "min       -31.609576     -26.358598      -0.018144       0.000000\n",
      "25%        -6.298551      -8.267985       1.000021      26.953261\n",
      "50%         1.153055      -4.813172       2.011479      57.085625\n",
      "75%         8.621015      -1.332816       3.999904     107.813044\n",
      "max        29.421755      18.734063       5.019721     137.945408\n",
      "                  f0             f1             f2        product\n",
      "count  100000.000000  100000.000000  100000.000000  100000.000000\n",
      "mean        0.002023      -0.002081       2.495128      95.000000\n",
      "std         1.732045       1.730417       3.473445      44.749921\n",
      "min        -8.760004      -7.084020     -11.970335       0.000000\n",
      "25%        -1.162288      -1.174820       0.130359      59.450441\n",
      "50%         0.009424      -0.009482       2.484236      94.925613\n",
      "75%         1.158535       1.163678       4.858794     130.595027\n",
      "max         7.238262       7.844801      16.739402     190.029838\n"
     ]
    }
   ],
   "source": [
    "# изучение данных: метод describe()\n",
    "for item in data:\n",
    "    print(item.describe())"
   ]
  },
  {
   "cell_type": "code",
   "execution_count": 8,
   "metadata": {},
   "outputs": [
    {
     "name": "stdout",
     "output_type": "stream",
     "text": [
      "0\n",
      "0\n",
      "0\n"
     ]
    }
   ],
   "source": [
    "# поиск дубликатов\n",
    "for item in data:\n",
    "    print(item.duplicated().sum())"
   ]
  },
  {
   "cell_type": "markdown",
   "metadata": {},
   "source": [
    "Дубликатов нет."
   ]
  },
  {
   "cell_type": "code",
   "execution_count": 9,
   "metadata": {},
   "outputs": [
    {
     "name": "stdout",
     "output_type": "stream",
     "text": [
      "(100000, 5)\n",
      "(100000, 5)\n",
      "(100000, 5)\n"
     ]
    }
   ],
   "source": [
    "# определить размер data\n",
    "for item in data:\n",
    "    print(item.shape)"
   ]
  },
  {
   "cell_type": "code",
   "execution_count": 10,
   "metadata": {},
   "outputs": [
    {
     "name": "stdout",
     "output_type": "stream",
     "text": [
      "               f0        f1        f2   product\n",
      "f0       1.000000 -0.440723 -0.003153  0.143536\n",
      "f1      -0.440723  1.000000  0.001724 -0.192356\n",
      "f2      -0.003153  0.001724  1.000000  0.483663\n",
      "product  0.143536 -0.192356  0.483663  1.000000\n",
      "               f0        f1        f2   product\n",
      "f0       1.000000  0.182287 -0.001777 -0.030491\n",
      "f1       0.182287  1.000000 -0.002595 -0.010155\n",
      "f2      -0.001777 -0.002595  1.000000  0.999397\n",
      "product -0.030491 -0.010155  0.999397  1.000000\n",
      "               f0        f1        f2   product\n",
      "f0       1.000000  0.000528 -0.000448 -0.001987\n",
      "f1       0.000528  1.000000  0.000779 -0.001012\n",
      "f2      -0.000448  0.000779  1.000000  0.445871\n",
      "product -0.001987 -0.001012  0.445871  1.000000\n"
     ]
    }
   ],
   "source": [
    "# изучить файлы: метод corr()\n",
    "for item in data:\n",
    "    print(item.corr())"
   ]
  },
  {
   "cell_type": "markdown",
   "metadata": {},
   "source": [
    "<b>ИТОГИ</b>\n",
    "1. Импортирована библиотека pandas и открыты файлы.\n",
    "2. Изучены файлы выводом первых 10 строк.\n",
    "3. Изучены файлы методом <i>info()</i>.\n",
    "4. Построены гистограммы.  \n",
    "5. Дубликатов не обнаружено.\n",
    "6. Аномальных значений не обнаружено."
   ]
  },
  {
   "cell_type": "markdown",
   "metadata": {},
   "source": [
    "## Обучение и проверка модели"
   ]
  },
  {
   "cell_type": "markdown",
   "metadata": {},
   "source": [
    "### Первый регион"
   ]
  },
  {
   "cell_type": "code",
   "execution_count": 11,
   "metadata": {},
   "outputs": [],
   "source": [
    "target_0 = data_0['product']\n",
    "features_0 = data_0.drop(['product', 'id'], axis=1)\n",
    "\n",
    "features_train_0, features_valid_0, target_train_0, target_valid_0 = train_test_split(features_0, \n",
    "                                                                                      target_0, test_size=0.25, \n",
    "                                                                                      random_state=12345)"
   ]
  },
  {
   "cell_type": "code",
   "execution_count": 12,
   "metadata": {},
   "outputs": [
    {
     "name": "stdout",
     "output_type": "stream",
     "text": [
      "MSE = 1412.2129364399243\n",
      "RMSE = 37.5794217150813\n",
      "Средний запас предсказанного сырья = 92.59256778438035\n"
     ]
    }
   ],
   "source": [
    "model_0 = LinearRegression()\n",
    "model_0.fit(features_train_0, target_train_0)\n",
    "predicted_valid_0 = model_0.predict(features_valid_0)\n",
    "mse_0 = mean_squared_error(target_valid_0, predicted_valid_0)\n",
    "\n",
    "\n",
    "print(\"MSE =\", mse_0)\n",
    "print(\"RMSE =\", mse_0 ** 0.5)\n",
    "print('Средний запас предсказанного сырья =', predicted_valid_0.mean())"
   ]
  },
  {
   "cell_type": "markdown",
   "metadata": {},
   "source": [
    "### Второй регион"
   ]
  },
  {
   "cell_type": "code",
   "execution_count": 13,
   "metadata": {},
   "outputs": [],
   "source": [
    "target_1 = data_1['product']\n",
    "features_1 = data_1.drop(['product', 'id'], axis=1)\n",
    "\n",
    "features_train_1, features_valid_1, target_train_1, target_valid_1 = train_test_split(features_1, \n",
    "                                                                                      target_1, test_size=0.25, \n",
    "                                                                                      random_state=12345)"
   ]
  },
  {
   "cell_type": "code",
   "execution_count": 14,
   "metadata": {},
   "outputs": [
    {
     "name": "stdout",
     "output_type": "stream",
     "text": [
      "MSE = 0.7976263360391157\n",
      "RMSE = 0.893099286775617\n",
      "Средний запас предсказанного сырья = 68.728546895446\n"
     ]
    }
   ],
   "source": [
    "model_1 = LinearRegression()\n",
    "model_1.fit(features_train_1, target_train_1)\n",
    "predicted_valid_1 = model_1.predict(features_valid_1)\n",
    "mse_1 = mean_squared_error(target_valid_1, predicted_valid_1)\n",
    "\n",
    "\n",
    "print(\"MSE =\", mse_1)\n",
    "print(\"RMSE =\", mse_1 ** 0.5)\n",
    "print('Средний запас предсказанного сырья =', predicted_valid_1.mean())"
   ]
  },
  {
   "cell_type": "markdown",
   "metadata": {},
   "source": [
    "### Третий регион"
   ]
  },
  {
   "cell_type": "code",
   "execution_count": 15,
   "metadata": {},
   "outputs": [],
   "source": [
    "target_2 = data_2['product']\n",
    "features_2 = data_2.drop(['product', 'id'], axis=1)\n",
    "\n",
    "features_train_2, features_valid_2, target_train_2, target_valid_2 = train_test_split(features_2, \n",
    "                                                                                      target_2, test_size=0.25, \n",
    "                                                                                      random_state=12345)"
   ]
  },
  {
   "cell_type": "code",
   "execution_count": 16,
   "metadata": {},
   "outputs": [
    {
     "name": "stdout",
     "output_type": "stream",
     "text": [
      "MSE = 1602.3775813236196\n",
      "RMSE = 40.02970873393434\n",
      "Средний запас предсказанного сырья = 94.96504596800489\n"
     ]
    }
   ],
   "source": [
    "model_2 = LinearRegression()\n",
    "model_2.fit(features_train_2, target_train_2)\n",
    "predicted_valid_2 = model_2.predict(features_valid_2)\n",
    "mse_2 = mean_squared_error(target_valid_2, predicted_valid_2)\n",
    "\n",
    "\n",
    "print(\"MSE =\", mse_2)\n",
    "print(\"RMSE =\", mse_2 ** 0.5)\n",
    "print('Средний запас предсказанного сырья =', predicted_valid_2.mean())"
   ]
  },
  {
   "cell_type": "markdown",
   "metadata": {},
   "source": [
    "<b>ИТОГИ</b>\n",
    "\n",
    "MSE - метрика, которая сообщает нам среднеквадратичную разницу между прогнозируемыми значениями и фактическими значениями в наборе данных. Чем ниже MSE, тем лучше модель соответствует набору данных. RMSE - квадратный корень из MSE. Чем ниже RMSE, тем лучше модель соответствует набору данных.  \n",
    "  \n",
    "В моделях для первого и третьего регионов довольно большие значения MSE и RMSE. Но во второй модели меньше средний запас предсказанного сырья."
   ]
  },
  {
   "cell_type": "markdown",
   "metadata": {},
   "source": [
    "## Подготовка к расчёту прибыли"
   ]
  },
  {
   "cell_type": "code",
   "execution_count": 17,
   "metadata": {},
   "outputs": [],
   "source": [
    "# константы\n",
    "BUDGET = 10000000000\n",
    "ONE_BARREL = 450\n",
    "FROM_PRODUCT = 450000\n",
    "\n",
    "FOR_SEARCHING = 500\n",
    "FOR_THE_BEST = 200"
   ]
  },
  {
   "cell_type": "markdown",
   "metadata": {},
   "source": [
    "При разведке региона исследуют 500 точек, из которых с помощью машинного обучения выбирают 200 лучших для разработки. Поэтому, чтобы найти бюджет на разработку одной точки, нужно общий бюджет поделить на 200 (так как бюджет выделен на 200 точек)."
   ]
  },
  {
   "cell_type": "code",
   "execution_count": 18,
   "metadata": {},
   "outputs": [
    {
     "name": "stdout",
     "output_type": "stream",
     "text": [
      "Бюджет на разработку одной точки =  50000000.0\n"
     ]
    }
   ],
   "source": [
    "# бюджет на одну точку\n",
    "budget_for_point = BUDGET / FOR_THE_BEST\n",
    "print('Бюджет на разработку одной точки = ', budget_for_point)"
   ]
  },
  {
   "cell_type": "code",
   "execution_count": 19,
   "metadata": {},
   "outputs": [
    {
     "name": "stdout",
     "output_type": "stream",
     "text": [
      "Точка безубыточности =  111 тыс. баррелей\n"
     ]
    }
   ],
   "source": [
    "# точка безубыточности\n",
    "breakeven = budget_for_point / FROM_PRODUCT\n",
    "print('Точка безубыточности = ', round(breakeven), 'тыс. баррелей')"
   ]
  },
  {
   "cell_type": "code",
   "execution_count": 20,
   "metadata": {},
   "outputs": [
    {
     "name": "stdout",
     "output_type": "stream",
     "text": [
      "Средний объём сырья в 1 регионе 92.5\n",
      "Средний объём сырья во 2 регионе 68.8\n",
      "Средний объём сырья в 3 регионе 95.0\n"
     ]
    }
   ],
   "source": [
    "# средний объем сырья по регионам\n",
    "product_mean_0 = data_0['product'].mean()\n",
    "product_mean_1 = data_1['product'].mean()\n",
    "product_mean_2 = data_2['product'].mean()\n",
    "print('Средний объём сырья в 1 регионе', round(product_mean_0, 1))\n",
    "print('Средний объём сырья во 2 регионе', round(product_mean_1, 1))\n",
    "print('Средний объём сырья в 3 регионе', round(product_mean_2, 1))"
   ]
  },
  {
   "cell_type": "markdown",
   "metadata": {},
   "source": [
    "<b>ИТОГИ</b> \n",
    "  \n",
    "Средний объём сырья в каждом регионе меньше достаточного объёма сырья для безубыточной разработки новой скважины."
   ]
  },
  {
   "cell_type": "markdown",
   "metadata": {},
   "source": [
    "## Функция для расчёта прибыли по выбранным скважинам и предсказаниям модели"
   ]
  },
  {
   "cell_type": "code",
   "execution_count": 21,
   "metadata": {},
   "outputs": [],
   "source": [
    "def profit(prediction, target, count):\n",
    "    probs_sorted = pd.Series(prediction, index=target.index).sort_values(ascending=False)\n",
    "    selected = probs_sorted[:count].sum()\n",
    "    profit = (selected * FROM_PRODUCT) - BUDGET\n",
    "    print('Запас сырья в 200 лучших скважинах по предсказаниям модели = %.2f тысяч баррелей'%selected)\n",
    "    print('Прибыль для полученного объёма сырья = %.2f млн рублей'%(profit/1000000))"
   ]
  },
  {
   "cell_type": "markdown",
   "metadata": {},
   "source": [
    "1 регион"
   ]
  },
  {
   "cell_type": "code",
   "execution_count": 22,
   "metadata": {},
   "outputs": [
    {
     "name": "stdout",
     "output_type": "stream",
     "text": [
      "Запас сырья в 200 лучших скважинах по предсказаниям модели = 31102.33 тысяч баррелей\n",
      "Прибыль для полученного объёма сырья = 3996.05 млн рублей\n"
     ]
    }
   ],
   "source": [
    "profit(predicted_valid_0, target_valid_0, FOR_THE_BEST)"
   ]
  },
  {
   "cell_type": "markdown",
   "metadata": {},
   "source": [
    "2 регион"
   ]
  },
  {
   "cell_type": "code",
   "execution_count": 23,
   "metadata": {},
   "outputs": [
    {
     "name": "stdout",
     "output_type": "stream",
     "text": [
      "Запас сырья в 200 лучших скважинах по предсказаниям модели = 27746.03 тысяч баррелей\n",
      "Прибыль для полученного объёма сырья = 2485.71 млн рублей\n"
     ]
    }
   ],
   "source": [
    "profit(predicted_valid_1, target_valid_0, FOR_THE_BEST)"
   ]
  },
  {
   "cell_type": "markdown",
   "metadata": {},
   "source": [
    "3 регион"
   ]
  },
  {
   "cell_type": "code",
   "execution_count": 24,
   "metadata": {},
   "outputs": [
    {
     "name": "stdout",
     "output_type": "stream",
     "text": [
      "Запас сырья в 200 лучших скважинах по предсказаниям модели = 29603.90 тысяч баррелей\n",
      "Прибыль для полученного объёма сырья = 3321.75 млн рублей\n"
     ]
    }
   ],
   "source": [
    "profit(predicted_valid_2, target_valid_0, FOR_THE_BEST)"
   ]
  },
  {
   "cell_type": "markdown",
   "metadata": {},
   "source": [
    "<b>ИТОГИ</b>  \n",
    "  \n",
    "Наибольший суммарный запас сырья в 200 лучших скважинах по предсказаниям модели будет в 1 регионе."
   ]
  },
  {
   "cell_type": "markdown",
   "metadata": {},
   "source": [
    "## Расчёт прибыли и рисков "
   ]
  },
  {
   "cell_type": "code",
   "execution_count": 25,
   "metadata": {},
   "outputs": [],
   "source": [
    "# функция для подсчёта прибыли\n",
    "def profit(prediction, target, count):\n",
    "    probs_sorted = pd.Series(prediction).sort_values(ascending=False)\n",
    "    selected = target[probs_sorted.index][:count]\n",
    "    product = selected.sum()\n",
    "    revenue = product * FROM_PRODUCT\n",
    "    return revenue - BUDGET\n",
    "\n",
    "# bootstrap\n",
    "def profit_and_risks (target, prediction, showplot=False):\n",
    "    state = np.random.RandomState(12345)\n",
    "    predict = pd.Series(prediction, index=target.index)\n",
    "    values = []\n",
    "    loss = 0\n",
    "    for i in range(1000):\n",
    "        target_subsample = target.sample(n=500, replace=True, random_state=state)\n",
    "        probs_subsample = predict[target_subsample.index] \n",
    "        values.append(profit(probs_subsample, target_subsample, 200))\n",
    "    # находим количество кейсов, когда прибыль меньше 0\n",
    "    for item in values:\n",
    "        if item < 0:\n",
    "            loss +=1\n",
    "\n",
    "    values = pd.Series(values)\n",
    "    # средняя прибыль\n",
    "    mean = values.mean()\n",
    "    \n",
    "    # доверительный интервал\n",
    "    lower = values.quantile(0.025)\n",
    "    upper = values.quantile(0.975)\n",
    "    \n",
    "    print('Средняя прибыль = {:.2f} млн руб'.format(mean/1000000))\n",
    "    print('95%-ый доверительный интервал: от {:.2f} млн.руб до {:.2f} млн руб'.format(lower/1000000, upper/1000000))\n",
    "    print ('Риск убытков = {:.1%}'.format(loss/1000))"
   ]
  },
  {
   "cell_type": "markdown",
   "metadata": {},
   "source": [
    "### Первый регион"
   ]
  },
  {
   "cell_type": "code",
   "execution_count": 27,
   "metadata": {
    "scrolled": false
   },
   "outputs": [
    {
     "name": "stdout",
     "output_type": "stream",
     "text": [
      "Средняя прибыль = 425.94 млн руб\n",
      "95%-ый доверительный интервал: от -102.09 млн.руб до 947.98 млн руб\n",
      "Риск убытков = 6.0%\n"
     ]
    }
   ],
   "source": [
    "values_0 = profit_and_risks(target_valid_0, predicted_valid_0, True)"
   ]
  },
  {
   "cell_type": "markdown",
   "metadata": {},
   "source": [
    "### Второй регион"
   ]
  },
  {
   "cell_type": "code",
   "execution_count": 28,
   "metadata": {},
   "outputs": [
    {
     "name": "stdout",
     "output_type": "stream",
     "text": [
      "Средняя прибыль = 515.22 млн руб\n",
      "95%-ый доверительный интервал: от 68.87 млн.руб до 931.55 млн руб\n",
      "Риск убытков = 1.0%\n"
     ]
    }
   ],
   "source": [
    "profit_and_risks(target_valid_1, predicted_valid_1)"
   ]
  },
  {
   "cell_type": "markdown",
   "metadata": {},
   "source": [
    "### Третий регион"
   ]
  },
  {
   "cell_type": "code",
   "execution_count": 29,
   "metadata": {},
   "outputs": [
    {
     "name": "stdout",
     "output_type": "stream",
     "text": [
      "Средняя прибыль = 435.01 млн руб\n",
      "95%-ый доверительный интервал: от -128.88 млн.руб до 969.71 млн руб\n",
      "Риск убытков = 6.4%\n"
     ]
    }
   ],
   "source": [
    "profit_and_risks(target_valid_2, predicted_valid_2)"
   ]
  },
  {
   "cell_type": "markdown",
   "metadata": {},
   "source": [
    "После оценки рисков нужно оставить лишь те регионы, в которых вероятность убытков меньше 2.5%. Среди них нужно выбрать регион с наибольшей средней прибылью."
   ]
  },
  {
   "cell_type": "markdown",
   "metadata": {},
   "source": [
    "<b>ИТОГИ</b>  \n",
    "  \n",
    "Пороговое значение в 2.5% проходит только второй регион с риском убытков 1% и средней прибылью 515.22 млн рублей. В этом регионе наименьший процент риска убытков и наибольшаяя средняя прибыль среди всех регионовп"
   ]
  },
  {
   "cell_type": "markdown",
   "metadata": {},
   "source": [
    "## Общие выводы"
   ]
  },
  {
   "cell_type": "markdown",
   "metadata": {},
   "source": [
    "1. Проведена предобработка данных\n",
    "    - Импортирована библиотека pandas и открыты файлы.\n",
    "    - Изучены файлы выводом первых 10 строк.\n",
    "    - Изучены файлы методом <i>info()</i>.\n",
    "    - Построены гистограммы.  \n",
    "    - Дубликатов не обнаружено.\n",
    "    - Аномальных значений не обнаружено.\n",
    "2. Обучены и проверены модели для каждого региона\n",
    "    - Данные разбиты на обучающую и валидационную выборки в соотношении 75:25.\n",
    "    - Обучена модель (линейная регрессия) и сделаны предсказания на валидационной выборке.\n",
    "    - В моделях для первого и третьего регионов довольно большие значения MSE и RMSE. Но во второй модели меньше средний запас предсказанного сырья.\n",
    "3. Посчитан достаточный объём сырья для безубыточной разработки новой скважины (= 111 000 баррелей)\n",
    "4. Написана функция для расчёта прибыли по выбранным скважинам и предсказаниям модели (наибольший суммарный запас сырья в 200 лучших скважинах по предсказаниям модели будет в 1 регионе).\n",
    "5. Посчитаны риски и прибыль для каждого региона\n",
    "    - Использована техника Bootstrap с 1000 выборок, чтобы найти распределение прибыли.\n",
    "    - Найдена средняя прибыль, 95%-й доверительный интервал и риск убытков.\n",
    "    - Предложен второй регион для разработки скважин, так как он единственный проходит пороговый интервал риска убытков в 2.5%, а также средняя прогнозируемая прибыль в этом регионе самая большая."
   ]
  }
 ],
 "metadata": {
  "ExecuteTimeLog": [
   {
    "duration": 1671,
    "start_time": "2023-03-08T16:15:16.338Z"
   },
   {
    "duration": 425,
    "start_time": "2023-03-08T16:15:18.013Z"
   },
   {
    "duration": 14,
    "start_time": "2023-03-08T16:15:18.439Z"
   },
   {
    "duration": 57,
    "start_time": "2023-03-08T16:15:18.455Z"
   },
   {
    "duration": 1923,
    "start_time": "2023-03-08T16:15:18.518Z"
   },
   {
    "duration": 104,
    "start_time": "2023-03-08T16:15:20.443Z"
   },
   {
    "duration": 142,
    "start_time": "2023-03-08T16:15:20.549Z"
   },
   {
    "duration": 5,
    "start_time": "2023-03-08T16:15:20.693Z"
   },
   {
    "duration": 36,
    "start_time": "2023-03-08T16:15:20.700Z"
   },
   {
    "duration": 52,
    "start_time": "2023-03-08T16:15:20.739Z"
   },
   {
    "duration": 107,
    "start_time": "2023-03-08T16:15:20.794Z"
   },
   {
    "duration": 89,
    "start_time": "2023-03-08T16:15:20.903Z"
   },
   {
    "duration": 97,
    "start_time": "2023-03-08T16:15:21.006Z"
   },
   {
    "duration": 43,
    "start_time": "2023-03-08T16:15:21.105Z"
   },
   {
    "duration": 3,
    "start_time": "2023-03-08T16:15:21.198Z"
   },
   {
    "duration": 116,
    "start_time": "2023-03-08T16:15:21.203Z"
   },
   {
    "duration": 7,
    "start_time": "2023-03-08T16:15:21.321Z"
   },
   {
    "duration": 9,
    "start_time": "2023-03-08T16:15:21.330Z"
   },
   {
    "duration": 12,
    "start_time": "2023-03-08T16:15:21.340Z"
   },
   {
    "duration": 10,
    "start_time": "2023-03-08T16:15:21.354Z"
   },
   {
    "duration": 6,
    "start_time": "2023-03-08T16:15:21.366Z"
   },
   {
    "duration": 7,
    "start_time": "2023-03-08T16:15:21.373Z"
   },
   {
    "duration": 11,
    "start_time": "2023-03-08T16:15:21.381Z"
   },
   {
    "duration": 1548,
    "start_time": "2023-03-08T16:15:21.393Z"
   },
   {
    "duration": 1519,
    "start_time": "2023-03-08T16:15:22.943Z"
   },
   {
    "duration": 1519,
    "start_time": "2023-03-08T16:15:24.464Z"
   },
   {
    "duration": 1312,
    "start_time": "2023-03-09T09:15:30.021Z"
   },
   {
    "duration": 1675,
    "start_time": "2023-03-09T09:15:32.198Z"
   },
   {
    "duration": 3,
    "start_time": "2023-03-09T09:15:35.825Z"
   },
   {
    "duration": 20,
    "start_time": "2023-03-09T09:16:01.223Z"
   },
   {
    "duration": 48,
    "start_time": "2023-03-09T09:21:29.510Z"
   },
   {
    "duration": 2309,
    "start_time": "2023-03-09T09:21:58.304Z"
   },
   {
    "duration": 67,
    "start_time": "2023-03-09T09:22:14.505Z"
   },
   {
    "duration": 1726,
    "start_time": "2023-03-09T09:22:33.620Z"
   },
   {
    "duration": 1747,
    "start_time": "2023-03-09T09:22:41.529Z"
   },
   {
    "duration": 132,
    "start_time": "2023-03-09T09:22:59.221Z"
   },
   {
    "duration": 149,
    "start_time": "2023-03-09T09:23:27.075Z"
   },
   {
    "duration": 19,
    "start_time": "2023-03-09T09:29:17.721Z"
   },
   {
    "duration": 199,
    "start_time": "2023-03-09T09:31:50.306Z"
   },
   {
    "duration": 59,
    "start_time": "2023-03-09T09:32:07.325Z"
   },
   {
    "duration": 45,
    "start_time": "2023-03-09T09:32:30.345Z"
   },
   {
    "duration": 42,
    "start_time": "2023-03-09T09:32:44.422Z"
   },
   {
    "duration": 45,
    "start_time": "2023-03-09T09:32:57.582Z"
   },
   {
    "duration": 52,
    "start_time": "2023-03-09T09:34:25.623Z"
   },
   {
    "duration": 52,
    "start_time": "2023-03-09T09:36:11.676Z"
   },
   {
    "duration": 59,
    "start_time": "2023-03-09T09:36:54.900Z"
   },
   {
    "duration": 75,
    "start_time": "2023-03-09T09:39:37.247Z"
   },
   {
    "duration": 77,
    "start_time": "2023-03-09T09:40:02.842Z"
   },
   {
    "duration": 80,
    "start_time": "2023-03-09T09:40:16.366Z"
   },
   {
    "duration": 74,
    "start_time": "2023-03-09T09:40:19.711Z"
   },
   {
    "duration": 4,
    "start_time": "2023-03-09T09:41:44.043Z"
   },
   {
    "duration": 24,
    "start_time": "2023-03-09T09:42:10.206Z"
   },
   {
    "duration": 30,
    "start_time": "2023-03-09T09:42:26.670Z"
   },
   {
    "duration": 1182,
    "start_time": "2023-03-09T10:39:27.878Z"
   },
   {
    "duration": 489,
    "start_time": "2023-03-09T10:39:29.063Z"
   },
   {
    "duration": 3,
    "start_time": "2023-03-09T10:39:29.553Z"
   },
   {
    "duration": 15,
    "start_time": "2023-03-09T10:39:29.558Z"
   },
   {
    "duration": 57,
    "start_time": "2023-03-09T10:39:29.575Z"
   },
   {
    "duration": 2036,
    "start_time": "2023-03-09T10:39:29.634Z"
   },
   {
    "duration": 118,
    "start_time": "2023-03-09T10:39:31.672Z"
   },
   {
    "duration": 159,
    "start_time": "2023-03-09T10:39:31.792Z"
   },
   {
    "duration": 4,
    "start_time": "2023-03-09T10:39:31.953Z"
   },
   {
    "duration": 63,
    "start_time": "2023-03-09T10:39:31.958Z"
   },
   {
    "duration": 31,
    "start_time": "2023-03-09T10:39:32.024Z"
   },
   {
    "duration": 81,
    "start_time": "2023-03-09T10:39:32.057Z"
   },
   {
    "duration": 92,
    "start_time": "2023-03-09T10:39:32.141Z"
   },
   {
    "duration": 27,
    "start_time": "2023-03-09T10:39:32.237Z"
   },
   {
    "duration": 103,
    "start_time": "2023-03-09T10:39:32.325Z"
   },
   {
    "duration": 34,
    "start_time": "2023-03-09T10:39:32.429Z"
   },
   {
    "duration": 3,
    "start_time": "2023-03-09T10:39:32.533Z"
   },
   {
    "duration": 93,
    "start_time": "2023-03-09T10:39:32.538Z"
   },
   {
    "duration": 13,
    "start_time": "2023-03-09T10:39:32.633Z"
   },
   {
    "duration": 9,
    "start_time": "2023-03-09T10:39:32.648Z"
   },
   {
    "duration": 6,
    "start_time": "2023-03-09T10:39:32.659Z"
   },
   {
    "duration": 12,
    "start_time": "2023-03-09T10:39:32.667Z"
   },
   {
    "duration": 7,
    "start_time": "2023-03-09T10:39:32.681Z"
   },
   {
    "duration": 6,
    "start_time": "2023-03-09T10:39:32.690Z"
   },
   {
    "duration": 32,
    "start_time": "2023-03-09T10:39:32.697Z"
   },
   {
    "duration": 1600,
    "start_time": "2023-03-09T10:39:32.731Z"
   },
   {
    "duration": 1496,
    "start_time": "2023-03-09T10:39:34.333Z"
   },
   {
    "duration": 1473,
    "start_time": "2023-03-09T10:39:35.831Z"
   },
   {
    "duration": 27,
    "start_time": "2023-03-09T17:35:46.833Z"
   },
   {
    "duration": 2024,
    "start_time": "2023-03-09T17:36:51.571Z"
   },
   {
    "duration": 513,
    "start_time": "2023-03-09T17:36:53.598Z"
   },
   {
    "duration": 3,
    "start_time": "2023-03-09T17:36:54.113Z"
   },
   {
    "duration": 32,
    "start_time": "2023-03-09T17:36:54.118Z"
   },
   {
    "duration": 61,
    "start_time": "2023-03-09T17:36:54.167Z"
   },
   {
    "duration": 2307,
    "start_time": "2023-03-09T17:36:54.230Z"
   },
   {
    "duration": 124,
    "start_time": "2023-03-09T17:36:56.544Z"
   },
   {
    "duration": 205,
    "start_time": "2023-03-09T17:36:56.670Z"
   },
   {
    "duration": 3,
    "start_time": "2023-03-09T17:36:56.883Z"
   },
   {
    "duration": 83,
    "start_time": "2023-03-09T17:36:56.888Z"
   },
   {
    "duration": 24,
    "start_time": "2023-03-09T17:36:56.981Z"
   },
   {
    "duration": 55,
    "start_time": "2023-03-09T17:36:57.007Z"
   },
   {
    "duration": 143,
    "start_time": "2023-03-09T17:36:57.065Z"
   },
   {
    "duration": 55,
    "start_time": "2023-03-09T17:36:57.211Z"
   },
   {
    "duration": 131,
    "start_time": "2023-03-09T17:36:57.268Z"
   },
   {
    "duration": 131,
    "start_time": "2023-03-09T17:36:57.404Z"
   },
   {
    "duration": 11,
    "start_time": "2023-03-09T17:36:57.544Z"
   },
   {
    "duration": 47,
    "start_time": "2023-03-09T17:36:57.561Z"
   },
   {
    "duration": 8,
    "start_time": "2023-03-09T17:36:57.631Z"
   },
   {
    "duration": 61,
    "start_time": "2023-03-09T17:36:57.641Z"
   },
   {
    "duration": 7,
    "start_time": "2023-03-09T17:36:57.704Z"
   },
   {
    "duration": 12,
    "start_time": "2023-03-09T17:36:57.713Z"
   },
   {
    "duration": 15,
    "start_time": "2023-03-09T17:36:57.727Z"
   },
   {
    "duration": 57,
    "start_time": "2023-03-09T17:36:57.744Z"
   },
   {
    "duration": 7,
    "start_time": "2023-03-09T17:36:57.803Z"
   },
   {
    "duration": 149,
    "start_time": "2023-03-09T17:36:57.812Z"
   },
   {
    "duration": 0,
    "start_time": "2023-03-09T17:36:57.969Z"
   },
   {
    "duration": 0,
    "start_time": "2023-03-09T17:36:57.970Z"
   },
   {
    "duration": 12,
    "start_time": "2023-03-09T17:37:09.287Z"
   },
   {
    "duration": 1690,
    "start_time": "2023-03-09T17:37:11.900Z"
   },
   {
    "duration": 1643,
    "start_time": "2023-03-09T17:37:13.596Z"
   },
   {
    "duration": 1720,
    "start_time": "2023-03-09T17:37:15.241Z"
   },
   {
    "duration": 10,
    "start_time": "2023-03-09T17:39:10.505Z"
   },
   {
    "duration": 1868,
    "start_time": "2023-03-09T17:39:12.107Z"
   },
   {
    "duration": 12,
    "start_time": "2023-03-09T17:39:43.587Z"
   },
   {
    "duration": 2190,
    "start_time": "2023-03-09T17:39:43.821Z"
   },
   {
    "duration": 113,
    "start_time": "2023-03-09T17:39:59.771Z"
   },
   {
    "duration": 2729,
    "start_time": "2023-03-09T17:40:01.111Z"
   },
   {
    "duration": 16,
    "start_time": "2023-03-09T17:40:32.367Z"
   },
   {
    "duration": 3,
    "start_time": "2023-03-09T17:40:34.322Z"
   },
   {
    "duration": 2539,
    "start_time": "2023-03-09T17:40:34.566Z"
   },
   {
    "duration": 3,
    "start_time": "2023-03-09T17:41:12.105Z"
   },
   {
    "duration": 2379,
    "start_time": "2023-03-09T17:41:12.648Z"
   },
   {
    "duration": 1118,
    "start_time": "2023-03-10T09:38:08.034Z"
   },
   {
    "duration": 1698,
    "start_time": "2023-03-10T09:38:09.154Z"
   },
   {
    "duration": 3,
    "start_time": "2023-03-10T09:38:10.854Z"
   },
   {
    "duration": 14,
    "start_time": "2023-03-10T09:38:10.859Z"
   },
   {
    "duration": 38,
    "start_time": "2023-03-10T09:38:10.875Z"
   },
   {
    "duration": 2021,
    "start_time": "2023-03-10T09:38:10.914Z"
   },
   {
    "duration": 103,
    "start_time": "2023-03-10T09:38:12.938Z"
   },
   {
    "duration": 145,
    "start_time": "2023-03-10T09:38:13.043Z"
   },
   {
    "duration": 3,
    "start_time": "2023-03-10T09:38:13.190Z"
   },
   {
    "duration": 45,
    "start_time": "2023-03-10T09:38:13.196Z"
   },
   {
    "duration": 14,
    "start_time": "2023-03-10T09:38:13.243Z"
   },
   {
    "duration": 166,
    "start_time": "2023-03-10T09:38:13.258Z"
   },
   {
    "duration": 103,
    "start_time": "2023-03-10T09:38:13.427Z"
   },
   {
    "duration": 19,
    "start_time": "2023-03-10T09:38:13.532Z"
   },
   {
    "duration": 171,
    "start_time": "2023-03-10T09:38:13.553Z"
   },
   {
    "duration": 17,
    "start_time": "2023-03-10T09:38:13.726Z"
   },
   {
    "duration": 4,
    "start_time": "2023-03-10T09:38:13.745Z"
   },
   {
    "duration": 8,
    "start_time": "2023-03-10T09:38:13.825Z"
   },
   {
    "duration": 90,
    "start_time": "2023-03-10T09:38:13.836Z"
   },
   {
    "duration": 9,
    "start_time": "2023-03-10T09:38:13.929Z"
   },
   {
    "duration": 4,
    "start_time": "2023-03-10T09:38:13.940Z"
   },
   {
    "duration": 8,
    "start_time": "2023-03-10T09:38:13.946Z"
   },
   {
    "duration": 6,
    "start_time": "2023-03-10T09:38:13.956Z"
   },
   {
    "duration": 14,
    "start_time": "2023-03-10T09:38:13.964Z"
   },
   {
    "duration": 43,
    "start_time": "2023-03-10T09:38:13.980Z"
   },
   {
    "duration": 57,
    "start_time": "2023-03-10T09:38:14.025Z"
   },
   {
    "duration": 1751,
    "start_time": "2023-03-10T09:38:14.083Z"
   },
   {
    "duration": 1425,
    "start_time": "2023-03-10T09:38:15.837Z"
   },
   {
    "duration": 1346,
    "start_time": "2023-03-10T09:38:17.264Z"
   },
   {
    "duration": 8,
    "start_time": "2023-03-10T09:42:19.392Z"
   },
   {
    "duration": 8,
    "start_time": "2023-03-10T09:42:24.934Z"
   },
   {
    "duration": 1459,
    "start_time": "2023-03-10T09:42:36.091Z"
   },
   {
    "duration": 80,
    "start_time": "2023-03-10T09:42:57.992Z"
   },
   {
    "duration": 8,
    "start_time": "2023-03-10T09:43:29.554Z"
   },
   {
    "duration": 1566,
    "start_time": "2023-03-10T09:43:32.151Z"
   },
   {
    "duration": 7,
    "start_time": "2023-03-10T09:43:44.057Z"
   },
   {
    "duration": 1364,
    "start_time": "2023-03-10T09:43:47.599Z"
   },
   {
    "duration": 6,
    "start_time": "2023-03-10T09:44:04.406Z"
   },
   {
    "duration": 1464,
    "start_time": "2023-03-10T09:44:07.061Z"
   },
   {
    "duration": 6,
    "start_time": "2023-03-10T09:44:24.712Z"
   },
   {
    "duration": 1380,
    "start_time": "2023-03-10T09:44:27.521Z"
   },
   {
    "duration": 7,
    "start_time": "2023-03-10T09:44:38.726Z"
   },
   {
    "duration": 6,
    "start_time": "2023-03-10T09:44:49.967Z"
   },
   {
    "duration": 1348,
    "start_time": "2023-03-10T09:44:52.140Z"
   },
   {
    "duration": 1387,
    "start_time": "2023-03-10T09:44:58.642Z"
   },
   {
    "duration": 1345,
    "start_time": "2023-03-10T09:45:02.702Z"
   },
   {
    "duration": 1224,
    "start_time": "2023-03-10T09:46:11.944Z"
   },
   {
    "duration": 398,
    "start_time": "2023-03-10T09:46:13.170Z"
   },
   {
    "duration": 4,
    "start_time": "2023-03-10T09:46:13.569Z"
   },
   {
    "duration": 16,
    "start_time": "2023-03-10T09:46:13.576Z"
   },
   {
    "duration": 59,
    "start_time": "2023-03-10T09:46:13.593Z"
   },
   {
    "duration": 1812,
    "start_time": "2023-03-10T09:46:13.654Z"
   },
   {
    "duration": 102,
    "start_time": "2023-03-10T09:46:15.468Z"
   },
   {
    "duration": 138,
    "start_time": "2023-03-10T09:46:15.572Z"
   },
   {
    "duration": 4,
    "start_time": "2023-03-10T09:46:15.712Z"
   },
   {
    "duration": 29,
    "start_time": "2023-03-10T09:46:15.725Z"
   },
   {
    "duration": 12,
    "start_time": "2023-03-10T09:46:15.756Z"
   },
   {
    "duration": 58,
    "start_time": "2023-03-10T09:46:15.770Z"
   },
   {
    "duration": 104,
    "start_time": "2023-03-10T09:46:15.831Z"
   },
   {
    "duration": 21,
    "start_time": "2023-03-10T09:46:15.937Z"
   },
   {
    "duration": 102,
    "start_time": "2023-03-10T09:46:16.028Z"
   },
   {
    "duration": 94,
    "start_time": "2023-03-10T09:46:16.132Z"
   },
   {
    "duration": 5,
    "start_time": "2023-03-10T09:46:16.229Z"
   },
   {
    "duration": 5,
    "start_time": "2023-03-10T09:46:16.325Z"
   },
   {
    "duration": 4,
    "start_time": "2023-03-10T09:46:16.332Z"
   },
   {
    "duration": 7,
    "start_time": "2023-03-10T09:46:16.337Z"
   },
   {
    "duration": 4,
    "start_time": "2023-03-10T09:46:16.346Z"
   },
   {
    "duration": 9,
    "start_time": "2023-03-10T09:46:16.351Z"
   },
   {
    "duration": 7,
    "start_time": "2023-03-10T09:46:16.362Z"
   },
   {
    "duration": 24,
    "start_time": "2023-03-10T09:46:16.370Z"
   },
   {
    "duration": 6,
    "start_time": "2023-03-10T09:46:16.424Z"
   },
   {
    "duration": 68,
    "start_time": "2023-03-10T09:46:16.433Z"
   },
   {
    "duration": 1370,
    "start_time": "2023-03-10T09:46:16.503Z"
   },
   {
    "duration": 1350,
    "start_time": "2023-03-10T09:46:17.877Z"
   },
   {
    "duration": 1340,
    "start_time": "2023-03-10T09:46:19.229Z"
   }
  ],
  "kernelspec": {
   "display_name": "Python 3 (ipykernel)",
   "language": "python",
   "name": "python3"
  },
  "language_info": {
   "codemirror_mode": {
    "name": "ipython",
    "version": 3
   },
   "file_extension": ".py",
   "mimetype": "text/x-python",
   "name": "python",
   "nbconvert_exporter": "python",
   "pygments_lexer": "ipython3",
   "version": "3.10.9"
  },
  "toc": {
   "base_numbering": 1,
   "nav_menu": {
    "height": "257px",
    "width": "320px"
   },
   "number_sections": true,
   "sideBar": true,
   "skip_h1_title": true,
   "title_cell": "Table of Contents",
   "title_sidebar": "Contents",
   "toc_cell": false,
   "toc_position": {},
   "toc_section_display": true,
   "toc_window_display": false
  }
 },
 "nbformat": 4,
 "nbformat_minor": 2
}
