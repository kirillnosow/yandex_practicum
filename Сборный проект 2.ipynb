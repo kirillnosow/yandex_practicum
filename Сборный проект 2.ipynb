{
 "cells": [
  {
   "cell_type": "markdown",
   "metadata": {
    "toc": true
   },
   "source": [
    "<h1>Содержание<span class=\"tocSkip\"></span></h1>\n",
    "<div class=\"toc\"><ul class=\"toc-item\"><li><span><a href=\"#Подготовка-данных\" data-toc-modified-id=\"Подготовка-данных-1\"><span class=\"toc-item-num\">1&nbsp;&nbsp;</span>Подготовка данных</a></span><ul class=\"toc-item\"><li><span><a href=\"#Эффективность-обогащения\" data-toc-modified-id=\"Эффективность-обогащения-1.1\"><span class=\"toc-item-num\">1.1&nbsp;&nbsp;</span>Эффективность обогащения</a></span></li><li><span><a href=\"#Признаки-в-тестовой-выборке\" data-toc-modified-id=\"Признаки-в-тестовой-выборке-1.2\"><span class=\"toc-item-num\">1.2&nbsp;&nbsp;</span>Признаки в тестовой выборке</a></span></li><li><span><a href=\"#Предобработка-данных\" data-toc-modified-id=\"Предобработка-данных-1.3\"><span class=\"toc-item-num\">1.3&nbsp;&nbsp;</span>Предобработка данных</a></span></li></ul></li><li><span><a href=\"#Анализ-данных\" data-toc-modified-id=\"Анализ-данных-2\"><span class=\"toc-item-num\">2&nbsp;&nbsp;</span>Анализ данных</a></span><ul class=\"toc-item\"><li><span><a href=\"#Концентрация-металлов-(Au,-Ag,-Pb)-на-различных-этапах-очистки\" data-toc-modified-id=\"Концентрация-металлов-(Au,-Ag,-Pb)-на-различных-этапах-очистки-2.1\"><span class=\"toc-item-num\">2.1&nbsp;&nbsp;</span>Концентрация металлов (Au, Ag, Pb) на различных этапах очистки</a></span><ul class=\"toc-item\"><li><span><a href=\"#Золото-(Au)\" data-toc-modified-id=\"Золото-(Au)-2.1.1\"><span class=\"toc-item-num\">2.1.1&nbsp;&nbsp;</span>Золото (Au)</a></span></li><li><span><a href=\"#Серебро-(Ag)\" data-toc-modified-id=\"Серебро-(Ag)-2.1.2\"><span class=\"toc-item-num\">2.1.2&nbsp;&nbsp;</span>Серебро (Ag)</a></span></li><li><span><a href=\"#Свинец-(Pb)\" data-toc-modified-id=\"Свинец-(Pb)-2.1.3\"><span class=\"toc-item-num\">2.1.3&nbsp;&nbsp;</span>Свинец (Pb)</a></span></li></ul></li><li><span><a href=\"#Сравнение-распределения-размеров-гранул-сырья-на-обучающей-и-тестовой-выборках\" data-toc-modified-id=\"Сравнение-распределения-размеров-гранул-сырья-на-обучающей-и-тестовой-выборках-2.2\"><span class=\"toc-item-num\">2.2&nbsp;&nbsp;</span>Сравнение распределения размеров гранул сырья на обучающей и тестовой выборках</a></span></li><li><span><a href=\"#Исследование-суммарной-концентрации-всех-веществ-на-разных-стадиях\" data-toc-modified-id=\"Исследование-суммарной-концентрации-всех-веществ-на-разных-стадиях-2.3\"><span class=\"toc-item-num\">2.3&nbsp;&nbsp;</span>Исследование суммарной концентрации всех веществ на разных стадиях</a></span></li></ul></li><li><span><a href=\"#Модель\" data-toc-modified-id=\"Модель-3\"><span class=\"toc-item-num\">3&nbsp;&nbsp;</span>Модель</a></span><ul class=\"toc-item\"><li><span><a href=\"#sMAPE\" data-toc-modified-id=\"sMAPE-3.1\"><span class=\"toc-item-num\">3.1&nbsp;&nbsp;</span>sMAPE</a></span></li><li><span><a href=\"#Обучение-и-проверка-нескольких-моделей\" data-toc-modified-id=\"Обучение-и-проверка-нескольких-моделей-3.2\"><span class=\"toc-item-num\">3.2&nbsp;&nbsp;</span>Обучение и проверка нескольких моделей</a></span><ul class=\"toc-item\"><li><span><a href=\"#LinearRegression\" data-toc-modified-id=\"LinearRegression-3.2.1\"><span class=\"toc-item-num\">3.2.1&nbsp;&nbsp;</span>LinearRegression</a></span></li><li><span><a href=\"#DecisionTreeRegressor\" data-toc-modified-id=\"DecisionTreeRegressor-3.2.2\"><span class=\"toc-item-num\">3.2.2&nbsp;&nbsp;</span>DecisionTreeRegressor</a></span></li><li><span><a href=\"#RandomForestRegressor\" data-toc-modified-id=\"RandomForestRegressor-3.2.3\"><span class=\"toc-item-num\">3.2.3&nbsp;&nbsp;</span>RandomForestRegressor</a></span></li></ul></li><li><span><a href=\"#Проверка-качества-модели\" data-toc-modified-id=\"Проверка-качества-модели-3.3\"><span class=\"toc-item-num\">3.3&nbsp;&nbsp;</span>Проверка качества модели</a></span></li><li><span><a href=\"#Проверка-адекватности\" data-toc-modified-id=\"Проверка-адекватности-3.4\"><span class=\"toc-item-num\">3.4&nbsp;&nbsp;</span>Проверка адекватности</a></span></li></ul></li><li><span><a href=\"#Выводы\" data-toc-modified-id=\"Выводы-4\"><span class=\"toc-item-num\">4&nbsp;&nbsp;</span>Выводы</a></span></li></ul></div>"
   ]
  },
  {
   "cell_type": "markdown",
   "metadata": {},
   "source": [
    "# Восстановление золота из руды"
   ]
  },
  {
   "cell_type": "markdown",
   "metadata": {},
   "source": [
    "<b>Цели проекта:</b>  \n",
    "Подготовьте прототип модели машинного обучения для «Цифры», которая поможет оптимизировать производство, чтобы не запускать предприятие с убыточными характеристиками.  \n",
    "  \n",
    "<b>Задачи проекта:</b>  \n",
    "1. Открыть файлы и изучите их.\n",
    "2. Проверить, что эффективность обогащения рассчитана правильно. Вычислить её на обучающей выборке для признака rougher.output.recovery. Найти MAE между вашими расчётами и значением признака.\n",
    "3. Проанализировать признаки, недоступные в тестовой выборке.\n",
    "4. Провести предобработку данных.\n",
    "5. Посмотреть, как меняется концентрация металлов (Au, Ag, Pb) на различных этапах очистки.\n",
    "6. Сравнить распределения размеров гранул сырья на обучающей и тестовой выборках. \n",
    "7. Исследовать суммарную концентрацию всех веществ на разных стадиях: в сырье, в черновом и финальном концентратах.\n",
    "8. Написать функцию для вычисления итоговой sMAPE.\n",
    "9. Обучить разные модели и оцените их качество кросс-валидацией. Выбрать лучшую модель и проверить её на тестовой выборке. \n",
    "\n",
    "<b>Данные:</b>  \n",
    "В распоряжении сырые данные: их просто выгрузили из хранилища."
   ]
  },
  {
   "cell_type": "markdown",
   "metadata": {},
   "source": [
    "## Подготовка данных"
   ]
  },
  {
   "cell_type": "code",
   "execution_count": 1,
   "metadata": {},
   "outputs": [],
   "source": [
    "# импортировать библиотеки\n",
    "import pandas as pd\n",
    "import matplotlib.pyplot as plt\n",
    "import numpy as np\n",
    "import seaborn as sns\n",
    "\n",
    "from sklearn.metrics import mean_absolute_error\n",
    "from sklearn.metrics import make_scorer\n",
    "\n",
    "from sklearn.model_selection import train_test_split\n",
    "from sklearn.model_selection import cross_val_score\n",
    "from sklearn.model_selection import GridSearchCV\n",
    "\n",
    "from sklearn.tree import DecisionTreeRegressor\n",
    "from sklearn.linear_model import LinearRegression \n",
    "from sklearn.ensemble import RandomForestRegressor\n",
    "\n",
    "from sklearn.dummy import DummyRegressor"
   ]
  },
  {
   "cell_type": "code",
   "execution_count": 2,
   "metadata": {},
   "outputs": [],
   "source": [
    "# записать файлы в data\n",
    "\n",
    "try: \n",
    "    data_train = pd.read_csv('/datasets/gold_recovery_train_new.csv', sep=',')\n",
    "    data_test = pd.read_csv('/datasets/gold_recovery_test_new.csv', sep=',')\n",
    "    data_full = pd.read_csv('/datasets/gold_recovery_full_new.csv', sep=',')\n",
    "except:\n",
    "    data_train = pd.read_csv('gold_recovery_train_new.csv', sep=',')\n",
    "    data_test = pd.read_csv('gold_recovery_test_new.csv', sep=',')\n",
    "    data_full = pd.read_csv('gold_recovery_full_new.csv', sep=',')\n",
    "    \n",
    "data = [data_train, data_test, data_full]"
   ]
  },
  {
   "cell_type": "code",
   "execution_count": 3,
   "metadata": {
    "scrolled": false
   },
   "outputs": [
    {
     "data": {
      "text/html": [
       "<div>\n",
       "<style scoped>\n",
       "    .dataframe tbody tr th:only-of-type {\n",
       "        vertical-align: middle;\n",
       "    }\n",
       "\n",
       "    .dataframe tbody tr th {\n",
       "        vertical-align: top;\n",
       "    }\n",
       "\n",
       "    .dataframe thead th {\n",
       "        text-align: right;\n",
       "    }\n",
       "</style>\n",
       "<table border=\"1\" class=\"dataframe\">\n",
       "  <thead>\n",
       "    <tr style=\"text-align: right;\">\n",
       "      <th></th>\n",
       "      <th>date</th>\n",
       "      <th>final.output.concentrate_ag</th>\n",
       "      <th>final.output.concentrate_pb</th>\n",
       "      <th>final.output.concentrate_sol</th>\n",
       "      <th>final.output.concentrate_au</th>\n",
       "      <th>final.output.recovery</th>\n",
       "      <th>final.output.tail_ag</th>\n",
       "      <th>final.output.tail_pb</th>\n",
       "      <th>final.output.tail_sol</th>\n",
       "      <th>final.output.tail_au</th>\n",
       "      <th>...</th>\n",
       "      <th>secondary_cleaner.state.floatbank4_a_air</th>\n",
       "      <th>secondary_cleaner.state.floatbank4_a_level</th>\n",
       "      <th>secondary_cleaner.state.floatbank4_b_air</th>\n",
       "      <th>secondary_cleaner.state.floatbank4_b_level</th>\n",
       "      <th>secondary_cleaner.state.floatbank5_a_air</th>\n",
       "      <th>secondary_cleaner.state.floatbank5_a_level</th>\n",
       "      <th>secondary_cleaner.state.floatbank5_b_air</th>\n",
       "      <th>secondary_cleaner.state.floatbank5_b_level</th>\n",
       "      <th>secondary_cleaner.state.floatbank6_a_air</th>\n",
       "      <th>secondary_cleaner.state.floatbank6_a_level</th>\n",
       "    </tr>\n",
       "  </thead>\n",
       "  <tbody>\n",
       "    <tr>\n",
       "      <th>0</th>\n",
       "      <td>2016-01-15 00:00:00</td>\n",
       "      <td>6.055403</td>\n",
       "      <td>9.889648</td>\n",
       "      <td>5.507324</td>\n",
       "      <td>42.192020</td>\n",
       "      <td>70.541216</td>\n",
       "      <td>10.411962</td>\n",
       "      <td>0.895447</td>\n",
       "      <td>16.904297</td>\n",
       "      <td>2.143149</td>\n",
       "      <td>...</td>\n",
       "      <td>14.016835</td>\n",
       "      <td>-502.488007</td>\n",
       "      <td>12.099931</td>\n",
       "      <td>-504.715942</td>\n",
       "      <td>9.925633</td>\n",
       "      <td>-498.310211</td>\n",
       "      <td>8.079666</td>\n",
       "      <td>-500.470978</td>\n",
       "      <td>14.151341</td>\n",
       "      <td>-605.841980</td>\n",
       "    </tr>\n",
       "    <tr>\n",
       "      <th>1</th>\n",
       "      <td>2016-01-15 01:00:00</td>\n",
       "      <td>6.029369</td>\n",
       "      <td>9.968944</td>\n",
       "      <td>5.257781</td>\n",
       "      <td>42.701629</td>\n",
       "      <td>69.266198</td>\n",
       "      <td>10.462676</td>\n",
       "      <td>0.927452</td>\n",
       "      <td>16.634514</td>\n",
       "      <td>2.224930</td>\n",
       "      <td>...</td>\n",
       "      <td>13.992281</td>\n",
       "      <td>-505.503262</td>\n",
       "      <td>11.950531</td>\n",
       "      <td>-501.331529</td>\n",
       "      <td>10.039245</td>\n",
       "      <td>-500.169983</td>\n",
       "      <td>7.984757</td>\n",
       "      <td>-500.582168</td>\n",
       "      <td>13.998353</td>\n",
       "      <td>-599.787184</td>\n",
       "    </tr>\n",
       "    <tr>\n",
       "      <th>2</th>\n",
       "      <td>2016-01-15 02:00:00</td>\n",
       "      <td>6.055926</td>\n",
       "      <td>10.213995</td>\n",
       "      <td>5.383759</td>\n",
       "      <td>42.657501</td>\n",
       "      <td>68.116445</td>\n",
       "      <td>10.507046</td>\n",
       "      <td>0.953716</td>\n",
       "      <td>16.208849</td>\n",
       "      <td>2.257889</td>\n",
       "      <td>...</td>\n",
       "      <td>14.015015</td>\n",
       "      <td>-502.520901</td>\n",
       "      <td>11.912783</td>\n",
       "      <td>-501.133383</td>\n",
       "      <td>10.070913</td>\n",
       "      <td>-500.129135</td>\n",
       "      <td>8.013877</td>\n",
       "      <td>-500.517572</td>\n",
       "      <td>14.028663</td>\n",
       "      <td>-601.427363</td>\n",
       "    </tr>\n",
       "    <tr>\n",
       "      <th>3</th>\n",
       "      <td>2016-01-15 03:00:00</td>\n",
       "      <td>6.047977</td>\n",
       "      <td>9.977019</td>\n",
       "      <td>4.858634</td>\n",
       "      <td>42.689819</td>\n",
       "      <td>68.347543</td>\n",
       "      <td>10.422762</td>\n",
       "      <td>0.883763</td>\n",
       "      <td>16.532835</td>\n",
       "      <td>2.146849</td>\n",
       "      <td>...</td>\n",
       "      <td>14.036510</td>\n",
       "      <td>-500.857308</td>\n",
       "      <td>11.999550</td>\n",
       "      <td>-501.193686</td>\n",
       "      <td>9.970366</td>\n",
       "      <td>-499.201640</td>\n",
       "      <td>7.977324</td>\n",
       "      <td>-500.255908</td>\n",
       "      <td>14.005551</td>\n",
       "      <td>-599.996129</td>\n",
       "    </tr>\n",
       "    <tr>\n",
       "      <th>4</th>\n",
       "      <td>2016-01-15 04:00:00</td>\n",
       "      <td>6.148599</td>\n",
       "      <td>10.142511</td>\n",
       "      <td>4.939416</td>\n",
       "      <td>42.774141</td>\n",
       "      <td>66.927016</td>\n",
       "      <td>10.360302</td>\n",
       "      <td>0.792826</td>\n",
       "      <td>16.525686</td>\n",
       "      <td>2.055292</td>\n",
       "      <td>...</td>\n",
       "      <td>14.027298</td>\n",
       "      <td>-499.838632</td>\n",
       "      <td>11.953070</td>\n",
       "      <td>-501.053894</td>\n",
       "      <td>9.925709</td>\n",
       "      <td>-501.686727</td>\n",
       "      <td>7.894242</td>\n",
       "      <td>-500.356035</td>\n",
       "      <td>13.996647</td>\n",
       "      <td>-601.496691</td>\n",
       "    </tr>\n",
       "  </tbody>\n",
       "</table>\n",
       "<p>5 rows × 87 columns</p>\n",
       "</div>"
      ],
      "text/plain": [
       "                  date  final.output.concentrate_ag  \\\n",
       "0  2016-01-15 00:00:00                     6.055403   \n",
       "1  2016-01-15 01:00:00                     6.029369   \n",
       "2  2016-01-15 02:00:00                     6.055926   \n",
       "3  2016-01-15 03:00:00                     6.047977   \n",
       "4  2016-01-15 04:00:00                     6.148599   \n",
       "\n",
       "   final.output.concentrate_pb  final.output.concentrate_sol  \\\n",
       "0                     9.889648                      5.507324   \n",
       "1                     9.968944                      5.257781   \n",
       "2                    10.213995                      5.383759   \n",
       "3                     9.977019                      4.858634   \n",
       "4                    10.142511                      4.939416   \n",
       "\n",
       "   final.output.concentrate_au  final.output.recovery  final.output.tail_ag  \\\n",
       "0                    42.192020              70.541216             10.411962   \n",
       "1                    42.701629              69.266198             10.462676   \n",
       "2                    42.657501              68.116445             10.507046   \n",
       "3                    42.689819              68.347543             10.422762   \n",
       "4                    42.774141              66.927016             10.360302   \n",
       "\n",
       "   final.output.tail_pb  final.output.tail_sol  final.output.tail_au  ...  \\\n",
       "0              0.895447              16.904297              2.143149  ...   \n",
       "1              0.927452              16.634514              2.224930  ...   \n",
       "2              0.953716              16.208849              2.257889  ...   \n",
       "3              0.883763              16.532835              2.146849  ...   \n",
       "4              0.792826              16.525686              2.055292  ...   \n",
       "\n",
       "   secondary_cleaner.state.floatbank4_a_air  \\\n",
       "0                                 14.016835   \n",
       "1                                 13.992281   \n",
       "2                                 14.015015   \n",
       "3                                 14.036510   \n",
       "4                                 14.027298   \n",
       "\n",
       "   secondary_cleaner.state.floatbank4_a_level  \\\n",
       "0                                 -502.488007   \n",
       "1                                 -505.503262   \n",
       "2                                 -502.520901   \n",
       "3                                 -500.857308   \n",
       "4                                 -499.838632   \n",
       "\n",
       "   secondary_cleaner.state.floatbank4_b_air  \\\n",
       "0                                 12.099931   \n",
       "1                                 11.950531   \n",
       "2                                 11.912783   \n",
       "3                                 11.999550   \n",
       "4                                 11.953070   \n",
       "\n",
       "   secondary_cleaner.state.floatbank4_b_level  \\\n",
       "0                                 -504.715942   \n",
       "1                                 -501.331529   \n",
       "2                                 -501.133383   \n",
       "3                                 -501.193686   \n",
       "4                                 -501.053894   \n",
       "\n",
       "   secondary_cleaner.state.floatbank5_a_air  \\\n",
       "0                                  9.925633   \n",
       "1                                 10.039245   \n",
       "2                                 10.070913   \n",
       "3                                  9.970366   \n",
       "4                                  9.925709   \n",
       "\n",
       "   secondary_cleaner.state.floatbank5_a_level  \\\n",
       "0                                 -498.310211   \n",
       "1                                 -500.169983   \n",
       "2                                 -500.129135   \n",
       "3                                 -499.201640   \n",
       "4                                 -501.686727   \n",
       "\n",
       "   secondary_cleaner.state.floatbank5_b_air  \\\n",
       "0                                  8.079666   \n",
       "1                                  7.984757   \n",
       "2                                  8.013877   \n",
       "3                                  7.977324   \n",
       "4                                  7.894242   \n",
       "\n",
       "   secondary_cleaner.state.floatbank5_b_level  \\\n",
       "0                                 -500.470978   \n",
       "1                                 -500.582168   \n",
       "2                                 -500.517572   \n",
       "3                                 -500.255908   \n",
       "4                                 -500.356035   \n",
       "\n",
       "   secondary_cleaner.state.floatbank6_a_air  \\\n",
       "0                                 14.151341   \n",
       "1                                 13.998353   \n",
       "2                                 14.028663   \n",
       "3                                 14.005551   \n",
       "4                                 13.996647   \n",
       "\n",
       "   secondary_cleaner.state.floatbank6_a_level  \n",
       "0                                 -605.841980  \n",
       "1                                 -599.787184  \n",
       "2                                 -601.427363  \n",
       "3                                 -599.996129  \n",
       "4                                 -601.496691  \n",
       "\n",
       "[5 rows x 87 columns]"
      ]
     },
     "metadata": {},
     "output_type": "display_data"
    },
    {
     "data": {
      "text/html": [
       "<div>\n",
       "<style scoped>\n",
       "    .dataframe tbody tr th:only-of-type {\n",
       "        vertical-align: middle;\n",
       "    }\n",
       "\n",
       "    .dataframe tbody tr th {\n",
       "        vertical-align: top;\n",
       "    }\n",
       "\n",
       "    .dataframe thead th {\n",
       "        text-align: right;\n",
       "    }\n",
       "</style>\n",
       "<table border=\"1\" class=\"dataframe\">\n",
       "  <thead>\n",
       "    <tr style=\"text-align: right;\">\n",
       "      <th></th>\n",
       "      <th>date</th>\n",
       "      <th>primary_cleaner.input.sulfate</th>\n",
       "      <th>primary_cleaner.input.depressant</th>\n",
       "      <th>primary_cleaner.input.feed_size</th>\n",
       "      <th>primary_cleaner.input.xanthate</th>\n",
       "      <th>primary_cleaner.state.floatbank8_a_air</th>\n",
       "      <th>primary_cleaner.state.floatbank8_a_level</th>\n",
       "      <th>primary_cleaner.state.floatbank8_b_air</th>\n",
       "      <th>primary_cleaner.state.floatbank8_b_level</th>\n",
       "      <th>primary_cleaner.state.floatbank8_c_air</th>\n",
       "      <th>...</th>\n",
       "      <th>secondary_cleaner.state.floatbank4_a_air</th>\n",
       "      <th>secondary_cleaner.state.floatbank4_a_level</th>\n",
       "      <th>secondary_cleaner.state.floatbank4_b_air</th>\n",
       "      <th>secondary_cleaner.state.floatbank4_b_level</th>\n",
       "      <th>secondary_cleaner.state.floatbank5_a_air</th>\n",
       "      <th>secondary_cleaner.state.floatbank5_a_level</th>\n",
       "      <th>secondary_cleaner.state.floatbank5_b_air</th>\n",
       "      <th>secondary_cleaner.state.floatbank5_b_level</th>\n",
       "      <th>secondary_cleaner.state.floatbank6_a_air</th>\n",
       "      <th>secondary_cleaner.state.floatbank6_a_level</th>\n",
       "    </tr>\n",
       "  </thead>\n",
       "  <tbody>\n",
       "    <tr>\n",
       "      <th>0</th>\n",
       "      <td>2016-09-01 00:59:59</td>\n",
       "      <td>210.800909</td>\n",
       "      <td>14.993118</td>\n",
       "      <td>8.080000</td>\n",
       "      <td>1.005021</td>\n",
       "      <td>1398.981301</td>\n",
       "      <td>-500.225577</td>\n",
       "      <td>1399.144926</td>\n",
       "      <td>-499.919735</td>\n",
       "      <td>1400.102998</td>\n",
       "      <td>...</td>\n",
       "      <td>12.023554</td>\n",
       "      <td>-497.795834</td>\n",
       "      <td>8.016656</td>\n",
       "      <td>-501.289139</td>\n",
       "      <td>7.946562</td>\n",
       "      <td>-432.317850</td>\n",
       "      <td>4.872511</td>\n",
       "      <td>-500.037437</td>\n",
       "      <td>26.705889</td>\n",
       "      <td>-499.709414</td>\n",
       "    </tr>\n",
       "    <tr>\n",
       "      <th>1</th>\n",
       "      <td>2016-09-01 01:59:59</td>\n",
       "      <td>215.392455</td>\n",
       "      <td>14.987471</td>\n",
       "      <td>8.080000</td>\n",
       "      <td>0.990469</td>\n",
       "      <td>1398.777912</td>\n",
       "      <td>-500.057435</td>\n",
       "      <td>1398.055362</td>\n",
       "      <td>-499.778182</td>\n",
       "      <td>1396.151033</td>\n",
       "      <td>...</td>\n",
       "      <td>12.058140</td>\n",
       "      <td>-498.695773</td>\n",
       "      <td>8.130979</td>\n",
       "      <td>-499.634209</td>\n",
       "      <td>7.958270</td>\n",
       "      <td>-525.839648</td>\n",
       "      <td>4.878850</td>\n",
       "      <td>-500.162375</td>\n",
       "      <td>25.019940</td>\n",
       "      <td>-499.819438</td>\n",
       "    </tr>\n",
       "    <tr>\n",
       "      <th>2</th>\n",
       "      <td>2016-09-01 02:59:59</td>\n",
       "      <td>215.259946</td>\n",
       "      <td>12.884934</td>\n",
       "      <td>7.786667</td>\n",
       "      <td>0.996043</td>\n",
       "      <td>1398.493666</td>\n",
       "      <td>-500.868360</td>\n",
       "      <td>1398.860436</td>\n",
       "      <td>-499.764529</td>\n",
       "      <td>1398.075709</td>\n",
       "      <td>...</td>\n",
       "      <td>11.962366</td>\n",
       "      <td>-498.767484</td>\n",
       "      <td>8.096893</td>\n",
       "      <td>-500.827423</td>\n",
       "      <td>8.071056</td>\n",
       "      <td>-500.801673</td>\n",
       "      <td>4.905125</td>\n",
       "      <td>-499.828510</td>\n",
       "      <td>24.994862</td>\n",
       "      <td>-500.622559</td>\n",
       "    </tr>\n",
       "    <tr>\n",
       "      <th>3</th>\n",
       "      <td>2016-09-01 03:59:59</td>\n",
       "      <td>215.336236</td>\n",
       "      <td>12.006805</td>\n",
       "      <td>7.640000</td>\n",
       "      <td>0.863514</td>\n",
       "      <td>1399.618111</td>\n",
       "      <td>-498.863574</td>\n",
       "      <td>1397.440120</td>\n",
       "      <td>-499.211024</td>\n",
       "      <td>1400.129303</td>\n",
       "      <td>...</td>\n",
       "      <td>12.033091</td>\n",
       "      <td>-498.350935</td>\n",
       "      <td>8.074946</td>\n",
       "      <td>-499.474407</td>\n",
       "      <td>7.897085</td>\n",
       "      <td>-500.868509</td>\n",
       "      <td>4.931400</td>\n",
       "      <td>-499.963623</td>\n",
       "      <td>24.948919</td>\n",
       "      <td>-498.709987</td>\n",
       "    </tr>\n",
       "    <tr>\n",
       "      <th>4</th>\n",
       "      <td>2016-09-01 04:59:59</td>\n",
       "      <td>199.099327</td>\n",
       "      <td>10.682530</td>\n",
       "      <td>7.530000</td>\n",
       "      <td>0.805575</td>\n",
       "      <td>1401.268123</td>\n",
       "      <td>-500.808305</td>\n",
       "      <td>1398.128818</td>\n",
       "      <td>-499.504543</td>\n",
       "      <td>1402.172226</td>\n",
       "      <td>...</td>\n",
       "      <td>12.025367</td>\n",
       "      <td>-500.786497</td>\n",
       "      <td>8.054678</td>\n",
       "      <td>-500.397500</td>\n",
       "      <td>8.107890</td>\n",
       "      <td>-509.526725</td>\n",
       "      <td>4.957674</td>\n",
       "      <td>-500.360026</td>\n",
       "      <td>25.003331</td>\n",
       "      <td>-500.856333</td>\n",
       "    </tr>\n",
       "  </tbody>\n",
       "</table>\n",
       "<p>5 rows × 53 columns</p>\n",
       "</div>"
      ],
      "text/plain": [
       "                  date  primary_cleaner.input.sulfate  \\\n",
       "0  2016-09-01 00:59:59                     210.800909   \n",
       "1  2016-09-01 01:59:59                     215.392455   \n",
       "2  2016-09-01 02:59:59                     215.259946   \n",
       "3  2016-09-01 03:59:59                     215.336236   \n",
       "4  2016-09-01 04:59:59                     199.099327   \n",
       "\n",
       "   primary_cleaner.input.depressant  primary_cleaner.input.feed_size  \\\n",
       "0                         14.993118                         8.080000   \n",
       "1                         14.987471                         8.080000   \n",
       "2                         12.884934                         7.786667   \n",
       "3                         12.006805                         7.640000   \n",
       "4                         10.682530                         7.530000   \n",
       "\n",
       "   primary_cleaner.input.xanthate  primary_cleaner.state.floatbank8_a_air  \\\n",
       "0                        1.005021                             1398.981301   \n",
       "1                        0.990469                             1398.777912   \n",
       "2                        0.996043                             1398.493666   \n",
       "3                        0.863514                             1399.618111   \n",
       "4                        0.805575                             1401.268123   \n",
       "\n",
       "   primary_cleaner.state.floatbank8_a_level  \\\n",
       "0                               -500.225577   \n",
       "1                               -500.057435   \n",
       "2                               -500.868360   \n",
       "3                               -498.863574   \n",
       "4                               -500.808305   \n",
       "\n",
       "   primary_cleaner.state.floatbank8_b_air  \\\n",
       "0                             1399.144926   \n",
       "1                             1398.055362   \n",
       "2                             1398.860436   \n",
       "3                             1397.440120   \n",
       "4                             1398.128818   \n",
       "\n",
       "   primary_cleaner.state.floatbank8_b_level  \\\n",
       "0                               -499.919735   \n",
       "1                               -499.778182   \n",
       "2                               -499.764529   \n",
       "3                               -499.211024   \n",
       "4                               -499.504543   \n",
       "\n",
       "   primary_cleaner.state.floatbank8_c_air  ...  \\\n",
       "0                             1400.102998  ...   \n",
       "1                             1396.151033  ...   \n",
       "2                             1398.075709  ...   \n",
       "3                             1400.129303  ...   \n",
       "4                             1402.172226  ...   \n",
       "\n",
       "   secondary_cleaner.state.floatbank4_a_air  \\\n",
       "0                                 12.023554   \n",
       "1                                 12.058140   \n",
       "2                                 11.962366   \n",
       "3                                 12.033091   \n",
       "4                                 12.025367   \n",
       "\n",
       "   secondary_cleaner.state.floatbank4_a_level  \\\n",
       "0                                 -497.795834   \n",
       "1                                 -498.695773   \n",
       "2                                 -498.767484   \n",
       "3                                 -498.350935   \n",
       "4                                 -500.786497   \n",
       "\n",
       "   secondary_cleaner.state.floatbank4_b_air  \\\n",
       "0                                  8.016656   \n",
       "1                                  8.130979   \n",
       "2                                  8.096893   \n",
       "3                                  8.074946   \n",
       "4                                  8.054678   \n",
       "\n",
       "   secondary_cleaner.state.floatbank4_b_level  \\\n",
       "0                                 -501.289139   \n",
       "1                                 -499.634209   \n",
       "2                                 -500.827423   \n",
       "3                                 -499.474407   \n",
       "4                                 -500.397500   \n",
       "\n",
       "   secondary_cleaner.state.floatbank5_a_air  \\\n",
       "0                                  7.946562   \n",
       "1                                  7.958270   \n",
       "2                                  8.071056   \n",
       "3                                  7.897085   \n",
       "4                                  8.107890   \n",
       "\n",
       "   secondary_cleaner.state.floatbank5_a_level  \\\n",
       "0                                 -432.317850   \n",
       "1                                 -525.839648   \n",
       "2                                 -500.801673   \n",
       "3                                 -500.868509   \n",
       "4                                 -509.526725   \n",
       "\n",
       "   secondary_cleaner.state.floatbank5_b_air  \\\n",
       "0                                  4.872511   \n",
       "1                                  4.878850   \n",
       "2                                  4.905125   \n",
       "3                                  4.931400   \n",
       "4                                  4.957674   \n",
       "\n",
       "   secondary_cleaner.state.floatbank5_b_level  \\\n",
       "0                                 -500.037437   \n",
       "1                                 -500.162375   \n",
       "2                                 -499.828510   \n",
       "3                                 -499.963623   \n",
       "4                                 -500.360026   \n",
       "\n",
       "   secondary_cleaner.state.floatbank6_a_air  \\\n",
       "0                                 26.705889   \n",
       "1                                 25.019940   \n",
       "2                                 24.994862   \n",
       "3                                 24.948919   \n",
       "4                                 25.003331   \n",
       "\n",
       "   secondary_cleaner.state.floatbank6_a_level  \n",
       "0                                 -499.709414  \n",
       "1                                 -499.819438  \n",
       "2                                 -500.622559  \n",
       "3                                 -498.709987  \n",
       "4                                 -500.856333  \n",
       "\n",
       "[5 rows x 53 columns]"
      ]
     },
     "metadata": {},
     "output_type": "display_data"
    },
    {
     "data": {
      "text/html": [
       "<div>\n",
       "<style scoped>\n",
       "    .dataframe tbody tr th:only-of-type {\n",
       "        vertical-align: middle;\n",
       "    }\n",
       "\n",
       "    .dataframe tbody tr th {\n",
       "        vertical-align: top;\n",
       "    }\n",
       "\n",
       "    .dataframe thead th {\n",
       "        text-align: right;\n",
       "    }\n",
       "</style>\n",
       "<table border=\"1\" class=\"dataframe\">\n",
       "  <thead>\n",
       "    <tr style=\"text-align: right;\">\n",
       "      <th></th>\n",
       "      <th>date</th>\n",
       "      <th>final.output.concentrate_ag</th>\n",
       "      <th>final.output.concentrate_pb</th>\n",
       "      <th>final.output.concentrate_sol</th>\n",
       "      <th>final.output.concentrate_au</th>\n",
       "      <th>final.output.recovery</th>\n",
       "      <th>final.output.tail_ag</th>\n",
       "      <th>final.output.tail_pb</th>\n",
       "      <th>final.output.tail_sol</th>\n",
       "      <th>final.output.tail_au</th>\n",
       "      <th>...</th>\n",
       "      <th>secondary_cleaner.state.floatbank4_a_air</th>\n",
       "      <th>secondary_cleaner.state.floatbank4_a_level</th>\n",
       "      <th>secondary_cleaner.state.floatbank4_b_air</th>\n",
       "      <th>secondary_cleaner.state.floatbank4_b_level</th>\n",
       "      <th>secondary_cleaner.state.floatbank5_a_air</th>\n",
       "      <th>secondary_cleaner.state.floatbank5_a_level</th>\n",
       "      <th>secondary_cleaner.state.floatbank5_b_air</th>\n",
       "      <th>secondary_cleaner.state.floatbank5_b_level</th>\n",
       "      <th>secondary_cleaner.state.floatbank6_a_air</th>\n",
       "      <th>secondary_cleaner.state.floatbank6_a_level</th>\n",
       "    </tr>\n",
       "  </thead>\n",
       "  <tbody>\n",
       "    <tr>\n",
       "      <th>0</th>\n",
       "      <td>2016-01-15 00:00:00</td>\n",
       "      <td>6.055403</td>\n",
       "      <td>9.889648</td>\n",
       "      <td>5.507324</td>\n",
       "      <td>42.192020</td>\n",
       "      <td>70.541216</td>\n",
       "      <td>10.411962</td>\n",
       "      <td>0.895447</td>\n",
       "      <td>16.904297</td>\n",
       "      <td>2.143149</td>\n",
       "      <td>...</td>\n",
       "      <td>14.016835</td>\n",
       "      <td>-502.488007</td>\n",
       "      <td>12.099931</td>\n",
       "      <td>-504.715942</td>\n",
       "      <td>9.925633</td>\n",
       "      <td>-498.310211</td>\n",
       "      <td>8.079666</td>\n",
       "      <td>-500.470978</td>\n",
       "      <td>14.151341</td>\n",
       "      <td>-605.841980</td>\n",
       "    </tr>\n",
       "    <tr>\n",
       "      <th>1</th>\n",
       "      <td>2016-01-15 01:00:00</td>\n",
       "      <td>6.029369</td>\n",
       "      <td>9.968944</td>\n",
       "      <td>5.257781</td>\n",
       "      <td>42.701629</td>\n",
       "      <td>69.266198</td>\n",
       "      <td>10.462676</td>\n",
       "      <td>0.927452</td>\n",
       "      <td>16.634514</td>\n",
       "      <td>2.224930</td>\n",
       "      <td>...</td>\n",
       "      <td>13.992281</td>\n",
       "      <td>-505.503262</td>\n",
       "      <td>11.950531</td>\n",
       "      <td>-501.331529</td>\n",
       "      <td>10.039245</td>\n",
       "      <td>-500.169983</td>\n",
       "      <td>7.984757</td>\n",
       "      <td>-500.582168</td>\n",
       "      <td>13.998353</td>\n",
       "      <td>-599.787184</td>\n",
       "    </tr>\n",
       "    <tr>\n",
       "      <th>2</th>\n",
       "      <td>2016-01-15 02:00:00</td>\n",
       "      <td>6.055926</td>\n",
       "      <td>10.213995</td>\n",
       "      <td>5.383759</td>\n",
       "      <td>42.657501</td>\n",
       "      <td>68.116445</td>\n",
       "      <td>10.507046</td>\n",
       "      <td>0.953716</td>\n",
       "      <td>16.208849</td>\n",
       "      <td>2.257889</td>\n",
       "      <td>...</td>\n",
       "      <td>14.015015</td>\n",
       "      <td>-502.520901</td>\n",
       "      <td>11.912783</td>\n",
       "      <td>-501.133383</td>\n",
       "      <td>10.070913</td>\n",
       "      <td>-500.129135</td>\n",
       "      <td>8.013877</td>\n",
       "      <td>-500.517572</td>\n",
       "      <td>14.028663</td>\n",
       "      <td>-601.427363</td>\n",
       "    </tr>\n",
       "    <tr>\n",
       "      <th>3</th>\n",
       "      <td>2016-01-15 03:00:00</td>\n",
       "      <td>6.047977</td>\n",
       "      <td>9.977019</td>\n",
       "      <td>4.858634</td>\n",
       "      <td>42.689819</td>\n",
       "      <td>68.347543</td>\n",
       "      <td>10.422762</td>\n",
       "      <td>0.883763</td>\n",
       "      <td>16.532835</td>\n",
       "      <td>2.146849</td>\n",
       "      <td>...</td>\n",
       "      <td>14.036510</td>\n",
       "      <td>-500.857308</td>\n",
       "      <td>11.999550</td>\n",
       "      <td>-501.193686</td>\n",
       "      <td>9.970366</td>\n",
       "      <td>-499.201640</td>\n",
       "      <td>7.977324</td>\n",
       "      <td>-500.255908</td>\n",
       "      <td>14.005551</td>\n",
       "      <td>-599.996129</td>\n",
       "    </tr>\n",
       "    <tr>\n",
       "      <th>4</th>\n",
       "      <td>2016-01-15 04:00:00</td>\n",
       "      <td>6.148599</td>\n",
       "      <td>10.142511</td>\n",
       "      <td>4.939416</td>\n",
       "      <td>42.774141</td>\n",
       "      <td>66.927016</td>\n",
       "      <td>10.360302</td>\n",
       "      <td>0.792826</td>\n",
       "      <td>16.525686</td>\n",
       "      <td>2.055292</td>\n",
       "      <td>...</td>\n",
       "      <td>14.027298</td>\n",
       "      <td>-499.838632</td>\n",
       "      <td>11.953070</td>\n",
       "      <td>-501.053894</td>\n",
       "      <td>9.925709</td>\n",
       "      <td>-501.686727</td>\n",
       "      <td>7.894242</td>\n",
       "      <td>-500.356035</td>\n",
       "      <td>13.996647</td>\n",
       "      <td>-601.496691</td>\n",
       "    </tr>\n",
       "  </tbody>\n",
       "</table>\n",
       "<p>5 rows × 87 columns</p>\n",
       "</div>"
      ],
      "text/plain": [
       "                  date  final.output.concentrate_ag  \\\n",
       "0  2016-01-15 00:00:00                     6.055403   \n",
       "1  2016-01-15 01:00:00                     6.029369   \n",
       "2  2016-01-15 02:00:00                     6.055926   \n",
       "3  2016-01-15 03:00:00                     6.047977   \n",
       "4  2016-01-15 04:00:00                     6.148599   \n",
       "\n",
       "   final.output.concentrate_pb  final.output.concentrate_sol  \\\n",
       "0                     9.889648                      5.507324   \n",
       "1                     9.968944                      5.257781   \n",
       "2                    10.213995                      5.383759   \n",
       "3                     9.977019                      4.858634   \n",
       "4                    10.142511                      4.939416   \n",
       "\n",
       "   final.output.concentrate_au  final.output.recovery  final.output.tail_ag  \\\n",
       "0                    42.192020              70.541216             10.411962   \n",
       "1                    42.701629              69.266198             10.462676   \n",
       "2                    42.657501              68.116445             10.507046   \n",
       "3                    42.689819              68.347543             10.422762   \n",
       "4                    42.774141              66.927016             10.360302   \n",
       "\n",
       "   final.output.tail_pb  final.output.tail_sol  final.output.tail_au  ...  \\\n",
       "0              0.895447              16.904297              2.143149  ...   \n",
       "1              0.927452              16.634514              2.224930  ...   \n",
       "2              0.953716              16.208849              2.257889  ...   \n",
       "3              0.883763              16.532835              2.146849  ...   \n",
       "4              0.792826              16.525686              2.055292  ...   \n",
       "\n",
       "   secondary_cleaner.state.floatbank4_a_air  \\\n",
       "0                                 14.016835   \n",
       "1                                 13.992281   \n",
       "2                                 14.015015   \n",
       "3                                 14.036510   \n",
       "4                                 14.027298   \n",
       "\n",
       "   secondary_cleaner.state.floatbank4_a_level  \\\n",
       "0                                 -502.488007   \n",
       "1                                 -505.503262   \n",
       "2                                 -502.520901   \n",
       "3                                 -500.857308   \n",
       "4                                 -499.838632   \n",
       "\n",
       "   secondary_cleaner.state.floatbank4_b_air  \\\n",
       "0                                 12.099931   \n",
       "1                                 11.950531   \n",
       "2                                 11.912783   \n",
       "3                                 11.999550   \n",
       "4                                 11.953070   \n",
       "\n",
       "   secondary_cleaner.state.floatbank4_b_level  \\\n",
       "0                                 -504.715942   \n",
       "1                                 -501.331529   \n",
       "2                                 -501.133383   \n",
       "3                                 -501.193686   \n",
       "4                                 -501.053894   \n",
       "\n",
       "   secondary_cleaner.state.floatbank5_a_air  \\\n",
       "0                                  9.925633   \n",
       "1                                 10.039245   \n",
       "2                                 10.070913   \n",
       "3                                  9.970366   \n",
       "4                                  9.925709   \n",
       "\n",
       "   secondary_cleaner.state.floatbank5_a_level  \\\n",
       "0                                 -498.310211   \n",
       "1                                 -500.169983   \n",
       "2                                 -500.129135   \n",
       "3                                 -499.201640   \n",
       "4                                 -501.686727   \n",
       "\n",
       "   secondary_cleaner.state.floatbank5_b_air  \\\n",
       "0                                  8.079666   \n",
       "1                                  7.984757   \n",
       "2                                  8.013877   \n",
       "3                                  7.977324   \n",
       "4                                  7.894242   \n",
       "\n",
       "   secondary_cleaner.state.floatbank5_b_level  \\\n",
       "0                                 -500.470978   \n",
       "1                                 -500.582168   \n",
       "2                                 -500.517572   \n",
       "3                                 -500.255908   \n",
       "4                                 -500.356035   \n",
       "\n",
       "   secondary_cleaner.state.floatbank6_a_air  \\\n",
       "0                                 14.151341   \n",
       "1                                 13.998353   \n",
       "2                                 14.028663   \n",
       "3                                 14.005551   \n",
       "4                                 13.996647   \n",
       "\n",
       "   secondary_cleaner.state.floatbank6_a_level  \n",
       "0                                 -605.841980  \n",
       "1                                 -599.787184  \n",
       "2                                 -601.427363  \n",
       "3                                 -599.996129  \n",
       "4                                 -601.496691  \n",
       "\n",
       "[5 rows x 87 columns]"
      ]
     },
     "metadata": {},
     "output_type": "display_data"
    }
   ],
   "source": [
    "# напечатать данные\n",
    "for item in data:\n",
    "    display(item.head())"
   ]
  },
  {
   "cell_type": "code",
   "execution_count": 4,
   "metadata": {
    "scrolled": false
   },
   "outputs": [
    {
     "name": "stdout",
     "output_type": "stream",
     "text": [
      "<class 'pandas.core.frame.DataFrame'>\n",
      "RangeIndex: 14149 entries, 0 to 14148\n",
      "Data columns (total 87 columns):\n",
      " #   Column                                              Non-Null Count  Dtype  \n",
      "---  ------                                              --------------  -----  \n",
      " 0   date                                                14149 non-null  object \n",
      " 1   final.output.concentrate_ag                         14148 non-null  float64\n",
      " 2   final.output.concentrate_pb                         14148 non-null  float64\n",
      " 3   final.output.concentrate_sol                        13938 non-null  float64\n",
      " 4   final.output.concentrate_au                         14149 non-null  float64\n",
      " 5   final.output.recovery                               14149 non-null  float64\n",
      " 6   final.output.tail_ag                                14149 non-null  float64\n",
      " 7   final.output.tail_pb                                14049 non-null  float64\n",
      " 8   final.output.tail_sol                               14144 non-null  float64\n",
      " 9   final.output.tail_au                                14149 non-null  float64\n",
      " 10  primary_cleaner.input.sulfate                       14129 non-null  float64\n",
      " 11  primary_cleaner.input.depressant                    14117 non-null  float64\n",
      " 12  primary_cleaner.input.feed_size                     14149 non-null  float64\n",
      " 13  primary_cleaner.input.xanthate                      14049 non-null  float64\n",
      " 14  primary_cleaner.output.concentrate_ag               14149 non-null  float64\n",
      " 15  primary_cleaner.output.concentrate_pb               14063 non-null  float64\n",
      " 16  primary_cleaner.output.concentrate_sol              13863 non-null  float64\n",
      " 17  primary_cleaner.output.concentrate_au               14149 non-null  float64\n",
      " 18  primary_cleaner.output.tail_ag                      14148 non-null  float64\n",
      " 19  primary_cleaner.output.tail_pb                      14134 non-null  float64\n",
      " 20  primary_cleaner.output.tail_sol                     14103 non-null  float64\n",
      " 21  primary_cleaner.output.tail_au                      14149 non-null  float64\n",
      " 22  primary_cleaner.state.floatbank8_a_air              14145 non-null  float64\n",
      " 23  primary_cleaner.state.floatbank8_a_level            14148 non-null  float64\n",
      " 24  primary_cleaner.state.floatbank8_b_air              14145 non-null  float64\n",
      " 25  primary_cleaner.state.floatbank8_b_level            14148 non-null  float64\n",
      " 26  primary_cleaner.state.floatbank8_c_air              14147 non-null  float64\n",
      " 27  primary_cleaner.state.floatbank8_c_level            14148 non-null  float64\n",
      " 28  primary_cleaner.state.floatbank8_d_air              14146 non-null  float64\n",
      " 29  primary_cleaner.state.floatbank8_d_level            14148 non-null  float64\n",
      " 30  rougher.calculation.sulfate_to_au_concentrate       14148 non-null  float64\n",
      " 31  rougher.calculation.floatbank10_sulfate_to_au_feed  14148 non-null  float64\n",
      " 32  rougher.calculation.floatbank11_sulfate_to_au_feed  14148 non-null  float64\n",
      " 33  rougher.calculation.au_pb_ratio                     14149 non-null  float64\n",
      " 34  rougher.input.feed_ag                               14149 non-null  float64\n",
      " 35  rougher.input.feed_pb                               14049 non-null  float64\n",
      " 36  rougher.input.feed_rate                             14141 non-null  float64\n",
      " 37  rougher.input.feed_size                             14005 non-null  float64\n",
      " 38  rougher.input.feed_sol                              14071 non-null  float64\n",
      " 39  rougher.input.feed_au                               14149 non-null  float64\n",
      " 40  rougher.input.floatbank10_sulfate                   14120 non-null  float64\n",
      " 41  rougher.input.floatbank10_xanthate                  14141 non-null  float64\n",
      " 42  rougher.input.floatbank11_sulfate                   14113 non-null  float64\n",
      " 43  rougher.input.floatbank11_xanthate                  13721 non-null  float64\n",
      " 44  rougher.output.concentrate_ag                       14149 non-null  float64\n",
      " 45  rougher.output.concentrate_pb                       14149 non-null  float64\n",
      " 46  rougher.output.concentrate_sol                      14127 non-null  float64\n",
      " 47  rougher.output.concentrate_au                       14149 non-null  float64\n",
      " 48  rougher.output.recovery                             14149 non-null  float64\n",
      " 49  rougher.output.tail_ag                              14148 non-null  float64\n",
      " 50  rougher.output.tail_pb                              14149 non-null  float64\n",
      " 51  rougher.output.tail_sol                             14149 non-null  float64\n",
      " 52  rougher.output.tail_au                              14149 non-null  float64\n",
      " 53  rougher.state.floatbank10_a_air                     14148 non-null  float64\n",
      " 54  rougher.state.floatbank10_a_level                   14148 non-null  float64\n",
      " 55  rougher.state.floatbank10_b_air                     14148 non-null  float64\n",
      " 56  rougher.state.floatbank10_b_level                   14148 non-null  float64\n",
      " 57  rougher.state.floatbank10_c_air                     14148 non-null  float64\n",
      " 58  rougher.state.floatbank10_c_level                   14148 non-null  float64\n",
      " 59  rougher.state.floatbank10_d_air                     14149 non-null  float64\n",
      " 60  rougher.state.floatbank10_d_level                   14149 non-null  float64\n",
      " 61  rougher.state.floatbank10_e_air                     13713 non-null  float64\n",
      " 62  rougher.state.floatbank10_e_level                   14149 non-null  float64\n",
      " 63  rougher.state.floatbank10_f_air                     14149 non-null  float64\n",
      " 64  rougher.state.floatbank10_f_level                   14149 non-null  float64\n",
      " 65  secondary_cleaner.output.tail_ag                    14147 non-null  float64\n",
      " 66  secondary_cleaner.output.tail_pb                    14139 non-null  float64\n",
      " 67  secondary_cleaner.output.tail_sol                   12544 non-null  float64\n",
      " 68  secondary_cleaner.output.tail_au                    14149 non-null  float64\n",
      " 69  secondary_cleaner.state.floatbank2_a_air            13932 non-null  float64\n",
      " 70  secondary_cleaner.state.floatbank2_a_level          14148 non-null  float64\n",
      " 71  secondary_cleaner.state.floatbank2_b_air            14128 non-null  float64\n",
      " 72  secondary_cleaner.state.floatbank2_b_level          14148 non-null  float64\n",
      " 73  secondary_cleaner.state.floatbank3_a_air            14145 non-null  float64\n",
      " 74  secondary_cleaner.state.floatbank3_a_level          14148 non-null  float64\n",
      " 75  secondary_cleaner.state.floatbank3_b_air            14148 non-null  float64\n",
      " 76  secondary_cleaner.state.floatbank3_b_level          14148 non-null  float64\n",
      " 77  secondary_cleaner.state.floatbank4_a_air            14143 non-null  float64\n",
      " 78  secondary_cleaner.state.floatbank4_a_level          14148 non-null  float64\n",
      " 79  secondary_cleaner.state.floatbank4_b_air            14148 non-null  float64\n",
      " 80  secondary_cleaner.state.floatbank4_b_level          14148 non-null  float64\n",
      " 81  secondary_cleaner.state.floatbank5_a_air            14148 non-null  float64\n",
      " 82  secondary_cleaner.state.floatbank5_a_level          14148 non-null  float64\n",
      " 83  secondary_cleaner.state.floatbank5_b_air            14148 non-null  float64\n",
      " 84  secondary_cleaner.state.floatbank5_b_level          14148 non-null  float64\n",
      " 85  secondary_cleaner.state.floatbank6_a_air            14147 non-null  float64\n",
      " 86  secondary_cleaner.state.floatbank6_a_level          14148 non-null  float64\n",
      "dtypes: float64(86), object(1)\n",
      "memory usage: 9.4+ MB\n",
      "None\n",
      "\n",
      "<class 'pandas.core.frame.DataFrame'>\n",
      "RangeIndex: 5290 entries, 0 to 5289\n",
      "Data columns (total 53 columns):\n",
      " #   Column                                      Non-Null Count  Dtype  \n",
      "---  ------                                      --------------  -----  \n",
      " 0   date                                        5290 non-null   object \n",
      " 1   primary_cleaner.input.sulfate               5286 non-null   float64\n",
      " 2   primary_cleaner.input.depressant            5285 non-null   float64\n",
      " 3   primary_cleaner.input.feed_size             5290 non-null   float64\n",
      " 4   primary_cleaner.input.xanthate              5286 non-null   float64\n",
      " 5   primary_cleaner.state.floatbank8_a_air      5290 non-null   float64\n",
      " 6   primary_cleaner.state.floatbank8_a_level    5290 non-null   float64\n",
      " 7   primary_cleaner.state.floatbank8_b_air      5290 non-null   float64\n",
      " 8   primary_cleaner.state.floatbank8_b_level    5290 non-null   float64\n",
      " 9   primary_cleaner.state.floatbank8_c_air      5290 non-null   float64\n",
      " 10  primary_cleaner.state.floatbank8_c_level    5290 non-null   float64\n",
      " 11  primary_cleaner.state.floatbank8_d_air      5290 non-null   float64\n",
      " 12  primary_cleaner.state.floatbank8_d_level    5290 non-null   float64\n",
      " 13  rougher.input.feed_ag                       5290 non-null   float64\n",
      " 14  rougher.input.feed_pb                       5290 non-null   float64\n",
      " 15  rougher.input.feed_rate                     5287 non-null   float64\n",
      " 16  rougher.input.feed_size                     5289 non-null   float64\n",
      " 17  rougher.input.feed_sol                      5269 non-null   float64\n",
      " 18  rougher.input.feed_au                       5290 non-null   float64\n",
      " 19  rougher.input.floatbank10_sulfate           5285 non-null   float64\n",
      " 20  rougher.input.floatbank10_xanthate          5290 non-null   float64\n",
      " 21  rougher.input.floatbank11_sulfate           5282 non-null   float64\n",
      " 22  rougher.input.floatbank11_xanthate          5265 non-null   float64\n",
      " 23  rougher.state.floatbank10_a_air             5290 non-null   float64\n",
      " 24  rougher.state.floatbank10_a_level           5290 non-null   float64\n",
      " 25  rougher.state.floatbank10_b_air             5290 non-null   float64\n",
      " 26  rougher.state.floatbank10_b_level           5290 non-null   float64\n",
      " 27  rougher.state.floatbank10_c_air             5290 non-null   float64\n",
      " 28  rougher.state.floatbank10_c_level           5290 non-null   float64\n",
      " 29  rougher.state.floatbank10_d_air             5290 non-null   float64\n",
      " 30  rougher.state.floatbank10_d_level           5290 non-null   float64\n",
      " 31  rougher.state.floatbank10_e_air             5290 non-null   float64\n",
      " 32  rougher.state.floatbank10_e_level           5290 non-null   float64\n",
      " 33  rougher.state.floatbank10_f_air             5290 non-null   float64\n",
      " 34  rougher.state.floatbank10_f_level           5290 non-null   float64\n",
      " 35  secondary_cleaner.state.floatbank2_a_air    5287 non-null   float64\n",
      " 36  secondary_cleaner.state.floatbank2_a_level  5290 non-null   float64\n",
      " 37  secondary_cleaner.state.floatbank2_b_air    5288 non-null   float64\n",
      " 38  secondary_cleaner.state.floatbank2_b_level  5290 non-null   float64\n",
      " 39  secondary_cleaner.state.floatbank3_a_air    5281 non-null   float64\n",
      " 40  secondary_cleaner.state.floatbank3_a_level  5290 non-null   float64\n",
      " 41  secondary_cleaner.state.floatbank3_b_air    5290 non-null   float64\n",
      " 42  secondary_cleaner.state.floatbank3_b_level  5290 non-null   float64\n",
      " 43  secondary_cleaner.state.floatbank4_a_air    5290 non-null   float64\n",
      " 44  secondary_cleaner.state.floatbank4_a_level  5290 non-null   float64\n",
      " 45  secondary_cleaner.state.floatbank4_b_air    5290 non-null   float64\n",
      " 46  secondary_cleaner.state.floatbank4_b_level  5290 non-null   float64\n",
      " 47  secondary_cleaner.state.floatbank5_a_air    5290 non-null   float64\n",
      " 48  secondary_cleaner.state.floatbank5_a_level  5290 non-null   float64\n",
      " 49  secondary_cleaner.state.floatbank5_b_air    5290 non-null   float64\n",
      " 50  secondary_cleaner.state.floatbank5_b_level  5290 non-null   float64\n",
      " 51  secondary_cleaner.state.floatbank6_a_air    5290 non-null   float64\n",
      " 52  secondary_cleaner.state.floatbank6_a_level  5290 non-null   float64\n",
      "dtypes: float64(52), object(1)\n",
      "memory usage: 2.1+ MB\n",
      "None\n",
      "\n",
      "<class 'pandas.core.frame.DataFrame'>\n",
      "RangeIndex: 19439 entries, 0 to 19438\n",
      "Data columns (total 87 columns):\n",
      " #   Column                                              Non-Null Count  Dtype  \n",
      "---  ------                                              --------------  -----  \n",
      " 0   date                                                19439 non-null  object \n",
      " 1   final.output.concentrate_ag                         19438 non-null  float64\n",
      " 2   final.output.concentrate_pb                         19438 non-null  float64\n",
      " 3   final.output.concentrate_sol                        19228 non-null  float64\n",
      " 4   final.output.concentrate_au                         19439 non-null  float64\n",
      " 5   final.output.recovery                               19439 non-null  float64\n",
      " 6   final.output.tail_ag                                19438 non-null  float64\n",
      " 7   final.output.tail_pb                                19338 non-null  float64\n",
      " 8   final.output.tail_sol                               19433 non-null  float64\n",
      " 9   final.output.tail_au                                19439 non-null  float64\n",
      " 10  primary_cleaner.input.sulfate                       19415 non-null  float64\n",
      " 11  primary_cleaner.input.depressant                    19402 non-null  float64\n",
      " 12  primary_cleaner.input.feed_size                     19439 non-null  float64\n",
      " 13  primary_cleaner.input.xanthate                      19335 non-null  float64\n",
      " 14  primary_cleaner.output.concentrate_ag               19439 non-null  float64\n",
      " 15  primary_cleaner.output.concentrate_pb               19323 non-null  float64\n",
      " 16  primary_cleaner.output.concentrate_sol              19069 non-null  float64\n",
      " 17  primary_cleaner.output.concentrate_au               19439 non-null  float64\n",
      " 18  primary_cleaner.output.tail_ag                      19435 non-null  float64\n",
      " 19  primary_cleaner.output.tail_pb                      19418 non-null  float64\n",
      " 20  primary_cleaner.output.tail_sol                     19377 non-null  float64\n",
      " 21  primary_cleaner.output.tail_au                      19439 non-null  float64\n",
      " 22  primary_cleaner.state.floatbank8_a_air              19435 non-null  float64\n",
      " 23  primary_cleaner.state.floatbank8_a_level            19438 non-null  float64\n",
      " 24  primary_cleaner.state.floatbank8_b_air              19435 non-null  float64\n",
      " 25  primary_cleaner.state.floatbank8_b_level            19438 non-null  float64\n",
      " 26  primary_cleaner.state.floatbank8_c_air              19437 non-null  float64\n",
      " 27  primary_cleaner.state.floatbank8_c_level            19438 non-null  float64\n",
      " 28  primary_cleaner.state.floatbank8_d_air              19436 non-null  float64\n",
      " 29  primary_cleaner.state.floatbank8_d_level            19438 non-null  float64\n",
      " 30  rougher.calculation.sulfate_to_au_concentrate       19437 non-null  float64\n",
      " 31  rougher.calculation.floatbank10_sulfate_to_au_feed  19437 non-null  float64\n",
      " 32  rougher.calculation.floatbank11_sulfate_to_au_feed  19437 non-null  float64\n",
      " 33  rougher.calculation.au_pb_ratio                     19439 non-null  float64\n",
      " 34  rougher.input.feed_ag                               19439 non-null  float64\n",
      " 35  rougher.input.feed_pb                               19339 non-null  float64\n",
      " 36  rougher.input.feed_rate                             19428 non-null  float64\n",
      " 37  rougher.input.feed_size                             19294 non-null  float64\n",
      " 38  rougher.input.feed_sol                              19340 non-null  float64\n",
      " 39  rougher.input.feed_au                               19439 non-null  float64\n",
      " 40  rougher.input.floatbank10_sulfate                   19405 non-null  float64\n",
      " 41  rougher.input.floatbank10_xanthate                  19431 non-null  float64\n",
      " 42  rougher.input.floatbank11_sulfate                   19395 non-null  float64\n",
      " 43  rougher.input.floatbank11_xanthate                  18986 non-null  float64\n",
      " 44  rougher.output.concentrate_ag                       19439 non-null  float64\n",
      " 45  rougher.output.concentrate_pb                       19439 non-null  float64\n",
      " 46  rougher.output.concentrate_sol                      19416 non-null  float64\n",
      " 47  rougher.output.concentrate_au                       19439 non-null  float64\n",
      " 48  rougher.output.recovery                             19439 non-null  float64\n",
      " 49  rougher.output.tail_ag                              19438 non-null  float64\n",
      " 50  rougher.output.tail_pb                              19439 non-null  float64\n",
      " 51  rougher.output.tail_sol                             19439 non-null  float64\n",
      " 52  rougher.output.tail_au                              19439 non-null  float64\n",
      " 53  rougher.state.floatbank10_a_air                     19438 non-null  float64\n",
      " 54  rougher.state.floatbank10_a_level                   19438 non-null  float64\n",
      " 55  rougher.state.floatbank10_b_air                     19438 non-null  float64\n",
      " 56  rougher.state.floatbank10_b_level                   19438 non-null  float64\n",
      " 57  rougher.state.floatbank10_c_air                     19438 non-null  float64\n",
      " 58  rougher.state.floatbank10_c_level                   19438 non-null  float64\n",
      " 59  rougher.state.floatbank10_d_air                     19439 non-null  float64\n",
      " 60  rougher.state.floatbank10_d_level                   19439 non-null  float64\n",
      " 61  rougher.state.floatbank10_e_air                     19003 non-null  float64\n",
      " 62  rougher.state.floatbank10_e_level                   19439 non-null  float64\n",
      " 63  rougher.state.floatbank10_f_air                     19439 non-null  float64\n",
      " 64  rougher.state.floatbank10_f_level                   19439 non-null  float64\n",
      " 65  secondary_cleaner.output.tail_ag                    19437 non-null  float64\n",
      " 66  secondary_cleaner.output.tail_pb                    19427 non-null  float64\n",
      " 67  secondary_cleaner.output.tail_sol                   17691 non-null  float64\n",
      " 68  secondary_cleaner.output.tail_au                    19439 non-null  float64\n",
      " 69  secondary_cleaner.state.floatbank2_a_air            19219 non-null  float64\n",
      " 70  secondary_cleaner.state.floatbank2_a_level          19438 non-null  float64\n",
      " 71  secondary_cleaner.state.floatbank2_b_air            19416 non-null  float64\n",
      " 72  secondary_cleaner.state.floatbank2_b_level          19438 non-null  float64\n",
      " 73  secondary_cleaner.state.floatbank3_a_air            19426 non-null  float64\n",
      " 74  secondary_cleaner.state.floatbank3_a_level          19438 non-null  float64\n",
      " 75  secondary_cleaner.state.floatbank3_b_air            19438 non-null  float64\n",
      " 76  secondary_cleaner.state.floatbank3_b_level          19438 non-null  float64\n",
      " 77  secondary_cleaner.state.floatbank4_a_air            19433 non-null  float64\n",
      " 78  secondary_cleaner.state.floatbank4_a_level          19438 non-null  float64\n",
      " 79  secondary_cleaner.state.floatbank4_b_air            19438 non-null  float64\n",
      " 80  secondary_cleaner.state.floatbank4_b_level          19438 non-null  float64\n",
      " 81  secondary_cleaner.state.floatbank5_a_air            19438 non-null  float64\n",
      " 82  secondary_cleaner.state.floatbank5_a_level          19438 non-null  float64\n",
      " 83  secondary_cleaner.state.floatbank5_b_air            19438 non-null  float64\n",
      " 84  secondary_cleaner.state.floatbank5_b_level          19438 non-null  float64\n",
      " 85  secondary_cleaner.state.floatbank6_a_air            19437 non-null  float64\n",
      " 86  secondary_cleaner.state.floatbank6_a_level          19438 non-null  float64\n",
      "dtypes: float64(86), object(1)\n",
      "memory usage: 12.9+ MB\n",
      "None\n",
      "\n"
     ]
    }
   ],
   "source": [
    "# напечатать данные\n",
    "for item in data:\n",
    "    print(item.info())\n",
    "    print()"
   ]
  },
  {
   "cell_type": "markdown",
   "metadata": {},
   "source": [
    "После изучения данных методом <i>info()</i> можем увидеть, что в столбцах во всех данных разные значения, то есть есть пропуски. Некоторые параметры недоступны, потому что замеряются и/или рассчитываются значительно позже."
   ]
  },
  {
   "cell_type": "markdown",
   "metadata": {},
   "source": [
    "При заполнении пропсков будем использовать ‘ffill’ (прямое заполнение) для распространения последнего допустимого наблюдения, чтобы заполнить предстоящие недостающие значения."
   ]
  },
  {
   "cell_type": "code",
   "execution_count": 5,
   "metadata": {},
   "outputs": [],
   "source": [
    "# заполнить пропуски методом ffill\n",
    "data_train = data_train.ffill()\n",
    "data_test = data_test.ffill()\n",
    "data_full = data_full.ffill()"
   ]
  },
  {
   "cell_type": "code",
   "execution_count": 6,
   "metadata": {},
   "outputs": [
    {
     "name": "stdout",
     "output_type": "stream",
     "text": [
      "<class 'pandas.core.frame.DataFrame'>\n",
      "RangeIndex: 14149 entries, 0 to 14148\n",
      "Data columns (total 87 columns):\n",
      " #   Column                                              Non-Null Count  Dtype  \n",
      "---  ------                                              --------------  -----  \n",
      " 0   date                                                14149 non-null  object \n",
      " 1   final.output.concentrate_ag                         14148 non-null  float64\n",
      " 2   final.output.concentrate_pb                         14148 non-null  float64\n",
      " 3   final.output.concentrate_sol                        13938 non-null  float64\n",
      " 4   final.output.concentrate_au                         14149 non-null  float64\n",
      " 5   final.output.recovery                               14149 non-null  float64\n",
      " 6   final.output.tail_ag                                14149 non-null  float64\n",
      " 7   final.output.tail_pb                                14049 non-null  float64\n",
      " 8   final.output.tail_sol                               14144 non-null  float64\n",
      " 9   final.output.tail_au                                14149 non-null  float64\n",
      " 10  primary_cleaner.input.sulfate                       14129 non-null  float64\n",
      " 11  primary_cleaner.input.depressant                    14117 non-null  float64\n",
      " 12  primary_cleaner.input.feed_size                     14149 non-null  float64\n",
      " 13  primary_cleaner.input.xanthate                      14049 non-null  float64\n",
      " 14  primary_cleaner.output.concentrate_ag               14149 non-null  float64\n",
      " 15  primary_cleaner.output.concentrate_pb               14063 non-null  float64\n",
      " 16  primary_cleaner.output.concentrate_sol              13863 non-null  float64\n",
      " 17  primary_cleaner.output.concentrate_au               14149 non-null  float64\n",
      " 18  primary_cleaner.output.tail_ag                      14148 non-null  float64\n",
      " 19  primary_cleaner.output.tail_pb                      14134 non-null  float64\n",
      " 20  primary_cleaner.output.tail_sol                     14103 non-null  float64\n",
      " 21  primary_cleaner.output.tail_au                      14149 non-null  float64\n",
      " 22  primary_cleaner.state.floatbank8_a_air              14145 non-null  float64\n",
      " 23  primary_cleaner.state.floatbank8_a_level            14148 non-null  float64\n",
      " 24  primary_cleaner.state.floatbank8_b_air              14145 non-null  float64\n",
      " 25  primary_cleaner.state.floatbank8_b_level            14148 non-null  float64\n",
      " 26  primary_cleaner.state.floatbank8_c_air              14147 non-null  float64\n",
      " 27  primary_cleaner.state.floatbank8_c_level            14148 non-null  float64\n",
      " 28  primary_cleaner.state.floatbank8_d_air              14146 non-null  float64\n",
      " 29  primary_cleaner.state.floatbank8_d_level            14148 non-null  float64\n",
      " 30  rougher.calculation.sulfate_to_au_concentrate       14148 non-null  float64\n",
      " 31  rougher.calculation.floatbank10_sulfate_to_au_feed  14148 non-null  float64\n",
      " 32  rougher.calculation.floatbank11_sulfate_to_au_feed  14148 non-null  float64\n",
      " 33  rougher.calculation.au_pb_ratio                     14149 non-null  float64\n",
      " 34  rougher.input.feed_ag                               14149 non-null  float64\n",
      " 35  rougher.input.feed_pb                               14049 non-null  float64\n",
      " 36  rougher.input.feed_rate                             14141 non-null  float64\n",
      " 37  rougher.input.feed_size                             14005 non-null  float64\n",
      " 38  rougher.input.feed_sol                              14071 non-null  float64\n",
      " 39  rougher.input.feed_au                               14149 non-null  float64\n",
      " 40  rougher.input.floatbank10_sulfate                   14120 non-null  float64\n",
      " 41  rougher.input.floatbank10_xanthate                  14141 non-null  float64\n",
      " 42  rougher.input.floatbank11_sulfate                   14113 non-null  float64\n",
      " 43  rougher.input.floatbank11_xanthate                  13721 non-null  float64\n",
      " 44  rougher.output.concentrate_ag                       14149 non-null  float64\n",
      " 45  rougher.output.concentrate_pb                       14149 non-null  float64\n",
      " 46  rougher.output.concentrate_sol                      14127 non-null  float64\n",
      " 47  rougher.output.concentrate_au                       14149 non-null  float64\n",
      " 48  rougher.output.recovery                             14149 non-null  float64\n",
      " 49  rougher.output.tail_ag                              14148 non-null  float64\n",
      " 50  rougher.output.tail_pb                              14149 non-null  float64\n",
      " 51  rougher.output.tail_sol                             14149 non-null  float64\n",
      " 52  rougher.output.tail_au                              14149 non-null  float64\n",
      " 53  rougher.state.floatbank10_a_air                     14148 non-null  float64\n",
      " 54  rougher.state.floatbank10_a_level                   14148 non-null  float64\n",
      " 55  rougher.state.floatbank10_b_air                     14148 non-null  float64\n",
      " 56  rougher.state.floatbank10_b_level                   14148 non-null  float64\n",
      " 57  rougher.state.floatbank10_c_air                     14148 non-null  float64\n",
      " 58  rougher.state.floatbank10_c_level                   14148 non-null  float64\n",
      " 59  rougher.state.floatbank10_d_air                     14149 non-null  float64\n",
      " 60  rougher.state.floatbank10_d_level                   14149 non-null  float64\n",
      " 61  rougher.state.floatbank10_e_air                     13713 non-null  float64\n",
      " 62  rougher.state.floatbank10_e_level                   14149 non-null  float64\n",
      " 63  rougher.state.floatbank10_f_air                     14149 non-null  float64\n",
      " 64  rougher.state.floatbank10_f_level                   14149 non-null  float64\n",
      " 65  secondary_cleaner.output.tail_ag                    14147 non-null  float64\n",
      " 66  secondary_cleaner.output.tail_pb                    14139 non-null  float64\n",
      " 67  secondary_cleaner.output.tail_sol                   12544 non-null  float64\n",
      " 68  secondary_cleaner.output.tail_au                    14149 non-null  float64\n",
      " 69  secondary_cleaner.state.floatbank2_a_air            13932 non-null  float64\n",
      " 70  secondary_cleaner.state.floatbank2_a_level          14148 non-null  float64\n",
      " 71  secondary_cleaner.state.floatbank2_b_air            14128 non-null  float64\n",
      " 72  secondary_cleaner.state.floatbank2_b_level          14148 non-null  float64\n",
      " 73  secondary_cleaner.state.floatbank3_a_air            14145 non-null  float64\n",
      " 74  secondary_cleaner.state.floatbank3_a_level          14148 non-null  float64\n",
      " 75  secondary_cleaner.state.floatbank3_b_air            14148 non-null  float64\n",
      " 76  secondary_cleaner.state.floatbank3_b_level          14148 non-null  float64\n",
      " 77  secondary_cleaner.state.floatbank4_a_air            14143 non-null  float64\n",
      " 78  secondary_cleaner.state.floatbank4_a_level          14148 non-null  float64\n",
      " 79  secondary_cleaner.state.floatbank4_b_air            14148 non-null  float64\n",
      " 80  secondary_cleaner.state.floatbank4_b_level          14148 non-null  float64\n",
      " 81  secondary_cleaner.state.floatbank5_a_air            14148 non-null  float64\n",
      " 82  secondary_cleaner.state.floatbank5_a_level          14148 non-null  float64\n",
      " 83  secondary_cleaner.state.floatbank5_b_air            14148 non-null  float64\n",
      " 84  secondary_cleaner.state.floatbank5_b_level          14148 non-null  float64\n",
      " 85  secondary_cleaner.state.floatbank6_a_air            14147 non-null  float64\n",
      " 86  secondary_cleaner.state.floatbank6_a_level          14148 non-null  float64\n",
      "dtypes: float64(86), object(1)\n",
      "memory usage: 9.4+ MB\n",
      "None\n",
      "\n",
      "<class 'pandas.core.frame.DataFrame'>\n",
      "RangeIndex: 5290 entries, 0 to 5289\n",
      "Data columns (total 53 columns):\n",
      " #   Column                                      Non-Null Count  Dtype  \n",
      "---  ------                                      --------------  -----  \n",
      " 0   date                                        5290 non-null   object \n",
      " 1   primary_cleaner.input.sulfate               5286 non-null   float64\n",
      " 2   primary_cleaner.input.depressant            5285 non-null   float64\n",
      " 3   primary_cleaner.input.feed_size             5290 non-null   float64\n",
      " 4   primary_cleaner.input.xanthate              5286 non-null   float64\n",
      " 5   primary_cleaner.state.floatbank8_a_air      5290 non-null   float64\n",
      " 6   primary_cleaner.state.floatbank8_a_level    5290 non-null   float64\n",
      " 7   primary_cleaner.state.floatbank8_b_air      5290 non-null   float64\n",
      " 8   primary_cleaner.state.floatbank8_b_level    5290 non-null   float64\n",
      " 9   primary_cleaner.state.floatbank8_c_air      5290 non-null   float64\n",
      " 10  primary_cleaner.state.floatbank8_c_level    5290 non-null   float64\n",
      " 11  primary_cleaner.state.floatbank8_d_air      5290 non-null   float64\n",
      " 12  primary_cleaner.state.floatbank8_d_level    5290 non-null   float64\n",
      " 13  rougher.input.feed_ag                       5290 non-null   float64\n",
      " 14  rougher.input.feed_pb                       5290 non-null   float64\n",
      " 15  rougher.input.feed_rate                     5287 non-null   float64\n",
      " 16  rougher.input.feed_size                     5289 non-null   float64\n",
      " 17  rougher.input.feed_sol                      5269 non-null   float64\n",
      " 18  rougher.input.feed_au                       5290 non-null   float64\n",
      " 19  rougher.input.floatbank10_sulfate           5285 non-null   float64\n",
      " 20  rougher.input.floatbank10_xanthate          5290 non-null   float64\n",
      " 21  rougher.input.floatbank11_sulfate           5282 non-null   float64\n",
      " 22  rougher.input.floatbank11_xanthate          5265 non-null   float64\n",
      " 23  rougher.state.floatbank10_a_air             5290 non-null   float64\n",
      " 24  rougher.state.floatbank10_a_level           5290 non-null   float64\n",
      " 25  rougher.state.floatbank10_b_air             5290 non-null   float64\n",
      " 26  rougher.state.floatbank10_b_level           5290 non-null   float64\n",
      " 27  rougher.state.floatbank10_c_air             5290 non-null   float64\n",
      " 28  rougher.state.floatbank10_c_level           5290 non-null   float64\n",
      " 29  rougher.state.floatbank10_d_air             5290 non-null   float64\n",
      " 30  rougher.state.floatbank10_d_level           5290 non-null   float64\n",
      " 31  rougher.state.floatbank10_e_air             5290 non-null   float64\n",
      " 32  rougher.state.floatbank10_e_level           5290 non-null   float64\n",
      " 33  rougher.state.floatbank10_f_air             5290 non-null   float64\n",
      " 34  rougher.state.floatbank10_f_level           5290 non-null   float64\n",
      " 35  secondary_cleaner.state.floatbank2_a_air    5287 non-null   float64\n",
      " 36  secondary_cleaner.state.floatbank2_a_level  5290 non-null   float64\n",
      " 37  secondary_cleaner.state.floatbank2_b_air    5288 non-null   float64\n",
      " 38  secondary_cleaner.state.floatbank2_b_level  5290 non-null   float64\n",
      " 39  secondary_cleaner.state.floatbank3_a_air    5281 non-null   float64\n",
      " 40  secondary_cleaner.state.floatbank3_a_level  5290 non-null   float64\n",
      " 41  secondary_cleaner.state.floatbank3_b_air    5290 non-null   float64\n",
      " 42  secondary_cleaner.state.floatbank3_b_level  5290 non-null   float64\n",
      " 43  secondary_cleaner.state.floatbank4_a_air    5290 non-null   float64\n",
      " 44  secondary_cleaner.state.floatbank4_a_level  5290 non-null   float64\n",
      " 45  secondary_cleaner.state.floatbank4_b_air    5290 non-null   float64\n",
      " 46  secondary_cleaner.state.floatbank4_b_level  5290 non-null   float64\n",
      " 47  secondary_cleaner.state.floatbank5_a_air    5290 non-null   float64\n",
      " 48  secondary_cleaner.state.floatbank5_a_level  5290 non-null   float64\n",
      " 49  secondary_cleaner.state.floatbank5_b_air    5290 non-null   float64\n",
      " 50  secondary_cleaner.state.floatbank5_b_level  5290 non-null   float64\n",
      " 51  secondary_cleaner.state.floatbank6_a_air    5290 non-null   float64\n",
      " 52  secondary_cleaner.state.floatbank6_a_level  5290 non-null   float64\n",
      "dtypes: float64(52), object(1)\n",
      "memory usage: 2.1+ MB\n",
      "None\n",
      "\n",
      "<class 'pandas.core.frame.DataFrame'>\n",
      "RangeIndex: 19439 entries, 0 to 19438\n",
      "Data columns (total 87 columns):\n",
      " #   Column                                              Non-Null Count  Dtype  \n",
      "---  ------                                              --------------  -----  \n",
      " 0   date                                                19439 non-null  object \n",
      " 1   final.output.concentrate_ag                         19438 non-null  float64\n",
      " 2   final.output.concentrate_pb                         19438 non-null  float64\n",
      " 3   final.output.concentrate_sol                        19228 non-null  float64\n",
      " 4   final.output.concentrate_au                         19439 non-null  float64\n",
      " 5   final.output.recovery                               19439 non-null  float64\n",
      " 6   final.output.tail_ag                                19438 non-null  float64\n",
      " 7   final.output.tail_pb                                19338 non-null  float64\n",
      " 8   final.output.tail_sol                               19433 non-null  float64\n",
      " 9   final.output.tail_au                                19439 non-null  float64\n",
      " 10  primary_cleaner.input.sulfate                       19415 non-null  float64\n",
      " 11  primary_cleaner.input.depressant                    19402 non-null  float64\n",
      " 12  primary_cleaner.input.feed_size                     19439 non-null  float64\n",
      " 13  primary_cleaner.input.xanthate                      19335 non-null  float64\n",
      " 14  primary_cleaner.output.concentrate_ag               19439 non-null  float64\n",
      " 15  primary_cleaner.output.concentrate_pb               19323 non-null  float64\n",
      " 16  primary_cleaner.output.concentrate_sol              19069 non-null  float64\n",
      " 17  primary_cleaner.output.concentrate_au               19439 non-null  float64\n",
      " 18  primary_cleaner.output.tail_ag                      19435 non-null  float64\n",
      " 19  primary_cleaner.output.tail_pb                      19418 non-null  float64\n",
      " 20  primary_cleaner.output.tail_sol                     19377 non-null  float64\n",
      " 21  primary_cleaner.output.tail_au                      19439 non-null  float64\n",
      " 22  primary_cleaner.state.floatbank8_a_air              19435 non-null  float64\n",
      " 23  primary_cleaner.state.floatbank8_a_level            19438 non-null  float64\n",
      " 24  primary_cleaner.state.floatbank8_b_air              19435 non-null  float64\n",
      " 25  primary_cleaner.state.floatbank8_b_level            19438 non-null  float64\n",
      " 26  primary_cleaner.state.floatbank8_c_air              19437 non-null  float64\n",
      " 27  primary_cleaner.state.floatbank8_c_level            19438 non-null  float64\n",
      " 28  primary_cleaner.state.floatbank8_d_air              19436 non-null  float64\n",
      " 29  primary_cleaner.state.floatbank8_d_level            19438 non-null  float64\n",
      " 30  rougher.calculation.sulfate_to_au_concentrate       19437 non-null  float64\n",
      " 31  rougher.calculation.floatbank10_sulfate_to_au_feed  19437 non-null  float64\n",
      " 32  rougher.calculation.floatbank11_sulfate_to_au_feed  19437 non-null  float64\n",
      " 33  rougher.calculation.au_pb_ratio                     19439 non-null  float64\n",
      " 34  rougher.input.feed_ag                               19439 non-null  float64\n",
      " 35  rougher.input.feed_pb                               19339 non-null  float64\n",
      " 36  rougher.input.feed_rate                             19428 non-null  float64\n",
      " 37  rougher.input.feed_size                             19294 non-null  float64\n",
      " 38  rougher.input.feed_sol                              19340 non-null  float64\n",
      " 39  rougher.input.feed_au                               19439 non-null  float64\n",
      " 40  rougher.input.floatbank10_sulfate                   19405 non-null  float64\n",
      " 41  rougher.input.floatbank10_xanthate                  19431 non-null  float64\n",
      " 42  rougher.input.floatbank11_sulfate                   19395 non-null  float64\n",
      " 43  rougher.input.floatbank11_xanthate                  18986 non-null  float64\n",
      " 44  rougher.output.concentrate_ag                       19439 non-null  float64\n",
      " 45  rougher.output.concentrate_pb                       19439 non-null  float64\n",
      " 46  rougher.output.concentrate_sol                      19416 non-null  float64\n",
      " 47  rougher.output.concentrate_au                       19439 non-null  float64\n",
      " 48  rougher.output.recovery                             19439 non-null  float64\n",
      " 49  rougher.output.tail_ag                              19438 non-null  float64\n",
      " 50  rougher.output.tail_pb                              19439 non-null  float64\n",
      " 51  rougher.output.tail_sol                             19439 non-null  float64\n",
      " 52  rougher.output.tail_au                              19439 non-null  float64\n",
      " 53  rougher.state.floatbank10_a_air                     19438 non-null  float64\n",
      " 54  rougher.state.floatbank10_a_level                   19438 non-null  float64\n",
      " 55  rougher.state.floatbank10_b_air                     19438 non-null  float64\n",
      " 56  rougher.state.floatbank10_b_level                   19438 non-null  float64\n",
      " 57  rougher.state.floatbank10_c_air                     19438 non-null  float64\n",
      " 58  rougher.state.floatbank10_c_level                   19438 non-null  float64\n",
      " 59  rougher.state.floatbank10_d_air                     19439 non-null  float64\n",
      " 60  rougher.state.floatbank10_d_level                   19439 non-null  float64\n",
      " 61  rougher.state.floatbank10_e_air                     19003 non-null  float64\n",
      " 62  rougher.state.floatbank10_e_level                   19439 non-null  float64\n",
      " 63  rougher.state.floatbank10_f_air                     19439 non-null  float64\n",
      " 64  rougher.state.floatbank10_f_level                   19439 non-null  float64\n",
      " 65  secondary_cleaner.output.tail_ag                    19437 non-null  float64\n",
      " 66  secondary_cleaner.output.tail_pb                    19427 non-null  float64\n",
      " 67  secondary_cleaner.output.tail_sol                   17691 non-null  float64\n",
      " 68  secondary_cleaner.output.tail_au                    19439 non-null  float64\n",
      " 69  secondary_cleaner.state.floatbank2_a_air            19219 non-null  float64\n",
      " 70  secondary_cleaner.state.floatbank2_a_level          19438 non-null  float64\n",
      " 71  secondary_cleaner.state.floatbank2_b_air            19416 non-null  float64\n",
      " 72  secondary_cleaner.state.floatbank2_b_level          19438 non-null  float64\n",
      " 73  secondary_cleaner.state.floatbank3_a_air            19426 non-null  float64\n",
      " 74  secondary_cleaner.state.floatbank3_a_level          19438 non-null  float64\n",
      " 75  secondary_cleaner.state.floatbank3_b_air            19438 non-null  float64\n",
      " 76  secondary_cleaner.state.floatbank3_b_level          19438 non-null  float64\n",
      " 77  secondary_cleaner.state.floatbank4_a_air            19433 non-null  float64\n",
      " 78  secondary_cleaner.state.floatbank4_a_level          19438 non-null  float64\n",
      " 79  secondary_cleaner.state.floatbank4_b_air            19438 non-null  float64\n",
      " 80  secondary_cleaner.state.floatbank4_b_level          19438 non-null  float64\n",
      " 81  secondary_cleaner.state.floatbank5_a_air            19438 non-null  float64\n",
      " 82  secondary_cleaner.state.floatbank5_a_level          19438 non-null  float64\n",
      " 83  secondary_cleaner.state.floatbank5_b_air            19438 non-null  float64\n",
      " 84  secondary_cleaner.state.floatbank5_b_level          19438 non-null  float64\n",
      " 85  secondary_cleaner.state.floatbank6_a_air            19437 non-null  float64\n",
      " 86  secondary_cleaner.state.floatbank6_a_level          19438 non-null  float64\n",
      "dtypes: float64(86), object(1)\n",
      "memory usage: 12.9+ MB\n",
      "None\n",
      "\n"
     ]
    }
   ],
   "source": [
    "# напечатать данные\n",
    "for item in data:\n",
    "    print(item.info())\n",
    "    print()"
   ]
  },
  {
   "cell_type": "code",
   "execution_count": 7,
   "metadata": {},
   "outputs": [],
   "source": [
    "# изменить тип данных\n",
    "for i in data:\n",
    "    i['date'] = pd.to_datetime(i['date'])"
   ]
  },
  {
   "cell_type": "code",
   "execution_count": 8,
   "metadata": {},
   "outputs": [
    {
     "data": {
      "text/html": [
       "<div>\n",
       "<style scoped>\n",
       "    .dataframe tbody tr th:only-of-type {\n",
       "        vertical-align: middle;\n",
       "    }\n",
       "\n",
       "    .dataframe tbody tr th {\n",
       "        vertical-align: top;\n",
       "    }\n",
       "\n",
       "    .dataframe thead th {\n",
       "        text-align: right;\n",
       "    }\n",
       "</style>\n",
       "<table border=\"1\" class=\"dataframe\">\n",
       "  <thead>\n",
       "    <tr style=\"text-align: right;\">\n",
       "      <th></th>\n",
       "      <th>final.output.concentrate_ag</th>\n",
       "      <th>final.output.concentrate_pb</th>\n",
       "      <th>final.output.concentrate_sol</th>\n",
       "      <th>final.output.concentrate_au</th>\n",
       "      <th>final.output.recovery</th>\n",
       "      <th>final.output.tail_ag</th>\n",
       "      <th>final.output.tail_pb</th>\n",
       "      <th>final.output.tail_sol</th>\n",
       "      <th>final.output.tail_au</th>\n",
       "      <th>primary_cleaner.input.sulfate</th>\n",
       "      <th>...</th>\n",
       "      <th>secondary_cleaner.state.floatbank4_a_air</th>\n",
       "      <th>secondary_cleaner.state.floatbank4_a_level</th>\n",
       "      <th>secondary_cleaner.state.floatbank4_b_air</th>\n",
       "      <th>secondary_cleaner.state.floatbank4_b_level</th>\n",
       "      <th>secondary_cleaner.state.floatbank5_a_air</th>\n",
       "      <th>secondary_cleaner.state.floatbank5_a_level</th>\n",
       "      <th>secondary_cleaner.state.floatbank5_b_air</th>\n",
       "      <th>secondary_cleaner.state.floatbank5_b_level</th>\n",
       "      <th>secondary_cleaner.state.floatbank6_a_air</th>\n",
       "      <th>secondary_cleaner.state.floatbank6_a_level</th>\n",
       "    </tr>\n",
       "  </thead>\n",
       "  <tbody>\n",
       "    <tr>\n",
       "      <th>count</th>\n",
       "      <td>14148.000000</td>\n",
       "      <td>14148.000000</td>\n",
       "      <td>13938.000000</td>\n",
       "      <td>14149.000000</td>\n",
       "      <td>14149.000000</td>\n",
       "      <td>14149.000000</td>\n",
       "      <td>14049.000000</td>\n",
       "      <td>14144.000000</td>\n",
       "      <td>14149.000000</td>\n",
       "      <td>14129.000000</td>\n",
       "      <td>...</td>\n",
       "      <td>14143.000000</td>\n",
       "      <td>14148.000000</td>\n",
       "      <td>14148.000000</td>\n",
       "      <td>14148.000000</td>\n",
       "      <td>14148.000000</td>\n",
       "      <td>14148.000000</td>\n",
       "      <td>14148.000000</td>\n",
       "      <td>14148.000000</td>\n",
       "      <td>14147.000000</td>\n",
       "      <td>14148.000000</td>\n",
       "    </tr>\n",
       "    <tr>\n",
       "      <th>mean</th>\n",
       "      <td>5.142034</td>\n",
       "      <td>10.132960</td>\n",
       "      <td>9.202849</td>\n",
       "      <td>44.003792</td>\n",
       "      <td>66.518832</td>\n",
       "      <td>9.607035</td>\n",
       "      <td>2.597298</td>\n",
       "      <td>10.512122</td>\n",
       "      <td>2.918421</td>\n",
       "      <td>133.320659</td>\n",
       "      <td>...</td>\n",
       "      <td>19.985454</td>\n",
       "      <td>-478.696836</td>\n",
       "      <td>15.487065</td>\n",
       "      <td>-460.229416</td>\n",
       "      <td>16.775136</td>\n",
       "      <td>-483.956022</td>\n",
       "      <td>13.064590</td>\n",
       "      <td>-483.966564</td>\n",
       "      <td>19.577539</td>\n",
       "      <td>-506.798480</td>\n",
       "    </tr>\n",
       "    <tr>\n",
       "      <th>std</th>\n",
       "      <td>1.369586</td>\n",
       "      <td>1.654930</td>\n",
       "      <td>2.790516</td>\n",
       "      <td>4.905261</td>\n",
       "      <td>10.295402</td>\n",
       "      <td>2.319069</td>\n",
       "      <td>0.971843</td>\n",
       "      <td>3.003617</td>\n",
       "      <td>0.903712</td>\n",
       "      <td>39.431659</td>\n",
       "      <td>...</td>\n",
       "      <td>5.657723</td>\n",
       "      <td>50.736021</td>\n",
       "      <td>5.255655</td>\n",
       "      <td>58.843586</td>\n",
       "      <td>5.831906</td>\n",
       "      <td>37.892788</td>\n",
       "      <td>5.765617</td>\n",
       "      <td>39.207913</td>\n",
       "      <td>5.764417</td>\n",
       "      <td>37.079249</td>\n",
       "    </tr>\n",
       "    <tr>\n",
       "      <th>min</th>\n",
       "      <td>0.000000</td>\n",
       "      <td>0.000000</td>\n",
       "      <td>0.000000</td>\n",
       "      <td>0.000000</td>\n",
       "      <td>0.000000</td>\n",
       "      <td>0.000000</td>\n",
       "      <td>0.000000</td>\n",
       "      <td>0.000000</td>\n",
       "      <td>0.000000</td>\n",
       "      <td>0.003112</td>\n",
       "      <td>...</td>\n",
       "      <td>0.000000</td>\n",
       "      <td>-799.709069</td>\n",
       "      <td>0.000000</td>\n",
       "      <td>-799.889113</td>\n",
       "      <td>-0.372054</td>\n",
       "      <td>-797.142475</td>\n",
       "      <td>0.646208</td>\n",
       "      <td>-800.006180</td>\n",
       "      <td>0.195324</td>\n",
       "      <td>-809.398668</td>\n",
       "    </tr>\n",
       "    <tr>\n",
       "      <th>25%</th>\n",
       "      <td>4.211620</td>\n",
       "      <td>9.297355</td>\n",
       "      <td>7.484645</td>\n",
       "      <td>43.276111</td>\n",
       "      <td>62.545817</td>\n",
       "      <td>7.997429</td>\n",
       "      <td>1.905973</td>\n",
       "      <td>8.811324</td>\n",
       "      <td>2.368607</td>\n",
       "      <td>107.006651</td>\n",
       "      <td>...</td>\n",
       "      <td>14.990775</td>\n",
       "      <td>-500.628656</td>\n",
       "      <td>11.894558</td>\n",
       "      <td>-500.149000</td>\n",
       "      <td>11.083980</td>\n",
       "      <td>-500.363177</td>\n",
       "      <td>8.994405</td>\n",
       "      <td>-500.105994</td>\n",
       "      <td>14.989304</td>\n",
       "      <td>-500.745104</td>\n",
       "    </tr>\n",
       "    <tr>\n",
       "      <th>50%</th>\n",
       "      <td>4.994652</td>\n",
       "      <td>10.297144</td>\n",
       "      <td>8.845462</td>\n",
       "      <td>44.872436</td>\n",
       "      <td>67.432775</td>\n",
       "      <td>9.480270</td>\n",
       "      <td>2.592022</td>\n",
       "      <td>10.514621</td>\n",
       "      <td>2.851025</td>\n",
       "      <td>133.018328</td>\n",
       "      <td>...</td>\n",
       "      <td>20.001789</td>\n",
       "      <td>-499.681450</td>\n",
       "      <td>14.975536</td>\n",
       "      <td>-499.388738</td>\n",
       "      <td>17.932223</td>\n",
       "      <td>-499.702452</td>\n",
       "      <td>11.997547</td>\n",
       "      <td>-499.914556</td>\n",
       "      <td>19.984175</td>\n",
       "      <td>-500.061431</td>\n",
       "    </tr>\n",
       "    <tr>\n",
       "      <th>75%</th>\n",
       "      <td>5.859540</td>\n",
       "      <td>11.170603</td>\n",
       "      <td>10.487508</td>\n",
       "      <td>46.166425</td>\n",
       "      <td>72.346428</td>\n",
       "      <td>11.003707</td>\n",
       "      <td>3.241723</td>\n",
       "      <td>11.933009</td>\n",
       "      <td>3.434764</td>\n",
       "      <td>159.825396</td>\n",
       "      <td>...</td>\n",
       "      <td>24.990826</td>\n",
       "      <td>-477.472413</td>\n",
       "      <td>20.059375</td>\n",
       "      <td>-400.039008</td>\n",
       "      <td>21.346550</td>\n",
       "      <td>-487.712108</td>\n",
       "      <td>17.982903</td>\n",
       "      <td>-453.186936</td>\n",
       "      <td>24.991623</td>\n",
       "      <td>-499.536466</td>\n",
       "    </tr>\n",
       "    <tr>\n",
       "      <th>max</th>\n",
       "      <td>16.001945</td>\n",
       "      <td>17.031899</td>\n",
       "      <td>18.124851</td>\n",
       "      <td>52.756638</td>\n",
       "      <td>100.000000</td>\n",
       "      <td>19.552149</td>\n",
       "      <td>5.639565</td>\n",
       "      <td>22.317730</td>\n",
       "      <td>8.197408</td>\n",
       "      <td>250.127834</td>\n",
       "      <td>...</td>\n",
       "      <td>30.115735</td>\n",
       "      <td>-245.239184</td>\n",
       "      <td>24.007913</td>\n",
       "      <td>-145.071088</td>\n",
       "      <td>43.709931</td>\n",
       "      <td>-275.073125</td>\n",
       "      <td>27.926001</td>\n",
       "      <td>-157.396071</td>\n",
       "      <td>32.188906</td>\n",
       "      <td>-104.427459</td>\n",
       "    </tr>\n",
       "  </tbody>\n",
       "</table>\n",
       "<p>8 rows × 86 columns</p>\n",
       "</div>"
      ],
      "text/plain": [
       "       final.output.concentrate_ag  final.output.concentrate_pb  \\\n",
       "count                 14148.000000                 14148.000000   \n",
       "mean                      5.142034                    10.132960   \n",
       "std                       1.369586                     1.654930   \n",
       "min                       0.000000                     0.000000   \n",
       "25%                       4.211620                     9.297355   \n",
       "50%                       4.994652                    10.297144   \n",
       "75%                       5.859540                    11.170603   \n",
       "max                      16.001945                    17.031899   \n",
       "\n",
       "       final.output.concentrate_sol  final.output.concentrate_au  \\\n",
       "count                  13938.000000                 14149.000000   \n",
       "mean                       9.202849                    44.003792   \n",
       "std                        2.790516                     4.905261   \n",
       "min                        0.000000                     0.000000   \n",
       "25%                        7.484645                    43.276111   \n",
       "50%                        8.845462                    44.872436   \n",
       "75%                       10.487508                    46.166425   \n",
       "max                       18.124851                    52.756638   \n",
       "\n",
       "       final.output.recovery  final.output.tail_ag  final.output.tail_pb  \\\n",
       "count           14149.000000          14149.000000          14049.000000   \n",
       "mean               66.518832              9.607035              2.597298   \n",
       "std                10.295402              2.319069              0.971843   \n",
       "min                 0.000000              0.000000              0.000000   \n",
       "25%                62.545817              7.997429              1.905973   \n",
       "50%                67.432775              9.480270              2.592022   \n",
       "75%                72.346428             11.003707              3.241723   \n",
       "max               100.000000             19.552149              5.639565   \n",
       "\n",
       "       final.output.tail_sol  final.output.tail_au  \\\n",
       "count           14144.000000          14149.000000   \n",
       "mean               10.512122              2.918421   \n",
       "std                 3.003617              0.903712   \n",
       "min                 0.000000              0.000000   \n",
       "25%                 8.811324              2.368607   \n",
       "50%                10.514621              2.851025   \n",
       "75%                11.933009              3.434764   \n",
       "max                22.317730              8.197408   \n",
       "\n",
       "       primary_cleaner.input.sulfate  ...  \\\n",
       "count                   14129.000000  ...   \n",
       "mean                      133.320659  ...   \n",
       "std                        39.431659  ...   \n",
       "min                         0.003112  ...   \n",
       "25%                       107.006651  ...   \n",
       "50%                       133.018328  ...   \n",
       "75%                       159.825396  ...   \n",
       "max                       250.127834  ...   \n",
       "\n",
       "       secondary_cleaner.state.floatbank4_a_air  \\\n",
       "count                              14143.000000   \n",
       "mean                                  19.985454   \n",
       "std                                    5.657723   \n",
       "min                                    0.000000   \n",
       "25%                                   14.990775   \n",
       "50%                                   20.001789   \n",
       "75%                                   24.990826   \n",
       "max                                   30.115735   \n",
       "\n",
       "       secondary_cleaner.state.floatbank4_a_level  \\\n",
       "count                                14148.000000   \n",
       "mean                                  -478.696836   \n",
       "std                                     50.736021   \n",
       "min                                   -799.709069   \n",
       "25%                                   -500.628656   \n",
       "50%                                   -499.681450   \n",
       "75%                                   -477.472413   \n",
       "max                                   -245.239184   \n",
       "\n",
       "       secondary_cleaner.state.floatbank4_b_air  \\\n",
       "count                              14148.000000   \n",
       "mean                                  15.487065   \n",
       "std                                    5.255655   \n",
       "min                                    0.000000   \n",
       "25%                                   11.894558   \n",
       "50%                                   14.975536   \n",
       "75%                                   20.059375   \n",
       "max                                   24.007913   \n",
       "\n",
       "       secondary_cleaner.state.floatbank4_b_level  \\\n",
       "count                                14148.000000   \n",
       "mean                                  -460.229416   \n",
       "std                                     58.843586   \n",
       "min                                   -799.889113   \n",
       "25%                                   -500.149000   \n",
       "50%                                   -499.388738   \n",
       "75%                                   -400.039008   \n",
       "max                                   -145.071088   \n",
       "\n",
       "       secondary_cleaner.state.floatbank5_a_air  \\\n",
       "count                              14148.000000   \n",
       "mean                                  16.775136   \n",
       "std                                    5.831906   \n",
       "min                                   -0.372054   \n",
       "25%                                   11.083980   \n",
       "50%                                   17.932223   \n",
       "75%                                   21.346550   \n",
       "max                                   43.709931   \n",
       "\n",
       "       secondary_cleaner.state.floatbank5_a_level  \\\n",
       "count                                14148.000000   \n",
       "mean                                  -483.956022   \n",
       "std                                     37.892788   \n",
       "min                                   -797.142475   \n",
       "25%                                   -500.363177   \n",
       "50%                                   -499.702452   \n",
       "75%                                   -487.712108   \n",
       "max                                   -275.073125   \n",
       "\n",
       "       secondary_cleaner.state.floatbank5_b_air  \\\n",
       "count                              14148.000000   \n",
       "mean                                  13.064590   \n",
       "std                                    5.765617   \n",
       "min                                    0.646208   \n",
       "25%                                    8.994405   \n",
       "50%                                   11.997547   \n",
       "75%                                   17.982903   \n",
       "max                                   27.926001   \n",
       "\n",
       "       secondary_cleaner.state.floatbank5_b_level  \\\n",
       "count                                14148.000000   \n",
       "mean                                  -483.966564   \n",
       "std                                     39.207913   \n",
       "min                                   -800.006180   \n",
       "25%                                   -500.105994   \n",
       "50%                                   -499.914556   \n",
       "75%                                   -453.186936   \n",
       "max                                   -157.396071   \n",
       "\n",
       "       secondary_cleaner.state.floatbank6_a_air  \\\n",
       "count                              14147.000000   \n",
       "mean                                  19.577539   \n",
       "std                                    5.764417   \n",
       "min                                    0.195324   \n",
       "25%                                   14.989304   \n",
       "50%                                   19.984175   \n",
       "75%                                   24.991623   \n",
       "max                                   32.188906   \n",
       "\n",
       "       secondary_cleaner.state.floatbank6_a_level  \n",
       "count                                14148.000000  \n",
       "mean                                  -506.798480  \n",
       "std                                     37.079249  \n",
       "min                                   -809.398668  \n",
       "25%                                   -500.745104  \n",
       "50%                                   -500.061431  \n",
       "75%                                   -499.536466  \n",
       "max                                   -104.427459  \n",
       "\n",
       "[8 rows x 86 columns]"
      ]
     },
     "metadata": {},
     "output_type": "display_data"
    },
    {
     "data": {
      "text/html": [
       "<div>\n",
       "<style scoped>\n",
       "    .dataframe tbody tr th:only-of-type {\n",
       "        vertical-align: middle;\n",
       "    }\n",
       "\n",
       "    .dataframe tbody tr th {\n",
       "        vertical-align: top;\n",
       "    }\n",
       "\n",
       "    .dataframe thead th {\n",
       "        text-align: right;\n",
       "    }\n",
       "</style>\n",
       "<table border=\"1\" class=\"dataframe\">\n",
       "  <thead>\n",
       "    <tr style=\"text-align: right;\">\n",
       "      <th></th>\n",
       "      <th>primary_cleaner.input.sulfate</th>\n",
       "      <th>primary_cleaner.input.depressant</th>\n",
       "      <th>primary_cleaner.input.feed_size</th>\n",
       "      <th>primary_cleaner.input.xanthate</th>\n",
       "      <th>primary_cleaner.state.floatbank8_a_air</th>\n",
       "      <th>primary_cleaner.state.floatbank8_a_level</th>\n",
       "      <th>primary_cleaner.state.floatbank8_b_air</th>\n",
       "      <th>primary_cleaner.state.floatbank8_b_level</th>\n",
       "      <th>primary_cleaner.state.floatbank8_c_air</th>\n",
       "      <th>primary_cleaner.state.floatbank8_c_level</th>\n",
       "      <th>...</th>\n",
       "      <th>secondary_cleaner.state.floatbank4_a_air</th>\n",
       "      <th>secondary_cleaner.state.floatbank4_a_level</th>\n",
       "      <th>secondary_cleaner.state.floatbank4_b_air</th>\n",
       "      <th>secondary_cleaner.state.floatbank4_b_level</th>\n",
       "      <th>secondary_cleaner.state.floatbank5_a_air</th>\n",
       "      <th>secondary_cleaner.state.floatbank5_a_level</th>\n",
       "      <th>secondary_cleaner.state.floatbank5_b_air</th>\n",
       "      <th>secondary_cleaner.state.floatbank5_b_level</th>\n",
       "      <th>secondary_cleaner.state.floatbank6_a_air</th>\n",
       "      <th>secondary_cleaner.state.floatbank6_a_level</th>\n",
       "    </tr>\n",
       "  </thead>\n",
       "  <tbody>\n",
       "    <tr>\n",
       "      <th>count</th>\n",
       "      <td>5286.000000</td>\n",
       "      <td>5285.000000</td>\n",
       "      <td>5290.000000</td>\n",
       "      <td>5286.000000</td>\n",
       "      <td>5.290000e+03</td>\n",
       "      <td>5290.000000</td>\n",
       "      <td>5.290000e+03</td>\n",
       "      <td>5290.000000</td>\n",
       "      <td>5.290000e+03</td>\n",
       "      <td>5290.000000</td>\n",
       "      <td>...</td>\n",
       "      <td>5.290000e+03</td>\n",
       "      <td>5290.000000</td>\n",
       "      <td>5.290000e+03</td>\n",
       "      <td>5290.000000</td>\n",
       "      <td>5290.000000</td>\n",
       "      <td>5290.000000</td>\n",
       "      <td>5290.000000</td>\n",
       "      <td>5290.000000</td>\n",
       "      <td>5290.000000</td>\n",
       "      <td>5290.000000</td>\n",
       "    </tr>\n",
       "    <tr>\n",
       "      <th>mean</th>\n",
       "      <td>174.839652</td>\n",
       "      <td>8.683596</td>\n",
       "      <td>7.266339</td>\n",
       "      <td>1.383803</td>\n",
       "      <td>1.539494e+03</td>\n",
       "      <td>-497.665883</td>\n",
       "      <td>1.545174e+03</td>\n",
       "      <td>-500.273098</td>\n",
       "      <td>1.527272e+03</td>\n",
       "      <td>-498.330680</td>\n",
       "      <td>...</td>\n",
       "      <td>1.632007e+01</td>\n",
       "      <td>-505.144570</td>\n",
       "      <td>1.373544e+01</td>\n",
       "      <td>-463.349858</td>\n",
       "      <td>12.804186</td>\n",
       "      <td>-501.329122</td>\n",
       "      <td>9.881145</td>\n",
       "      <td>-495.663398</td>\n",
       "      <td>17.304935</td>\n",
       "      <td>-501.793193</td>\n",
       "    </tr>\n",
       "    <tr>\n",
       "      <th>std</th>\n",
       "      <td>43.027080</td>\n",
       "      <td>3.072050</td>\n",
       "      <td>0.610219</td>\n",
       "      <td>0.643474</td>\n",
       "      <td>1.167979e+02</td>\n",
       "      <td>19.952431</td>\n",
       "      <td>1.222246e+02</td>\n",
       "      <td>32.968307</td>\n",
       "      <td>1.225380e+02</td>\n",
       "      <td>21.964876</td>\n",
       "      <td>...</td>\n",
       "      <td>3.493583e+00</td>\n",
       "      <td>31.427337</td>\n",
       "      <td>3.430484e+00</td>\n",
       "      <td>86.189107</td>\n",
       "      <td>3.026591</td>\n",
       "      <td>17.951495</td>\n",
       "      <td>2.868205</td>\n",
       "      <td>34.535007</td>\n",
       "      <td>4.536544</td>\n",
       "      <td>39.044215</td>\n",
       "    </tr>\n",
       "    <tr>\n",
       "      <th>min</th>\n",
       "      <td>2.566156</td>\n",
       "      <td>0.003839</td>\n",
       "      <td>5.650000</td>\n",
       "      <td>0.004984</td>\n",
       "      <td>5.445860e-32</td>\n",
       "      <td>-795.316337</td>\n",
       "      <td>6.647490e-32</td>\n",
       "      <td>-799.997015</td>\n",
       "      <td>4.033736e-32</td>\n",
       "      <td>-799.960571</td>\n",
       "      <td>...</td>\n",
       "      <td>1.079872e-16</td>\n",
       "      <td>-799.798523</td>\n",
       "      <td>2.489718e-17</td>\n",
       "      <td>-800.836914</td>\n",
       "      <td>0.069227</td>\n",
       "      <td>-797.323986</td>\n",
       "      <td>0.528083</td>\n",
       "      <td>-800.220337</td>\n",
       "      <td>-0.079426</td>\n",
       "      <td>-809.741464</td>\n",
       "    </tr>\n",
       "    <tr>\n",
       "      <th>25%</th>\n",
       "      <td>147.121401</td>\n",
       "      <td>6.489555</td>\n",
       "      <td>6.890000</td>\n",
       "      <td>0.907623</td>\n",
       "      <td>1.498936e+03</td>\n",
       "      <td>-500.357298</td>\n",
       "      <td>1.498971e+03</td>\n",
       "      <td>-500.703002</td>\n",
       "      <td>1.473230e+03</td>\n",
       "      <td>-501.018117</td>\n",
       "      <td>...</td>\n",
       "      <td>1.403618e+01</td>\n",
       "      <td>-500.868258</td>\n",
       "      <td>1.202862e+01</td>\n",
       "      <td>-500.323028</td>\n",
       "      <td>10.914838</td>\n",
       "      <td>-500.726841</td>\n",
       "      <td>8.036719</td>\n",
       "      <td>-500.194668</td>\n",
       "      <td>13.997317</td>\n",
       "      <td>-500.690984</td>\n",
       "    </tr>\n",
       "    <tr>\n",
       "      <th>50%</th>\n",
       "      <td>177.828489</td>\n",
       "      <td>8.052207</td>\n",
       "      <td>7.250000</td>\n",
       "      <td>1.197610</td>\n",
       "      <td>1.585129e+03</td>\n",
       "      <td>-499.969164</td>\n",
       "      <td>1.595622e+03</td>\n",
       "      <td>-500.028514</td>\n",
       "      <td>1.549595e+03</td>\n",
       "      <td>-500.017711</td>\n",
       "      <td>...</td>\n",
       "      <td>1.700847e+01</td>\n",
       "      <td>-500.115727</td>\n",
       "      <td>1.496486e+01</td>\n",
       "      <td>-499.576513</td>\n",
       "      <td>12.954182</td>\n",
       "      <td>-499.990332</td>\n",
       "      <td>10.004301</td>\n",
       "      <td>-499.990535</td>\n",
       "      <td>16.014935</td>\n",
       "      <td>-500.007126</td>\n",
       "    </tr>\n",
       "    <tr>\n",
       "      <th>75%</th>\n",
       "      <td>208.125438</td>\n",
       "      <td>10.027764</td>\n",
       "      <td>7.600000</td>\n",
       "      <td>1.797819</td>\n",
       "      <td>1.602077e+03</td>\n",
       "      <td>-499.568951</td>\n",
       "      <td>1.602324e+03</td>\n",
       "      <td>-499.293257</td>\n",
       "      <td>1.601144e+03</td>\n",
       "      <td>-498.994130</td>\n",
       "      <td>...</td>\n",
       "      <td>1.803862e+01</td>\n",
       "      <td>-499.404224</td>\n",
       "      <td>1.596213e+01</td>\n",
       "      <td>-400.933805</td>\n",
       "      <td>15.097528</td>\n",
       "      <td>-499.283191</td>\n",
       "      <td>11.997467</td>\n",
       "      <td>-499.719913</td>\n",
       "      <td>21.020013</td>\n",
       "      <td>-499.373018</td>\n",
       "    </tr>\n",
       "    <tr>\n",
       "      <th>max</th>\n",
       "      <td>265.983123</td>\n",
       "      <td>40.000000</td>\n",
       "      <td>15.500000</td>\n",
       "      <td>4.102454</td>\n",
       "      <td>2.103104e+03</td>\n",
       "      <td>-57.195404</td>\n",
       "      <td>1.813084e+03</td>\n",
       "      <td>-142.527229</td>\n",
       "      <td>1.715054e+03</td>\n",
       "      <td>-150.937035</td>\n",
       "      <td>...</td>\n",
       "      <td>3.005180e+01</td>\n",
       "      <td>-401.565212</td>\n",
       "      <td>3.126971e+01</td>\n",
       "      <td>-6.506986</td>\n",
       "      <td>25.258848</td>\n",
       "      <td>-244.483566</td>\n",
       "      <td>14.086866</td>\n",
       "      <td>-137.740004</td>\n",
       "      <td>26.705889</td>\n",
       "      <td>-123.307487</td>\n",
       "    </tr>\n",
       "  </tbody>\n",
       "</table>\n",
       "<p>8 rows × 52 columns</p>\n",
       "</div>"
      ],
      "text/plain": [
       "       primary_cleaner.input.sulfate  primary_cleaner.input.depressant  \\\n",
       "count                    5286.000000                       5285.000000   \n",
       "mean                      174.839652                          8.683596   \n",
       "std                        43.027080                          3.072050   \n",
       "min                         2.566156                          0.003839   \n",
       "25%                       147.121401                          6.489555   \n",
       "50%                       177.828489                          8.052207   \n",
       "75%                       208.125438                         10.027764   \n",
       "max                       265.983123                         40.000000   \n",
       "\n",
       "       primary_cleaner.input.feed_size  primary_cleaner.input.xanthate  \\\n",
       "count                      5290.000000                     5286.000000   \n",
       "mean                          7.266339                        1.383803   \n",
       "std                           0.610219                        0.643474   \n",
       "min                           5.650000                        0.004984   \n",
       "25%                           6.890000                        0.907623   \n",
       "50%                           7.250000                        1.197610   \n",
       "75%                           7.600000                        1.797819   \n",
       "max                          15.500000                        4.102454   \n",
       "\n",
       "       primary_cleaner.state.floatbank8_a_air  \\\n",
       "count                            5.290000e+03   \n",
       "mean                             1.539494e+03   \n",
       "std                              1.167979e+02   \n",
       "min                              5.445860e-32   \n",
       "25%                              1.498936e+03   \n",
       "50%                              1.585129e+03   \n",
       "75%                              1.602077e+03   \n",
       "max                              2.103104e+03   \n",
       "\n",
       "       primary_cleaner.state.floatbank8_a_level  \\\n",
       "count                               5290.000000   \n",
       "mean                                -497.665883   \n",
       "std                                   19.952431   \n",
       "min                                 -795.316337   \n",
       "25%                                 -500.357298   \n",
       "50%                                 -499.969164   \n",
       "75%                                 -499.568951   \n",
       "max                                  -57.195404   \n",
       "\n",
       "       primary_cleaner.state.floatbank8_b_air  \\\n",
       "count                            5.290000e+03   \n",
       "mean                             1.545174e+03   \n",
       "std                              1.222246e+02   \n",
       "min                              6.647490e-32   \n",
       "25%                              1.498971e+03   \n",
       "50%                              1.595622e+03   \n",
       "75%                              1.602324e+03   \n",
       "max                              1.813084e+03   \n",
       "\n",
       "       primary_cleaner.state.floatbank8_b_level  \\\n",
       "count                               5290.000000   \n",
       "mean                                -500.273098   \n",
       "std                                   32.968307   \n",
       "min                                 -799.997015   \n",
       "25%                                 -500.703002   \n",
       "50%                                 -500.028514   \n",
       "75%                                 -499.293257   \n",
       "max                                 -142.527229   \n",
       "\n",
       "       primary_cleaner.state.floatbank8_c_air  \\\n",
       "count                            5.290000e+03   \n",
       "mean                             1.527272e+03   \n",
       "std                              1.225380e+02   \n",
       "min                              4.033736e-32   \n",
       "25%                              1.473230e+03   \n",
       "50%                              1.549595e+03   \n",
       "75%                              1.601144e+03   \n",
       "max                              1.715054e+03   \n",
       "\n",
       "       primary_cleaner.state.floatbank8_c_level  ...  \\\n",
       "count                               5290.000000  ...   \n",
       "mean                                -498.330680  ...   \n",
       "std                                   21.964876  ...   \n",
       "min                                 -799.960571  ...   \n",
       "25%                                 -501.018117  ...   \n",
       "50%                                 -500.017711  ...   \n",
       "75%                                 -498.994130  ...   \n",
       "max                                 -150.937035  ...   \n",
       "\n",
       "       secondary_cleaner.state.floatbank4_a_air  \\\n",
       "count                              5.290000e+03   \n",
       "mean                               1.632007e+01   \n",
       "std                                3.493583e+00   \n",
       "min                                1.079872e-16   \n",
       "25%                                1.403618e+01   \n",
       "50%                                1.700847e+01   \n",
       "75%                                1.803862e+01   \n",
       "max                                3.005180e+01   \n",
       "\n",
       "       secondary_cleaner.state.floatbank4_a_level  \\\n",
       "count                                 5290.000000   \n",
       "mean                                  -505.144570   \n",
       "std                                     31.427337   \n",
       "min                                   -799.798523   \n",
       "25%                                   -500.868258   \n",
       "50%                                   -500.115727   \n",
       "75%                                   -499.404224   \n",
       "max                                   -401.565212   \n",
       "\n",
       "       secondary_cleaner.state.floatbank4_b_air  \\\n",
       "count                              5.290000e+03   \n",
       "mean                               1.373544e+01   \n",
       "std                                3.430484e+00   \n",
       "min                                2.489718e-17   \n",
       "25%                                1.202862e+01   \n",
       "50%                                1.496486e+01   \n",
       "75%                                1.596213e+01   \n",
       "max                                3.126971e+01   \n",
       "\n",
       "       secondary_cleaner.state.floatbank4_b_level  \\\n",
       "count                                 5290.000000   \n",
       "mean                                  -463.349858   \n",
       "std                                     86.189107   \n",
       "min                                   -800.836914   \n",
       "25%                                   -500.323028   \n",
       "50%                                   -499.576513   \n",
       "75%                                   -400.933805   \n",
       "max                                     -6.506986   \n",
       "\n",
       "       secondary_cleaner.state.floatbank5_a_air  \\\n",
       "count                               5290.000000   \n",
       "mean                                  12.804186   \n",
       "std                                    3.026591   \n",
       "min                                    0.069227   \n",
       "25%                                   10.914838   \n",
       "50%                                   12.954182   \n",
       "75%                                   15.097528   \n",
       "max                                   25.258848   \n",
       "\n",
       "       secondary_cleaner.state.floatbank5_a_level  \\\n",
       "count                                 5290.000000   \n",
       "mean                                  -501.329122   \n",
       "std                                     17.951495   \n",
       "min                                   -797.323986   \n",
       "25%                                   -500.726841   \n",
       "50%                                   -499.990332   \n",
       "75%                                   -499.283191   \n",
       "max                                   -244.483566   \n",
       "\n",
       "       secondary_cleaner.state.floatbank5_b_air  \\\n",
       "count                               5290.000000   \n",
       "mean                                   9.881145   \n",
       "std                                    2.868205   \n",
       "min                                    0.528083   \n",
       "25%                                    8.036719   \n",
       "50%                                   10.004301   \n",
       "75%                                   11.997467   \n",
       "max                                   14.086866   \n",
       "\n",
       "       secondary_cleaner.state.floatbank5_b_level  \\\n",
       "count                                 5290.000000   \n",
       "mean                                  -495.663398   \n",
       "std                                     34.535007   \n",
       "min                                   -800.220337   \n",
       "25%                                   -500.194668   \n",
       "50%                                   -499.990535   \n",
       "75%                                   -499.719913   \n",
       "max                                   -137.740004   \n",
       "\n",
       "       secondary_cleaner.state.floatbank6_a_air  \\\n",
       "count                               5290.000000   \n",
       "mean                                  17.304935   \n",
       "std                                    4.536544   \n",
       "min                                   -0.079426   \n",
       "25%                                   13.997317   \n",
       "50%                                   16.014935   \n",
       "75%                                   21.020013   \n",
       "max                                   26.705889   \n",
       "\n",
       "       secondary_cleaner.state.floatbank6_a_level  \n",
       "count                                 5290.000000  \n",
       "mean                                  -501.793193  \n",
       "std                                     39.044215  \n",
       "min                                   -809.741464  \n",
       "25%                                   -500.690984  \n",
       "50%                                   -500.007126  \n",
       "75%                                   -499.373018  \n",
       "max                                   -123.307487  \n",
       "\n",
       "[8 rows x 52 columns]"
      ]
     },
     "metadata": {},
     "output_type": "display_data"
    },
    {
     "data": {
      "text/html": [
       "<div>\n",
       "<style scoped>\n",
       "    .dataframe tbody tr th:only-of-type {\n",
       "        vertical-align: middle;\n",
       "    }\n",
       "\n",
       "    .dataframe tbody tr th {\n",
       "        vertical-align: top;\n",
       "    }\n",
       "\n",
       "    .dataframe thead th {\n",
       "        text-align: right;\n",
       "    }\n",
       "</style>\n",
       "<table border=\"1\" class=\"dataframe\">\n",
       "  <thead>\n",
       "    <tr style=\"text-align: right;\">\n",
       "      <th></th>\n",
       "      <th>final.output.concentrate_ag</th>\n",
       "      <th>final.output.concentrate_pb</th>\n",
       "      <th>final.output.concentrate_sol</th>\n",
       "      <th>final.output.concentrate_au</th>\n",
       "      <th>final.output.recovery</th>\n",
       "      <th>final.output.tail_ag</th>\n",
       "      <th>final.output.tail_pb</th>\n",
       "      <th>final.output.tail_sol</th>\n",
       "      <th>final.output.tail_au</th>\n",
       "      <th>primary_cleaner.input.sulfate</th>\n",
       "      <th>...</th>\n",
       "      <th>secondary_cleaner.state.floatbank4_a_air</th>\n",
       "      <th>secondary_cleaner.state.floatbank4_a_level</th>\n",
       "      <th>secondary_cleaner.state.floatbank4_b_air</th>\n",
       "      <th>secondary_cleaner.state.floatbank4_b_level</th>\n",
       "      <th>secondary_cleaner.state.floatbank5_a_air</th>\n",
       "      <th>secondary_cleaner.state.floatbank5_a_level</th>\n",
       "      <th>secondary_cleaner.state.floatbank5_b_air</th>\n",
       "      <th>secondary_cleaner.state.floatbank5_b_level</th>\n",
       "      <th>secondary_cleaner.state.floatbank6_a_air</th>\n",
       "      <th>secondary_cleaner.state.floatbank6_a_level</th>\n",
       "    </tr>\n",
       "  </thead>\n",
       "  <tbody>\n",
       "    <tr>\n",
       "      <th>count</th>\n",
       "      <td>19438.000000</td>\n",
       "      <td>19438.000000</td>\n",
       "      <td>19228.000000</td>\n",
       "      <td>19439.000000</td>\n",
       "      <td>19439.000000</td>\n",
       "      <td>19438.000000</td>\n",
       "      <td>19338.000000</td>\n",
       "      <td>19433.000000</td>\n",
       "      <td>19439.000000</td>\n",
       "      <td>19415.000000</td>\n",
       "      <td>...</td>\n",
       "      <td>19433.000000</td>\n",
       "      <td>19438.000000</td>\n",
       "      <td>19438.000000</td>\n",
       "      <td>19438.000000</td>\n",
       "      <td>19438.000000</td>\n",
       "      <td>19438.000000</td>\n",
       "      <td>19438.000000</td>\n",
       "      <td>19438.000000</td>\n",
       "      <td>19437.000000</td>\n",
       "      <td>19438.000000</td>\n",
       "    </tr>\n",
       "    <tr>\n",
       "      <th>mean</th>\n",
       "      <td>5.168470</td>\n",
       "      <td>9.978895</td>\n",
       "      <td>9.501224</td>\n",
       "      <td>44.076513</td>\n",
       "      <td>67.050208</td>\n",
       "      <td>9.688589</td>\n",
       "      <td>2.705795</td>\n",
       "      <td>10.583728</td>\n",
       "      <td>3.042467</td>\n",
       "      <td>144.624774</td>\n",
       "      <td>...</td>\n",
       "      <td>18.987674</td>\n",
       "      <td>-485.894516</td>\n",
       "      <td>15.010366</td>\n",
       "      <td>-461.078636</td>\n",
       "      <td>15.694452</td>\n",
       "      <td>-488.684065</td>\n",
       "      <td>12.198224</td>\n",
       "      <td>-487.149827</td>\n",
       "      <td>18.959024</td>\n",
       "      <td>-505.436305</td>\n",
       "    </tr>\n",
       "    <tr>\n",
       "      <th>std</th>\n",
       "      <td>1.372348</td>\n",
       "      <td>1.669240</td>\n",
       "      <td>2.787537</td>\n",
       "      <td>5.129784</td>\n",
       "      <td>10.125840</td>\n",
       "      <td>2.328642</td>\n",
       "      <td>0.949077</td>\n",
       "      <td>2.868782</td>\n",
       "      <td>0.922808</td>\n",
       "      <td>44.464071</td>\n",
       "      <td>...</td>\n",
       "      <td>5.411058</td>\n",
       "      <td>47.758570</td>\n",
       "      <td>4.890228</td>\n",
       "      <td>67.405524</td>\n",
       "      <td>5.510974</td>\n",
       "      <td>34.533396</td>\n",
       "      <td>5.333024</td>\n",
       "      <td>38.347312</td>\n",
       "      <td>5.550498</td>\n",
       "      <td>37.689057</td>\n",
       "    </tr>\n",
       "    <tr>\n",
       "      <th>min</th>\n",
       "      <td>0.000000</td>\n",
       "      <td>0.000000</td>\n",
       "      <td>0.000000</td>\n",
       "      <td>0.000000</td>\n",
       "      <td>0.000000</td>\n",
       "      <td>0.000000</td>\n",
       "      <td>0.000000</td>\n",
       "      <td>0.000000</td>\n",
       "      <td>0.000000</td>\n",
       "      <td>0.003112</td>\n",
       "      <td>...</td>\n",
       "      <td>0.000000</td>\n",
       "      <td>-799.798523</td>\n",
       "      <td>0.000000</td>\n",
       "      <td>-800.836914</td>\n",
       "      <td>-0.372054</td>\n",
       "      <td>-797.323986</td>\n",
       "      <td>0.528083</td>\n",
       "      <td>-800.220337</td>\n",
       "      <td>-0.079426</td>\n",
       "      <td>-809.741464</td>\n",
       "    </tr>\n",
       "    <tr>\n",
       "      <th>25%</th>\n",
       "      <td>4.251240</td>\n",
       "      <td>9.137262</td>\n",
       "      <td>7.722820</td>\n",
       "      <td>43.402215</td>\n",
       "      <td>63.299712</td>\n",
       "      <td>8.062878</td>\n",
       "      <td>2.040119</td>\n",
       "      <td>8.938947</td>\n",
       "      <td>2.461138</td>\n",
       "      <td>114.107029</td>\n",
       "      <td>...</td>\n",
       "      <td>14.975734</td>\n",
       "      <td>-500.704892</td>\n",
       "      <td>11.940294</td>\n",
       "      <td>-500.187742</td>\n",
       "      <td>10.988606</td>\n",
       "      <td>-500.458467</td>\n",
       "      <td>8.971105</td>\n",
       "      <td>-500.129462</td>\n",
       "      <td>14.983037</td>\n",
       "      <td>-500.728067</td>\n",
       "    </tr>\n",
       "    <tr>\n",
       "      <th>50%</th>\n",
       "      <td>5.066094</td>\n",
       "      <td>10.102433</td>\n",
       "      <td>9.218961</td>\n",
       "      <td>45.011244</td>\n",
       "      <td>68.172738</td>\n",
       "      <td>9.743623</td>\n",
       "      <td>2.748730</td>\n",
       "      <td>10.622456</td>\n",
       "      <td>2.984909</td>\n",
       "      <td>143.232103</td>\n",
       "      <td>...</td>\n",
       "      <td>18.017481</td>\n",
       "      <td>-499.837793</td>\n",
       "      <td>14.971014</td>\n",
       "      <td>-499.459786</td>\n",
       "      <td>15.000036</td>\n",
       "      <td>-499.802605</td>\n",
       "      <td>11.019433</td>\n",
       "      <td>-499.935317</td>\n",
       "      <td>19.960541</td>\n",
       "      <td>-500.048400</td>\n",
       "    </tr>\n",
       "    <tr>\n",
       "      <th>75%</th>\n",
       "      <td>5.895527</td>\n",
       "      <td>11.035769</td>\n",
       "      <td>10.947813</td>\n",
       "      <td>46.275313</td>\n",
       "      <td>72.686642</td>\n",
       "      <td>11.134294</td>\n",
       "      <td>3.333216</td>\n",
       "      <td>12.104271</td>\n",
       "      <td>3.571351</td>\n",
       "      <td>175.075656</td>\n",
       "      <td>...</td>\n",
       "      <td>23.012470</td>\n",
       "      <td>-498.249730</td>\n",
       "      <td>19.034162</td>\n",
       "      <td>-400.118106</td>\n",
       "      <td>18.026190</td>\n",
       "      <td>-498.384187</td>\n",
       "      <td>14.019088</td>\n",
       "      <td>-499.436708</td>\n",
       "      <td>24.003170</td>\n",
       "      <td>-499.495378</td>\n",
       "    </tr>\n",
       "    <tr>\n",
       "      <th>max</th>\n",
       "      <td>16.001945</td>\n",
       "      <td>17.031899</td>\n",
       "      <td>19.615720</td>\n",
       "      <td>52.756638</td>\n",
       "      <td>100.000000</td>\n",
       "      <td>19.552149</td>\n",
       "      <td>5.804178</td>\n",
       "      <td>22.317730</td>\n",
       "      <td>8.245022</td>\n",
       "      <td>265.983123</td>\n",
       "      <td>...</td>\n",
       "      <td>30.115735</td>\n",
       "      <td>-245.239184</td>\n",
       "      <td>31.269706</td>\n",
       "      <td>-6.506986</td>\n",
       "      <td>43.709931</td>\n",
       "      <td>-244.483566</td>\n",
       "      <td>27.926001</td>\n",
       "      <td>-137.740004</td>\n",
       "      <td>32.188906</td>\n",
       "      <td>-104.427459</td>\n",
       "    </tr>\n",
       "  </tbody>\n",
       "</table>\n",
       "<p>8 rows × 86 columns</p>\n",
       "</div>"
      ],
      "text/plain": [
       "       final.output.concentrate_ag  final.output.concentrate_pb  \\\n",
       "count                 19438.000000                 19438.000000   \n",
       "mean                      5.168470                     9.978895   \n",
       "std                       1.372348                     1.669240   \n",
       "min                       0.000000                     0.000000   \n",
       "25%                       4.251240                     9.137262   \n",
       "50%                       5.066094                    10.102433   \n",
       "75%                       5.895527                    11.035769   \n",
       "max                      16.001945                    17.031899   \n",
       "\n",
       "       final.output.concentrate_sol  final.output.concentrate_au  \\\n",
       "count                  19228.000000                 19439.000000   \n",
       "mean                       9.501224                    44.076513   \n",
       "std                        2.787537                     5.129784   \n",
       "min                        0.000000                     0.000000   \n",
       "25%                        7.722820                    43.402215   \n",
       "50%                        9.218961                    45.011244   \n",
       "75%                       10.947813                    46.275313   \n",
       "max                       19.615720                    52.756638   \n",
       "\n",
       "       final.output.recovery  final.output.tail_ag  final.output.tail_pb  \\\n",
       "count           19439.000000          19438.000000          19338.000000   \n",
       "mean               67.050208              9.688589              2.705795   \n",
       "std                10.125840              2.328642              0.949077   \n",
       "min                 0.000000              0.000000              0.000000   \n",
       "25%                63.299712              8.062878              2.040119   \n",
       "50%                68.172738              9.743623              2.748730   \n",
       "75%                72.686642             11.134294              3.333216   \n",
       "max               100.000000             19.552149              5.804178   \n",
       "\n",
       "       final.output.tail_sol  final.output.tail_au  \\\n",
       "count           19433.000000          19439.000000   \n",
       "mean               10.583728              3.042467   \n",
       "std                 2.868782              0.922808   \n",
       "min                 0.000000              0.000000   \n",
       "25%                 8.938947              2.461138   \n",
       "50%                10.622456              2.984909   \n",
       "75%                12.104271              3.571351   \n",
       "max                22.317730              8.245022   \n",
       "\n",
       "       primary_cleaner.input.sulfate  ...  \\\n",
       "count                   19415.000000  ...   \n",
       "mean                      144.624774  ...   \n",
       "std                        44.464071  ...   \n",
       "min                         0.003112  ...   \n",
       "25%                       114.107029  ...   \n",
       "50%                       143.232103  ...   \n",
       "75%                       175.075656  ...   \n",
       "max                       265.983123  ...   \n",
       "\n",
       "       secondary_cleaner.state.floatbank4_a_air  \\\n",
       "count                              19433.000000   \n",
       "mean                                  18.987674   \n",
       "std                                    5.411058   \n",
       "min                                    0.000000   \n",
       "25%                                   14.975734   \n",
       "50%                                   18.017481   \n",
       "75%                                   23.012470   \n",
       "max                                   30.115735   \n",
       "\n",
       "       secondary_cleaner.state.floatbank4_a_level  \\\n",
       "count                                19438.000000   \n",
       "mean                                  -485.894516   \n",
       "std                                     47.758570   \n",
       "min                                   -799.798523   \n",
       "25%                                   -500.704892   \n",
       "50%                                   -499.837793   \n",
       "75%                                   -498.249730   \n",
       "max                                   -245.239184   \n",
       "\n",
       "       secondary_cleaner.state.floatbank4_b_air  \\\n",
       "count                              19438.000000   \n",
       "mean                                  15.010366   \n",
       "std                                    4.890228   \n",
       "min                                    0.000000   \n",
       "25%                                   11.940294   \n",
       "50%                                   14.971014   \n",
       "75%                                   19.034162   \n",
       "max                                   31.269706   \n",
       "\n",
       "       secondary_cleaner.state.floatbank4_b_level  \\\n",
       "count                                19438.000000   \n",
       "mean                                  -461.078636   \n",
       "std                                     67.405524   \n",
       "min                                   -800.836914   \n",
       "25%                                   -500.187742   \n",
       "50%                                   -499.459786   \n",
       "75%                                   -400.118106   \n",
       "max                                     -6.506986   \n",
       "\n",
       "       secondary_cleaner.state.floatbank5_a_air  \\\n",
       "count                              19438.000000   \n",
       "mean                                  15.694452   \n",
       "std                                    5.510974   \n",
       "min                                   -0.372054   \n",
       "25%                                   10.988606   \n",
       "50%                                   15.000036   \n",
       "75%                                   18.026190   \n",
       "max                                   43.709931   \n",
       "\n",
       "       secondary_cleaner.state.floatbank5_a_level  \\\n",
       "count                                19438.000000   \n",
       "mean                                  -488.684065   \n",
       "std                                     34.533396   \n",
       "min                                   -797.323986   \n",
       "25%                                   -500.458467   \n",
       "50%                                   -499.802605   \n",
       "75%                                   -498.384187   \n",
       "max                                   -244.483566   \n",
       "\n",
       "       secondary_cleaner.state.floatbank5_b_air  \\\n",
       "count                              19438.000000   \n",
       "mean                                  12.198224   \n",
       "std                                    5.333024   \n",
       "min                                    0.528083   \n",
       "25%                                    8.971105   \n",
       "50%                                   11.019433   \n",
       "75%                                   14.019088   \n",
       "max                                   27.926001   \n",
       "\n",
       "       secondary_cleaner.state.floatbank5_b_level  \\\n",
       "count                                19438.000000   \n",
       "mean                                  -487.149827   \n",
       "std                                     38.347312   \n",
       "min                                   -800.220337   \n",
       "25%                                   -500.129462   \n",
       "50%                                   -499.935317   \n",
       "75%                                   -499.436708   \n",
       "max                                   -137.740004   \n",
       "\n",
       "       secondary_cleaner.state.floatbank6_a_air  \\\n",
       "count                              19437.000000   \n",
       "mean                                  18.959024   \n",
       "std                                    5.550498   \n",
       "min                                   -0.079426   \n",
       "25%                                   14.983037   \n",
       "50%                                   19.960541   \n",
       "75%                                   24.003170   \n",
       "max                                   32.188906   \n",
       "\n",
       "       secondary_cleaner.state.floatbank6_a_level  \n",
       "count                                19438.000000  \n",
       "mean                                  -505.436305  \n",
       "std                                     37.689057  \n",
       "min                                   -809.741464  \n",
       "25%                                   -500.728067  \n",
       "50%                                   -500.048400  \n",
       "75%                                   -499.495378  \n",
       "max                                   -104.427459  \n",
       "\n",
       "[8 rows x 86 columns]"
      ]
     },
     "metadata": {},
     "output_type": "display_data"
    }
   ],
   "source": [
    "# изучение данных: метод describe()\n",
    "for item in data:\n",
    "    display(item.describe())"
   ]
  },
  {
   "cell_type": "code",
   "execution_count": 9,
   "metadata": {},
   "outputs": [
    {
     "name": "stdout",
     "output_type": "stream",
     "text": [
      "Дубликатов нет\n",
      "Дубликатов нет\n",
      "Дубликатов нет\n"
     ]
    }
   ],
   "source": [
    "# поиск дубликатов\n",
    "for item in data:\n",
    "    if item.duplicated().sum() == 0:\n",
    "        print('Дубликатов нет')\n",
    "    else:\n",
    "        print(item.duplicated().sum())"
   ]
  },
  {
   "cell_type": "markdown",
   "metadata": {},
   "source": [
    "### Эффективность обогащения"
   ]
  },
  {
   "cell_type": "markdown",
   "metadata": {},
   "source": [
    "Эффективность обогащения рассчитывается по формуле:  \n",
    "  \n",
    "<code>Recovery = ((C * (F - T)) / (F * (C - T))) * 100%</code>  \n",
    "  \n",
    "где  \n",
    "C — доля золота в концентрате после флотации/очистки;  \n",
    "F — доля золота в сырье/концентрате до флотации/очистки;  \n",
    "T — доля золота в отвальных хвостах после флотации/очистки."
   ]
  },
  {
   "cell_type": "code",
   "execution_count": 10,
   "metadata": {},
   "outputs": [
    {
     "name": "stdout",
     "output_type": "stream",
     "text": [
      "0        87.107763\n",
      "1        86.843261\n",
      "2        86.842308\n",
      "3        87.226430\n",
      "4        86.688794\n",
      "           ...    \n",
      "14144    89.574376\n",
      "14145    87.724007\n",
      "14146    88.890579\n",
      "14147    89.858126\n",
      "14148    89.514960\n",
      "Length: 14149, dtype: float64\n",
      "Абсолютная средняя ошибка = 9.73512347450521e-15\n"
     ]
    }
   ],
   "source": [
    "C = data_train['rougher.output.concentrate_au']\n",
    "F = data_train['rougher.input.feed_au']\n",
    "T = data_train['rougher.output.tail_au']\n",
    "\n",
    "recovery_in_data = data_train['rougher.output.recovery']\n",
    "\n",
    "Recovery = ((C * (F - T)) / (F * (C - T))) * 100\n",
    "print(Recovery)\n",
    "print('Абсолютная средняя ошибка =', mean_absolute_error(recovery_in_data, Recovery))"
   ]
  },
  {
   "cell_type": "markdown",
   "metadata": {},
   "source": [
    "Данная метрика (MAE) выражается в натуральных единицах и имеет очень простой и понятный смысл. Степень применимости модели в таком случае можно очень просто понять исходя из предметной области. Посмотрим на максимальные значения <i>Recovery</i> в исходных данных."
   ]
  },
  {
   "cell_type": "code",
   "execution_count": 11,
   "metadata": {},
   "outputs": [
    {
     "data": {
      "text/plain": [
       "count    14149.000000\n",
       "mean        82.704502\n",
       "std         14.479156\n",
       "min          0.000000\n",
       "25%         79.993067\n",
       "50%         85.299462\n",
       "75%         90.165021\n",
       "max        100.000000\n",
       "Name: rougher.output.recovery, dtype: float64"
      ]
     },
     "execution_count": 11,
     "metadata": {},
     "output_type": "execute_result"
    }
   ],
   "source": [
    "data_train['rougher.output.recovery'].describe()"
   ]
  },
  {
   "cell_type": "markdown",
   "metadata": {},
   "source": [
    "Видим, что абсолютная средняя ошибка небольшая, поэтому можем сделать вывод, что модель эффективна."
   ]
  },
  {
   "cell_type": "markdown",
   "metadata": {},
   "source": [
    "### Признаки в тестовой выборке"
   ]
  },
  {
   "cell_type": "code",
   "execution_count": 12,
   "metadata": {},
   "outputs": [
    {
     "name": "stdout",
     "output_type": "stream",
     "text": [
      "Количество колонок в data_train 87\n",
      "Количество колонок в data_test 53\n",
      "secondary_cleaner.output.tail_au\n",
      "primary_cleaner.output.tail_ag\n",
      "final.output.tail_ag\n",
      "final.output.tail_pb\n",
      "rougher.output.tail_pb\n",
      "final.output.tail_au\n",
      "final.output.concentrate_au\n",
      "final.output.recovery\n",
      "rougher.calculation.floatbank10_sulfate_to_au_feed\n",
      "primary_cleaner.output.tail_pb\n",
      "primary_cleaner.output.concentrate_ag\n",
      "primary_cleaner.output.tail_au\n",
      "primary_cleaner.output.concentrate_au\n",
      "primary_cleaner.output.tail_sol\n",
      "rougher.calculation.floatbank11_sulfate_to_au_feed\n",
      "final.output.tail_sol\n",
      "rougher.output.concentrate_ag\n",
      "secondary_cleaner.output.tail_pb\n",
      "final.output.concentrate_pb\n",
      "secondary_cleaner.output.tail_sol\n",
      "rougher.output.tail_au\n",
      "rougher.output.recovery\n",
      "rougher.output.tail_ag\n",
      "primary_cleaner.output.concentrate_pb\n",
      "rougher.output.concentrate_au\n",
      "rougher.output.concentrate_pb\n",
      "rougher.output.tail_sol\n",
      "final.output.concentrate_sol\n",
      "rougher.calculation.au_pb_ratio\n",
      "final.output.concentrate_ag\n",
      "rougher.calculation.sulfate_to_au_concentrate\n",
      "primary_cleaner.output.concentrate_sol\n",
      "rougher.output.concentrate_sol\n",
      "secondary_cleaner.output.tail_ag\n"
     ]
    }
   ],
   "source": [
    "# уникальные названия колонок в data_train и data_test\n",
    "unique_train = data_train.columns.unique().sort_values(ascending=False)\n",
    "unique_test = data_test.columns.unique().sort_values(ascending=False)\n",
    "\n",
    "# напечатать количество уникальных значений\n",
    "print('Количество колонок в data_train', len(unique_train))\n",
    "print('Количество колонок в data_test', len(unique_test))\n",
    "\n",
    "# сравнить списки и вывести те, которых нет в data_test\n",
    "result = list(set(unique_train) ^ set(unique_test))\n",
    "for i in result:\n",
    "    print(i)"
   ]
  },
  {
   "cell_type": "markdown",
   "metadata": {},
   "source": [
    "В условиях было сказано, что \"некоторые параметры недоступны, потому что замеряются и/или рассчитываются значительно позже. Из-за этого в тестовой выборке отсутствуют некоторые признаки, которые могут быть в обучающей. Также в тестовом наборе нет целевых признаков\". Вероятно, некоторые столбцы отсутсвуют, так как заполняются позже."
   ]
  },
  {
   "cell_type": "markdown",
   "metadata": {},
   "source": [
    "### Предобработка данных"
   ]
  },
  {
   "cell_type": "code",
   "execution_count": 13,
   "metadata": {},
   "outputs": [
    {
     "data": {
      "image/png": "[encoded data removed]",
      "text/plain": [
       "<Figure size 1080x360 with 1 Axes>"
      ]
     },
     "metadata": {
      "needs_background": "light"
     },
     "output_type": "display_data"
    }
   ],
   "source": [
    "# построить гистограмму распределения по эффективности обогащения (rougher)\n",
    "plt.figure(figsize=[15,5])\n",
    "\n",
    "data_train['rougher.output.recovery'].hist(bins=100)\n",
    "\n",
    "plt.xlim([0, 100])\n",
    "plt.ylim([0, 1000])\n",
    "\n",
    "plt.xlabel(\"Эффективность обогащения\")\n",
    "plt.ylabel(\"Количество\")\n",
    "\n",
    "plt.title(\"Распределения эффективности обогащения\")\n",
    "plt.show()"
   ]
  },
  {
   "cell_type": "code",
   "execution_count": 14,
   "metadata": {},
   "outputs": [
    {
     "data": {
      "image/png": "[encoded data removed]",
      "text/plain": [
       "<Figure size 1080x360 with 1 Axes>"
      ]
     },
     "metadata": {
      "needs_background": "light"
     },
     "output_type": "display_data"
    }
   ],
   "source": [
    "# построить гистограмму распределения по эффективности обогащения (rougher) (уменьшить xlim)\n",
    "plt.figure(figsize=[15,5])\n",
    "\n",
    "data_train['rougher.output.recovery'].hist(bins=100)\n",
    "\n",
    "plt.xlim([0, 10])\n",
    "plt.ylim([0, 400])\n",
    "\n",
    "plt.xlabel(\"Эффективность обогащения\")\n",
    "plt.ylabel(\"Количество\")\n",
    "\n",
    "plt.title(\"Распределение эффективности обогащения\")\n",
    "plt.show()"
   ]
  },
  {
   "cell_type": "markdown",
   "metadata": {},
   "source": [
    "Видим, что в распределении по эффективности обогощения довольно много нулевых значений."
   ]
  },
  {
   "cell_type": "code",
   "execution_count": 15,
   "metadata": {},
   "outputs": [],
   "source": [
    "# удалить нулевые значения\n",
    "data_train = data_train.drop(data_train[data_train['rougher.output.recovery'] < 20].index)"
   ]
  },
  {
   "cell_type": "code",
   "execution_count": 16,
   "metadata": {},
   "outputs": [
    {
     "data": {
      "image/png": "[encoded data removed]",
      "text/plain": [
       "<Figure size 1080x360 with 1 Axes>"
      ]
     },
     "metadata": {
      "needs_background": "light"
     },
     "output_type": "display_data"
    }
   ],
   "source": [
    "# построить гистограмму распределения по эффективности обогащения (rougher) (проверка)\n",
    "plt.figure(figsize=[15,5])\n",
    "\n",
    "data_train['rougher.output.recovery'].hist(bins=100)\n",
    "\n",
    "plt.xlim([0, 30])\n",
    "plt.ylim([0, 200])\n",
    "\n",
    "plt.xlabel(\"Эффективность обогащения\")\n",
    "plt.ylabel(\"Количество\")\n",
    "\n",
    "plt.title(\"Распределения эффективности обогащения\")\n",
    "plt.show()"
   ]
  },
  {
   "cell_type": "code",
   "execution_count": 17,
   "metadata": {},
   "outputs": [
    {
     "data": {
      "image/png": "[encoded data removed]",
      "text/plain": [
       "<Figure size 1080x360 with 1 Axes>"
      ]
     },
     "metadata": {
      "needs_background": "light"
     },
     "output_type": "display_data"
    }
   ],
   "source": [
    "# построить гистограмму распределения по эффективности обогащения (final)\n",
    "plt.figure(figsize=[15,5])\n",
    "\n",
    "data_train['final.output.recovery'].hist(bins=100)\n",
    "\n",
    "plt.xlim([-1, 101])\n",
    "plt.ylim([0, 900])\n",
    "\n",
    "plt.xlabel(\"Эффективность обогащения\")\n",
    "plt.ylabel(\"Количество\")\n",
    "\n",
    "plt.title(\"Распределение эффективности обогащения\")\n",
    "plt.show()"
   ]
  },
  {
   "cell_type": "markdown",
   "metadata": {},
   "source": [
    "Видим, что есть выбросы нулевых значений и значений 100."
   ]
  },
  {
   "cell_type": "code",
   "execution_count": 18,
   "metadata": {},
   "outputs": [],
   "source": [
    "# удалить нулевые значения\n",
    "data_train = data_train.drop(data_train[data_train['final.output.recovery'] < 10].index)\n",
    "# удалить значения 100\n",
    "data_train = data_train.drop(data_train[data_train['final.output.recovery'] == 100].index)"
   ]
  },
  {
   "cell_type": "code",
   "execution_count": 19,
   "metadata": {},
   "outputs": [
    {
     "data": {
      "image/png": "[encoded data removed]",
      "text/plain": [
       "<Figure size 1080x360 with 1 Axes>"
      ]
     },
     "metadata": {
      "needs_background": "light"
     },
     "output_type": "display_data"
    }
   ],
   "source": [
    "# построить гистограмму распределения по эффективности обогащения (final)\n",
    "plt.figure(figsize=[15,5])\n",
    "\n",
    "data_train['final.output.recovery'].hist(bins=100)\n",
    "\n",
    "plt.xlim([-1, 101])\n",
    "plt.ylim([0, 900])\n",
    "\n",
    "plt.xlabel(\"Эффективность обогащения\")\n",
    "plt.ylabel(\"Количество\")\n",
    "\n",
    "plt.title(\"Распределение эффективности обогащения\")\n",
    "plt.show()"
   ]
  },
  {
   "cell_type": "markdown",
   "metadata": {},
   "source": [
    "После проверки значений в ключевых столбцах посмотрим количество строк в столбцах"
   ]
  },
  {
   "cell_type": "code",
   "execution_count": 20,
   "metadata": {},
   "outputs": [
    {
     "name": "stdout",
     "output_type": "stream",
     "text": [
      "<class 'pandas.core.frame.DataFrame'>\n",
      "Int64Index: 13705 entries, 0 to 14148\n",
      "Data columns (total 87 columns):\n",
      " #   Column                                              Non-Null Count  Dtype  \n",
      "---  ------                                              --------------  -----  \n",
      " 0   date                                                13705 non-null  object \n",
      " 1   final.output.concentrate_ag                         13705 non-null  float64\n",
      " 2   final.output.concentrate_pb                         13705 non-null  float64\n",
      " 3   final.output.concentrate_sol                        13705 non-null  float64\n",
      " 4   final.output.concentrate_au                         13705 non-null  float64\n",
      " 5   final.output.recovery                               13705 non-null  float64\n",
      " 6   final.output.tail_ag                                13705 non-null  float64\n",
      " 7   final.output.tail_pb                                13705 non-null  float64\n",
      " 8   final.output.tail_sol                               13705 non-null  float64\n",
      " 9   final.output.tail_au                                13705 non-null  float64\n",
      " 10  primary_cleaner.input.sulfate                       13705 non-null  float64\n",
      " 11  primary_cleaner.input.depressant                    13705 non-null  float64\n",
      " 12  primary_cleaner.input.feed_size                     13705 non-null  float64\n",
      " 13  primary_cleaner.input.xanthate                      13705 non-null  float64\n",
      " 14  primary_cleaner.output.concentrate_ag               13705 non-null  float64\n",
      " 15  primary_cleaner.output.concentrate_pb               13705 non-null  float64\n",
      " 16  primary_cleaner.output.concentrate_sol              13705 non-null  float64\n",
      " 17  primary_cleaner.output.concentrate_au               13705 non-null  float64\n",
      " 18  primary_cleaner.output.tail_ag                      13705 non-null  float64\n",
      " 19  primary_cleaner.output.tail_pb                      13705 non-null  float64\n",
      " 20  primary_cleaner.output.tail_sol                     13705 non-null  float64\n",
      " 21  primary_cleaner.output.tail_au                      13705 non-null  float64\n",
      " 22  primary_cleaner.state.floatbank8_a_air              13705 non-null  float64\n",
      " 23  primary_cleaner.state.floatbank8_a_level            13705 non-null  float64\n",
      " 24  primary_cleaner.state.floatbank8_b_air              13705 non-null  float64\n",
      " 25  primary_cleaner.state.floatbank8_b_level            13705 non-null  float64\n",
      " 26  primary_cleaner.state.floatbank8_c_air              13705 non-null  float64\n",
      " 27  primary_cleaner.state.floatbank8_c_level            13705 non-null  float64\n",
      " 28  primary_cleaner.state.floatbank8_d_air              13705 non-null  float64\n",
      " 29  primary_cleaner.state.floatbank8_d_level            13705 non-null  float64\n",
      " 30  rougher.calculation.sulfate_to_au_concentrate       13705 non-null  float64\n",
      " 31  rougher.calculation.floatbank10_sulfate_to_au_feed  13705 non-null  float64\n",
      " 32  rougher.calculation.floatbank11_sulfate_to_au_feed  13705 non-null  float64\n",
      " 33  rougher.calculation.au_pb_ratio                     13705 non-null  float64\n",
      " 34  rougher.input.feed_ag                               13705 non-null  float64\n",
      " 35  rougher.input.feed_pb                               13705 non-null  float64\n",
      " 36  rougher.input.feed_rate                             13705 non-null  float64\n",
      " 37  rougher.input.feed_size                             13705 non-null  float64\n",
      " 38  rougher.input.feed_sol                              13705 non-null  float64\n",
      " 39  rougher.input.feed_au                               13705 non-null  float64\n",
      " 40  rougher.input.floatbank10_sulfate                   13705 non-null  float64\n",
      " 41  rougher.input.floatbank10_xanthate                  13705 non-null  float64\n",
      " 42  rougher.input.floatbank11_sulfate                   13705 non-null  float64\n",
      " 43  rougher.input.floatbank11_xanthate                  13705 non-null  float64\n",
      " 44  rougher.output.concentrate_ag                       13705 non-null  float64\n",
      " 45  rougher.output.concentrate_pb                       13705 non-null  float64\n",
      " 46  rougher.output.concentrate_sol                      13705 non-null  float64\n",
      " 47  rougher.output.concentrate_au                       13705 non-null  float64\n",
      " 48  rougher.output.recovery                             13705 non-null  float64\n",
      " 49  rougher.output.tail_ag                              13705 non-null  float64\n",
      " 50  rougher.output.tail_pb                              13705 non-null  float64\n",
      " 51  rougher.output.tail_sol                             13705 non-null  float64\n",
      " 52  rougher.output.tail_au                              13705 non-null  float64\n",
      " 53  rougher.state.floatbank10_a_air                     13705 non-null  float64\n",
      " 54  rougher.state.floatbank10_a_level                   13705 non-null  float64\n",
      " 55  rougher.state.floatbank10_b_air                     13705 non-null  float64\n",
      " 56  rougher.state.floatbank10_b_level                   13705 non-null  float64\n",
      " 57  rougher.state.floatbank10_c_air                     13705 non-null  float64\n",
      " 58  rougher.state.floatbank10_c_level                   13705 non-null  float64\n",
      " 59  rougher.state.floatbank10_d_air                     13705 non-null  float64\n",
      " 60  rougher.state.floatbank10_d_level                   13705 non-null  float64\n",
      " 61  rougher.state.floatbank10_e_air                     13705 non-null  float64\n",
      " 62  rougher.state.floatbank10_e_level                   13705 non-null  float64\n",
      " 63  rougher.state.floatbank10_f_air                     13705 non-null  float64\n",
      " 64  rougher.state.floatbank10_f_level                   13705 non-null  float64\n",
      " 65  secondary_cleaner.output.tail_ag                    13705 non-null  float64\n",
      " 66  secondary_cleaner.output.tail_pb                    13705 non-null  float64\n",
      " 67  secondary_cleaner.output.tail_sol                   13705 non-null  float64\n",
      " 68  secondary_cleaner.output.tail_au                    13705 non-null  float64\n",
      " 69  secondary_cleaner.state.floatbank2_a_air            13705 non-null  float64\n",
      " 70  secondary_cleaner.state.floatbank2_a_level          13705 non-null  float64\n",
      " 71  secondary_cleaner.state.floatbank2_b_air            13705 non-null  float64\n",
      " 72  secondary_cleaner.state.floatbank2_b_level          13705 non-null  float64\n",
      " 73  secondary_cleaner.state.floatbank3_a_air            13705 non-null  float64\n",
      " 74  secondary_cleaner.state.floatbank3_a_level          13705 non-null  float64\n",
      " 75  secondary_cleaner.state.floatbank3_b_air            13705 non-null  float64\n",
      " 76  secondary_cleaner.state.floatbank3_b_level          13705 non-null  float64\n",
      " 77  secondary_cleaner.state.floatbank4_a_air            13705 non-null  float64\n",
      " 78  secondary_cleaner.state.floatbank4_a_level          13705 non-null  float64\n",
      " 79  secondary_cleaner.state.floatbank4_b_air            13705 non-null  float64\n",
      " 80  secondary_cleaner.state.floatbank4_b_level          13705 non-null  float64\n",
      " 81  secondary_cleaner.state.floatbank5_a_air            13705 non-null  float64\n",
      " 82  secondary_cleaner.state.floatbank5_a_level          13705 non-null  float64\n",
      " 83  secondary_cleaner.state.floatbank5_b_air            13705 non-null  float64\n",
      " 84  secondary_cleaner.state.floatbank5_b_level          13705 non-null  float64\n",
      " 85  secondary_cleaner.state.floatbank6_a_air            13705 non-null  float64\n",
      " 86  secondary_cleaner.state.floatbank6_a_level          13705 non-null  float64\n",
      "dtypes: float64(86), object(1)\n",
      "memory usage: 9.2+ MB\n"
     ]
    }
   ],
   "source": [
    "# изучить файл методом info()\n",
    "data_train.info()"
   ]
  },
  {
   "cell_type": "code",
   "execution_count": 21,
   "metadata": {},
   "outputs": [],
   "source": [
    "# добавить в тестовую выборку целевые признаки\n",
    "data_test = data_test.merge(data_full[['date', 'rougher.output.recovery', 'final.output.recovery']], how='inner', on='date')\n",
    "data_test = data_test.drop('date', axis=1)"
   ]
  },
  {
   "cell_type": "markdown",
   "metadata": {},
   "source": [
    "<b>ИТОГ</b>  \n",
    "1. Импортированы библиотеки pandas и matplotlib и открыты файлы.\n",
    "2. Изучены файлы выводом первых строк.\n",
    "3. Изучены файлы методом <i>info()</i>.\n",
    "4. Построены гистограммы.  \n",
    "5. Дубликатов не обнаружено.\n",
    "6. Аномальные значения удалены.\n",
    "7. Просто работы с аномальными значениями в data_train количество ненулевых значений во всех строках стало одинаковым."
   ]
  },
  {
   "cell_type": "markdown",
   "metadata": {},
   "source": [
    "## Анализ данных"
   ]
  },
  {
   "cell_type": "markdown",
   "metadata": {},
   "source": [
    "### Концентрация металлов (Au, Ag, Pb) на различных этапах очистки"
   ]
  },
  {
   "cell_type": "markdown",
   "metadata": {},
   "source": [
    "#### Золото (Au)"
   ]
  },
  {
   "cell_type": "code",
   "execution_count": 22,
   "metadata": {},
   "outputs": [
    {
     "data": {
      "image/png": "[encoded data removed]",
      "text/plain": [
       "<Figure size 1080x360 with 1 Axes>"
      ]
     },
     "metadata": {
      "needs_background": "light"
     },
     "output_type": "display_data"
    }
   ],
   "source": [
    "#построить гистограммы\n",
    "plt.figure(figsize=[15, 5])\n",
    "\n",
    "data_train['rougher.input.feed_au'].hist(bins=100, label = 'сырьё', alpha=0.8)\n",
    "data_train['rougher.output.concentrate_au'].hist(bins=100, label = 'флотация', alpha=0.8)\n",
    "data_train['primary_cleaner.output.concentrate_au'].hist(bins=100, label = 'первичная очистка', alpha=0.7)\n",
    "data_train['final.output.concentrate_au'].hist(bins=100, label = 'финальный концентрат', alpha=0.7)\n",
    "\n",
    "plt.xlim([0, 55])\n",
    "plt.ylim([0, 1500])\n",
    "\n",
    "plt.xlabel(\"Концентрация золота\")\n",
    "plt.ylabel(\"Количество\")\n",
    "\n",
    "plt.legend()\n",
    "\n",
    "plt.title(\"Распределение концентрации золота\")\n",
    "plt.show()"
   ]
  },
  {
   "cell_type": "code",
   "execution_count": 23,
   "metadata": {},
   "outputs": [
    {
     "name": "stdout",
     "output_type": "stream",
     "text": [
      "Средняя концентрация сырья: 7.858453164842524\n",
      "\n",
      "Средняя концентрация после флотации: 19.87548621618572\n",
      "\n",
      "Средняя концентрация после первичной очистки: 32.40979964526459\n",
      "\n",
      "Средняя концентрация финального концентрата: 44.20279511403643\n"
     ]
    }
   ],
   "source": [
    "# посмотреть максимальные значения концентрации\n",
    "print('Средняя концентрация сырья:', data_train['rougher.input.feed_au'].mean())\n",
    "print()\n",
    "print('Средняя концентрация после флотации:', data_train['rougher.output.concentrate_au'].mean())\n",
    "print()\n",
    "print('Средняя концентрация после первичной очистки:', data_train['primary_cleaner.output.concentrate_au'].mean())\n",
    "print()\n",
    "print('Средняя концентрация финального концентрата:', data_train['final.output.concentrate_au'].mean())"
   ]
  },
  {
   "cell_type": "code",
   "execution_count": 24,
   "metadata": {},
   "outputs": [],
   "source": [
    "# удалить нулевые значения в primary_cleaner\n",
    "data_train = data_train.drop(data_train[data_train['primary_cleaner.output.concentrate_au'] == 0].index)"
   ]
  },
  {
   "cell_type": "code",
   "execution_count": 25,
   "metadata": {},
   "outputs": [
    {
     "data": {
      "text/html": [
       "<div>\n",
       "<style scoped>\n",
       "    .dataframe tbody tr th:only-of-type {\n",
       "        vertical-align: middle;\n",
       "    }\n",
       "\n",
       "    .dataframe tbody tr th {\n",
       "        vertical-align: top;\n",
       "    }\n",
       "\n",
       "    .dataframe thead th {\n",
       "        text-align: right;\n",
       "    }\n",
       "</style>\n",
       "<table border=\"1\" class=\"dataframe\">\n",
       "  <thead>\n",
       "    <tr style=\"text-align: right;\">\n",
       "      <th></th>\n",
       "      <th>date</th>\n",
       "      <th>final.output.concentrate_ag</th>\n",
       "      <th>final.output.concentrate_pb</th>\n",
       "      <th>final.output.concentrate_sol</th>\n",
       "      <th>final.output.concentrate_au</th>\n",
       "      <th>final.output.recovery</th>\n",
       "      <th>final.output.tail_ag</th>\n",
       "      <th>final.output.tail_pb</th>\n",
       "      <th>final.output.tail_sol</th>\n",
       "      <th>final.output.tail_au</th>\n",
       "      <th>...</th>\n",
       "      <th>secondary_cleaner.state.floatbank4_a_air</th>\n",
       "      <th>secondary_cleaner.state.floatbank4_a_level</th>\n",
       "      <th>secondary_cleaner.state.floatbank4_b_air</th>\n",
       "      <th>secondary_cleaner.state.floatbank4_b_level</th>\n",
       "      <th>secondary_cleaner.state.floatbank5_a_air</th>\n",
       "      <th>secondary_cleaner.state.floatbank5_a_level</th>\n",
       "      <th>secondary_cleaner.state.floatbank5_b_air</th>\n",
       "      <th>secondary_cleaner.state.floatbank5_b_level</th>\n",
       "      <th>secondary_cleaner.state.floatbank6_a_air</th>\n",
       "      <th>secondary_cleaner.state.floatbank6_a_level</th>\n",
       "    </tr>\n",
       "  </thead>\n",
       "  <tbody>\n",
       "  </tbody>\n",
       "</table>\n",
       "<p>0 rows × 87 columns</p>\n",
       "</div>"
      ],
      "text/plain": [
       "Empty DataFrame\n",
       "Columns: [date, final.output.concentrate_ag, final.output.concentrate_pb, final.output.concentrate_sol, final.output.concentrate_au, final.output.recovery, final.output.tail_ag, final.output.tail_pb, final.output.tail_sol, final.output.tail_au, primary_cleaner.input.sulfate, primary_cleaner.input.depressant, primary_cleaner.input.feed_size, primary_cleaner.input.xanthate, primary_cleaner.output.concentrate_ag, primary_cleaner.output.concentrate_pb, primary_cleaner.output.concentrate_sol, primary_cleaner.output.concentrate_au, primary_cleaner.output.tail_ag, primary_cleaner.output.tail_pb, primary_cleaner.output.tail_sol, primary_cleaner.output.tail_au, primary_cleaner.state.floatbank8_a_air, primary_cleaner.state.floatbank8_a_level, primary_cleaner.state.floatbank8_b_air, primary_cleaner.state.floatbank8_b_level, primary_cleaner.state.floatbank8_c_air, primary_cleaner.state.floatbank8_c_level, primary_cleaner.state.floatbank8_d_air, primary_cleaner.state.floatbank8_d_level, rougher.calculation.sulfate_to_au_concentrate, rougher.calculation.floatbank10_sulfate_to_au_feed, rougher.calculation.floatbank11_sulfate_to_au_feed, rougher.calculation.au_pb_ratio, rougher.input.feed_ag, rougher.input.feed_pb, rougher.input.feed_rate, rougher.input.feed_size, rougher.input.feed_sol, rougher.input.feed_au, rougher.input.floatbank10_sulfate, rougher.input.floatbank10_xanthate, rougher.input.floatbank11_sulfate, rougher.input.floatbank11_xanthate, rougher.output.concentrate_ag, rougher.output.concentrate_pb, rougher.output.concentrate_sol, rougher.output.concentrate_au, rougher.output.recovery, rougher.output.tail_ag, rougher.output.tail_pb, rougher.output.tail_sol, rougher.output.tail_au, rougher.state.floatbank10_a_air, rougher.state.floatbank10_a_level, rougher.state.floatbank10_b_air, rougher.state.floatbank10_b_level, rougher.state.floatbank10_c_air, rougher.state.floatbank10_c_level, rougher.state.floatbank10_d_air, rougher.state.floatbank10_d_level, rougher.state.floatbank10_e_air, rougher.state.floatbank10_e_level, rougher.state.floatbank10_f_air, rougher.state.floatbank10_f_level, secondary_cleaner.output.tail_ag, secondary_cleaner.output.tail_pb, secondary_cleaner.output.tail_sol, secondary_cleaner.output.tail_au, secondary_cleaner.state.floatbank2_a_air, secondary_cleaner.state.floatbank2_a_level, secondary_cleaner.state.floatbank2_b_air, secondary_cleaner.state.floatbank2_b_level, secondary_cleaner.state.floatbank3_a_air, secondary_cleaner.state.floatbank3_a_level, secondary_cleaner.state.floatbank3_b_air, secondary_cleaner.state.floatbank3_b_level, secondary_cleaner.state.floatbank4_a_air, secondary_cleaner.state.floatbank4_a_level, secondary_cleaner.state.floatbank4_b_air, secondary_cleaner.state.floatbank4_b_level, secondary_cleaner.state.floatbank5_a_air, secondary_cleaner.state.floatbank5_a_level, secondary_cleaner.state.floatbank5_b_air, secondary_cleaner.state.floatbank5_b_level, secondary_cleaner.state.floatbank6_a_air, secondary_cleaner.state.floatbank6_a_level]\n",
       "Index: []\n",
       "\n",
       "[0 rows x 87 columns]"
      ]
     },
     "execution_count": 25,
     "metadata": {},
     "output_type": "execute_result"
    }
   ],
   "source": [
    "# проверить\n",
    "data_train[data_train['primary_cleaner.output.concentrate_au'] == 0].head()"
   ]
  },
  {
   "cell_type": "markdown",
   "metadata": {},
   "source": [
    "<b>Вывод:</b> По гистограмме видим, что с каждым этапом увеличивается концентрация золота. В сырье средняя концентрация была 7.87, после флотации средняя концентрация была около 20, после первичной очистки средняя концентрация увеличилась до 32, в конце средняя концентрация увеличилась до 44."
   ]
  },
  {
   "cell_type": "markdown",
   "metadata": {},
   "source": [
    "#### Серебро (Ag)"
   ]
  },
  {
   "cell_type": "code",
   "execution_count": 26,
   "metadata": {},
   "outputs": [
    {
     "data": {
      "image/png": "[encoded data removed]",
      "text/plain": [
       "<Figure size 1080x360 with 1 Axes>"
      ]
     },
     "metadata": {
      "needs_background": "light"
     },
     "output_type": "display_data"
    }
   ],
   "source": [
    "#построить гистограммы\n",
    "plt.figure(figsize=[15, 5])\n",
    "\n",
    "data_train['rougher.input.feed_ag'].hist(bins=100, label = 'сырьё', alpha=0.8)\n",
    "data_train['rougher.output.concentrate_ag'].hist(bins=100, label = 'флотация', alpha=0.8)\n",
    "data_train['primary_cleaner.output.concentrate_ag'].hist(bins=100, label = 'первичная очистка', alpha=0.7)\n",
    "data_train['final.output.concentrate_ag'].hist(bins=100, label = 'финальный концентрат', alpha=0.7)\n",
    "\n",
    "plt.xlim([0, 25])\n",
    "plt.ylim([0, 800])\n",
    "\n",
    "plt.xlabel(\"Концентрация серебра\")\n",
    "plt.ylabel(\"Количество\")\n",
    "\n",
    "plt.legend()\n",
    "\n",
    "plt.title(\"Распределение концентрации серебра\")\n",
    "plt.show()"
   ]
  },
  {
   "cell_type": "code",
   "execution_count": 27,
   "metadata": {},
   "outputs": [
    {
     "name": "stdout",
     "output_type": "stream",
     "text": [
      "Средняя концентрация сырья: 8.574205536970988\n",
      "\n",
      "Средняя концентрация после флотации: 12.03682638811607\n",
      "\n",
      "Средняя концентрация после первичной очистки: 8.249153832668377\n",
      "\n",
      "Средняя концентрация финального концентрата: 5.162343461722287\n"
     ]
    }
   ],
   "source": [
    "# посмотреть максимальные значения концентрации\n",
    "print('Средняя концентрация сырья:', data_train['rougher.input.feed_ag'].mean())\n",
    "print()\n",
    "print('Средняя концентрация после флотации:', data_train['rougher.output.concentrate_ag'].mean())\n",
    "print()\n",
    "print('Средняя концентрация после первичной очистки:', data_train['primary_cleaner.output.concentrate_ag'].mean())\n",
    "print()\n",
    "print('Средняя концентрация финального концентрата:', data_train['final.output.concentrate_ag'].mean())"
   ]
  },
  {
   "cell_type": "code",
   "execution_count": 28,
   "metadata": {},
   "outputs": [],
   "source": [
    "# удалить нулевые значения в primary_cleaner\n",
    "data_train = data_train.drop(data_train[data_train['primary_cleaner.output.concentrate_ag'] == 0].index)"
   ]
  },
  {
   "cell_type": "code",
   "execution_count": 29,
   "metadata": {},
   "outputs": [
    {
     "data": {
      "text/html": [
       "<div>\n",
       "<style scoped>\n",
       "    .dataframe tbody tr th:only-of-type {\n",
       "        vertical-align: middle;\n",
       "    }\n",
       "\n",
       "    .dataframe tbody tr th {\n",
       "        vertical-align: top;\n",
       "    }\n",
       "\n",
       "    .dataframe thead th {\n",
       "        text-align: right;\n",
       "    }\n",
       "</style>\n",
       "<table border=\"1\" class=\"dataframe\">\n",
       "  <thead>\n",
       "    <tr style=\"text-align: right;\">\n",
       "      <th></th>\n",
       "      <th>date</th>\n",
       "      <th>final.output.concentrate_ag</th>\n",
       "      <th>final.output.concentrate_pb</th>\n",
       "      <th>final.output.concentrate_sol</th>\n",
       "      <th>final.output.concentrate_au</th>\n",
       "      <th>final.output.recovery</th>\n",
       "      <th>final.output.tail_ag</th>\n",
       "      <th>final.output.tail_pb</th>\n",
       "      <th>final.output.tail_sol</th>\n",
       "      <th>final.output.tail_au</th>\n",
       "      <th>...</th>\n",
       "      <th>secondary_cleaner.state.floatbank4_a_air</th>\n",
       "      <th>secondary_cleaner.state.floatbank4_a_level</th>\n",
       "      <th>secondary_cleaner.state.floatbank4_b_air</th>\n",
       "      <th>secondary_cleaner.state.floatbank4_b_level</th>\n",
       "      <th>secondary_cleaner.state.floatbank5_a_air</th>\n",
       "      <th>secondary_cleaner.state.floatbank5_a_level</th>\n",
       "      <th>secondary_cleaner.state.floatbank5_b_air</th>\n",
       "      <th>secondary_cleaner.state.floatbank5_b_level</th>\n",
       "      <th>secondary_cleaner.state.floatbank6_a_air</th>\n",
       "      <th>secondary_cleaner.state.floatbank6_a_level</th>\n",
       "    </tr>\n",
       "  </thead>\n",
       "  <tbody>\n",
       "  </tbody>\n",
       "</table>\n",
       "<p>0 rows × 87 columns</p>\n",
       "</div>"
      ],
      "text/plain": [
       "Empty DataFrame\n",
       "Columns: [date, final.output.concentrate_ag, final.output.concentrate_pb, final.output.concentrate_sol, final.output.concentrate_au, final.output.recovery, final.output.tail_ag, final.output.tail_pb, final.output.tail_sol, final.output.tail_au, primary_cleaner.input.sulfate, primary_cleaner.input.depressant, primary_cleaner.input.feed_size, primary_cleaner.input.xanthate, primary_cleaner.output.concentrate_ag, primary_cleaner.output.concentrate_pb, primary_cleaner.output.concentrate_sol, primary_cleaner.output.concentrate_au, primary_cleaner.output.tail_ag, primary_cleaner.output.tail_pb, primary_cleaner.output.tail_sol, primary_cleaner.output.tail_au, primary_cleaner.state.floatbank8_a_air, primary_cleaner.state.floatbank8_a_level, primary_cleaner.state.floatbank8_b_air, primary_cleaner.state.floatbank8_b_level, primary_cleaner.state.floatbank8_c_air, primary_cleaner.state.floatbank8_c_level, primary_cleaner.state.floatbank8_d_air, primary_cleaner.state.floatbank8_d_level, rougher.calculation.sulfate_to_au_concentrate, rougher.calculation.floatbank10_sulfate_to_au_feed, rougher.calculation.floatbank11_sulfate_to_au_feed, rougher.calculation.au_pb_ratio, rougher.input.feed_ag, rougher.input.feed_pb, rougher.input.feed_rate, rougher.input.feed_size, rougher.input.feed_sol, rougher.input.feed_au, rougher.input.floatbank10_sulfate, rougher.input.floatbank10_xanthate, rougher.input.floatbank11_sulfate, rougher.input.floatbank11_xanthate, rougher.output.concentrate_ag, rougher.output.concentrate_pb, rougher.output.concentrate_sol, rougher.output.concentrate_au, rougher.output.recovery, rougher.output.tail_ag, rougher.output.tail_pb, rougher.output.tail_sol, rougher.output.tail_au, rougher.state.floatbank10_a_air, rougher.state.floatbank10_a_level, rougher.state.floatbank10_b_air, rougher.state.floatbank10_b_level, rougher.state.floatbank10_c_air, rougher.state.floatbank10_c_level, rougher.state.floatbank10_d_air, rougher.state.floatbank10_d_level, rougher.state.floatbank10_e_air, rougher.state.floatbank10_e_level, rougher.state.floatbank10_f_air, rougher.state.floatbank10_f_level, secondary_cleaner.output.tail_ag, secondary_cleaner.output.tail_pb, secondary_cleaner.output.tail_sol, secondary_cleaner.output.tail_au, secondary_cleaner.state.floatbank2_a_air, secondary_cleaner.state.floatbank2_a_level, secondary_cleaner.state.floatbank2_b_air, secondary_cleaner.state.floatbank2_b_level, secondary_cleaner.state.floatbank3_a_air, secondary_cleaner.state.floatbank3_a_level, secondary_cleaner.state.floatbank3_b_air, secondary_cleaner.state.floatbank3_b_level, secondary_cleaner.state.floatbank4_a_air, secondary_cleaner.state.floatbank4_a_level, secondary_cleaner.state.floatbank4_b_air, secondary_cleaner.state.floatbank4_b_level, secondary_cleaner.state.floatbank5_a_air, secondary_cleaner.state.floatbank5_a_level, secondary_cleaner.state.floatbank5_b_air, secondary_cleaner.state.floatbank5_b_level, secondary_cleaner.state.floatbank6_a_air, secondary_cleaner.state.floatbank6_a_level]\n",
       "Index: []\n",
       "\n",
       "[0 rows x 87 columns]"
      ]
     },
     "execution_count": 29,
     "metadata": {},
     "output_type": "execute_result"
    }
   ],
   "source": [
    "# проверить\n",
    "data_train[data_train['primary_cleaner.output.concentrate_ag'] == 0].head()"
   ]
  },
  {
   "cell_type": "markdown",
   "metadata": {},
   "source": [
    "<b>Вывод:</b> По гистограмме не сразу можно заметить, но после нахождения средних точно можно сказать, что концентрация серебра уменьшается. На этапе флотации было 12, к концу всего процесса очистки средняя концентрация стала 5."
   ]
  },
  {
   "cell_type": "markdown",
   "metadata": {},
   "source": [
    "#### Свинец (Pb)"
   ]
  },
  {
   "cell_type": "code",
   "execution_count": 30,
   "metadata": {},
   "outputs": [
    {
     "data": {
      "image/png": "[encoded data removed]",
      "text/plain": [
       "<Figure size 1080x360 with 1 Axes>"
      ]
     },
     "metadata": {
      "needs_background": "light"
     },
     "output_type": "display_data"
    }
   ],
   "source": [
    "#построить гистограммы\n",
    "plt.figure(figsize=[15, 5])\n",
    "\n",
    "data_train['rougher.input.feed_pb'].hist(bins=100, label = 'сырьё', alpha=0.8)\n",
    "data_train['rougher.output.concentrate_pb'].hist(bins=100, label = 'флотация', alpha=0.8)\n",
    "data_train['primary_cleaner.output.concentrate_pb'].hist(bins=100, label = 'первичная очистка', alpha=0.7)\n",
    "data_train['final.output.concentrate_pb'].hist(bins=100, label = 'финальный концентрат', alpha=0.7)\n",
    "\n",
    "plt.xlim([0, 20])\n",
    "plt.ylim([0, 800])\n",
    "\n",
    "plt.xlabel(\"Концентрация свинца\")\n",
    "plt.ylabel(\"Количество\")\n",
    "\n",
    "plt.legend()\n",
    "\n",
    "plt.title(\"Распределение концентрации свинца\")\n",
    "plt.show()"
   ]
  },
  {
   "cell_type": "code",
   "execution_count": 31,
   "metadata": {},
   "outputs": [
    {
     "name": "stdout",
     "output_type": "stream",
     "text": [
      "Средняя концентрация сырья: 3.5009502290061194\n",
      "\n",
      "Средняя концентрация после флотации: 7.82675164744501\n",
      "\n",
      "Средняя концентрация после первичной очистки: 9.606531197364346\n",
      "\n",
      "Средняя концентрация финального концентрата: 10.176277131763104\n"
     ]
    }
   ],
   "source": [
    "# посмотреть максимальные значения концентрации\n",
    "print('Средняя концентрация сырья:', data_train['rougher.input.feed_pb'].mean())\n",
    "print()\n",
    "print('Средняя концентрация после флотации:', data_train['rougher.output.concentrate_pb'].mean())\n",
    "print()\n",
    "print('Средняя концентрация после первичной очистки:', data_train['primary_cleaner.output.concentrate_pb'].mean())\n",
    "print()\n",
    "print('Средняя концентрация финального концентрата:', data_train['final.output.concentrate_pb'].mean())"
   ]
  },
  {
   "cell_type": "code",
   "execution_count": 32,
   "metadata": {},
   "outputs": [],
   "source": [
    "# удалить нулевые значения в primary_cleaner\n",
    "data_train = data_train.drop(data_train[data_train['primary_cleaner.output.concentrate_pb'] == 0].index)"
   ]
  },
  {
   "cell_type": "code",
   "execution_count": 33,
   "metadata": {},
   "outputs": [
    {
     "data": {
      "text/html": [
       "<div>\n",
       "<style scoped>\n",
       "    .dataframe tbody tr th:only-of-type {\n",
       "        vertical-align: middle;\n",
       "    }\n",
       "\n",
       "    .dataframe tbody tr th {\n",
       "        vertical-align: top;\n",
       "    }\n",
       "\n",
       "    .dataframe thead th {\n",
       "        text-align: right;\n",
       "    }\n",
       "</style>\n",
       "<table border=\"1\" class=\"dataframe\">\n",
       "  <thead>\n",
       "    <tr style=\"text-align: right;\">\n",
       "      <th></th>\n",
       "      <th>date</th>\n",
       "      <th>final.output.concentrate_ag</th>\n",
       "      <th>final.output.concentrate_pb</th>\n",
       "      <th>final.output.concentrate_sol</th>\n",
       "      <th>final.output.concentrate_au</th>\n",
       "      <th>final.output.recovery</th>\n",
       "      <th>final.output.tail_ag</th>\n",
       "      <th>final.output.tail_pb</th>\n",
       "      <th>final.output.tail_sol</th>\n",
       "      <th>final.output.tail_au</th>\n",
       "      <th>...</th>\n",
       "      <th>secondary_cleaner.state.floatbank4_a_air</th>\n",
       "      <th>secondary_cleaner.state.floatbank4_a_level</th>\n",
       "      <th>secondary_cleaner.state.floatbank4_b_air</th>\n",
       "      <th>secondary_cleaner.state.floatbank4_b_level</th>\n",
       "      <th>secondary_cleaner.state.floatbank5_a_air</th>\n",
       "      <th>secondary_cleaner.state.floatbank5_a_level</th>\n",
       "      <th>secondary_cleaner.state.floatbank5_b_air</th>\n",
       "      <th>secondary_cleaner.state.floatbank5_b_level</th>\n",
       "      <th>secondary_cleaner.state.floatbank6_a_air</th>\n",
       "      <th>secondary_cleaner.state.floatbank6_a_level</th>\n",
       "    </tr>\n",
       "  </thead>\n",
       "  <tbody>\n",
       "  </tbody>\n",
       "</table>\n",
       "<p>0 rows × 87 columns</p>\n",
       "</div>"
      ],
      "text/plain": [
       "Empty DataFrame\n",
       "Columns: [date, final.output.concentrate_ag, final.output.concentrate_pb, final.output.concentrate_sol, final.output.concentrate_au, final.output.recovery, final.output.tail_ag, final.output.tail_pb, final.output.tail_sol, final.output.tail_au, primary_cleaner.input.sulfate, primary_cleaner.input.depressant, primary_cleaner.input.feed_size, primary_cleaner.input.xanthate, primary_cleaner.output.concentrate_ag, primary_cleaner.output.concentrate_pb, primary_cleaner.output.concentrate_sol, primary_cleaner.output.concentrate_au, primary_cleaner.output.tail_ag, primary_cleaner.output.tail_pb, primary_cleaner.output.tail_sol, primary_cleaner.output.tail_au, primary_cleaner.state.floatbank8_a_air, primary_cleaner.state.floatbank8_a_level, primary_cleaner.state.floatbank8_b_air, primary_cleaner.state.floatbank8_b_level, primary_cleaner.state.floatbank8_c_air, primary_cleaner.state.floatbank8_c_level, primary_cleaner.state.floatbank8_d_air, primary_cleaner.state.floatbank8_d_level, rougher.calculation.sulfate_to_au_concentrate, rougher.calculation.floatbank10_sulfate_to_au_feed, rougher.calculation.floatbank11_sulfate_to_au_feed, rougher.calculation.au_pb_ratio, rougher.input.feed_ag, rougher.input.feed_pb, rougher.input.feed_rate, rougher.input.feed_size, rougher.input.feed_sol, rougher.input.feed_au, rougher.input.floatbank10_sulfate, rougher.input.floatbank10_xanthate, rougher.input.floatbank11_sulfate, rougher.input.floatbank11_xanthate, rougher.output.concentrate_ag, rougher.output.concentrate_pb, rougher.output.concentrate_sol, rougher.output.concentrate_au, rougher.output.recovery, rougher.output.tail_ag, rougher.output.tail_pb, rougher.output.tail_sol, rougher.output.tail_au, rougher.state.floatbank10_a_air, rougher.state.floatbank10_a_level, rougher.state.floatbank10_b_air, rougher.state.floatbank10_b_level, rougher.state.floatbank10_c_air, rougher.state.floatbank10_c_level, rougher.state.floatbank10_d_air, rougher.state.floatbank10_d_level, rougher.state.floatbank10_e_air, rougher.state.floatbank10_e_level, rougher.state.floatbank10_f_air, rougher.state.floatbank10_f_level, secondary_cleaner.output.tail_ag, secondary_cleaner.output.tail_pb, secondary_cleaner.output.tail_sol, secondary_cleaner.output.tail_au, secondary_cleaner.state.floatbank2_a_air, secondary_cleaner.state.floatbank2_a_level, secondary_cleaner.state.floatbank2_b_air, secondary_cleaner.state.floatbank2_b_level, secondary_cleaner.state.floatbank3_a_air, secondary_cleaner.state.floatbank3_a_level, secondary_cleaner.state.floatbank3_b_air, secondary_cleaner.state.floatbank3_b_level, secondary_cleaner.state.floatbank4_a_air, secondary_cleaner.state.floatbank4_a_level, secondary_cleaner.state.floatbank4_b_air, secondary_cleaner.state.floatbank4_b_level, secondary_cleaner.state.floatbank5_a_air, secondary_cleaner.state.floatbank5_a_level, secondary_cleaner.state.floatbank5_b_air, secondary_cleaner.state.floatbank5_b_level, secondary_cleaner.state.floatbank6_a_air, secondary_cleaner.state.floatbank6_a_level]\n",
       "Index: []\n",
       "\n",
       "[0 rows x 87 columns]"
      ]
     },
     "execution_count": 33,
     "metadata": {},
     "output_type": "execute_result"
    }
   ],
   "source": [
    "# проверить\n",
    "data_train[data_train['primary_cleaner.output.concentrate_pb'] == 0].head()"
   ]
  },
  {
   "cell_type": "markdown",
   "metadata": {},
   "source": [
    "<b>Вывод:</b> По гистограмме не сразу можно заметить, но после нахождения средних точно можно сказать, что концентрация свинца увеличивается. DВ сырье средняя концентрация была 3,52, на этапе флотации было 7.8, к концу всего процесса очистки средняя концентрация стала 10."
   ]
  },
  {
   "cell_type": "markdown",
   "metadata": {},
   "source": [
    "### Сравнение распределения размеров гранул сырья на обучающей и тестовой выборках"
   ]
  },
  {
   "cell_type": "markdown",
   "metadata": {},
   "source": [
    "Для сравнение распрделения размеров гранул сырья будем использовать парматер <i>feed size — размер гранул сырья</i>."
   ]
  },
  {
   "cell_type": "code",
   "execution_count": 34,
   "metadata": {},
   "outputs": [
    {
     "name": "stdout",
     "output_type": "stream",
     "text": [
      "count    13643.000000\n",
      "mean        60.281346\n",
      "std         23.123721\n",
      "min          9.659576\n",
      "25%         49.009081\n",
      "50%         55.377622\n",
      "75%         65.970302\n",
      "max        484.967466\n",
      "Name: rougher.input.feed_size, dtype: float64\n",
      "count    5290.000000\n",
      "mean       55.952754\n",
      "std        19.080334\n",
      "min         0.046369\n",
      "25%        43.906504\n",
      "50%        50.846843\n",
      "75%        62.451165\n",
      "max       392.494040\n",
      "Name: rougher.input.feed_size, dtype: float64\n"
     ]
    }
   ],
   "source": [
    "# описать данные до флотации\n",
    "print(data_train['rougher.input.feed_size'].describe())\n",
    "print(data_test['rougher.input.feed_size'].describe())"
   ]
  },
  {
   "cell_type": "code",
   "execution_count": 35,
   "metadata": {},
   "outputs": [
    {
     "data": {
      "image/png": "[encoded data removed]",
      "text/plain": [
       "<Figure size 1080x360 with 1 Axes>"
      ]
     },
     "metadata": {
      "needs_background": "light"
     },
     "output_type": "display_data"
    }
   ],
   "source": [
    "plt.figure(figsize=[15, 5])\n",
    "\n",
    "sns.kdeplot(data_train['rougher.input.feed_size'], label = 'обучающая выборка')\n",
    "sns.kdeplot(data_test['rougher.input.feed_size'], label = 'тестовая выборка')\n",
    "\n",
    "plt.xlabel(\"Размер гранул сырья\")\n",
    "plt.ylabel(\"Количество\")\n",
    "\n",
    "plt.legend(loc='upper right', fontsize='x-large')\n",
    "\n",
    "plt.title(\"Распределение гранул сырья перед первичной очисткой\")\n",
    "plt.show()"
   ]
  },
  {
   "cell_type": "code",
   "execution_count": 36,
   "metadata": {},
   "outputs": [
    {
     "name": "stdout",
     "output_type": "stream",
     "text": [
      "count    13643.000000\n",
      "mean         7.324736\n",
      "std          0.617333\n",
      "min          1.080000\n",
      "25%          6.960000\n",
      "50%          7.300000\n",
      "75%          7.700000\n",
      "max         10.470000\n",
      "Name: primary_cleaner.input.feed_size, dtype: float64\n",
      "count    5290.000000\n",
      "mean        7.266339\n",
      "std         0.610219\n",
      "min         5.650000\n",
      "25%         6.890000\n",
      "50%         7.250000\n",
      "75%         7.600000\n",
      "max        15.500000\n",
      "Name: primary_cleaner.input.feed_size, dtype: float64\n"
     ]
    }
   ],
   "source": [
    "# описать данные до первичной очистки\n",
    "print(data_train['primary_cleaner.input.feed_size'].describe())\n",
    "print(data_test['primary_cleaner.input.feed_size'].describe())"
   ]
  },
  {
   "cell_type": "code",
   "execution_count": 37,
   "metadata": {},
   "outputs": [
    {
     "data": {
      "image/png": "[encoded data removed]",
      "text/plain": [
       "<Figure size 1080x360 with 1 Axes>"
      ]
     },
     "metadata": {
      "needs_background": "light"
     },
     "output_type": "display_data"
    }
   ],
   "source": [
    "plt.figure(figsize=[15, 5])\n",
    "\n",
    "sns.kdeplot(data_train['primary_cleaner.input.feed_size'], label = 'обучающая выборка')\n",
    "sns.kdeplot(data_test['primary_cleaner.input.feed_size'], label = 'тестовая выборка')\n",
    "\n",
    "plt.xlabel(\"Размер гранул сырья\")\n",
    "plt.ylabel(\"Количество\")\n",
    "\n",
    "plt.legend(loc='upper right', fontsize='x-large')\n",
    "\n",
    "plt.title(\"Распределение гранул сырья перед первичной очисткой\")\n",
    "plt.show()"
   ]
  },
  {
   "cell_type": "markdown",
   "metadata": {},
   "source": [
    "<b>Вывод:</b> распределения не сильно отличаются друг от друга, оценка модели будет правильной."
   ]
  },
  {
   "cell_type": "markdown",
   "metadata": {},
   "source": [
    "### Исследование суммарной концентрации всех веществ на разных стадиях"
   ]
  },
  {
   "cell_type": "code",
   "execution_count": 38,
   "metadata": {},
   "outputs": [
    {
     "data": {
      "text/plain": [
       "count    13643.000000\n",
       "mean        19.934276\n",
       "std          4.393568\n",
       "min          2.560855\n",
       "25%         16.825831\n",
       "50%         19.155294\n",
       "75%         22.584094\n",
       "max         32.840164\n",
       "dtype: float64"
      ]
     },
     "execution_count": 38,
     "metadata": {},
     "output_type": "execute_result"
    }
   ],
   "source": [
    "# суммарная концентрация на этапе флотации\n",
    "feed = (data_train['rougher.input.feed_au'] + \n",
    "        data_train['rougher.input.feed_ag'] + \n",
    "        data_train['rougher.input.feed_pb'])\n",
    "\n",
    "# описать\n",
    "feed.describe()"
   ]
  },
  {
   "cell_type": "code",
   "execution_count": 39,
   "metadata": {},
   "outputs": [
    {
     "data": {
      "text/plain": [
       "count    13643.000000\n",
       "mean        39.738817\n",
       "std          3.867320\n",
       "min          1.137053\n",
       "25%         38.078679\n",
       "50%         39.923631\n",
       "75%         41.840537\n",
       "max         55.568687\n",
       "dtype: float64"
      ]
     },
     "execution_count": 39,
     "metadata": {},
     "output_type": "execute_result"
    }
   ],
   "source": [
    "# суммарная концентрация на этапе флотации\n",
    "rougher = (data_train['rougher.output.concentrate_au'] + \n",
    "           data_train['rougher.output.concentrate_ag'] + \n",
    "           data_train['rougher.output.concentrate_pb'])\n",
    "\n",
    "# описать\n",
    "rougher.describe()"
   ]
  },
  {
   "cell_type": "code",
   "execution_count": 40,
   "metadata": {},
   "outputs": [
    {
     "data": {
      "text/plain": [
       "count    13643.000000\n",
       "mean        50.405996\n",
       "std          7.049384\n",
       "min          0.030000\n",
       "25%         49.662491\n",
       "50%         51.786554\n",
       "75%         53.412405\n",
       "max         59.251060\n",
       "dtype: float64"
      ]
     },
     "execution_count": 40,
     "metadata": {},
     "output_type": "execute_result"
    }
   ],
   "source": [
    "# суммарная концентрация на этапе первичной очистки\n",
    "primary_cleaner = (data_train['primary_cleaner.output.concentrate_au'] + \n",
    "                   data_train['primary_cleaner.output.concentrate_ag'] + \n",
    "                   data_train['primary_cleaner.output.concentrate_pb'])\n",
    "\n",
    "# описать\n",
    "primary_cleaner.describe()"
   ]
  },
  {
   "cell_type": "code",
   "execution_count": 41,
   "metadata": {},
   "outputs": [
    {
     "data": {
      "text/plain": [
       "count    13643.000000\n",
       "mean        59.548440\n",
       "std          4.032201\n",
       "min          8.245945\n",
       "25%         59.206429\n",
       "50%         60.247269\n",
       "75%         61.039341\n",
       "max         64.968881\n",
       "dtype: float64"
      ]
     },
     "execution_count": 41,
     "metadata": {},
     "output_type": "execute_result"
    }
   ],
   "source": [
    "# суммарная концентрация на финальном этапе\n",
    "final = (data_train['final.output.concentrate_au'] + \n",
    "                   data_train['final.output.concentrate_ag'] + \n",
    "                   data_train['final.output.concentrate_pb'])\n",
    "\n",
    "# описать\n",
    "final.describe()"
   ]
  },
  {
   "cell_type": "code",
   "execution_count": 42,
   "metadata": {},
   "outputs": [
    {
     "data": {
      "image/png": "[encoded data removed]",
      "text/plain": [
       "<Figure size 1080x360 with 1 Axes>"
      ]
     },
     "metadata": {
      "needs_background": "light"
     },
     "output_type": "display_data"
    }
   ],
   "source": [
    "# построить гистограммы\n",
    "plt.figure(figsize=[15, 5])\n",
    "\n",
    "feed.hist(bins=100, label = 'сырьё', alpha=0.7)\n",
    "rougher.hist(bins=100, label = 'флотация', alpha=0.8)\n",
    "primary_cleaner.hist(bins=100, label = 'первичная очистка', alpha=0.7)\n",
    "final.hist(bins=100, label = 'финальный концентрат', alpha=0.7)\n",
    "\n",
    "plt.ylim([0, 3000])\n",
    "\n",
    "plt.xlabel(\"Концентрация\")\n",
    "plt.ylabel(\"Количество\")\n",
    "\n",
    "plt.legend()\n",
    "\n",
    "plt.title(\"Распределение суммарной концентрации всех веществ на разных стадиях\")\n",
    "plt.show()"
   ]
  },
  {
   "cell_type": "markdown",
   "metadata": {},
   "source": [
    "<b>Вывод:</b> По гистограмме видим, что с каждым этапом увеличивается концентрация."
   ]
  },
  {
   "cell_type": "markdown",
   "metadata": {},
   "source": [
    "Также на этапе первичной очистки мы можем увидеть значения, близкие к нулю, удалим их."
   ]
  },
  {
   "cell_type": "code",
   "execution_count": 43,
   "metadata": {},
   "outputs": [],
   "source": [
    "# удалить значения, близкие к нулю\n",
    "data_train = data_train.drop(data_train[data_train['primary_cleaner.output.concentrate_au'] < 1].index)\n",
    "data_train = data_train.drop(data_train[data_train['primary_cleaner.output.concentrate_ag'] < 1].index)\n",
    "data_train = data_train.drop(data_train[data_train['primary_cleaner.output.concentrate_pb'] < 1].index)"
   ]
  },
  {
   "cell_type": "code",
   "execution_count": 44,
   "metadata": {},
   "outputs": [],
   "source": [
    "# перезаписать суммарную концентрацию на этапе первичной очистки\n",
    "primary_cleaner = (data_train['primary_cleaner.output.concentrate_au'] + \n",
    "                   data_train['primary_cleaner.output.concentrate_ag'] + \n",
    "                   data_train['primary_cleaner.output.concentrate_pb'])"
   ]
  },
  {
   "cell_type": "code",
   "execution_count": 45,
   "metadata": {},
   "outputs": [
    {
     "data": {
      "image/png": "[encoded data removed]",
      "text/plain": [
       "<Figure size 1080x360 with 1 Axes>"
      ]
     },
     "metadata": {
      "needs_background": "light"
     },
     "output_type": "display_data"
    }
   ],
   "source": [
    "# построить гистограммы, чтобы проверить\n",
    "plt.figure(figsize=[15, 5])\n",
    "\n",
    "feed.hist(bins=100, label = 'сырьё', alpha=0.7)\n",
    "rougher.hist(bins=100, label = 'флотация', alpha=0.8)\n",
    "primary_cleaner.hist(bins=100, label = 'первичная очистка', alpha=0.7)\n",
    "final.hist(bins=100, label = 'финальный концентрат', alpha=0.7)\n",
    "\n",
    "plt.ylim([0, 3000])\n",
    "\n",
    "plt.xlabel(\"Концентрация\")\n",
    "plt.ylabel(\"Количество\")\n",
    "\n",
    "plt.legend()\n",
    "\n",
    "plt.title(\"Распределение суммарной концентрации всех веществ на разных стадиях\")\n",
    "plt.show()"
   ]
  },
  {
   "cell_type": "markdown",
   "metadata": {},
   "source": [
    "<b>ИТОГ</b>  \n",
    "1. Изучена концентария металов (золота, серебра, свинца).\n",
    "2. Выявлено, что у золота и свинца концентрация металла увеличивается в процессе очистки. У серебра концентрация уменьшается.\n",
    "3. Распределение суммарной концентрации всех металлов на разных стадиях очистки похоже на нормальное с \"левым хвостом\"."
   ]
  },
  {
   "cell_type": "markdown",
   "metadata": {},
   "source": [
    "## Модель"
   ]
  },
  {
   "cell_type": "markdown",
   "metadata": {},
   "source": [
    "### sMAPE"
   ]
  },
  {
   "cell_type": "code",
   "execution_count": 46,
   "metadata": {},
   "outputs": [],
   "source": [
    "# функция для вычисления sMAPE\n",
    "def sMAPE(target, pred):\n",
    "    smape = abs(target - pred) / ((abs(target) + abs(pred))/2) * 100\n",
    "    smape = smape.fillna(value=0)\n",
    "    return np.mean(smape)"
   ]
  },
  {
   "cell_type": "code",
   "execution_count": 47,
   "metadata": {},
   "outputs": [],
   "source": [
    "# функция для вычисления итогового sMAPE\n",
    "def final_sMAPE(smape_rougher, smape_final):\n",
    "    return (0.25 * smape_rougher + 0.75 * smape_final)"
   ]
  },
  {
   "cell_type": "code",
   "execution_count": 48,
   "metadata": {},
   "outputs": [],
   "source": [
    "smape_scorer = make_scorer(sMAPE, greater_is_better = False)"
   ]
  },
  {
   "cell_type": "markdown",
   "metadata": {},
   "source": [
    "### Обучение и проверка нескольких моделей"
   ]
  },
  {
   "cell_type": "code",
   "execution_count": 49,
   "metadata": {},
   "outputs": [],
   "source": [
    "# перезапишем result, в котором находятся признаки, которых нет в тестовой выборке\n",
    "result = list(set(data_train.columns) - set(data_test.columns))\n",
    "\n",
    "data_train = data_train.drop(result, axis=1)"
   ]
  },
  {
   "cell_type": "code",
   "execution_count": 50,
   "metadata": {},
   "outputs": [],
   "source": [
    "features = data_train.drop(['rougher.output.recovery', 'final.output.recovery'], axis=1)\n",
    "target = data_train[['final.output.recovery', 'rougher.output.recovery']]"
   ]
  },
  {
   "cell_type": "markdown",
   "metadata": {},
   "source": [
    "#### LinearRegression"
   ]
  },
  {
   "cell_type": "code",
   "execution_count": 51,
   "metadata": {},
   "outputs": [
    {
     "name": "stdout",
     "output_type": "stream",
     "text": [
      "Средняя оценка качества модели по sMAPE: 13.20002127743991\n"
     ]
    }
   ],
   "source": [
    "model = LinearRegression()\n",
    "scores = cross_val_score(model, features, target['final.output.recovery'], scoring = smape_scorer, cv=3)\n",
    "smape_final = np.mean(abs(scores))\n",
    "\n",
    "print('Средняя оценка качества модели по sMAPE:', smape_final)"
   ]
  },
  {
   "cell_type": "code",
   "execution_count": 52,
   "metadata": {},
   "outputs": [
    {
     "name": "stdout",
     "output_type": "stream",
     "text": [
      "Средняя оценка качества модели по sMAPE: 10.267004744723849\n"
     ]
    }
   ],
   "source": [
    "model = LinearRegression()\n",
    "scores = cross_val_score(model, features, target['rougher.output.recovery'], scoring = smape_scorer, cv=3)\n",
    "smape_rougher = np.mean(abs(scores))\n",
    "\n",
    "print('Средняя оценка качества модели по sMAPE:', smape_rougher)"
   ]
  },
  {
   "cell_type": "code",
   "execution_count": 53,
   "metadata": {},
   "outputs": [
    {
     "data": {
      "text/plain": [
       "12.466767144260896"
      ]
     },
     "execution_count": 53,
     "metadata": {},
     "output_type": "execute_result"
    }
   ],
   "source": [
    "final_sMAPE(smape_rougher, smape_final)"
   ]
  },
  {
   "cell_type": "markdown",
   "metadata": {},
   "source": [
    "#### DecisionTreeRegressor"
   ]
  },
  {
   "cell_type": "code",
   "execution_count": 54,
   "metadata": {},
   "outputs": [
    {
     "name": "stdout",
     "output_type": "stream",
     "text": [
      "Средняя оценка качества наилучшей модели по sMAPE: 12.458747454636756 Максимальная глубина: 1\n"
     ]
    }
   ],
   "source": [
    "best_score = 10000\n",
    "for n in range(1, 10, 1):\n",
    "    model = DecisionTreeRegressor(max_depth=n, random_state=12345)\n",
    "    scores = cross_val_score(model, features, target['final.output.recovery'], scoring = smape_scorer, cv=3)\n",
    "    smape_final = np.mean(abs(scores))\n",
    "    \n",
    "    if smape_final < best_score:\n",
    "        best_score = smape_final\n",
    "        best_depth = n\n",
    "\n",
    "print(\"Средняя оценка качества наилучшей модели по sMAPE:\", smape_final,\n",
    "      \"Максимальная глубина:\", best_depth)"
   ]
  },
  {
   "cell_type": "code",
   "execution_count": 55,
   "metadata": {},
   "outputs": [
    {
     "name": "stdout",
     "output_type": "stream",
     "text": [
      "Средняя оценка качества наилучшей модели по sMAPE: 8.851391531993219 Максимальная глубина: 3\n"
     ]
    }
   ],
   "source": [
    "best_score = 10000\n",
    "for n in range(1, 10, 1):\n",
    "    model = DecisionTreeRegressor(max_depth=n, random_state=12345)\n",
    "    scores = cross_val_score(model, features, target['rougher.output.recovery'], scoring = smape_scorer, cv=3)\n",
    "    smape_rougher = np.mean(abs(scores))\n",
    "    \n",
    "    if smape_rougher < best_score:\n",
    "        best_score = smape_rougher\n",
    "        best_depth = n\n",
    "\n",
    "print(\"Средняя оценка качества наилучшей модели по sMAPE:\", smape_rougher,\n",
    "      \"Максимальная глубина:\", best_depth)"
   ]
  },
  {
   "cell_type": "code",
   "execution_count": 56,
   "metadata": {},
   "outputs": [
    {
     "data": {
      "text/plain": [
       "11.55690847397587"
      ]
     },
     "execution_count": 56,
     "metadata": {},
     "output_type": "execute_result"
    }
   ],
   "source": [
    "final_sMAPE(smape_rougher, smape_final)"
   ]
  },
  {
   "cell_type": "markdown",
   "metadata": {},
   "source": [
    "#### RandomForestRegressor"
   ]
  },
  {
   "cell_type": "code",
   "execution_count": 57,
   "metadata": {},
   "outputs": [
    {
     "name": "stdout",
     "output_type": "stream",
     "text": [
      "Средняя оценка качества наилучшей модели по sMAPE: 9.77412794435 Количество деревьев: 100 Максимальная глубина: 1\n"
     ]
    }
   ],
   "source": [
    "best_score = 10000\n",
    "best_est = 0\n",
    "best_depth = 0\n",
    "for est in range(100, 300, 50):\n",
    "    for depth in range (1, 11, 5):\n",
    "        model = RandomForestRegressor(random_state=12345, max_depth=depth, n_estimators=est, n_jobs=-1)\n",
    "        scores = cross_val_score(model, features, target['final.output.recovery'], scoring = smape_scorer, cv=3)\n",
    "        smape_final = np.mean(abs(scores))\n",
    "\n",
    "        if smape_final < best_score:\n",
    "            best_score = smape_final\n",
    "            best_est = est\n",
    "            best_depth = depth\n",
    "\n",
    "print(\"Средняя оценка качества наилучшей модели по sMAPE:\", smape_final, \"Количество деревьев:\", best_est, \"Максимальная глубина:\", best_depth)"
   ]
  },
  {
   "cell_type": "code",
   "execution_count": 59,
   "metadata": {},
   "outputs": [
    {
     "name": "stdout",
     "output_type": "stream",
     "text": [
      "Средняя оценка качества наилучшей модели по sMAPE: 7.844530718993368 Количество деревьев: 250 Максимальная глубина: 6\n"
     ]
    }
   ],
   "source": [
    "best_score = 10000\n",
    "best_est = 0\n",
    "best_depth = 0\n",
    "for est in range(100, 300, 50):\n",
    "    for depth in range (1, 11, 5):\n",
    "        model = RandomForestRegressor(random_state=12345, max_depth=depth, n_estimators=est, n_jobs=-1)\n",
    "        scores = cross_val_score(model, features, target['rougher.output.recovery'], scoring = smape_scorer, cv=3)\n",
    "        smape_rougher = np.mean(abs(scores))\n",
    "\n",
    "        if smape_rougher < best_score:\n",
    "            best_score = smape_rougher\n",
    "            best_est = est\n",
    "            best_depth = depth\n",
    "\n",
    "print(\"Средняя оценка качества наилучшей модели по sMAPE:\", smape_rougher, \"Количество деревьев:\", best_est, \"Максимальная глубина:\", best_depth)"
   ]
  },
  {
   "cell_type": "code",
   "execution_count": 60,
   "metadata": {},
   "outputs": [
    {
     "data": {
      "text/plain": [
       "9.291728638010843"
      ]
     },
     "execution_count": 60,
     "metadata": {},
     "output_type": "execute_result"
    }
   ],
   "source": [
    "final_sMAPE(smape_rougher, smape_final)"
   ]
  },
  {
   "cell_type": "markdown",
   "metadata": {},
   "source": [
    "<b>Вывод:</b> после обучения и анализа итоговых sMAPE трёх моделей можно сказать, что наиболее подходящей моделью является  RandomForestRegressor."
   ]
  },
  {
   "cell_type": "markdown",
   "metadata": {},
   "source": [
    "### Проверка качества модели"
   ]
  },
  {
   "cell_type": "code",
   "execution_count": 61,
   "metadata": {},
   "outputs": [],
   "source": [
    "features_test = data_test.drop(['rougher.output.recovery', 'final.output.recovery'], axis=1)\n",
    "target_test_rougher = data_test['rougher.output.recovery']\n",
    "target_test_final = data_test['final.output.recovery']"
   ]
  },
  {
   "cell_type": "code",
   "execution_count": 62,
   "metadata": {},
   "outputs": [],
   "source": [
    "model_rougher = RandomForestRegressor(max_depth=6, n_estimators=250, random_state=12345)\n",
    "model_final = RandomForestRegressor(max_depth=1, n_estimators=100, random_state=12345)\n",
    "\n",
    "model_rougher.fit(features, target['rougher.output.recovery'])\n",
    "model_final.fit(features, target['final.output.recovery'])\n",
    "\n",
    "# получить предсказания на тестовой выборке\n",
    "predict_rougher = model_rougher.predict(features_test)\n",
    "predict_final = model_final.predict(features_test)"
   ]
  },
  {
   "cell_type": "code",
   "execution_count": 63,
   "metadata": {},
   "outputs": [
    {
     "data": {
      "text/plain": [
       "9.153396337664548"
      ]
     },
     "execution_count": 63,
     "metadata": {},
     "output_type": "execute_result"
    }
   ],
   "source": [
    "# посчитать sMAPE\n",
    "sMAPE_test = final_sMAPE(sMAPE(target_test_rougher, predict_rougher), sMAPE(target_test_final, predict_final))\n",
    "sMAPE_test"
   ]
  },
  {
   "cell_type": "markdown",
   "metadata": {},
   "source": [
    "### Проверка адекватности"
   ]
  },
  {
   "cell_type": "code",
   "execution_count": 64,
   "metadata": {},
   "outputs": [
    {
     "data": {
      "text/plain": [
       "9.85895005574867"
      ]
     },
     "execution_count": 64,
     "metadata": {},
     "output_type": "execute_result"
    }
   ],
   "source": [
    "dr_rougher = DummyRegressor(strategy='mean')\n",
    "dr_final = DummyRegressor(strategy='mean')\n",
    "\n",
    "dr_rougher.fit(features, target['rougher.output.recovery'])\n",
    "dr_final.fit(features, target['final.output.recovery'])\n",
    "\n",
    "dr_predict_rougher = dr_rougher.predict(features_test)\n",
    "dr_predict_final = dr_final.predict(features_test)\n",
    "\n",
    "sMAPE_final_dr = final_sMAPE(sMAPE(target_test_rougher, dr_predict_rougher), sMAPE(target_test_final, dr_predict_final))\n",
    "sMAPE_final_dr"
   ]
  },
  {
   "cell_type": "markdown",
   "metadata": {},
   "source": [
    "<b>Вывод:</b> значение, полученное у выбранной модели, немного отличается от константной."
   ]
  },
  {
   "cell_type": "markdown",
   "metadata": {},
   "source": [
    "## Выводы"
   ]
  },
  {
   "cell_type": "markdown",
   "metadata": {},
   "source": [
    "- были обработаны пропуски;\n",
    "- проверена формула вычисления эффективности обогащения на соответствие действительности;\n",
    "- исследованы изменения концентрации элементов на каждом этапе очистки: после каждого этапа очистки концентрация золота значительно возрастает, концентрация серебра уменьшается, концентрация свинца значительно повысилась после флотации, при последующей очистке повышение не такое явное, суммарная концентрация металлов стабильно повышается после прохождения каждого этапа очистки;\n",
    "- распределения размеров гранул сырья в выборках схожи, никаких корректировок вносить не требуется;\n",
    "- обучены разные модели и оценено их качество кросс-валидацией и подсчётом метрики sMAPE (симметричное среднее абсолютное процентное отклонение);\n",
    "- лучшей моделью оказалась RandomForestRegressor."
   ]
  }
 ],
 "metadata": {
  "ExecuteTimeLog": [
   {
    "duration": 10,
    "start_time": "2023-03-17T16:46:16.388Z"
   },
   {
    "duration": 296,
    "start_time": "2023-03-17T16:46:23.743Z"
   },
   {
    "duration": 5,
    "start_time": "2023-03-17T16:46:30.679Z"
   },
   {
    "duration": 9,
    "start_time": "2023-03-17T16:46:31.263Z"
   },
   {
    "duration": 53,
    "start_time": "2023-03-18T13:30:51.780Z"
   },
   {
    "duration": 9,
    "start_time": "2023-03-18T13:30:59.594Z"
   },
   {
    "duration": 1738,
    "start_time": "2023-03-18T13:31:01.490Z"
   },
   {
    "duration": 2894,
    "start_time": "2023-03-18T13:31:03.230Z"
   },
   {
    "duration": 21,
    "start_time": "2023-03-18T13:31:13.087Z"
   },
   {
    "duration": 999,
    "start_time": "2023-03-18T13:42:38.195Z"
   },
   {
    "duration": 7,
    "start_time": "2023-03-18T13:43:35.868Z"
   },
   {
    "duration": 823,
    "start_time": "2023-03-18T13:44:59.900Z"
   },
   {
    "duration": 8,
    "start_time": "2023-03-18T13:45:35.366Z"
   },
   {
    "duration": 1023,
    "start_time": "2023-03-18T13:46:06.486Z"
   },
   {
    "duration": 9,
    "start_time": "2023-03-18T13:46:12.688Z"
   },
   {
    "duration": 8,
    "start_time": "2023-03-18T13:46:21.869Z"
   },
   {
    "duration": 71,
    "start_time": "2023-03-18T13:49:08.725Z"
   },
   {
    "duration": 340,
    "start_time": "2023-03-18T13:49:47.570Z"
   },
   {
    "duration": 407,
    "start_time": "2023-03-18T13:50:08.818Z"
   },
   {
    "duration": 371,
    "start_time": "2023-03-18T13:50:20.413Z"
   },
   {
    "duration": 434,
    "start_time": "2023-03-18T13:50:36.328Z"
   },
   {
    "duration": 406,
    "start_time": "2023-03-18T13:50:52.577Z"
   },
   {
    "duration": 474,
    "start_time": "2023-03-18T13:51:04.872Z"
   },
   {
    "duration": 478,
    "start_time": "2023-03-18T13:51:27.910Z"
   },
   {
    "duration": 631,
    "start_time": "2023-03-18T13:52:39.280Z"
   },
   {
    "duration": 380,
    "start_time": "2023-03-18T13:52:54.183Z"
   },
   {
    "duration": 424,
    "start_time": "2023-03-18T13:53:00.993Z"
   },
   {
    "duration": 511,
    "start_time": "2023-03-18T13:53:17.466Z"
   },
   {
    "duration": 475,
    "start_time": "2023-03-18T13:53:34.117Z"
   },
   {
    "duration": 507,
    "start_time": "2023-03-18T13:53:36.993Z"
   },
   {
    "duration": 1716,
    "start_time": "2023-03-18T14:40:00.908Z"
   },
   {
    "duration": 884,
    "start_time": "2023-03-18T14:40:02.627Z"
   },
   {
    "duration": 90,
    "start_time": "2023-03-18T14:40:03.513Z"
   },
   {
    "duration": 52,
    "start_time": "2023-03-18T14:40:03.605Z"
   },
   {
    "duration": 31,
    "start_time": "2023-03-18T14:40:03.658Z"
   },
   {
    "duration": 16,
    "start_time": "2023-03-18T14:40:03.690Z"
   },
   {
    "duration": 653,
    "start_time": "2023-03-18T14:40:03.708Z"
   },
   {
    "duration": 269,
    "start_time": "2023-03-18T14:40:04.365Z"
   },
   {
    "duration": 29,
    "start_time": "2023-03-18T14:40:04.635Z"
   },
   {
    "duration": 15,
    "start_time": "2023-03-18T14:40:04.675Z"
   },
   {
    "duration": 9,
    "start_time": "2023-03-18T14:40:04.693Z"
   },
   {
    "duration": 307,
    "start_time": "2023-03-18T14:40:04.704Z"
   },
   {
    "duration": 392,
    "start_time": "2023-03-18T14:40:05.013Z"
   },
   {
    "duration": 9,
    "start_time": "2023-03-18T14:40:05.408Z"
   },
   {
    "duration": 338,
    "start_time": "2023-03-18T14:40:05.419Z"
   },
   {
    "duration": 303,
    "start_time": "2023-03-18T14:40:05.758Z"
   },
   {
    "duration": 19,
    "start_time": "2023-03-18T14:40:06.062Z"
   },
   {
    "duration": 30,
    "start_time": "2023-03-18T14:40:06.083Z"
   },
   {
    "duration": 1090,
    "start_time": "2023-03-18T14:40:06.115Z"
   },
   {
    "duration": 9,
    "start_time": "2023-03-18T14:40:07.210Z"
   },
   {
    "duration": 16,
    "start_time": "2023-03-18T14:40:07.221Z"
   },
   {
    "duration": 40,
    "start_time": "2023-03-18T14:40:07.239Z"
   },
   {
    "duration": 875,
    "start_time": "2023-03-18T14:40:07.281Z"
   },
   {
    "duration": 26,
    "start_time": "2023-03-18T14:40:08.163Z"
   },
   {
    "duration": 31,
    "start_time": "2023-03-18T14:40:08.196Z"
   },
   {
    "duration": 24,
    "start_time": "2023-03-18T14:40:08.228Z"
   },
   {
    "duration": 1010,
    "start_time": "2023-03-18T14:40:08.254Z"
   },
   {
    "duration": 10,
    "start_time": "2023-03-18T14:40:09.273Z"
   },
   {
    "duration": 11,
    "start_time": "2023-03-18T14:40:09.289Z"
   },
   {
    "duration": 12,
    "start_time": "2023-03-18T14:40:09.305Z"
   },
   {
    "duration": 10,
    "start_time": "2023-03-18T14:40:09.319Z"
   },
   {
    "duration": 486,
    "start_time": "2023-03-18T14:40:09.344Z"
   },
   {
    "duration": 23,
    "start_time": "2023-03-18T14:40:09.832Z"
   },
   {
    "duration": 595,
    "start_time": "2023-03-18T14:40:09.858Z"
   },
   {
    "duration": 38,
    "start_time": "2023-03-18T14:40:10.454Z"
   },
   {
    "duration": 18,
    "start_time": "2023-03-18T14:40:10.496Z"
   },
   {
    "duration": 19,
    "start_time": "2023-03-18T14:40:10.516Z"
   },
   {
    "duration": 760,
    "start_time": "2023-03-18T14:40:10.538Z"
   },
   {
    "duration": 4,
    "start_time": "2023-03-18T14:40:11.300Z"
   },
   {
    "duration": 5,
    "start_time": "2023-03-18T14:40:11.306Z"
   },
   {
    "duration": 4,
    "start_time": "2023-03-18T14:40:11.313Z"
   },
   {
    "duration": 5,
    "start_time": "2023-03-18T14:40:11.318Z"
   },
   {
    "duration": 37,
    "start_time": "2023-03-18T14:40:11.344Z"
   },
   {
    "duration": 13,
    "start_time": "2023-03-18T14:40:11.388Z"
   },
   {
    "duration": 13,
    "start_time": "2023-03-18T14:40:11.404Z"
   },
   {
    "duration": 179,
    "start_time": "2023-03-18T14:40:11.419Z"
   },
   {
    "duration": 0,
    "start_time": "2023-03-18T14:40:11.600Z"
   },
   {
    "duration": 0,
    "start_time": "2023-03-18T14:40:11.601Z"
   },
   {
    "duration": 0,
    "start_time": "2023-03-18T14:40:11.602Z"
   },
   {
    "duration": 0,
    "start_time": "2023-03-18T14:40:11.604Z"
   },
   {
    "duration": 1,
    "start_time": "2023-03-18T14:40:11.605Z"
   },
   {
    "duration": 0,
    "start_time": "2023-03-18T14:40:11.607Z"
   },
   {
    "duration": 0,
    "start_time": "2023-03-18T14:40:11.608Z"
   },
   {
    "duration": 0,
    "start_time": "2023-03-18T14:40:11.610Z"
   },
   {
    "duration": 0,
    "start_time": "2023-03-18T14:40:11.611Z"
   },
   {
    "duration": 0,
    "start_time": "2023-03-18T14:40:11.612Z"
   },
   {
    "duration": 0,
    "start_time": "2023-03-18T14:40:11.614Z"
   },
   {
    "duration": 0,
    "start_time": "2023-03-18T14:40:11.614Z"
   },
   {
    "duration": 0,
    "start_time": "2023-03-18T14:40:11.616Z"
   },
   {
    "duration": 0,
    "start_time": "2023-03-18T14:40:11.617Z"
   },
   {
    "duration": 194,
    "start_time": "2023-03-18T15:14:22.386Z"
   },
   {
    "duration": 207,
    "start_time": "2023-03-18T15:14:41.730Z"
   },
   {
    "duration": 43,
    "start_time": "2023-03-18T15:14:56.326Z"
   },
   {
    "duration": 20,
    "start_time": "2023-03-18T15:15:28.530Z"
   },
   {
    "duration": 25,
    "start_time": "2023-03-18T15:15:41.634Z"
   },
   {
    "duration": 16,
    "start_time": "2023-03-18T15:15:43.529Z"
   },
   {
    "duration": 19,
    "start_time": "2023-03-18T15:15:53.335Z"
   },
   {
    "duration": 14,
    "start_time": "2023-03-18T15:15:54.731Z"
   },
   {
    "duration": 1429,
    "start_time": "2023-03-18T15:16:26.129Z"
   },
   {
    "duration": 942,
    "start_time": "2023-03-18T15:18:22.674Z"
   },
   {
    "duration": 9,
    "start_time": "2023-03-18T15:39:26.099Z"
   },
   {
    "duration": 1089,
    "start_time": "2023-03-18T15:39:34.800Z"
   },
   {
    "duration": 7,
    "start_time": "2023-03-18T15:40:15.412Z"
   },
   {
    "duration": 907,
    "start_time": "2023-03-18T15:40:17.670Z"
   },
   {
    "duration": 12,
    "start_time": "2023-03-18T15:41:08.606Z"
   },
   {
    "duration": 11,
    "start_time": "2023-03-18T15:41:57.620Z"
   },
   {
    "duration": 7,
    "start_time": "2023-03-18T15:42:12.215Z"
   },
   {
    "duration": 95,
    "start_time": "2023-03-18T15:53:26.454Z"
   },
   {
    "duration": 24,
    "start_time": "2023-03-18T15:55:12.301Z"
   },
   {
    "duration": 42,
    "start_time": "2023-03-18T15:55:26.120Z"
   },
   {
    "duration": 2199,
    "start_time": "2023-03-18T16:04:55.313Z"
   },
   {
    "duration": 1189,
    "start_time": "2023-03-18T16:04:57.516Z"
   },
   {
    "duration": 81,
    "start_time": "2023-03-18T16:04:58.706Z"
   },
   {
    "duration": 61,
    "start_time": "2023-03-18T16:04:58.789Z"
   },
   {
    "duration": 48,
    "start_time": "2023-03-18T16:04:58.853Z"
   },
   {
    "duration": 59,
    "start_time": "2023-03-18T16:04:58.903Z"
   },
   {
    "duration": 44,
    "start_time": "2023-03-18T16:04:58.964Z"
   },
   {
    "duration": 868,
    "start_time": "2023-03-18T16:04:59.010Z"
   },
   {
    "duration": 344,
    "start_time": "2023-03-18T16:04:59.879Z"
   },
   {
    "duration": 13,
    "start_time": "2023-03-18T16:05:00.225Z"
   },
   {
    "duration": 29,
    "start_time": "2023-03-18T16:05:00.240Z"
   },
   {
    "duration": 34,
    "start_time": "2023-03-18T16:05:00.278Z"
   },
   {
    "duration": 466,
    "start_time": "2023-03-18T16:05:00.315Z"
   },
   {
    "duration": 546,
    "start_time": "2023-03-18T16:05:00.789Z"
   },
   {
    "duration": 18,
    "start_time": "2023-03-18T16:05:01.338Z"
   },
   {
    "duration": 511,
    "start_time": "2023-03-18T16:05:01.360Z"
   },
   {
    "duration": 454,
    "start_time": "2023-03-18T16:05:01.873Z"
   },
   {
    "duration": 13,
    "start_time": "2023-03-18T16:05:02.330Z"
   },
   {
    "duration": 54,
    "start_time": "2023-03-18T16:05:02.345Z"
   },
   {
    "duration": 1257,
    "start_time": "2023-03-18T16:05:02.412Z"
   },
   {
    "duration": 12,
    "start_time": "2023-03-18T16:05:03.672Z"
   },
   {
    "duration": 22,
    "start_time": "2023-03-18T16:05:03.686Z"
   },
   {
    "duration": 24,
    "start_time": "2023-03-18T16:05:03.711Z"
   },
   {
    "duration": 1179,
    "start_time": "2023-03-18T16:05:03.738Z"
   },
   {
    "duration": 10,
    "start_time": "2023-03-18T16:05:04.919Z"
   },
   {
    "duration": 25,
    "start_time": "2023-03-18T16:05:04.931Z"
   },
   {
    "duration": 31,
    "start_time": "2023-03-18T16:05:04.960Z"
   },
   {
    "duration": 1318,
    "start_time": "2023-03-18T16:05:05.016Z"
   },
   {
    "duration": 34,
    "start_time": "2023-03-18T16:05:06.339Z"
   },
   {
    "duration": 9,
    "start_time": "2023-03-18T16:05:06.375Z"
   },
   {
    "duration": 37,
    "start_time": "2023-03-18T16:05:06.386Z"
   },
   {
    "duration": 15,
    "start_time": "2023-03-18T16:05:06.424Z"
   },
   {
    "duration": 621,
    "start_time": "2023-03-18T16:05:06.442Z"
   },
   {
    "duration": 18,
    "start_time": "2023-03-18T16:05:07.070Z"
   },
   {
    "duration": 611,
    "start_time": "2023-03-18T16:05:07.097Z"
   },
   {
    "duration": 12,
    "start_time": "2023-03-18T16:05:07.713Z"
   },
   {
    "duration": 19,
    "start_time": "2023-03-18T16:05:07.728Z"
   },
   {
    "duration": 13,
    "start_time": "2023-03-18T16:05:07.749Z"
   },
   {
    "duration": 20,
    "start_time": "2023-03-18T16:05:07.767Z"
   },
   {
    "duration": 1258,
    "start_time": "2023-03-18T16:05:07.790Z"
   },
   {
    "duration": 16,
    "start_time": "2023-03-18T16:05:09.054Z"
   },
   {
    "duration": 30,
    "start_time": "2023-03-18T16:05:09.072Z"
   },
   {
    "duration": 1077,
    "start_time": "2023-03-18T16:05:09.104Z"
   },
   {
    "duration": 137,
    "start_time": "2023-03-18T16:05:10.185Z"
   },
   {
    "duration": 0,
    "start_time": "2023-03-18T16:05:10.323Z"
   },
   {
    "duration": 0,
    "start_time": "2023-03-18T16:05:10.324Z"
   },
   {
    "duration": 0,
    "start_time": "2023-03-18T16:05:10.325Z"
   },
   {
    "duration": 0,
    "start_time": "2023-03-18T16:05:10.327Z"
   },
   {
    "duration": 0,
    "start_time": "2023-03-18T16:05:10.328Z"
   },
   {
    "duration": 0,
    "start_time": "2023-03-18T16:05:10.329Z"
   },
   {
    "duration": 0,
    "start_time": "2023-03-18T16:05:10.330Z"
   },
   {
    "duration": 0,
    "start_time": "2023-03-18T16:05:10.331Z"
   },
   {
    "duration": 0,
    "start_time": "2023-03-18T16:05:10.333Z"
   },
   {
    "duration": 0,
    "start_time": "2023-03-18T16:05:10.333Z"
   },
   {
    "duration": 0,
    "start_time": "2023-03-18T16:05:10.334Z"
   },
   {
    "duration": 0,
    "start_time": "2023-03-18T16:05:10.336Z"
   },
   {
    "duration": 0,
    "start_time": "2023-03-18T16:05:10.336Z"
   },
   {
    "duration": 0,
    "start_time": "2023-03-18T16:05:10.338Z"
   },
   {
    "duration": 0,
    "start_time": "2023-03-18T16:05:10.338Z"
   },
   {
    "duration": 0,
    "start_time": "2023-03-18T16:05:10.349Z"
   },
   {
    "duration": 0,
    "start_time": "2023-03-18T16:05:10.350Z"
   },
   {
    "duration": 0,
    "start_time": "2023-03-18T16:05:10.352Z"
   },
   {
    "duration": 0,
    "start_time": "2023-03-18T16:05:10.353Z"
   },
   {
    "duration": 0,
    "start_time": "2023-03-18T16:05:10.354Z"
   },
   {
    "duration": 0,
    "start_time": "2023-03-18T16:05:10.355Z"
   },
   {
    "duration": 0,
    "start_time": "2023-03-18T16:05:10.355Z"
   },
   {
    "duration": 39,
    "start_time": "2023-03-18T16:06:31.720Z"
   },
   {
    "duration": 67,
    "start_time": "2023-03-18T16:06:33.726Z"
   },
   {
    "duration": 1147,
    "start_time": "2023-03-18T16:07:08.462Z"
   },
   {
    "duration": 23,
    "start_time": "2023-03-18T16:08:50.111Z"
   },
   {
    "duration": 1240,
    "start_time": "2023-03-18T16:08:54.279Z"
   },
   {
    "duration": 6,
    "start_time": "2023-03-18T16:09:24.410Z"
   },
   {
    "duration": 1055,
    "start_time": "2023-03-18T16:09:27.514Z"
   },
   {
    "duration": 116,
    "start_time": "2023-03-18T16:11:50.204Z"
   },
   {
    "duration": 15,
    "start_time": "2023-03-18T16:12:05.370Z"
   },
   {
    "duration": 4,
    "start_time": "2023-03-18T16:12:08.210Z"
   },
   {
    "duration": 10,
    "start_time": "2023-03-18T16:12:10.387Z"
   },
   {
    "duration": 291,
    "start_time": "2023-03-18T16:14:30.813Z"
   },
   {
    "duration": 7,
    "start_time": "2023-03-18T16:14:47.714Z"
   },
   {
    "duration": 33,
    "start_time": "2023-03-18T16:15:27.315Z"
   },
   {
    "duration": 74,
    "start_time": "2023-03-18T16:18:01.114Z"
   },
   {
    "duration": 1652,
    "start_time": "2023-03-18T16:18:37.567Z"
   },
   {
    "duration": 939,
    "start_time": "2023-03-18T16:18:39.221Z"
   },
   {
    "duration": 93,
    "start_time": "2023-03-18T16:18:40.166Z"
   },
   {
    "duration": 45,
    "start_time": "2023-03-18T16:18:40.269Z"
   },
   {
    "duration": 61,
    "start_time": "2023-03-18T16:18:40.316Z"
   },
   {
    "duration": 39,
    "start_time": "2023-03-18T16:18:40.379Z"
   },
   {
    "duration": 14,
    "start_time": "2023-03-18T16:18:40.421Z"
   },
   {
    "duration": 669,
    "start_time": "2023-03-18T16:18:40.437Z"
   },
   {
    "duration": 279,
    "start_time": "2023-03-18T16:18:41.108Z"
   },
   {
    "duration": 19,
    "start_time": "2023-03-18T16:18:41.391Z"
   },
   {
    "duration": 10,
    "start_time": "2023-03-18T16:18:41.413Z"
   },
   {
    "duration": 33,
    "start_time": "2023-03-18T16:18:41.425Z"
   },
   {
    "duration": 320,
    "start_time": "2023-03-18T16:18:41.461Z"
   },
   {
    "duration": 355,
    "start_time": "2023-03-18T16:18:41.782Z"
   },
   {
    "duration": 32,
    "start_time": "2023-03-18T16:18:42.145Z"
   },
   {
    "duration": 427,
    "start_time": "2023-03-18T16:18:42.186Z"
   },
   {
    "duration": 314,
    "start_time": "2023-03-18T16:18:42.615Z"
   },
   {
    "duration": 40,
    "start_time": "2023-03-18T16:18:42.931Z"
   },
   {
    "duration": 23,
    "start_time": "2023-03-18T16:18:42.980Z"
   },
   {
    "duration": 79,
    "start_time": "2023-03-18T16:18:43.005Z"
   },
   {
    "duration": 1051,
    "start_time": "2023-03-18T16:18:43.085Z"
   },
   {
    "duration": 15,
    "start_time": "2023-03-18T16:18:44.146Z"
   },
   {
    "duration": 14,
    "start_time": "2023-03-18T16:18:44.171Z"
   },
   {
    "duration": 13,
    "start_time": "2023-03-18T16:18:44.186Z"
   },
   {
    "duration": 869,
    "start_time": "2023-03-18T16:18:44.200Z"
   },
   {
    "duration": 13,
    "start_time": "2023-03-18T16:18:45.070Z"
   },
   {
    "duration": 11,
    "start_time": "2023-03-18T16:18:45.085Z"
   },
   {
    "duration": 12,
    "start_time": "2023-03-18T16:18:45.100Z"
   },
   {
    "duration": 1008,
    "start_time": "2023-03-18T16:18:45.114Z"
   },
   {
    "duration": 9,
    "start_time": "2023-03-18T16:18:46.125Z"
   },
   {
    "duration": 32,
    "start_time": "2023-03-18T16:18:46.146Z"
   },
   {
    "duration": 20,
    "start_time": "2023-03-18T16:18:46.185Z"
   },
   {
    "duration": 16,
    "start_time": "2023-03-18T16:18:46.207Z"
   },
   {
    "duration": 903,
    "start_time": "2023-03-18T16:18:46.225Z"
   },
   {
    "duration": 26,
    "start_time": "2023-03-18T16:18:47.131Z"
   },
   {
    "duration": 820,
    "start_time": "2023-03-18T16:18:47.161Z"
   },
   {
    "duration": 16,
    "start_time": "2023-03-18T16:18:47.987Z"
   },
   {
    "duration": 10,
    "start_time": "2023-03-18T16:18:48.006Z"
   },
   {
    "duration": 43,
    "start_time": "2023-03-18T16:18:48.019Z"
   },
   {
    "duration": 16,
    "start_time": "2023-03-18T16:18:48.078Z"
   },
   {
    "duration": 903,
    "start_time": "2023-03-18T16:18:48.097Z"
   },
   {
    "duration": 25,
    "start_time": "2023-03-18T16:18:49.001Z"
   },
   {
    "duration": 29,
    "start_time": "2023-03-18T16:18:49.028Z"
   },
   {
    "duration": 1033,
    "start_time": "2023-03-18T16:18:49.066Z"
   },
   {
    "duration": 5,
    "start_time": "2023-03-18T16:18:50.101Z"
   },
   {
    "duration": 5,
    "start_time": "2023-03-18T16:18:50.108Z"
   },
   {
    "duration": 4,
    "start_time": "2023-03-18T16:18:50.115Z"
   },
   {
    "duration": 26,
    "start_time": "2023-03-18T16:18:50.121Z"
   },
   {
    "duration": 169,
    "start_time": "2023-03-18T16:18:50.148Z"
   },
   {
    "duration": 0,
    "start_time": "2023-03-18T16:18:50.318Z"
   },
   {
    "duration": 0,
    "start_time": "2023-03-18T16:18:50.319Z"
   },
   {
    "duration": 0,
    "start_time": "2023-03-18T16:18:50.320Z"
   },
   {
    "duration": 0,
    "start_time": "2023-03-18T16:18:50.322Z"
   },
   {
    "duration": 0,
    "start_time": "2023-03-18T16:18:50.323Z"
   },
   {
    "duration": 0,
    "start_time": "2023-03-18T16:18:50.324Z"
   },
   {
    "duration": 0,
    "start_time": "2023-03-18T16:18:50.325Z"
   },
   {
    "duration": 0,
    "start_time": "2023-03-18T16:18:50.326Z"
   },
   {
    "duration": 0,
    "start_time": "2023-03-18T16:18:50.327Z"
   },
   {
    "duration": 0,
    "start_time": "2023-03-18T16:18:50.328Z"
   },
   {
    "duration": 0,
    "start_time": "2023-03-18T16:18:50.350Z"
   },
   {
    "duration": 0,
    "start_time": "2023-03-18T16:18:50.356Z"
   },
   {
    "duration": 0,
    "start_time": "2023-03-18T16:18:50.358Z"
   },
   {
    "duration": 1,
    "start_time": "2023-03-18T16:18:50.359Z"
   },
   {
    "duration": 0,
    "start_time": "2023-03-18T16:18:50.361Z"
   },
   {
    "duration": 0,
    "start_time": "2023-03-18T16:18:50.362Z"
   },
   {
    "duration": 39,
    "start_time": "2023-03-18T16:19:11.354Z"
   },
   {
    "duration": 22,
    "start_time": "2023-03-18T16:19:19.014Z"
   },
   {
    "duration": 5,
    "start_time": "2023-03-18T16:19:44.698Z"
   },
   {
    "duration": 23,
    "start_time": "2023-03-18T16:19:51.315Z"
   },
   {
    "duration": 19,
    "start_time": "2023-03-18T16:20:09.470Z"
   },
   {
    "duration": 102,
    "start_time": "2023-03-18T16:22:58.970Z"
   },
   {
    "duration": 4314,
    "start_time": "2023-03-18T16:23:25.194Z"
   },
   {
    "duration": 4062,
    "start_time": "2023-03-18T16:23:44.000Z"
   },
   {
    "duration": 4573,
    "start_time": "2023-03-18T16:24:19.297Z"
   },
   {
    "duration": 4369,
    "start_time": "2023-03-18T16:24:25.795Z"
   },
   {
    "duration": 7,
    "start_time": "2023-03-18T16:24:36.774Z"
   },
   {
    "duration": 24757,
    "start_time": "2023-03-18T16:27:38.778Z"
   },
   {
    "duration": 20991,
    "start_time": "2023-03-18T16:28:14.330Z"
   },
   {
    "duration": 5,
    "start_time": "2023-03-18T16:28:38.722Z"
   },
   {
    "duration": 79350,
    "start_time": "2023-03-18T16:30:40.629Z"
   },
   {
    "duration": 1898,
    "start_time": "2023-03-18T16:42:25.916Z"
   },
   {
    "duration": 885,
    "start_time": "2023-03-18T16:42:27.816Z"
   },
   {
    "duration": 75,
    "start_time": "2023-03-18T16:42:28.703Z"
   },
   {
    "duration": 81,
    "start_time": "2023-03-18T16:42:28.784Z"
   },
   {
    "duration": 41,
    "start_time": "2023-03-18T16:42:28.870Z"
   },
   {
    "duration": 50,
    "start_time": "2023-03-18T16:42:28.912Z"
   },
   {
    "duration": 28,
    "start_time": "2023-03-18T16:42:28.972Z"
   },
   {
    "duration": 704,
    "start_time": "2023-03-18T16:42:29.001Z"
   },
   {
    "duration": 299,
    "start_time": "2023-03-18T16:42:29.709Z"
   },
   {
    "duration": 11,
    "start_time": "2023-03-18T16:42:30.012Z"
   },
   {
    "duration": 40,
    "start_time": "2023-03-18T16:42:30.025Z"
   },
   {
    "duration": 18,
    "start_time": "2023-03-18T16:42:30.066Z"
   },
   {
    "duration": 325,
    "start_time": "2023-03-18T16:42:30.090Z"
   },
   {
    "duration": 424,
    "start_time": "2023-03-18T16:42:30.416Z"
   },
   {
    "duration": 18,
    "start_time": "2023-03-18T16:42:30.842Z"
   },
   {
    "duration": 332,
    "start_time": "2023-03-18T16:42:30.868Z"
   },
   {
    "duration": 372,
    "start_time": "2023-03-18T16:42:31.201Z"
   },
   {
    "duration": 18,
    "start_time": "2023-03-18T16:42:31.585Z"
   },
   {
    "duration": 20,
    "start_time": "2023-03-18T16:42:31.605Z"
   },
   {
    "duration": 88,
    "start_time": "2023-03-18T16:42:31.627Z"
   },
   {
    "duration": 991,
    "start_time": "2023-03-18T16:42:31.718Z"
   },
   {
    "duration": 8,
    "start_time": "2023-03-18T16:42:32.711Z"
   },
   {
    "duration": 49,
    "start_time": "2023-03-18T16:42:32.721Z"
   },
   {
    "duration": 21,
    "start_time": "2023-03-18T16:42:32.772Z"
   },
   {
    "duration": 918,
    "start_time": "2023-03-18T16:42:32.796Z"
   },
   {
    "duration": 8,
    "start_time": "2023-03-18T16:42:33.716Z"
   },
   {
    "duration": 39,
    "start_time": "2023-03-18T16:42:33.726Z"
   },
   {
    "duration": 24,
    "start_time": "2023-03-18T16:42:33.771Z"
   },
   {
    "duration": 1019,
    "start_time": "2023-03-18T16:42:33.797Z"
   },
   {
    "duration": 8,
    "start_time": "2023-03-18T16:42:34.819Z"
   },
   {
    "duration": 51,
    "start_time": "2023-03-18T16:42:34.829Z"
   },
   {
    "duration": 15,
    "start_time": "2023-03-18T16:42:34.888Z"
   },
   {
    "duration": 14,
    "start_time": "2023-03-18T16:42:34.906Z"
   },
   {
    "duration": 992,
    "start_time": "2023-03-18T16:42:34.922Z"
   },
   {
    "duration": 11,
    "start_time": "2023-03-18T16:42:35.916Z"
   },
   {
    "duration": 747,
    "start_time": "2023-03-18T16:42:35.929Z"
   },
   {
    "duration": 19,
    "start_time": "2023-03-18T16:42:36.685Z"
   },
   {
    "duration": 10,
    "start_time": "2023-03-18T16:42:36.706Z"
   },
   {
    "duration": 10,
    "start_time": "2023-03-18T16:42:36.718Z"
   },
   {
    "duration": 23,
    "start_time": "2023-03-18T16:42:36.730Z"
   },
   {
    "duration": 974,
    "start_time": "2023-03-18T16:42:36.777Z"
   },
   {
    "duration": 38,
    "start_time": "2023-03-18T16:42:37.752Z"
   },
   {
    "duration": 12,
    "start_time": "2023-03-18T16:42:37.792Z"
   },
   {
    "duration": 1002,
    "start_time": "2023-03-18T16:42:37.806Z"
   },
   {
    "duration": 4,
    "start_time": "2023-03-18T16:42:38.810Z"
   },
   {
    "duration": 4,
    "start_time": "2023-03-18T16:42:38.816Z"
   },
   {
    "duration": 4,
    "start_time": "2023-03-18T16:42:38.822Z"
   },
   {
    "duration": 37,
    "start_time": "2023-03-18T16:42:38.848Z"
   },
   {
    "duration": 8,
    "start_time": "2023-03-18T16:42:38.890Z"
   },
   {
    "duration": 4245,
    "start_time": "2023-03-18T16:42:38.900Z"
   },
   {
    "duration": 4758,
    "start_time": "2023-03-18T16:42:43.151Z"
   },
   {
    "duration": 51,
    "start_time": "2023-03-18T16:42:47.911Z"
   },
   {
    "duration": 15805,
    "start_time": "2023-03-18T16:42:47.964Z"
   },
   {
    "duration": 16244,
    "start_time": "2023-03-18T16:43:03.781Z"
   },
   {
    "duration": 7,
    "start_time": "2023-03-18T16:43:20.029Z"
   },
   {
    "duration": 863855,
    "start_time": "2023-03-18T16:43:20.038Z"
   },
   {
    "duration": 177,
    "start_time": "2023-03-18T16:57:43.898Z"
   },
   {
    "duration": 0,
    "start_time": "2023-03-18T16:57:44.079Z"
   },
   {
    "duration": 0,
    "start_time": "2023-03-18T16:57:44.083Z"
   },
   {
    "duration": 0,
    "start_time": "2023-03-18T16:57:44.084Z"
   },
   {
    "duration": 0,
    "start_time": "2023-03-18T16:57:44.086Z"
   },
   {
    "duration": 0,
    "start_time": "2023-03-18T16:57:44.088Z"
   },
   {
    "duration": 0,
    "start_time": "2023-03-18T16:57:44.090Z"
   },
   {
    "duration": 0,
    "start_time": "2023-03-18T16:57:44.091Z"
   },
   {
    "duration": 2500,
    "start_time": "2023-03-20T07:30:07.471Z"
   },
   {
    "duration": 3330,
    "start_time": "2023-03-20T07:30:09.974Z"
   },
   {
    "duration": 68,
    "start_time": "2023-03-20T07:30:13.306Z"
   },
   {
    "duration": 61,
    "start_time": "2023-03-20T07:30:13.376Z"
   },
   {
    "duration": 32,
    "start_time": "2023-03-20T07:30:13.439Z"
   },
   {
    "duration": 53,
    "start_time": "2023-03-20T07:30:13.473Z"
   },
   {
    "duration": 15,
    "start_time": "2023-03-20T07:30:13.528Z"
   },
   {
    "duration": 742,
    "start_time": "2023-03-20T07:30:13.545Z"
   },
   {
    "duration": 320,
    "start_time": "2023-03-20T07:30:14.290Z"
   },
   {
    "duration": 13,
    "start_time": "2023-03-20T07:30:14.613Z"
   },
   {
    "duration": 20,
    "start_time": "2023-03-20T07:30:14.628Z"
   },
   {
    "duration": 21,
    "start_time": "2023-03-20T07:30:14.650Z"
   },
   {
    "duration": 450,
    "start_time": "2023-03-20T07:30:14.673Z"
   },
   {
    "duration": 313,
    "start_time": "2023-03-20T07:30:15.126Z"
   },
   {
    "duration": 8,
    "start_time": "2023-03-20T07:30:15.441Z"
   },
   {
    "duration": 316,
    "start_time": "2023-03-20T07:30:15.451Z"
   },
   {
    "duration": 339,
    "start_time": "2023-03-20T07:30:15.770Z"
   },
   {
    "duration": 13,
    "start_time": "2023-03-20T07:30:16.115Z"
   },
   {
    "duration": 21,
    "start_time": "2023-03-20T07:30:16.130Z"
   },
   {
    "duration": 116,
    "start_time": "2023-03-20T07:30:16.152Z"
   },
   {
    "duration": 1544,
    "start_time": "2023-03-20T07:30:16.270Z"
   },
   {
    "duration": 10,
    "start_time": "2023-03-20T07:30:17.816Z"
   },
   {
    "duration": 22,
    "start_time": "2023-03-20T07:30:17.829Z"
   },
   {
    "duration": 20,
    "start_time": "2023-03-20T07:30:17.854Z"
   },
   {
    "duration": 1024,
    "start_time": "2023-03-20T07:30:17.876Z"
   },
   {
    "duration": 8,
    "start_time": "2023-03-20T07:30:18.902Z"
   },
   {
    "duration": 21,
    "start_time": "2023-03-20T07:30:18.913Z"
   },
   {
    "duration": 20,
    "start_time": "2023-03-20T07:30:18.941Z"
   },
   {
    "duration": 1073,
    "start_time": "2023-03-20T07:30:18.963Z"
   },
   {
    "duration": 9,
    "start_time": "2023-03-20T07:30:20.038Z"
   },
   {
    "duration": 15,
    "start_time": "2023-03-20T07:30:20.049Z"
   },
   {
    "duration": 36,
    "start_time": "2023-03-20T07:30:20.066Z"
   },
   {
    "duration": 23,
    "start_time": "2023-03-20T07:30:20.106Z"
   },
   {
    "duration": 762,
    "start_time": "2023-03-20T07:30:20.131Z"
   },
   {
    "duration": 15,
    "start_time": "2023-03-20T07:30:20.895Z"
   },
   {
    "duration": 772,
    "start_time": "2023-03-20T07:30:20.913Z"
   },
   {
    "duration": 12,
    "start_time": "2023-03-20T07:30:21.690Z"
   },
   {
    "duration": 26,
    "start_time": "2023-03-20T07:30:21.704Z"
   },
   {
    "duration": 40,
    "start_time": "2023-03-20T07:30:21.732Z"
   },
   {
    "duration": 43,
    "start_time": "2023-03-20T07:30:21.774Z"
   },
   {
    "duration": 1264,
    "start_time": "2023-03-20T07:30:21.823Z"
   },
   {
    "duration": 20,
    "start_time": "2023-03-20T07:30:23.089Z"
   },
   {
    "duration": 6,
    "start_time": "2023-03-20T07:30:23.113Z"
   },
   {
    "duration": 1021,
    "start_time": "2023-03-20T07:30:23.121Z"
   },
   {
    "duration": 4,
    "start_time": "2023-03-20T07:30:24.144Z"
   },
   {
    "duration": 7,
    "start_time": "2023-03-20T07:30:24.150Z"
   },
   {
    "duration": 8,
    "start_time": "2023-03-20T07:30:24.159Z"
   },
   {
    "duration": 24,
    "start_time": "2023-03-20T07:30:24.169Z"
   },
   {
    "duration": 12,
    "start_time": "2023-03-20T07:30:24.195Z"
   },
   {
    "duration": 1787,
    "start_time": "2023-03-20T07:30:24.209Z"
   },
   {
    "duration": 1990,
    "start_time": "2023-03-20T07:30:26.001Z"
   },
   {
    "duration": 5,
    "start_time": "2023-03-20T07:30:27.994Z"
   },
   {
    "duration": 13415,
    "start_time": "2023-03-20T07:30:28.001Z"
   },
   {
    "duration": 12785,
    "start_time": "2023-03-20T07:30:41.418Z"
   },
   {
    "duration": 4,
    "start_time": "2023-03-20T07:30:54.205Z"
   },
   {
    "duration": 634639,
    "start_time": "2023-03-20T07:30:54.211Z"
   },
   {
    "duration": 164,
    "start_time": "2023-03-20T07:41:28.852Z"
   },
   {
    "duration": 0,
    "start_time": "2023-03-20T07:41:29.018Z"
   },
   {
    "duration": 0,
    "start_time": "2023-03-20T07:41:29.021Z"
   },
   {
    "duration": 0,
    "start_time": "2023-03-20T07:41:29.023Z"
   },
   {
    "duration": 0,
    "start_time": "2023-03-20T07:41:29.024Z"
   },
   {
    "duration": 0,
    "start_time": "2023-03-20T07:41:29.025Z"
   },
   {
    "duration": 0,
    "start_time": "2023-03-20T07:41:29.027Z"
   },
   {
    "duration": 0,
    "start_time": "2023-03-20T07:41:29.029Z"
   },
   {
    "duration": 650841,
    "start_time": "2023-03-20T07:43:36.794Z"
   },
   {
    "duration": 6,
    "start_time": "2023-03-20T07:57:55.546Z"
   },
   {
    "duration": 1179838,
    "start_time": "2023-03-20T07:59:32.478Z"
   },
   {
    "duration": 1200999,
    "start_time": "2023-03-20T08:19:12.319Z"
   },
   {
    "duration": 2263,
    "start_time": "2023-03-20T08:59:24.911Z"
   },
   {
    "duration": 1759,
    "start_time": "2023-03-20T08:59:27.177Z"
   },
   {
    "duration": 74,
    "start_time": "2023-03-20T08:59:28.938Z"
   },
   {
    "duration": 51,
    "start_time": "2023-03-20T08:59:29.016Z"
   },
   {
    "duration": 48,
    "start_time": "2023-03-20T08:59:29.071Z"
   },
   {
    "duration": 77,
    "start_time": "2023-03-20T08:59:29.121Z"
   },
   {
    "duration": 20,
    "start_time": "2023-03-20T08:59:29.202Z"
   },
   {
    "duration": 691,
    "start_time": "2023-03-20T08:59:29.225Z"
   },
   {
    "duration": 287,
    "start_time": "2023-03-20T08:59:29.918Z"
   },
   {
    "duration": 12,
    "start_time": "2023-03-20T08:59:30.211Z"
   },
   {
    "duration": 25,
    "start_time": "2023-03-20T08:59:30.224Z"
   },
   {
    "duration": 17,
    "start_time": "2023-03-20T08:59:30.251Z"
   },
   {
    "duration": 405,
    "start_time": "2023-03-20T08:59:30.270Z"
   },
   {
    "duration": 417,
    "start_time": "2023-03-20T08:59:30.680Z"
   },
   {
    "duration": 16,
    "start_time": "2023-03-20T08:59:31.102Z"
   },
   {
    "duration": 343,
    "start_time": "2023-03-20T08:59:31.121Z"
   },
   {
    "duration": 461,
    "start_time": "2023-03-20T08:59:31.465Z"
   },
   {
    "duration": 12,
    "start_time": "2023-03-20T08:59:31.929Z"
   },
   {
    "duration": 57,
    "start_time": "2023-03-20T08:59:31.944Z"
   },
   {
    "duration": 128,
    "start_time": "2023-03-20T08:59:32.005Z"
   },
   {
    "duration": 1103,
    "start_time": "2023-03-20T08:59:32.135Z"
   },
   {
    "duration": 9,
    "start_time": "2023-03-20T08:59:33.241Z"
   },
   {
    "duration": 18,
    "start_time": "2023-03-20T08:59:33.253Z"
   },
   {
    "duration": 52,
    "start_time": "2023-03-20T08:59:33.273Z"
   },
   {
    "duration": 935,
    "start_time": "2023-03-20T08:59:33.326Z"
   },
   {
    "duration": 13,
    "start_time": "2023-03-20T08:59:34.265Z"
   },
   {
    "duration": 16,
    "start_time": "2023-03-20T08:59:34.281Z"
   },
   {
    "duration": 26,
    "start_time": "2023-03-20T08:59:34.306Z"
   },
   {
    "duration": 1236,
    "start_time": "2023-03-20T08:59:34.334Z"
   },
   {
    "duration": 17,
    "start_time": "2023-03-20T08:59:35.573Z"
   },
   {
    "duration": 12,
    "start_time": "2023-03-20T08:59:35.594Z"
   },
   {
    "duration": 24,
    "start_time": "2023-03-20T08:59:35.608Z"
   },
   {
    "duration": 18,
    "start_time": "2023-03-20T08:59:35.634Z"
   },
   {
    "duration": 984,
    "start_time": "2023-03-20T08:59:35.654Z"
   },
   {
    "duration": 15,
    "start_time": "2023-03-20T08:59:36.641Z"
   },
   {
    "duration": 819,
    "start_time": "2023-03-20T08:59:36.658Z"
   },
   {
    "duration": 38,
    "start_time": "2023-03-20T08:59:37.479Z"
   },
   {
    "duration": 14,
    "start_time": "2023-03-20T08:59:37.520Z"
   },
   {
    "duration": 13,
    "start_time": "2023-03-20T08:59:37.537Z"
   },
   {
    "duration": 16,
    "start_time": "2023-03-20T08:59:37.553Z"
   },
   {
    "duration": 1015,
    "start_time": "2023-03-20T08:59:37.593Z"
   },
   {
    "duration": 23,
    "start_time": "2023-03-20T08:59:38.610Z"
   },
   {
    "duration": 5,
    "start_time": "2023-03-20T08:59:38.636Z"
   },
   {
    "duration": 1183,
    "start_time": "2023-03-20T08:59:38.643Z"
   },
   {
    "duration": 4,
    "start_time": "2023-03-20T08:59:39.829Z"
   },
   {
    "duration": 12,
    "start_time": "2023-03-20T08:59:39.835Z"
   },
   {
    "duration": 6,
    "start_time": "2023-03-20T08:59:39.849Z"
   },
   {
    "duration": 9,
    "start_time": "2023-03-20T08:59:39.857Z"
   },
   {
    "duration": 36,
    "start_time": "2023-03-20T08:59:39.868Z"
   },
   {
    "duration": 2085,
    "start_time": "2023-03-20T08:59:39.910Z"
   },
   {
    "duration": 3332,
    "start_time": "2023-03-20T08:59:41.998Z"
   },
   {
    "duration": 71,
    "start_time": "2023-03-20T08:59:45.332Z"
   },
   {
    "duration": 13985,
    "start_time": "2023-03-20T08:59:45.413Z"
   },
   {
    "duration": 15100,
    "start_time": "2023-03-20T08:59:59.404Z"
   },
   {
    "duration": 12,
    "start_time": "2023-03-20T09:00:14.508Z"
   },
   {
    "duration": 309074,
    "start_time": "2023-03-20T09:00:14.523Z"
   },
   {
    "duration": 0,
    "start_time": "2023-03-20T09:05:23.599Z"
   },
   {
    "duration": 0,
    "start_time": "2023-03-20T09:05:23.603Z"
   },
   {
    "duration": 0,
    "start_time": "2023-03-20T09:05:23.604Z"
   },
   {
    "duration": 0,
    "start_time": "2023-03-20T09:05:23.605Z"
   },
   {
    "duration": 0,
    "start_time": "2023-03-20T09:05:23.606Z"
   },
   {
    "duration": 0,
    "start_time": "2023-03-20T09:05:23.610Z"
   },
   {
    "duration": 0,
    "start_time": "2023-03-20T09:05:23.610Z"
   },
   {
    "duration": 0,
    "start_time": "2023-03-20T09:05:23.611Z"
   },
   {
    "duration": 15,
    "start_time": "2023-03-20T09:05:33.009Z"
   },
   {
    "duration": 6,
    "start_time": "2023-03-20T09:06:20.917Z"
   },
   {
    "duration": 20,
    "start_time": "2023-03-20T09:08:21.748Z"
   },
   {
    "duration": 18,
    "start_time": "2023-03-20T09:08:41.719Z"
   },
   {
    "duration": 21,
    "start_time": "2023-03-20T09:08:45.719Z"
   },
   {
    "duration": 23,
    "start_time": "2023-03-20T09:09:27.456Z"
   },
   {
    "duration": 679537,
    "start_time": "2023-03-20T09:09:37.570Z"
   },
   {
    "duration": 0,
    "start_time": "2023-03-20T09:20:57.115Z"
   },
   {
    "duration": 807285,
    "start_time": "2023-03-20T09:21:03.378Z"
   },
   {
    "duration": 1396162,
    "start_time": "2023-03-20T09:34:45.576Z"
   },
   {
    "duration": 704954,
    "start_time": "2023-03-20T10:00:23.866Z"
   },
   {
    "duration": 1314262,
    "start_time": "2023-03-20T10:12:50.013Z"
   },
   {
    "duration": 438431,
    "start_time": "2023-03-20T10:34:50.948Z"
   },
   {
    "duration": 441138,
    "start_time": "2023-03-20T10:43:02.773Z"
   },
   {
    "duration": 4,
    "start_time": "2023-03-20T10:50:59.021Z"
   },
   {
    "duration": 6776,
    "start_time": "2023-03-20T10:51:33.573Z"
   },
   {
    "duration": 6859,
    "start_time": "2023-03-20T10:51:44.526Z"
   },
   {
    "duration": 5,
    "start_time": "2023-03-20T10:51:55.467Z"
   },
   {
    "duration": 2008,
    "start_time": "2023-03-20T10:52:05.183Z"
   },
   {
    "duration": 840,
    "start_time": "2023-03-20T10:52:09.857Z"
   },
   {
    "duration": 4,
    "start_time": "2023-03-20T10:52:12.139Z"
   },
   {
    "duration": 69,
    "start_time": "2023-03-20T10:53:12.509Z"
   },
   {
    "duration": 27,
    "start_time": "2023-03-20T10:53:46.523Z"
   },
   {
    "duration": 21,
    "start_time": "2023-03-20T10:53:56.291Z"
   },
   {
    "duration": 7,
    "start_time": "2023-03-20T10:55:17.122Z"
   },
   {
    "duration": 353,
    "start_time": "2023-03-20T10:59:38.912Z"
   },
   {
    "duration": 9,
    "start_time": "2023-03-20T10:59:44.046Z"
   },
   {
    "duration": 11,
    "start_time": "2023-03-20T11:01:11.008Z"
   },
   {
    "duration": 1058,
    "start_time": "2023-03-20T11:10:50.507Z"
   },
   {
    "duration": 8,
    "start_time": "2023-03-20T11:10:54.922Z"
   },
   {
    "duration": 504,
    "start_time": "2023-03-20T11:11:37.666Z"
   },
   {
    "duration": 5,
    "start_time": "2023-03-20T11:11:39.825Z"
   },
   {
    "duration": 54,
    "start_time": "2023-03-20T11:13:19.587Z"
   },
   {
    "duration": 5,
    "start_time": "2023-03-20T11:13:27.257Z"
   },
   {
    "duration": 5,
    "start_time": "2023-03-20T11:13:59.050Z"
   },
   {
    "duration": 4655,
    "start_time": "2023-03-20T11:14:38.788Z"
   },
   {
    "duration": 4171,
    "start_time": "2023-03-20T11:14:43.445Z"
   },
   {
    "duration": 68,
    "start_time": "2023-03-20T11:14:47.618Z"
   },
   {
    "duration": 65,
    "start_time": "2023-03-20T11:14:47.688Z"
   },
   {
    "duration": 481,
    "start_time": "2023-03-20T11:14:47.756Z"
   },
   {
    "duration": 41,
    "start_time": "2023-03-20T11:14:48.239Z"
   },
   {
    "duration": 35,
    "start_time": "2023-03-20T11:14:48.293Z"
   },
   {
    "duration": 726,
    "start_time": "2023-03-20T11:14:48.332Z"
   },
   {
    "duration": 322,
    "start_time": "2023-03-20T11:14:49.060Z"
   },
   {
    "duration": 23,
    "start_time": "2023-03-20T11:14:49.383Z"
   },
   {
    "duration": 30,
    "start_time": "2023-03-20T11:14:49.410Z"
   },
   {
    "duration": 11,
    "start_time": "2023-03-20T11:14:49.442Z"
   },
   {
    "duration": 388,
    "start_time": "2023-03-20T11:14:49.454Z"
   },
   {
    "duration": 422,
    "start_time": "2023-03-20T11:14:49.846Z"
   },
   {
    "duration": 8,
    "start_time": "2023-03-20T11:14:50.270Z"
   },
   {
    "duration": 381,
    "start_time": "2023-03-20T11:14:50.279Z"
   },
   {
    "duration": 359,
    "start_time": "2023-03-20T11:14:50.661Z"
   },
   {
    "duration": 15,
    "start_time": "2023-03-20T11:14:51.021Z"
   },
   {
    "duration": 24,
    "start_time": "2023-03-20T11:14:51.038Z"
   },
   {
    "duration": 345,
    "start_time": "2023-03-20T11:14:51.065Z"
   },
   {
    "duration": 1291,
    "start_time": "2023-03-20T11:14:51.413Z"
   },
   {
    "duration": 10,
    "start_time": "2023-03-20T11:14:52.706Z"
   },
   {
    "duration": 17,
    "start_time": "2023-03-20T11:14:52.721Z"
   },
   {
    "duration": 13,
    "start_time": "2023-03-20T11:14:52.741Z"
   },
   {
    "duration": 1121,
    "start_time": "2023-03-20T11:14:52.756Z"
   },
   {
    "duration": 27,
    "start_time": "2023-03-20T11:14:53.879Z"
   },
   {
    "duration": 26,
    "start_time": "2023-03-20T11:14:53.919Z"
   },
   {
    "duration": 24,
    "start_time": "2023-03-20T11:14:53.947Z"
   },
   {
    "duration": 1964,
    "start_time": "2023-03-20T11:14:53.974Z"
   },
   {
    "duration": 11,
    "start_time": "2023-03-20T11:14:55.940Z"
   },
   {
    "duration": 13,
    "start_time": "2023-03-20T11:14:55.953Z"
   },
   {
    "duration": 47,
    "start_time": "2023-03-20T11:14:55.969Z"
   },
   {
    "duration": 36,
    "start_time": "2023-03-20T11:14:56.019Z"
   },
   {
    "duration": 835,
    "start_time": "2023-03-20T11:14:56.057Z"
   },
   {
    "duration": 24,
    "start_time": "2023-03-20T11:14:56.895Z"
   },
   {
    "duration": 935,
    "start_time": "2023-03-20T11:14:56.922Z"
   },
   {
    "duration": 14,
    "start_time": "2023-03-20T11:14:57.859Z"
   },
   {
    "duration": 27,
    "start_time": "2023-03-20T11:14:57.876Z"
   },
   {
    "duration": 44,
    "start_time": "2023-03-20T11:14:57.907Z"
   },
   {
    "duration": 12,
    "start_time": "2023-03-20T11:14:57.957Z"
   },
   {
    "duration": 1207,
    "start_time": "2023-03-20T11:14:57.975Z"
   },
   {
    "duration": 22,
    "start_time": "2023-03-20T11:14:59.184Z"
   },
   {
    "duration": 44,
    "start_time": "2023-03-20T11:14:59.208Z"
   },
   {
    "duration": 1386,
    "start_time": "2023-03-20T11:14:59.254Z"
   },
   {
    "duration": 5,
    "start_time": "2023-03-20T11:15:00.644Z"
   },
   {
    "duration": 96,
    "start_time": "2023-03-20T11:15:00.651Z"
   },
   {
    "duration": 19,
    "start_time": "2023-03-20T11:15:00.750Z"
   },
   {
    "duration": 43,
    "start_time": "2023-03-20T11:15:00.772Z"
   },
   {
    "duration": 64,
    "start_time": "2023-03-20T11:15:00.818Z"
   },
   {
    "duration": 3160,
    "start_time": "2023-03-20T11:15:00.884Z"
   },
   {
    "duration": 1743,
    "start_time": "2023-03-20T11:15:04.057Z"
   },
   {
    "duration": 16,
    "start_time": "2023-03-20T11:15:05.803Z"
   },
   {
    "duration": 7390,
    "start_time": "2023-03-20T11:15:05.825Z"
   },
   {
    "duration": 7204,
    "start_time": "2023-03-20T11:15:13.224Z"
   },
   {
    "duration": 5,
    "start_time": "2023-03-20T11:15:20.431Z"
   },
   {
    "duration": 446721,
    "start_time": "2023-03-20T11:15:20.438Z"
   },
   {
    "duration": 431906,
    "start_time": "2023-03-20T11:22:47.161Z"
   },
   {
    "duration": 5,
    "start_time": "2023-03-20T11:29:59.069Z"
   },
   {
    "duration": 33,
    "start_time": "2023-03-20T11:29:59.075Z"
   },
   {
    "duration": 456,
    "start_time": "2023-03-20T11:29:59.110Z"
   },
   {
    "duration": 5,
    "start_time": "2023-03-20T11:29:59.567Z"
   },
   {
    "duration": 55,
    "start_time": "2023-03-20T11:29:59.574Z"
   },
   {
    "duration": 5,
    "start_time": "2023-03-20T11:29:59.631Z"
   },
   {
    "duration": 1904,
    "start_time": "2023-03-20T18:31:57.268Z"
   },
   {
    "duration": 3051,
    "start_time": "2023-03-20T18:31:59.175Z"
   },
   {
    "duration": 73,
    "start_time": "2023-03-20T18:32:02.227Z"
   },
   {
    "duration": 61,
    "start_time": "2023-03-20T18:32:02.302Z"
   },
   {
    "duration": 29,
    "start_time": "2023-03-20T18:32:02.365Z"
   },
   {
    "duration": 61,
    "start_time": "2023-03-20T18:32:02.396Z"
   },
   {
    "duration": 16,
    "start_time": "2023-03-20T18:32:02.459Z"
   },
   {
    "duration": 741,
    "start_time": "2023-03-20T18:32:02.478Z"
   },
   {
    "duration": 285,
    "start_time": "2023-03-20T18:32:03.221Z"
   },
   {
    "duration": 14,
    "start_time": "2023-03-20T18:32:03.510Z"
   },
   {
    "duration": 31,
    "start_time": "2023-03-20T18:32:03.526Z"
   },
   {
    "duration": 21,
    "start_time": "2023-03-20T18:32:03.561Z"
   },
   {
    "duration": 314,
    "start_time": "2023-03-20T18:32:03.583Z"
   },
   {
    "duration": 462,
    "start_time": "2023-03-20T18:32:03.898Z"
   },
   {
    "duration": 9,
    "start_time": "2023-03-20T18:32:04.362Z"
   },
   {
    "duration": 295,
    "start_time": "2023-03-20T18:32:04.372Z"
   },
   {
    "duration": 296,
    "start_time": "2023-03-20T18:32:04.669Z"
   },
   {
    "duration": 9,
    "start_time": "2023-03-20T18:32:04.967Z"
   },
   {
    "duration": 148,
    "start_time": "2023-03-20T18:32:04.977Z"
   },
   {
    "duration": 98,
    "start_time": "2023-03-20T18:32:05.128Z"
   },
   {
    "duration": 1151,
    "start_time": "2023-03-20T18:32:05.228Z"
   },
   {
    "duration": 7,
    "start_time": "2023-03-20T18:32:06.381Z"
   },
   {
    "duration": 11,
    "start_time": "2023-03-20T18:32:06.389Z"
   },
   {
    "duration": 15,
    "start_time": "2023-03-20T18:32:06.401Z"
   },
   {
    "duration": 952,
    "start_time": "2023-03-20T18:32:06.417Z"
   },
   {
    "duration": 9,
    "start_time": "2023-03-20T18:32:07.372Z"
   },
   {
    "duration": 10,
    "start_time": "2023-03-20T18:32:07.383Z"
   },
   {
    "duration": 54,
    "start_time": "2023-03-20T18:32:07.399Z"
   },
   {
    "duration": 1132,
    "start_time": "2023-03-20T18:32:07.456Z"
   },
   {
    "duration": 9,
    "start_time": "2023-03-20T18:32:08.590Z"
   },
   {
    "duration": 32,
    "start_time": "2023-03-20T18:32:08.600Z"
   },
   {
    "duration": 33,
    "start_time": "2023-03-20T18:32:08.634Z"
   },
   {
    "duration": 21,
    "start_time": "2023-03-20T18:32:08.670Z"
   },
   {
    "duration": 748,
    "start_time": "2023-03-20T18:32:08.693Z"
   },
   {
    "duration": 17,
    "start_time": "2023-03-20T18:32:09.444Z"
   },
   {
    "duration": 573,
    "start_time": "2023-03-20T18:32:09.462Z"
   },
   {
    "duration": 21,
    "start_time": "2023-03-20T18:32:10.038Z"
   },
   {
    "duration": 19,
    "start_time": "2023-03-20T18:32:10.061Z"
   },
   {
    "duration": 11,
    "start_time": "2023-03-20T18:32:10.082Z"
   },
   {
    "duration": 21,
    "start_time": "2023-03-20T18:32:10.094Z"
   },
   {
    "duration": 868,
    "start_time": "2023-03-20T18:32:10.117Z"
   },
   {
    "duration": 17,
    "start_time": "2023-03-20T18:32:10.987Z"
   },
   {
    "duration": 8,
    "start_time": "2023-03-20T18:32:11.006Z"
   },
   {
    "duration": 1068,
    "start_time": "2023-03-20T18:32:11.016Z"
   },
   {
    "duration": 3,
    "start_time": "2023-03-20T18:32:12.086Z"
   },
   {
    "duration": 7,
    "start_time": "2023-03-20T18:32:12.091Z"
   },
   {
    "duration": 5,
    "start_time": "2023-03-20T18:32:12.100Z"
   },
   {
    "duration": 8,
    "start_time": "2023-03-20T18:32:12.106Z"
   },
   {
    "duration": 12,
    "start_time": "2023-03-20T18:32:12.116Z"
   },
   {
    "duration": 901,
    "start_time": "2023-03-20T18:32:12.143Z"
   },
   {
    "duration": 1306,
    "start_time": "2023-03-20T18:32:13.048Z"
   },
   {
    "duration": 5,
    "start_time": "2023-03-20T18:32:14.360Z"
   },
   {
    "duration": 6122,
    "start_time": "2023-03-20T18:32:14.368Z"
   },
   {
    "duration": 6186,
    "start_time": "2023-03-20T18:32:20.492Z"
   },
   {
    "duration": 5,
    "start_time": "2023-03-20T18:32:26.680Z"
   },
   {
    "duration": 243238,
    "start_time": "2023-03-20T18:32:26.687Z"
   },
   {
    "duration": 0,
    "start_time": "2023-03-20T18:36:29.927Z"
   },
   {
    "duration": 0,
    "start_time": "2023-03-20T18:36:29.928Z"
   },
   {
    "duration": 0,
    "start_time": "2023-03-20T18:36:29.929Z"
   },
   {
    "duration": 0,
    "start_time": "2023-03-20T18:36:29.941Z"
   },
   {
    "duration": 0,
    "start_time": "2023-03-20T18:36:29.942Z"
   },
   {
    "duration": 0,
    "start_time": "2023-03-20T18:36:29.943Z"
   },
   {
    "duration": 0,
    "start_time": "2023-03-20T18:36:29.944Z"
   },
   {
    "duration": 395511,
    "start_time": "2023-03-20T18:37:24.789Z"
   },
   {
    "duration": 392354,
    "start_time": "2023-03-20T18:44:00.303Z"
   },
   {
    "duration": 4,
    "start_time": "2023-03-20T18:51:27.917Z"
   },
   {
    "duration": 7,
    "start_time": "2023-03-20T18:51:38.552Z"
   },
   {
    "duration": 45777,
    "start_time": "2023-03-20T18:52:42.282Z"
   },
   {
    "duration": 12,
    "start_time": "2023-03-20T18:54:19.046Z"
   },
   {
    "duration": 12,
    "start_time": "2023-03-20T18:55:02.658Z"
   },
   {
    "duration": 12,
    "start_time": "2023-03-20T19:00:38.440Z"
   },
   {
    "duration": 48194,
    "start_time": "2023-03-20T19:03:51.277Z"
   },
   {
    "duration": 8,
    "start_time": "2023-03-20T19:04:47.082Z"
   },
   {
    "duration": 10,
    "start_time": "2023-03-20T19:05:11.851Z"
   },
   {
    "duration": 11,
    "start_time": "2023-03-20T19:08:19.676Z"
   },
   {
    "duration": 74854,
    "start_time": "2023-03-20T19:11:43.213Z"
   },
   {
    "duration": 11,
    "start_time": "2023-03-20T19:13:19.399Z"
   },
   {
    "duration": 11,
    "start_time": "2023-03-20T19:13:23.881Z"
   },
   {
    "duration": 23440,
    "start_time": "2023-03-20T19:14:15.259Z"
   },
   {
    "duration": 12,
    "start_time": "2023-03-20T19:15:00.811Z"
   },
   {
    "duration": 821,
    "start_time": "2023-03-20T19:16:57.132Z"
   },
   {
    "duration": 2028,
    "start_time": "2023-03-20T19:17:19.629Z"
   },
   {
    "duration": 1599,
    "start_time": "2023-03-20T19:17:21.660Z"
   },
   {
    "duration": 60,
    "start_time": "2023-03-20T19:17:23.261Z"
   },
   {
    "duration": 69,
    "start_time": "2023-03-20T19:17:23.324Z"
   },
   {
    "duration": 30,
    "start_time": "2023-03-20T19:17:23.396Z"
   },
   {
    "duration": 46,
    "start_time": "2023-03-20T19:17:23.428Z"
   },
   {
    "duration": 14,
    "start_time": "2023-03-20T19:17:23.476Z"
   },
   {
    "duration": 688,
    "start_time": "2023-03-20T19:17:23.492Z"
   },
   {
    "duration": 280,
    "start_time": "2023-03-20T19:17:24.183Z"
   },
   {
    "duration": 10,
    "start_time": "2023-03-20T19:17:24.467Z"
   },
   {
    "duration": 36,
    "start_time": "2023-03-20T19:17:24.480Z"
   },
   {
    "duration": 13,
    "start_time": "2023-03-20T19:17:24.519Z"
   },
   {
    "duration": 378,
    "start_time": "2023-03-20T19:17:24.535Z"
   },
   {
    "duration": 385,
    "start_time": "2023-03-20T19:17:24.915Z"
   },
   {
    "duration": 8,
    "start_time": "2023-03-20T19:17:25.301Z"
   },
   {
    "duration": 305,
    "start_time": "2023-03-20T19:17:25.311Z"
   },
   {
    "duration": 323,
    "start_time": "2023-03-20T19:17:25.618Z"
   },
   {
    "duration": 16,
    "start_time": "2023-03-20T19:17:25.949Z"
   },
   {
    "duration": 43,
    "start_time": "2023-03-20T19:17:25.967Z"
   },
   {
    "duration": 105,
    "start_time": "2023-03-20T19:17:26.012Z"
   },
   {
    "duration": 1108,
    "start_time": "2023-03-20T19:17:26.119Z"
   },
   {
    "duration": 18,
    "start_time": "2023-03-20T19:17:27.229Z"
   },
   {
    "duration": 30,
    "start_time": "2023-03-20T19:17:27.256Z"
   },
   {
    "duration": 14,
    "start_time": "2023-03-20T19:17:27.288Z"
   },
   {
    "duration": 870,
    "start_time": "2023-03-20T19:17:27.304Z"
   },
   {
    "duration": 7,
    "start_time": "2023-03-20T19:17:28.176Z"
   },
   {
    "duration": 17,
    "start_time": "2023-03-20T19:17:28.184Z"
   },
   {
    "duration": 26,
    "start_time": "2023-03-20T19:17:28.205Z"
   },
   {
    "duration": 1139,
    "start_time": "2023-03-20T19:17:28.233Z"
   },
   {
    "duration": 8,
    "start_time": "2023-03-20T19:17:29.374Z"
   },
   {
    "duration": 18,
    "start_time": "2023-03-20T19:17:29.384Z"
   },
   {
    "duration": 15,
    "start_time": "2023-03-20T19:17:29.404Z"
   },
   {
    "duration": 38,
    "start_time": "2023-03-20T19:17:29.421Z"
   },
   {
    "duration": 572,
    "start_time": "2023-03-20T19:17:29.460Z"
   },
   {
    "duration": 17,
    "start_time": "2023-03-20T19:17:30.040Z"
   },
   {
    "duration": 574,
    "start_time": "2023-03-20T19:17:30.059Z"
   },
   {
    "duration": 13,
    "start_time": "2023-03-20T19:17:30.641Z"
   },
   {
    "duration": 34,
    "start_time": "2023-03-20T19:17:30.656Z"
   },
   {
    "duration": 43,
    "start_time": "2023-03-20T19:17:30.692Z"
   },
   {
    "duration": 72,
    "start_time": "2023-03-20T19:17:30.738Z"
   },
   {
    "duration": 1044,
    "start_time": "2023-03-20T19:17:30.812Z"
   },
   {
    "duration": 17,
    "start_time": "2023-03-20T19:17:31.858Z"
   },
   {
    "duration": 15,
    "start_time": "2023-03-20T19:17:31.877Z"
   },
   {
    "duration": 1065,
    "start_time": "2023-03-20T19:17:31.894Z"
   },
   {
    "duration": 4,
    "start_time": "2023-03-20T19:17:32.961Z"
   },
   {
    "duration": 8,
    "start_time": "2023-03-20T19:17:32.967Z"
   },
   {
    "duration": 6,
    "start_time": "2023-03-20T19:17:32.977Z"
   },
   {
    "duration": 8,
    "start_time": "2023-03-20T19:17:32.984Z"
   },
   {
    "duration": 38,
    "start_time": "2023-03-20T19:17:32.993Z"
   },
   {
    "duration": 159,
    "start_time": "2023-03-20T19:17:33.033Z"
   },
   {
    "duration": 0,
    "start_time": "2023-03-20T19:17:33.194Z"
   },
   {
    "duration": 0,
    "start_time": "2023-03-20T19:17:33.195Z"
   },
   {
    "duration": 0,
    "start_time": "2023-03-20T19:17:33.196Z"
   },
   {
    "duration": 0,
    "start_time": "2023-03-20T19:17:33.198Z"
   },
   {
    "duration": 0,
    "start_time": "2023-03-20T19:17:33.199Z"
   },
   {
    "duration": 0,
    "start_time": "2023-03-20T19:17:33.201Z"
   },
   {
    "duration": 0,
    "start_time": "2023-03-20T19:17:33.202Z"
   },
   {
    "duration": 0,
    "start_time": "2023-03-20T19:17:33.203Z"
   },
   {
    "duration": 0,
    "start_time": "2023-03-20T19:17:33.205Z"
   },
   {
    "duration": 0,
    "start_time": "2023-03-20T19:17:33.206Z"
   },
   {
    "duration": 0,
    "start_time": "2023-03-20T19:17:33.208Z"
   },
   {
    "duration": 0,
    "start_time": "2023-03-20T19:17:33.210Z"
   },
   {
    "duration": 801,
    "start_time": "2023-03-20T19:19:16.237Z"
   },
   {
    "duration": 1517,
    "start_time": "2023-03-20T19:19:22.419Z"
   },
   {
    "duration": 725,
    "start_time": "2023-03-20T19:19:23.938Z"
   },
   {
    "duration": 58,
    "start_time": "2023-03-20T19:19:24.665Z"
   },
   {
    "duration": 55,
    "start_time": "2023-03-20T19:19:24.725Z"
   },
   {
    "duration": 59,
    "start_time": "2023-03-20T19:19:24.782Z"
   },
   {
    "duration": 36,
    "start_time": "2023-03-20T19:19:24.843Z"
   },
   {
    "duration": 80,
    "start_time": "2023-03-20T19:19:24.881Z"
   },
   {
    "duration": 1314,
    "start_time": "2023-03-20T19:19:24.962Z"
   },
   {
    "duration": 511,
    "start_time": "2023-03-20T19:19:26.278Z"
   },
   {
    "duration": 50,
    "start_time": "2023-03-20T19:19:26.791Z"
   },
   {
    "duration": 9,
    "start_time": "2023-03-20T19:19:26.843Z"
   },
   {
    "duration": 8,
    "start_time": "2023-03-20T19:19:26.854Z"
   },
   {
    "duration": 298,
    "start_time": "2023-03-20T19:19:26.864Z"
   },
   {
    "duration": 368,
    "start_time": "2023-03-20T19:19:27.163Z"
   },
   {
    "duration": 15,
    "start_time": "2023-03-20T19:19:27.533Z"
   },
   {
    "duration": 281,
    "start_time": "2023-03-20T19:19:27.550Z"
   },
   {
    "duration": 292,
    "start_time": "2023-03-20T19:19:27.833Z"
   },
   {
    "duration": 14,
    "start_time": "2023-03-20T19:19:28.127Z"
   },
   {
    "duration": 19,
    "start_time": "2023-03-20T19:19:28.143Z"
   },
   {
    "duration": 90,
    "start_time": "2023-03-20T19:19:28.164Z"
   },
   {
    "duration": 953,
    "start_time": "2023-03-20T19:19:28.256Z"
   },
   {
    "duration": 8,
    "start_time": "2023-03-20T19:19:29.211Z"
   },
   {
    "duration": 24,
    "start_time": "2023-03-20T19:19:29.221Z"
   },
   {
    "duration": 13,
    "start_time": "2023-03-20T19:19:29.247Z"
   },
   {
    "duration": 830,
    "start_time": "2023-03-20T19:19:29.261Z"
   },
   {
    "duration": 7,
    "start_time": "2023-03-20T19:19:30.094Z"
   },
   {
    "duration": 33,
    "start_time": "2023-03-20T19:19:30.103Z"
   },
   {
    "duration": 41,
    "start_time": "2023-03-20T19:19:30.140Z"
   },
   {
    "duration": 995,
    "start_time": "2023-03-20T19:19:30.183Z"
   },
   {
    "duration": 6,
    "start_time": "2023-03-20T19:19:31.181Z"
   },
   {
    "duration": 31,
    "start_time": "2023-03-20T19:19:31.188Z"
   },
   {
    "duration": 50,
    "start_time": "2023-03-20T19:19:31.222Z"
   },
   {
    "duration": 38,
    "start_time": "2023-03-20T19:19:31.274Z"
   },
   {
    "duration": 630,
    "start_time": "2023-03-20T19:19:31.314Z"
   },
   {
    "duration": 13,
    "start_time": "2023-03-20T19:19:31.946Z"
   },
   {
    "duration": 672,
    "start_time": "2023-03-20T19:19:31.960Z"
   },
   {
    "duration": 9,
    "start_time": "2023-03-20T19:19:32.633Z"
   },
   {
    "duration": 9,
    "start_time": "2023-03-20T19:19:32.644Z"
   },
   {
    "duration": 8,
    "start_time": "2023-03-20T19:19:32.655Z"
   },
   {
    "duration": 25,
    "start_time": "2023-03-20T19:19:32.665Z"
   },
   {
    "duration": 866,
    "start_time": "2023-03-20T19:19:32.692Z"
   },
   {
    "duration": 32,
    "start_time": "2023-03-20T19:19:33.560Z"
   },
   {
    "duration": 5,
    "start_time": "2023-03-20T19:19:33.594Z"
   },
   {
    "duration": 1033,
    "start_time": "2023-03-20T19:19:33.601Z"
   },
   {
    "duration": 4,
    "start_time": "2023-03-20T19:19:34.637Z"
   },
   {
    "duration": 10,
    "start_time": "2023-03-20T19:19:34.643Z"
   },
   {
    "duration": 6,
    "start_time": "2023-03-20T19:19:34.654Z"
   },
   {
    "duration": 8,
    "start_time": "2023-03-20T19:19:34.662Z"
   },
   {
    "duration": 7,
    "start_time": "2023-03-20T19:19:34.672Z"
   },
   {
    "duration": 145,
    "start_time": "2023-03-20T19:19:34.680Z"
   },
   {
    "duration": 0,
    "start_time": "2023-03-20T19:19:34.826Z"
   },
   {
    "duration": 0,
    "start_time": "2023-03-20T19:19:34.828Z"
   },
   {
    "duration": 0,
    "start_time": "2023-03-20T19:19:34.829Z"
   },
   {
    "duration": 0,
    "start_time": "2023-03-20T19:19:34.830Z"
   },
   {
    "duration": 0,
    "start_time": "2023-03-20T19:19:34.831Z"
   },
   {
    "duration": 0,
    "start_time": "2023-03-20T19:19:34.841Z"
   },
   {
    "duration": 0,
    "start_time": "2023-03-20T19:19:34.842Z"
   },
   {
    "duration": 0,
    "start_time": "2023-03-20T19:19:34.843Z"
   },
   {
    "duration": 0,
    "start_time": "2023-03-20T19:19:34.844Z"
   },
   {
    "duration": 0,
    "start_time": "2023-03-20T19:19:34.844Z"
   },
   {
    "duration": 0,
    "start_time": "2023-03-20T19:19:34.846Z"
   },
   {
    "duration": 0,
    "start_time": "2023-03-20T19:19:34.848Z"
   },
   {
    "duration": 1500,
    "start_time": "2023-03-20T19:21:33.595Z"
   },
   {
    "duration": 738,
    "start_time": "2023-03-20T19:21:35.097Z"
   },
   {
    "duration": 79,
    "start_time": "2023-03-20T19:21:35.838Z"
   },
   {
    "duration": 72,
    "start_time": "2023-03-20T19:21:35.919Z"
   },
   {
    "duration": 50,
    "start_time": "2023-03-20T19:21:35.993Z"
   },
   {
    "duration": 44,
    "start_time": "2023-03-20T19:21:36.045Z"
   },
   {
    "duration": 15,
    "start_time": "2023-03-20T19:21:36.091Z"
   },
   {
    "duration": 703,
    "start_time": "2023-03-20T19:21:36.108Z"
   },
   {
    "duration": 247,
    "start_time": "2023-03-20T19:21:36.812Z"
   },
   {
    "duration": 11,
    "start_time": "2023-03-20T19:21:37.061Z"
   },
   {
    "duration": 13,
    "start_time": "2023-03-20T19:21:37.074Z"
   },
   {
    "duration": 21,
    "start_time": "2023-03-20T19:21:37.089Z"
   },
   {
    "duration": 328,
    "start_time": "2023-03-20T19:21:37.113Z"
   },
   {
    "duration": 400,
    "start_time": "2023-03-20T19:21:37.444Z"
   },
   {
    "duration": 9,
    "start_time": "2023-03-20T19:21:37.846Z"
   },
   {
    "duration": 302,
    "start_time": "2023-03-20T19:21:37.857Z"
   },
   {
    "duration": 292,
    "start_time": "2023-03-20T19:21:38.161Z"
   },
   {
    "duration": 9,
    "start_time": "2023-03-20T19:21:38.454Z"
   },
   {
    "duration": 24,
    "start_time": "2023-03-20T19:21:38.465Z"
   },
   {
    "duration": 99,
    "start_time": "2023-03-20T19:21:38.491Z"
   },
   {
    "duration": 916,
    "start_time": "2023-03-20T19:21:38.593Z"
   },
   {
    "duration": 8,
    "start_time": "2023-03-20T19:21:39.511Z"
   },
   {
    "duration": 23,
    "start_time": "2023-03-20T19:21:39.520Z"
   },
   {
    "duration": 23,
    "start_time": "2023-03-20T19:21:39.545Z"
   },
   {
    "duration": 848,
    "start_time": "2023-03-20T19:21:39.572Z"
   },
   {
    "duration": 7,
    "start_time": "2023-03-20T19:21:40.422Z"
   },
   {
    "duration": 8,
    "start_time": "2023-03-20T19:21:40.441Z"
   },
   {
    "duration": 21,
    "start_time": "2023-03-20T19:21:40.451Z"
   },
   {
    "duration": 1059,
    "start_time": "2023-03-20T19:21:40.474Z"
   },
   {
    "duration": 7,
    "start_time": "2023-03-20T19:21:41.541Z"
   },
   {
    "duration": 17,
    "start_time": "2023-03-20T19:21:41.550Z"
   },
   {
    "duration": 17,
    "start_time": "2023-03-20T19:21:41.570Z"
   },
   {
    "duration": 14,
    "start_time": "2023-03-20T19:21:41.590Z"
   },
   {
    "duration": 636,
    "start_time": "2023-03-20T19:21:41.606Z"
   },
   {
    "duration": 13,
    "start_time": "2023-03-20T19:21:42.244Z"
   },
   {
    "duration": 724,
    "start_time": "2023-03-20T19:21:42.259Z"
   },
   {
    "duration": 61,
    "start_time": "2023-03-20T19:21:42.985Z"
   },
   {
    "duration": 9,
    "start_time": "2023-03-20T19:21:43.048Z"
   },
   {
    "duration": 12,
    "start_time": "2023-03-20T19:21:43.058Z"
   },
   {
    "duration": 9,
    "start_time": "2023-03-20T19:21:43.072Z"
   },
   {
    "duration": 1524,
    "start_time": "2023-03-20T19:21:43.086Z"
   },
   {
    "duration": 29,
    "start_time": "2023-03-20T19:21:44.612Z"
   },
   {
    "duration": 5,
    "start_time": "2023-03-20T19:21:44.643Z"
   },
   {
    "duration": 1039,
    "start_time": "2023-03-20T19:21:44.651Z"
   },
   {
    "duration": 4,
    "start_time": "2023-03-20T19:21:45.693Z"
   },
   {
    "duration": 10,
    "start_time": "2023-03-20T19:21:45.698Z"
   },
   {
    "duration": 12,
    "start_time": "2023-03-20T19:21:45.710Z"
   },
   {
    "duration": 24,
    "start_time": "2023-03-20T19:21:45.724Z"
   },
   {
    "duration": 21,
    "start_time": "2023-03-20T19:21:45.750Z"
   },
   {
    "duration": 868,
    "start_time": "2023-03-20T19:21:45.773Z"
   },
   {
    "duration": 599,
    "start_time": "2023-03-20T19:21:46.643Z"
   },
   {
    "duration": 4,
    "start_time": "2023-03-20T19:21:47.244Z"
   },
   {
    "duration": 6781,
    "start_time": "2023-03-20T19:21:47.340Z"
   },
   {
    "duration": 7904,
    "start_time": "2023-03-20T19:21:54.123Z"
   },
   {
    "duration": 4,
    "start_time": "2023-03-20T19:22:02.029Z"
   },
   {
    "duration": 51454,
    "start_time": "2023-03-20T19:22:02.041Z"
   },
   {
    "duration": 0,
    "start_time": "2023-03-20T19:22:53.497Z"
   },
   {
    "duration": 0,
    "start_time": "2023-03-20T19:22:53.498Z"
   },
   {
    "duration": 0,
    "start_time": "2023-03-20T19:22:53.499Z"
   },
   {
    "duration": 0,
    "start_time": "2023-03-20T19:22:53.500Z"
   },
   {
    "duration": 0,
    "start_time": "2023-03-20T19:22:53.501Z"
   },
   {
    "duration": 0,
    "start_time": "2023-03-20T19:22:53.502Z"
   },
   {
    "duration": 7,
    "start_time": "2023-03-20T19:22:57.814Z"
   },
   {
    "duration": 287,
    "start_time": "2023-03-20T19:22:59.796Z"
   },
   {
    "duration": 284,
    "start_time": "2023-03-20T19:23:04.450Z"
   },
   {
    "duration": 334,
    "start_time": "2023-03-20T19:23:08.954Z"
   },
   {
    "duration": 12,
    "start_time": "2023-03-20T19:24:07.933Z"
   },
   {
    "duration": 430,
    "start_time": "2023-03-20T19:24:16.578Z"
   },
   {
    "duration": 12,
    "start_time": "2023-03-20T19:24:30.742Z"
   },
   {
    "duration": 272,
    "start_time": "2023-03-20T19:24:31.936Z"
   },
   {
    "duration": 1485,
    "start_time": "2023-03-20T19:24:43.663Z"
   },
   {
    "duration": 727,
    "start_time": "2023-03-20T19:24:45.150Z"
   },
   {
    "duration": 94,
    "start_time": "2023-03-20T19:24:45.880Z"
   },
   {
    "duration": 54,
    "start_time": "2023-03-20T19:24:45.976Z"
   },
   {
    "duration": 31,
    "start_time": "2023-03-20T19:24:46.041Z"
   },
   {
    "duration": 42,
    "start_time": "2023-03-20T19:24:46.075Z"
   },
   {
    "duration": 12,
    "start_time": "2023-03-20T19:24:46.141Z"
   },
   {
    "duration": 606,
    "start_time": "2023-03-20T19:24:46.155Z"
   },
   {
    "duration": 254,
    "start_time": "2023-03-20T19:24:46.763Z"
   },
   {
    "duration": 9,
    "start_time": "2023-03-20T19:24:47.021Z"
   },
   {
    "duration": 10,
    "start_time": "2023-03-20T19:24:47.041Z"
   },
   {
    "duration": 9,
    "start_time": "2023-03-20T19:24:47.053Z"
   },
   {
    "duration": 320,
    "start_time": "2023-03-20T19:24:47.063Z"
   },
   {
    "duration": 396,
    "start_time": "2023-03-20T19:24:47.385Z"
   },
   {
    "duration": 9,
    "start_time": "2023-03-20T19:24:47.783Z"
   },
   {
    "duration": 299,
    "start_time": "2023-03-20T19:24:47.793Z"
   },
   {
    "duration": 298,
    "start_time": "2023-03-20T19:24:48.094Z"
   },
   {
    "duration": 15,
    "start_time": "2023-03-20T19:24:48.395Z"
   },
   {
    "duration": 296,
    "start_time": "2023-03-20T19:24:48.412Z"
   },
   {
    "duration": 16,
    "start_time": "2023-03-20T19:24:48.710Z"
   },
   {
    "duration": 89,
    "start_time": "2023-03-20T19:24:48.728Z"
   },
   {
    "duration": 996,
    "start_time": "2023-03-20T19:24:48.819Z"
   },
   {
    "duration": 8,
    "start_time": "2023-03-20T19:24:49.817Z"
   },
   {
    "duration": 21,
    "start_time": "2023-03-20T19:24:49.826Z"
   },
   {
    "duration": 14,
    "start_time": "2023-03-20T19:24:49.849Z"
   },
   {
    "duration": 859,
    "start_time": "2023-03-20T19:24:49.865Z"
   },
   {
    "duration": 16,
    "start_time": "2023-03-20T19:24:50.726Z"
   },
   {
    "duration": 7,
    "start_time": "2023-03-20T19:24:50.746Z"
   },
   {
    "duration": 15,
    "start_time": "2023-03-20T19:24:50.755Z"
   },
   {
    "duration": 1031,
    "start_time": "2023-03-20T19:24:50.771Z"
   },
   {
    "duration": 9,
    "start_time": "2023-03-20T19:24:51.804Z"
   },
   {
    "duration": 27,
    "start_time": "2023-03-20T19:24:51.816Z"
   },
   {
    "duration": 21,
    "start_time": "2023-03-20T19:24:51.845Z"
   },
   {
    "duration": 17,
    "start_time": "2023-03-20T19:24:51.868Z"
   },
   {
    "duration": 975,
    "start_time": "2023-03-20T19:24:51.887Z"
   },
   {
    "duration": 12,
    "start_time": "2023-03-20T19:24:52.864Z"
   },
   {
    "duration": 896,
    "start_time": "2023-03-20T19:24:52.878Z"
   },
   {
    "duration": 9,
    "start_time": "2023-03-20T19:24:53.776Z"
   },
   {
    "duration": 57,
    "start_time": "2023-03-20T19:24:53.787Z"
   },
   {
    "duration": 25,
    "start_time": "2023-03-20T19:24:53.846Z"
   },
   {
    "duration": 32,
    "start_time": "2023-03-20T19:24:53.872Z"
   },
   {
    "duration": 1231,
    "start_time": "2023-03-20T19:24:53.906Z"
   },
   {
    "duration": 16,
    "start_time": "2023-03-20T19:24:55.140Z"
   },
   {
    "duration": 6,
    "start_time": "2023-03-20T19:24:55.158Z"
   },
   {
    "duration": 934,
    "start_time": "2023-03-20T19:24:55.165Z"
   },
   {
    "duration": 3,
    "start_time": "2023-03-20T19:24:56.101Z"
   },
   {
    "duration": 15,
    "start_time": "2023-03-20T19:24:56.106Z"
   },
   {
    "duration": 9,
    "start_time": "2023-03-20T19:24:56.123Z"
   },
   {
    "duration": 17,
    "start_time": "2023-03-20T19:24:56.134Z"
   },
   {
    "duration": 14,
    "start_time": "2023-03-20T19:24:56.153Z"
   },
   {
    "duration": 878,
    "start_time": "2023-03-20T19:24:56.169Z"
   },
   {
    "duration": 896,
    "start_time": "2023-03-20T19:24:57.050Z"
   },
   {
    "duration": 6,
    "start_time": "2023-03-20T19:24:57.948Z"
   },
   {
    "duration": 6732,
    "start_time": "2023-03-20T19:24:57.956Z"
   },
   {
    "duration": 5540,
    "start_time": "2023-03-20T19:25:04.690Z"
   },
   {
    "duration": 4,
    "start_time": "2023-03-20T19:25:10.231Z"
   },
   {
    "duration": 373620,
    "start_time": "2023-03-20T19:25:10.241Z"
   },
   {
    "duration": 371301,
    "start_time": "2023-03-20T19:31:23.863Z"
   },
   {
    "duration": 4,
    "start_time": "2023-03-20T19:37:35.166Z"
   },
   {
    "duration": 13,
    "start_time": "2023-03-20T19:37:35.172Z"
   },
   {
    "duration": 22649,
    "start_time": "2023-03-20T19:37:35.187Z"
   },
   {
    "duration": 13,
    "start_time": "2023-03-20T19:37:57.837Z"
   },
   {
    "duration": 21,
    "start_time": "2023-03-20T19:37:57.852Z"
   },
   {
    "duration": 3130,
    "start_time": "2023-03-20T19:39:26.651Z"
   },
   {
    "duration": 10,
    "start_time": "2023-03-20T19:39:31.438Z"
   },
   {
    "duration": 3255,
    "start_time": "2023-03-20T19:39:41.849Z"
   },
   {
    "duration": 9,
    "start_time": "2023-03-20T19:39:47.165Z"
   },
   {
    "duration": 31700,
    "start_time": "2023-03-20T19:40:12.485Z"
   },
   {
    "duration": 10,
    "start_time": "2023-03-20T19:40:51.964Z"
   },
   {
    "duration": 70129,
    "start_time": "2023-03-20T19:41:07.513Z"
   },
   {
    "duration": 13,
    "start_time": "2023-03-20T19:43:18.688Z"
   },
   {
    "duration": 116,
    "start_time": "2023-03-20T19:45:08.944Z"
   },
   {
    "duration": 17,
    "start_time": "2023-03-20T19:45:53.463Z"
   },
   {
    "duration": 12,
    "start_time": "2023-03-20T19:46:19.271Z"
   },
   {
    "duration": 11,
    "start_time": "2023-03-20T19:46:29.959Z"
   },
   {
    "duration": 12,
    "start_time": "2023-03-20T19:46:35.747Z"
   },
   {
    "duration": 12,
    "start_time": "2023-03-20T19:46:51.841Z"
   },
   {
    "duration": 59152,
    "start_time": "2023-03-20T19:47:34.915Z"
   },
   {
    "duration": 14,
    "start_time": "2023-03-20T19:48:37.780Z"
   },
   {
    "duration": 12,
    "start_time": "2023-03-20T19:48:55.400Z"
   },
   {
    "duration": 12,
    "start_time": "2023-03-20T19:49:05.099Z"
   },
   {
    "duration": 10,
    "start_time": "2023-03-20T19:50:47.405Z"
   },
   {
    "duration": 11,
    "start_time": "2023-03-20T19:53:17.315Z"
   },
   {
    "duration": 12,
    "start_time": "2023-03-20T19:57:30.317Z"
   },
   {
    "duration": 12,
    "start_time": "2023-03-20T20:02:20.403Z"
   },
   {
    "duration": 1948,
    "start_time": "2023-03-21T21:11:28.744Z"
   },
   {
    "duration": 2865,
    "start_time": "2023-03-21T21:11:30.694Z"
   },
   {
    "duration": 62,
    "start_time": "2023-03-21T21:11:33.561Z"
   },
   {
    "duration": 60,
    "start_time": "2023-03-21T21:11:33.625Z"
   },
   {
    "duration": 23,
    "start_time": "2023-03-21T21:11:33.687Z"
   },
   {
    "duration": 32,
    "start_time": "2023-03-21T21:11:33.712Z"
   },
   {
    "duration": 30,
    "start_time": "2023-03-21T21:11:33.746Z"
   },
   {
    "duration": 603,
    "start_time": "2023-03-21T21:11:33.778Z"
   },
   {
    "duration": 262,
    "start_time": "2023-03-21T21:11:34.383Z"
   },
   {
    "duration": 10,
    "start_time": "2023-03-21T21:11:34.648Z"
   },
   {
    "duration": 20,
    "start_time": "2023-03-21T21:11:34.660Z"
   },
   {
    "duration": 16,
    "start_time": "2023-03-21T21:11:34.681Z"
   },
   {
    "duration": 288,
    "start_time": "2023-03-21T21:11:34.698Z"
   },
   {
    "duration": 398,
    "start_time": "2023-03-21T21:11:34.988Z"
   },
   {
    "duration": 7,
    "start_time": "2023-03-21T21:11:35.388Z"
   },
   {
    "duration": 351,
    "start_time": "2023-03-21T21:11:35.396Z"
   },
   {
    "duration": 294,
    "start_time": "2023-03-21T21:11:35.749Z"
   },
   {
    "duration": 13,
    "start_time": "2023-03-21T21:11:36.045Z"
   },
   {
    "duration": 312,
    "start_time": "2023-03-21T21:11:36.059Z"
   },
   {
    "duration": 17,
    "start_time": "2023-03-21T21:11:36.373Z"
   },
   {
    "duration": 90,
    "start_time": "2023-03-21T21:11:36.392Z"
   },
   {
    "duration": 901,
    "start_time": "2023-03-21T21:11:36.483Z"
   },
   {
    "duration": 7,
    "start_time": "2023-03-21T21:11:37.386Z"
   },
   {
    "duration": 18,
    "start_time": "2023-03-21T21:11:37.395Z"
   },
   {
    "duration": 17,
    "start_time": "2023-03-21T21:11:37.414Z"
   },
   {
    "duration": 841,
    "start_time": "2023-03-21T21:11:37.433Z"
   },
   {
    "duration": 6,
    "start_time": "2023-03-21T21:11:38.275Z"
   },
   {
    "duration": 8,
    "start_time": "2023-03-21T21:11:38.285Z"
   },
   {
    "duration": 13,
    "start_time": "2023-03-21T21:11:38.295Z"
   },
   {
    "duration": 946,
    "start_time": "2023-03-21T21:11:38.310Z"
   },
   {
    "duration": 17,
    "start_time": "2023-03-21T21:11:39.258Z"
   },
   {
    "duration": 6,
    "start_time": "2023-03-21T21:11:39.277Z"
   },
   {
    "duration": 14,
    "start_time": "2023-03-21T21:11:39.285Z"
   },
   {
    "duration": 12,
    "start_time": "2023-03-21T21:11:39.300Z"
   },
   {
    "duration": 749,
    "start_time": "2023-03-21T21:11:39.314Z"
   },
   {
    "duration": 17,
    "start_time": "2023-03-21T21:11:40.065Z"
   },
   {
    "duration": 581,
    "start_time": "2023-03-21T21:11:40.083Z"
   },
   {
    "duration": 3,
    "start_time": "2023-03-21T21:12:48.252Z"
   },
   {
    "duration": 3,
    "start_time": "2023-03-21T21:12:49.732Z"
   },
   {
    "duration": 3,
    "start_time": "2023-03-21T21:12:50.346Z"
   },
   {
    "duration": 6,
    "start_time": "2023-03-21T21:12:52.680Z"
   },
   {
    "duration": 7,
    "start_time": "2023-03-21T21:12:55.335Z"
   },
   {
    "duration": 7,
    "start_time": "2023-03-21T21:13:08.894Z"
   },
   {
    "duration": 66324,
    "start_time": "2023-03-21T21:13:25.233Z"
   },
   {
    "duration": 16,
    "start_time": "2023-03-21T21:14:31.559Z"
   },
   {
    "duration": 15,
    "start_time": "2023-03-21T21:15:09.194Z"
   },
   {
    "duration": 25,
    "start_time": "2023-03-21T21:17:16.601Z"
   },
   {
    "duration": 4,
    "start_time": "2023-03-21T21:18:44.600Z"
   },
   {
    "duration": 798,
    "start_time": "2023-03-21T21:18:45.171Z"
   },
   {
    "duration": 55,
    "start_time": "2023-03-21T21:18:45.971Z"
   },
   {
    "duration": 79,
    "start_time": "2023-03-21T21:18:46.028Z"
   },
   {
    "duration": 28,
    "start_time": "2023-03-21T21:18:46.109Z"
   },
   {
    "duration": 67,
    "start_time": "2023-03-21T21:18:46.139Z"
   },
   {
    "duration": 18,
    "start_time": "2023-03-21T21:18:46.503Z"
   },
   {
    "duration": 620,
    "start_time": "2023-03-21T21:18:46.587Z"
   },
   {
    "duration": 243,
    "start_time": "2023-03-21T21:18:47.209Z"
   },
   {
    "duration": 10,
    "start_time": "2023-03-21T21:18:47.454Z"
   },
   {
    "duration": 13,
    "start_time": "2023-03-21T21:18:47.475Z"
   },
   {
    "duration": 7,
    "start_time": "2023-03-21T21:18:47.507Z"
   },
   {
    "duration": 260,
    "start_time": "2023-03-21T21:18:47.838Z"
   },
   {
    "duration": 384,
    "start_time": "2023-03-21T21:18:48.101Z"
   },
   {
    "duration": 8,
    "start_time": "2023-03-21T21:18:48.487Z"
   },
   {
    "duration": 310,
    "start_time": "2023-03-21T21:18:48.497Z"
   },
   {
    "duration": 284,
    "start_time": "2023-03-21T21:18:48.809Z"
   },
   {
    "duration": 11,
    "start_time": "2023-03-21T21:18:49.095Z"
   },
   {
    "duration": 292,
    "start_time": "2023-03-21T21:18:49.108Z"
   },
   {
    "duration": 21,
    "start_time": "2023-03-21T21:18:49.402Z"
   },
   {
    "duration": 102,
    "start_time": "2023-03-21T21:18:49.426Z"
   },
   {
    "duration": 918,
    "start_time": "2023-03-21T21:18:49.530Z"
   },
   {
    "duration": 7,
    "start_time": "2023-03-21T21:18:50.450Z"
   },
   {
    "duration": 11,
    "start_time": "2023-03-21T21:18:50.473Z"
   },
   {
    "duration": 19,
    "start_time": "2023-03-21T21:18:50.486Z"
   },
   {
    "duration": 6,
    "start_time": "2023-03-21T21:18:55.912Z"
   },
   {
    "duration": 696,
    "start_time": "2023-03-21T21:18:56.493Z"
   },
   {
    "duration": 58,
    "start_time": "2023-03-21T21:18:57.191Z"
   },
   {
    "duration": 55,
    "start_time": "2023-03-21T21:18:57.250Z"
   },
   {
    "duration": 20,
    "start_time": "2023-03-21T21:18:57.327Z"
   },
   {
    "duration": 34,
    "start_time": "2023-03-21T21:18:57.418Z"
   },
   {
    "duration": 14,
    "start_time": "2023-03-21T21:18:57.823Z"
   },
   {
    "duration": 673,
    "start_time": "2023-03-21T21:18:57.908Z"
   },
   {
    "duration": 317,
    "start_time": "2023-03-21T21:19:05.514Z"
   },
   {
    "duration": 12,
    "start_time": "2023-03-21T21:19:06.065Z"
   },
   {
    "duration": 12,
    "start_time": "2023-03-21T21:19:06.390Z"
   },
   {
    "duration": 10,
    "start_time": "2023-03-21T21:19:09.218Z"
   },
   {
    "duration": 270,
    "start_time": "2023-03-21T21:19:10.916Z"
   },
   {
    "duration": 304,
    "start_time": "2023-03-21T21:19:11.188Z"
   },
   {
    "duration": 8,
    "start_time": "2023-03-21T21:19:12.073Z"
   },
   {
    "duration": 334,
    "start_time": "2023-03-21T21:19:12.344Z"
   },
   {
    "duration": 437,
    "start_time": "2023-03-21T21:19:13.450Z"
   },
   {
    "duration": 14,
    "start_time": "2023-03-21T21:19:14.506Z"
   },
   {
    "duration": 323,
    "start_time": "2023-03-21T21:19:15.007Z"
   },
   {
    "duration": 23,
    "start_time": "2023-03-21T21:19:16.279Z"
   },
   {
    "duration": 69,
    "start_time": "2023-03-21T21:19:16.983Z"
   },
   {
    "duration": 4,
    "start_time": "2023-03-21T21:19:29.355Z"
   },
   {
    "duration": 682,
    "start_time": "2023-03-21T21:19:29.520Z"
   },
   {
    "duration": 78,
    "start_time": "2023-03-21T21:19:30.204Z"
   },
   {
    "duration": 64,
    "start_time": "2023-03-21T21:19:30.285Z"
   },
   {
    "duration": 39,
    "start_time": "2023-03-21T21:19:30.359Z"
   },
   {
    "duration": 54,
    "start_time": "2023-03-21T21:19:30.446Z"
   },
   {
    "duration": 21,
    "start_time": "2023-03-21T21:19:30.865Z"
   },
   {
    "duration": 627,
    "start_time": "2023-03-21T21:19:30.942Z"
   },
   {
    "duration": 246,
    "start_time": "2023-03-21T21:19:31.573Z"
   },
   {
    "duration": 10,
    "start_time": "2023-03-21T21:19:31.821Z"
   },
   {
    "duration": 33,
    "start_time": "2023-03-21T21:19:31.833Z"
   },
   {
    "duration": 22,
    "start_time": "2023-03-21T21:19:31.868Z"
   },
   {
    "duration": 310,
    "start_time": "2023-03-21T21:19:32.197Z"
   },
   {
    "duration": 290,
    "start_time": "2023-03-21T21:19:32.509Z"
   },
   {
    "duration": 8,
    "start_time": "2023-03-21T21:19:32.801Z"
   },
   {
    "duration": 297,
    "start_time": "2023-03-21T21:19:32.811Z"
   },
   {
    "duration": 411,
    "start_time": "2023-03-21T21:19:33.110Z"
   },
   {
    "duration": 14,
    "start_time": "2023-03-21T21:19:33.523Z"
   },
   {
    "duration": 344,
    "start_time": "2023-03-21T21:19:33.540Z"
   },
   {
    "duration": 21,
    "start_time": "2023-03-21T21:19:33.886Z"
   },
   {
    "duration": 182,
    "start_time": "2023-03-21T21:19:33.909Z"
   },
   {
    "duration": 0,
    "start_time": "2023-03-21T21:19:34.093Z"
   },
   {
    "duration": 29,
    "start_time": "2023-03-21T21:19:40.815Z"
   },
   {
    "duration": 11,
    "start_time": "2023-03-21T21:19:48.535Z"
   },
   {
    "duration": 4,
    "start_time": "2023-03-21T21:20:06.583Z"
   },
   {
    "duration": 699,
    "start_time": "2023-03-21T21:20:06.747Z"
   },
   {
    "duration": 66,
    "start_time": "2023-03-21T21:20:07.448Z"
   },
   {
    "duration": 57,
    "start_time": "2023-03-21T21:20:07.517Z"
   },
   {
    "duration": 25,
    "start_time": "2023-03-21T21:20:07.590Z"
   },
   {
    "duration": 55,
    "start_time": "2023-03-21T21:20:07.684Z"
   },
   {
    "duration": 20,
    "start_time": "2023-03-21T21:20:08.086Z"
   },
   {
    "duration": 641,
    "start_time": "2023-03-21T21:20:08.173Z"
   },
   {
    "duration": 247,
    "start_time": "2023-03-21T21:20:08.816Z"
   },
   {
    "duration": 14,
    "start_time": "2023-03-21T21:20:09.064Z"
   },
   {
    "duration": 9,
    "start_time": "2023-03-21T21:20:09.080Z"
   },
   {
    "duration": 10,
    "start_time": "2023-03-21T21:20:09.091Z"
   },
   {
    "duration": 261,
    "start_time": "2023-03-21T21:20:09.420Z"
   },
   {
    "duration": 275,
    "start_time": "2023-03-21T21:20:09.683Z"
   },
   {
    "duration": 17,
    "start_time": "2023-03-21T21:20:09.960Z"
   },
   {
    "duration": 384,
    "start_time": "2023-03-21T21:20:09.979Z"
   },
   {
    "duration": 287,
    "start_time": "2023-03-21T21:20:10.365Z"
   },
   {
    "duration": 22,
    "start_time": "2023-03-21T21:20:10.654Z"
   },
   {
    "duration": 293,
    "start_time": "2023-03-21T21:20:10.864Z"
   },
   {
    "duration": 17,
    "start_time": "2023-03-21T21:20:11.459Z"
   },
   {
    "duration": 9,
    "start_time": "2023-03-21T21:20:11.600Z"
   },
   {
    "duration": 16,
    "start_time": "2023-03-21T21:20:11.779Z"
   },
   {
    "duration": 6,
    "start_time": "2023-03-21T21:20:15.339Z"
   },
   {
    "duration": 1976,
    "start_time": "2023-03-21T21:20:31.742Z"
   },
   {
    "duration": 740,
    "start_time": "2023-03-21T21:20:33.720Z"
   },
   {
    "duration": 66,
    "start_time": "2023-03-21T21:20:34.462Z"
   },
   {
    "duration": 66,
    "start_time": "2023-03-21T21:20:34.531Z"
   },
   {
    "duration": 31,
    "start_time": "2023-03-21T21:20:34.599Z"
   },
   {
    "duration": 62,
    "start_time": "2023-03-21T21:20:34.632Z"
   },
   {
    "duration": 20,
    "start_time": "2023-03-21T21:20:34.695Z"
   },
   {
    "duration": 757,
    "start_time": "2023-03-21T21:20:34.717Z"
   },
   {
    "duration": 259,
    "start_time": "2023-03-21T21:20:35.476Z"
   },
   {
    "duration": 12,
    "start_time": "2023-03-21T21:20:35.738Z"
   },
   {
    "duration": 25,
    "start_time": "2023-03-21T21:20:35.752Z"
   },
   {
    "duration": 12,
    "start_time": "2023-03-21T21:20:35.779Z"
   },
   {
    "duration": 302,
    "start_time": "2023-03-21T21:20:35.792Z"
   },
   {
    "duration": 420,
    "start_time": "2023-03-21T21:20:36.096Z"
   },
   {
    "duration": 9,
    "start_time": "2023-03-21T21:20:36.518Z"
   },
   {
    "duration": 293,
    "start_time": "2023-03-21T21:20:36.528Z"
   },
   {
    "duration": 352,
    "start_time": "2023-03-21T21:20:36.823Z"
   },
   {
    "duration": 13,
    "start_time": "2023-03-21T21:20:37.177Z"
   },
   {
    "duration": 310,
    "start_time": "2023-03-21T21:20:37.193Z"
   },
   {
    "duration": 18,
    "start_time": "2023-03-21T21:20:37.505Z"
   },
   {
    "duration": 16,
    "start_time": "2023-03-21T21:20:37.525Z"
   },
   {
    "duration": 964,
    "start_time": "2023-03-21T21:20:37.544Z"
   },
   {
    "duration": 7,
    "start_time": "2023-03-21T21:20:38.510Z"
   },
   {
    "duration": 15,
    "start_time": "2023-03-21T21:20:38.518Z"
   },
   {
    "duration": 12,
    "start_time": "2023-03-21T21:20:38.535Z"
   },
   {
    "duration": 846,
    "start_time": "2023-03-21T21:20:38.548Z"
   },
   {
    "duration": 8,
    "start_time": "2023-03-21T21:20:39.396Z"
   },
   {
    "duration": 8,
    "start_time": "2023-03-21T21:20:39.730Z"
   },
   {
    "duration": 20,
    "start_time": "2023-03-21T21:20:39.902Z"
   },
   {
    "duration": 981,
    "start_time": "2023-03-21T21:20:40.619Z"
   },
   {
    "duration": 8,
    "start_time": "2023-03-21T21:20:41.602Z"
   },
   {
    "duration": 43,
    "start_time": "2023-03-21T21:20:41.612Z"
   },
   {
    "duration": 28,
    "start_time": "2023-03-21T21:20:41.658Z"
   },
   {
    "duration": 11,
    "start_time": "2023-03-21T21:20:43.896Z"
   },
   {
    "duration": 548,
    "start_time": "2023-03-21T21:20:45.196Z"
   },
   {
    "duration": 13,
    "start_time": "2023-03-21T21:20:46.604Z"
   },
   {
    "duration": 454,
    "start_time": "2023-03-21T21:20:50.161Z"
   },
   {
    "duration": 12,
    "start_time": "2023-03-21T21:20:56.768Z"
   },
   {
    "duration": 12,
    "start_time": "2023-03-21T21:20:56.912Z"
   },
   {
    "duration": 10,
    "start_time": "2023-03-21T21:20:57.054Z"
   },
   {
    "duration": 12,
    "start_time": "2023-03-21T21:20:57.209Z"
   },
   {
    "duration": 981,
    "start_time": "2023-03-21T21:20:57.351Z"
   },
   {
    "duration": 16,
    "start_time": "2023-03-21T21:20:58.397Z"
   },
   {
    "duration": 4,
    "start_time": "2023-03-21T21:20:58.547Z"
   },
   {
    "duration": 866,
    "start_time": "2023-03-21T21:20:58.726Z"
   },
   {
    "duration": 4,
    "start_time": "2023-03-21T21:21:02.837Z"
   },
   {
    "duration": 3,
    "start_time": "2023-03-21T21:21:03.188Z"
   },
   {
    "duration": 2,
    "start_time": "2023-03-21T21:21:03.536Z"
   },
   {
    "duration": 6,
    "start_time": "2023-03-21T21:21:05.766Z"
   },
   {
    "duration": 8,
    "start_time": "2023-03-21T21:21:07.977Z"
   },
   {
    "duration": 573,
    "start_time": "2023-03-21T21:21:13.406Z"
   },
   {
    "duration": 908,
    "start_time": "2023-03-21T21:21:13.983Z"
   },
   {
    "duration": 6,
    "start_time": "2023-03-21T21:21:14.893Z"
   },
   {
    "duration": 1913,
    "start_time": "2023-03-21T21:23:45.103Z"
   },
   {
    "duration": 741,
    "start_time": "2023-03-21T21:23:47.018Z"
   },
   {
    "duration": 68,
    "start_time": "2023-03-21T21:23:47.761Z"
   },
   {
    "duration": 63,
    "start_time": "2023-03-21T21:23:47.832Z"
   },
   {
    "duration": 25,
    "start_time": "2023-03-21T21:23:47.897Z"
   },
   {
    "duration": 33,
    "start_time": "2023-03-21T21:23:47.923Z"
   },
   {
    "duration": 27,
    "start_time": "2023-03-21T21:23:47.957Z"
   },
   {
    "duration": 620,
    "start_time": "2023-03-21T21:23:47.985Z"
   },
   {
    "duration": 252,
    "start_time": "2023-03-21T21:23:48.606Z"
   },
   {
    "duration": 15,
    "start_time": "2023-03-21T21:23:48.860Z"
   },
   {
    "duration": 13,
    "start_time": "2023-03-21T21:23:48.877Z"
   },
   {
    "duration": 13,
    "start_time": "2023-03-21T21:23:48.891Z"
   },
   {
    "duration": 295,
    "start_time": "2023-03-21T21:23:48.906Z"
   },
   {
    "duration": 346,
    "start_time": "2023-03-21T21:23:49.203Z"
   },
   {
    "duration": 8,
    "start_time": "2023-03-21T21:23:49.551Z"
   },
   {
    "duration": 287,
    "start_time": "2023-03-21T21:23:49.560Z"
   },
   {
    "duration": 313,
    "start_time": "2023-03-21T21:23:49.849Z"
   },
   {
    "duration": 16,
    "start_time": "2023-03-21T21:23:50.174Z"
   },
   {
    "duration": 294,
    "start_time": "2023-03-21T21:23:50.191Z"
   },
   {
    "duration": 17,
    "start_time": "2023-03-21T21:23:50.487Z"
   },
   {
    "duration": 15,
    "start_time": "2023-03-21T21:23:50.505Z"
   },
   {
    "duration": 932,
    "start_time": "2023-03-21T21:23:50.522Z"
   },
   {
    "duration": 18,
    "start_time": "2023-03-21T21:23:51.456Z"
   },
   {
    "duration": 8,
    "start_time": "2023-03-21T21:23:51.476Z"
   },
   {
    "duration": 12,
    "start_time": "2023-03-21T21:23:51.486Z"
   },
   {
    "duration": 895,
    "start_time": "2023-03-21T21:23:51.500Z"
   },
   {
    "duration": 7,
    "start_time": "2023-03-21T21:23:52.397Z"
   },
   {
    "duration": 15,
    "start_time": "2023-03-21T21:23:52.406Z"
   },
   {
    "duration": 14,
    "start_time": "2023-03-21T21:23:52.422Z"
   },
   {
    "duration": 1024,
    "start_time": "2023-03-21T21:23:52.437Z"
   },
   {
    "duration": 17,
    "start_time": "2023-03-21T21:23:53.464Z"
   },
   {
    "duration": 17,
    "start_time": "2023-03-21T21:23:53.485Z"
   },
   {
    "duration": 15,
    "start_time": "2023-03-21T21:23:53.503Z"
   },
   {
    "duration": 18,
    "start_time": "2023-03-21T21:23:53.519Z"
   },
   {
    "duration": 472,
    "start_time": "2023-03-21T21:23:53.539Z"
   },
   {
    "duration": 12,
    "start_time": "2023-03-21T21:23:54.013Z"
   },
   {
    "duration": 498,
    "start_time": "2023-03-21T21:23:54.028Z"
   },
   {
    "duration": 9,
    "start_time": "2023-03-21T21:23:54.528Z"
   },
   {
    "duration": 11,
    "start_time": "2023-03-21T21:23:54.539Z"
   },
   {
    "duration": 37,
    "start_time": "2023-03-21T21:23:54.552Z"
   },
   {
    "duration": 15,
    "start_time": "2023-03-21T21:23:54.592Z"
   },
   {
    "duration": 1055,
    "start_time": "2023-03-21T21:23:54.608Z"
   },
   {
    "duration": 23,
    "start_time": "2023-03-21T21:23:55.665Z"
   },
   {
    "duration": 8,
    "start_time": "2023-03-21T21:23:55.690Z"
   },
   {
    "duration": 922,
    "start_time": "2023-03-21T21:23:55.700Z"
   },
   {
    "duration": 3,
    "start_time": "2023-03-21T21:23:56.625Z"
   },
   {
    "duration": 6,
    "start_time": "2023-03-21T21:23:56.630Z"
   },
   {
    "duration": 5,
    "start_time": "2023-03-21T21:23:56.638Z"
   },
   {
    "duration": 11,
    "start_time": "2023-03-21T21:23:56.644Z"
   },
   {
    "duration": 21,
    "start_time": "2023-03-21T21:23:56.656Z"
   },
   {
    "duration": 1218,
    "start_time": "2023-03-21T21:23:56.678Z"
   },
   {
    "duration": 1277,
    "start_time": "2023-03-21T21:23:57.903Z"
   },
   {
    "duration": 7,
    "start_time": "2023-03-21T21:23:59.183Z"
   },
   {
    "duration": 116,
    "start_time": "2023-03-21T21:23:59.192Z"
   },
   {
    "duration": 5,
    "start_time": "2023-03-21T21:23:59.310Z"
   },
   {
    "duration": 6,
    "start_time": "2023-03-21T21:23:59.374Z"
   },
   {
    "duration": 12,
    "start_time": "2023-03-21T21:23:59.385Z"
   },
   {
    "duration": 24825,
    "start_time": "2023-03-21T21:23:59.398Z"
   },
   {
    "duration": 0,
    "start_time": "2023-03-21T21:24:24.225Z"
   },
   {
    "duration": 0,
    "start_time": "2023-03-21T21:24:24.227Z"
   },
   {
    "duration": 0,
    "start_time": "2023-03-21T21:24:24.229Z"
   },
   {
    "duration": 0,
    "start_time": "2023-03-21T21:24:24.230Z"
   },
   {
    "duration": 0,
    "start_time": "2023-03-21T21:24:24.231Z"
   },
   {
    "duration": 5,
    "start_time": "2023-03-21T21:24:32.093Z"
   },
   {
    "duration": 8,
    "start_time": "2023-03-21T21:24:34.383Z"
   },
   {
    "duration": 6,
    "start_time": "2023-03-21T21:24:37.053Z"
   },
   {
    "duration": 66774,
    "start_time": "2023-03-21T21:24:37.916Z"
   },
   {
    "duration": 9,
    "start_time": "2023-03-21T21:25:44.692Z"
   },
   {
    "duration": 17,
    "start_time": "2023-03-21T21:25:44.703Z"
   }
  ],
  "kernelspec": {
   "display_name": "Python 3 (ipykernel)",
   "language": "python",
   "name": "python3"
  },
  "language_info": {
   "codemirror_mode": {
    "name": "ipython",
    "version": 3
   },
   "file_extension": ".py",
   "mimetype": "text/x-python",
   "name": "python",
   "nbconvert_exporter": "python",
   "pygments_lexer": "ipython3",
   "version": "3.10.9"
  },
  "toc": {
   "base_numbering": 1,
   "nav_menu": {},
   "number_sections": true,
   "sideBar": true,
   "skip_h1_title": true,
   "title_cell": "Содержание",
   "title_sidebar": "Contents",
   "toc_cell": true,
   "toc_position": {},
   "toc_section_display": true,
   "toc_window_display": true
  }
 },
 "nbformat": 4,
 "nbformat_minor": 2
}
