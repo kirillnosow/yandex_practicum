{
 "cells": [
  {
   "cell_type": "markdown",
   "metadata": {
    "toc": true
   },
   "source": [
    "<h1>Содержание<span class=\"tocSkip\"></span></h1>\n",
    "<div class=\"toc\"><ul class=\"toc-item\"><li><span><a href=\"#Загрузка-данных\" data-toc-modified-id=\"Загрузка-данных-1\"><span class=\"toc-item-num\">1&nbsp;&nbsp;</span>Загрузка данных</a></span></li><li><span><a href=\"#Умножение-матриц\" data-toc-modified-id=\"Умножение-матриц-2\"><span class=\"toc-item-num\">2&nbsp;&nbsp;</span>Умножение матриц</a></span></li><li><span><a href=\"#Алгоритм-преобразования\" data-toc-modified-id=\"Алгоритм-преобразования-3\"><span class=\"toc-item-num\">3&nbsp;&nbsp;</span>Алгоритм преобразования</a></span></li><li><span><a href=\"#Проверка-алгоритма\" data-toc-modified-id=\"Проверка-алгоритма-4\"><span class=\"toc-item-num\">4&nbsp;&nbsp;</span>Проверка алгоритма</a></span></li><li><span><a href=\"#Общие-выводы\" data-toc-modified-id=\"Общие-выводы-5\"><span class=\"toc-item-num\">5&nbsp;&nbsp;</span>Общие выводы</a></span></li></ul></div>"
   ]
  },
  {
   "cell_type": "markdown",
   "metadata": {},
   "source": [
    "# Защита персональных данных клиентов"
   ]
  },
  {
   "cell_type": "markdown",
   "metadata": {},
   "source": [
    "<b>Цели проекта:</b>  \n",
    "Разработать такой метод преобразования данных, чтобы по ним было сложно восстановить персональную информацию  \n",
    "  \n",
    "<b>Задачи проекта:</b>  \n",
    "1. провести предобработку данных;\n",
    "2. разбить данные на выборки;  \n",
    "3. ответить на вопрос: \"Признаки умножают на обратимую матрицу. Изменится ли качество линейной регрессии?\";\n",
    "4. предложить алгоритм преобразования данных для решения задачи;  \n",
    "5. запрограммировать алгоритм, применив матричные операции.\n",
    "\n",
    "<b>Данные:</b>  \n",
    "Данные клиентов страховой компании «Хоть потоп»  \n",
    "  \n",
    "<b>Описание данных:</b>  \n",
    "**Признаки:** пол, возраст и зарплата застрахованного, количество членов его семьи.  \n",
    "**Целевой признак:** количество страховых выплат клиенту за последние 5 лет."
   ]
  },
  {
   "cell_type": "markdown",
   "metadata": {},
   "source": [
    "## Загрузка данных"
   ]
  },
  {
   "cell_type": "code",
   "execution_count": 1,
   "metadata": {},
   "outputs": [],
   "source": [
    "# импортировать библиотеки\n",
    "import pandas as pd\n",
    "import numpy as np\n",
    "import matplotlib.pyplot as plt\n",
    "import seaborn as sns\n",
    "\n",
    "from sklearn.model_selection import train_test_split\n",
    "from sklearn.metrics import r2_score"
   ]
  },
  {
   "cell_type": "code",
   "execution_count": 2,
   "metadata": {},
   "outputs": [],
   "source": [
    "# записать файл в data\n",
    "try: \n",
    "    data = pd.read_csv('/datasets/insurance.csv', sep=',')\n",
    "except:\n",
    "    data = pd.read_csv('insurance.csv', sep=',')"
   ]
  },
  {
   "cell_type": "code",
   "execution_count": 3,
   "metadata": {},
   "outputs": [
    {
     "data": {
      "text/html": [
       "<div>\n",
       "<style scoped>\n",
       "    .dataframe tbody tr th:only-of-type {\n",
       "        vertical-align: middle;\n",
       "    }\n",
       "\n",
       "    .dataframe tbody tr th {\n",
       "        vertical-align: top;\n",
       "    }\n",
       "\n",
       "    .dataframe thead th {\n",
       "        text-align: right;\n",
       "    }\n",
       "</style>\n",
       "<table border=\"1\" class=\"dataframe\">\n",
       "  <thead>\n",
       "    <tr style=\"text-align: right;\">\n",
       "      <th></th>\n",
       "      <th>Пол</th>\n",
       "      <th>Возраст</th>\n",
       "      <th>Зарплата</th>\n",
       "      <th>Члены семьи</th>\n",
       "      <th>Страховые выплаты</th>\n",
       "    </tr>\n",
       "  </thead>\n",
       "  <tbody>\n",
       "    <tr>\n",
       "      <th>0</th>\n",
       "      <td>1</td>\n",
       "      <td>41.0</td>\n",
       "      <td>49600.0</td>\n",
       "      <td>1</td>\n",
       "      <td>0</td>\n",
       "    </tr>\n",
       "    <tr>\n",
       "      <th>1</th>\n",
       "      <td>0</td>\n",
       "      <td>46.0</td>\n",
       "      <td>38000.0</td>\n",
       "      <td>1</td>\n",
       "      <td>1</td>\n",
       "    </tr>\n",
       "    <tr>\n",
       "      <th>2</th>\n",
       "      <td>0</td>\n",
       "      <td>29.0</td>\n",
       "      <td>21000.0</td>\n",
       "      <td>0</td>\n",
       "      <td>0</td>\n",
       "    </tr>\n",
       "    <tr>\n",
       "      <th>3</th>\n",
       "      <td>0</td>\n",
       "      <td>21.0</td>\n",
       "      <td>41700.0</td>\n",
       "      <td>2</td>\n",
       "      <td>0</td>\n",
       "    </tr>\n",
       "    <tr>\n",
       "      <th>4</th>\n",
       "      <td>1</td>\n",
       "      <td>28.0</td>\n",
       "      <td>26100.0</td>\n",
       "      <td>0</td>\n",
       "      <td>0</td>\n",
       "    </tr>\n",
       "    <tr>\n",
       "      <th>5</th>\n",
       "      <td>1</td>\n",
       "      <td>43.0</td>\n",
       "      <td>41000.0</td>\n",
       "      <td>2</td>\n",
       "      <td>1</td>\n",
       "    </tr>\n",
       "    <tr>\n",
       "      <th>6</th>\n",
       "      <td>1</td>\n",
       "      <td>39.0</td>\n",
       "      <td>39700.0</td>\n",
       "      <td>2</td>\n",
       "      <td>0</td>\n",
       "    </tr>\n",
       "    <tr>\n",
       "      <th>7</th>\n",
       "      <td>1</td>\n",
       "      <td>25.0</td>\n",
       "      <td>38600.0</td>\n",
       "      <td>4</td>\n",
       "      <td>0</td>\n",
       "    </tr>\n",
       "    <tr>\n",
       "      <th>8</th>\n",
       "      <td>1</td>\n",
       "      <td>36.0</td>\n",
       "      <td>49700.0</td>\n",
       "      <td>1</td>\n",
       "      <td>0</td>\n",
       "    </tr>\n",
       "    <tr>\n",
       "      <th>9</th>\n",
       "      <td>1</td>\n",
       "      <td>32.0</td>\n",
       "      <td>51700.0</td>\n",
       "      <td>1</td>\n",
       "      <td>0</td>\n",
       "    </tr>\n",
       "  </tbody>\n",
       "</table>\n",
       "</div>"
      ],
      "text/plain": [
       "   Пол  Возраст  Зарплата  Члены семьи  Страховые выплаты\n",
       "0    1     41.0   49600.0            1                  0\n",
       "1    0     46.0   38000.0            1                  1\n",
       "2    0     29.0   21000.0            0                  0\n",
       "3    0     21.0   41700.0            2                  0\n",
       "4    1     28.0   26100.0            0                  0\n",
       "5    1     43.0   41000.0            2                  1\n",
       "6    1     39.0   39700.0            2                  0\n",
       "7    1     25.0   38600.0            4                  0\n",
       "8    1     36.0   49700.0            1                  0\n",
       "9    1     32.0   51700.0            1                  0"
      ]
     },
     "execution_count": 3,
     "metadata": {},
     "output_type": "execute_result"
    }
   ],
   "source": [
    "# открыть файл\n",
    "data.head(10)"
   ]
  },
  {
   "cell_type": "code",
   "execution_count": 4,
   "metadata": {},
   "outputs": [
    {
     "name": "stdout",
     "output_type": "stream",
     "text": [
      "<class 'pandas.core.frame.DataFrame'>\n",
      "RangeIndex: 5000 entries, 0 to 4999\n",
      "Data columns (total 5 columns):\n",
      " #   Column             Non-Null Count  Dtype  \n",
      "---  ------             --------------  -----  \n",
      " 0   Пол                5000 non-null   int64  \n",
      " 1   Возраст            5000 non-null   float64\n",
      " 2   Зарплата           5000 non-null   float64\n",
      " 3   Члены семьи        5000 non-null   int64  \n",
      " 4   Страховые выплаты  5000 non-null   int64  \n",
      "dtypes: float64(2), int64(3)\n",
      "memory usage: 195.4 KB\n"
     ]
    }
   ],
   "source": [
    "# изучить файл: метод info()\n",
    "data.info()"
   ]
  },
  {
   "cell_type": "markdown",
   "metadata": {},
   "source": [
    "Столбец <code>Возраст</code> в исходном датасете имеет тип <i>float</i>, хотя должно быть <i>int</i>, так как возраст - целое число."
   ]
  },
  {
   "cell_type": "code",
   "execution_count": 5,
   "metadata": {},
   "outputs": [
    {
     "name": "stdout",
     "output_type": "stream",
     "text": [
      "<class 'pandas.core.frame.DataFrame'>\n",
      "RangeIndex: 5000 entries, 0 to 4999\n",
      "Data columns (total 5 columns):\n",
      " #   Column             Non-Null Count  Dtype  \n",
      "---  ------             --------------  -----  \n",
      " 0   Пол                5000 non-null   int64  \n",
      " 1   Возраст            5000 non-null   int64  \n",
      " 2   Зарплата           5000 non-null   float64\n",
      " 3   Члены семьи        5000 non-null   int64  \n",
      " 4   Страховые выплаты  5000 non-null   int64  \n",
      "dtypes: float64(1), int64(4)\n",
      "memory usage: 195.4 KB\n"
     ]
    }
   ],
   "source": [
    "# изменить тип данных\n",
    "data['Возраст'] = data['Возраст'].astype('int')\n",
    "\n",
    "# проверить, что тип данных изменился на int\n",
    "data.info()"
   ]
  },
  {
   "cell_type": "code",
   "execution_count": 6,
   "metadata": {},
   "outputs": [
    {
     "data": {
      "text/html": [
       "<div>\n",
       "<style scoped>\n",
       "    .dataframe tbody tr th:only-of-type {\n",
       "        vertical-align: middle;\n",
       "    }\n",
       "\n",
       "    .dataframe tbody tr th {\n",
       "        vertical-align: top;\n",
       "    }\n",
       "\n",
       "    .dataframe thead th {\n",
       "        text-align: right;\n",
       "    }\n",
       "</style>\n",
       "<table border=\"1\" class=\"dataframe\">\n",
       "  <thead>\n",
       "    <tr style=\"text-align: right;\">\n",
       "      <th></th>\n",
       "      <th>Пол</th>\n",
       "      <th>Возраст</th>\n",
       "      <th>Зарплата</th>\n",
       "      <th>Члены семьи</th>\n",
       "      <th>Страховые выплаты</th>\n",
       "    </tr>\n",
       "  </thead>\n",
       "  <tbody>\n",
       "    <tr>\n",
       "      <th>count</th>\n",
       "      <td>5000.000000</td>\n",
       "      <td>5000.000000</td>\n",
       "      <td>5000.000000</td>\n",
       "      <td>5000.000000</td>\n",
       "      <td>5000.000000</td>\n",
       "    </tr>\n",
       "    <tr>\n",
       "      <th>mean</th>\n",
       "      <td>0.499000</td>\n",
       "      <td>30.952800</td>\n",
       "      <td>39916.360000</td>\n",
       "      <td>1.194200</td>\n",
       "      <td>0.148000</td>\n",
       "    </tr>\n",
       "    <tr>\n",
       "      <th>std</th>\n",
       "      <td>0.500049</td>\n",
       "      <td>8.440807</td>\n",
       "      <td>9900.083569</td>\n",
       "      <td>1.091387</td>\n",
       "      <td>0.463183</td>\n",
       "    </tr>\n",
       "    <tr>\n",
       "      <th>min</th>\n",
       "      <td>0.000000</td>\n",
       "      <td>18.000000</td>\n",
       "      <td>5300.000000</td>\n",
       "      <td>0.000000</td>\n",
       "      <td>0.000000</td>\n",
       "    </tr>\n",
       "    <tr>\n",
       "      <th>25%</th>\n",
       "      <td>0.000000</td>\n",
       "      <td>24.000000</td>\n",
       "      <td>33300.000000</td>\n",
       "      <td>0.000000</td>\n",
       "      <td>0.000000</td>\n",
       "    </tr>\n",
       "    <tr>\n",
       "      <th>50%</th>\n",
       "      <td>0.000000</td>\n",
       "      <td>30.000000</td>\n",
       "      <td>40200.000000</td>\n",
       "      <td>1.000000</td>\n",
       "      <td>0.000000</td>\n",
       "    </tr>\n",
       "    <tr>\n",
       "      <th>75%</th>\n",
       "      <td>1.000000</td>\n",
       "      <td>37.000000</td>\n",
       "      <td>46600.000000</td>\n",
       "      <td>2.000000</td>\n",
       "      <td>0.000000</td>\n",
       "    </tr>\n",
       "    <tr>\n",
       "      <th>max</th>\n",
       "      <td>1.000000</td>\n",
       "      <td>65.000000</td>\n",
       "      <td>79000.000000</td>\n",
       "      <td>6.000000</td>\n",
       "      <td>5.000000</td>\n",
       "    </tr>\n",
       "  </tbody>\n",
       "</table>\n",
       "</div>"
      ],
      "text/plain": [
       "               Пол      Возраст      Зарплата  Члены семьи  Страховые выплаты\n",
       "count  5000.000000  5000.000000   5000.000000  5000.000000        5000.000000\n",
       "mean      0.499000    30.952800  39916.360000     1.194200           0.148000\n",
       "std       0.500049     8.440807   9900.083569     1.091387           0.463183\n",
       "min       0.000000    18.000000   5300.000000     0.000000           0.000000\n",
       "25%       0.000000    24.000000  33300.000000     0.000000           0.000000\n",
       "50%       0.000000    30.000000  40200.000000     1.000000           0.000000\n",
       "75%       1.000000    37.000000  46600.000000     2.000000           0.000000\n",
       "max       1.000000    65.000000  79000.000000     6.000000           5.000000"
      ]
     },
     "execution_count": 6,
     "metadata": {},
     "output_type": "execute_result"
    }
   ],
   "source": [
    "# изучение данных: метод describe()\n",
    "data.describe()"
   ]
  },
  {
   "cell_type": "markdown",
   "metadata": {},
   "source": [
    "Аномальных значений не обнаружено."
   ]
  },
  {
   "cell_type": "code",
   "execution_count": 7,
   "metadata": {},
   "outputs": [
    {
     "name": "stdout",
     "output_type": "stream",
     "text": [
      "153\n"
     ]
    }
   ],
   "source": [
    "# поиск дубликатов\n",
    "print(data.duplicated().sum())"
   ]
  },
  {
   "cell_type": "markdown",
   "metadata": {},
   "source": [
    "Видим, что в данных есть дубликаты. Избавимся от повторяющихся строк."
   ]
  },
  {
   "cell_type": "code",
   "execution_count": 8,
   "metadata": {},
   "outputs": [
    {
     "name": "stdout",
     "output_type": "stream",
     "text": [
      "0\n"
     ]
    }
   ],
   "source": [
    "# удалить дубликаты\n",
    "data = data.drop_duplicates()\n",
    "\n",
    "# проверить, что дубликатов нет\n",
    "print(data.duplicated().sum())"
   ]
  },
  {
   "cell_type": "markdown",
   "metadata": {},
   "source": [
    "Проверим данные на мультиколлинеарность."
   ]
  },
  {
   "cell_type": "code",
   "execution_count": 9,
   "metadata": {},
   "outputs": [
    {
     "data": {
      "image/png": "[encoded data removed]",
      "text/plain": [
       "<Figure size 360x360 with 2 Axes>"
      ]
     },
     "metadata": {
      "needs_background": "light"
     },
     "output_type": "display_data"
    }
   ],
   "source": [
    "# проверить на мультиколлинеарность\n",
    "plt.rcParams['figure.figsize'] = (5, 5)\n",
    "sns.heatmap(data.corr(), annot=True, linewidths=3, linecolor='white')\n",
    "plt.show()"
   ]
  },
  {
   "cell_type": "markdown",
   "metadata": {},
   "source": [
    "Значительных зависимостей нет."
   ]
  },
  {
   "cell_type": "code",
   "execution_count": 10,
   "metadata": {},
   "outputs": [
    {
     "data": {
      "text/plain": [
       "(4847, 5)"
      ]
     },
     "execution_count": 10,
     "metadata": {},
     "output_type": "execute_result"
    }
   ],
   "source": [
    "# определить размер data\n",
    "data.shape"
   ]
  },
  {
   "cell_type": "code",
   "execution_count": 11,
   "metadata": {},
   "outputs": [],
   "source": [
    "# выделить признаки\n",
    "features = data.drop(['Страховые выплаты'],axis=1)\n",
    "target = data['Страховые выплаты']"
   ]
  },
  {
   "cell_type": "code",
   "execution_count": 12,
   "metadata": {},
   "outputs": [],
   "source": [
    "# разделить данные на выборки\n",
    "train_features, test_features, train_target, test_target = train_test_split(features, target, \n",
    "                                                                            test_size=0.25, random_state=12345)"
   ]
  },
  {
   "cell_type": "markdown",
   "metadata": {},
   "source": [
    "<b>ИТОГИ</b>\n",
    "1. Импортированы библиотеки и открыт файл.\n",
    "2. Изучен файл выводом первых 10 строк.\n",
    "3. Изучен файл методом <i>info()</i>.\n",
    "4. Удалены дубликаты.\n",
    "5. Тип данных в <code>Возраст</code> изменён на <i>int</i>. \n",
    "6. Аномальных значений в данных не найдено. \n",
    "7. Выделены признаки, данные разделены на тестовую и обучающую выборки."
   ]
  },
  {
   "cell_type": "markdown",
   "metadata": {},
   "source": [
    "## Умножение матриц"
   ]
  },
  {
   "cell_type": "markdown",
   "metadata": {},
   "source": [
    "Обозначения:\n",
    "\n",
    "- $X$ — матрица признаков (нулевой столбец состоит из единиц)\n",
    "\n",
    "- $y$ — вектор целевого признака\n",
    "\n",
    "- $P$ — матрица, на которую умножаются признаки\n",
    "\n",
    "- $w$ — вектор весов линейной регрессии (нулевой элемент равен сдвигу)"
   ]
  },
  {
   "cell_type": "markdown",
   "metadata": {},
   "source": [
    "Предсказания:\n",
    "\n",
    "$$\n",
    "a = Xw\n",
    "$$\n",
    "\n",
    "Задача обучения:\n",
    "\n",
    "$$\n",
    "w = \\arg\\min_w MSE(Xw, y)\n",
    "$$\n",
    "\n",
    "Формула обучения:\n",
    "\n",
    "$$\n",
    "w = (X^T X)^{-1} X^T y\n",
    "$$"
   ]
  },
  {
   "cell_type": "markdown",
   "metadata": {},
   "source": [
    "**Ответ:** При умножении исходных данных на обратимую матрицу качество линейной регресси не изменяется.\n",
    "\n",
    "**Обоснование:**  \n",
    "  \n",
    "Новая матрица признаков, домноженная на обратимую матрицу, \n",
    "$X' = XP$, тогда  \n",
    "  \n",
    "предсказания:  \n",
    "$$a = X'w'$$  \n",
    "  \n",
    "формула обучения:  \n",
    "$$w' = (X'^T X')^{-1}X'^T y$$\n",
    "  \n",
    "Произведём обратную замену, раскроем скобки и воспользуемся свойством $(AB)^T = B^T A^T$:  \n",
    "$$w' = ((XP)^T (XP))^{-1}(XP)^T y = (P^T X^T XP)^{-1}P^T X^T y$$  \n",
    "  \n",
    "Раскроем скобки, воспользовавшись свойством $(AB)^{-1} = B^{-1} A^{-1}$  \n",
    "$$w' = P^{-1}(X^T X)^{-1}(P^T)^{-1}P^T X^T y$$  \n",
    "  \n",
    "Мы знаем, что умножение матрицы на свою обратную - есть единичная матрица ($P P^{-1} = E$), поэтому $(P^T)^{-1} P^T = E$, следовательно\n",
    "$$w' = P^{-1}(X^T X)^{-1}E X^T y$$\n",
    "  \n",
    "При умножении матрицы на единичную матрицу получается та же самая матрица, поэтому    \n",
    "$$w' = P^{-1}(X^T X)^{-1} X^T y$$\n",
    "  \n",
    "Получается, что $w' = P^{-1}w$, тогда $a = X' P^{-1}w$  \n",
    "  \n",
    "Сделаем обратную замену, тогда $a = XPP^{-1}w$  \n",
    "  \n",
    "Помним, что умножение матрицы на свою обратную - есть единичная матрица ($P P^{-1} = E$), поэтому получаем, что $a = Xw$"
   ]
  },
  {
   "cell_type": "markdown",
   "metadata": {},
   "source": [
    "## Алгоритм преобразования"
   ]
  },
  {
   "cell_type": "markdown",
   "metadata": {},
   "source": [
    "**Алгоритм**\n",
    "\n",
    "В качестве алгоритма преобразования примем домножение обучающих признаков X на случайную обратимую матрицу размером 4х4. Необходимо создать модель линейной регрессии до преобразования и посчитать метрику R2. Далее умножить исходные признаки на обратимую матрицу и на основе полученных значений снова посчитать метрику R2. Метрики R2 по итогу должны быть равны."
   ]
  },
  {
   "cell_type": "markdown",
   "metadata": {},
   "source": [
    "**Обоснование**  \n",
    "  \n",
    "В пункте 2 было доказано, что домножение признаков на какую-либо обратимую матрицу не приводит к изменению предсказаний, поэтому результаты R2 должны оказаться равны"
   ]
  },
  {
   "cell_type": "markdown",
   "metadata": {},
   "source": [
    "## Проверка алгоритма"
   ]
  },
  {
   "cell_type": "code",
   "execution_count": 13,
   "metadata": {},
   "outputs": [],
   "source": [
    "# создать класс LinearRegression\n",
    "class LinearRegression:\n",
    "    def fit(self, train_features, train_target):\n",
    "        X = np.concatenate((np.ones((train_features.shape[0], 1)), train_features), axis=1)\n",
    "        y = train_target\n",
    "        w = np.linalg.inv(X.T.dot(X)).dot(X.T).dot(y)\n",
    "        self.w = w[1:]\n",
    "        self.w0 = w[0]\n",
    "\n",
    "    def predict(self, test_features):\n",
    "        return test_features.dot(self.w) + self.w0"
   ]
  },
  {
   "cell_type": "code",
   "execution_count": 14,
   "metadata": {},
   "outputs": [
    {
     "name": "stdout",
     "output_type": "stream",
     "text": [
      "0.4230772749214825\n"
     ]
    }
   ],
   "source": [
    "# обучить модель\n",
    "model = LinearRegression()\n",
    "model.fit(train_features, train_target)\n",
    "predictions = model.predict(test_features)\n",
    "\n",
    "# вывести метрику R2\n",
    "print(r2_score(test_target, predictions))"
   ]
  },
  {
   "cell_type": "code",
   "execution_count": 15,
   "metadata": {},
   "outputs": [
    {
     "data": {
      "text/plain": [
       "(1212, 4)"
      ]
     },
     "execution_count": 15,
     "metadata": {},
     "output_type": "execute_result"
    }
   ],
   "source": [
    "test_features.shape"
   ]
  },
  {
   "cell_type": "code",
   "execution_count": 16,
   "metadata": {},
   "outputs": [
    {
     "data": {
      "text/plain": [
       "array([[2.44267638, 3.7548587 , 2.80575924, 3.84565701],\n",
       "       [3.61288494, 3.41852931, 4.08174311, 3.31520103],\n",
       "       [3.27668734, 2.60179959, 1.87608753, 2.10253155],\n",
       "       [4.24030992, 4.07591922, 4.76962432, 4.08464146]])"
      ]
     },
     "execution_count": 16,
     "metadata": {},
     "output_type": "execute_result"
    }
   ],
   "source": [
    "# создать обратимую матрицу\n",
    "matrix = np.random.normal(3, size=(4,4))\n",
    "matrix"
   ]
  },
  {
   "cell_type": "code",
   "execution_count": 17,
   "metadata": {},
   "outputs": [
    {
     "name": "stdout",
     "output_type": "stream",
     "text": [
      "Матрица является обратимой\n",
      "\n",
      "[[-0.57767709 -3.04627302  0.57294018  2.7213969 ]\n",
      " [ 1.11991771  9.31141243  0.12791949 -8.6776229 ]\n",
      " [-0.11713857  2.34527614 -0.53321279 -1.51873559]\n",
      " [-0.38105113 -8.86773284 -0.09979058  7.85222452]]\n"
     ]
    }
   ],
   "source": [
    "# проверить, что матрица обратимая\n",
    "try:\n",
    "    matrix_1 = np.linalg.inv(matrix)\n",
    "    print('Матрица является обратимой')\n",
    "    print()\n",
    "    print(matrix_1)\n",
    "except:\n",
    "    print('Матрица не является обратимой')"
   ]
  },
  {
   "cell_type": "code",
   "execution_count": 18,
   "metadata": {},
   "outputs": [
    {
     "name": "stdout",
     "output_type": "stream",
     "text": [
      "                  0              1              2              3\n",
      "4599  178689.101257  141901.948373  102370.598179  114688.964629\n",
      "3882  166272.020593  132048.974159   95280.319149  106732.257748\n",
      "4705   91838.194981   72936.509173   52633.182164   58954.532990\n",
      "1400  127305.274262  101110.495011   72984.037904   81734.038761\n",
      "728   106641.094155   84699.303802   61140.883918   68468.968202\n",
      "...             ...            ...            ...            ...\n",
      "3592   92492.362239   73457.205420   53007.123686   59375.569757\n",
      "3586  110536.990110   87787.278018   63351.371517   70958.854057\n",
      "2211   94775.204720   75268.209546   54308.139724   60837.396242\n",
      "3653  127261.376860  101070.466379   72934.468884   81695.556245\n",
      "4722  155143.919936  123213.432198   88915.830658   99593.835050\n",
      "\n",
      "[3635 rows x 4 columns]\n",
      "                  0              1              2              3\n",
      "1335  154745.181330  122887.321732   88648.017040   99319.584650\n",
      "3875  216051.750494  171571.740849  123767.589449  138666.761527\n",
      "166   111209.849219   88325.724302   63746.409635   71397.236269\n",
      "3003   63389.448734   50356.206589   36377.216466   40716.321124\n",
      "424    90283.575091   71714.892941   51789.706375   57980.286277\n",
      "...             ...            ...            ...            ...\n",
      "1589   75496.942707   59968.869899   43300.449472   48482.188087\n",
      "32    167230.364024  132806.241722   95815.261086  107340.580247\n",
      "360   109878.124399   87265.150680   62972.172047   70537.101882\n",
      "2862  108548.672974   86205.029697   62200.540662   69676.674478\n",
      "646   107666.284767   85521.202360   61751.415109   69140.040537\n",
      "\n",
      "[1212 rows x 4 columns]\n"
     ]
    }
   ],
   "source": [
    "# умножить обратимую матрицу на признаки\n",
    "train_matrix = train_features.dot(matrix)\n",
    "test_matrix = test_features.dot(matrix)\n",
    "\n",
    "print(train_matrix)\n",
    "print(test_matrix)"
   ]
  },
  {
   "cell_type": "code",
   "execution_count": 19,
   "metadata": {},
   "outputs": [
    {
     "name": "stdout",
     "output_type": "stream",
     "text": [
      "0.4230778729238678\n"
     ]
    }
   ],
   "source": [
    "# обучить модель\n",
    "model = LinearRegression()\n",
    "model.fit(train_matrix, train_target)\n",
    "predictions = model.predict(test_matrix)\n",
    "\n",
    "# вывести метрику R2\n",
    "print(r2_score(test_target, predictions))"
   ]
  },
  {
   "cell_type": "markdown",
   "metadata": {},
   "source": [
    "<b>ИТОГИ</b>  \n",
    "Метрики R2 обеих моделей одиннаковые, следовательно, умножение исходных данных на случайную обратимую матрицу может быть применено для их шифрования."
   ]
  },
  {
   "cell_type": "markdown",
   "metadata": {},
   "source": [
    "## Общие выводы"
   ]
  },
  {
   "cell_type": "markdown",
   "metadata": {},
   "source": [
    "1. <b>Изучен файл</b>  \n",
    "    - Пропусков в данных не обноружено.  \n",
    "    - Тип данных в <code>Возраст</code> изменён на <i>int</i>.  \n",
    "    - Аномальных значений в данных не найдено.  \n",
    "    - Удалены дубликаты.\n",
    "2. <b>Данные разбиты на выборки</b> \n",
    "    - Данные были разбиты на две выборки: обучающая и тренировочная в отношении 4:1 соответственно.  \n",
    "3. <b>Доказано, что при умножении исходных данных на обратимую матрицу качество линейной регресси не изменяется.</b> \n",
    "4. <b>Предложен алгоритм преобразования</b>"
   ]
  }
 ],
 "metadata": {
  "ExecuteTimeLog": [
   {
    "duration": 2693,
    "start_time": "2023-04-05T05:57:57.480Z"
   },
   {
    "duration": 31,
    "start_time": "2023-04-05T05:58:00.176Z"
   },
   {
    "duration": 15,
    "start_time": "2023-04-05T05:58:12.928Z"
   },
   {
    "duration": 14,
    "start_time": "2023-04-05T05:58:13.331Z"
   },
   {
    "duration": 122,
    "start_time": "2023-04-05T05:58:14.731Z"
   },
   {
    "duration": 12,
    "start_time": "2023-04-05T05:58:29.155Z"
   },
   {
    "duration": 26,
    "start_time": "2023-04-05T05:58:30.310Z"
   },
   {
    "duration": 7,
    "start_time": "2023-04-05T05:58:31.602Z"
   },
   {
    "duration": 9,
    "start_time": "2023-04-05T05:58:32.503Z"
   },
   {
    "duration": 421,
    "start_time": "2023-04-05T05:58:33.603Z"
   },
   {
    "duration": 4,
    "start_time": "2023-04-05T05:58:34.433Z"
   },
   {
    "duration": 5,
    "start_time": "2023-04-05T05:58:34.655Z"
   },
   {
    "duration": 7,
    "start_time": "2023-04-05T05:58:35.548Z"
   },
   {
    "duration": 4,
    "start_time": "2023-04-05T06:02:15.141Z"
   },
   {
    "duration": 8,
    "start_time": "2023-04-05T06:02:15.679Z"
   },
   {
    "duration": 5,
    "start_time": "2023-04-05T06:03:11.510Z"
   },
   {
    "duration": 5,
    "start_time": "2023-04-05T06:03:11.984Z"
   },
   {
    "duration": 17,
    "start_time": "2023-04-05T06:03:16.954Z"
   },
   {
    "duration": 8,
    "start_time": "2023-04-05T06:03:54.136Z"
   },
   {
    "duration": 1576,
    "start_time": "2023-04-05T12:16:15.206Z"
   },
   {
    "duration": 105,
    "start_time": "2023-04-05T12:16:16.784Z"
   },
   {
    "duration": 16,
    "start_time": "2023-04-05T12:16:16.891Z"
   },
   {
    "duration": 13,
    "start_time": "2023-04-05T12:16:16.909Z"
   },
   {
    "duration": 12,
    "start_time": "2023-04-05T12:16:16.924Z"
   },
   {
    "duration": 25,
    "start_time": "2023-04-05T12:16:16.937Z"
   },
   {
    "duration": 5,
    "start_time": "2023-04-05T12:16:16.964Z"
   },
   {
    "duration": 11,
    "start_time": "2023-04-05T12:16:16.971Z"
   },
   {
    "duration": 403,
    "start_time": "2023-04-05T12:16:16.983Z"
   },
   {
    "duration": 4,
    "start_time": "2023-04-05T12:16:17.388Z"
   },
   {
    "duration": 10,
    "start_time": "2023-04-05T12:16:17.393Z"
   },
   {
    "duration": 6,
    "start_time": "2023-04-05T12:16:17.405Z"
   },
   {
    "duration": 10,
    "start_time": "2023-04-05T12:16:17.412Z"
   },
   {
    "duration": 26,
    "start_time": "2023-04-05T12:16:17.424Z"
   },
   {
    "duration": 12,
    "start_time": "2023-04-05T12:16:17.451Z"
   },
   {
    "duration": 93,
    "start_time": "2023-04-05T12:16:17.464Z"
   },
   {
    "duration": 16,
    "start_time": "2023-04-05T12:16:17.558Z"
   },
   {
    "duration": 77,
    "start_time": "2023-04-05T12:16:17.575Z"
   },
   {
    "duration": 102,
    "start_time": "2023-04-05T12:24:03.753Z"
   },
   {
    "duration": 99,
    "start_time": "2023-04-05T12:24:12.694Z"
   },
   {
    "duration": 126,
    "start_time": "2023-04-05T12:24:38.471Z"
   },
   {
    "duration": 100,
    "start_time": "2023-04-05T12:24:43.405Z"
   },
   {
    "duration": 158,
    "start_time": "2023-04-05T12:25:41.066Z"
   },
   {
    "duration": 21,
    "start_time": "2023-04-05T12:26:52.805Z"
   },
   {
    "duration": 48989,
    "start_time": "2023-04-05T12:27:05.989Z"
   },
   {
    "duration": 48256,
    "start_time": "2023-04-05T12:27:56.352Z"
   },
   {
    "duration": 3,
    "start_time": "2023-04-05T14:20:55.306Z"
   },
   {
    "duration": 4,
    "start_time": "2023-04-05T14:21:05.462Z"
   },
   {
    "duration": 4,
    "start_time": "2023-04-05T14:21:49.665Z"
   },
   {
    "duration": 1526,
    "start_time": "2023-04-05T14:22:30.120Z"
   },
   {
    "duration": 41,
    "start_time": "2023-04-05T14:22:31.648Z"
   },
   {
    "duration": 28,
    "start_time": "2023-04-05T14:22:31.691Z"
   },
   {
    "duration": 53,
    "start_time": "2023-04-05T14:22:31.721Z"
   },
   {
    "duration": 46,
    "start_time": "2023-04-05T14:22:31.776Z"
   },
   {
    "duration": 49,
    "start_time": "2023-04-05T14:22:31.823Z"
   },
   {
    "duration": 38,
    "start_time": "2023-04-05T14:22:31.874Z"
   },
   {
    "duration": 60,
    "start_time": "2023-04-05T14:22:31.913Z"
   },
   {
    "duration": 342,
    "start_time": "2023-04-05T14:22:31.974Z"
   },
   {
    "duration": 3,
    "start_time": "2023-04-05T14:22:32.318Z"
   },
   {
    "duration": 36,
    "start_time": "2023-04-05T14:22:32.323Z"
   },
   {
    "duration": 19,
    "start_time": "2023-04-05T14:22:32.364Z"
   },
   {
    "duration": 14,
    "start_time": "2023-04-05T14:22:32.384Z"
   },
   {
    "duration": 23,
    "start_time": "2023-04-05T14:22:32.399Z"
   },
   {
    "duration": 32,
    "start_time": "2023-04-05T14:22:32.426Z"
   },
   {
    "duration": 95,
    "start_time": "2023-04-05T14:22:32.460Z"
   },
   {
    "duration": 22,
    "start_time": "2023-04-05T14:22:32.556Z"
   },
   {
    "duration": 17,
    "start_time": "2023-04-05T14:22:32.580Z"
   },
   {
    "duration": 18,
    "start_time": "2023-04-05T14:22:32.648Z"
   }
  ],
  "kernelspec": {
   "display_name": "Python 3 (ipykernel)",
   "language": "python",
   "name": "python3"
  },
  "language_info": {
   "codemirror_mode": {
    "name": "ipython",
    "version": 3
   },
   "file_extension": ".py",
   "mimetype": "text/x-python",
   "name": "python",
   "nbconvert_exporter": "python",
   "pygments_lexer": "ipython3",
   "version": "3.10.9"
  },
  "toc": {
   "base_numbering": 1,
   "nav_menu": {},
   "number_sections": true,
   "sideBar": true,
   "skip_h1_title": true,
   "title_cell": "Содержание",
   "title_sidebar": "Contents",
   "toc_cell": true,
   "toc_position": {},
   "toc_section_display": true,
   "toc_window_display": true
  }
 },
 "nbformat": 4,
 "nbformat_minor": 2
}
