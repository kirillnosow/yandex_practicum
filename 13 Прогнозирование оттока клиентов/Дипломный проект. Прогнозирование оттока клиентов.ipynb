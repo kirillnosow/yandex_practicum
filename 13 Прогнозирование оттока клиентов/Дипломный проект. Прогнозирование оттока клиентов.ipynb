{
 "cells": [
  {
   "cell_type": "markdown",
   "id": "80a14cea",
   "metadata": {},
   "source": [
    "# Прогнозирование оттока клиентов"
   ]
  },
  {
   "cell_type": "markdown",
   "id": "a3f0a83a",
   "metadata": {},
   "source": [
    "### Описание проекта"
   ]
  },
  {
   "cell_type": "markdown",
   "id": "ba031c47",
   "metadata": {},
   "source": [
    "Оператор связи «Ниединогоразрыва.ком» хочет научиться прогнозировать отток клиентов. Если выяснится, что пользователь планирует уйти, ему будут предложены промокоды и специальные условия. Команда оператора собрала персональные данные о некоторых клиентах, информацию об их тарифах и договорах."
   ]
  },
  {
   "cell_type": "markdown",
   "id": "26aa48fb",
   "metadata": {},
   "source": [
    "### Описание услуг"
   ]
  },
  {
   "cell_type": "markdown",
   "id": "fd961705",
   "metadata": {},
   "source": [
    "Оператор предоставляет два основных типа услуг: \n",
    "1. Стационарную телефонную связь. Возможно подключение телефонного аппарата к нескольким линиям одновременно.\n",
    "2. Интернет. Подключение может быть двух типов: через телефонную линию (DSL, от англ. digital subscriber line, «цифровая абонентская линия») или оптоволоконный кабель (Fiber optic).\n",
    "\n",
    "Также доступны такие услуги:\n",
    "- Интернет-безопасность: антивирус (DeviceProtection) и блокировка небезопасных сайтов (OnlineSecurity);\n",
    "- Выделенная линия технической поддержки (TechSupport);\n",
    "- Облачное хранилище файлов для резервного копирования данных (OnlineBackup);\n",
    "- Стриминговое телевидение (StreamingTV) и каталог фильмов (StreamingMovies).\n",
    "\n",
    "За услуги клиенты могут платить каждый месяц или заключить договор на 1–2 года. Доступны различные способы расчёта и возможность получения электронного чека."
   ]
  },
  {
   "cell_type": "markdown",
   "id": "6350f550",
   "metadata": {},
   "source": [
    "### Цель проекта"
   ]
  },
  {
   "cell_type": "markdown",
   "id": "9d239c52",
   "metadata": {},
   "source": [
    "Построить модель для определения оттока клиентов."
   ]
  },
  {
   "cell_type": "markdown",
   "id": "6ab46bd1",
   "metadata": {},
   "source": [
    "### Описание данных"
   ]
  },
  {
   "cell_type": "markdown",
   "id": "b64661dd",
   "metadata": {},
   "source": [
    "**Данные состоят из файлов, полученных из разных источников:**\n",
    "- <code>contract_new.csv</code> — информация о договоре;\n",
    "- <code>personal_new.csv</code> — персональные данные клиента;\n",
    "- <code>internet_new.csv</code> — информация об интернет-услугах;\n",
    "- <code>phone_new.csv</code> — информация об услугах телефонии.\n",
    "\n",
    "**Поля:**\n",
    "- <code>BeginDate</code> – дата начала пользования услугами.\n",
    "- <code>EndDate</code> – дата окончания пользования услугами.\n",
    "- <code>Type</code> – тип оплаты: ежемесячный, годовой и тд.\n",
    "- <code>PaperlessBilling</code> – безналичный расчет.\n",
    "- <code>PaymentMethod</code> – способ оплаты.\n",
    "- <code>MonthlyCharges</code> – ежемесячные траты на услуги.\n",
    "- <code>TotalCharges</code> – всего потрачено денег на услуги.\n",
    "- <code>Dependents</code> – наличие иждивенцев.\n",
    "- <code>Senior Citizen</code> – наличие пенсионного статуса по возрасту.\n",
    "- <code>Partner</code> – наличие супруга(и).\n",
    "- <code>MultipleLines</code> – наличие возможности ведения параллельных линий во время звонка.\n",
    "\n",
    "Во всех файлах столбец customerID содержит код клиента.\n",
    "\n",
    "Информация о договорах актуальна на 1 февраля 2020."
   ]
  },
  {
   "cell_type": "markdown",
   "id": "2aa61495",
   "metadata": {},
   "source": [
    "### План проекта"
   ]
  },
  {
   "cell_type": "markdown",
   "id": "c2778f67",
   "metadata": {},
   "source": [
    "1. Загрузить и изучить данные;\n",
    "2. Провести предобработку данных:\n",
    "    - работа с пропусками,\n",
    "    - работа с дубликатами,\n",
    "    - объединение таблиц в одну;\n",
    "3. Провести исследовательский анализ данных:\n",
    "    - визуализация признаков,\n",
    "    - проверить данные на наличие мультиколлинеарности,\n",
    "    - проверить данные на дисбаланс классов;\n",
    "4. Подготовить признаки и разбить данные на выборки;  \n",
    "5. Исследовать модели (будем решать задачу с учителем: в распоряжении обучающий набор данных и целевой признак, который нужно предсказать по остальным признакам),\n",
    "    - RandomForestClassifier,\n",
    "    - CatBoost;\n",
    "    - Анализ;\n",
    "6. Выбрать лучшую модель и проверить её на тестовой выборке;  \n",
    "7. Сделать общие выводы."
   ]
  },
  {
   "cell_type": "markdown",
   "id": "b4d647f9",
   "metadata": {},
   "source": [
    "**Пока всё понятно, вопросов нет**"
   ]
  },
  {
   "cell_type": "markdown",
   "id": "238cce85",
   "metadata": {},
   "source": [
    "## Загрузка и изучение данных"
   ]
  },
  {
   "cell_type": "code",
   "execution_count": 1,
   "id": "02dd7aec",
   "metadata": {
    "scrolled": true
   },
   "outputs": [
    {
     "name": "stdout",
     "output_type": "stream",
     "text": [
      "Requirement already satisfied: pandas in /opt/conda/lib/python3.9/site-packages (1.2.4)\n",
      "Collecting pandas\n",
      "  Downloading pandas-2.0.3-cp39-cp39-manylinux_2_17_x86_64.manylinux2014_x86_64.whl (12.4 MB)\n",
      "\u001b[K     |████████████████████████████████| 12.4 MB 1.1 MB/s eta 0:00:01\n",
      "\u001b[?25hRequirement already satisfied: numpy>=1.20.3 in /opt/conda/lib/python3.9/site-packages (from pandas) (1.21.1)\n",
      "Collecting python-dateutil>=2.8.2\n",
      "  Downloading python_dateutil-2.8.2-py2.py3-none-any.whl (247 kB)\n",
      "\u001b[K     |████████████████████████████████| 247 kB 101.5 MB/s eta 0:00:01\n",
      "\u001b[?25hRequirement already satisfied: pytz>=2020.1 in /opt/conda/lib/python3.9/site-packages (from pandas) (2021.1)\n",
      "Collecting tzdata>=2022.1\n",
      "  Downloading tzdata-2023.3-py2.py3-none-any.whl (341 kB)\n",
      "\u001b[K     |████████████████████████████████| 341 kB 76.5 MB/s eta 0:00:01\n",
      "\u001b[?25hRequirement already satisfied: six>=1.5 in /opt/conda/lib/python3.9/site-packages (from python-dateutil>=2.8.2->pandas) (1.16.0)\n",
      "Installing collected packages: tzdata, python-dateutil, pandas\n",
      "  Attempting uninstall: python-dateutil\n",
      "    Found existing installation: python-dateutil 2.8.1\n",
      "    Uninstalling python-dateutil-2.8.1:\n",
      "      Successfully uninstalled python-dateutil-2.8.1\n",
      "  Attempting uninstall: pandas\n",
      "    Found existing installation: pandas 1.2.4\n",
      "    Uninstalling pandas-1.2.4:\n",
      "      Successfully uninstalled pandas-1.2.4\n",
      "Successfully installed pandas-2.0.3 python-dateutil-2.8.2 tzdata-2023.3\n",
      "Requirement already satisfied: matplotlib in /opt/conda/lib/python3.9/site-packages (3.3.4)\n",
      "Collecting matplotlib\n",
      "  Downloading matplotlib-3.7.2-cp39-cp39-manylinux_2_17_x86_64.manylinux2014_x86_64.whl (11.6 MB)\n",
      "\u001b[K     |████████████████████████████████| 11.6 MB 1.1 MB/s eta 0:00:01\n",
      "\u001b[?25hCollecting contourpy>=1.0.1\n",
      "  Downloading contourpy-1.1.0-cp39-cp39-manylinux_2_17_x86_64.manylinux2014_x86_64.whl (300 kB)\n",
      "\u001b[K     |████████████████████████████████| 300 kB 91.9 MB/s eta 0:00:01\n",
      "\u001b[?25hCollecting fonttools>=4.22.0\n",
      "  Downloading fonttools-4.40.0-cp39-cp39-manylinux_2_17_x86_64.manylinux2014_x86_64.whl (4.4 MB)\n",
      "\u001b[K     |████████████████████████████████| 4.4 MB 35.7 MB/s eta 0:00:01\n",
      "\u001b[?25hRequirement already satisfied: pillow>=6.2.0 in /opt/conda/lib/python3.9/site-packages (from matplotlib) (8.4.0)\n",
      "Requirement already satisfied: cycler>=0.10 in /opt/conda/lib/python3.9/site-packages (from matplotlib) (0.11.0)\n",
      "Requirement already satisfied: numpy>=1.20 in /opt/conda/lib/python3.9/site-packages (from matplotlib) (1.21.1)\n",
      "Requirement already satisfied: pyparsing<3.1,>=2.3.1 in /opt/conda/lib/python3.9/site-packages (from matplotlib) (2.4.7)\n",
      "Requirement already satisfied: python-dateutil>=2.7 in /opt/conda/lib/python3.9/site-packages (from matplotlib) (2.8.2)\n",
      "Collecting importlib-resources>=3.2.0\n",
      "  Downloading importlib_resources-6.0.0-py3-none-any.whl (31 kB)\n",
      "Requirement already satisfied: kiwisolver>=1.0.1 in /opt/conda/lib/python3.9/site-packages (from matplotlib) (1.4.4)\n",
      "Requirement already satisfied: packaging>=20.0 in /opt/conda/lib/python3.9/site-packages (from matplotlib) (21.3)\n",
      "Requirement already satisfied: zipp>=3.1.0 in /opt/conda/lib/python3.9/site-packages (from importlib-resources>=3.2.0->matplotlib) (3.5.0)\n",
      "Requirement already satisfied: six>=1.5 in /opt/conda/lib/python3.9/site-packages (from python-dateutil>=2.7->matplotlib) (1.16.0)\n",
      "Installing collected packages: importlib-resources, fonttools, contourpy, matplotlib\n",
      "  Attempting uninstall: matplotlib\n",
      "    Found existing installation: matplotlib 3.3.4\n",
      "    Uninstalling matplotlib-3.3.4:\n",
      "      Successfully uninstalled matplotlib-3.3.4\n",
      "Successfully installed contourpy-1.1.0 fonttools-4.40.0 importlib-resources-6.0.0 matplotlib-3.7.2\n",
      "Requirement already satisfied: catboost in /opt/conda/lib/python3.9/site-packages (1.0.3)\n",
      "Collecting catboost\n",
      "  Downloading catboost-1.2-cp39-cp39-manylinux2014_x86_64.whl (98.6 MB)\n",
      "\u001b[K     |████████████████████████████████| 98.6 MB 27 kB/s s eta 0:00:01\n",
      "\u001b[?25hRequirement already satisfied: matplotlib in /opt/conda/lib/python3.9/site-packages (from catboost) (3.7.2)\n",
      "Requirement already satisfied: numpy>=1.16.0 in /opt/conda/lib/python3.9/site-packages (from catboost) (1.21.1)\n",
      "Requirement already satisfied: pandas>=0.24 in /opt/conda/lib/python3.9/site-packages (from catboost) (2.0.3)\n",
      "Requirement already satisfied: six in /opt/conda/lib/python3.9/site-packages (from catboost) (1.16.0)\n",
      "Requirement already satisfied: graphviz in /opt/conda/lib/python3.9/site-packages (from catboost) (0.20.1)\n",
      "Requirement already satisfied: plotly in /opt/conda/lib/python3.9/site-packages (from catboost) (5.4.0)\n",
      "Requirement already satisfied: scipy in /opt/conda/lib/python3.9/site-packages (from catboost) (1.9.1)\n",
      "Requirement already satisfied: pytz>=2020.1 in /opt/conda/lib/python3.9/site-packages (from pandas>=0.24->catboost) (2021.1)\n",
      "Requirement already satisfied: tzdata>=2022.1 in /opt/conda/lib/python3.9/site-packages (from pandas>=0.24->catboost) (2023.3)\n",
      "Requirement already satisfied: python-dateutil>=2.8.2 in /opt/conda/lib/python3.9/site-packages (from pandas>=0.24->catboost) (2.8.2)\n",
      "Requirement already satisfied: importlib-resources>=3.2.0 in /opt/conda/lib/python3.9/site-packages (from matplotlib->catboost) (6.0.0)\n",
      "Requirement already satisfied: cycler>=0.10 in /opt/conda/lib/python3.9/site-packages (from matplotlib->catboost) (0.11.0)\n",
      "Requirement already satisfied: pyparsing<3.1,>=2.3.1 in /opt/conda/lib/python3.9/site-packages (from matplotlib->catboost) (2.4.7)\n",
      "Requirement already satisfied: pillow>=6.2.0 in /opt/conda/lib/python3.9/site-packages (from matplotlib->catboost) (8.4.0)\n",
      "Requirement already satisfied: contourpy>=1.0.1 in /opt/conda/lib/python3.9/site-packages (from matplotlib->catboost) (1.1.0)\n",
      "Requirement already satisfied: packaging>=20.0 in /opt/conda/lib/python3.9/site-packages (from matplotlib->catboost) (21.3)\n",
      "Requirement already satisfied: kiwisolver>=1.0.1 in /opt/conda/lib/python3.9/site-packages (from matplotlib->catboost) (1.4.4)\n",
      "Requirement already satisfied: fonttools>=4.22.0 in /opt/conda/lib/python3.9/site-packages (from matplotlib->catboost) (4.40.0)\n",
      "Requirement already satisfied: zipp>=3.1.0 in /opt/conda/lib/python3.9/site-packages (from importlib-resources>=3.2.0->matplotlib->catboost) (3.5.0)\n",
      "Requirement already satisfied: tenacity>=6.2.0 in /opt/conda/lib/python3.9/site-packages (from plotly->catboost) (8.0.1)\n",
      "Installing collected packages: catboost\n",
      "  Attempting uninstall: catboost\n",
      "    Found existing installation: catboost 1.0.3\n",
      "    Uninstalling catboost-1.0.3:\n",
      "      Successfully uninstalled catboost-1.0.3\n",
      "Successfully installed catboost-1.2\n",
      "Requirement already satisfied: scikit-learn in /opt/conda/lib/python3.9/site-packages (0.24.1)\n",
      "Collecting scikit-learn\n",
      "  Downloading scikit_learn-1.3.0-cp39-cp39-manylinux_2_17_x86_64.manylinux2014_x86_64.whl (10.9 MB)\n",
      "\u001b[K     |████████████████████████████████| 10.9 MB 1.2 MB/s eta 0:00:01\n",
      "\u001b[?25hCollecting joblib>=1.1.1\n",
      "  Downloading joblib-1.3.1-py3-none-any.whl (301 kB)\n",
      "\u001b[K     |████████████████████████████████| 301 kB 98.1 MB/s eta 0:00:01\n",
      "\u001b[?25hRequirement already satisfied: threadpoolctl>=2.0.0 in /opt/conda/lib/python3.9/site-packages (from scikit-learn) (3.1.0)\n",
      "Requirement already satisfied: numpy>=1.17.3 in /opt/conda/lib/python3.9/site-packages (from scikit-learn) (1.21.1)\n",
      "Requirement already satisfied: scipy>=1.5.0 in /opt/conda/lib/python3.9/site-packages (from scikit-learn) (1.9.1)\n",
      "Installing collected packages: joblib, scikit-learn\n",
      "  Attempting uninstall: joblib\n",
      "    Found existing installation: joblib 1.1.0\n",
      "    Uninstalling joblib-1.1.0:\n",
      "      Successfully uninstalled joblib-1.1.0\n",
      "  Attempting uninstall: scikit-learn\n",
      "    Found existing installation: scikit-learn 0.24.1\n",
      "    Uninstalling scikit-learn-0.24.1:\n",
      "      Successfully uninstalled scikit-learn-0.24.1\n",
      "Successfully installed joblib-1.3.1 scikit-learn-1.3.0\n",
      "Requirement already satisfied: phik in /opt/conda/lib/python3.9/site-packages (0.12.3)\n",
      "Requirement already satisfied: numpy>=1.18.0 in /opt/conda/lib/python3.9/site-packages (from phik) (1.21.1)\n",
      "Requirement already satisfied: scipy>=1.5.2 in /opt/conda/lib/python3.9/site-packages (from phik) (1.9.1)\n",
      "Requirement already satisfied: joblib>=0.14.1 in /opt/conda/lib/python3.9/site-packages (from phik) (1.3.1)\n",
      "Requirement already satisfied: pandas>=0.25.1 in /opt/conda/lib/python3.9/site-packages (from phik) (2.0.3)\n",
      "Requirement already satisfied: matplotlib>=2.2.3 in /opt/conda/lib/python3.9/site-packages (from phik) (3.7.2)\n",
      "Requirement already satisfied: python-dateutil>=2.7 in /opt/conda/lib/python3.9/site-packages (from matplotlib>=2.2.3->phik) (2.8.2)\n",
      "Requirement already satisfied: importlib-resources>=3.2.0 in /opt/conda/lib/python3.9/site-packages (from matplotlib>=2.2.3->phik) (6.0.0)\n",
      "Requirement already satisfied: contourpy>=1.0.1 in /opt/conda/lib/python3.9/site-packages (from matplotlib>=2.2.3->phik) (1.1.0)\n",
      "Requirement already satisfied: packaging>=20.0 in /opt/conda/lib/python3.9/site-packages (from matplotlib>=2.2.3->phik) (21.3)\n",
      "Requirement already satisfied: pyparsing<3.1,>=2.3.1 in /opt/conda/lib/python3.9/site-packages (from matplotlib>=2.2.3->phik) (2.4.7)\n",
      "Requirement already satisfied: cycler>=0.10 in /opt/conda/lib/python3.9/site-packages (from matplotlib>=2.2.3->phik) (0.11.0)\n",
      "Requirement already satisfied: kiwisolver>=1.0.1 in /opt/conda/lib/python3.9/site-packages (from matplotlib>=2.2.3->phik) (1.4.4)\n",
      "Requirement already satisfied: fonttools>=4.22.0 in /opt/conda/lib/python3.9/site-packages (from matplotlib>=2.2.3->phik) (4.40.0)\n",
      "Requirement already satisfied: pillow>=6.2.0 in /opt/conda/lib/python3.9/site-packages (from matplotlib>=2.2.3->phik) (8.4.0)\n",
      "Requirement already satisfied: zipp>=3.1.0 in /opt/conda/lib/python3.9/site-packages (from importlib-resources>=3.2.0->matplotlib>=2.2.3->phik) (3.5.0)\n",
      "Requirement already satisfied: tzdata>=2022.1 in /opt/conda/lib/python3.9/site-packages (from pandas>=0.25.1->phik) (2023.3)\n",
      "Requirement already satisfied: pytz>=2020.1 in /opt/conda/lib/python3.9/site-packages (from pandas>=0.25.1->phik) (2021.1)\n",
      "Requirement already satisfied: six>=1.5 in /opt/conda/lib/python3.9/site-packages (from python-dateutil>=2.7->matplotlib>=2.2.3->phik) (1.16.0)\n"
     ]
    }
   ],
   "source": [
    "#Код ревьюера\n",
    "!pip install --upgrade pandas\n",
    "!pip install --upgrade matplotlib\n",
    "!pip install --upgrade catboost\n",
    "!pip install --upgrade scikit-learn\n",
    "!pip install phik"
   ]
  },
  {
   "cell_type": "code",
   "execution_count": 2,
   "id": "5a0e9590",
   "metadata": {},
   "outputs": [],
   "source": [
    "# импортировать библиотеки\n",
    "import pandas as pd\n",
    "import seaborn as sns\n",
    "from matplotlib import pyplot as plt\n",
    "import time\n",
    "import numpy as np\n",
    "import datetime as dt\n",
    "import phik\n",
    "from sklearn.metrics import roc_curve, confusion_matrix\n",
    "\n",
    "# для изучения мультиколлинеарности\n",
    "from statsmodels.stats.outliers_influence import variance_inflation_factor \n",
    "import statsmodels.api as sm\n",
    "\n",
    "# вспомогательные методы\n",
    "from sklearn.model_selection import train_test_split\n",
    "from sklearn.preprocessing import OrdinalEncoder\n",
    "from sklearn.preprocessing import StandardScaler\n",
    "from sklearn.model_selection import GridSearchCV\n",
    "from sklearn.metrics import roc_auc_score\n",
    "from sklearn.model_selection import cross_val_score\n",
    "\n",
    "# для простых моделей\n",
    "from sklearn.ensemble import RandomForestClassifier\n",
    "\n",
    "# для бустинга\n",
    "from catboost import CatBoostClassifier\n",
    "\n",
    "import warnings\n",
    "warnings.filterwarnings('ignore')"
   ]
  },
  {
   "cell_type": "code",
   "execution_count": 3,
   "id": "530255ba",
   "metadata": {},
   "outputs": [],
   "source": [
    "# записать файл contract_new\n",
    "try: \n",
    "    contract = pd.read_csv('/datasets/contract_new.csv', sep=',')\n",
    "except:\n",
    "    contract = pd.read_csv('contract_new.csv', sep=',')\n",
    "\n",
    "# записать файл personal_new\n",
    "try: \n",
    "    personal = pd.read_csv('/datasets/personal_new.csv', sep=',')\n",
    "except:\n",
    "    personal = pd.read_csv('personal_new.csv', sep=',')\n",
    "\n",
    "# записать файл internet_new\n",
    "try: \n",
    "    internet = pd.read_csv('/datasets/internet_new.csv', sep=',')\n",
    "except:\n",
    "    internet = pd.read_csv('internet_new.csv', sep=',')\n",
    "    \n",
    "# записать файл phone_new\n",
    "try: \n",
    "    phone = pd.read_csv('/datasets/phone_new.csv', sep=',')\n",
    "except:\n",
    "    phone = pd.read_csv('phone_new.csv', sep=',')"
   ]
  },
  {
   "cell_type": "markdown",
   "id": "e8c3f231",
   "metadata": {},
   "source": [
    "**contract_new**"
   ]
  },
  {
   "cell_type": "code",
   "execution_count": 4,
   "id": "29c8b0e1",
   "metadata": {},
   "outputs": [
    {
     "data": {
      "text/html": [
       "<div>\n",
       "<style scoped>\n",
       "    .dataframe tbody tr th:only-of-type {\n",
       "        vertical-align: middle;\n",
       "    }\n",
       "\n",
       "    .dataframe tbody tr th {\n",
       "        vertical-align: top;\n",
       "    }\n",
       "\n",
       "    .dataframe thead th {\n",
       "        text-align: right;\n",
       "    }\n",
       "</style>\n",
       "<table border=\"1\" class=\"dataframe\">\n",
       "  <thead>\n",
       "    <tr style=\"text-align: right;\">\n",
       "      <th></th>\n",
       "      <th>customerID</th>\n",
       "      <th>BeginDate</th>\n",
       "      <th>EndDate</th>\n",
       "      <th>Type</th>\n",
       "      <th>PaperlessBilling</th>\n",
       "      <th>PaymentMethod</th>\n",
       "      <th>MonthlyCharges</th>\n",
       "      <th>TotalCharges</th>\n",
       "    </tr>\n",
       "  </thead>\n",
       "  <tbody>\n",
       "    <tr>\n",
       "      <th>0</th>\n",
       "      <td>7590-VHVEG</td>\n",
       "      <td>2020-01-01</td>\n",
       "      <td>No</td>\n",
       "      <td>Month-to-month</td>\n",
       "      <td>Yes</td>\n",
       "      <td>Electronic check</td>\n",
       "      <td>29.85</td>\n",
       "      <td>31.04</td>\n",
       "    </tr>\n",
       "    <tr>\n",
       "      <th>1</th>\n",
       "      <td>5575-GNVDE</td>\n",
       "      <td>2017-04-01</td>\n",
       "      <td>No</td>\n",
       "      <td>One year</td>\n",
       "      <td>No</td>\n",
       "      <td>Mailed check</td>\n",
       "      <td>56.95</td>\n",
       "      <td>2071.84</td>\n",
       "    </tr>\n",
       "    <tr>\n",
       "      <th>2</th>\n",
       "      <td>3668-QPYBK</td>\n",
       "      <td>2019-10-01</td>\n",
       "      <td>No</td>\n",
       "      <td>Month-to-month</td>\n",
       "      <td>Yes</td>\n",
       "      <td>Mailed check</td>\n",
       "      <td>53.85</td>\n",
       "      <td>226.17</td>\n",
       "    </tr>\n",
       "    <tr>\n",
       "      <th>3</th>\n",
       "      <td>7795-CFOCW</td>\n",
       "      <td>2016-05-01</td>\n",
       "      <td>No</td>\n",
       "      <td>One year</td>\n",
       "      <td>No</td>\n",
       "      <td>Bank transfer (automatic)</td>\n",
       "      <td>42.30</td>\n",
       "      <td>1960.6</td>\n",
       "    </tr>\n",
       "    <tr>\n",
       "      <th>4</th>\n",
       "      <td>9237-HQITU</td>\n",
       "      <td>2019-09-01</td>\n",
       "      <td>No</td>\n",
       "      <td>Month-to-month</td>\n",
       "      <td>Yes</td>\n",
       "      <td>Electronic check</td>\n",
       "      <td>70.70</td>\n",
       "      <td>353.5</td>\n",
       "    </tr>\n",
       "  </tbody>\n",
       "</table>\n",
       "</div>"
      ],
      "text/plain": [
       "   customerID   BeginDate EndDate            Type PaperlessBilling  \\\n",
       "0  7590-VHVEG  2020-01-01      No  Month-to-month              Yes   \n",
       "1  5575-GNVDE  2017-04-01      No        One year               No   \n",
       "2  3668-QPYBK  2019-10-01      No  Month-to-month              Yes   \n",
       "3  7795-CFOCW  2016-05-01      No        One year               No   \n",
       "4  9237-HQITU  2019-09-01      No  Month-to-month              Yes   \n",
       "\n",
       "               PaymentMethod  MonthlyCharges TotalCharges  \n",
       "0           Electronic check           29.85        31.04  \n",
       "1               Mailed check           56.95      2071.84  \n",
       "2               Mailed check           53.85       226.17  \n",
       "3  Bank transfer (automatic)           42.30       1960.6  \n",
       "4           Electronic check           70.70        353.5  "
      ]
     },
     "execution_count": 4,
     "metadata": {},
     "output_type": "execute_result"
    }
   ],
   "source": [
    "# открыть файл contract_new\n",
    "contract.head()"
   ]
  },
  {
   "cell_type": "code",
   "execution_count": 5,
   "id": "608e755b",
   "metadata": {},
   "outputs": [
    {
     "data": {
      "text/html": [
       "<div>\n",
       "<style scoped>\n",
       "    .dataframe tbody tr th:only-of-type {\n",
       "        vertical-align: middle;\n",
       "    }\n",
       "\n",
       "    .dataframe tbody tr th {\n",
       "        vertical-align: top;\n",
       "    }\n",
       "\n",
       "    .dataframe thead th {\n",
       "        text-align: right;\n",
       "    }\n",
       "</style>\n",
       "<table border=\"1\" class=\"dataframe\">\n",
       "  <thead>\n",
       "    <tr style=\"text-align: right;\">\n",
       "      <th></th>\n",
       "      <th>customerID</th>\n",
       "      <th>gender</th>\n",
       "      <th>SeniorCitizen</th>\n",
       "      <th>Partner</th>\n",
       "      <th>Dependents</th>\n",
       "    </tr>\n",
       "  </thead>\n",
       "  <tbody>\n",
       "    <tr>\n",
       "      <th>0</th>\n",
       "      <td>7590-VHVEG</td>\n",
       "      <td>Female</td>\n",
       "      <td>0</td>\n",
       "      <td>Yes</td>\n",
       "      <td>No</td>\n",
       "    </tr>\n",
       "    <tr>\n",
       "      <th>1</th>\n",
       "      <td>5575-GNVDE</td>\n",
       "      <td>Male</td>\n",
       "      <td>0</td>\n",
       "      <td>No</td>\n",
       "      <td>No</td>\n",
       "    </tr>\n",
       "    <tr>\n",
       "      <th>2</th>\n",
       "      <td>3668-QPYBK</td>\n",
       "      <td>Male</td>\n",
       "      <td>0</td>\n",
       "      <td>No</td>\n",
       "      <td>No</td>\n",
       "    </tr>\n",
       "    <tr>\n",
       "      <th>3</th>\n",
       "      <td>7795-CFOCW</td>\n",
       "      <td>Male</td>\n",
       "      <td>0</td>\n",
       "      <td>No</td>\n",
       "      <td>No</td>\n",
       "    </tr>\n",
       "    <tr>\n",
       "      <th>4</th>\n",
       "      <td>9237-HQITU</td>\n",
       "      <td>Female</td>\n",
       "      <td>0</td>\n",
       "      <td>No</td>\n",
       "      <td>No</td>\n",
       "    </tr>\n",
       "  </tbody>\n",
       "</table>\n",
       "</div>"
      ],
      "text/plain": [
       "   customerID  gender  SeniorCitizen Partner Dependents\n",
       "0  7590-VHVEG  Female              0     Yes         No\n",
       "1  5575-GNVDE    Male              0      No         No\n",
       "2  3668-QPYBK    Male              0      No         No\n",
       "3  7795-CFOCW    Male              0      No         No\n",
       "4  9237-HQITU  Female              0      No         No"
      ]
     },
     "execution_count": 5,
     "metadata": {},
     "output_type": "execute_result"
    }
   ],
   "source": [
    "# открыть файл personal_new\n",
    "personal.head()"
   ]
  },
  {
   "cell_type": "code",
   "execution_count": 6,
   "id": "64335f2a",
   "metadata": {},
   "outputs": [
    {
     "data": {
      "text/html": [
       "<div>\n",
       "<style scoped>\n",
       "    .dataframe tbody tr th:only-of-type {\n",
       "        vertical-align: middle;\n",
       "    }\n",
       "\n",
       "    .dataframe tbody tr th {\n",
       "        vertical-align: top;\n",
       "    }\n",
       "\n",
       "    .dataframe thead th {\n",
       "        text-align: right;\n",
       "    }\n",
       "</style>\n",
       "<table border=\"1\" class=\"dataframe\">\n",
       "  <thead>\n",
       "    <tr style=\"text-align: right;\">\n",
       "      <th></th>\n",
       "      <th>customerID</th>\n",
       "      <th>InternetService</th>\n",
       "      <th>OnlineSecurity</th>\n",
       "      <th>OnlineBackup</th>\n",
       "      <th>DeviceProtection</th>\n",
       "      <th>TechSupport</th>\n",
       "      <th>StreamingTV</th>\n",
       "      <th>StreamingMovies</th>\n",
       "    </tr>\n",
       "  </thead>\n",
       "  <tbody>\n",
       "    <tr>\n",
       "      <th>0</th>\n",
       "      <td>7590-VHVEG</td>\n",
       "      <td>DSL</td>\n",
       "      <td>No</td>\n",
       "      <td>Yes</td>\n",
       "      <td>No</td>\n",
       "      <td>No</td>\n",
       "      <td>No</td>\n",
       "      <td>No</td>\n",
       "    </tr>\n",
       "    <tr>\n",
       "      <th>1</th>\n",
       "      <td>5575-GNVDE</td>\n",
       "      <td>DSL</td>\n",
       "      <td>Yes</td>\n",
       "      <td>No</td>\n",
       "      <td>Yes</td>\n",
       "      <td>No</td>\n",
       "      <td>No</td>\n",
       "      <td>No</td>\n",
       "    </tr>\n",
       "    <tr>\n",
       "      <th>2</th>\n",
       "      <td>3668-QPYBK</td>\n",
       "      <td>DSL</td>\n",
       "      <td>Yes</td>\n",
       "      <td>Yes</td>\n",
       "      <td>No</td>\n",
       "      <td>No</td>\n",
       "      <td>No</td>\n",
       "      <td>No</td>\n",
       "    </tr>\n",
       "    <tr>\n",
       "      <th>3</th>\n",
       "      <td>7795-CFOCW</td>\n",
       "      <td>DSL</td>\n",
       "      <td>Yes</td>\n",
       "      <td>No</td>\n",
       "      <td>Yes</td>\n",
       "      <td>Yes</td>\n",
       "      <td>No</td>\n",
       "      <td>No</td>\n",
       "    </tr>\n",
       "    <tr>\n",
       "      <th>4</th>\n",
       "      <td>9237-HQITU</td>\n",
       "      <td>Fiber optic</td>\n",
       "      <td>No</td>\n",
       "      <td>No</td>\n",
       "      <td>No</td>\n",
       "      <td>No</td>\n",
       "      <td>No</td>\n",
       "      <td>No</td>\n",
       "    </tr>\n",
       "  </tbody>\n",
       "</table>\n",
       "</div>"
      ],
      "text/plain": [
       "   customerID InternetService OnlineSecurity OnlineBackup DeviceProtection  \\\n",
       "0  7590-VHVEG             DSL             No          Yes               No   \n",
       "1  5575-GNVDE             DSL            Yes           No              Yes   \n",
       "2  3668-QPYBK             DSL            Yes          Yes               No   \n",
       "3  7795-CFOCW             DSL            Yes           No              Yes   \n",
       "4  9237-HQITU     Fiber optic             No           No               No   \n",
       "\n",
       "  TechSupport StreamingTV StreamingMovies  \n",
       "0          No          No              No  \n",
       "1          No          No              No  \n",
       "2          No          No              No  \n",
       "3         Yes          No              No  \n",
       "4          No          No              No  "
      ]
     },
     "execution_count": 6,
     "metadata": {},
     "output_type": "execute_result"
    }
   ],
   "source": [
    "# открыть файл internet_new\n",
    "internet.head()"
   ]
  },
  {
   "cell_type": "code",
   "execution_count": 7,
   "id": "e470f803",
   "metadata": {},
   "outputs": [
    {
     "data": {
      "text/html": [
       "<div>\n",
       "<style scoped>\n",
       "    .dataframe tbody tr th:only-of-type {\n",
       "        vertical-align: middle;\n",
       "    }\n",
       "\n",
       "    .dataframe tbody tr th {\n",
       "        vertical-align: top;\n",
       "    }\n",
       "\n",
       "    .dataframe thead th {\n",
       "        text-align: right;\n",
       "    }\n",
       "</style>\n",
       "<table border=\"1\" class=\"dataframe\">\n",
       "  <thead>\n",
       "    <tr style=\"text-align: right;\">\n",
       "      <th></th>\n",
       "      <th>customerID</th>\n",
       "      <th>MultipleLines</th>\n",
       "    </tr>\n",
       "  </thead>\n",
       "  <tbody>\n",
       "    <tr>\n",
       "      <th>0</th>\n",
       "      <td>5575-GNVDE</td>\n",
       "      <td>No</td>\n",
       "    </tr>\n",
       "    <tr>\n",
       "      <th>1</th>\n",
       "      <td>3668-QPYBK</td>\n",
       "      <td>No</td>\n",
       "    </tr>\n",
       "    <tr>\n",
       "      <th>2</th>\n",
       "      <td>9237-HQITU</td>\n",
       "      <td>No</td>\n",
       "    </tr>\n",
       "    <tr>\n",
       "      <th>3</th>\n",
       "      <td>9305-CDSKC</td>\n",
       "      <td>Yes</td>\n",
       "    </tr>\n",
       "    <tr>\n",
       "      <th>4</th>\n",
       "      <td>1452-KIOVK</td>\n",
       "      <td>Yes</td>\n",
       "    </tr>\n",
       "  </tbody>\n",
       "</table>\n",
       "</div>"
      ],
      "text/plain": [
       "   customerID MultipleLines\n",
       "0  5575-GNVDE            No\n",
       "1  3668-QPYBK            No\n",
       "2  9237-HQITU            No\n",
       "3  9305-CDSKC           Yes\n",
       "4  1452-KIOVK           Yes"
      ]
     },
     "execution_count": 7,
     "metadata": {},
     "output_type": "execute_result"
    }
   ],
   "source": [
    "# открыть файл phone_new\n",
    "phone.head()"
   ]
  },
  {
   "cell_type": "code",
   "execution_count": 8,
   "id": "cacc9daa",
   "metadata": {
    "scrolled": false
   },
   "outputs": [
    {
     "name": "stdout",
     "output_type": "stream",
     "text": [
      "Данные для переменной contract:\n",
      "\n",
      "<class 'pandas.core.frame.DataFrame'>\n",
      "RangeIndex: 7043 entries, 0 to 7042\n",
      "Data columns (total 8 columns):\n",
      " #   Column            Non-Null Count  Dtype  \n",
      "---  ------            --------------  -----  \n",
      " 0   customerID        7043 non-null   object \n",
      " 1   BeginDate         7043 non-null   object \n",
      " 2   EndDate           7043 non-null   object \n",
      " 3   Type              7043 non-null   object \n",
      " 4   PaperlessBilling  7043 non-null   object \n",
      " 5   PaymentMethod     7043 non-null   object \n",
      " 6   MonthlyCharges    7043 non-null   float64\n",
      " 7   TotalCharges      7043 non-null   object \n",
      "dtypes: float64(1), object(7)\n",
      "memory usage: 440.3+ KB\n"
     ]
    },
    {
     "data": {
      "text/plain": [
       "None"
      ]
     },
     "metadata": {},
     "output_type": "display_data"
    },
    {
     "data": {
      "text/html": [
       "<div>\n",
       "<style scoped>\n",
       "    .dataframe tbody tr th:only-of-type {\n",
       "        vertical-align: middle;\n",
       "    }\n",
       "\n",
       "    .dataframe tbody tr th {\n",
       "        vertical-align: top;\n",
       "    }\n",
       "\n",
       "    .dataframe thead th {\n",
       "        text-align: right;\n",
       "    }\n",
       "</style>\n",
       "<table border=\"1\" class=\"dataframe\">\n",
       "  <thead>\n",
       "    <tr style=\"text-align: right;\">\n",
       "      <th></th>\n",
       "      <th>MonthlyCharges</th>\n",
       "    </tr>\n",
       "  </thead>\n",
       "  <tbody>\n",
       "    <tr>\n",
       "      <th>count</th>\n",
       "      <td>7043.000000</td>\n",
       "    </tr>\n",
       "    <tr>\n",
       "      <th>mean</th>\n",
       "      <td>64.761692</td>\n",
       "    </tr>\n",
       "    <tr>\n",
       "      <th>std</th>\n",
       "      <td>30.090047</td>\n",
       "    </tr>\n",
       "    <tr>\n",
       "      <th>min</th>\n",
       "      <td>18.250000</td>\n",
       "    </tr>\n",
       "    <tr>\n",
       "      <th>25%</th>\n",
       "      <td>35.500000</td>\n",
       "    </tr>\n",
       "    <tr>\n",
       "      <th>50%</th>\n",
       "      <td>70.350000</td>\n",
       "    </tr>\n",
       "    <tr>\n",
       "      <th>75%</th>\n",
       "      <td>89.850000</td>\n",
       "    </tr>\n",
       "    <tr>\n",
       "      <th>max</th>\n",
       "      <td>118.750000</td>\n",
       "    </tr>\n",
       "  </tbody>\n",
       "</table>\n",
       "</div>"
      ],
      "text/plain": [
       "       MonthlyCharges\n",
       "count     7043.000000\n",
       "mean        64.761692\n",
       "std         30.090047\n",
       "min         18.250000\n",
       "25%         35.500000\n",
       "50%         70.350000\n",
       "75%         89.850000\n",
       "max        118.750000"
      ]
     },
     "metadata": {},
     "output_type": "display_data"
    },
    {
     "name": "stdout",
     "output_type": "stream",
     "text": [
      "Дубликатов в contract: 0\n",
      "------------\n",
      "\n",
      "Данные для переменной personal:\n",
      "\n",
      "<class 'pandas.core.frame.DataFrame'>\n",
      "RangeIndex: 7043 entries, 0 to 7042\n",
      "Data columns (total 5 columns):\n",
      " #   Column         Non-Null Count  Dtype \n",
      "---  ------         --------------  ----- \n",
      " 0   customerID     7043 non-null   object\n",
      " 1   gender         7043 non-null   object\n",
      " 2   SeniorCitizen  7043 non-null   int64 \n",
      " 3   Partner        7043 non-null   object\n",
      " 4   Dependents     7043 non-null   object\n",
      "dtypes: int64(1), object(4)\n",
      "memory usage: 275.2+ KB\n"
     ]
    },
    {
     "data": {
      "text/plain": [
       "None"
      ]
     },
     "metadata": {},
     "output_type": "display_data"
    },
    {
     "data": {
      "text/html": [
       "<div>\n",
       "<style scoped>\n",
       "    .dataframe tbody tr th:only-of-type {\n",
       "        vertical-align: middle;\n",
       "    }\n",
       "\n",
       "    .dataframe tbody tr th {\n",
       "        vertical-align: top;\n",
       "    }\n",
       "\n",
       "    .dataframe thead th {\n",
       "        text-align: right;\n",
       "    }\n",
       "</style>\n",
       "<table border=\"1\" class=\"dataframe\">\n",
       "  <thead>\n",
       "    <tr style=\"text-align: right;\">\n",
       "      <th></th>\n",
       "      <th>SeniorCitizen</th>\n",
       "    </tr>\n",
       "  </thead>\n",
       "  <tbody>\n",
       "    <tr>\n",
       "      <th>count</th>\n",
       "      <td>7043.000000</td>\n",
       "    </tr>\n",
       "    <tr>\n",
       "      <th>mean</th>\n",
       "      <td>0.162147</td>\n",
       "    </tr>\n",
       "    <tr>\n",
       "      <th>std</th>\n",
       "      <td>0.368612</td>\n",
       "    </tr>\n",
       "    <tr>\n",
       "      <th>min</th>\n",
       "      <td>0.000000</td>\n",
       "    </tr>\n",
       "    <tr>\n",
       "      <th>25%</th>\n",
       "      <td>0.000000</td>\n",
       "    </tr>\n",
       "    <tr>\n",
       "      <th>50%</th>\n",
       "      <td>0.000000</td>\n",
       "    </tr>\n",
       "    <tr>\n",
       "      <th>75%</th>\n",
       "      <td>0.000000</td>\n",
       "    </tr>\n",
       "    <tr>\n",
       "      <th>max</th>\n",
       "      <td>1.000000</td>\n",
       "    </tr>\n",
       "  </tbody>\n",
       "</table>\n",
       "</div>"
      ],
      "text/plain": [
       "       SeniorCitizen\n",
       "count    7043.000000\n",
       "mean        0.162147\n",
       "std         0.368612\n",
       "min         0.000000\n",
       "25%         0.000000\n",
       "50%         0.000000\n",
       "75%         0.000000\n",
       "max         1.000000"
      ]
     },
     "metadata": {},
     "output_type": "display_data"
    },
    {
     "name": "stdout",
     "output_type": "stream",
     "text": [
      "Дубликатов в personal: 0\n",
      "------------\n",
      "\n",
      "Данные для переменной internet:\n",
      "\n",
      "<class 'pandas.core.frame.DataFrame'>\n",
      "RangeIndex: 5517 entries, 0 to 5516\n",
      "Data columns (total 8 columns):\n",
      " #   Column            Non-Null Count  Dtype \n",
      "---  ------            --------------  ----- \n",
      " 0   customerID        5517 non-null   object\n",
      " 1   InternetService   5517 non-null   object\n",
      " 2   OnlineSecurity    5517 non-null   object\n",
      " 3   OnlineBackup      5517 non-null   object\n",
      " 4   DeviceProtection  5517 non-null   object\n",
      " 5   TechSupport       5517 non-null   object\n",
      " 6   StreamingTV       5517 non-null   object\n",
      " 7   StreamingMovies   5517 non-null   object\n",
      "dtypes: object(8)\n",
      "memory usage: 344.9+ KB\n"
     ]
    },
    {
     "data": {
      "text/plain": [
       "None"
      ]
     },
     "metadata": {},
     "output_type": "display_data"
    },
    {
     "data": {
      "text/html": [
       "<div>\n",
       "<style scoped>\n",
       "    .dataframe tbody tr th:only-of-type {\n",
       "        vertical-align: middle;\n",
       "    }\n",
       "\n",
       "    .dataframe tbody tr th {\n",
       "        vertical-align: top;\n",
       "    }\n",
       "\n",
       "    .dataframe thead th {\n",
       "        text-align: right;\n",
       "    }\n",
       "</style>\n",
       "<table border=\"1\" class=\"dataframe\">\n",
       "  <thead>\n",
       "    <tr style=\"text-align: right;\">\n",
       "      <th></th>\n",
       "      <th>customerID</th>\n",
       "      <th>InternetService</th>\n",
       "      <th>OnlineSecurity</th>\n",
       "      <th>OnlineBackup</th>\n",
       "      <th>DeviceProtection</th>\n",
       "      <th>TechSupport</th>\n",
       "      <th>StreamingTV</th>\n",
       "      <th>StreamingMovies</th>\n",
       "    </tr>\n",
       "  </thead>\n",
       "  <tbody>\n",
       "    <tr>\n",
       "      <th>count</th>\n",
       "      <td>5517</td>\n",
       "      <td>5517</td>\n",
       "      <td>5517</td>\n",
       "      <td>5517</td>\n",
       "      <td>5517</td>\n",
       "      <td>5517</td>\n",
       "      <td>5517</td>\n",
       "      <td>5517</td>\n",
       "    </tr>\n",
       "    <tr>\n",
       "      <th>unique</th>\n",
       "      <td>5517</td>\n",
       "      <td>2</td>\n",
       "      <td>2</td>\n",
       "      <td>2</td>\n",
       "      <td>2</td>\n",
       "      <td>2</td>\n",
       "      <td>2</td>\n",
       "      <td>2</td>\n",
       "    </tr>\n",
       "    <tr>\n",
       "      <th>top</th>\n",
       "      <td>7590-VHVEG</td>\n",
       "      <td>Fiber optic</td>\n",
       "      <td>No</td>\n",
       "      <td>No</td>\n",
       "      <td>No</td>\n",
       "      <td>No</td>\n",
       "      <td>No</td>\n",
       "      <td>No</td>\n",
       "    </tr>\n",
       "    <tr>\n",
       "      <th>freq</th>\n",
       "      <td>1</td>\n",
       "      <td>3096</td>\n",
       "      <td>3498</td>\n",
       "      <td>3088</td>\n",
       "      <td>3095</td>\n",
       "      <td>3473</td>\n",
       "      <td>2810</td>\n",
       "      <td>2785</td>\n",
       "    </tr>\n",
       "  </tbody>\n",
       "</table>\n",
       "</div>"
      ],
      "text/plain": [
       "        customerID InternetService OnlineSecurity OnlineBackup  \\\n",
       "count         5517            5517           5517         5517   \n",
       "unique        5517               2              2            2   \n",
       "top     7590-VHVEG     Fiber optic             No           No   \n",
       "freq             1            3096           3498         3088   \n",
       "\n",
       "       DeviceProtection TechSupport StreamingTV StreamingMovies  \n",
       "count              5517        5517        5517            5517  \n",
       "unique                2           2           2               2  \n",
       "top                  No          No          No              No  \n",
       "freq               3095        3473        2810            2785  "
      ]
     },
     "metadata": {},
     "output_type": "display_data"
    },
    {
     "name": "stdout",
     "output_type": "stream",
     "text": [
      "Дубликатов в internet: 0\n",
      "------------\n",
      "\n",
      "Данные для переменной phone:\n",
      "\n",
      "<class 'pandas.core.frame.DataFrame'>\n",
      "RangeIndex: 6361 entries, 0 to 6360\n",
      "Data columns (total 2 columns):\n",
      " #   Column         Non-Null Count  Dtype \n",
      "---  ------         --------------  ----- \n",
      " 0   customerID     6361 non-null   object\n",
      " 1   MultipleLines  6361 non-null   object\n",
      "dtypes: object(2)\n",
      "memory usage: 99.5+ KB\n"
     ]
    },
    {
     "data": {
      "text/plain": [
       "None"
      ]
     },
     "metadata": {},
     "output_type": "display_data"
    },
    {
     "data": {
      "text/html": [
       "<div>\n",
       "<style scoped>\n",
       "    .dataframe tbody tr th:only-of-type {\n",
       "        vertical-align: middle;\n",
       "    }\n",
       "\n",
       "    .dataframe tbody tr th {\n",
       "        vertical-align: top;\n",
       "    }\n",
       "\n",
       "    .dataframe thead th {\n",
       "        text-align: right;\n",
       "    }\n",
       "</style>\n",
       "<table border=\"1\" class=\"dataframe\">\n",
       "  <thead>\n",
       "    <tr style=\"text-align: right;\">\n",
       "      <th></th>\n",
       "      <th>customerID</th>\n",
       "      <th>MultipleLines</th>\n",
       "    </tr>\n",
       "  </thead>\n",
       "  <tbody>\n",
       "    <tr>\n",
       "      <th>count</th>\n",
       "      <td>6361</td>\n",
       "      <td>6361</td>\n",
       "    </tr>\n",
       "    <tr>\n",
       "      <th>unique</th>\n",
       "      <td>6361</td>\n",
       "      <td>2</td>\n",
       "    </tr>\n",
       "    <tr>\n",
       "      <th>top</th>\n",
       "      <td>5575-GNVDE</td>\n",
       "      <td>No</td>\n",
       "    </tr>\n",
       "    <tr>\n",
       "      <th>freq</th>\n",
       "      <td>1</td>\n",
       "      <td>3390</td>\n",
       "    </tr>\n",
       "  </tbody>\n",
       "</table>\n",
       "</div>"
      ],
      "text/plain": [
       "        customerID MultipleLines\n",
       "count         6361          6361\n",
       "unique        6361             2\n",
       "top     5575-GNVDE            No\n",
       "freq             1          3390"
      ]
     },
     "metadata": {},
     "output_type": "display_data"
    },
    {
     "name": "stdout",
     "output_type": "stream",
     "text": [
      "Дубликатов в phone: 0\n",
      "------------\n",
      "\n"
     ]
    }
   ],
   "source": [
    "datalist = {'contract': contract, 'personal': personal, 'internet': internet, 'phone': phone}\n",
    "\n",
    "for varname, data in datalist.items():\n",
    "    print(f\"Данные для переменной {varname}:\")\n",
    "    print()\n",
    "    display(data.info())\n",
    "    display(data.describe())\n",
    "    print(f\"Дубликатов в {varname}:\", data.duplicated().sum())\n",
    "    print('------------')\n",
    "    print()"
   ]
  },
  {
   "cell_type": "markdown",
   "id": "ab0a1caf",
   "metadata": {},
   "source": [
    "**ВЫВОДЫ**\n",
    "\n",
    "1. Данные загружены.  \n",
    "  \n",
    "2. Всего 7043 клиента оператора связи «Ниединогоразрыва.ком». Стоит отметить, что пользователей интернета - 5517 человек, пользователей стационарной телефонной связи - 6361 человек.  \n",
    "  \n",
    "3. Информация по таблицам:\n",
    "\n",
    "    *Таблица contract:*  \n",
    "    В таблице *contract* 7043 записей, пропусков не обнаружено, дубликатов не обнаружено. \n",
    "    - <code>BeginDate</code> – необходимо изменить тип данных на *datetime*,\n",
    "    - <code>EndDate</code> – необходимо \"No\" заменить на дату выгрузки (1 февраля 2020),\n",
    "    - <code>TotalCharges</code> - необходимо изменить тип данных на *float*.  \n",
    "  \n",
    "   *Таблица personal:*  \n",
    "    В таблице *personal* 7043 записи, пропусков не обнаружено, дубликатов не обнаружено.  \n",
    "\n",
    "   *Таблица internet:*  \n",
    "    В таблице *internet* 5517 записей, пропусков не обнаружено, дубликатов не обнаружено.\n",
    "  \n",
    "   *Таблица phone:*  \n",
    "    В таблице *phone* 6361 запись, пропусков не обнаружено, дубликатов не обнаружено."
   ]
  },
  {
   "cell_type": "markdown",
   "id": "ae66b11b",
   "metadata": {},
   "source": [
    "## Предобработка данных"
   ]
  },
  {
   "cell_type": "markdown",
   "id": "0afdf61d",
   "metadata": {},
   "source": [
    "В таблице *contract* необходимо изменить тип данных <code>BeginDate</code> на *datetime*, так как в столбце находятся данные о дате начала пользования услугами."
   ]
  },
  {
   "cell_type": "code",
   "execution_count": 9,
   "id": "1af9cae0",
   "metadata": {},
   "outputs": [],
   "source": [
    "# изменить тип данных BeginDate\n",
    "contract['BeginDate'] = pd.to_datetime(contract['BeginDate'], format = '%Y-%m-%d')"
   ]
  },
  {
   "cell_type": "markdown",
   "id": "eb21226e",
   "metadata": {},
   "source": [
    "В таблице *contract*, в поле <code>EndDate</code>, необходимо изменить \"No\" на дату выгрузки таблицы (1 февраля 2020 года), так как пользователи не закончили пользоваться услугами. А затем необходимо изменить тип данных на *datetime*, так как в столбце находятся данные о дате окончания пользования услугами."
   ]
  },
  {
   "cell_type": "code",
   "execution_count": 10,
   "id": "8a84b8d1",
   "metadata": {},
   "outputs": [],
   "source": [
    "# заменить \"No\" на 2020-02-01\n",
    "contract['EndDate'] = contract['EndDate'].replace(['No'], ['2020-02-01'])\n",
    "\n",
    "# изменить тип данных EndDate\n",
    "contract['EndDate'] = pd.to_datetime(contract['EndDate'], format = '%Y-%m-%d')"
   ]
  },
  {
   "cell_type": "markdown",
   "id": "9a459b6e",
   "metadata": {},
   "source": [
    "В таблице *contract*, в поле <code>TotalCharges</code>, необходимо изменить тип данных на *float*, так как в столбце находятся данные о сумме потраченных денег на услуги. При изменении типа данных появляется ошибка, так как в данных есть пустые строки, а строку '  ' не получается конвертировать в тип данных *float*, поэтому заменяем пустую строку значением 0."
   ]
  },
  {
   "cell_type": "code",
   "execution_count": 11,
   "id": "ff65797a",
   "metadata": {},
   "outputs": [],
   "source": [
    "# заменить пустую строку значением 0\n",
    "contract['TotalCharges'] = contract['TotalCharges'].replace([' '], 0)\n",
    "\n",
    "# изменить тип данных TotalCharges\n",
    "contract['TotalCharges'] = contract['TotalCharges'].astype('float')"
   ]
  },
  {
   "cell_type": "markdown",
   "id": "503af9c3",
   "metadata": {},
   "source": [
    "Работать с дубликатами нет необходимости, так как дубликаты не были найдены."
   ]
  },
  {
   "cell_type": "markdown",
   "id": "9c11153e",
   "metadata": {},
   "source": [
    "Предобработке исходных данных завершена.  \n",
    "Перейдём к объединению таблиц. Во всех таблицах есть поле <code>customerID</code>, поэтому объединять данные будем именно по этому полю. Сначала объединим таблицы *contract* и *personal*, далее полученную таблицу объединим с *internet*, затем новую таблицу объединим с *phone*."
   ]
  },
  {
   "cell_type": "code",
   "execution_count": 12,
   "id": "550a2a17",
   "metadata": {},
   "outputs": [],
   "source": [
    "# объединить contract и personal\n",
    "df = contract.set_index('customerID').join(personal.set_index('customerID'))"
   ]
  },
  {
   "cell_type": "code",
   "execution_count": 13,
   "id": "06901e80",
   "metadata": {},
   "outputs": [],
   "source": [
    "# объединить новую таблицу и internet\n",
    "df = df.join(internet.set_index('customerID'))"
   ]
  },
  {
   "cell_type": "code",
   "execution_count": 14,
   "id": "79efd182",
   "metadata": {},
   "outputs": [],
   "source": [
    "# объединить новую таблицу и phone\n",
    "df = df.join(phone.set_index('customerID'))"
   ]
  },
  {
   "cell_type": "code",
   "execution_count": 15,
   "id": "74111f71",
   "metadata": {},
   "outputs": [
    {
     "data": {
      "text/html": [
       "<div>\n",
       "<style scoped>\n",
       "    .dataframe tbody tr th:only-of-type {\n",
       "        vertical-align: middle;\n",
       "    }\n",
       "\n",
       "    .dataframe tbody tr th {\n",
       "        vertical-align: top;\n",
       "    }\n",
       "\n",
       "    .dataframe thead th {\n",
       "        text-align: right;\n",
       "    }\n",
       "</style>\n",
       "<table border=\"1\" class=\"dataframe\">\n",
       "  <thead>\n",
       "    <tr style=\"text-align: right;\">\n",
       "      <th></th>\n",
       "      <th>BeginDate</th>\n",
       "      <th>EndDate</th>\n",
       "      <th>Type</th>\n",
       "      <th>PaperlessBilling</th>\n",
       "      <th>PaymentMethod</th>\n",
       "      <th>MonthlyCharges</th>\n",
       "      <th>TotalCharges</th>\n",
       "      <th>gender</th>\n",
       "      <th>SeniorCitizen</th>\n",
       "      <th>Partner</th>\n",
       "      <th>Dependents</th>\n",
       "      <th>InternetService</th>\n",
       "      <th>OnlineSecurity</th>\n",
       "      <th>OnlineBackup</th>\n",
       "      <th>DeviceProtection</th>\n",
       "      <th>TechSupport</th>\n",
       "      <th>StreamingTV</th>\n",
       "      <th>StreamingMovies</th>\n",
       "      <th>MultipleLines</th>\n",
       "    </tr>\n",
       "    <tr>\n",
       "      <th>customerID</th>\n",
       "      <th></th>\n",
       "      <th></th>\n",
       "      <th></th>\n",
       "      <th></th>\n",
       "      <th></th>\n",
       "      <th></th>\n",
       "      <th></th>\n",
       "      <th></th>\n",
       "      <th></th>\n",
       "      <th></th>\n",
       "      <th></th>\n",
       "      <th></th>\n",
       "      <th></th>\n",
       "      <th></th>\n",
       "      <th></th>\n",
       "      <th></th>\n",
       "      <th></th>\n",
       "      <th></th>\n",
       "      <th></th>\n",
       "    </tr>\n",
       "  </thead>\n",
       "  <tbody>\n",
       "    <tr>\n",
       "      <th>7590-VHVEG</th>\n",
       "      <td>2020-01-01</td>\n",
       "      <td>2020-02-01</td>\n",
       "      <td>Month-to-month</td>\n",
       "      <td>Yes</td>\n",
       "      <td>Electronic check</td>\n",
       "      <td>29.85</td>\n",
       "      <td>31.04</td>\n",
       "      <td>Female</td>\n",
       "      <td>0</td>\n",
       "      <td>Yes</td>\n",
       "      <td>No</td>\n",
       "      <td>DSL</td>\n",
       "      <td>No</td>\n",
       "      <td>Yes</td>\n",
       "      <td>No</td>\n",
       "      <td>No</td>\n",
       "      <td>No</td>\n",
       "      <td>No</td>\n",
       "      <td>NaN</td>\n",
       "    </tr>\n",
       "    <tr>\n",
       "      <th>5575-GNVDE</th>\n",
       "      <td>2017-04-01</td>\n",
       "      <td>2020-02-01</td>\n",
       "      <td>One year</td>\n",
       "      <td>No</td>\n",
       "      <td>Mailed check</td>\n",
       "      <td>56.95</td>\n",
       "      <td>2071.84</td>\n",
       "      <td>Male</td>\n",
       "      <td>0</td>\n",
       "      <td>No</td>\n",
       "      <td>No</td>\n",
       "      <td>DSL</td>\n",
       "      <td>Yes</td>\n",
       "      <td>No</td>\n",
       "      <td>Yes</td>\n",
       "      <td>No</td>\n",
       "      <td>No</td>\n",
       "      <td>No</td>\n",
       "      <td>No</td>\n",
       "    </tr>\n",
       "    <tr>\n",
       "      <th>3668-QPYBK</th>\n",
       "      <td>2019-10-01</td>\n",
       "      <td>2020-02-01</td>\n",
       "      <td>Month-to-month</td>\n",
       "      <td>Yes</td>\n",
       "      <td>Mailed check</td>\n",
       "      <td>53.85</td>\n",
       "      <td>226.17</td>\n",
       "      <td>Male</td>\n",
       "      <td>0</td>\n",
       "      <td>No</td>\n",
       "      <td>No</td>\n",
       "      <td>DSL</td>\n",
       "      <td>Yes</td>\n",
       "      <td>Yes</td>\n",
       "      <td>No</td>\n",
       "      <td>No</td>\n",
       "      <td>No</td>\n",
       "      <td>No</td>\n",
       "      <td>No</td>\n",
       "    </tr>\n",
       "    <tr>\n",
       "      <th>7795-CFOCW</th>\n",
       "      <td>2016-05-01</td>\n",
       "      <td>2020-02-01</td>\n",
       "      <td>One year</td>\n",
       "      <td>No</td>\n",
       "      <td>Bank transfer (automatic)</td>\n",
       "      <td>42.30</td>\n",
       "      <td>1960.60</td>\n",
       "      <td>Male</td>\n",
       "      <td>0</td>\n",
       "      <td>No</td>\n",
       "      <td>No</td>\n",
       "      <td>DSL</td>\n",
       "      <td>Yes</td>\n",
       "      <td>No</td>\n",
       "      <td>Yes</td>\n",
       "      <td>Yes</td>\n",
       "      <td>No</td>\n",
       "      <td>No</td>\n",
       "      <td>NaN</td>\n",
       "    </tr>\n",
       "    <tr>\n",
       "      <th>9237-HQITU</th>\n",
       "      <td>2019-09-01</td>\n",
       "      <td>2020-02-01</td>\n",
       "      <td>Month-to-month</td>\n",
       "      <td>Yes</td>\n",
       "      <td>Electronic check</td>\n",
       "      <td>70.70</td>\n",
       "      <td>353.50</td>\n",
       "      <td>Female</td>\n",
       "      <td>0</td>\n",
       "      <td>No</td>\n",
       "      <td>No</td>\n",
       "      <td>Fiber optic</td>\n",
       "      <td>No</td>\n",
       "      <td>No</td>\n",
       "      <td>No</td>\n",
       "      <td>No</td>\n",
       "      <td>No</td>\n",
       "      <td>No</td>\n",
       "      <td>No</td>\n",
       "    </tr>\n",
       "  </tbody>\n",
       "</table>\n",
       "</div>"
      ],
      "text/plain": [
       "            BeginDate    EndDate            Type PaperlessBilling  \\\n",
       "customerID                                                          \n",
       "7590-VHVEG 2020-01-01 2020-02-01  Month-to-month              Yes   \n",
       "5575-GNVDE 2017-04-01 2020-02-01        One year               No   \n",
       "3668-QPYBK 2019-10-01 2020-02-01  Month-to-month              Yes   \n",
       "7795-CFOCW 2016-05-01 2020-02-01        One year               No   \n",
       "9237-HQITU 2019-09-01 2020-02-01  Month-to-month              Yes   \n",
       "\n",
       "                        PaymentMethod  MonthlyCharges  TotalCharges  gender  \\\n",
       "customerID                                                                    \n",
       "7590-VHVEG           Electronic check           29.85         31.04  Female   \n",
       "5575-GNVDE               Mailed check           56.95       2071.84    Male   \n",
       "3668-QPYBK               Mailed check           53.85        226.17    Male   \n",
       "7795-CFOCW  Bank transfer (automatic)           42.30       1960.60    Male   \n",
       "9237-HQITU           Electronic check           70.70        353.50  Female   \n",
       "\n",
       "            SeniorCitizen Partner Dependents InternetService OnlineSecurity  \\\n",
       "customerID                                                                    \n",
       "7590-VHVEG              0     Yes         No             DSL             No   \n",
       "5575-GNVDE              0      No         No             DSL            Yes   \n",
       "3668-QPYBK              0      No         No             DSL            Yes   \n",
       "7795-CFOCW              0      No         No             DSL            Yes   \n",
       "9237-HQITU              0      No         No     Fiber optic             No   \n",
       "\n",
       "           OnlineBackup DeviceProtection TechSupport StreamingTV  \\\n",
       "customerID                                                         \n",
       "7590-VHVEG          Yes               No          No          No   \n",
       "5575-GNVDE           No              Yes          No          No   \n",
       "3668-QPYBK          Yes               No          No          No   \n",
       "7795-CFOCW           No              Yes         Yes          No   \n",
       "9237-HQITU           No               No          No          No   \n",
       "\n",
       "           StreamingMovies MultipleLines  \n",
       "customerID                                \n",
       "7590-VHVEG              No           NaN  \n",
       "5575-GNVDE              No            No  \n",
       "3668-QPYBK              No            No  \n",
       "7795-CFOCW              No           NaN  \n",
       "9237-HQITU              No            No  "
      ]
     },
     "execution_count": 15,
     "metadata": {},
     "output_type": "execute_result"
    }
   ],
   "source": [
    "# отобразить таблицу\n",
    "df.head()"
   ]
  },
  {
   "cell_type": "code",
   "execution_count": 16,
   "id": "edf41681",
   "metadata": {},
   "outputs": [
    {
     "name": "stdout",
     "output_type": "stream",
     "text": [
      "<class 'pandas.core.frame.DataFrame'>\n",
      "Index: 7043 entries, 7590-VHVEG to 3186-AJIEK\n",
      "Data columns (total 19 columns):\n",
      " #   Column            Non-Null Count  Dtype         \n",
      "---  ------            --------------  -----         \n",
      " 0   BeginDate         7043 non-null   datetime64[ns]\n",
      " 1   EndDate           7043 non-null   datetime64[ns]\n",
      " 2   Type              7043 non-null   object        \n",
      " 3   PaperlessBilling  7043 non-null   object        \n",
      " 4   PaymentMethod     7043 non-null   object        \n",
      " 5   MonthlyCharges    7043 non-null   float64       \n",
      " 6   TotalCharges      7043 non-null   float64       \n",
      " 7   gender            7043 non-null   object        \n",
      " 8   SeniorCitizen     7043 non-null   int64         \n",
      " 9   Partner           7043 non-null   object        \n",
      " 10  Dependents        7043 non-null   object        \n",
      " 11  InternetService   5517 non-null   object        \n",
      " 12  OnlineSecurity    5517 non-null   object        \n",
      " 13  OnlineBackup      5517 non-null   object        \n",
      " 14  DeviceProtection  5517 non-null   object        \n",
      " 15  TechSupport       5517 non-null   object        \n",
      " 16  StreamingTV       5517 non-null   object        \n",
      " 17  StreamingMovies   5517 non-null   object        \n",
      " 18  MultipleLines     6361 non-null   object        \n",
      "dtypes: datetime64[ns](2), float64(2), int64(1), object(14)\n",
      "memory usage: 1.3+ MB\n"
     ]
    }
   ],
   "source": [
    "# изучить данные: метод info()\n",
    "df.info()"
   ]
  },
  {
   "cell_type": "markdown",
   "id": "ea1359fa",
   "metadata": {},
   "source": [
    "В добавленных полях есть значения \"Yes\" и \"No\", заменим их на 1 и 0 соответственно."
   ]
  },
  {
   "cell_type": "code",
   "execution_count": 17,
   "id": "768ff53a",
   "metadata": {},
   "outputs": [],
   "source": [
    "# заменить \"No\" на 0, а \"Yes\" на 1\n",
    "df.replace({'No': 0, 'Yes': 1}, inplace=True)"
   ]
  },
  {
   "cell_type": "markdown",
   "id": "e48170ad",
   "metadata": {},
   "source": [
    "Также в некоторых добавленных полях (InternetService, OnlineSecurity, OnlineBackup, DeviceProtection, TechSupport, StreamingTV, StreamingMovies, MultipleLines) мы видим пропущенные значения. Заполним пропуски значением 0."
   ]
  },
  {
   "cell_type": "code",
   "execution_count": 18,
   "id": "d4a2f95c",
   "metadata": {},
   "outputs": [],
   "source": [
    "# записать названия столбцов в список\n",
    "missing_values_columns = ['InternetService', 'OnlineSecurity', 'OnlineBackup', 'DeviceProtection', \n",
    "                  'TechSupport', 'StreamingTV', 'StreamingMovies', 'MultipleLines']\n",
    "\n",
    "# цикл для заполнения пропусков\n",
    "for i in missing_values_columns:\n",
    "    df[i].fillna(0, inplace = True)"
   ]
  },
  {
   "cell_type": "markdown",
   "id": "0dbb80b4",
   "metadata": {},
   "source": [
    "В некоторых добавленных полях (OnlineSecurity, OnlineBackup, DeviceProtection, TechSupport, StreamingTV, StreamingMovies, MultipleLines) необходимо изменить тип данных на *int*."
   ]
  },
  {
   "cell_type": "code",
   "execution_count": 19,
   "id": "f83b262d",
   "metadata": {},
   "outputs": [],
   "source": [
    "# записать названия столбцов в список\n",
    "invalid_data_type = ['OnlineSecurity', 'OnlineBackup', 'DeviceProtection', \n",
    "                  'TechSupport', 'StreamingTV', 'StreamingMovies', 'MultipleLines']\n",
    "\n",
    "# цикл для изменения типа данных\n",
    "for i in invalid_data_type:\n",
    "    df[i] = df[i].astype('int')"
   ]
  },
  {
   "cell_type": "markdown",
   "id": "5ee8ac25",
   "metadata": {},
   "source": [
    "Остались 4 поля с типом данных *object*: <code>Type</code>, <code>PaymentMethod</code>, <code>gender</code> и <code>InternetService</code>. После отображения первых пяти строк таблицы понятно, что в поле <code>PaymentMethod</code> минимум три уникальных значения, поэтому проверим оставшиеся поля."
   ]
  },
  {
   "cell_type": "code",
   "execution_count": 20,
   "id": "db80f3ce",
   "metadata": {},
   "outputs": [
    {
     "name": "stdout",
     "output_type": "stream",
     "text": [
      "['Month-to-month' 'One year' 'Two year']\n",
      "['Female' 'Male']\n",
      "['DSL' 'Fiber optic' 0]\n"
     ]
    }
   ],
   "source": [
    "# записать названия столбцов в список\n",
    "check_unique = ['Type', 'gender', 'InternetService']\n",
    "\n",
    "# цикл для изменения типа данных\n",
    "for i in check_unique:\n",
    "    print(df[i].unique())"
   ]
  },
  {
   "cell_type": "markdown",
   "id": "796c5ec9",
   "metadata": {},
   "source": [
    "Видим, что <code>gender</code> и <code>InternetService</code> - поля с двумя уникальными значениями, поэтому трансформируем их, изменив название полей на <code>is_male</code> и <code>is_DSL</code>."
   ]
  },
  {
   "cell_type": "code",
   "execution_count": 21,
   "id": "890edc43",
   "metadata": {},
   "outputs": [],
   "source": [
    "# изменить названия столбцов\n",
    "df.rename(columns = {'gender': 'is_male', 'InternetService': 'is_DSL'}, inplace = True)\n",
    "\n",
    "# заменить \"Female\" на 0, а \"Male\" на 1\n",
    "df['is_male'].replace({'Female': 0, 'Male': 1}, inplace=True)\n",
    "\n",
    "# заменить \"Fiber optic\" на 0, а \"DSL\" на 1\n",
    "df['is_DSL'].replace({'Fiber optic': 0, 'DSL': 1}, inplace=True)"
   ]
  },
  {
   "cell_type": "markdown",
   "id": "98d3dfab",
   "metadata": {},
   "source": [
    "Проверим, как проведена предобработка данных. Для этого выведем получившуюся таблицу, а также изучим данные методами *info()* и *describe()*."
   ]
  },
  {
   "cell_type": "code",
   "execution_count": 22,
   "id": "a4979a06",
   "metadata": {},
   "outputs": [
    {
     "data": {
      "text/html": [
       "<div>\n",
       "<style scoped>\n",
       "    .dataframe tbody tr th:only-of-type {\n",
       "        vertical-align: middle;\n",
       "    }\n",
       "\n",
       "    .dataframe tbody tr th {\n",
       "        vertical-align: top;\n",
       "    }\n",
       "\n",
       "    .dataframe thead th {\n",
       "        text-align: right;\n",
       "    }\n",
       "</style>\n",
       "<table border=\"1\" class=\"dataframe\">\n",
       "  <thead>\n",
       "    <tr style=\"text-align: right;\">\n",
       "      <th></th>\n",
       "      <th>BeginDate</th>\n",
       "      <th>EndDate</th>\n",
       "      <th>Type</th>\n",
       "      <th>PaperlessBilling</th>\n",
       "      <th>PaymentMethod</th>\n",
       "      <th>MonthlyCharges</th>\n",
       "      <th>TotalCharges</th>\n",
       "      <th>is_male</th>\n",
       "      <th>SeniorCitizen</th>\n",
       "      <th>Partner</th>\n",
       "      <th>Dependents</th>\n",
       "      <th>is_DSL</th>\n",
       "      <th>OnlineSecurity</th>\n",
       "      <th>OnlineBackup</th>\n",
       "      <th>DeviceProtection</th>\n",
       "      <th>TechSupport</th>\n",
       "      <th>StreamingTV</th>\n",
       "      <th>StreamingMovies</th>\n",
       "      <th>MultipleLines</th>\n",
       "    </tr>\n",
       "    <tr>\n",
       "      <th>customerID</th>\n",
       "      <th></th>\n",
       "      <th></th>\n",
       "      <th></th>\n",
       "      <th></th>\n",
       "      <th></th>\n",
       "      <th></th>\n",
       "      <th></th>\n",
       "      <th></th>\n",
       "      <th></th>\n",
       "      <th></th>\n",
       "      <th></th>\n",
       "      <th></th>\n",
       "      <th></th>\n",
       "      <th></th>\n",
       "      <th></th>\n",
       "      <th></th>\n",
       "      <th></th>\n",
       "      <th></th>\n",
       "      <th></th>\n",
       "    </tr>\n",
       "  </thead>\n",
       "  <tbody>\n",
       "    <tr>\n",
       "      <th>7590-VHVEG</th>\n",
       "      <td>2020-01-01</td>\n",
       "      <td>2020-02-01</td>\n",
       "      <td>Month-to-month</td>\n",
       "      <td>1</td>\n",
       "      <td>Electronic check</td>\n",
       "      <td>29.85</td>\n",
       "      <td>31.04</td>\n",
       "      <td>0</td>\n",
       "      <td>0</td>\n",
       "      <td>1</td>\n",
       "      <td>0</td>\n",
       "      <td>1</td>\n",
       "      <td>0</td>\n",
       "      <td>1</td>\n",
       "      <td>0</td>\n",
       "      <td>0</td>\n",
       "      <td>0</td>\n",
       "      <td>0</td>\n",
       "      <td>0</td>\n",
       "    </tr>\n",
       "    <tr>\n",
       "      <th>5575-GNVDE</th>\n",
       "      <td>2017-04-01</td>\n",
       "      <td>2020-02-01</td>\n",
       "      <td>One year</td>\n",
       "      <td>0</td>\n",
       "      <td>Mailed check</td>\n",
       "      <td>56.95</td>\n",
       "      <td>2071.84</td>\n",
       "      <td>1</td>\n",
       "      <td>0</td>\n",
       "      <td>0</td>\n",
       "      <td>0</td>\n",
       "      <td>1</td>\n",
       "      <td>1</td>\n",
       "      <td>0</td>\n",
       "      <td>1</td>\n",
       "      <td>0</td>\n",
       "      <td>0</td>\n",
       "      <td>0</td>\n",
       "      <td>0</td>\n",
       "    </tr>\n",
       "    <tr>\n",
       "      <th>3668-QPYBK</th>\n",
       "      <td>2019-10-01</td>\n",
       "      <td>2020-02-01</td>\n",
       "      <td>Month-to-month</td>\n",
       "      <td>1</td>\n",
       "      <td>Mailed check</td>\n",
       "      <td>53.85</td>\n",
       "      <td>226.17</td>\n",
       "      <td>1</td>\n",
       "      <td>0</td>\n",
       "      <td>0</td>\n",
       "      <td>0</td>\n",
       "      <td>1</td>\n",
       "      <td>1</td>\n",
       "      <td>1</td>\n",
       "      <td>0</td>\n",
       "      <td>0</td>\n",
       "      <td>0</td>\n",
       "      <td>0</td>\n",
       "      <td>0</td>\n",
       "    </tr>\n",
       "    <tr>\n",
       "      <th>7795-CFOCW</th>\n",
       "      <td>2016-05-01</td>\n",
       "      <td>2020-02-01</td>\n",
       "      <td>One year</td>\n",
       "      <td>0</td>\n",
       "      <td>Bank transfer (automatic)</td>\n",
       "      <td>42.30</td>\n",
       "      <td>1960.60</td>\n",
       "      <td>1</td>\n",
       "      <td>0</td>\n",
       "      <td>0</td>\n",
       "      <td>0</td>\n",
       "      <td>1</td>\n",
       "      <td>1</td>\n",
       "      <td>0</td>\n",
       "      <td>1</td>\n",
       "      <td>1</td>\n",
       "      <td>0</td>\n",
       "      <td>0</td>\n",
       "      <td>0</td>\n",
       "    </tr>\n",
       "    <tr>\n",
       "      <th>9237-HQITU</th>\n",
       "      <td>2019-09-01</td>\n",
       "      <td>2020-02-01</td>\n",
       "      <td>Month-to-month</td>\n",
       "      <td>1</td>\n",
       "      <td>Electronic check</td>\n",
       "      <td>70.70</td>\n",
       "      <td>353.50</td>\n",
       "      <td>0</td>\n",
       "      <td>0</td>\n",
       "      <td>0</td>\n",
       "      <td>0</td>\n",
       "      <td>0</td>\n",
       "      <td>0</td>\n",
       "      <td>0</td>\n",
       "      <td>0</td>\n",
       "      <td>0</td>\n",
       "      <td>0</td>\n",
       "      <td>0</td>\n",
       "      <td>0</td>\n",
       "    </tr>\n",
       "  </tbody>\n",
       "</table>\n",
       "</div>"
      ],
      "text/plain": [
       "            BeginDate    EndDate            Type  PaperlessBilling  \\\n",
       "customerID                                                           \n",
       "7590-VHVEG 2020-01-01 2020-02-01  Month-to-month                 1   \n",
       "5575-GNVDE 2017-04-01 2020-02-01        One year                 0   \n",
       "3668-QPYBK 2019-10-01 2020-02-01  Month-to-month                 1   \n",
       "7795-CFOCW 2016-05-01 2020-02-01        One year                 0   \n",
       "9237-HQITU 2019-09-01 2020-02-01  Month-to-month                 1   \n",
       "\n",
       "                        PaymentMethod  MonthlyCharges  TotalCharges  is_male  \\\n",
       "customerID                                                                     \n",
       "7590-VHVEG           Electronic check           29.85         31.04        0   \n",
       "5575-GNVDE               Mailed check           56.95       2071.84        1   \n",
       "3668-QPYBK               Mailed check           53.85        226.17        1   \n",
       "7795-CFOCW  Bank transfer (automatic)           42.30       1960.60        1   \n",
       "9237-HQITU           Electronic check           70.70        353.50        0   \n",
       "\n",
       "            SeniorCitizen  Partner  Dependents  is_DSL  OnlineSecurity  \\\n",
       "customerID                                                               \n",
       "7590-VHVEG              0        1           0       1               0   \n",
       "5575-GNVDE              0        0           0       1               1   \n",
       "3668-QPYBK              0        0           0       1               1   \n",
       "7795-CFOCW              0        0           0       1               1   \n",
       "9237-HQITU              0        0           0       0               0   \n",
       "\n",
       "            OnlineBackup  DeviceProtection  TechSupport  StreamingTV  \\\n",
       "customerID                                                             \n",
       "7590-VHVEG             1                 0            0            0   \n",
       "5575-GNVDE             0                 1            0            0   \n",
       "3668-QPYBK             1                 0            0            0   \n",
       "7795-CFOCW             0                 1            1            0   \n",
       "9237-HQITU             0                 0            0            0   \n",
       "\n",
       "            StreamingMovies  MultipleLines  \n",
       "customerID                                  \n",
       "7590-VHVEG                0              0  \n",
       "5575-GNVDE                0              0  \n",
       "3668-QPYBK                0              0  \n",
       "7795-CFOCW                0              0  \n",
       "9237-HQITU                0              0  "
      ]
     },
     "execution_count": 22,
     "metadata": {},
     "output_type": "execute_result"
    }
   ],
   "source": [
    "# вывести таблицу\n",
    "df.head()"
   ]
  },
  {
   "cell_type": "code",
   "execution_count": 23,
   "id": "c82bdaf5",
   "metadata": {},
   "outputs": [
    {
     "name": "stdout",
     "output_type": "stream",
     "text": [
      "<class 'pandas.core.frame.DataFrame'>\n",
      "Index: 7043 entries, 7590-VHVEG to 3186-AJIEK\n",
      "Data columns (total 19 columns):\n",
      " #   Column            Non-Null Count  Dtype         \n",
      "---  ------            --------------  -----         \n",
      " 0   BeginDate         7043 non-null   datetime64[ns]\n",
      " 1   EndDate           7043 non-null   datetime64[ns]\n",
      " 2   Type              7043 non-null   object        \n",
      " 3   PaperlessBilling  7043 non-null   int64         \n",
      " 4   PaymentMethod     7043 non-null   object        \n",
      " 5   MonthlyCharges    7043 non-null   float64       \n",
      " 6   TotalCharges      7043 non-null   float64       \n",
      " 7   is_male           7043 non-null   int64         \n",
      " 8   SeniorCitizen     7043 non-null   int64         \n",
      " 9   Partner           7043 non-null   int64         \n",
      " 10  Dependents        7043 non-null   int64         \n",
      " 11  is_DSL            7043 non-null   int64         \n",
      " 12  OnlineSecurity    7043 non-null   int64         \n",
      " 13  OnlineBackup      7043 non-null   int64         \n",
      " 14  DeviceProtection  7043 non-null   int64         \n",
      " 15  TechSupport       7043 non-null   int64         \n",
      " 16  StreamingTV       7043 non-null   int64         \n",
      " 17  StreamingMovies   7043 non-null   int64         \n",
      " 18  MultipleLines     7043 non-null   int64         \n",
      "dtypes: datetime64[ns](2), float64(2), int64(13), object(2)\n",
      "memory usage: 1.3+ MB\n"
     ]
    }
   ],
   "source": [
    "# изучить данные: метод info()\n",
    "df.info()"
   ]
  },
  {
   "cell_type": "code",
   "execution_count": 24,
   "id": "91bd22af",
   "metadata": {
    "scrolled": false
   },
   "outputs": [
    {
     "data": {
      "text/html": [
       "<div>\n",
       "<style scoped>\n",
       "    .dataframe tbody tr th:only-of-type {\n",
       "        vertical-align: middle;\n",
       "    }\n",
       "\n",
       "    .dataframe tbody tr th {\n",
       "        vertical-align: top;\n",
       "    }\n",
       "\n",
       "    .dataframe thead th {\n",
       "        text-align: right;\n",
       "    }\n",
       "</style>\n",
       "<table border=\"1\" class=\"dataframe\">\n",
       "  <thead>\n",
       "    <tr style=\"text-align: right;\">\n",
       "      <th></th>\n",
       "      <th>count</th>\n",
       "      <th>mean</th>\n",
       "      <th>min</th>\n",
       "      <th>25%</th>\n",
       "      <th>50%</th>\n",
       "      <th>75%</th>\n",
       "      <th>max</th>\n",
       "      <th>std</th>\n",
       "    </tr>\n",
       "  </thead>\n",
       "  <tbody>\n",
       "    <tr>\n",
       "      <th>BeginDate</th>\n",
       "      <td>7043</td>\n",
       "      <td>2017-04-30 13:01:50.918642688</td>\n",
       "      <td>2013-10-01 00:00:00</td>\n",
       "      <td>2015-06-01 00:00:00</td>\n",
       "      <td>2017-09-01 00:00:00</td>\n",
       "      <td>2019-04-01 00:00:00</td>\n",
       "      <td>2020-02-01 00:00:00</td>\n",
       "      <td>NaN</td>\n",
       "    </tr>\n",
       "    <tr>\n",
       "      <th>EndDate</th>\n",
       "      <td>7043</td>\n",
       "      <td>2019-10-16 02:22:05.912253440</td>\n",
       "      <td>2014-06-01 00:00:00</td>\n",
       "      <td>2020-02-01 00:00:00</td>\n",
       "      <td>2020-02-01 00:00:00</td>\n",
       "      <td>2020-02-01 00:00:00</td>\n",
       "      <td>2020-02-01 00:00:00</td>\n",
       "      <td>NaN</td>\n",
       "    </tr>\n",
       "    <tr>\n",
       "      <th>PaperlessBilling</th>\n",
       "      <td>7043.0</td>\n",
       "      <td>0.592219</td>\n",
       "      <td>0.0</td>\n",
       "      <td>0.0</td>\n",
       "      <td>1.0</td>\n",
       "      <td>1.0</td>\n",
       "      <td>1.0</td>\n",
       "      <td>0.491457</td>\n",
       "    </tr>\n",
       "    <tr>\n",
       "      <th>MonthlyCharges</th>\n",
       "      <td>7043.0</td>\n",
       "      <td>64.761692</td>\n",
       "      <td>18.25</td>\n",
       "      <td>35.5</td>\n",
       "      <td>70.35</td>\n",
       "      <td>89.85</td>\n",
       "      <td>118.75</td>\n",
       "      <td>30.090047</td>\n",
       "    </tr>\n",
       "    <tr>\n",
       "      <th>TotalCharges</th>\n",
       "      <td>7043.0</td>\n",
       "      <td>2115.312885</td>\n",
       "      <td>0.0</td>\n",
       "      <td>436.75</td>\n",
       "      <td>1343.35</td>\n",
       "      <td>3236.69</td>\n",
       "      <td>9221.38</td>\n",
       "      <td>2112.742814</td>\n",
       "    </tr>\n",
       "    <tr>\n",
       "      <th>is_male</th>\n",
       "      <td>7043.0</td>\n",
       "      <td>0.504756</td>\n",
       "      <td>0.0</td>\n",
       "      <td>0.0</td>\n",
       "      <td>1.0</td>\n",
       "      <td>1.0</td>\n",
       "      <td>1.0</td>\n",
       "      <td>0.500013</td>\n",
       "    </tr>\n",
       "    <tr>\n",
       "      <th>SeniorCitizen</th>\n",
       "      <td>7043.0</td>\n",
       "      <td>0.162147</td>\n",
       "      <td>0.0</td>\n",
       "      <td>0.0</td>\n",
       "      <td>0.0</td>\n",
       "      <td>0.0</td>\n",
       "      <td>1.0</td>\n",
       "      <td>0.368612</td>\n",
       "    </tr>\n",
       "    <tr>\n",
       "      <th>Partner</th>\n",
       "      <td>7043.0</td>\n",
       "      <td>0.483033</td>\n",
       "      <td>0.0</td>\n",
       "      <td>0.0</td>\n",
       "      <td>0.0</td>\n",
       "      <td>1.0</td>\n",
       "      <td>1.0</td>\n",
       "      <td>0.499748</td>\n",
       "    </tr>\n",
       "    <tr>\n",
       "      <th>Dependents</th>\n",
       "      <td>7043.0</td>\n",
       "      <td>0.299588</td>\n",
       "      <td>0.0</td>\n",
       "      <td>0.0</td>\n",
       "      <td>0.0</td>\n",
       "      <td>1.0</td>\n",
       "      <td>1.0</td>\n",
       "      <td>0.45811</td>\n",
       "    </tr>\n",
       "    <tr>\n",
       "      <th>is_DSL</th>\n",
       "      <td>7043.0</td>\n",
       "      <td>0.343746</td>\n",
       "      <td>0.0</td>\n",
       "      <td>0.0</td>\n",
       "      <td>0.0</td>\n",
       "      <td>1.0</td>\n",
       "      <td>1.0</td>\n",
       "      <td>0.474991</td>\n",
       "    </tr>\n",
       "    <tr>\n",
       "      <th>OnlineSecurity</th>\n",
       "      <td>7043.0</td>\n",
       "      <td>0.286668</td>\n",
       "      <td>0.0</td>\n",
       "      <td>0.0</td>\n",
       "      <td>0.0</td>\n",
       "      <td>1.0</td>\n",
       "      <td>1.0</td>\n",
       "      <td>0.452237</td>\n",
       "    </tr>\n",
       "    <tr>\n",
       "      <th>OnlineBackup</th>\n",
       "      <td>7043.0</td>\n",
       "      <td>0.344881</td>\n",
       "      <td>0.0</td>\n",
       "      <td>0.0</td>\n",
       "      <td>0.0</td>\n",
       "      <td>1.0</td>\n",
       "      <td>1.0</td>\n",
       "      <td>0.475363</td>\n",
       "    </tr>\n",
       "    <tr>\n",
       "      <th>DeviceProtection</th>\n",
       "      <td>7043.0</td>\n",
       "      <td>0.343888</td>\n",
       "      <td>0.0</td>\n",
       "      <td>0.0</td>\n",
       "      <td>0.0</td>\n",
       "      <td>1.0</td>\n",
       "      <td>1.0</td>\n",
       "      <td>0.475038</td>\n",
       "    </tr>\n",
       "    <tr>\n",
       "      <th>TechSupport</th>\n",
       "      <td>7043.0</td>\n",
       "      <td>0.290217</td>\n",
       "      <td>0.0</td>\n",
       "      <td>0.0</td>\n",
       "      <td>0.0</td>\n",
       "      <td>1.0</td>\n",
       "      <td>1.0</td>\n",
       "      <td>0.453895</td>\n",
       "    </tr>\n",
       "    <tr>\n",
       "      <th>StreamingTV</th>\n",
       "      <td>7043.0</td>\n",
       "      <td>0.384353</td>\n",
       "      <td>0.0</td>\n",
       "      <td>0.0</td>\n",
       "      <td>0.0</td>\n",
       "      <td>1.0</td>\n",
       "      <td>1.0</td>\n",
       "      <td>0.486477</td>\n",
       "    </tr>\n",
       "    <tr>\n",
       "      <th>StreamingMovies</th>\n",
       "      <td>7043.0</td>\n",
       "      <td>0.387903</td>\n",
       "      <td>0.0</td>\n",
       "      <td>0.0</td>\n",
       "      <td>0.0</td>\n",
       "      <td>1.0</td>\n",
       "      <td>1.0</td>\n",
       "      <td>0.487307</td>\n",
       "    </tr>\n",
       "    <tr>\n",
       "      <th>MultipleLines</th>\n",
       "      <td>7043.0</td>\n",
       "      <td>0.421837</td>\n",
       "      <td>0.0</td>\n",
       "      <td>0.0</td>\n",
       "      <td>0.0</td>\n",
       "      <td>1.0</td>\n",
       "      <td>1.0</td>\n",
       "      <td>0.493888</td>\n",
       "    </tr>\n",
       "  </tbody>\n",
       "</table>\n",
       "</div>"
      ],
      "text/plain": [
       "                   count                           mean                  min  \\\n",
       "BeginDate           7043  2017-04-30 13:01:50.918642688  2013-10-01 00:00:00   \n",
       "EndDate             7043  2019-10-16 02:22:05.912253440  2014-06-01 00:00:00   \n",
       "PaperlessBilling  7043.0                       0.592219                  0.0   \n",
       "MonthlyCharges    7043.0                      64.761692                18.25   \n",
       "TotalCharges      7043.0                    2115.312885                  0.0   \n",
       "is_male           7043.0                       0.504756                  0.0   \n",
       "SeniorCitizen     7043.0                       0.162147                  0.0   \n",
       "Partner           7043.0                       0.483033                  0.0   \n",
       "Dependents        7043.0                       0.299588                  0.0   \n",
       "is_DSL            7043.0                       0.343746                  0.0   \n",
       "OnlineSecurity    7043.0                       0.286668                  0.0   \n",
       "OnlineBackup      7043.0                       0.344881                  0.0   \n",
       "DeviceProtection  7043.0                       0.343888                  0.0   \n",
       "TechSupport       7043.0                       0.290217                  0.0   \n",
       "StreamingTV       7043.0                       0.384353                  0.0   \n",
       "StreamingMovies   7043.0                       0.387903                  0.0   \n",
       "MultipleLines     7043.0                       0.421837                  0.0   \n",
       "\n",
       "                                  25%                  50%  \\\n",
       "BeginDate         2015-06-01 00:00:00  2017-09-01 00:00:00   \n",
       "EndDate           2020-02-01 00:00:00  2020-02-01 00:00:00   \n",
       "PaperlessBilling                  0.0                  1.0   \n",
       "MonthlyCharges                   35.5                70.35   \n",
       "TotalCharges                   436.75              1343.35   \n",
       "is_male                           0.0                  1.0   \n",
       "SeniorCitizen                     0.0                  0.0   \n",
       "Partner                           0.0                  0.0   \n",
       "Dependents                        0.0                  0.0   \n",
       "is_DSL                            0.0                  0.0   \n",
       "OnlineSecurity                    0.0                  0.0   \n",
       "OnlineBackup                      0.0                  0.0   \n",
       "DeviceProtection                  0.0                  0.0   \n",
       "TechSupport                       0.0                  0.0   \n",
       "StreamingTV                       0.0                  0.0   \n",
       "StreamingMovies                   0.0                  0.0   \n",
       "MultipleLines                     0.0                  0.0   \n",
       "\n",
       "                                  75%                  max          std  \n",
       "BeginDate         2019-04-01 00:00:00  2020-02-01 00:00:00          NaN  \n",
       "EndDate           2020-02-01 00:00:00  2020-02-01 00:00:00          NaN  \n",
       "PaperlessBilling                  1.0                  1.0     0.491457  \n",
       "MonthlyCharges                  89.85               118.75    30.090047  \n",
       "TotalCharges                  3236.69              9221.38  2112.742814  \n",
       "is_male                           1.0                  1.0     0.500013  \n",
       "SeniorCitizen                     0.0                  1.0     0.368612  \n",
       "Partner                           1.0                  1.0     0.499748  \n",
       "Dependents                        1.0                  1.0      0.45811  \n",
       "is_DSL                            1.0                  1.0     0.474991  \n",
       "OnlineSecurity                    1.0                  1.0     0.452237  \n",
       "OnlineBackup                      1.0                  1.0     0.475363  \n",
       "DeviceProtection                  1.0                  1.0     0.475038  \n",
       "TechSupport                       1.0                  1.0     0.453895  \n",
       "StreamingTV                       1.0                  1.0     0.486477  \n",
       "StreamingMovies                   1.0                  1.0     0.487307  \n",
       "MultipleLines                     1.0                  1.0     0.493888  "
      ]
     },
     "execution_count": 24,
     "metadata": {},
     "output_type": "execute_result"
    }
   ],
   "source": [
    "# изучить данные: метод describe()\n",
    "df.describe().T"
   ]
  },
  {
   "cell_type": "code",
   "execution_count": 25,
   "id": "da310d6b",
   "metadata": {},
   "outputs": [],
   "source": [
    "# создадим новый столбец с длительностью пользования услугами\n",
    "df['duration'] = (df['EndDate'] - df['BeginDate']).dt.days"
   ]
  },
  {
   "cell_type": "markdown",
   "id": "360498b3",
   "metadata": {},
   "source": [
    "**ВЫВОДЫ**\n",
    "\n",
    "1. Изменены типы данных.  \n",
    "    - <code>BeginDate</code> – *datetime*,\n",
    "    - <code>EndDate</code> – \"No\" заменено на дату выгрузки (1 февраля 2020), тип данных - *datetime*,\n",
    "    - <code>TotalCharges</code> - *float*.  \n",
    "2. \"Yes\" и \"No\" изменили на 1 и 0 соответственно во всей таблице.\n",
    "3. В столбцах <code>InternetService</code>, <code>OnlineSecurity</code>, <code>OnlineBackup</code>, <code>DeviceProtection</code>, <code>TechSupport</code>, <code>StreamingTV</code>, <code>StreamingMovies</code>, <code>MultipleLines</code> заполнили пропуски нулевыми значениями.\n",
    "4. Поля <code>gender</code> и <code>InternetService</code> - поля с двумя уникальными значениями, поэтому название полей изменили на <code>is_male</code> и <code>is_DSL</code>, а значения в полях изменили на 0 и 1."
   ]
  },
  {
   "cell_type": "markdown",
   "id": "e57bd50d",
   "metadata": {},
   "source": [
    "## Исследовательский анализ данных"
   ]
  },
  {
   "cell_type": "markdown",
   "id": "7a0d5f17",
   "metadata": {},
   "source": [
    "На основании предоставленных данных, можно сделать следующие выводы:\n",
    "\n",
    "1. 59% клиентов предпочитают безналичный расчет (<code>PaperlessBilling</code>).\n",
    "2. Каждый третий клиент имеет иждивенцев (<code>Dependents</code>), что составляет около 30%.\n",
    "3. 16% клиентов имеют пенсионный статус по возрасту (<code>Senior Citizen</code>).\n",
    "4. Почти половина клиентов имеют супруга(у) (<code>Partner</code>), что составляет около 48%.\n",
    "5. 34% клиентов используют возможность ведения параллельных линий во время звонка (<code>MultipleLines</code>).\n",
    "6. Ежемесячные траты на услуги (<code>MonthlyCharges</code>) варьируются от 18.25 до 118.75, средние траты составляют около 65% от максимального значения. *Возможно, это зависит от количества услуг*\n",
    "7. Общая сумма потраченных денег на услуги (<code>TotalCharges</code>) имеет большой разброс, среднее значение составляет около 2115.31, что составляет около 23% от максимального значения."
   ]
  },
  {
   "cell_type": "markdown",
   "id": "ebc371ae",
   "metadata": {},
   "source": [
    "Интересно изучить пункты 6 и 7 из выводов, сделанных выше."
   ]
  },
  {
   "cell_type": "markdown",
   "id": "e60b1267",
   "metadata": {},
   "source": [
    "**Построим гистограмму распредления месячных затрат**"
   ]
  },
  {
   "cell_type": "code",
   "execution_count": 26,
   "id": "d36299a1",
   "metadata": {},
   "outputs": [
    {
     "data": {
      "image/png": "[encoded data removed]",
      "text/plain": [
       "<Figure size 1296x360 with 1 Axes>"
      ]
     },
     "metadata": {
      "needs_background": "light"
     },
     "output_type": "display_data"
    }
   ],
   "source": [
    "# построить гистограмму распределения месячных затрат\n",
    "df['MonthlyCharges'].hist(figsize=(18, 5), bins=20)\n",
    "plt.title('Распределение месячных трат', fontdict = {'fontsize' : 16})\n",
    "plt.xlabel('Месячные траты')\n",
    "plt.ylabel('Количество клиентов');"
   ]
  },
  {
   "cell_type": "markdown",
   "id": "72e8ee06",
   "metadata": {},
   "source": [
    "Визуально клиентов можно разделить на 3 группы по месячным тратам (до 40, от 40 до 70, больше 70), есть гипотеза, что у первой группы (до 40) использование услуг минимальное, а у третьей группы (от 70) использование услуг больше."
   ]
  },
  {
   "cell_type": "code",
   "execution_count": 27,
   "id": "5f80d9aa",
   "metadata": {},
   "outputs": [
    {
     "data": {
      "text/html": [
       "<div>\n",
       "<style scoped>\n",
       "    .dataframe tbody tr th:only-of-type {\n",
       "        vertical-align: middle;\n",
       "    }\n",
       "\n",
       "    .dataframe tbody tr th {\n",
       "        vertical-align: top;\n",
       "    }\n",
       "\n",
       "    .dataframe thead th {\n",
       "        text-align: right;\n",
       "    }\n",
       "</style>\n",
       "<table border=\"1\" class=\"dataframe\">\n",
       "  <thead>\n",
       "    <tr style=\"text-align: right;\">\n",
       "      <th></th>\n",
       "      <th>count</th>\n",
       "      <th>mean</th>\n",
       "      <th>min</th>\n",
       "      <th>25%</th>\n",
       "      <th>50%</th>\n",
       "      <th>75%</th>\n",
       "      <th>max</th>\n",
       "      <th>std</th>\n",
       "    </tr>\n",
       "  </thead>\n",
       "  <tbody>\n",
       "    <tr>\n",
       "      <th>BeginDate</th>\n",
       "      <td>1838</td>\n",
       "      <td>2017-09-01 19:03:51.120783360</td>\n",
       "      <td>2014-02-01 00:00:00</td>\n",
       "      <td>2015-12-01 00:00:00</td>\n",
       "      <td>2018-03-01 00:00:00</td>\n",
       "      <td>2019-07-01 00:00:00</td>\n",
       "      <td>2020-02-01 00:00:00</td>\n",
       "      <td>NaN</td>\n",
       "    </tr>\n",
       "    <tr>\n",
       "      <th>EndDate</th>\n",
       "      <td>1838</td>\n",
       "      <td>2019-11-22 01:44:12.013057536</td>\n",
       "      <td>2014-06-01 00:00:00</td>\n",
       "      <td>2020-02-01 00:00:00</td>\n",
       "      <td>2020-02-01 00:00:00</td>\n",
       "      <td>2020-02-01 00:00:00</td>\n",
       "      <td>2020-02-01 00:00:00</td>\n",
       "      <td>NaN</td>\n",
       "    </tr>\n",
       "    <tr>\n",
       "      <th>PaperlessBilling</th>\n",
       "      <td>1838.0</td>\n",
       "      <td>0.33025</td>\n",
       "      <td>0.0</td>\n",
       "      <td>0.0</td>\n",
       "      <td>0.0</td>\n",
       "      <td>1.0</td>\n",
       "      <td>1.0</td>\n",
       "      <td>0.470431</td>\n",
       "    </tr>\n",
       "    <tr>\n",
       "      <th>MonthlyCharges</th>\n",
       "      <td>1838.0</td>\n",
       "      <td>22.875326</td>\n",
       "      <td>18.25</td>\n",
       "      <td>19.8</td>\n",
       "      <td>20.35</td>\n",
       "      <td>24.95</td>\n",
       "      <td>40.0</td>\n",
       "      <td>4.886436</td>\n",
       "    </tr>\n",
       "    <tr>\n",
       "      <th>TotalCharges</th>\n",
       "      <td>1838.0</td>\n",
       "      <td>631.182388</td>\n",
       "      <td>0.0</td>\n",
       "      <td>153.6025</td>\n",
       "      <td>478.355</td>\n",
       "      <td>1007.5</td>\n",
       "      <td>2967.69</td>\n",
       "      <td>552.60343</td>\n",
       "    </tr>\n",
       "    <tr>\n",
       "      <th>is_male</th>\n",
       "      <td>1838.0</td>\n",
       "      <td>0.512514</td>\n",
       "      <td>0.0</td>\n",
       "      <td>0.0</td>\n",
       "      <td>1.0</td>\n",
       "      <td>1.0</td>\n",
       "      <td>1.0</td>\n",
       "      <td>0.499979</td>\n",
       "    </tr>\n",
       "    <tr>\n",
       "      <th>SeniorCitizen</th>\n",
       "      <td>1838.0</td>\n",
       "      <td>0.054951</td>\n",
       "      <td>0.0</td>\n",
       "      <td>0.0</td>\n",
       "      <td>0.0</td>\n",
       "      <td>0.0</td>\n",
       "      <td>1.0</td>\n",
       "      <td>0.227947</td>\n",
       "    </tr>\n",
       "    <tr>\n",
       "      <th>Partner</th>\n",
       "      <td>1838.0</td>\n",
       "      <td>0.46518</td>\n",
       "      <td>0.0</td>\n",
       "      <td>0.0</td>\n",
       "      <td>0.0</td>\n",
       "      <td>1.0</td>\n",
       "      <td>1.0</td>\n",
       "      <td>0.498922</td>\n",
       "    </tr>\n",
       "    <tr>\n",
       "      <th>Dependents</th>\n",
       "      <td>1838.0</td>\n",
       "      <td>0.394995</td>\n",
       "      <td>0.0</td>\n",
       "      <td>0.0</td>\n",
       "      <td>0.0</td>\n",
       "      <td>1.0</td>\n",
       "      <td>1.0</td>\n",
       "      <td>0.488983</td>\n",
       "    </tr>\n",
       "    <tr>\n",
       "      <th>is_DSL</th>\n",
       "      <td>1838.0</td>\n",
       "      <td>0.16975</td>\n",
       "      <td>0.0</td>\n",
       "      <td>0.0</td>\n",
       "      <td>0.0</td>\n",
       "      <td>0.0</td>\n",
       "      <td>1.0</td>\n",
       "      <td>0.375515</td>\n",
       "    </tr>\n",
       "    <tr>\n",
       "      <th>OnlineSecurity</th>\n",
       "      <td>1838.0</td>\n",
       "      <td>0.04679</td>\n",
       "      <td>0.0</td>\n",
       "      <td>0.0</td>\n",
       "      <td>0.0</td>\n",
       "      <td>0.0</td>\n",
       "      <td>1.0</td>\n",
       "      <td>0.211246</td>\n",
       "    </tr>\n",
       "    <tr>\n",
       "      <th>OnlineBackup</th>\n",
       "      <td>1838.0</td>\n",
       "      <td>0.046246</td>\n",
       "      <td>0.0</td>\n",
       "      <td>0.0</td>\n",
       "      <td>0.0</td>\n",
       "      <td>0.0</td>\n",
       "      <td>1.0</td>\n",
       "      <td>0.210074</td>\n",
       "    </tr>\n",
       "    <tr>\n",
       "      <th>DeviceProtection</th>\n",
       "      <td>1838.0</td>\n",
       "      <td>0.033732</td>\n",
       "      <td>0.0</td>\n",
       "      <td>0.0</td>\n",
       "      <td>0.0</td>\n",
       "      <td>0.0</td>\n",
       "      <td>1.0</td>\n",
       "      <td>0.180588</td>\n",
       "    </tr>\n",
       "    <tr>\n",
       "      <th>TechSupport</th>\n",
       "      <td>1838.0</td>\n",
       "      <td>0.045158</td>\n",
       "      <td>0.0</td>\n",
       "      <td>0.0</td>\n",
       "      <td>0.0</td>\n",
       "      <td>0.0</td>\n",
       "      <td>1.0</td>\n",
       "      <td>0.207707</td>\n",
       "    </tr>\n",
       "    <tr>\n",
       "      <th>StreamingTV</th>\n",
       "      <td>1838.0</td>\n",
       "      <td>0.014146</td>\n",
       "      <td>0.0</td>\n",
       "      <td>0.0</td>\n",
       "      <td>0.0</td>\n",
       "      <td>0.0</td>\n",
       "      <td>1.0</td>\n",
       "      <td>0.118124</td>\n",
       "    </tr>\n",
       "    <tr>\n",
       "      <th>StreamingMovies</th>\n",
       "      <td>1838.0</td>\n",
       "      <td>0.015234</td>\n",
       "      <td>0.0</td>\n",
       "      <td>0.0</td>\n",
       "      <td>0.0</td>\n",
       "      <td>0.0</td>\n",
       "      <td>1.0</td>\n",
       "      <td>0.122515</td>\n",
       "    </tr>\n",
       "    <tr>\n",
       "      <th>MultipleLines</th>\n",
       "      <td>1838.0</td>\n",
       "      <td>0.186072</td>\n",
       "      <td>0.0</td>\n",
       "      <td>0.0</td>\n",
       "      <td>0.0</td>\n",
       "      <td>0.0</td>\n",
       "      <td>1.0</td>\n",
       "      <td>0.389271</td>\n",
       "    </tr>\n",
       "    <tr>\n",
       "      <th>duration</th>\n",
       "      <td>1838.0</td>\n",
       "      <td>811.27802</td>\n",
       "      <td>0.0</td>\n",
       "      <td>215.0</td>\n",
       "      <td>610.0</td>\n",
       "      <td>1340.0</td>\n",
       "      <td>2191.0</td>\n",
       "      <td>674.753215</td>\n",
       "    </tr>\n",
       "  </tbody>\n",
       "</table>\n",
       "</div>"
      ],
      "text/plain": [
       "                   count                           mean                  min  \\\n",
       "BeginDate           1838  2017-09-01 19:03:51.120783360  2014-02-01 00:00:00   \n",
       "EndDate             1838  2019-11-22 01:44:12.013057536  2014-06-01 00:00:00   \n",
       "PaperlessBilling  1838.0                        0.33025                  0.0   \n",
       "MonthlyCharges    1838.0                      22.875326                18.25   \n",
       "TotalCharges      1838.0                     631.182388                  0.0   \n",
       "is_male           1838.0                       0.512514                  0.0   \n",
       "SeniorCitizen     1838.0                       0.054951                  0.0   \n",
       "Partner           1838.0                        0.46518                  0.0   \n",
       "Dependents        1838.0                       0.394995                  0.0   \n",
       "is_DSL            1838.0                        0.16975                  0.0   \n",
       "OnlineSecurity    1838.0                        0.04679                  0.0   \n",
       "OnlineBackup      1838.0                       0.046246                  0.0   \n",
       "DeviceProtection  1838.0                       0.033732                  0.0   \n",
       "TechSupport       1838.0                       0.045158                  0.0   \n",
       "StreamingTV       1838.0                       0.014146                  0.0   \n",
       "StreamingMovies   1838.0                       0.015234                  0.0   \n",
       "MultipleLines     1838.0                       0.186072                  0.0   \n",
       "duration          1838.0                      811.27802                  0.0   \n",
       "\n",
       "                                  25%                  50%  \\\n",
       "BeginDate         2015-12-01 00:00:00  2018-03-01 00:00:00   \n",
       "EndDate           2020-02-01 00:00:00  2020-02-01 00:00:00   \n",
       "PaperlessBilling                  0.0                  0.0   \n",
       "MonthlyCharges                   19.8                20.35   \n",
       "TotalCharges                 153.6025              478.355   \n",
       "is_male                           0.0                  1.0   \n",
       "SeniorCitizen                     0.0                  0.0   \n",
       "Partner                           0.0                  0.0   \n",
       "Dependents                        0.0                  0.0   \n",
       "is_DSL                            0.0                  0.0   \n",
       "OnlineSecurity                    0.0                  0.0   \n",
       "OnlineBackup                      0.0                  0.0   \n",
       "DeviceProtection                  0.0                  0.0   \n",
       "TechSupport                       0.0                  0.0   \n",
       "StreamingTV                       0.0                  0.0   \n",
       "StreamingMovies                   0.0                  0.0   \n",
       "MultipleLines                     0.0                  0.0   \n",
       "duration                        215.0                610.0   \n",
       "\n",
       "                                  75%                  max         std  \n",
       "BeginDate         2019-07-01 00:00:00  2020-02-01 00:00:00         NaN  \n",
       "EndDate           2020-02-01 00:00:00  2020-02-01 00:00:00         NaN  \n",
       "PaperlessBilling                  1.0                  1.0    0.470431  \n",
       "MonthlyCharges                  24.95                 40.0    4.886436  \n",
       "TotalCharges                   1007.5              2967.69   552.60343  \n",
       "is_male                           1.0                  1.0    0.499979  \n",
       "SeniorCitizen                     0.0                  1.0    0.227947  \n",
       "Partner                           1.0                  1.0    0.498922  \n",
       "Dependents                        1.0                  1.0    0.488983  \n",
       "is_DSL                            0.0                  1.0    0.375515  \n",
       "OnlineSecurity                    0.0                  1.0    0.211246  \n",
       "OnlineBackup                      0.0                  1.0    0.210074  \n",
       "DeviceProtection                  0.0                  1.0    0.180588  \n",
       "TechSupport                       0.0                  1.0    0.207707  \n",
       "StreamingTV                       0.0                  1.0    0.118124  \n",
       "StreamingMovies                   0.0                  1.0    0.122515  \n",
       "MultipleLines                     0.0                  1.0    0.389271  \n",
       "duration                       1340.0               2191.0  674.753215  "
      ]
     },
     "execution_count": 27,
     "metadata": {},
     "output_type": "execute_result"
    }
   ],
   "source": [
    "# изучить данные, где 'MonthlyCharges' <= 40\n",
    "df.loc[df['MonthlyCharges'] <= 40].describe().T"
   ]
  },
  {
   "cell_type": "code",
   "execution_count": 28,
   "id": "b77f7c30",
   "metadata": {
    "scrolled": false
   },
   "outputs": [
    {
     "data": {
      "text/html": [
       "<div>\n",
       "<style scoped>\n",
       "    .dataframe tbody tr th:only-of-type {\n",
       "        vertical-align: middle;\n",
       "    }\n",
       "\n",
       "    .dataframe tbody tr th {\n",
       "        vertical-align: top;\n",
       "    }\n",
       "\n",
       "    .dataframe thead th {\n",
       "        text-align: right;\n",
       "    }\n",
       "</style>\n",
       "<table border=\"1\" class=\"dataframe\">\n",
       "  <thead>\n",
       "    <tr style=\"text-align: right;\">\n",
       "      <th></th>\n",
       "      <th>count</th>\n",
       "      <th>mean</th>\n",
       "      <th>min</th>\n",
       "      <th>25%</th>\n",
       "      <th>50%</th>\n",
       "      <th>75%</th>\n",
       "      <th>max</th>\n",
       "      <th>std</th>\n",
       "    </tr>\n",
       "  </thead>\n",
       "  <tbody>\n",
       "    <tr>\n",
       "      <th>BeginDate</th>\n",
       "      <td>3591</td>\n",
       "      <td>2016-12-11 02:11:55.789473792</td>\n",
       "      <td>2013-10-01 00:00:00</td>\n",
       "      <td>2015-01-01 00:00:00</td>\n",
       "      <td>2017-01-01 00:00:00</td>\n",
       "      <td>2018-12-01 00:00:00</td>\n",
       "      <td>2020-02-01 00:00:00</td>\n",
       "      <td>NaN</td>\n",
       "    </tr>\n",
       "    <tr>\n",
       "      <th>EndDate</th>\n",
       "      <td>3591</td>\n",
       "      <td>2019-09-12 04:42:18.345864704</td>\n",
       "      <td>2014-09-01 00:00:00</td>\n",
       "      <td>2020-02-01 00:00:00</td>\n",
       "      <td>2020-02-01 00:00:00</td>\n",
       "      <td>2020-02-01 00:00:00</td>\n",
       "      <td>2020-02-01 00:00:00</td>\n",
       "      <td>NaN</td>\n",
       "    </tr>\n",
       "    <tr>\n",
       "      <th>PaperlessBilling</th>\n",
       "      <td>3591.0</td>\n",
       "      <td>0.736842</td>\n",
       "      <td>0.0</td>\n",
       "      <td>0.0</td>\n",
       "      <td>1.0</td>\n",
       "      <td>1.0</td>\n",
       "      <td>1.0</td>\n",
       "      <td>0.440409</td>\n",
       "    </tr>\n",
       "    <tr>\n",
       "      <th>MonthlyCharges</th>\n",
       "      <td>3591.0</td>\n",
       "      <td>90.187218</td>\n",
       "      <td>70.0</td>\n",
       "      <td>79.875</td>\n",
       "      <td>89.65</td>\n",
       "      <td>100.05</td>\n",
       "      <td>118.75</td>\n",
       "      <td>12.320827</td>\n",
       "    </tr>\n",
       "    <tr>\n",
       "      <th>TotalCharges</th>\n",
       "      <td>3591.0</td>\n",
       "      <td>3165.352484</td>\n",
       "      <td>0.0</td>\n",
       "      <td>1119.585</td>\n",
       "      <td>2715.41</td>\n",
       "      <td>4922.805</td>\n",
       "      <td>9221.38</td>\n",
       "      <td>2325.184221</td>\n",
       "    </tr>\n",
       "    <tr>\n",
       "      <th>is_male</th>\n",
       "      <td>3591.0</td>\n",
       "      <td>0.497911</td>\n",
       "      <td>0.0</td>\n",
       "      <td>0.0</td>\n",
       "      <td>0.0</td>\n",
       "      <td>1.0</td>\n",
       "      <td>1.0</td>\n",
       "      <td>0.500065</td>\n",
       "    </tr>\n",
       "    <tr>\n",
       "      <th>SeniorCitizen</th>\n",
       "      <td>3591.0</td>\n",
       "      <td>0.240323</td>\n",
       "      <td>0.0</td>\n",
       "      <td>0.0</td>\n",
       "      <td>0.0</td>\n",
       "      <td>0.0</td>\n",
       "      <td>1.0</td>\n",
       "      <td>0.427339</td>\n",
       "    </tr>\n",
       "    <tr>\n",
       "      <th>Partner</th>\n",
       "      <td>3591.0</td>\n",
       "      <td>0.520746</td>\n",
       "      <td>0.0</td>\n",
       "      <td>0.0</td>\n",
       "      <td>1.0</td>\n",
       "      <td>1.0</td>\n",
       "      <td>1.0</td>\n",
       "      <td>0.499639</td>\n",
       "    </tr>\n",
       "    <tr>\n",
       "      <th>Dependents</th>\n",
       "      <td>3591.0</td>\n",
       "      <td>0.250348</td>\n",
       "      <td>0.0</td>\n",
       "      <td>0.0</td>\n",
       "      <td>0.0</td>\n",
       "      <td>1.0</td>\n",
       "      <td>1.0</td>\n",
       "      <td>0.433274</td>\n",
       "    </tr>\n",
       "    <tr>\n",
       "      <th>is_DSL</th>\n",
       "      <td>3591.0</td>\n",
       "      <td>0.167084</td>\n",
       "      <td>0.0</td>\n",
       "      <td>0.0</td>\n",
       "      <td>0.0</td>\n",
       "      <td>0.0</td>\n",
       "      <td>1.0</td>\n",
       "      <td>0.373103</td>\n",
       "    </tr>\n",
       "    <tr>\n",
       "      <th>OnlineSecurity</th>\n",
       "      <td>3591.0</td>\n",
       "      <td>0.352548</td>\n",
       "      <td>0.0</td>\n",
       "      <td>0.0</td>\n",
       "      <td>0.0</td>\n",
       "      <td>1.0</td>\n",
       "      <td>1.0</td>\n",
       "      <td>0.47783</td>\n",
       "    </tr>\n",
       "    <tr>\n",
       "      <th>OnlineBackup</th>\n",
       "      <td>3591.0</td>\n",
       "      <td>0.486772</td>\n",
       "      <td>0.0</td>\n",
       "      <td>0.0</td>\n",
       "      <td>0.0</td>\n",
       "      <td>1.0</td>\n",
       "      <td>1.0</td>\n",
       "      <td>0.499895</td>\n",
       "    </tr>\n",
       "    <tr>\n",
       "      <th>DeviceProtection</th>\n",
       "      <td>3591.0</td>\n",
       "      <td>0.505987</td>\n",
       "      <td>0.0</td>\n",
       "      <td>0.0</td>\n",
       "      <td>1.0</td>\n",
       "      <td>1.0</td>\n",
       "      <td>1.0</td>\n",
       "      <td>0.500034</td>\n",
       "    </tr>\n",
       "    <tr>\n",
       "      <th>TechSupport</th>\n",
       "      <td>3591.0</td>\n",
       "      <td>0.376497</td>\n",
       "      <td>0.0</td>\n",
       "      <td>0.0</td>\n",
       "      <td>0.0</td>\n",
       "      <td>1.0</td>\n",
       "      <td>1.0</td>\n",
       "      <td>0.484574</td>\n",
       "    </tr>\n",
       "    <tr>\n",
       "      <th>StreamingTV</th>\n",
       "      <td>3591.0</td>\n",
       "      <td>0.625453</td>\n",
       "      <td>0.0</td>\n",
       "      <td>0.0</td>\n",
       "      <td>1.0</td>\n",
       "      <td>1.0</td>\n",
       "      <td>1.0</td>\n",
       "      <td>0.484073</td>\n",
       "    </tr>\n",
       "    <tr>\n",
       "      <th>StreamingMovies</th>\n",
       "      <td>3591.0</td>\n",
       "      <td>0.626845</td>\n",
       "      <td>0.0</td>\n",
       "      <td>0.0</td>\n",
       "      <td>1.0</td>\n",
       "      <td>1.0</td>\n",
       "      <td>1.0</td>\n",
       "      <td>0.48371</td>\n",
       "    </tr>\n",
       "    <tr>\n",
       "      <th>MultipleLines</th>\n",
       "      <td>3591.0</td>\n",
       "      <td>0.647173</td>\n",
       "      <td>0.0</td>\n",
       "      <td>0.0</td>\n",
       "      <td>1.0</td>\n",
       "      <td>1.0</td>\n",
       "      <td>1.0</td>\n",
       "      <td>0.477916</td>\n",
       "    </tr>\n",
       "    <tr>\n",
       "      <th>duration</th>\n",
       "      <td>3591.0</td>\n",
       "      <td>1005.104428</td>\n",
       "      <td>0.0</td>\n",
       "      <td>396.0</td>\n",
       "      <td>914.0</td>\n",
       "      <td>1584.0</td>\n",
       "      <td>2314.0</td>\n",
       "      <td>686.203752</td>\n",
       "    </tr>\n",
       "  </tbody>\n",
       "</table>\n",
       "</div>"
      ],
      "text/plain": [
       "                   count                           mean                  min  \\\n",
       "BeginDate           3591  2016-12-11 02:11:55.789473792  2013-10-01 00:00:00   \n",
       "EndDate             3591  2019-09-12 04:42:18.345864704  2014-09-01 00:00:00   \n",
       "PaperlessBilling  3591.0                       0.736842                  0.0   \n",
       "MonthlyCharges    3591.0                      90.187218                 70.0   \n",
       "TotalCharges      3591.0                    3165.352484                  0.0   \n",
       "is_male           3591.0                       0.497911                  0.0   \n",
       "SeniorCitizen     3591.0                       0.240323                  0.0   \n",
       "Partner           3591.0                       0.520746                  0.0   \n",
       "Dependents        3591.0                       0.250348                  0.0   \n",
       "is_DSL            3591.0                       0.167084                  0.0   \n",
       "OnlineSecurity    3591.0                       0.352548                  0.0   \n",
       "OnlineBackup      3591.0                       0.486772                  0.0   \n",
       "DeviceProtection  3591.0                       0.505987                  0.0   \n",
       "TechSupport       3591.0                       0.376497                  0.0   \n",
       "StreamingTV       3591.0                       0.625453                  0.0   \n",
       "StreamingMovies   3591.0                       0.626845                  0.0   \n",
       "MultipleLines     3591.0                       0.647173                  0.0   \n",
       "duration          3591.0                    1005.104428                  0.0   \n",
       "\n",
       "                                  25%                  50%  \\\n",
       "BeginDate         2015-01-01 00:00:00  2017-01-01 00:00:00   \n",
       "EndDate           2020-02-01 00:00:00  2020-02-01 00:00:00   \n",
       "PaperlessBilling                  0.0                  1.0   \n",
       "MonthlyCharges                 79.875                89.65   \n",
       "TotalCharges                 1119.585              2715.41   \n",
       "is_male                           0.0                  0.0   \n",
       "SeniorCitizen                     0.0                  0.0   \n",
       "Partner                           0.0                  1.0   \n",
       "Dependents                        0.0                  0.0   \n",
       "is_DSL                            0.0                  0.0   \n",
       "OnlineSecurity                    0.0                  0.0   \n",
       "OnlineBackup                      0.0                  0.0   \n",
       "DeviceProtection                  0.0                  1.0   \n",
       "TechSupport                       0.0                  0.0   \n",
       "StreamingTV                       0.0                  1.0   \n",
       "StreamingMovies                   0.0                  1.0   \n",
       "MultipleLines                     0.0                  1.0   \n",
       "duration                        396.0                914.0   \n",
       "\n",
       "                                  75%                  max          std  \n",
       "BeginDate         2018-12-01 00:00:00  2020-02-01 00:00:00          NaN  \n",
       "EndDate           2020-02-01 00:00:00  2020-02-01 00:00:00          NaN  \n",
       "PaperlessBilling                  1.0                  1.0     0.440409  \n",
       "MonthlyCharges                 100.05               118.75    12.320827  \n",
       "TotalCharges                 4922.805              9221.38  2325.184221  \n",
       "is_male                           1.0                  1.0     0.500065  \n",
       "SeniorCitizen                     0.0                  1.0     0.427339  \n",
       "Partner                           1.0                  1.0     0.499639  \n",
       "Dependents                        1.0                  1.0     0.433274  \n",
       "is_DSL                            0.0                  1.0     0.373103  \n",
       "OnlineSecurity                    1.0                  1.0      0.47783  \n",
       "OnlineBackup                      1.0                  1.0     0.499895  \n",
       "DeviceProtection                  1.0                  1.0     0.500034  \n",
       "TechSupport                       1.0                  1.0     0.484574  \n",
       "StreamingTV                       1.0                  1.0     0.484073  \n",
       "StreamingMovies                   1.0                  1.0      0.48371  \n",
       "MultipleLines                     1.0                  1.0     0.477916  \n",
       "duration                       1584.0               2314.0   686.203752  "
      ]
     },
     "execution_count": 28,
     "metadata": {},
     "output_type": "execute_result"
    }
   ],
   "source": [
    "# изучить данные, где 'MonthlyCharges' >= 70\n",
    "df.loc[df['MonthlyCharges'] >= 70].describe().T"
   ]
  },
  {
   "cell_type": "markdown",
   "id": "3642ac0f",
   "metadata": {},
   "source": [
    "Когорта клиентов с ежемесячными тратами на телефонную связь до 40:\n",
    "\n",
    "- В данной когорте имеется 1838 клиентов.\n",
    "- 33% клиентов в этой когорте используют безналичный расчет (<code>PaperlessBilling</code>).\n",
    "- Средние ежемесячные траты клиентов в этой когорте составляют 22.88.\n",
    "- Среднее значение общих трат клиентов в этой когорте составляет 631.18.\n",
    "- Приблизительно 5% клиентов в этой когорте имеют пенсионный статус по возрасту (<code>Senior Citizen</code>).\n",
    "- Почти половина клиентов в этой когорте имеют супруга(у) (<code>Partner</code>).\n",
    "- Приблизительно 39% клиентов в этой когорте имеют иждивенцев (<code>Dependents</code>).\n",
    "- 16% клиентов в этой когорте используют DSL-интернет (<code>isDSL</code>).\n",
    "- Онлайн-защита (<code>OnlineSecurity</code>), резервное копирование (<code>OnlineBackup</code>), защита устройств (<code>DeviceProtection</code>), техническая поддержка (<code>TechSupport</code>), стриминговое тв-вещание по (<code>StreamingTV</code>) и каталог фильмов (<code>StreamingMovies</code>) почти не используются в этой когорте.\n",
    "\n",
    "Когорта клиентов с ежемесячными тратами на телефонную связь более 70:\n",
    "\n",
    "- В данной когорте имеется 3591 клиентов.\n",
    "- 74% клиентов в этой когорте используют безналичный расчет (<code>PaperlessBilling</code>).\n",
    "- Средние ежемесячные траты клиентов в этой когорте составляют 90.19.\n",
    "- Среднее значение общих трат клиентов в этой когорте составляет 3165.35.\n",
    "- Приблизительно 24% клиентов в этой когорте имеют пенсионный статус по возрасту (<code>Senior Citizen</code>).\n",
    "- Половина клиентов в этой когорте имеют супруга(у) (<code>Partner</code>).\n",
    "- Приблизительно 25% клиентов в этой когорте имеют иждивенцев (<code>Dependents</code>).\n",
    "- 17% клиентов в этой когорте используют DSL-интернет (<code>isDSL</code>).\n",
    "- Онлайн-защита (<code>OnlineSecurity</code>), резервное копирование (<code>OnlineBackup</code>), защита устройств (<code>DeviceProtection</code>), техническая поддержка (<code>TechSupport</code>), стриминговое тв-вещание (<code>StreamingTV</code>) и каталог фильмов (<code>StreamingMovies</code>) активно используются в этой когорте.\n",
    "\n",
    "\n",
    "Исходя из этих данных, можно сделать вывод, что **клиенты с ежемесячными тратами на телефонную связь более 70 чаще используют дополнительные услуги**, такие как онлайн-защита, резервное копирование, защита устройств, техническая поддержка и стриминговое тв-вещание и каталог фильмов. Они также чаще используют безналичный расчет. В то же время, **клиенты с ежемесячными тратами до 40 предпочитают менее дорогие планы и реже используют дополнительные услуги**."
   ]
  },
  {
   "cell_type": "markdown",
   "id": "05736445",
   "metadata": {},
   "source": [
    "**Построим гистограмму распредления общей суммы затрат**"
   ]
  },
  {
   "cell_type": "code",
   "execution_count": 29,
   "id": "1452f07e",
   "metadata": {},
   "outputs": [
    {
     "data": {
      "image/png": "[encoded data removed]",
      "text/plain": [
       "<Figure size 1296x360 with 1 Axes>"
      ]
     },
     "metadata": {
      "needs_background": "light"
     },
     "output_type": "display_data"
    }
   ],
   "source": [
    "# построить гистограмму распределения общей суммы трат\n",
    "df['TotalCharges'].hist(figsize=(18, 5), bins=20)\n",
    "plt.title('Распределение общей суммы трат', fontdict = {'fontsize' : 16})\n",
    "plt.xlabel('Общая сумма трат')\n",
    "plt.ylabel('Количество клиентов');"
   ]
  },
  {
   "cell_type": "markdown",
   "id": "fe898194",
   "metadata": {},
   "source": [
    "На графике \"Распределение общей суммы трат\" мы видим нулевые значения, которые необходимо изучить, так как получается, что общая сумма трат у таких клиентов всего равна 0. *Есть предположение, что это новые пользователи, которые не успели воспользоваться услугами.*"
   ]
  },
  {
   "cell_type": "code",
   "execution_count": 30,
   "id": "f3b2813e",
   "metadata": {},
   "outputs": [
    {
     "data": {
      "text/html": [
       "<div>\n",
       "<style scoped>\n",
       "    .dataframe tbody tr th:only-of-type {\n",
       "        vertical-align: middle;\n",
       "    }\n",
       "\n",
       "    .dataframe tbody tr th {\n",
       "        vertical-align: top;\n",
       "    }\n",
       "\n",
       "    .dataframe thead th {\n",
       "        text-align: right;\n",
       "    }\n",
       "</style>\n",
       "<table border=\"1\" class=\"dataframe\">\n",
       "  <thead>\n",
       "    <tr style=\"text-align: right;\">\n",
       "      <th></th>\n",
       "      <th>BeginDate</th>\n",
       "      <th>EndDate</th>\n",
       "      <th>Type</th>\n",
       "      <th>PaperlessBilling</th>\n",
       "      <th>PaymentMethod</th>\n",
       "      <th>MonthlyCharges</th>\n",
       "      <th>TotalCharges</th>\n",
       "      <th>is_male</th>\n",
       "      <th>SeniorCitizen</th>\n",
       "      <th>Partner</th>\n",
       "      <th>Dependents</th>\n",
       "      <th>is_DSL</th>\n",
       "      <th>OnlineSecurity</th>\n",
       "      <th>OnlineBackup</th>\n",
       "      <th>DeviceProtection</th>\n",
       "      <th>TechSupport</th>\n",
       "      <th>StreamingTV</th>\n",
       "      <th>StreamingMovies</th>\n",
       "      <th>MultipleLines</th>\n",
       "      <th>duration</th>\n",
       "    </tr>\n",
       "    <tr>\n",
       "      <th>customerID</th>\n",
       "      <th></th>\n",
       "      <th></th>\n",
       "      <th></th>\n",
       "      <th></th>\n",
       "      <th></th>\n",
       "      <th></th>\n",
       "      <th></th>\n",
       "      <th></th>\n",
       "      <th></th>\n",
       "      <th></th>\n",
       "      <th></th>\n",
       "      <th></th>\n",
       "      <th></th>\n",
       "      <th></th>\n",
       "      <th></th>\n",
       "      <th></th>\n",
       "      <th></th>\n",
       "      <th></th>\n",
       "      <th></th>\n",
       "      <th></th>\n",
       "    </tr>\n",
       "  </thead>\n",
       "  <tbody>\n",
       "    <tr>\n",
       "      <th>4472-LVYGI</th>\n",
       "      <td>2020-02-01</td>\n",
       "      <td>2020-02-01</td>\n",
       "      <td>Two year</td>\n",
       "      <td>1</td>\n",
       "      <td>Bank transfer (automatic)</td>\n",
       "      <td>52.55</td>\n",
       "      <td>0.0</td>\n",
       "      <td>0</td>\n",
       "      <td>0</td>\n",
       "      <td>1</td>\n",
       "      <td>1</td>\n",
       "      <td>1</td>\n",
       "      <td>1</td>\n",
       "      <td>0</td>\n",
       "      <td>1</td>\n",
       "      <td>1</td>\n",
       "      <td>1</td>\n",
       "      <td>0</td>\n",
       "      <td>0</td>\n",
       "      <td>0</td>\n",
       "    </tr>\n",
       "    <tr>\n",
       "      <th>3115-CZMZD</th>\n",
       "      <td>2020-02-01</td>\n",
       "      <td>2020-02-01</td>\n",
       "      <td>Two year</td>\n",
       "      <td>0</td>\n",
       "      <td>Mailed check</td>\n",
       "      <td>20.25</td>\n",
       "      <td>0.0</td>\n",
       "      <td>1</td>\n",
       "      <td>0</td>\n",
       "      <td>0</td>\n",
       "      <td>1</td>\n",
       "      <td>0</td>\n",
       "      <td>0</td>\n",
       "      <td>0</td>\n",
       "      <td>0</td>\n",
       "      <td>0</td>\n",
       "      <td>0</td>\n",
       "      <td>0</td>\n",
       "      <td>0</td>\n",
       "      <td>0</td>\n",
       "    </tr>\n",
       "    <tr>\n",
       "      <th>5709-LVOEQ</th>\n",
       "      <td>2020-02-01</td>\n",
       "      <td>2020-02-01</td>\n",
       "      <td>Two year</td>\n",
       "      <td>0</td>\n",
       "      <td>Mailed check</td>\n",
       "      <td>80.85</td>\n",
       "      <td>0.0</td>\n",
       "      <td>0</td>\n",
       "      <td>0</td>\n",
       "      <td>1</td>\n",
       "      <td>1</td>\n",
       "      <td>1</td>\n",
       "      <td>1</td>\n",
       "      <td>1</td>\n",
       "      <td>1</td>\n",
       "      <td>0</td>\n",
       "      <td>1</td>\n",
       "      <td>1</td>\n",
       "      <td>0</td>\n",
       "      <td>0</td>\n",
       "    </tr>\n",
       "    <tr>\n",
       "      <th>4367-NUYAO</th>\n",
       "      <td>2020-02-01</td>\n",
       "      <td>2020-02-01</td>\n",
       "      <td>Two year</td>\n",
       "      <td>0</td>\n",
       "      <td>Mailed check</td>\n",
       "      <td>25.75</td>\n",
       "      <td>0.0</td>\n",
       "      <td>1</td>\n",
       "      <td>0</td>\n",
       "      <td>1</td>\n",
       "      <td>1</td>\n",
       "      <td>0</td>\n",
       "      <td>0</td>\n",
       "      <td>0</td>\n",
       "      <td>0</td>\n",
       "      <td>0</td>\n",
       "      <td>0</td>\n",
       "      <td>0</td>\n",
       "      <td>1</td>\n",
       "      <td>0</td>\n",
       "    </tr>\n",
       "    <tr>\n",
       "      <th>1371-DWPAZ</th>\n",
       "      <td>2020-02-01</td>\n",
       "      <td>2020-02-01</td>\n",
       "      <td>Two year</td>\n",
       "      <td>0</td>\n",
       "      <td>Credit card (automatic)</td>\n",
       "      <td>56.05</td>\n",
       "      <td>0.0</td>\n",
       "      <td>0</td>\n",
       "      <td>0</td>\n",
       "      <td>1</td>\n",
       "      <td>1</td>\n",
       "      <td>1</td>\n",
       "      <td>1</td>\n",
       "      <td>1</td>\n",
       "      <td>1</td>\n",
       "      <td>1</td>\n",
       "      <td>1</td>\n",
       "      <td>0</td>\n",
       "      <td>0</td>\n",
       "      <td>0</td>\n",
       "    </tr>\n",
       "  </tbody>\n",
       "</table>\n",
       "</div>"
      ],
      "text/plain": [
       "            BeginDate    EndDate      Type  PaperlessBilling  \\\n",
       "customerID                                                     \n",
       "4472-LVYGI 2020-02-01 2020-02-01  Two year                 1   \n",
       "3115-CZMZD 2020-02-01 2020-02-01  Two year                 0   \n",
       "5709-LVOEQ 2020-02-01 2020-02-01  Two year                 0   \n",
       "4367-NUYAO 2020-02-01 2020-02-01  Two year                 0   \n",
       "1371-DWPAZ 2020-02-01 2020-02-01  Two year                 0   \n",
       "\n",
       "                        PaymentMethod  MonthlyCharges  TotalCharges  is_male  \\\n",
       "customerID                                                                     \n",
       "4472-LVYGI  Bank transfer (automatic)           52.55           0.0        0   \n",
       "3115-CZMZD               Mailed check           20.25           0.0        1   \n",
       "5709-LVOEQ               Mailed check           80.85           0.0        0   \n",
       "4367-NUYAO               Mailed check           25.75           0.0        1   \n",
       "1371-DWPAZ    Credit card (automatic)           56.05           0.0        0   \n",
       "\n",
       "            SeniorCitizen  Partner  Dependents  is_DSL  OnlineSecurity  \\\n",
       "customerID                                                               \n",
       "4472-LVYGI              0        1           1       1               1   \n",
       "3115-CZMZD              0        0           1       0               0   \n",
       "5709-LVOEQ              0        1           1       1               1   \n",
       "4367-NUYAO              0        1           1       0               0   \n",
       "1371-DWPAZ              0        1           1       1               1   \n",
       "\n",
       "            OnlineBackup  DeviceProtection  TechSupport  StreamingTV  \\\n",
       "customerID                                                             \n",
       "4472-LVYGI             0                 1            1            1   \n",
       "3115-CZMZD             0                 0            0            0   \n",
       "5709-LVOEQ             1                 1            0            1   \n",
       "4367-NUYAO             0                 0            0            0   \n",
       "1371-DWPAZ             1                 1            1            1   \n",
       "\n",
       "            StreamingMovies  MultipleLines  duration  \n",
       "customerID                                            \n",
       "4472-LVYGI                0              0         0  \n",
       "3115-CZMZD                0              0         0  \n",
       "5709-LVOEQ                1              0         0  \n",
       "4367-NUYAO                0              1         0  \n",
       "1371-DWPAZ                0              0         0  "
      ]
     },
     "execution_count": 30,
     "metadata": {},
     "output_type": "execute_result"
    }
   ],
   "source": [
    "# вывести строки, где TotalCharges = 0\n",
    "df[df['TotalCharges'] == 0].head()"
   ]
  },
  {
   "cell_type": "markdown",
   "id": "c78bed22",
   "metadata": {},
   "source": [
    "Выведем уникальные значения из выбранного столбца <code>BeginDate</code>, удовлетворяющие условию фильтрации <code>TotalCharges</code> = 0."
   ]
  },
  {
   "cell_type": "code",
   "execution_count": 31,
   "id": "0edebfeb",
   "metadata": {},
   "outputs": [
    {
     "data": {
      "text/plain": [
       "<DatetimeArray>\n",
       "['2020-02-01 00:00:00']\n",
       "Length: 1, dtype: datetime64[ns]"
      ]
     },
     "execution_count": 31,
     "metadata": {},
     "output_type": "execute_result"
    }
   ],
   "source": [
    "# уникальные значения BeginDate, где TotalCharges = 0\n",
    "df.loc[df['TotalCharges'] == 0, 'BeginDate'].unique()"
   ]
  },
  {
   "cell_type": "markdown",
   "id": "2888c1ab",
   "metadata": {},
   "source": [
    "Получается, что клиенты, которые только стали пользователями компании, ещё не потратили деньги на услуги."
   ]
  },
  {
   "cell_type": "markdown",
   "id": "8edb36cc",
   "metadata": {},
   "source": [
    "**Построим гистограмму для анализа даты начала пользования услугами**"
   ]
  },
  {
   "cell_type": "code",
   "execution_count": 32,
   "id": "7287d76d",
   "metadata": {},
   "outputs": [
    {
     "data": {
      "image/png": "[encoded data removed]",
      "text/plain": [
       "<Figure size 1296x360 with 1 Axes>"
      ]
     },
     "metadata": {
      "needs_background": "light"
     },
     "output_type": "display_data"
    }
   ],
   "source": [
    "# построить гистограмму для анализа даты начала пользования услугами\n",
    "df['BeginDate'].hist(figsize=(18, 5), bins=10)\n",
    "plt.title('Распределение клиентов по дате начала пользования услугами', fontdict = {'fontsize' : 16})\n",
    "plt.xlabel('Год начала пользования услугами')\n",
    "plt.ylabel('Количество клиентов');"
   ]
  },
  {
   "cell_type": "markdown",
   "id": "78c43b1a",
   "metadata": {},
   "source": [
    "Можно заметить, что с 2019 года по начало 2020 года (выгрузка на 1 февраля) наблюдался рост числа новых клиентов. Возможно, это связано с появлением новых дополнитеьных услуг, которых нет у конкурентов (или стоимость у конкурентов выше), возможно, проведение успешной маркетинговой кампании."
   ]
  },
  {
   "cell_type": "code",
   "execution_count": 33,
   "id": "c07e44b7",
   "metadata": {},
   "outputs": [
    {
     "data": {
      "text/html": [
       "<div>\n",
       "<style scoped>\n",
       "    .dataframe tbody tr th:only-of-type {\n",
       "        vertical-align: middle;\n",
       "    }\n",
       "\n",
       "    .dataframe tbody tr th {\n",
       "        vertical-align: top;\n",
       "    }\n",
       "\n",
       "    .dataframe thead th {\n",
       "        text-align: right;\n",
       "    }\n",
       "</style>\n",
       "<table border=\"1\" class=\"dataframe\">\n",
       "  <thead>\n",
       "    <tr style=\"text-align: right;\">\n",
       "      <th></th>\n",
       "      <th>count</th>\n",
       "      <th>mean</th>\n",
       "      <th>min</th>\n",
       "      <th>25%</th>\n",
       "      <th>50%</th>\n",
       "      <th>75%</th>\n",
       "      <th>max</th>\n",
       "      <th>std</th>\n",
       "    </tr>\n",
       "  </thead>\n",
       "  <tbody>\n",
       "    <tr>\n",
       "      <th>BeginDate</th>\n",
       "      <td>1875</td>\n",
       "      <td>2018-01-08 16:41:28.320000</td>\n",
       "      <td>2017-01-01 00:00:00</td>\n",
       "      <td>2017-07-01 00:00:00</td>\n",
       "      <td>2018-02-01 00:00:00</td>\n",
       "      <td>2018-07-01 00:00:00</td>\n",
       "      <td>2018-12-01 00:00:00</td>\n",
       "      <td>NaN</td>\n",
       "    </tr>\n",
       "    <tr>\n",
       "      <th>EndDate</th>\n",
       "      <td>1875</td>\n",
       "      <td>2020-01-01 01:45:12.959999744</td>\n",
       "      <td>2017-03-01 00:00:00</td>\n",
       "      <td>2020-02-01 00:00:00</td>\n",
       "      <td>2020-02-01 00:00:00</td>\n",
       "      <td>2020-02-01 00:00:00</td>\n",
       "      <td>2020-02-01 00:00:00</td>\n",
       "      <td>NaN</td>\n",
       "    </tr>\n",
       "    <tr>\n",
       "      <th>PaperlessBilling</th>\n",
       "      <td>1875.0</td>\n",
       "      <td>0.592</td>\n",
       "      <td>0.0</td>\n",
       "      <td>0.0</td>\n",
       "      <td>1.0</td>\n",
       "      <td>1.0</td>\n",
       "      <td>1.0</td>\n",
       "      <td>0.491594</td>\n",
       "    </tr>\n",
       "    <tr>\n",
       "      <th>MonthlyCharges</th>\n",
       "      <td>1875.0</td>\n",
       "      <td>64.001493</td>\n",
       "      <td>18.25</td>\n",
       "      <td>36.375</td>\n",
       "      <td>70.5</td>\n",
       "      <td>89.15</td>\n",
       "      <td>116.25</td>\n",
       "      <td>28.808298</td>\n",
       "    </tr>\n",
       "    <tr>\n",
       "      <th>TotalCharges</th>\n",
       "      <td>1875.0</td>\n",
       "      <td>1555.974171</td>\n",
       "      <td>87.01</td>\n",
       "      <td>769.415</td>\n",
       "      <td>1443.6</td>\n",
       "      <td>2156.88</td>\n",
       "      <td>4358.2</td>\n",
       "      <td>896.323072</td>\n",
       "    </tr>\n",
       "    <tr>\n",
       "      <th>is_male</th>\n",
       "      <td>1875.0</td>\n",
       "      <td>0.506667</td>\n",
       "      <td>0.0</td>\n",
       "      <td>0.0</td>\n",
       "      <td>1.0</td>\n",
       "      <td>1.0</td>\n",
       "      <td>1.0</td>\n",
       "      <td>0.500089</td>\n",
       "    </tr>\n",
       "    <tr>\n",
       "      <th>SeniorCitizen</th>\n",
       "      <td>1875.0</td>\n",
       "      <td>0.176533</td>\n",
       "      <td>0.0</td>\n",
       "      <td>0.0</td>\n",
       "      <td>0.0</td>\n",
       "      <td>0.0</td>\n",
       "      <td>1.0</td>\n",
       "      <td>0.381375</td>\n",
       "    </tr>\n",
       "    <tr>\n",
       "      <th>Partner</th>\n",
       "      <td>1875.0</td>\n",
       "      <td>0.455467</td>\n",
       "      <td>0.0</td>\n",
       "      <td>0.0</td>\n",
       "      <td>0.0</td>\n",
       "      <td>1.0</td>\n",
       "      <td>1.0</td>\n",
       "      <td>0.498146</td>\n",
       "    </tr>\n",
       "    <tr>\n",
       "      <th>Dependents</th>\n",
       "      <td>1875.0</td>\n",
       "      <td>0.2976</td>\n",
       "      <td>0.0</td>\n",
       "      <td>0.0</td>\n",
       "      <td>0.0</td>\n",
       "      <td>1.0</td>\n",
       "      <td>1.0</td>\n",
       "      <td>0.457325</td>\n",
       "    </tr>\n",
       "    <tr>\n",
       "      <th>is_DSL</th>\n",
       "      <td>1875.0</td>\n",
       "      <td>0.325333</td>\n",
       "      <td>0.0</td>\n",
       "      <td>0.0</td>\n",
       "      <td>0.0</td>\n",
       "      <td>1.0</td>\n",
       "      <td>1.0</td>\n",
       "      <td>0.468624</td>\n",
       "    </tr>\n",
       "    <tr>\n",
       "      <th>OnlineSecurity</th>\n",
       "      <td>1875.0</td>\n",
       "      <td>0.244267</td>\n",
       "      <td>0.0</td>\n",
       "      <td>0.0</td>\n",
       "      <td>0.0</td>\n",
       "      <td>0.0</td>\n",
       "      <td>1.0</td>\n",
       "      <td>0.429766</td>\n",
       "    </tr>\n",
       "    <tr>\n",
       "      <th>OnlineBackup</th>\n",
       "      <td>1875.0</td>\n",
       "      <td>0.2896</td>\n",
       "      <td>0.0</td>\n",
       "      <td>0.0</td>\n",
       "      <td>0.0</td>\n",
       "      <td>1.0</td>\n",
       "      <td>1.0</td>\n",
       "      <td>0.453698</td>\n",
       "    </tr>\n",
       "    <tr>\n",
       "      <th>DeviceProtection</th>\n",
       "      <td>1875.0</td>\n",
       "      <td>0.301867</td>\n",
       "      <td>0.0</td>\n",
       "      <td>0.0</td>\n",
       "      <td>0.0</td>\n",
       "      <td>1.0</td>\n",
       "      <td>1.0</td>\n",
       "      <td>0.45919</td>\n",
       "    </tr>\n",
       "    <tr>\n",
       "      <th>TechSupport</th>\n",
       "      <td>1875.0</td>\n",
       "      <td>0.254933</td>\n",
       "      <td>0.0</td>\n",
       "      <td>0.0</td>\n",
       "      <td>0.0</td>\n",
       "      <td>1.0</td>\n",
       "      <td>1.0</td>\n",
       "      <td>0.43594</td>\n",
       "    </tr>\n",
       "    <tr>\n",
       "      <th>StreamingTV</th>\n",
       "      <td>1875.0</td>\n",
       "      <td>0.361067</td>\n",
       "      <td>0.0</td>\n",
       "      <td>0.0</td>\n",
       "      <td>0.0</td>\n",
       "      <td>1.0</td>\n",
       "      <td>1.0</td>\n",
       "      <td>0.480438</td>\n",
       "    </tr>\n",
       "    <tr>\n",
       "      <th>StreamingMovies</th>\n",
       "      <td>1875.0</td>\n",
       "      <td>0.36</td>\n",
       "      <td>0.0</td>\n",
       "      <td>0.0</td>\n",
       "      <td>0.0</td>\n",
       "      <td>1.0</td>\n",
       "      <td>1.0</td>\n",
       "      <td>0.480128</td>\n",
       "    </tr>\n",
       "    <tr>\n",
       "      <th>MultipleLines</th>\n",
       "      <td>1875.0</td>\n",
       "      <td>0.404267</td>\n",
       "      <td>0.0</td>\n",
       "      <td>0.0</td>\n",
       "      <td>0.0</td>\n",
       "      <td>1.0</td>\n",
       "      <td>1.0</td>\n",
       "      <td>0.49088</td>\n",
       "    </tr>\n",
       "    <tr>\n",
       "      <th>duration</th>\n",
       "      <td>1875.0</td>\n",
       "      <td>722.3776</td>\n",
       "      <td>28.0</td>\n",
       "      <td>549.0</td>\n",
       "      <td>702.0</td>\n",
       "      <td>914.0</td>\n",
       "      <td>1126.0</td>\n",
       "      <td>225.35685</td>\n",
       "    </tr>\n",
       "  </tbody>\n",
       "</table>\n",
       "</div>"
      ],
      "text/plain": [
       "                   count                           mean                  min  \\\n",
       "BeginDate           1875     2018-01-08 16:41:28.320000  2017-01-01 00:00:00   \n",
       "EndDate             1875  2020-01-01 01:45:12.959999744  2017-03-01 00:00:00   \n",
       "PaperlessBilling  1875.0                          0.592                  0.0   \n",
       "MonthlyCharges    1875.0                      64.001493                18.25   \n",
       "TotalCharges      1875.0                    1555.974171                87.01   \n",
       "is_male           1875.0                       0.506667                  0.0   \n",
       "SeniorCitizen     1875.0                       0.176533                  0.0   \n",
       "Partner           1875.0                       0.455467                  0.0   \n",
       "Dependents        1875.0                         0.2976                  0.0   \n",
       "is_DSL            1875.0                       0.325333                  0.0   \n",
       "OnlineSecurity    1875.0                       0.244267                  0.0   \n",
       "OnlineBackup      1875.0                         0.2896                  0.0   \n",
       "DeviceProtection  1875.0                       0.301867                  0.0   \n",
       "TechSupport       1875.0                       0.254933                  0.0   \n",
       "StreamingTV       1875.0                       0.361067                  0.0   \n",
       "StreamingMovies   1875.0                           0.36                  0.0   \n",
       "MultipleLines     1875.0                       0.404267                  0.0   \n",
       "duration          1875.0                       722.3776                 28.0   \n",
       "\n",
       "                                  25%                  50%  \\\n",
       "BeginDate         2017-07-01 00:00:00  2018-02-01 00:00:00   \n",
       "EndDate           2020-02-01 00:00:00  2020-02-01 00:00:00   \n",
       "PaperlessBilling                  0.0                  1.0   \n",
       "MonthlyCharges                 36.375                 70.5   \n",
       "TotalCharges                  769.415               1443.6   \n",
       "is_male                           0.0                  1.0   \n",
       "SeniorCitizen                     0.0                  0.0   \n",
       "Partner                           0.0                  0.0   \n",
       "Dependents                        0.0                  0.0   \n",
       "is_DSL                            0.0                  0.0   \n",
       "OnlineSecurity                    0.0                  0.0   \n",
       "OnlineBackup                      0.0                  0.0   \n",
       "DeviceProtection                  0.0                  0.0   \n",
       "TechSupport                       0.0                  0.0   \n",
       "StreamingTV                       0.0                  0.0   \n",
       "StreamingMovies                   0.0                  0.0   \n",
       "MultipleLines                     0.0                  0.0   \n",
       "duration                        549.0                702.0   \n",
       "\n",
       "                                  75%                  max         std  \n",
       "BeginDate         2018-07-01 00:00:00  2018-12-01 00:00:00         NaN  \n",
       "EndDate           2020-02-01 00:00:00  2020-02-01 00:00:00         NaN  \n",
       "PaperlessBilling                  1.0                  1.0    0.491594  \n",
       "MonthlyCharges                  89.15               116.25   28.808298  \n",
       "TotalCharges                  2156.88               4358.2  896.323072  \n",
       "is_male                           1.0                  1.0    0.500089  \n",
       "SeniorCitizen                     0.0                  1.0    0.381375  \n",
       "Partner                           1.0                  1.0    0.498146  \n",
       "Dependents                        1.0                  1.0    0.457325  \n",
       "is_DSL                            1.0                  1.0    0.468624  \n",
       "OnlineSecurity                    0.0                  1.0    0.429766  \n",
       "OnlineBackup                      1.0                  1.0    0.453698  \n",
       "DeviceProtection                  1.0                  1.0     0.45919  \n",
       "TechSupport                       1.0                  1.0     0.43594  \n",
       "StreamingTV                       1.0                  1.0    0.480438  \n",
       "StreamingMovies                   1.0                  1.0    0.480128  \n",
       "MultipleLines                     1.0                  1.0     0.49088  \n",
       "duration                        914.0               1126.0   225.35685  "
      ]
     },
     "execution_count": 33,
     "metadata": {},
     "output_type": "execute_result"
    }
   ],
   "source": [
    "# изучить данные, где 'BeginDate' 2017 и 2018\n",
    "df.loc[(df['BeginDate'] >= '2017') & (df['BeginDate'] < '2019')].describe().T"
   ]
  },
  {
   "cell_type": "code",
   "execution_count": 34,
   "id": "e70e55fd",
   "metadata": {},
   "outputs": [
    {
     "data": {
      "text/html": [
       "<div>\n",
       "<style scoped>\n",
       "    .dataframe tbody tr th:only-of-type {\n",
       "        vertical-align: middle;\n",
       "    }\n",
       "\n",
       "    .dataframe tbody tr th {\n",
       "        vertical-align: top;\n",
       "    }\n",
       "\n",
       "    .dataframe thead th {\n",
       "        text-align: right;\n",
       "    }\n",
       "</style>\n",
       "<table border=\"1\" class=\"dataframe\">\n",
       "  <thead>\n",
       "    <tr style=\"text-align: right;\">\n",
       "      <th></th>\n",
       "      <th>count</th>\n",
       "      <th>mean</th>\n",
       "      <th>min</th>\n",
       "      <th>25%</th>\n",
       "      <th>50%</th>\n",
       "      <th>75%</th>\n",
       "      <th>max</th>\n",
       "      <th>std</th>\n",
       "    </tr>\n",
       "  </thead>\n",
       "  <tbody>\n",
       "    <tr>\n",
       "      <th>BeginDate</th>\n",
       "      <td>2201</td>\n",
       "      <td>2019-08-03 17:42:29.931849216</td>\n",
       "      <td>2019-01-01 00:00:00</td>\n",
       "      <td>2019-05-01 00:00:00</td>\n",
       "      <td>2019-09-01 00:00:00</td>\n",
       "      <td>2019-11-01 00:00:00</td>\n",
       "      <td>2020-02-01 00:00:00</td>\n",
       "      <td>NaN</td>\n",
       "    </tr>\n",
       "    <tr>\n",
       "      <th>EndDate</th>\n",
       "      <td>2201</td>\n",
       "      <td>2020-01-30 18:11:17.146751488</td>\n",
       "      <td>2019-03-01 00:00:00</td>\n",
       "      <td>2020-02-01 00:00:00</td>\n",
       "      <td>2020-02-01 00:00:00</td>\n",
       "      <td>2020-02-01 00:00:00</td>\n",
       "      <td>2020-02-01 00:00:00</td>\n",
       "      <td>NaN</td>\n",
       "    </tr>\n",
       "    <tr>\n",
       "      <th>PaperlessBilling</th>\n",
       "      <td>2201.0</td>\n",
       "      <td>0.582463</td>\n",
       "      <td>0.0</td>\n",
       "      <td>0.0</td>\n",
       "      <td>1.0</td>\n",
       "      <td>1.0</td>\n",
       "      <td>1.0</td>\n",
       "      <td>0.493265</td>\n",
       "    </tr>\n",
       "    <tr>\n",
       "      <th>MonthlyCharges</th>\n",
       "      <td>2201.0</td>\n",
       "      <td>55.236324</td>\n",
       "      <td>18.75</td>\n",
       "      <td>25.05</td>\n",
       "      <td>55.3</td>\n",
       "      <td>76.45</td>\n",
       "      <td>111.4</td>\n",
       "      <td>26.333672</td>\n",
       "    </tr>\n",
       "    <tr>\n",
       "      <th>TotalCharges</th>\n",
       "      <td>2201.0</td>\n",
       "      <td>349.461304</td>\n",
       "      <td>0.0</td>\n",
       "      <td>120.9</td>\n",
       "      <td>257.04</td>\n",
       "      <td>506.89</td>\n",
       "      <td>1414.53</td>\n",
       "      <td>296.71826</td>\n",
       "    </tr>\n",
       "    <tr>\n",
       "      <th>is_male</th>\n",
       "      <td>2201.0</td>\n",
       "      <td>0.504316</td>\n",
       "      <td>0.0</td>\n",
       "      <td>0.0</td>\n",
       "      <td>1.0</td>\n",
       "      <td>1.0</td>\n",
       "      <td>1.0</td>\n",
       "      <td>0.500095</td>\n",
       "    </tr>\n",
       "    <tr>\n",
       "      <th>SeniorCitizen</th>\n",
       "      <td>2201.0</td>\n",
       "      <td>0.142208</td>\n",
       "      <td>0.0</td>\n",
       "      <td>0.0</td>\n",
       "      <td>0.0</td>\n",
       "      <td>0.0</td>\n",
       "      <td>1.0</td>\n",
       "      <td>0.349343</td>\n",
       "    </tr>\n",
       "    <tr>\n",
       "      <th>Partner</th>\n",
       "      <td>2201.0</td>\n",
       "      <td>0.258973</td>\n",
       "      <td>0.0</td>\n",
       "      <td>0.0</td>\n",
       "      <td>0.0</td>\n",
       "      <td>1.0</td>\n",
       "      <td>1.0</td>\n",
       "      <td>0.43817</td>\n",
       "    </tr>\n",
       "    <tr>\n",
       "      <th>Dependents</th>\n",
       "      <td>2201.0</td>\n",
       "      <td>0.210359</td>\n",
       "      <td>0.0</td>\n",
       "      <td>0.0</td>\n",
       "      <td>0.0</td>\n",
       "      <td>0.0</td>\n",
       "      <td>1.0</td>\n",
       "      <td>0.407656</td>\n",
       "    </tr>\n",
       "    <tr>\n",
       "      <th>is_DSL</th>\n",
       "      <td>2201.0</td>\n",
       "      <td>0.351204</td>\n",
       "      <td>0.0</td>\n",
       "      <td>0.0</td>\n",
       "      <td>0.0</td>\n",
       "      <td>1.0</td>\n",
       "      <td>1.0</td>\n",
       "      <td>0.477455</td>\n",
       "    </tr>\n",
       "    <tr>\n",
       "      <th>OnlineSecurity</th>\n",
       "      <td>2201.0</td>\n",
       "      <td>0.126761</td>\n",
       "      <td>0.0</td>\n",
       "      <td>0.0</td>\n",
       "      <td>0.0</td>\n",
       "      <td>0.0</td>\n",
       "      <td>1.0</td>\n",
       "      <td>0.33278</td>\n",
       "    </tr>\n",
       "    <tr>\n",
       "      <th>OnlineBackup</th>\n",
       "      <td>2201.0</td>\n",
       "      <td>0.15493</td>\n",
       "      <td>0.0</td>\n",
       "      <td>0.0</td>\n",
       "      <td>0.0</td>\n",
       "      <td>0.0</td>\n",
       "      <td>1.0</td>\n",
       "      <td>0.36192</td>\n",
       "    </tr>\n",
       "    <tr>\n",
       "      <th>DeviceProtection</th>\n",
       "      <td>2201.0</td>\n",
       "      <td>0.146297</td>\n",
       "      <td>0.0</td>\n",
       "      <td>0.0</td>\n",
       "      <td>0.0</td>\n",
       "      <td>0.0</td>\n",
       "      <td>1.0</td>\n",
       "      <td>0.353484</td>\n",
       "    </tr>\n",
       "    <tr>\n",
       "      <th>TechSupport</th>\n",
       "      <td>2201.0</td>\n",
       "      <td>0.128124</td>\n",
       "      <td>0.0</td>\n",
       "      <td>0.0</td>\n",
       "      <td>0.0</td>\n",
       "      <td>0.0</td>\n",
       "      <td>1.0</td>\n",
       "      <td>0.334303</td>\n",
       "    </tr>\n",
       "    <tr>\n",
       "      <th>StreamingTV</th>\n",
       "      <td>2201.0</td>\n",
       "      <td>0.21672</td>\n",
       "      <td>0.0</td>\n",
       "      <td>0.0</td>\n",
       "      <td>0.0</td>\n",
       "      <td>0.0</td>\n",
       "      <td>1.0</td>\n",
       "      <td>0.412104</td>\n",
       "    </tr>\n",
       "    <tr>\n",
       "      <th>StreamingMovies</th>\n",
       "      <td>2201.0</td>\n",
       "      <td>0.2199</td>\n",
       "      <td>0.0</td>\n",
       "      <td>0.0</td>\n",
       "      <td>0.0</td>\n",
       "      <td>0.0</td>\n",
       "      <td>1.0</td>\n",
       "      <td>0.414273</td>\n",
       "    </tr>\n",
       "    <tr>\n",
       "      <th>MultipleLines</th>\n",
       "      <td>2201.0</td>\n",
       "      <td>0.219446</td>\n",
       "      <td>0.0</td>\n",
       "      <td>0.0</td>\n",
       "      <td>0.0</td>\n",
       "      <td>0.0</td>\n",
       "      <td>1.0</td>\n",
       "      <td>0.413965</td>\n",
       "    </tr>\n",
       "    <tr>\n",
       "      <th>duration</th>\n",
       "      <td>2201.0</td>\n",
       "      <td>180.019991</td>\n",
       "      <td>0.0</td>\n",
       "      <td>92.0</td>\n",
       "      <td>153.0</td>\n",
       "      <td>276.0</td>\n",
       "      <td>396.0</td>\n",
       "      <td>111.218628</td>\n",
       "    </tr>\n",
       "  </tbody>\n",
       "</table>\n",
       "</div>"
      ],
      "text/plain": [
       "                   count                           mean                  min  \\\n",
       "BeginDate           2201  2019-08-03 17:42:29.931849216  2019-01-01 00:00:00   \n",
       "EndDate             2201  2020-01-30 18:11:17.146751488  2019-03-01 00:00:00   \n",
       "PaperlessBilling  2201.0                       0.582463                  0.0   \n",
       "MonthlyCharges    2201.0                      55.236324                18.75   \n",
       "TotalCharges      2201.0                     349.461304                  0.0   \n",
       "is_male           2201.0                       0.504316                  0.0   \n",
       "SeniorCitizen     2201.0                       0.142208                  0.0   \n",
       "Partner           2201.0                       0.258973                  0.0   \n",
       "Dependents        2201.0                       0.210359                  0.0   \n",
       "is_DSL            2201.0                       0.351204                  0.0   \n",
       "OnlineSecurity    2201.0                       0.126761                  0.0   \n",
       "OnlineBackup      2201.0                        0.15493                  0.0   \n",
       "DeviceProtection  2201.0                       0.146297                  0.0   \n",
       "TechSupport       2201.0                       0.128124                  0.0   \n",
       "StreamingTV       2201.0                        0.21672                  0.0   \n",
       "StreamingMovies   2201.0                         0.2199                  0.0   \n",
       "MultipleLines     2201.0                       0.219446                  0.0   \n",
       "duration          2201.0                     180.019991                  0.0   \n",
       "\n",
       "                                  25%                  50%  \\\n",
       "BeginDate         2019-05-01 00:00:00  2019-09-01 00:00:00   \n",
       "EndDate           2020-02-01 00:00:00  2020-02-01 00:00:00   \n",
       "PaperlessBilling                  0.0                  1.0   \n",
       "MonthlyCharges                  25.05                 55.3   \n",
       "TotalCharges                    120.9               257.04   \n",
       "is_male                           0.0                  1.0   \n",
       "SeniorCitizen                     0.0                  0.0   \n",
       "Partner                           0.0                  0.0   \n",
       "Dependents                        0.0                  0.0   \n",
       "is_DSL                            0.0                  0.0   \n",
       "OnlineSecurity                    0.0                  0.0   \n",
       "OnlineBackup                      0.0                  0.0   \n",
       "DeviceProtection                  0.0                  0.0   \n",
       "TechSupport                       0.0                  0.0   \n",
       "StreamingTV                       0.0                  0.0   \n",
       "StreamingMovies                   0.0                  0.0   \n",
       "MultipleLines                     0.0                  0.0   \n",
       "duration                         92.0                153.0   \n",
       "\n",
       "                                  75%                  max         std  \n",
       "BeginDate         2019-11-01 00:00:00  2020-02-01 00:00:00         NaN  \n",
       "EndDate           2020-02-01 00:00:00  2020-02-01 00:00:00         NaN  \n",
       "PaperlessBilling                  1.0                  1.0    0.493265  \n",
       "MonthlyCharges                  76.45                111.4   26.333672  \n",
       "TotalCharges                   506.89              1414.53   296.71826  \n",
       "is_male                           1.0                  1.0    0.500095  \n",
       "SeniorCitizen                     0.0                  1.0    0.349343  \n",
       "Partner                           1.0                  1.0     0.43817  \n",
       "Dependents                        0.0                  1.0    0.407656  \n",
       "is_DSL                            1.0                  1.0    0.477455  \n",
       "OnlineSecurity                    0.0                  1.0     0.33278  \n",
       "OnlineBackup                      0.0                  1.0     0.36192  \n",
       "DeviceProtection                  0.0                  1.0    0.353484  \n",
       "TechSupport                       0.0                  1.0    0.334303  \n",
       "StreamingTV                       0.0                  1.0    0.412104  \n",
       "StreamingMovies                   0.0                  1.0    0.414273  \n",
       "MultipleLines                     0.0                  1.0    0.413965  \n",
       "duration                        276.0                396.0  111.218628  "
      ]
     },
     "execution_count": 34,
     "metadata": {},
     "output_type": "execute_result"
    }
   ],
   "source": [
    "# изучить данные, где 'BeginDate' 2019 и 2020\n",
    "df.loc[df['BeginDate'] >= '2019'].describe().T"
   ]
  },
  {
   "cell_type": "markdown",
   "id": "336e7ccb",
   "metadata": {},
   "source": [
    "К сожалению, гипотеза о том, что новые клиенты пришли из-за дополнительных услуг (появления услуги или её стоимости) не подтвердилась, так как процент пользователей, использующих дополнительные услуги с 2019 года уменьшился. Также уменьшились средние месячные траты и общая сумма трат. Возможно, тарифы компании стали дешевле."
   ]
  },
  {
   "cell_type": "markdown",
   "id": "2e5e4123",
   "metadata": {},
   "source": [
    "**Построим гистограмму для анализа даты окончания пользования услугами**"
   ]
  },
  {
   "cell_type": "code",
   "execution_count": 35,
   "id": "718d1d46",
   "metadata": {},
   "outputs": [
    {
     "data": {
      "image/png": "[encoded data removed]",
      "text/plain": [
       "<Figure size 1296x360 with 1 Axes>"
      ]
     },
     "metadata": {
      "needs_background": "light"
     },
     "output_type": "display_data"
    }
   ],
   "source": [
    "# построить гистограмму для анализа даты окончания пользования услугами\n",
    "df.query('EndDate != \"2020-02-01\"')['EndDate'].hist(figsize=(18, 5), bins=100)\n",
    "plt.title('Распределение клиентов по дате окончания пользования услугами', fontdict = {'fontsize' : 16})\n",
    "plt.xlabel('Год окончания пользования услугами')\n",
    "plt.ylabel('Количество клиентов');"
   ]
  },
  {
   "cell_type": "markdown",
   "id": "6716c5d0",
   "metadata": {},
   "source": [
    "Видим, что между годами примерно 12 прямоугольных столбцов, есть предположение, что это каждый отдельный месяц. Попробуем рассмотреть только 2019 год."
   ]
  },
  {
   "cell_type": "code",
   "execution_count": 36,
   "id": "7d8cab01",
   "metadata": {},
   "outputs": [
    {
     "data": {
      "image/png": "[encoded data removed]",
      "text/plain": [
       "<Figure size 1296x360 with 1 Axes>"
      ]
     },
     "metadata": {
      "needs_background": "light"
     },
     "output_type": "display_data"
    }
   ],
   "source": [
    "# записать в переменную данные об окончании поьзования услуг с 2019 по 2020\n",
    "date_query = df.query('EndDate != \"2020-02-01\"')['EndDate']\n",
    "date_query = date_query[(date_query > '2019-01-01')]\n",
    "\n",
    "# построить гистограмму для анализа даты окончания пользования услугами\n",
    "date_query.hist(figsize=(18, 5), bins=100)\n",
    "plt.title('Распределение клиентов по дате окончания пользования услугами', fontdict = {'fontsize' : 16})\n",
    "plt.xlabel('Месяц окончания пользования услугами')\n",
    "plt.ylabel('Количество клиентов');"
   ]
  },
  {
   "cell_type": "markdown",
   "id": "399c3f63",
   "metadata": {},
   "source": [
    "Можем увидеть, что окончание пользования услуг происходит каждый месяц в одно и то же время у всех клиентов. Рассмотрим уникальные значения в новой переменной, в которой записаны данные об окончании поьзования услуг с 2019 по 2020."
   ]
  },
  {
   "cell_type": "code",
   "execution_count": 37,
   "id": "7178b007",
   "metadata": {},
   "outputs": [
    {
     "data": {
      "text/plain": [
       "EndDate\n",
       "2020-01-01    39\n",
       "2019-12-01    38\n",
       "2019-09-01    32\n",
       "2019-10-01    31\n",
       "2019-11-01    30\n",
       "2019-06-01    28\n",
       "2019-03-01    28\n",
       "2019-07-01    25\n",
       "2019-04-01    24\n",
       "2019-08-01    23\n",
       "2019-02-01    23\n",
       "2019-05-01    23\n",
       "Name: count, dtype: int64"
      ]
     },
     "execution_count": 37,
     "metadata": {},
     "output_type": "execute_result"
    }
   ],
   "source": [
    "date_query.value_counts()"
   ]
  },
  {
   "cell_type": "markdown",
   "id": "c00cc91c",
   "metadata": {},
   "source": [
    "Получается, что дата окончания пользования услугами у всех клиентов - первое число месяца. В 2019 году число таких клиентов было приблизительно одинаковым. Наибольший отток клиентов был в 1 января. Вероятно, закончился годовой договор."
   ]
  },
  {
   "cell_type": "markdown",
   "id": "adaee231",
   "metadata": {},
   "source": [
    "**Целевой признак**"
   ]
  },
  {
   "cell_type": "markdown",
   "id": "d9f12209",
   "metadata": {},
   "source": [
    "Выделим целевой признак - ушёл ли клиент - в новый столбец <code>is_lost_customer</code>, в котором 1 - клиент ушёл, 0 - клиент не ушёл."
   ]
  },
  {
   "cell_type": "code",
   "execution_count": 38,
   "id": "ad40bddb",
   "metadata": {},
   "outputs": [],
   "source": [
    "# скопировать в is_lost_customer значения из EndDate\n",
    "df['is_lost_customer'] = df['EndDate']\n",
    "\n",
    "# заменить значения на 1 и 0\n",
    "df.loc[df['is_lost_customer'] != '2020-02-01', 'is_lost_customer'] = 1\n",
    "df.loc[df['is_lost_customer'] != 1, 'is_lost_customer'] = 0\n",
    "\n",
    "df['is_lost_customer'] = df['is_lost_customer'].astype('int')"
   ]
  },
  {
   "cell_type": "markdown",
   "id": "c7ce070c",
   "metadata": {},
   "source": [
    "Сравним распределение ушедших и текущих клиентов."
   ]
  },
  {
   "cell_type": "markdown",
   "id": "5c0b8e81",
   "metadata": {},
   "source": [
    "**Построим гистограмму распредления месячных трат**"
   ]
  },
  {
   "cell_type": "code",
   "execution_count": 39,
   "id": "6c29b440",
   "metadata": {},
   "outputs": [
    {
     "data": {
      "image/png": "[encoded data removed]",
      "text/plain": [
       "<Figure size 1296x360 with 1 Axes>"
      ]
     },
     "metadata": {
      "needs_background": "light"
     },
     "output_type": "display_data"
    }
   ],
   "source": [
    "# построить гистограмму для анализа даты начала пользования услугами\n",
    "df.loc[df['is_lost_customer'] == 0,'MonthlyCharges'].hist(figsize=(18, 5), \n",
    "                                                          bins=10, alpha=0.5, label='Текущие клиенты')\n",
    "df.loc[df['is_lost_customer'] == 1,'MonthlyCharges'].hist(figsize=(18, 5), bins=10, label='Ушедшие клиенты')\n",
    "plt.title('Распределение клиентов по месячной сумме трат', fontdict = {'fontsize' : 16})\n",
    "plt.xlabel('Месячные траты')\n",
    "plt.ylabel('Количество клиентов')\n",
    "plt.legend();"
   ]
  },
  {
   "cell_type": "markdown",
   "id": "8486cad9",
   "metadata": {},
   "source": [
    "Можно заметить, что клиенты, которые тратили в месяц от 80 до 100, чаще всего уходили. Также часто уходили клиенты, которые тратили до 30."
   ]
  },
  {
   "cell_type": "markdown",
   "id": "ad06959d",
   "metadata": {},
   "source": [
    "**Построим гистограмму распредления сумме общих трат**"
   ]
  },
  {
   "cell_type": "code",
   "execution_count": 40,
   "id": "35e41db2",
   "metadata": {},
   "outputs": [
    {
     "data": {
      "image/png": "[encoded data removed]",
      "text/plain": [
       "<Figure size 1296x360 with 1 Axes>"
      ]
     },
     "metadata": {
      "needs_background": "light"
     },
     "output_type": "display_data"
    }
   ],
   "source": [
    "# построить гистограмму для анализа даты начала пользования услугами\n",
    "df.loc[df['is_lost_customer'] == 0,'TotalCharges'].hist(figsize=(18, 5), \n",
    "                                                          bins=10, alpha=0.5, label='Текущие клиенты')\n",
    "df.loc[df['is_lost_customer'] == 1,'TotalCharges'].hist(figsize=(18, 5), bins=10, label='Ушедшие клиенты')\n",
    "plt.title('Распределение клиентов по сумме общих трат', fontdict = {'fontsize' : 16})\n",
    "plt.xlabel('Сумма общих трат')\n",
    "plt.ylabel('Количество клиентов')\n",
    "plt.legend();"
   ]
  },
  {
   "cell_type": "markdown",
   "id": "1a2fac07",
   "metadata": {},
   "source": [
    "Можно заметить, что распределение ушедших клиентов примерно пропорционально распределению текущих клиентов."
   ]
  },
  {
   "cell_type": "markdown",
   "id": "bf7170fc",
   "metadata": {},
   "source": [
    "**Построим гистограмму для анализа даты окончания пользования услугами**"
   ]
  },
  {
   "cell_type": "code",
   "execution_count": 41,
   "id": "152b980a",
   "metadata": {},
   "outputs": [
    {
     "data": {
      "image/png": "[encoded data removed]",
      "text/plain": [
       "<Figure size 1296x360 with 1 Axes>"
      ]
     },
     "metadata": {
      "needs_background": "light"
     },
     "output_type": "display_data"
    }
   ],
   "source": [
    "# построить гистограмму для анализа даты начала пользования услугами\n",
    "df.loc[df['is_lost_customer'] == 0,'BeginDate'].hist(figsize=(18, 5), \n",
    "                                                          bins=10, alpha=0.5, label='Текущие клиенты')\n",
    "df.loc[df['is_lost_customer'] == 1,'BeginDate'].hist(figsize=(18, 5), \n",
    "                                                          bins=10, label='Ушедшие клиенты')\n",
    "plt.title('Распределение клиентов по дате начала пользования услугами', fontdict = {'fontsize' : 16})\n",
    "plt.xlabel('Год начала пользования услугами')\n",
    "plt.ylabel('Количество клиентов')\n",
    "plt.legend();"
   ]
  },
  {
   "cell_type": "markdown",
   "id": "51d49757",
   "metadata": {},
   "source": [
    "Можно заметить, что больше всего ушли клиенты, которые начали пользоваться услугами в 2014 году."
   ]
  },
  {
   "cell_type": "markdown",
   "id": "80823a69",
   "metadata": {},
   "source": [
    "**Мультиколлинеарность**"
   ]
  },
  {
   "cell_type": "markdown",
   "id": "626dcabf",
   "metadata": {},
   "source": [
    "Построим матрицу парных корреляций признаков."
   ]
  },
  {
   "cell_type": "code",
   "execution_count": 42,
   "id": "50d6843b",
   "metadata": {},
   "outputs": [
    {
     "name": "stdout",
     "output_type": "stream",
     "text": [
      "interval columns not set, guessing: ['PaperlessBilling', 'MonthlyCharges', 'TotalCharges', 'is_male', 'SeniorCitizen', 'Partner', 'Dependents', 'is_DSL', 'OnlineSecurity', 'OnlineBackup', 'DeviceProtection', 'TechSupport', 'StreamingTV', 'StreamingMovies', 'MultipleLines', 'duration', 'is_lost_customer']\n"
     ]
    },
    {
     "data": {
      "text/html": [
       "<style type=\"text/css\">\n",
       "#T_53d42_row0_col0, #T_53d42_row1_col1, #T_53d42_row1_col20, #T_53d42_row2_col2, #T_53d42_row3_col3, #T_53d42_row4_col4, #T_53d42_row5_col5, #T_53d42_row6_col6, #T_53d42_row7_col7, #T_53d42_row8_col8, #T_53d42_row9_col9, #T_53d42_row10_col10, #T_53d42_row11_col11, #T_53d42_row12_col12, #T_53d42_row13_col13, #T_53d42_row14_col14, #T_53d42_row15_col15, #T_53d42_row16_col16, #T_53d42_row17_col17, #T_53d42_row18_col18, #T_53d42_row19_col19, #T_53d42_row20_col1, #T_53d42_row20_col20 {\n",
       "  background-color: #b40426;\n",
       "  color: #f1f1f1;\n",
       "}\n",
       "#T_53d42_row0_col1, #T_53d42_row1_col0, #T_53d42_row6_col15, #T_53d42_row12_col5, #T_53d42_row15_col6 {\n",
       "  background-color: #e9d5cb;\n",
       "  color: #000000;\n",
       "}\n",
       "#T_53d42_row0_col2, #T_53d42_row2_col0 {\n",
       "  background-color: #f29274;\n",
       "  color: #f1f1f1;\n",
       "}\n",
       "#T_53d42_row0_col3, #T_53d42_row3_col0, #T_53d42_row8_col20, #T_53d42_row10_col11, #T_53d42_row11_col10 {\n",
       "  background-color: #536edd;\n",
       "  color: #f1f1f1;\n",
       "}\n",
       "#T_53d42_row0_col4, #T_53d42_row0_col14, #T_53d42_row4_col0, #T_53d42_row9_col19, #T_53d42_row14_col0, #T_53d42_row19_col9 {\n",
       "  background-color: #d1dae9;\n",
       "  color: #000000;\n",
       "}\n",
       "#T_53d42_row0_col5, #T_53d42_row13_col17, #T_53d42_row13_col19 {\n",
       "  background-color: #c5d6f2;\n",
       "  color: #000000;\n",
       "}\n",
       "#T_53d42_row0_col6, #T_53d42_row6_col0 {\n",
       "  background-color: #f18f71;\n",
       "  color: #f1f1f1;\n",
       "}\n",
       "#T_53d42_row0_col7, #T_53d42_row5_col7, #T_53d42_row7_col0, #T_53d42_row10_col14, #T_53d42_row13_col7, #T_53d42_row14_col10, #T_53d42_row20_col7 {\n",
       "  background-color: #3d50c3;\n",
       "  color: #f1f1f1;\n",
       "}\n",
       "#T_53d42_row0_col8, #T_53d42_row8_col0 {\n",
       "  background-color: #4a63d3;\n",
       "  color: #f1f1f1;\n",
       "}\n",
       "#T_53d42_row0_col9, #T_53d42_row9_col0 {\n",
       "  background-color: #d6dce4;\n",
       "  color: #000000;\n",
       "}\n",
       "#T_53d42_row0_col10, #T_53d42_row1_col18, #T_53d42_row4_col20, #T_53d42_row10_col0, #T_53d42_row18_col1 {\n",
       "  background-color: #7ea1fa;\n",
       "  color: #f1f1f1;\n",
       "}\n",
       "#T_53d42_row0_col11, #T_53d42_row1_col11, #T_53d42_row2_col7, #T_53d42_row3_col7, #T_53d42_row3_col12, #T_53d42_row4_col7, #T_53d42_row6_col7, #T_53d42_row7_col2, #T_53d42_row7_col3, #T_53d42_row7_col4, #T_53d42_row7_col5, #T_53d42_row7_col6, #T_53d42_row7_col8, #T_53d42_row7_col9, #T_53d42_row7_col10, #T_53d42_row7_col11, #T_53d42_row7_col13, #T_53d42_row7_col14, #T_53d42_row7_col15, #T_53d42_row7_col16, #T_53d42_row7_col17, #T_53d42_row7_col18, #T_53d42_row7_col19, #T_53d42_row7_col20, #T_53d42_row8_col7, #T_53d42_row9_col7, #T_53d42_row9_col11, #T_53d42_row10_col7, #T_53d42_row11_col0, #T_53d42_row11_col1, #T_53d42_row11_col7, #T_53d42_row11_col9, #T_53d42_row12_col3, #T_53d42_row14_col7, #T_53d42_row15_col7, #T_53d42_row16_col7, #T_53d42_row17_col7, #T_53d42_row18_col7, #T_53d42_row19_col7 {\n",
       "  background-color: #3b4cc0;\n",
       "  color: #f1f1f1;\n",
       "}\n",
       "#T_53d42_row0_col12, #T_53d42_row12_col0, #T_53d42_row15_col19, #T_53d42_row19_col15 {\n",
       "  background-color: #c1d4f4;\n",
       "  color: #000000;\n",
       "}\n",
       "#T_53d42_row0_col13, #T_53d42_row15_col13 {\n",
       "  background-color: #ccd9ed;\n",
       "  color: #000000;\n",
       "}\n",
       "#T_53d42_row0_col15, #T_53d42_row5_col4, #T_53d42_row15_col0 {\n",
       "  background-color: #c0d4f5;\n",
       "  color: #000000;\n",
       "}\n",
       "#T_53d42_row0_col16, #T_53d42_row16_col0 {\n",
       "  background-color: #b3cdfb;\n",
       "  color: #000000;\n",
       "}\n",
       "#T_53d42_row0_col17, #T_53d42_row17_col0, #T_53d42_row20_col19 {\n",
       "  background-color: #b7cff9;\n",
       "  color: #000000;\n",
       "}\n",
       "#T_53d42_row0_col18, #T_53d42_row13_col16, #T_53d42_row14_col19, #T_53d42_row18_col0, #T_53d42_row19_col14 {\n",
       "  background-color: #c9d7f0;\n",
       "  color: #000000;\n",
       "}\n",
       "#T_53d42_row0_col19, #T_53d42_row19_col0 {\n",
       "  background-color: #bb1b2c;\n",
       "  color: #f1f1f1;\n",
       "}\n",
       "#T_53d42_row0_col20, #T_53d42_row13_col0 {\n",
       "  background-color: #cedaeb;\n",
       "  color: #000000;\n",
       "}\n",
       "#T_53d42_row1_col2, #T_53d42_row2_col1 {\n",
       "  background-color: #9abbff;\n",
       "  color: #000000;\n",
       "}\n",
       "#T_53d42_row1_col3, #T_53d42_row2_col18, #T_53d42_row3_col1, #T_53d42_row8_col19, #T_53d42_row18_col2, #T_53d42_row19_col8 {\n",
       "  background-color: #4e68d8;\n",
       "  color: #f1f1f1;\n",
       "}\n",
       "#T_53d42_row1_col4, #T_53d42_row4_col1 {\n",
       "  background-color: #7093f3;\n",
       "  color: #f1f1f1;\n",
       "}\n",
       "#T_53d42_row1_col5, #T_53d42_row1_col16, #T_53d42_row8_col11, #T_53d42_row11_col8, #T_53d42_row16_col1 {\n",
       "  background-color: #6f92f3;\n",
       "  color: #f1f1f1;\n",
       "}\n",
       "#T_53d42_row1_col6, #T_53d42_row6_col1, #T_53d42_row6_col11, #T_53d42_row11_col6, #T_53d42_row17_col20, #T_53d42_row20_col14 {\n",
       "  background-color: #81a4fb;\n",
       "  color: #f1f1f1;\n",
       "}\n",
       "#T_53d42_row1_col7, #T_53d42_row7_col1, #T_53d42_row7_col12, #T_53d42_row8_col9, #T_53d42_row9_col8, #T_53d42_row10_col16, #T_53d42_row11_col16, #T_53d42_row12_col7, #T_53d42_row16_col10, #T_53d42_row16_col11 {\n",
       "  background-color: #3f53c6;\n",
       "  color: #f1f1f1;\n",
       "}\n",
       "#T_53d42_row1_col8, #T_53d42_row2_col13, #T_53d42_row8_col1, #T_53d42_row8_col13, #T_53d42_row8_col14, #T_53d42_row8_col15, #T_53d42_row14_col8, #T_53d42_row15_col8 {\n",
       "  background-color: #5673e0;\n",
       "  color: #f1f1f1;\n",
       "}\n",
       "#T_53d42_row1_col9, #T_53d42_row1_col17, #T_53d42_row9_col1, #T_53d42_row10_col5, #T_53d42_row17_col1 {\n",
       "  background-color: #7396f5;\n",
       "  color: #f1f1f1;\n",
       "}\n",
       "#T_53d42_row1_col10, #T_53d42_row3_col15, #T_53d42_row8_col12, #T_53d42_row10_col1, #T_53d42_row12_col8, #T_53d42_row15_col3 {\n",
       "  background-color: #4b64d5;\n",
       "  color: #f1f1f1;\n",
       "}\n",
       "#T_53d42_row1_col12, #T_53d42_row12_col1, #T_53d42_row20_col12 {\n",
       "  background-color: #6384eb;\n",
       "  color: #f1f1f1;\n",
       "}\n",
       "#T_53d42_row1_col13, #T_53d42_row1_col14, #T_53d42_row9_col5, #T_53d42_row10_col19, #T_53d42_row13_col3, #T_53d42_row14_col1, #T_53d42_row19_col10 {\n",
       "  background-color: #7a9df8;\n",
       "  color: #f1f1f1;\n",
       "}\n",
       "#T_53d42_row1_col15, #T_53d42_row15_col1 {\n",
       "  background-color: #5d7ce6;\n",
       "  color: #f1f1f1;\n",
       "}\n",
       "#T_53d42_row1_col19, #T_53d42_row4_col5, #T_53d42_row12_col19, #T_53d42_row17_col18, #T_53d42_row18_col17, #T_53d42_row18_col19, #T_53d42_row19_col1, #T_53d42_row19_col12, #T_53d42_row19_col18 {\n",
       "  background-color: #bfd3f6;\n",
       "  color: #000000;\n",
       "}\n",
       "#T_53d42_row2_col3, #T_53d42_row3_col2 {\n",
       "  background-color: #5b7ae5;\n",
       "  color: #f1f1f1;\n",
       "}\n",
       "#T_53d42_row2_col4, #T_53d42_row4_col2 {\n",
       "  background-color: #97b8ff;\n",
       "  color: #000000;\n",
       "}\n",
       "#T_53d42_row2_col5 {\n",
       "  background-color: #bbd1f8;\n",
       "  color: #000000;\n",
       "}\n",
       "#T_53d42_row2_col6, #T_53d42_row6_col2, #T_53d42_row11_col15, #T_53d42_row15_col11 {\n",
       "  background-color: #d5dbe5;\n",
       "  color: #000000;\n",
       "}\n",
       "#T_53d42_row2_col8, #T_53d42_row2_col20, #T_53d42_row8_col2, #T_53d42_row20_col8 {\n",
       "  background-color: #5572df;\n",
       "  color: #f1f1f1;\n",
       "}\n",
       "#T_53d42_row2_col9, #T_53d42_row2_col15, #T_53d42_row9_col2, #T_53d42_row9_col17, #T_53d42_row15_col2, #T_53d42_row17_col9 {\n",
       "  background-color: #7597f6;\n",
       "  color: #f1f1f1;\n",
       "}\n",
       "#T_53d42_row2_col10, #T_53d42_row10_col2 {\n",
       "  background-color: #688aef;\n",
       "  color: #f1f1f1;\n",
       "}\n",
       "#T_53d42_row2_col11, #T_53d42_row10_col20, #T_53d42_row11_col2, #T_53d42_row11_col17, #T_53d42_row17_col11, #T_53d42_row20_col11 {\n",
       "  background-color: #455cce;\n",
       "  color: #f1f1f1;\n",
       "}\n",
       "#T_53d42_row2_col12, #T_53d42_row12_col2, #T_53d42_row12_col18, #T_53d42_row18_col12 {\n",
       "  background-color: #6a8bef;\n",
       "  color: #f1f1f1;\n",
       "}\n",
       "#T_53d42_row2_col14, #T_53d42_row14_col2 {\n",
       "  background-color: #6687ed;\n",
       "  color: #f1f1f1;\n",
       "}\n",
       "#T_53d42_row2_col16, #T_53d42_row2_col17, #T_53d42_row16_col2, #T_53d42_row17_col2 {\n",
       "  background-color: #4f69d9;\n",
       "  color: #f1f1f1;\n",
       "}\n",
       "#T_53d42_row2_col19, #T_53d42_row19_col2 {\n",
       "  background-color: #f5c1a9;\n",
       "  color: #000000;\n",
       "}\n",
       "#T_53d42_row3_col4, #T_53d42_row4_col3, #T_53d42_row19_col20 {\n",
       "  background-color: #b6cefa;\n",
       "  color: #000000;\n",
       "}\n",
       "#T_53d42_row3_col5 {\n",
       "  background-color: #d3dbe7;\n",
       "  color: #000000;\n",
       "}\n",
       "#T_53d42_row3_col6, #T_53d42_row6_col3, #T_53d42_row20_col16 {\n",
       "  background-color: #7b9ff9;\n",
       "  color: #f1f1f1;\n",
       "}\n",
       "#T_53d42_row3_col8, #T_53d42_row8_col3 {\n",
       "  background-color: #89acfd;\n",
       "  color: #000000;\n",
       "}\n",
       "#T_53d42_row3_col9, #T_53d42_row9_col3 {\n",
       "  background-color: #3e51c5;\n",
       "  color: #f1f1f1;\n",
       "}\n",
       "#T_53d42_row3_col10, #T_53d42_row5_col1, #T_53d42_row10_col3 {\n",
       "  background-color: #7295f4;\n",
       "  color: #f1f1f1;\n",
       "}\n",
       "#T_53d42_row3_col11, #T_53d42_row10_col15, #T_53d42_row11_col3, #T_53d42_row15_col10, #T_53d42_row15_col20, #T_53d42_row20_col2 {\n",
       "  background-color: #5875e1;\n",
       "  color: #f1f1f1;\n",
       "}\n",
       "#T_53d42_row3_col13 {\n",
       "  background-color: #779af7;\n",
       "  color: #f1f1f1;\n",
       "}\n",
       "#T_53d42_row3_col14, #T_53d42_row8_col16, #T_53d42_row14_col3, #T_53d42_row16_col8 {\n",
       "  background-color: #6e90f2;\n",
       "  color: #f1f1f1;\n",
       "}\n",
       "#T_53d42_row3_col16, #T_53d42_row16_col3 {\n",
       "  background-color: #adc9fd;\n",
       "  color: #000000;\n",
       "}\n",
       "#T_53d42_row3_col17, #T_53d42_row8_col10, #T_53d42_row10_col8, #T_53d42_row17_col3 {\n",
       "  background-color: #a7c5fe;\n",
       "  color: #000000;\n",
       "}\n",
       "#T_53d42_row3_col18, #T_53d42_row18_col3 {\n",
       "  background-color: #8db0fe;\n",
       "  color: #000000;\n",
       "}\n",
       "#T_53d42_row3_col19, #T_53d42_row19_col3 {\n",
       "  background-color: #4257c9;\n",
       "  color: #f1f1f1;\n",
       "}\n",
       "#T_53d42_row3_col20 {\n",
       "  background-color: #516ddb;\n",
       "  color: #f1f1f1;\n",
       "}\n",
       "#T_53d42_row4_col6, #T_53d42_row6_col4 {\n",
       "  background-color: #aac7fd;\n",
       "  color: #000000;\n",
       "}\n",
       "#T_53d42_row4_col8, #T_53d42_row8_col4, #T_53d42_row12_col17, #T_53d42_row17_col12 {\n",
       "  background-color: #9bbcff;\n",
       "  color: #000000;\n",
       "}\n",
       "#T_53d42_row4_col9, #T_53d42_row9_col4, #T_53d42_row13_col11 {\n",
       "  background-color: #8badfd;\n",
       "  color: #000000;\n",
       "}\n",
       "#T_53d42_row4_col10, #T_53d42_row10_col4, #T_53d42_row13_col20 {\n",
       "  background-color: #84a7fc;\n",
       "  color: #f1f1f1;\n",
       "}\n",
       "#T_53d42_row4_col11, #T_53d42_row11_col4 {\n",
       "  background-color: #6c8ff1;\n",
       "  color: #f1f1f1;\n",
       "}\n",
       "#T_53d42_row4_col12, #T_53d42_row12_col4 {\n",
       "  background-color: #92b4fe;\n",
       "  color: #000000;\n",
       "}\n",
       "#T_53d42_row4_col13 {\n",
       "  background-color: #96b7ff;\n",
       "  color: #000000;\n",
       "}\n",
       "#T_53d42_row4_col14, #T_53d42_row5_col8, #T_53d42_row11_col18, #T_53d42_row14_col4, #T_53d42_row18_col11 {\n",
       "  background-color: #a1c0ff;\n",
       "  color: #000000;\n",
       "}\n",
       "#T_53d42_row4_col15, #T_53d42_row12_col16, #T_53d42_row15_col4, #T_53d42_row16_col12 {\n",
       "  background-color: #94b6ff;\n",
       "  color: #000000;\n",
       "}\n",
       "#T_53d42_row4_col16, #T_53d42_row16_col4 {\n",
       "  background-color: #b9d0f9;\n",
       "  color: #000000;\n",
       "}\n",
       "#T_53d42_row4_col17, #T_53d42_row6_col9, #T_53d42_row9_col6, #T_53d42_row17_col4, #T_53d42_row19_col5 {\n",
       "  background-color: #bad0f8;\n",
       "  color: #000000;\n",
       "}\n",
       "#T_53d42_row4_col18, #T_53d42_row16_col19, #T_53d42_row17_col19, #T_53d42_row18_col4, #T_53d42_row19_col16, #T_53d42_row19_col17 {\n",
       "  background-color: #abc8fd;\n",
       "  color: #000000;\n",
       "}\n",
       "#T_53d42_row4_col19, #T_53d42_row19_col4 {\n",
       "  background-color: #afcafc;\n",
       "  color: #000000;\n",
       "}\n",
       "#T_53d42_row5_col0, #T_53d42_row12_col13, #T_53d42_row15_col16, #T_53d42_row15_col17, #T_53d42_row16_col13, #T_53d42_row16_col15, #T_53d42_row17_col15 {\n",
       "  background-color: #c7d7f0;\n",
       "  color: #000000;\n",
       "}\n",
       "#T_53d42_row5_col2, #T_53d42_row5_col19 {\n",
       "  background-color: #bcd2f7;\n",
       "  color: #000000;\n",
       "}\n",
       "#T_53d42_row5_col3 {\n",
       "  background-color: #d4dbe6;\n",
       "  color: #000000;\n",
       "}\n",
       "#T_53d42_row5_col6, #T_53d42_row6_col5 {\n",
       "  background-color: #f7a98b;\n",
       "  color: #000000;\n",
       "}\n",
       "#T_53d42_row5_col9, #T_53d42_row13_col1 {\n",
       "  background-color: #7da0f9;\n",
       "  color: #f1f1f1;\n",
       "}\n",
       "#T_53d42_row5_col10, #T_53d42_row8_col17, #T_53d42_row9_col15, #T_53d42_row15_col9, #T_53d42_row17_col8 {\n",
       "  background-color: #7699f6;\n",
       "  color: #f1f1f1;\n",
       "}\n",
       "#T_53d42_row5_col11, #T_53d42_row11_col5 {\n",
       "  background-color: #c53334;\n",
       "  color: #f1f1f1;\n",
       "}\n",
       "#T_53d42_row5_col12 {\n",
       "  background-color: #ead5c9;\n",
       "  color: #000000;\n",
       "}\n",
       "#T_53d42_row5_col13, #T_53d42_row13_col5 {\n",
       "  background-color: #f5c4ac;\n",
       "  color: #000000;\n",
       "}\n",
       "#T_53d42_row5_col14, #T_53d42_row14_col5 {\n",
       "  background-color: #f7b89c;\n",
       "  color: #000000;\n",
       "}\n",
       "#T_53d42_row5_col15, #T_53d42_row14_col16, #T_53d42_row16_col14 {\n",
       "  background-color: #eed0c0;\n",
       "  color: #000000;\n",
       "}\n",
       "#T_53d42_row5_col16, #T_53d42_row5_col17, #T_53d42_row16_col5 {\n",
       "  background-color: #e7745b;\n",
       "  color: #f1f1f1;\n",
       "}\n",
       "#T_53d42_row5_col18 {\n",
       "  background-color: #f7b497;\n",
       "  color: #000000;\n",
       "}\n",
       "#T_53d42_row5_col20, #T_53d42_row8_col18, #T_53d42_row9_col12, #T_53d42_row9_col18, #T_53d42_row9_col20, #T_53d42_row12_col9, #T_53d42_row13_col9, #T_53d42_row18_col8, #T_53d42_row18_col9, #T_53d42_row20_col5, #T_53d42_row20_col13, #T_53d42_row20_col17 {\n",
       "  background-color: #82a6fb;\n",
       "  color: #f1f1f1;\n",
       "}\n",
       "#T_53d42_row6_col8, #T_53d42_row8_col6 {\n",
       "  background-color: #6485ec;\n",
       "  color: #f1f1f1;\n",
       "}\n",
       "#T_53d42_row6_col10, #T_53d42_row10_col6, #T_53d42_row20_col3 {\n",
       "  background-color: #5470de;\n",
       "  color: #f1f1f1;\n",
       "}\n",
       "#T_53d42_row6_col12, #T_53d42_row12_col6 {\n",
       "  background-color: #e2dad5;\n",
       "  color: #000000;\n",
       "}\n",
       "#T_53d42_row6_col13 {\n",
       "  background-color: #f4c6af;\n",
       "  color: #000000;\n",
       "}\n",
       "#T_53d42_row6_col14, #T_53d42_row6_col16, #T_53d42_row6_col17, #T_53d42_row14_col6, #T_53d42_row16_col6, #T_53d42_row17_col6 {\n",
       "  background-color: #f6bfa6;\n",
       "  color: #000000;\n",
       "}\n",
       "#T_53d42_row6_col18, #T_53d42_row15_col5, #T_53d42_row18_col6 {\n",
       "  background-color: #edd1c2;\n",
       "  color: #000000;\n",
       "}\n",
       "#T_53d42_row6_col19, #T_53d42_row19_col6 {\n",
       "  background-color: #e36c55;\n",
       "  color: #f1f1f1;\n",
       "}\n",
       "#T_53d42_row6_col20 {\n",
       "  background-color: #9dbdff;\n",
       "  color: #000000;\n",
       "}\n",
       "#T_53d42_row8_col5 {\n",
       "  background-color: #9ebeff;\n",
       "  color: #000000;\n",
       "}\n",
       "#T_53d42_row9_col10, #T_53d42_row10_col9 {\n",
       "  background-color: #f6bda2;\n",
       "  color: #000000;\n",
       "}\n",
       "#T_53d42_row9_col13, #T_53d42_row14_col20, #T_53d42_row20_col4 {\n",
       "  background-color: #80a3fa;\n",
       "  color: #f1f1f1;\n",
       "}\n",
       "#T_53d42_row9_col14, #T_53d42_row11_col13, #T_53d42_row14_col9 {\n",
       "  background-color: #88abfd;\n",
       "  color: #000000;\n",
       "}\n",
       "#T_53d42_row9_col16, #T_53d42_row16_col9, #T_53d42_row16_col20 {\n",
       "  background-color: #799cf8;\n",
       "  color: #f1f1f1;\n",
       "}\n",
       "#T_53d42_row10_col12, #T_53d42_row12_col10 {\n",
       "  background-color: #6180e9;\n",
       "  color: #f1f1f1;\n",
       "}\n",
       "#T_53d42_row10_col13 {\n",
       "  background-color: #4055c8;\n",
       "  color: #f1f1f1;\n",
       "}\n",
       "#T_53d42_row10_col17, #T_53d42_row17_col10 {\n",
       "  background-color: #4c66d6;\n",
       "  color: #f1f1f1;\n",
       "}\n",
       "#T_53d42_row10_col18, #T_53d42_row13_col10, #T_53d42_row18_col10 {\n",
       "  background-color: #445acc;\n",
       "  color: #f1f1f1;\n",
       "}\n",
       "#T_53d42_row11_col12, #T_53d42_row12_col11 {\n",
       "  background-color: #d8dce2;\n",
       "  color: #000000;\n",
       "}\n",
       "#T_53d42_row11_col14, #T_53d42_row14_col11, #T_53d42_row20_col9 {\n",
       "  background-color: #85a8fc;\n",
       "  color: #f1f1f1;\n",
       "}\n",
       "#T_53d42_row11_col19, #T_53d42_row19_col11 {\n",
       "  background-color: #465ecf;\n",
       "  color: #f1f1f1;\n",
       "}\n",
       "#T_53d42_row11_col20 {\n",
       "  background-color: #4358cb;\n",
       "  color: #f1f1f1;\n",
       "}\n",
       "#T_53d42_row12_col14, #T_53d42_row14_col12 {\n",
       "  background-color: #c6d6f1;\n",
       "  color: #000000;\n",
       "}\n",
       "#T_53d42_row12_col15, #T_53d42_row15_col12 {\n",
       "  background-color: #e4d9d2;\n",
       "  color: #000000;\n",
       "}\n",
       "#T_53d42_row12_col20 {\n",
       "  background-color: #6282ea;\n",
       "  color: #f1f1f1;\n",
       "}\n",
       "#T_53d42_row13_col2 {\n",
       "  background-color: #5977e3;\n",
       "  color: #f1f1f1;\n",
       "}\n",
       "#T_53d42_row13_col4 {\n",
       "  background-color: #98b9ff;\n",
       "  color: #000000;\n",
       "}\n",
       "#T_53d42_row13_col6 {\n",
       "  background-color: #f4c5ad;\n",
       "  color: #000000;\n",
       "}\n",
       "#T_53d42_row13_col8, #T_53d42_row20_col15 {\n",
       "  background-color: #5a78e4;\n",
       "  color: #f1f1f1;\n",
       "}\n",
       "#T_53d42_row13_col12 {\n",
       "  background-color: #cad8ef;\n",
       "  color: #000000;\n",
       "}\n",
       "#T_53d42_row13_col14 {\n",
       "  background-color: #d2dbe8;\n",
       "  color: #000000;\n",
       "}\n",
       "#T_53d42_row13_col15 {\n",
       "  background-color: #cdd9ec;\n",
       "  color: #000000;\n",
       "}\n",
       "#T_53d42_row13_col18, #T_53d42_row14_col18, #T_53d42_row18_col14 {\n",
       "  background-color: #a2c1ff;\n",
       "  color: #000000;\n",
       "}\n",
       "#T_53d42_row14_col13, #T_53d42_row20_col0 {\n",
       "  background-color: #cfdaea;\n",
       "  color: #000000;\n",
       "}\n",
       "#T_53d42_row14_col15, #T_53d42_row15_col14 {\n",
       "  background-color: #dcdddd;\n",
       "  color: #000000;\n",
       "}\n",
       "#T_53d42_row14_col17, #T_53d42_row17_col14 {\n",
       "  background-color: #f1cdba;\n",
       "  color: #000000;\n",
       "}\n",
       "#T_53d42_row15_col18, #T_53d42_row18_col15 {\n",
       "  background-color: #6b8df0;\n",
       "  color: #f1f1f1;\n",
       "}\n",
       "#T_53d42_row16_col17, #T_53d42_row17_col16 {\n",
       "  background-color: #f59c7d;\n",
       "  color: #000000;\n",
       "}\n",
       "#T_53d42_row16_col18, #T_53d42_row18_col16 {\n",
       "  background-color: #bed2f6;\n",
       "  color: #000000;\n",
       "}\n",
       "#T_53d42_row17_col5 {\n",
       "  background-color: #e8765c;\n",
       "  color: #f1f1f1;\n",
       "}\n",
       "#T_53d42_row17_col13 {\n",
       "  background-color: #c4d5f3;\n",
       "  color: #000000;\n",
       "}\n",
       "#T_53d42_row18_col5 {\n",
       "  background-color: #f7b599;\n",
       "  color: #000000;\n",
       "}\n",
       "#T_53d42_row18_col13, #T_53d42_row20_col6 {\n",
       "  background-color: #9fbfff;\n",
       "  color: #000000;\n",
       "}\n",
       "#T_53d42_row18_col20 {\n",
       "  background-color: #8fb1fe;\n",
       "  color: #000000;\n",
       "}\n",
       "#T_53d42_row19_col13 {\n",
       "  background-color: #c3d5f4;\n",
       "  color: #000000;\n",
       "}\n",
       "#T_53d42_row20_col10 {\n",
       "  background-color: #485fd1;\n",
       "  color: #f1f1f1;\n",
       "}\n",
       "#T_53d42_row20_col18 {\n",
       "  background-color: #90b2fe;\n",
       "  color: #000000;\n",
       "}\n",
       "</style>\n",
       "<table id=\"T_53d42\">\n",
       "  <thead>\n",
       "    <tr>\n",
       "      <th class=\"blank level0\" >&nbsp;</th>\n",
       "      <th id=\"T_53d42_level0_col0\" class=\"col_heading level0 col0\" >BeginDate</th>\n",
       "      <th id=\"T_53d42_level0_col1\" class=\"col_heading level0 col1\" >EndDate</th>\n",
       "      <th id=\"T_53d42_level0_col2\" class=\"col_heading level0 col2\" >Type</th>\n",
       "      <th id=\"T_53d42_level0_col3\" class=\"col_heading level0 col3\" >PaperlessBilling</th>\n",
       "      <th id=\"T_53d42_level0_col4\" class=\"col_heading level0 col4\" >PaymentMethod</th>\n",
       "      <th id=\"T_53d42_level0_col5\" class=\"col_heading level0 col5\" >MonthlyCharges</th>\n",
       "      <th id=\"T_53d42_level0_col6\" class=\"col_heading level0 col6\" >TotalCharges</th>\n",
       "      <th id=\"T_53d42_level0_col7\" class=\"col_heading level0 col7\" >is_male</th>\n",
       "      <th id=\"T_53d42_level0_col8\" class=\"col_heading level0 col8\" >SeniorCitizen</th>\n",
       "      <th id=\"T_53d42_level0_col9\" class=\"col_heading level0 col9\" >Partner</th>\n",
       "      <th id=\"T_53d42_level0_col10\" class=\"col_heading level0 col10\" >Dependents</th>\n",
       "      <th id=\"T_53d42_level0_col11\" class=\"col_heading level0 col11\" >is_DSL</th>\n",
       "      <th id=\"T_53d42_level0_col12\" class=\"col_heading level0 col12\" >OnlineSecurity</th>\n",
       "      <th id=\"T_53d42_level0_col13\" class=\"col_heading level0 col13\" >OnlineBackup</th>\n",
       "      <th id=\"T_53d42_level0_col14\" class=\"col_heading level0 col14\" >DeviceProtection</th>\n",
       "      <th id=\"T_53d42_level0_col15\" class=\"col_heading level0 col15\" >TechSupport</th>\n",
       "      <th id=\"T_53d42_level0_col16\" class=\"col_heading level0 col16\" >StreamingTV</th>\n",
       "      <th id=\"T_53d42_level0_col17\" class=\"col_heading level0 col17\" >StreamingMovies</th>\n",
       "      <th id=\"T_53d42_level0_col18\" class=\"col_heading level0 col18\" >MultipleLines</th>\n",
       "      <th id=\"T_53d42_level0_col19\" class=\"col_heading level0 col19\" >duration</th>\n",
       "      <th id=\"T_53d42_level0_col20\" class=\"col_heading level0 col20\" >is_lost_customer</th>\n",
       "    </tr>\n",
       "  </thead>\n",
       "  <tbody>\n",
       "    <tr>\n",
       "      <th id=\"T_53d42_level0_row0\" class=\"row_heading level0 row0\" >BeginDate</th>\n",
       "      <td id=\"T_53d42_row0_col0\" class=\"data row0 col0\" >1.000000</td>\n",
       "      <td id=\"T_53d42_row0_col1\" class=\"data row0 col1\" >0.548313</td>\n",
       "      <td id=\"T_53d42_row0_col2\" class=\"data row0 col2\" >0.766249</td>\n",
       "      <td id=\"T_53d42_row0_col3\" class=\"data row0 col3\" >0.081447</td>\n",
       "      <td id=\"T_53d42_row0_col4\" class=\"data row0 col4\" >0.456389</td>\n",
       "      <td id=\"T_53d42_row0_col5\" class=\"data row0 col5\" >0.421886</td>\n",
       "      <td id=\"T_53d42_row0_col6\" class=\"data row0 col6\" >0.774207</td>\n",
       "      <td id=\"T_53d42_row0_col7\" class=\"data row0 col7\" >0.011268</td>\n",
       "      <td id=\"T_53d42_row0_col8\" class=\"data row0 col8\" >0.050862</td>\n",
       "      <td id=\"T_53d42_row0_col9\" class=\"data row0 col9\" >0.473514</td>\n",
       "      <td id=\"T_53d42_row0_col10\" class=\"data row0 col10\" >0.208564</td>\n",
       "      <td id=\"T_53d42_row0_col11\" class=\"data row0 col11\" >0.000000</td>\n",
       "      <td id=\"T_53d42_row0_col12\" class=\"data row0 col12\" >0.403560</td>\n",
       "      <td id=\"T_53d42_row0_col13\" class=\"data row0 col13\" >0.445583</td>\n",
       "      <td id=\"T_53d42_row0_col14\" class=\"data row0 col14\" >0.456002</td>\n",
       "      <td id=\"T_53d42_row0_col15\" class=\"data row0 col15\" >0.399506</td>\n",
       "      <td id=\"T_53d42_row0_col16\" class=\"data row0 col16\" >0.359784</td>\n",
       "      <td id=\"T_53d42_row0_col17\" class=\"data row0 col17\" >0.371863</td>\n",
       "      <td id=\"T_53d42_row0_col18\" class=\"data row0 col18\" >0.428109</td>\n",
       "      <td id=\"T_53d42_row0_col19\" class=\"data row0 col19\" >0.978521</td>\n",
       "      <td id=\"T_53d42_row0_col20\" class=\"data row0 col20\" >0.450254</td>\n",
       "    </tr>\n",
       "    <tr>\n",
       "      <th id=\"T_53d42_level0_row1\" class=\"row_heading level0 row1\" >EndDate</th>\n",
       "      <td id=\"T_53d42_row1_col0\" class=\"data row1 col0\" >0.548313</td>\n",
       "      <td id=\"T_53d42_row1_col1\" class=\"data row1 col1\" >1.000000</td>\n",
       "      <td id=\"T_53d42_row1_col2\" class=\"data row1 col2\" >0.285429</td>\n",
       "      <td id=\"T_53d42_row1_col3\" class=\"data row1 col3\" >0.062936</td>\n",
       "      <td id=\"T_53d42_row1_col4\" class=\"data row1 col4\" >0.169262</td>\n",
       "      <td id=\"T_53d42_row1_col5\" class=\"data row1 col5\" >0.173493</td>\n",
       "      <td id=\"T_53d42_row1_col6\" class=\"data row1 col6\" >0.217670</td>\n",
       "      <td id=\"T_53d42_row1_col7\" class=\"data row1 col7\" >0.018274</td>\n",
       "      <td id=\"T_53d42_row1_col8\" class=\"data row1 col8\" >0.090502</td>\n",
       "      <td id=\"T_53d42_row1_col9\" class=\"data row1 col9\" >0.177492</td>\n",
       "      <td id=\"T_53d42_row1_col10\" class=\"data row1 col10\" >0.055518</td>\n",
       "      <td id=\"T_53d42_row1_col11\" class=\"data row1 col11\" >0.000000</td>\n",
       "      <td id=\"T_53d42_row1_col12\" class=\"data row1 col12\" >0.129611</td>\n",
       "      <td id=\"T_53d42_row1_col13\" class=\"data row1 col13\" >0.203659</td>\n",
       "      <td id=\"T_53d42_row1_col14\" class=\"data row1 col14\" >0.197691</td>\n",
       "      <td id=\"T_53d42_row1_col15\" class=\"data row1 col15\" >0.112812</td>\n",
       "      <td id=\"T_53d42_row1_col16\" class=\"data row1 col16\" >0.164794</td>\n",
       "      <td id=\"T_53d42_row1_col17\" class=\"data row1 col17\" >0.177561</td>\n",
       "      <td id=\"T_53d42_row1_col18\" class=\"data row1 col18\" >0.209337</td>\n",
       "      <td id=\"T_53d42_row1_col19\" class=\"data row1 col19\" >0.396342</td>\n",
       "      <td id=\"T_53d42_row1_col20\" class=\"data row1 col20\" >1.000000</td>\n",
       "    </tr>\n",
       "    <tr>\n",
       "      <th id=\"T_53d42_level0_row2\" class=\"row_heading level0 row2\" >Type</th>\n",
       "      <td id=\"T_53d42_row2_col0\" class=\"data row2 col0\" >0.766249</td>\n",
       "      <td id=\"T_53d42_row2_col1\" class=\"data row2 col1\" >0.285429</td>\n",
       "      <td id=\"T_53d42_row2_col2\" class=\"data row2 col2\" >1.000000</td>\n",
       "      <td id=\"T_53d42_row2_col3\" class=\"data row2 col3\" >0.106860</td>\n",
       "      <td id=\"T_53d42_row2_col4\" class=\"data row2 col4\" >0.277462</td>\n",
       "      <td id=\"T_53d42_row2_col5\" class=\"data row2 col5\" >0.388444</td>\n",
       "      <td id=\"T_53d42_row2_col6\" class=\"data row2 col6\" >0.470860</td>\n",
       "      <td id=\"T_53d42_row2_col7\" class=\"data row2 col7\" >0.000000</td>\n",
       "      <td id=\"T_53d42_row2_col8\" class=\"data row2 col8\" >0.086231</td>\n",
       "      <td id=\"T_53d42_row2_col9\" class=\"data row2 col9\" >0.179736</td>\n",
       "      <td id=\"T_53d42_row2_col10\" class=\"data row2 col10\" >0.147680</td>\n",
       "      <td id=\"T_53d42_row2_col11\" class=\"data row2 col11\" >0.038773</td>\n",
       "      <td id=\"T_53d42_row2_col12\" class=\"data row2 col12\" >0.152145</td>\n",
       "      <td id=\"T_53d42_row2_col13\" class=\"data row2 col13\" >0.098884</td>\n",
       "      <td id=\"T_53d42_row2_col14\" class=\"data row2 col14\" >0.137610</td>\n",
       "      <td id=\"T_53d42_row2_col15\" class=\"data row2 col15\" >0.179999</td>\n",
       "      <td id=\"T_53d42_row2_col16\" class=\"data row2 col16\" >0.066961</td>\n",
       "      <td id=\"T_53d42_row2_col17\" class=\"data row2 col17\" >0.069608</td>\n",
       "      <td id=\"T_53d42_row2_col18\" class=\"data row2 col18\" >0.065498</td>\n",
       "      <td id=\"T_53d42_row2_col19\" class=\"data row2 col19\" >0.634155</td>\n",
       "      <td id=\"T_53d42_row2_col20\" class=\"data row2 col20\" >0.094015</td>\n",
       "    </tr>\n",
       "    <tr>\n",
       "      <th id=\"T_53d42_level0_row3\" class=\"row_heading level0 row3\" >PaperlessBilling</th>\n",
       "      <td id=\"T_53d42_row3_col0\" class=\"data row3 col0\" >0.081447</td>\n",
       "      <td id=\"T_53d42_row3_col1\" class=\"data row3 col1\" >0.062936</td>\n",
       "      <td id=\"T_53d42_row3_col2\" class=\"data row3 col2\" >0.106860</td>\n",
       "      <td id=\"T_53d42_row3_col3\" class=\"data row3 col3\" >1.000000</td>\n",
       "      <td id=\"T_53d42_row3_col4\" class=\"data row3 col4\" >0.370495</td>\n",
       "      <td id=\"T_53d42_row3_col5\" class=\"data row3 col5\" >0.467812</td>\n",
       "      <td id=\"T_53d42_row3_col6\" class=\"data row3 col6\" >0.201703</td>\n",
       "      <td id=\"T_53d42_row3_col7\" class=\"data row3 col7\" >0.000000</td>\n",
       "      <td id=\"T_53d42_row3_col8\" class=\"data row3 col8\" >0.242133</td>\n",
       "      <td id=\"T_53d42_row3_col9\" class=\"data row3 col9\" >0.013218</td>\n",
       "      <td id=\"T_53d42_row3_col10\" class=\"data row3 col10\" >0.172593</td>\n",
       "      <td id=\"T_53d42_row3_col11\" class=\"data row3 col11\" >0.096737</td>\n",
       "      <td id=\"T_53d42_row3_col12\" class=\"data row3 col12\" >0.000000</td>\n",
       "      <td id=\"T_53d42_row3_col13\" class=\"data row3 col13\" >0.196443</td>\n",
       "      <td id=\"T_53d42_row3_col14\" class=\"data row3 col14\" >0.160796</td>\n",
       "      <td id=\"T_53d42_row3_col15\" class=\"data row3 col15\" >0.055929</td>\n",
       "      <td id=\"T_53d42_row3_col16\" class=\"data row3 col16\" >0.343524</td>\n",
       "      <td id=\"T_53d42_row3_col17\" class=\"data row3 col17\" >0.325551</td>\n",
       "      <td id=\"T_53d42_row3_col18\" class=\"data row3 col18\" >0.252972</td>\n",
       "      <td id=\"T_53d42_row3_col19\" class=\"data row3 col19\" >0.026799</td>\n",
       "      <td id=\"T_53d42_row3_col20\" class=\"data row3 col20\" >0.083398</td>\n",
       "    </tr>\n",
       "    <tr>\n",
       "      <th id=\"T_53d42_level0_row4\" class=\"row_heading level0 row4\" >PaymentMethod</th>\n",
       "      <td id=\"T_53d42_row4_col0\" class=\"data row4 col0\" >0.456389</td>\n",
       "      <td id=\"T_53d42_row4_col1\" class=\"data row4 col1\" >0.169262</td>\n",
       "      <td id=\"T_53d42_row4_col2\" class=\"data row4 col2\" >0.277462</td>\n",
       "      <td id=\"T_53d42_row4_col3\" class=\"data row4 col3\" >0.370495</td>\n",
       "      <td id=\"T_53d42_row4_col4\" class=\"data row4 col4\" >1.000000</td>\n",
       "      <td id=\"T_53d42_row4_col5\" class=\"data row4 col5\" >0.399526</td>\n",
       "      <td id=\"T_53d42_row4_col6\" class=\"data row4 col6\" >0.335666</td>\n",
       "      <td id=\"T_53d42_row4_col7\" class=\"data row4 col7\" >0.000000</td>\n",
       "      <td id=\"T_53d42_row4_col8\" class=\"data row4 col8\" >0.292725</td>\n",
       "      <td id=\"T_53d42_row4_col9\" class=\"data row4 col9\" >0.243008</td>\n",
       "      <td id=\"T_53d42_row4_col10\" class=\"data row4 col10\" >0.224903</td>\n",
       "      <td id=\"T_53d42_row4_col11\" class=\"data row4 col11\" >0.156446</td>\n",
       "      <td id=\"T_53d42_row4_col12\" class=\"data row4 col12\" >0.262911</td>\n",
       "      <td id=\"T_53d42_row4_col13\" class=\"data row4 col13\" >0.282475</td>\n",
       "      <td id=\"T_53d42_row4_col14\" class=\"data row4 col14\" >0.306866</td>\n",
       "      <td id=\"T_53d42_row4_col15\" class=\"data row4 col15\" >0.272101</td>\n",
       "      <td id=\"T_53d42_row4_col16\" class=\"data row4 col16\" >0.377209</td>\n",
       "      <td id=\"T_53d42_row4_col17\" class=\"data row4 col17\" >0.378907</td>\n",
       "      <td id=\"T_53d42_row4_col18\" class=\"data row4 col18\" >0.339313</td>\n",
       "      <td id=\"T_53d42_row4_col19\" class=\"data row4 col19\" >0.350964</td>\n",
       "      <td id=\"T_53d42_row4_col20\" class=\"data row4 col20\" >0.214832</td>\n",
       "    </tr>\n",
       "    <tr>\n",
       "      <th id=\"T_53d42_level0_row5\" class=\"row_heading level0 row5\" >MonthlyCharges</th>\n",
       "      <td id=\"T_53d42_row5_col0\" class=\"data row5 col0\" >0.421886</td>\n",
       "      <td id=\"T_53d42_row5_col1\" class=\"data row5 col1\" >0.173493</td>\n",
       "      <td id=\"T_53d42_row5_col2\" class=\"data row5 col2\" >0.388444</td>\n",
       "      <td id=\"T_53d42_row5_col3\" class=\"data row5 col3\" >0.467812</td>\n",
       "      <td id=\"T_53d42_row5_col4\" class=\"data row5 col4\" >0.399526</td>\n",
       "      <td id=\"T_53d42_row5_col5\" class=\"data row5 col5\" >1.000000</td>\n",
       "      <td id=\"T_53d42_row5_col6\" class=\"data row5 col6\" >0.710905</td>\n",
       "      <td id=\"T_53d42_row5_col7\" class=\"data row5 col7\" >0.008175</td>\n",
       "      <td id=\"T_53d42_row5_col8\" class=\"data row5 col8\" >0.304985</td>\n",
       "      <td id=\"T_53d42_row5_col9\" class=\"data row5 col9\" >0.203545</td>\n",
       "      <td id=\"T_53d42_row5_col10\" class=\"data row5 col10\" >0.184366</td>\n",
       "      <td id=\"T_53d42_row5_col11\" class=\"data row5 col11\" >0.949706</td>\n",
       "      <td id=\"T_53d42_row5_col12\" class=\"data row5 col12\" >0.551621</td>\n",
       "      <td id=\"T_53d42_row5_col13\" class=\"data row5 col13\" >0.629541</td>\n",
       "      <td id=\"T_53d42_row5_col14\" class=\"data row5 col14\" >0.667481</td>\n",
       "      <td id=\"T_53d42_row5_col15\" class=\"data row5 col15\" >0.576525</td>\n",
       "      <td id=\"T_53d42_row5_col16\" class=\"data row5 col16\" >0.835340</td>\n",
       "      <td id=\"T_53d42_row5_col17\" class=\"data row5 col17\" >0.833307</td>\n",
       "      <td id=\"T_53d42_row5_col18\" class=\"data row5 col18\" >0.675883</td>\n",
       "      <td id=\"T_53d42_row5_col19\" class=\"data row5 col19\" >0.387727</td>\n",
       "      <td id=\"T_53d42_row5_col20\" class=\"data row5 col20\" >0.226280</td>\n",
       "    </tr>\n",
       "    <tr>\n",
       "      <th id=\"T_53d42_level0_row6\" class=\"row_heading level0 row6\" >TotalCharges</th>\n",
       "      <td id=\"T_53d42_row6_col0\" class=\"data row6 col0\" >0.774207</td>\n",
       "      <td id=\"T_53d42_row6_col1\" class=\"data row6 col1\" >0.217670</td>\n",
       "      <td id=\"T_53d42_row6_col2\" class=\"data row6 col2\" >0.470860</td>\n",
       "      <td id=\"T_53d42_row6_col3\" class=\"data row6 col3\" >0.201703</td>\n",
       "      <td id=\"T_53d42_row6_col4\" class=\"data row6 col4\" >0.335666</td>\n",
       "      <td id=\"T_53d42_row6_col5\" class=\"data row6 col5\" >0.710905</td>\n",
       "      <td id=\"T_53d42_row6_col6\" class=\"data row6 col6\" >1.000000</td>\n",
       "      <td id=\"T_53d42_row6_col7\" class=\"data row6 col7\" >0.000000</td>\n",
       "      <td id=\"T_53d42_row6_col8\" class=\"data row6 col8\" >0.135650</td>\n",
       "      <td id=\"T_53d42_row6_col9\" class=\"data row6 col9\" >0.381958</td>\n",
       "      <td id=\"T_53d42_row6_col10\" class=\"data row6 col10\" >0.084247</td>\n",
       "      <td id=\"T_53d42_row6_col11\" class=\"data row6 col11\" >0.217184</td>\n",
       "      <td id=\"T_53d42_row6_col12\" class=\"data row6 col12\" >0.522090</td>\n",
       "      <td id=\"T_53d42_row6_col13\" class=\"data row6 col13\" >0.622445</td>\n",
       "      <td id=\"T_53d42_row6_col14\" class=\"data row6 col14\" >0.640977</td>\n",
       "      <td id=\"T_53d42_row6_col15\" class=\"data row6 col15\" >0.550065</td>\n",
       "      <td id=\"T_53d42_row6_col16\" class=\"data row6 col16\" >0.641488</td>\n",
       "      <td id=\"T_53d42_row6_col17\" class=\"data row6 col17\" >0.643210</td>\n",
       "      <td id=\"T_53d42_row6_col18\" class=\"data row6 col18\" >0.573191</td>\n",
       "      <td id=\"T_53d42_row6_col19\" class=\"data row6 col19\" >0.848337</td>\n",
       "      <td id=\"T_53d42_row6_col20\" class=\"data row6 col20\" >0.302890</td>\n",
       "    </tr>\n",
       "    <tr>\n",
       "      <th id=\"T_53d42_level0_row7\" class=\"row_heading level0 row7\" >is_male</th>\n",
       "      <td id=\"T_53d42_row7_col0\" class=\"data row7 col0\" >0.011268</td>\n",
       "      <td id=\"T_53d42_row7_col1\" class=\"data row7 col1\" >0.018274</td>\n",
       "      <td id=\"T_53d42_row7_col2\" class=\"data row7 col2\" >0.000000</td>\n",
       "      <td id=\"T_53d42_row7_col3\" class=\"data row7 col3\" >0.000000</td>\n",
       "      <td id=\"T_53d42_row7_col4\" class=\"data row7 col4\" >0.000000</td>\n",
       "      <td id=\"T_53d42_row7_col5\" class=\"data row7 col5\" >0.008175</td>\n",
       "      <td id=\"T_53d42_row7_col6\" class=\"data row7 col6\" >0.000000</td>\n",
       "      <td id=\"T_53d42_row7_col7\" class=\"data row7 col7\" >1.000000</td>\n",
       "      <td id=\"T_53d42_row7_col8\" class=\"data row7 col8\" >0.000000</td>\n",
       "      <td id=\"T_53d42_row7_col9\" class=\"data row7 col9\" >0.000000</td>\n",
       "      <td id=\"T_53d42_row7_col10\" class=\"data row7 col10\" >0.000000</td>\n",
       "      <td id=\"T_53d42_row7_col11\" class=\"data row7 col11\" >0.000000</td>\n",
       "      <td id=\"T_53d42_row7_col12\" class=\"data row7 col12\" >0.018397</td>\n",
       "      <td id=\"T_53d42_row7_col13\" class=\"data row7 col13\" >0.009882</td>\n",
       "      <td id=\"T_53d42_row7_col14\" class=\"data row7 col14\" >0.000000</td>\n",
       "      <td id=\"T_53d42_row7_col15\" class=\"data row7 col15\" >0.000000</td>\n",
       "      <td id=\"T_53d42_row7_col16\" class=\"data row7 col16\" >0.000000</td>\n",
       "      <td id=\"T_53d42_row7_col17\" class=\"data row7 col17\" >0.000000</td>\n",
       "      <td id=\"T_53d42_row7_col18\" class=\"data row7 col18\" >0.000000</td>\n",
       "      <td id=\"T_53d42_row7_col19\" class=\"data row7 col19\" >0.000000</td>\n",
       "      <td id=\"T_53d42_row7_col20\" class=\"data row7 col20\" >0.008581</td>\n",
       "    </tr>\n",
       "    <tr>\n",
       "      <th id=\"T_53d42_level0_row8\" class=\"row_heading level0 row8\" >SeniorCitizen</th>\n",
       "      <td id=\"T_53d42_row8_col0\" class=\"data row8 col0\" >0.050862</td>\n",
       "      <td id=\"T_53d42_row8_col1\" class=\"data row8 col1\" >0.090502</td>\n",
       "      <td id=\"T_53d42_row8_col2\" class=\"data row8 col2\" >0.086231</td>\n",
       "      <td id=\"T_53d42_row8_col3\" class=\"data row8 col3\" >0.242133</td>\n",
       "      <td id=\"T_53d42_row8_col4\" class=\"data row8 col4\" >0.292725</td>\n",
       "      <td id=\"T_53d42_row8_col5\" class=\"data row8 col5\" >0.304985</td>\n",
       "      <td id=\"T_53d42_row8_col6\" class=\"data row8 col6\" >0.135650</td>\n",
       "      <td id=\"T_53d42_row8_col7\" class=\"data row8 col7\" >0.000000</td>\n",
       "      <td id=\"T_53d42_row8_col8\" class=\"data row8 col8\" >1.000000</td>\n",
       "      <td id=\"T_53d42_row8_col9\" class=\"data row8 col9\" >0.016992</td>\n",
       "      <td id=\"T_53d42_row8_col10\" class=\"data row8 col10\" >0.324576</td>\n",
       "      <td id=\"T_53d42_row8_col11\" class=\"data row8 col11\" >0.167696</td>\n",
       "      <td id=\"T_53d42_row8_col12\" class=\"data row8 col12\" >0.057028</td>\n",
       "      <td id=\"T_53d42_row8_col13\" class=\"data row8 col13\" >0.102065</td>\n",
       "      <td id=\"T_53d42_row8_col14\" class=\"data row8 col14\" >0.090686</td>\n",
       "      <td id=\"T_53d42_row8_col15\" class=\"data row8 col15\" >0.092565</td>\n",
       "      <td id=\"T_53d42_row8_col16\" class=\"data row8 col16\" >0.163120</td>\n",
       "      <td id=\"T_53d42_row8_col17\" class=\"data row8 col17\" >0.186141</td>\n",
       "      <td id=\"T_53d42_row8_col18\" class=\"data row8 col18\" >0.221313</td>\n",
       "      <td id=\"T_53d42_row8_col19\" class=\"data row8 col19\" >0.063315</td>\n",
       "      <td id=\"T_53d42_row8_col20\" class=\"data row8 col20\" >0.086159</td>\n",
       "    </tr>\n",
       "    <tr>\n",
       "      <th id=\"T_53d42_level0_row9\" class=\"row_heading level0 row9\" >Partner</th>\n",
       "      <td id=\"T_53d42_row9_col0\" class=\"data row9 col0\" >0.473514</td>\n",
       "      <td id=\"T_53d42_row9_col1\" class=\"data row9 col1\" >0.177492</td>\n",
       "      <td id=\"T_53d42_row9_col2\" class=\"data row9 col2\" >0.179736</td>\n",
       "      <td id=\"T_53d42_row9_col3\" class=\"data row9 col3\" >0.013218</td>\n",
       "      <td id=\"T_53d42_row9_col4\" class=\"data row9 col4\" >0.243008</td>\n",
       "      <td id=\"T_53d42_row9_col5\" class=\"data row9 col5\" >0.203545</td>\n",
       "      <td id=\"T_53d42_row9_col6\" class=\"data row9 col6\" >0.381958</td>\n",
       "      <td id=\"T_53d42_row9_col7\" class=\"data row9 col7\" >0.000000</td>\n",
       "      <td id=\"T_53d42_row9_col8\" class=\"data row9 col8\" >0.016992</td>\n",
       "      <td id=\"T_53d42_row9_col9\" class=\"data row9 col9\" >1.000000</td>\n",
       "      <td id=\"T_53d42_row9_col10\" class=\"data row9 col10\" >0.652122</td>\n",
       "      <td id=\"T_53d42_row9_col11\" class=\"data row9 col11\" >0.000000</td>\n",
       "      <td id=\"T_53d42_row9_col12\" class=\"data row9 col12\" >0.221673</td>\n",
       "      <td id=\"T_53d42_row9_col13\" class=\"data row9 col13\" >0.219223</td>\n",
       "      <td id=\"T_53d42_row9_col14\" class=\"data row9 col14\" >0.238079</td>\n",
       "      <td id=\"T_53d42_row9_col15\" class=\"data row9 col15\" >0.185993</td>\n",
       "      <td id=\"T_53d42_row9_col16\" class=\"data row9 col16\" >0.193258</td>\n",
       "      <td id=\"T_53d42_row9_col17\" class=\"data row9 col17\" >0.182011</td>\n",
       "      <td id=\"T_53d42_row9_col18\" class=\"data row9 col18\" >0.220101</td>\n",
       "      <td id=\"T_53d42_row9_col19\" class=\"data row9 col19\" >0.453688</td>\n",
       "      <td id=\"T_53d42_row9_col20\" class=\"data row9 col20\" >0.226688</td>\n",
       "    </tr>\n",
       "    <tr>\n",
       "      <th id=\"T_53d42_level0_row10\" class=\"row_heading level0 row10\" >Dependents</th>\n",
       "      <td id=\"T_53d42_row10_col0\" class=\"data row10 col0\" >0.208564</td>\n",
       "      <td id=\"T_53d42_row10_col1\" class=\"data row10 col1\" >0.055518</td>\n",
       "      <td id=\"T_53d42_row10_col2\" class=\"data row10 col2\" >0.147680</td>\n",
       "      <td id=\"T_53d42_row10_col3\" class=\"data row10 col3\" >0.172593</td>\n",
       "      <td id=\"T_53d42_row10_col4\" class=\"data row10 col4\" >0.224903</td>\n",
       "      <td id=\"T_53d42_row10_col5\" class=\"data row10 col5\" >0.184366</td>\n",
       "      <td id=\"T_53d42_row10_col6\" class=\"data row10 col6\" >0.084247</td>\n",
       "      <td id=\"T_53d42_row10_col7\" class=\"data row10 col7\" >0.000000</td>\n",
       "      <td id=\"T_53d42_row10_col8\" class=\"data row10 col8\" >0.324576</td>\n",
       "      <td id=\"T_53d42_row10_col9\" class=\"data row10 col9\" >0.652122</td>\n",
       "      <td id=\"T_53d42_row10_col10\" class=\"data row10 col10\" >1.000000</td>\n",
       "      <td id=\"T_53d42_row10_col11\" class=\"data row10 col11\" >0.078923</td>\n",
       "      <td id=\"T_53d42_row10_col12\" class=\"data row10 col12\" >0.124945</td>\n",
       "      <td id=\"T_53d42_row10_col13\" class=\"data row10 col13\" >0.031533</td>\n",
       "      <td id=\"T_53d42_row10_col14\" class=\"data row10 col14\" >0.010416</td>\n",
       "      <td id=\"T_53d42_row10_col15\" class=\"data row10 col15\" >0.096912</td>\n",
       "      <td id=\"T_53d42_row10_col16\" class=\"data row10 col16\" >0.017331</td>\n",
       "      <td id=\"T_53d42_row10_col17\" class=\"data row10 col17\" >0.058999</td>\n",
       "      <td id=\"T_53d42_row10_col18\" class=\"data row10 col18\" >0.033103</td>\n",
       "      <td id=\"T_53d42_row10_col19\" class=\"data row10 col19\" >0.198729</td>\n",
       "      <td id=\"T_53d42_row10_col20\" class=\"data row10 col20\" >0.046871</td>\n",
       "    </tr>\n",
       "    <tr>\n",
       "      <th id=\"T_53d42_level0_row11\" class=\"row_heading level0 row11\" >is_DSL</th>\n",
       "      <td id=\"T_53d42_row11_col0\" class=\"data row11 col0\" >0.000000</td>\n",
       "      <td id=\"T_53d42_row11_col1\" class=\"data row11 col1\" >0.000000</td>\n",
       "      <td id=\"T_53d42_row11_col2\" class=\"data row11 col2\" >0.038773</td>\n",
       "      <td id=\"T_53d42_row11_col3\" class=\"data row11 col3\" >0.096737</td>\n",
       "      <td id=\"T_53d42_row11_col4\" class=\"data row11 col4\" >0.156446</td>\n",
       "      <td id=\"T_53d42_row11_col5\" class=\"data row11 col5\" >0.949706</td>\n",
       "      <td id=\"T_53d42_row11_col6\" class=\"data row11 col6\" >0.217184</td>\n",
       "      <td id=\"T_53d42_row11_col7\" class=\"data row11 col7\" >0.000000</td>\n",
       "      <td id=\"T_53d42_row11_col8\" class=\"data row11 col8\" >0.167696</td>\n",
       "      <td id=\"T_53d42_row11_col9\" class=\"data row11 col9\" >0.000000</td>\n",
       "      <td id=\"T_53d42_row11_col10\" class=\"data row11 col10\" >0.078923</td>\n",
       "      <td id=\"T_53d42_row11_col11\" class=\"data row11 col11\" >1.000000</td>\n",
       "      <td id=\"T_53d42_row11_col12\" class=\"data row11 col12\" >0.482773</td>\n",
       "      <td id=\"T_53d42_row11_col13\" class=\"data row11 col13\" >0.244322</td>\n",
       "      <td id=\"T_53d42_row11_col14\" class=\"data row11 col14\" >0.226565</td>\n",
       "      <td id=\"T_53d42_row11_col15\" class=\"data row11 col15\" >0.471513</td>\n",
       "      <td id=\"T_53d42_row11_col16\" class=\"data row11 col16\" >0.016694</td>\n",
       "      <td id=\"T_53d42_row11_col17\" class=\"data row11 col17\" >0.035214</td>\n",
       "      <td id=\"T_53d42_row11_col18\" class=\"data row11 col18\" >0.307936</td>\n",
       "      <td id=\"T_53d42_row11_col19\" class=\"data row11 col19\" >0.040498</td>\n",
       "      <td id=\"T_53d42_row11_col20\" class=\"data row11 col20\" >0.036843</td>\n",
       "    </tr>\n",
       "    <tr>\n",
       "      <th id=\"T_53d42_level0_row12\" class=\"row_heading level0 row12\" >OnlineSecurity</th>\n",
       "      <td id=\"T_53d42_row12_col0\" class=\"data row12 col0\" >0.403560</td>\n",
       "      <td id=\"T_53d42_row12_col1\" class=\"data row12 col1\" >0.129611</td>\n",
       "      <td id=\"T_53d42_row12_col2\" class=\"data row12 col2\" >0.152145</td>\n",
       "      <td id=\"T_53d42_row12_col3\" class=\"data row12 col3\" >0.000000</td>\n",
       "      <td id=\"T_53d42_row12_col4\" class=\"data row12 col4\" >0.262911</td>\n",
       "      <td id=\"T_53d42_row12_col5\" class=\"data row12 col5\" >0.551621</td>\n",
       "      <td id=\"T_53d42_row12_col6\" class=\"data row12 col6\" >0.522090</td>\n",
       "      <td id=\"T_53d42_row12_col7\" class=\"data row12 col7\" >0.018397</td>\n",
       "      <td id=\"T_53d42_row12_col8\" class=\"data row12 col8\" >0.057028</td>\n",
       "      <td id=\"T_53d42_row12_col9\" class=\"data row12 col9\" >0.221673</td>\n",
       "      <td id=\"T_53d42_row12_col10\" class=\"data row12 col10\" >0.124945</td>\n",
       "      <td id=\"T_53d42_row12_col11\" class=\"data row12 col11\" >0.482773</td>\n",
       "      <td id=\"T_53d42_row12_col12\" class=\"data row12 col12\" >1.000000</td>\n",
       "      <td id=\"T_53d42_row12_col13\" class=\"data row12 col13\" >0.430425</td>\n",
       "      <td id=\"T_53d42_row12_col14\" class=\"data row12 col14\" >0.418474</td>\n",
       "      <td id=\"T_53d42_row12_col15\" class=\"data row12 col15\" >0.528391</td>\n",
       "      <td id=\"T_53d42_row12_col16\" class=\"data row12 col16\" >0.272186</td>\n",
       "      <td id=\"T_53d42_row12_col17\" class=\"data row12 col17\" >0.289097</td>\n",
       "      <td id=\"T_53d42_row12_col18\" class=\"data row12 col18\" >0.151886</td>\n",
       "      <td id=\"T_53d42_row12_col19\" class=\"data row12 col19\" >0.395693</td>\n",
       "      <td id=\"T_53d42_row12_col20\" class=\"data row12 col20\" >0.132594</td>\n",
       "    </tr>\n",
       "    <tr>\n",
       "      <th id=\"T_53d42_level0_row13\" class=\"row_heading level0 row13\" >OnlineBackup</th>\n",
       "      <td id=\"T_53d42_row13_col0\" class=\"data row13 col0\" >0.445583</td>\n",
       "      <td id=\"T_53d42_row13_col1\" class=\"data row13 col1\" >0.203659</td>\n",
       "      <td id=\"T_53d42_row13_col2\" class=\"data row13 col2\" >0.098884</td>\n",
       "      <td id=\"T_53d42_row13_col3\" class=\"data row13 col3\" >0.196443</td>\n",
       "      <td id=\"T_53d42_row13_col4\" class=\"data row13 col4\" >0.282475</td>\n",
       "      <td id=\"T_53d42_row13_col5\" class=\"data row13 col5\" >0.629541</td>\n",
       "      <td id=\"T_53d42_row13_col6\" class=\"data row13 col6\" >0.622445</td>\n",
       "      <td id=\"T_53d42_row13_col7\" class=\"data row13 col7\" >0.009882</td>\n",
       "      <td id=\"T_53d42_row13_col8\" class=\"data row13 col8\" >0.102065</td>\n",
       "      <td id=\"T_53d42_row13_col9\" class=\"data row13 col9\" >0.219223</td>\n",
       "      <td id=\"T_53d42_row13_col10\" class=\"data row13 col10\" >0.031533</td>\n",
       "      <td id=\"T_53d42_row13_col11\" class=\"data row13 col11\" >0.244322</td>\n",
       "      <td id=\"T_53d42_row13_col12\" class=\"data row13 col12\" >0.430425</td>\n",
       "      <td id=\"T_53d42_row13_col13\" class=\"data row13 col13\" >1.000000</td>\n",
       "      <td id=\"T_53d42_row13_col14\" class=\"data row13 col14\" >0.458211</td>\n",
       "      <td id=\"T_53d42_row13_col15\" class=\"data row13 col15\" >0.445130</td>\n",
       "      <td id=\"T_53d42_row13_col16\" class=\"data row13 col16\" >0.428007</td>\n",
       "      <td id=\"T_53d42_row13_col17\" class=\"data row13 col17\" >0.417170</td>\n",
       "      <td id=\"T_53d42_row13_col18\" class=\"data row13 col18\" >0.311403</td>\n",
       "      <td id=\"T_53d42_row13_col19\" class=\"data row13 col19\" >0.414982</td>\n",
       "      <td id=\"T_53d42_row13_col20\" class=\"data row13 col20\" >0.229482</td>\n",
       "    </tr>\n",
       "    <tr>\n",
       "      <th id=\"T_53d42_level0_row14\" class=\"row_heading level0 row14\" >DeviceProtection</th>\n",
       "      <td id=\"T_53d42_row14_col0\" class=\"data row14 col0\" >0.456002</td>\n",
       "      <td id=\"T_53d42_row14_col1\" class=\"data row14 col1\" >0.197691</td>\n",
       "      <td id=\"T_53d42_row14_col2\" class=\"data row14 col2\" >0.137610</td>\n",
       "      <td id=\"T_53d42_row14_col3\" class=\"data row14 col3\" >0.160796</td>\n",
       "      <td id=\"T_53d42_row14_col4\" class=\"data row14 col4\" >0.306866</td>\n",
       "      <td id=\"T_53d42_row14_col5\" class=\"data row14 col5\" >0.667481</td>\n",
       "      <td id=\"T_53d42_row14_col6\" class=\"data row14 col6\" >0.640977</td>\n",
       "      <td id=\"T_53d42_row14_col7\" class=\"data row14 col7\" >0.000000</td>\n",
       "      <td id=\"T_53d42_row14_col8\" class=\"data row14 col8\" >0.090686</td>\n",
       "      <td id=\"T_53d42_row14_col9\" class=\"data row14 col9\" >0.238079</td>\n",
       "      <td id=\"T_53d42_row14_col10\" class=\"data row14 col10\" >0.010416</td>\n",
       "      <td id=\"T_53d42_row14_col11\" class=\"data row14 col11\" >0.226565</td>\n",
       "      <td id=\"T_53d42_row14_col12\" class=\"data row14 col12\" >0.418474</td>\n",
       "      <td id=\"T_53d42_row14_col13\" class=\"data row14 col13\" >0.458211</td>\n",
       "      <td id=\"T_53d42_row14_col14\" class=\"data row14 col14\" >1.000000</td>\n",
       "      <td id=\"T_53d42_row14_col15\" class=\"data row14 col15\" >0.499267</td>\n",
       "      <td id=\"T_53d42_row14_col16\" class=\"data row14 col16\" >0.575536</td>\n",
       "      <td id=\"T_53d42_row14_col17\" class=\"data row14 col17\" >0.589888</td>\n",
       "      <td id=\"T_53d42_row14_col18\" class=\"data row14 col18\" >0.309757</td>\n",
       "      <td id=\"T_53d42_row14_col19\" class=\"data row14 col19\" >0.426931</td>\n",
       "      <td id=\"T_53d42_row14_col20\" class=\"data row14 col20\" >0.218380</td>\n",
       "    </tr>\n",
       "    <tr>\n",
       "      <th id=\"T_53d42_level0_row15\" class=\"row_heading level0 row15\" >TechSupport</th>\n",
       "      <td id=\"T_53d42_row15_col0\" class=\"data row15 col0\" >0.399506</td>\n",
       "      <td id=\"T_53d42_row15_col1\" class=\"data row15 col1\" >0.112812</td>\n",
       "      <td id=\"T_53d42_row15_col2\" class=\"data row15 col2\" >0.179999</td>\n",
       "      <td id=\"T_53d42_row15_col3\" class=\"data row15 col3\" >0.055929</td>\n",
       "      <td id=\"T_53d42_row15_col4\" class=\"data row15 col4\" >0.272101</td>\n",
       "      <td id=\"T_53d42_row15_col5\" class=\"data row15 col5\" >0.576525</td>\n",
       "      <td id=\"T_53d42_row15_col6\" class=\"data row15 col6\" >0.550065</td>\n",
       "      <td id=\"T_53d42_row15_col7\" class=\"data row15 col7\" >0.000000</td>\n",
       "      <td id=\"T_53d42_row15_col8\" class=\"data row15 col8\" >0.092565</td>\n",
       "      <td id=\"T_53d42_row15_col9\" class=\"data row15 col9\" >0.185993</td>\n",
       "      <td id=\"T_53d42_row15_col10\" class=\"data row15 col10\" >0.096912</td>\n",
       "      <td id=\"T_53d42_row15_col11\" class=\"data row15 col11\" >0.471513</td>\n",
       "      <td id=\"T_53d42_row15_col12\" class=\"data row15 col12\" >0.528391</td>\n",
       "      <td id=\"T_53d42_row15_col13\" class=\"data row15 col13\" >0.445130</td>\n",
       "      <td id=\"T_53d42_row15_col14\" class=\"data row15 col14\" >0.499267</td>\n",
       "      <td id=\"T_53d42_row15_col15\" class=\"data row15 col15\" >1.000000</td>\n",
       "      <td id=\"T_53d42_row15_col16\" class=\"data row15 col16\" >0.422242</td>\n",
       "      <td id=\"T_53d42_row15_col17\" class=\"data row15 col17\" >0.424078</td>\n",
       "      <td id=\"T_53d42_row15_col18\" class=\"data row15 col18\" >0.155739</td>\n",
       "      <td id=\"T_53d42_row15_col19\" class=\"data row15 col19\" >0.404795</td>\n",
       "      <td id=\"T_53d42_row15_col20\" class=\"data row15 col20\" >0.103652</td>\n",
       "    </tr>\n",
       "    <tr>\n",
       "      <th id=\"T_53d42_level0_row16\" class=\"row_heading level0 row16\" >StreamingTV</th>\n",
       "      <td id=\"T_53d42_row16_col0\" class=\"data row16 col0\" >0.359784</td>\n",
       "      <td id=\"T_53d42_row16_col1\" class=\"data row16 col1\" >0.164794</td>\n",
       "      <td id=\"T_53d42_row16_col2\" class=\"data row16 col2\" >0.066961</td>\n",
       "      <td id=\"T_53d42_row16_col3\" class=\"data row16 col3\" >0.343524</td>\n",
       "      <td id=\"T_53d42_row16_col4\" class=\"data row16 col4\" >0.377209</td>\n",
       "      <td id=\"T_53d42_row16_col5\" class=\"data row16 col5\" >0.835340</td>\n",
       "      <td id=\"T_53d42_row16_col6\" class=\"data row16 col6\" >0.641488</td>\n",
       "      <td id=\"T_53d42_row16_col7\" class=\"data row16 col7\" >0.000000</td>\n",
       "      <td id=\"T_53d42_row16_col8\" class=\"data row16 col8\" >0.163120</td>\n",
       "      <td id=\"T_53d42_row16_col9\" class=\"data row16 col9\" >0.193258</td>\n",
       "      <td id=\"T_53d42_row16_col10\" class=\"data row16 col10\" >0.017331</td>\n",
       "      <td id=\"T_53d42_row16_col11\" class=\"data row16 col11\" >0.016694</td>\n",
       "      <td id=\"T_53d42_row16_col12\" class=\"data row16 col12\" >0.272186</td>\n",
       "      <td id=\"T_53d42_row16_col13\" class=\"data row16 col13\" >0.428007</td>\n",
       "      <td id=\"T_53d42_row16_col14\" class=\"data row16 col14\" >0.575536</td>\n",
       "      <td id=\"T_53d42_row16_col15\" class=\"data row16 col15\" >0.422242</td>\n",
       "      <td id=\"T_53d42_row16_col16\" class=\"data row16 col16\" >1.000000</td>\n",
       "      <td id=\"T_53d42_row16_col17\" class=\"data row16 col17\" >0.742479</td>\n",
       "      <td id=\"T_53d42_row16_col18\" class=\"data row16 col18\" >0.392239</td>\n",
       "      <td id=\"T_53d42_row16_col19\" class=\"data row16 col19\" >0.339313</td>\n",
       "      <td id=\"T_53d42_row16_col20\" class=\"data row16 col20\" >0.200198</td>\n",
       "    </tr>\n",
       "    <tr>\n",
       "      <th id=\"T_53d42_level0_row17\" class=\"row_heading level0 row17\" >StreamingMovies</th>\n",
       "      <td id=\"T_53d42_row17_col0\" class=\"data row17 col0\" >0.371863</td>\n",
       "      <td id=\"T_53d42_row17_col1\" class=\"data row17 col1\" >0.177561</td>\n",
       "      <td id=\"T_53d42_row17_col2\" class=\"data row17 col2\" >0.069608</td>\n",
       "      <td id=\"T_53d42_row17_col3\" class=\"data row17 col3\" >0.325551</td>\n",
       "      <td id=\"T_53d42_row17_col4\" class=\"data row17 col4\" >0.378907</td>\n",
       "      <td id=\"T_53d42_row17_col5\" class=\"data row17 col5\" >0.833307</td>\n",
       "      <td id=\"T_53d42_row17_col6\" class=\"data row17 col6\" >0.643210</td>\n",
       "      <td id=\"T_53d42_row17_col7\" class=\"data row17 col7\" >0.000000</td>\n",
       "      <td id=\"T_53d42_row17_col8\" class=\"data row17 col8\" >0.186141</td>\n",
       "      <td id=\"T_53d42_row17_col9\" class=\"data row17 col9\" >0.182011</td>\n",
       "      <td id=\"T_53d42_row17_col10\" class=\"data row17 col10\" >0.058999</td>\n",
       "      <td id=\"T_53d42_row17_col11\" class=\"data row17 col11\" >0.035214</td>\n",
       "      <td id=\"T_53d42_row17_col12\" class=\"data row17 col12\" >0.289097</td>\n",
       "      <td id=\"T_53d42_row17_col13\" class=\"data row17 col13\" >0.417170</td>\n",
       "      <td id=\"T_53d42_row17_col14\" class=\"data row17 col14\" >0.589888</td>\n",
       "      <td id=\"T_53d42_row17_col15\" class=\"data row17 col15\" >0.424078</td>\n",
       "      <td id=\"T_53d42_row17_col16\" class=\"data row17 col16\" >0.742479</td>\n",
       "      <td id=\"T_53d42_row17_col17\" class=\"data row17 col17\" >1.000000</td>\n",
       "      <td id=\"T_53d42_row17_col18\" class=\"data row17 col18\" >0.394553</td>\n",
       "      <td id=\"T_53d42_row17_col19\" class=\"data row17 col19\" >0.339313</td>\n",
       "      <td id=\"T_53d42_row17_col20\" class=\"data row17 col20\" >0.222232</td>\n",
       "    </tr>\n",
       "    <tr>\n",
       "      <th id=\"T_53d42_level0_row18\" class=\"row_heading level0 row18\" >MultipleLines</th>\n",
       "      <td id=\"T_53d42_row18_col0\" class=\"data row18 col0\" >0.428109</td>\n",
       "      <td id=\"T_53d42_row18_col1\" class=\"data row18 col1\" >0.209337</td>\n",
       "      <td id=\"T_53d42_row18_col2\" class=\"data row18 col2\" >0.065498</td>\n",
       "      <td id=\"T_53d42_row18_col3\" class=\"data row18 col3\" >0.252972</td>\n",
       "      <td id=\"T_53d42_row18_col4\" class=\"data row18 col4\" >0.339313</td>\n",
       "      <td id=\"T_53d42_row18_col5\" class=\"data row18 col5\" >0.675883</td>\n",
       "      <td id=\"T_53d42_row18_col6\" class=\"data row18 col6\" >0.573191</td>\n",
       "      <td id=\"T_53d42_row18_col7\" class=\"data row18 col7\" >0.000000</td>\n",
       "      <td id=\"T_53d42_row18_col8\" class=\"data row18 col8\" >0.221313</td>\n",
       "      <td id=\"T_53d42_row18_col9\" class=\"data row18 col9\" >0.220101</td>\n",
       "      <td id=\"T_53d42_row18_col10\" class=\"data row18 col10\" >0.033103</td>\n",
       "      <td id=\"T_53d42_row18_col11\" class=\"data row18 col11\" >0.307936</td>\n",
       "      <td id=\"T_53d42_row18_col12\" class=\"data row18 col12\" >0.151886</td>\n",
       "      <td id=\"T_53d42_row18_col13\" class=\"data row18 col13\" >0.311403</td>\n",
       "      <td id=\"T_53d42_row18_col14\" class=\"data row18 col14\" >0.309757</td>\n",
       "      <td id=\"T_53d42_row18_col15\" class=\"data row18 col15\" >0.155739</td>\n",
       "      <td id=\"T_53d42_row18_col16\" class=\"data row18 col16\" >0.392239</td>\n",
       "      <td id=\"T_53d42_row18_col17\" class=\"data row18 col17\" >0.394553</td>\n",
       "      <td id=\"T_53d42_row18_col18\" class=\"data row18 col18\" >1.000000</td>\n",
       "      <td id=\"T_53d42_row18_col19\" class=\"data row18 col19\" >0.398222</td>\n",
       "      <td id=\"T_53d42_row18_col20\" class=\"data row18 col20\" >0.261237</td>\n",
       "    </tr>\n",
       "    <tr>\n",
       "      <th id=\"T_53d42_level0_row19\" class=\"row_heading level0 row19\" >duration</th>\n",
       "      <td id=\"T_53d42_row19_col0\" class=\"data row19 col0\" >0.978521</td>\n",
       "      <td id=\"T_53d42_row19_col1\" class=\"data row19 col1\" >0.396342</td>\n",
       "      <td id=\"T_53d42_row19_col2\" class=\"data row19 col2\" >0.634155</td>\n",
       "      <td id=\"T_53d42_row19_col3\" class=\"data row19 col3\" >0.026799</td>\n",
       "      <td id=\"T_53d42_row19_col4\" class=\"data row19 col4\" >0.350964</td>\n",
       "      <td id=\"T_53d42_row19_col5\" class=\"data row19 col5\" >0.387727</td>\n",
       "      <td id=\"T_53d42_row19_col6\" class=\"data row19 col6\" >0.848337</td>\n",
       "      <td id=\"T_53d42_row19_col7\" class=\"data row19 col7\" >0.000000</td>\n",
       "      <td id=\"T_53d42_row19_col8\" class=\"data row19 col8\" >0.063315</td>\n",
       "      <td id=\"T_53d42_row19_col9\" class=\"data row19 col9\" >0.453688</td>\n",
       "      <td id=\"T_53d42_row19_col10\" class=\"data row19 col10\" >0.198729</td>\n",
       "      <td id=\"T_53d42_row19_col11\" class=\"data row19 col11\" >0.040498</td>\n",
       "      <td id=\"T_53d42_row19_col12\" class=\"data row19 col12\" >0.395693</td>\n",
       "      <td id=\"T_53d42_row19_col13\" class=\"data row19 col13\" >0.414982</td>\n",
       "      <td id=\"T_53d42_row19_col14\" class=\"data row19 col14\" >0.426931</td>\n",
       "      <td id=\"T_53d42_row19_col15\" class=\"data row19 col15\" >0.404795</td>\n",
       "      <td id=\"T_53d42_row19_col16\" class=\"data row19 col16\" >0.339313</td>\n",
       "      <td id=\"T_53d42_row19_col17\" class=\"data row19 col17\" >0.339313</td>\n",
       "      <td id=\"T_53d42_row19_col18\" class=\"data row19 col18\" >0.398222</td>\n",
       "      <td id=\"T_53d42_row19_col19\" class=\"data row19 col19\" >1.000000</td>\n",
       "      <td id=\"T_53d42_row19_col20\" class=\"data row19 col20\" >0.374569</td>\n",
       "    </tr>\n",
       "    <tr>\n",
       "      <th id=\"T_53d42_level0_row20\" class=\"row_heading level0 row20\" >is_lost_customer</th>\n",
       "      <td id=\"T_53d42_row20_col0\" class=\"data row20 col0\" >0.450254</td>\n",
       "      <td id=\"T_53d42_row20_col1\" class=\"data row20 col1\" >1.000000</td>\n",
       "      <td id=\"T_53d42_row20_col2\" class=\"data row20 col2\" >0.094015</td>\n",
       "      <td id=\"T_53d42_row20_col3\" class=\"data row20 col3\" >0.083398</td>\n",
       "      <td id=\"T_53d42_row20_col4\" class=\"data row20 col4\" >0.214832</td>\n",
       "      <td id=\"T_53d42_row20_col5\" class=\"data row20 col5\" >0.226280</td>\n",
       "      <td id=\"T_53d42_row20_col6\" class=\"data row20 col6\" >0.302890</td>\n",
       "      <td id=\"T_53d42_row20_col7\" class=\"data row20 col7\" >0.008581</td>\n",
       "      <td id=\"T_53d42_row20_col8\" class=\"data row20 col8\" >0.086159</td>\n",
       "      <td id=\"T_53d42_row20_col9\" class=\"data row20 col9\" >0.226688</td>\n",
       "      <td id=\"T_53d42_row20_col10\" class=\"data row20 col10\" >0.046871</td>\n",
       "      <td id=\"T_53d42_row20_col11\" class=\"data row20 col11\" >0.036843</td>\n",
       "      <td id=\"T_53d42_row20_col12\" class=\"data row20 col12\" >0.132594</td>\n",
       "      <td id=\"T_53d42_row20_col13\" class=\"data row20 col13\" >0.229482</td>\n",
       "      <td id=\"T_53d42_row20_col14\" class=\"data row20 col14\" >0.218380</td>\n",
       "      <td id=\"T_53d42_row20_col15\" class=\"data row20 col15\" >0.103652</td>\n",
       "      <td id=\"T_53d42_row20_col16\" class=\"data row20 col16\" >0.200198</td>\n",
       "      <td id=\"T_53d42_row20_col17\" class=\"data row20 col17\" >0.222232</td>\n",
       "      <td id=\"T_53d42_row20_col18\" class=\"data row20 col18\" >0.261237</td>\n",
       "      <td id=\"T_53d42_row20_col19\" class=\"data row20 col19\" >0.374569</td>\n",
       "      <td id=\"T_53d42_row20_col20\" class=\"data row20 col20\" >1.000000</td>\n",
       "    </tr>\n",
       "  </tbody>\n",
       "</table>\n"
      ],
      "text/plain": [
       "<pandas.io.formats.style.Styler at 0x7f2b358f0c10>"
      ]
     },
     "execution_count": 42,
     "metadata": {},
     "output_type": "execute_result"
    }
   ],
   "source": [
    "# построить матрицу корреляций\n",
    "df.phik_matrix().style.background_gradient(cmap='coolwarm')"
   ]
  },
  {
   "cell_type": "markdown",
   "id": "6d44076b",
   "metadata": {},
   "source": [
    "Можно заметить, что наибольшая зависимость между (1) ежемесячными тратами и использованием DSL, а также (2) продолжительностью использования услуг и суммой общих затрат, что является доволно логичным: (1) DSL - относительно дорогая дополнительная услуга, поэтому ежемесячный платёж вырастает, (2) чем дольше ты пользуешься услугами, тем больше ты в сумме заплатишь. Также довольно высокая корреляция между общей суммой трат и месячной суммой трат, что тоже является логичным: чем больше ты платишь в месяц, тем больше будет общая сумма трат.  \n",
    "  \n",
    "Также стоит отметить, что есть зависимость между некоторыми дополнительными услугами (стриминговое тв-вещание и каталогом фильмов) и ежемесячными тратами.  \n",
    "  \n",
    "Остальные признаки имеют как положительную, так и отрицательную умеренную и слабую корреляцию."
   ]
  },
  {
   "cell_type": "markdown",
   "id": "9deb83b4",
   "metadata": {},
   "source": [
    "На основании данной корреляционной матрицы трудно однозначно сказать о наличии мультиколлинеарности. Мультиколлинеарность возникает, когда между признаками существует высокая линейная зависимость.\n",
    "\n",
    "В данном случае есть некоторые признаки с довольно высокой корреляцией, такие как продолжительность использования услуг и общие затраты, что может вызывать проблемы при оценке и интерпретации коэффициентов регрессии. Однако, наличие корреляции не всегда означает грубую мультиколлинеарность, и необходимы дополнительные анализы, например, проверка наличия мультиколлинеарности посредством анализа дисперсионных инфляционных факторов (VIF)."
   ]
  },
  {
   "cell_type": "code",
   "execution_count": 43,
   "id": "2666d001",
   "metadata": {},
   "outputs": [
    {
     "name": "stdout",
     "output_type": "stream",
     "text": [
      "         Features        VIF\n",
      "0           const  15.966794\n",
      "1  MonthlyCharges   3.097427\n",
      "2    TotalCharges   8.925351\n",
      "3        duration   5.641082\n",
      "4          is_DSL   1.031524\n"
     ]
    }
   ],
   "source": [
    "# создать dataframe с выбранными столбцами\n",
    "df_selected = df[['MonthlyCharges', 'TotalCharges', 'duration', 'is_DSL']]\n",
    "\n",
    "# добавить столбец с константой для использования в модели statsmodels\n",
    "df_selected = sm.add_constant(df_selected)\n",
    "\n",
    "# вычислить vif\n",
    "vif = pd.DataFrame()\n",
    "vif[\"Features\"] = df_selected.columns\n",
    "vif[\"VIF\"] = [variance_inflation_factor(df_selected.values, i) for i in range(df_selected.shape[1])]\n",
    "\n",
    "print(vif)"
   ]
  },
  {
   "cell_type": "markdown",
   "id": "99b424e5",
   "metadata": {},
   "source": [
    "Из полученных результатов можно сделать следующие выводы:\n",
    "\n",
    "1. <code>const</code> (константа): Значение VIF для константы составляет 14.582773, что говорит о наличии некоторой мультиколлинеарности с объясняющими переменными в модели. Однако это вполне обычно для моделей, в которых используется константа.\n",
    "\n",
    "2. <code>MonthlyCharges</code> (ежемесячные траты): Значение VIF равно 3.038929, что ниже значительного порога в 5. Это говорит о том, что между <code>MonthlyCharges</code> и другими признаками относительно низкая или отсутствующая мультиколлинеарность.\n",
    "\n",
    "3. <code>TotalCharges</code> (общие траты): Значение VIF составляет 8.905076, что превышает замечательный порог в 5. Это указывает на наличие мультиколлинеарности между <code>TotalCharges</code> и другими объясняющими переменными.\n",
    "\n",
    "4. <code>duration</code> (продолжительность): Значение VIF равно 5.638761, что также превышает порог в 5. Это указывает на наличие мультиколлинеарности между <code>duration</code> и другими переменными в модели.  \n",
    "  \n",
    "5. <code>is_DSL</code>: Значение VIF равно 1.031524, что ниже значительного порога в 5. Это говорит о том, что между <code>is_DSL</code> и другими признаками относительно низкая или отсутствующая мультиколлинеарность.\n",
    "\n",
    "Таким образом, результаты показывают, что <code>TotalCharges</code> и <code>duration</code> имеют проблему мультиколлинеарности с другими переменными в модели. О причинах возникновения сильной корреляции я писал выше. Для построения моделей удалим <code>TotalCharges</code>."
   ]
  },
  {
   "cell_type": "code",
   "execution_count": 44,
   "id": "95b005d8",
   "metadata": {},
   "outputs": [],
   "source": [
    "# удалить столбец\n",
    "df.drop(['TotalCharges'], axis= 1, inplace= True)"
   ]
  },
  {
   "cell_type": "markdown",
   "id": "ba2f539a",
   "metadata": {},
   "source": [
    "**Дисбаланс классов**"
   ]
  },
  {
   "cell_type": "markdown",
   "id": "91dd4421",
   "metadata": {},
   "source": [
    "Проверим баланс классов целевого признака."
   ]
  },
  {
   "cell_type": "code",
   "execution_count": 45,
   "id": "f2f64c0e",
   "metadata": {},
   "outputs": [
    {
     "data": {
      "text/plain": [
       "is_lost_customer\n",
       "0    0.843675\n",
       "1    0.156325\n",
       "Name: proportion, dtype: float64"
      ]
     },
     "execution_count": 45,
     "metadata": {},
     "output_type": "execute_result"
    }
   ],
   "source": [
    "df['is_lost_customer'].value_counts(normalize=True)"
   ]
  },
  {
   "cell_type": "markdown",
   "id": "002386f4",
   "metadata": {},
   "source": [
    "Как видно, классы являются несбалансированными, поскольку делятся примерно в соотношении 85% и 15%."
   ]
  },
  {
   "cell_type": "markdown",
   "id": "0ca2a890",
   "metadata": {},
   "source": [
    "Но есть некоторые ситуации, когда не требуется особо бороться с дисбалансом классов в машинном обучении, например: когда используется подходы, устойчивые к дисбалансу классов. Некоторые алгоритмы машинного обучения, такие как случайный лес (Random Forest), градиентный бустинг (Gradient Boosting, могут быть устойчивыми к дисбалансу классов, и сами по себе могут хорошо работать в таких условиях.\n",
    "\n",
    "Также критерий AUC-ROC, который мы будем использовать, устойчив к несбалансированным классам.  \n",
    "  \n",
    "Поэтому бороться с дисбалансом не будем."
   ]
  },
  {
   "cell_type": "code",
   "execution_count": 46,
   "id": "2c3c3bc9",
   "metadata": {},
   "outputs": [
    {
     "data": {
      "image/png": "[encoded data removed]",
      "text/plain": [
       "<Figure size 432x288 with 1 Axes>"
      ]
     },
     "metadata": {
      "needs_background": "light"
     },
     "output_type": "display_data"
    },
    {
     "data": {
      "image/png": "[encoded data removed]",
      "text/plain": [
       "<Figure size 432x288 with 1 Axes>"
      ]
     },
     "metadata": {
      "needs_background": "light"
     },
     "output_type": "display_data"
    }
   ],
   "source": [
    "category = df.copy()\n",
    "category = category[['Type', 'PaymentMethod']]\n",
    "\n",
    "# создать функцию для построения столбчатой диаграммы\n",
    "def plot_categorical_feature(feature):\n",
    "    feature_counts = category[feature].value_counts()\n",
    "    plt.bar(feature_counts.index, feature_counts.values)\n",
    "    plt.xlabel(feature)\n",
    "    plt.ylabel('Количество')\n",
    "    plt.title(f'Распределение по {feature}')\n",
    "    plt.show()\n",
    "\n",
    "# построить столбчатые диаграммы для каждого категориального признака\n",
    "for feature in category.columns:\n",
    "    plot_categorical_feature(feature)"
   ]
  },
  {
   "cell_type": "markdown",
   "id": "d04c0e1e",
   "metadata": {},
   "source": [
    "1. <code>Type</code>: большинство клиентов предпочитает ежемесячную оплату услуг.\n",
    "\n",
    "2. <code>PaymentMethod</code>: большинство клиентов предпочитает электронную оплату."
   ]
  },
  {
   "cell_type": "markdown",
   "id": "6ef324a6",
   "metadata": {},
   "source": [
    "**ВЫВОДЫ**  \n",
    "1. **Клиенты с высокими ежемесячными тратами на телефонную связь чаще используют дополнительные услуги**, такие как онлайн-защита, резервное копирование, защита устройств, техническая поддержка и стриминговое тв-вещание и каталог фильмов. Они также чаще используют безналичный расчет. В то же время, **клиенты с невысокими ежемесячными тратами предпочитают менее дорогие планы и реже используют дополнительные услуги**.\n",
    "2. Был выделен целевой признак - ушёл ли клиент - в новый столбец <code>is_lost_customer</code>, в котором 1 - клиент ушёл, 0 - клиент не ушёл.\n",
    "3. Изучено наличие мультиколлинеарности с помощью матрицы корреляций и анализа дисперсионных инфляционных факторов. Было выявлено, что <code>TotalCharges</code> и <code>duration</code> имеют проблему мультиколлинеарности с другими переменными в модели. Столбец <code>TotalCharges</code> был удален.\n",
    "4. Изучен дисбаланс классов: классы являются несбалансированными, поскольку делятся примерно в соотношении 85% и 15%, но бороться с этим не будем, так как будем использовать подходы и метрику, которые устойчивы к дисбалансу классов."
   ]
  },
  {
   "cell_type": "markdown",
   "id": "9d97e73f",
   "metadata": {},
   "source": [
    "## Подготовка признаков и выборок"
   ]
  },
  {
   "cell_type": "markdown",
   "id": "9f260d1d",
   "metadata": {},
   "source": [
    "Удалим признаки <code>BeginDate</code> и <code>EndDate</code>, так как у нас есть <code>duration</code>."
   ]
  },
  {
   "cell_type": "code",
   "execution_count": 47,
   "id": "d07ce467",
   "metadata": {},
   "outputs": [],
   "source": [
    "# удалить столбцы\n",
    "df.drop(['BeginDate', 'EndDate'], axis= 1, inplace= True)"
   ]
  },
  {
   "cell_type": "code",
   "execution_count": 48,
   "id": "860d1f12",
   "metadata": {},
   "outputs": [
    {
     "data": {
      "text/html": [
       "<div>\n",
       "<style scoped>\n",
       "    .dataframe tbody tr th:only-of-type {\n",
       "        vertical-align: middle;\n",
       "    }\n",
       "\n",
       "    .dataframe tbody tr th {\n",
       "        vertical-align: top;\n",
       "    }\n",
       "\n",
       "    .dataframe thead th {\n",
       "        text-align: right;\n",
       "    }\n",
       "</style>\n",
       "<table border=\"1\" class=\"dataframe\">\n",
       "  <thead>\n",
       "    <tr style=\"text-align: right;\">\n",
       "      <th></th>\n",
       "      <th>Type</th>\n",
       "      <th>PaperlessBilling</th>\n",
       "      <th>PaymentMethod</th>\n",
       "      <th>MonthlyCharges</th>\n",
       "      <th>is_male</th>\n",
       "      <th>SeniorCitizen</th>\n",
       "      <th>Partner</th>\n",
       "      <th>Dependents</th>\n",
       "      <th>is_DSL</th>\n",
       "      <th>OnlineSecurity</th>\n",
       "      <th>OnlineBackup</th>\n",
       "      <th>DeviceProtection</th>\n",
       "      <th>TechSupport</th>\n",
       "      <th>StreamingTV</th>\n",
       "      <th>StreamingMovies</th>\n",
       "      <th>MultipleLines</th>\n",
       "      <th>duration</th>\n",
       "      <th>is_lost_customer</th>\n",
       "    </tr>\n",
       "    <tr>\n",
       "      <th>customerID</th>\n",
       "      <th></th>\n",
       "      <th></th>\n",
       "      <th></th>\n",
       "      <th></th>\n",
       "      <th></th>\n",
       "      <th></th>\n",
       "      <th></th>\n",
       "      <th></th>\n",
       "      <th></th>\n",
       "      <th></th>\n",
       "      <th></th>\n",
       "      <th></th>\n",
       "      <th></th>\n",
       "      <th></th>\n",
       "      <th></th>\n",
       "      <th></th>\n",
       "      <th></th>\n",
       "      <th></th>\n",
       "    </tr>\n",
       "  </thead>\n",
       "  <tbody>\n",
       "    <tr>\n",
       "      <th>7590-VHVEG</th>\n",
       "      <td>Month-to-month</td>\n",
       "      <td>1</td>\n",
       "      <td>Electronic check</td>\n",
       "      <td>29.85</td>\n",
       "      <td>0</td>\n",
       "      <td>0</td>\n",
       "      <td>1</td>\n",
       "      <td>0</td>\n",
       "      <td>1</td>\n",
       "      <td>0</td>\n",
       "      <td>1</td>\n",
       "      <td>0</td>\n",
       "      <td>0</td>\n",
       "      <td>0</td>\n",
       "      <td>0</td>\n",
       "      <td>0</td>\n",
       "      <td>31</td>\n",
       "      <td>0</td>\n",
       "    </tr>\n",
       "    <tr>\n",
       "      <th>5575-GNVDE</th>\n",
       "      <td>One year</td>\n",
       "      <td>0</td>\n",
       "      <td>Mailed check</td>\n",
       "      <td>56.95</td>\n",
       "      <td>1</td>\n",
       "      <td>0</td>\n",
       "      <td>0</td>\n",
       "      <td>0</td>\n",
       "      <td>1</td>\n",
       "      <td>1</td>\n",
       "      <td>0</td>\n",
       "      <td>1</td>\n",
       "      <td>0</td>\n",
       "      <td>0</td>\n",
       "      <td>0</td>\n",
       "      <td>0</td>\n",
       "      <td>1036</td>\n",
       "      <td>0</td>\n",
       "    </tr>\n",
       "    <tr>\n",
       "      <th>3668-QPYBK</th>\n",
       "      <td>Month-to-month</td>\n",
       "      <td>1</td>\n",
       "      <td>Mailed check</td>\n",
       "      <td>53.85</td>\n",
       "      <td>1</td>\n",
       "      <td>0</td>\n",
       "      <td>0</td>\n",
       "      <td>0</td>\n",
       "      <td>1</td>\n",
       "      <td>1</td>\n",
       "      <td>1</td>\n",
       "      <td>0</td>\n",
       "      <td>0</td>\n",
       "      <td>0</td>\n",
       "      <td>0</td>\n",
       "      <td>0</td>\n",
       "      <td>123</td>\n",
       "      <td>0</td>\n",
       "    </tr>\n",
       "    <tr>\n",
       "      <th>7795-CFOCW</th>\n",
       "      <td>One year</td>\n",
       "      <td>0</td>\n",
       "      <td>Bank transfer (automatic)</td>\n",
       "      <td>42.30</td>\n",
       "      <td>1</td>\n",
       "      <td>0</td>\n",
       "      <td>0</td>\n",
       "      <td>0</td>\n",
       "      <td>1</td>\n",
       "      <td>1</td>\n",
       "      <td>0</td>\n",
       "      <td>1</td>\n",
       "      <td>1</td>\n",
       "      <td>0</td>\n",
       "      <td>0</td>\n",
       "      <td>0</td>\n",
       "      <td>1371</td>\n",
       "      <td>0</td>\n",
       "    </tr>\n",
       "    <tr>\n",
       "      <th>9237-HQITU</th>\n",
       "      <td>Month-to-month</td>\n",
       "      <td>1</td>\n",
       "      <td>Electronic check</td>\n",
       "      <td>70.70</td>\n",
       "      <td>0</td>\n",
       "      <td>0</td>\n",
       "      <td>0</td>\n",
       "      <td>0</td>\n",
       "      <td>0</td>\n",
       "      <td>0</td>\n",
       "      <td>0</td>\n",
       "      <td>0</td>\n",
       "      <td>0</td>\n",
       "      <td>0</td>\n",
       "      <td>0</td>\n",
       "      <td>0</td>\n",
       "      <td>153</td>\n",
       "      <td>0</td>\n",
       "    </tr>\n",
       "  </tbody>\n",
       "</table>\n",
       "</div>"
      ],
      "text/plain": [
       "                      Type  PaperlessBilling              PaymentMethod  \\\n",
       "customerID                                                                \n",
       "7590-VHVEG  Month-to-month                 1           Electronic check   \n",
       "5575-GNVDE        One year                 0               Mailed check   \n",
       "3668-QPYBK  Month-to-month                 1               Mailed check   \n",
       "7795-CFOCW        One year                 0  Bank transfer (automatic)   \n",
       "9237-HQITU  Month-to-month                 1           Electronic check   \n",
       "\n",
       "            MonthlyCharges  is_male  SeniorCitizen  Partner  Dependents  \\\n",
       "customerID                                                                \n",
       "7590-VHVEG           29.85        0              0        1           0   \n",
       "5575-GNVDE           56.95        1              0        0           0   \n",
       "3668-QPYBK           53.85        1              0        0           0   \n",
       "7795-CFOCW           42.30        1              0        0           0   \n",
       "9237-HQITU           70.70        0              0        0           0   \n",
       "\n",
       "            is_DSL  OnlineSecurity  OnlineBackup  DeviceProtection  \\\n",
       "customerID                                                           \n",
       "7590-VHVEG       1               0             1                 0   \n",
       "5575-GNVDE       1               1             0                 1   \n",
       "3668-QPYBK       1               1             1                 0   \n",
       "7795-CFOCW       1               1             0                 1   \n",
       "9237-HQITU       0               0             0                 0   \n",
       "\n",
       "            TechSupport  StreamingTV  StreamingMovies  MultipleLines  \\\n",
       "customerID                                                             \n",
       "7590-VHVEG            0            0                0              0   \n",
       "5575-GNVDE            0            0                0              0   \n",
       "3668-QPYBK            0            0                0              0   \n",
       "7795-CFOCW            1            0                0              0   \n",
       "9237-HQITU            0            0                0              0   \n",
       "\n",
       "            duration  is_lost_customer  \n",
       "customerID                              \n",
       "7590-VHVEG        31                 0  \n",
       "5575-GNVDE      1036                 0  \n",
       "3668-QPYBK       123                 0  \n",
       "7795-CFOCW      1371                 0  \n",
       "9237-HQITU       153                 0  "
      ]
     },
     "execution_count": 48,
     "metadata": {},
     "output_type": "execute_result"
    }
   ],
   "source": [
    "df.head()"
   ]
  },
  {
   "cell_type": "markdown",
   "id": "bb0fba58",
   "metadata": {},
   "source": [
    "Разделим получившиеся данные на признаки, а далее на выборки в отношении 3:1."
   ]
  },
  {
   "cell_type": "code",
   "execution_count": 49,
   "id": "ff6903b5",
   "metadata": {},
   "outputs": [],
   "source": [
    "# разделить данные на признаки\n",
    "features = df.drop(['is_lost_customer'],axis=1)\n",
    "target = df['is_lost_customer']"
   ]
  },
  {
   "cell_type": "code",
   "execution_count": 50,
   "id": "21b29b66",
   "metadata": {},
   "outputs": [],
   "source": [
    "# разделить данные на тестовую и обучающую выборки\n",
    "features_train, features_test, target_train, target_test = train_test_split(\n",
    "    features, target, test_size=0.25, random_state=30723)"
   ]
  },
  {
   "cell_type": "markdown",
   "id": "4c167f1d",
   "metadata": {},
   "source": [
    "Необходимо подготовить данные для моделирования. Многие модели машинного обучения требуют числовых данных. Прямое кодирование позволяет перевести категориальные признаки в числовые, что упрощает использование таких моделей."
   ]
  },
  {
   "cell_type": "code",
   "execution_count": 51,
   "id": "ffaff41b",
   "metadata": {},
   "outputs": [],
   "source": [
    "numeric = ['MonthlyCharges', 'duration']\n",
    "category_features = df.copy()\n",
    "category_features.drop(['MonthlyCharges', 'duration', 'is_lost_customer'], axis=1, inplace=True)"
   ]
  },
  {
   "cell_type": "code",
   "execution_count": 52,
   "id": "f674c9a4",
   "metadata": {},
   "outputs": [],
   "source": [
    "# порядковое кодирование\n",
    "encoder = OrdinalEncoder(handle_unknown='use_encoded_value', unknown_value=9999)\n",
    "cat_columns = category_features.columns.tolist()\n",
    "encoder.fit(features_train[cat_columns])\n",
    "\n",
    "features_train_ord = features_train.copy()\n",
    "features_test_ord = features_test.copy()\n",
    "\n",
    "features_train_ord[cat_columns] = encoder.transform(features_train_ord[cat_columns])\n",
    "features_test_ord[cat_columns] = encoder.transform(features_test_ord[cat_columns])"
   ]
  },
  {
   "cell_type": "code",
   "execution_count": 53,
   "id": "11c8624c",
   "metadata": {},
   "outputs": [
    {
     "data": {
      "text/html": [
       "<div>\n",
       "<style scoped>\n",
       "    .dataframe tbody tr th:only-of-type {\n",
       "        vertical-align: middle;\n",
       "    }\n",
       "\n",
       "    .dataframe tbody tr th {\n",
       "        vertical-align: top;\n",
       "    }\n",
       "\n",
       "    .dataframe thead th {\n",
       "        text-align: right;\n",
       "    }\n",
       "</style>\n",
       "<table border=\"1\" class=\"dataframe\">\n",
       "  <thead>\n",
       "    <tr style=\"text-align: right;\">\n",
       "      <th></th>\n",
       "      <th>Type</th>\n",
       "      <th>PaperlessBilling</th>\n",
       "      <th>PaymentMethod</th>\n",
       "      <th>MonthlyCharges</th>\n",
       "      <th>is_male</th>\n",
       "      <th>SeniorCitizen</th>\n",
       "      <th>Partner</th>\n",
       "      <th>Dependents</th>\n",
       "      <th>is_DSL</th>\n",
       "      <th>OnlineSecurity</th>\n",
       "      <th>OnlineBackup</th>\n",
       "      <th>DeviceProtection</th>\n",
       "      <th>TechSupport</th>\n",
       "      <th>StreamingTV</th>\n",
       "      <th>StreamingMovies</th>\n",
       "      <th>MultipleLines</th>\n",
       "      <th>duration</th>\n",
       "      <th>is_lost</th>\n",
       "    </tr>\n",
       "    <tr>\n",
       "      <th>customerID</th>\n",
       "      <th></th>\n",
       "      <th></th>\n",
       "      <th></th>\n",
       "      <th></th>\n",
       "      <th></th>\n",
       "      <th></th>\n",
       "      <th></th>\n",
       "      <th></th>\n",
       "      <th></th>\n",
       "      <th></th>\n",
       "      <th></th>\n",
       "      <th></th>\n",
       "      <th></th>\n",
       "      <th></th>\n",
       "      <th></th>\n",
       "      <th></th>\n",
       "      <th></th>\n",
       "      <th></th>\n",
       "    </tr>\n",
       "  </thead>\n",
       "  <tbody>\n",
       "    <tr>\n",
       "      <th>7590-VHVEG</th>\n",
       "      <td>Month-to-month</td>\n",
       "      <td>1</td>\n",
       "      <td>Electronic check</td>\n",
       "      <td>29.85</td>\n",
       "      <td>0</td>\n",
       "      <td>0</td>\n",
       "      <td>1</td>\n",
       "      <td>0</td>\n",
       "      <td>1</td>\n",
       "      <td>0</td>\n",
       "      <td>1</td>\n",
       "      <td>0</td>\n",
       "      <td>0</td>\n",
       "      <td>0</td>\n",
       "      <td>0</td>\n",
       "      <td>0</td>\n",
       "      <td>31</td>\n",
       "      <td>0</td>\n",
       "    </tr>\n",
       "    <tr>\n",
       "      <th>5575-GNVDE</th>\n",
       "      <td>One year</td>\n",
       "      <td>0</td>\n",
       "      <td>Mailed check</td>\n",
       "      <td>56.95</td>\n",
       "      <td>1</td>\n",
       "      <td>0</td>\n",
       "      <td>0</td>\n",
       "      <td>0</td>\n",
       "      <td>1</td>\n",
       "      <td>1</td>\n",
       "      <td>0</td>\n",
       "      <td>1</td>\n",
       "      <td>0</td>\n",
       "      <td>0</td>\n",
       "      <td>0</td>\n",
       "      <td>0</td>\n",
       "      <td>1036</td>\n",
       "      <td>0</td>\n",
       "    </tr>\n",
       "    <tr>\n",
       "      <th>3668-QPYBK</th>\n",
       "      <td>Month-to-month</td>\n",
       "      <td>1</td>\n",
       "      <td>Mailed check</td>\n",
       "      <td>53.85</td>\n",
       "      <td>1</td>\n",
       "      <td>0</td>\n",
       "      <td>0</td>\n",
       "      <td>0</td>\n",
       "      <td>1</td>\n",
       "      <td>1</td>\n",
       "      <td>1</td>\n",
       "      <td>0</td>\n",
       "      <td>0</td>\n",
       "      <td>0</td>\n",
       "      <td>0</td>\n",
       "      <td>0</td>\n",
       "      <td>123</td>\n",
       "      <td>0</td>\n",
       "    </tr>\n",
       "    <tr>\n",
       "      <th>7795-CFOCW</th>\n",
       "      <td>One year</td>\n",
       "      <td>0</td>\n",
       "      <td>Bank transfer (automatic)</td>\n",
       "      <td>42.30</td>\n",
       "      <td>1</td>\n",
       "      <td>0</td>\n",
       "      <td>0</td>\n",
       "      <td>0</td>\n",
       "      <td>1</td>\n",
       "      <td>1</td>\n",
       "      <td>0</td>\n",
       "      <td>1</td>\n",
       "      <td>1</td>\n",
       "      <td>0</td>\n",
       "      <td>0</td>\n",
       "      <td>0</td>\n",
       "      <td>1371</td>\n",
       "      <td>0</td>\n",
       "    </tr>\n",
       "    <tr>\n",
       "      <th>9237-HQITU</th>\n",
       "      <td>Month-to-month</td>\n",
       "      <td>1</td>\n",
       "      <td>Electronic check</td>\n",
       "      <td>70.70</td>\n",
       "      <td>0</td>\n",
       "      <td>0</td>\n",
       "      <td>0</td>\n",
       "      <td>0</td>\n",
       "      <td>0</td>\n",
       "      <td>0</td>\n",
       "      <td>0</td>\n",
       "      <td>0</td>\n",
       "      <td>0</td>\n",
       "      <td>0</td>\n",
       "      <td>0</td>\n",
       "      <td>0</td>\n",
       "      <td>153</td>\n",
       "      <td>0</td>\n",
       "    </tr>\n",
       "  </tbody>\n",
       "</table>\n",
       "</div>"
      ],
      "text/plain": [
       "                      Type  PaperlessBilling              PaymentMethod  \\\n",
       "customerID                                                                \n",
       "7590-VHVEG  Month-to-month                 1           Electronic check   \n",
       "5575-GNVDE        One year                 0               Mailed check   \n",
       "3668-QPYBK  Month-to-month                 1               Mailed check   \n",
       "7795-CFOCW        One year                 0  Bank transfer (automatic)   \n",
       "9237-HQITU  Month-to-month                 1           Electronic check   \n",
       "\n",
       "            MonthlyCharges  is_male  SeniorCitizen  Partner  Dependents  \\\n",
       "customerID                                                                \n",
       "7590-VHVEG           29.85        0              0        1           0   \n",
       "5575-GNVDE           56.95        1              0        0           0   \n",
       "3668-QPYBK           53.85        1              0        0           0   \n",
       "7795-CFOCW           42.30        1              0        0           0   \n",
       "9237-HQITU           70.70        0              0        0           0   \n",
       "\n",
       "            is_DSL  OnlineSecurity  OnlineBackup  DeviceProtection  \\\n",
       "customerID                                                           \n",
       "7590-VHVEG       1               0             1                 0   \n",
       "5575-GNVDE       1               1             0                 1   \n",
       "3668-QPYBK       1               1             1                 0   \n",
       "7795-CFOCW       1               1             0                 1   \n",
       "9237-HQITU       0               0             0                 0   \n",
       "\n",
       "            TechSupport  StreamingTV  StreamingMovies  MultipleLines  \\\n",
       "customerID                                                             \n",
       "7590-VHVEG            0            0                0              0   \n",
       "5575-GNVDE            0            0                0              0   \n",
       "3668-QPYBK            0            0                0              0   \n",
       "7795-CFOCW            1            0                0              0   \n",
       "9237-HQITU            0            0                0              0   \n",
       "\n",
       "            duration  is_lost  \n",
       "customerID                     \n",
       "7590-VHVEG        31        0  \n",
       "5575-GNVDE      1036        0  \n",
       "3668-QPYBK       123        0  \n",
       "7795-CFOCW      1371        0  \n",
       "9237-HQITU       153        0  "
      ]
     },
     "execution_count": 53,
     "metadata": {},
     "output_type": "execute_result"
    }
   ],
   "source": [
    "df.rename(columns = {'is_lost_customer': 'is_lost'}, inplace = True )\n",
    "df.head()"
   ]
  },
  {
   "cell_type": "markdown",
   "id": "2b94e95c",
   "metadata": {},
   "source": [
    "StandardScaler необходимо применить, когда характеристики входного набора данных сильно различаются между диапазонами или когда они измеряются в разных единицах измерения."
   ]
  },
  {
   "cell_type": "code",
   "execution_count": 54,
   "id": "ee4379ce",
   "metadata": {},
   "outputs": [
    {
     "name": "stdout",
     "output_type": "stream",
     "text": [
      "(5282, 17)\n",
      "(1761, 17)\n"
     ]
    },
    {
     "data": {
      "text/html": [
       "<div>\n",
       "<style scoped>\n",
       "    .dataframe tbody tr th:only-of-type {\n",
       "        vertical-align: middle;\n",
       "    }\n",
       "\n",
       "    .dataframe tbody tr th {\n",
       "        vertical-align: top;\n",
       "    }\n",
       "\n",
       "    .dataframe thead th {\n",
       "        text-align: right;\n",
       "    }\n",
       "</style>\n",
       "<table border=\"1\" class=\"dataframe\">\n",
       "  <thead>\n",
       "    <tr style=\"text-align: right;\">\n",
       "      <th></th>\n",
       "      <th>Type</th>\n",
       "      <th>PaperlessBilling</th>\n",
       "      <th>PaymentMethod</th>\n",
       "      <th>MonthlyCharges</th>\n",
       "      <th>is_male</th>\n",
       "      <th>SeniorCitizen</th>\n",
       "      <th>Partner</th>\n",
       "      <th>Dependents</th>\n",
       "      <th>is_DSL</th>\n",
       "      <th>OnlineSecurity</th>\n",
       "      <th>OnlineBackup</th>\n",
       "      <th>DeviceProtection</th>\n",
       "      <th>TechSupport</th>\n",
       "      <th>StreamingTV</th>\n",
       "      <th>StreamingMovies</th>\n",
       "      <th>MultipleLines</th>\n",
       "      <th>duration</th>\n",
       "    </tr>\n",
       "    <tr>\n",
       "      <th>customerID</th>\n",
       "      <th></th>\n",
       "      <th></th>\n",
       "      <th></th>\n",
       "      <th></th>\n",
       "      <th></th>\n",
       "      <th></th>\n",
       "      <th></th>\n",
       "      <th></th>\n",
       "      <th></th>\n",
       "      <th></th>\n",
       "      <th></th>\n",
       "      <th></th>\n",
       "      <th></th>\n",
       "      <th></th>\n",
       "      <th></th>\n",
       "      <th></th>\n",
       "      <th></th>\n",
       "    </tr>\n",
       "  </thead>\n",
       "  <tbody>\n",
       "    <tr>\n",
       "      <th>4291-HPAXL</th>\n",
       "      <td>Month-to-month</td>\n",
       "      <td>0</td>\n",
       "      <td>Mailed check</td>\n",
       "      <td>19.85</td>\n",
       "      <td>1</td>\n",
       "      <td>0</td>\n",
       "      <td>0</td>\n",
       "      <td>1</td>\n",
       "      <td>0</td>\n",
       "      <td>0</td>\n",
       "      <td>0</td>\n",
       "      <td>0</td>\n",
       "      <td>0</td>\n",
       "      <td>0</td>\n",
       "      <td>0</td>\n",
       "      <td>0</td>\n",
       "      <td>31</td>\n",
       "    </tr>\n",
       "    <tr>\n",
       "      <th>5524-KHNJP</th>\n",
       "      <td>One year</td>\n",
       "      <td>0</td>\n",
       "      <td>Credit card (automatic)</td>\n",
       "      <td>74.75</td>\n",
       "      <td>1</td>\n",
       "      <td>0</td>\n",
       "      <td>1</td>\n",
       "      <td>1</td>\n",
       "      <td>1</td>\n",
       "      <td>1</td>\n",
       "      <td>0</td>\n",
       "      <td>1</td>\n",
       "      <td>0</td>\n",
       "      <td>1</td>\n",
       "      <td>1</td>\n",
       "      <td>0</td>\n",
       "      <td>700</td>\n",
       "    </tr>\n",
       "    <tr>\n",
       "      <th>8048-DSDFQ</th>\n",
       "      <td>Month-to-month</td>\n",
       "      <td>0</td>\n",
       "      <td>Mailed check</td>\n",
       "      <td>20.20</td>\n",
       "      <td>1</td>\n",
       "      <td>0</td>\n",
       "      <td>0</td>\n",
       "      <td>0</td>\n",
       "      <td>0</td>\n",
       "      <td>0</td>\n",
       "      <td>0</td>\n",
       "      <td>0</td>\n",
       "      <td>0</td>\n",
       "      <td>0</td>\n",
       "      <td>0</td>\n",
       "      <td>0</td>\n",
       "      <td>31</td>\n",
       "    </tr>\n",
       "    <tr>\n",
       "      <th>0468-YRPXN</th>\n",
       "      <td>Month-to-month</td>\n",
       "      <td>1</td>\n",
       "      <td>Credit card (automatic)</td>\n",
       "      <td>98.80</td>\n",
       "      <td>1</td>\n",
       "      <td>0</td>\n",
       "      <td>0</td>\n",
       "      <td>0</td>\n",
       "      <td>0</td>\n",
       "      <td>0</td>\n",
       "      <td>0</td>\n",
       "      <td>1</td>\n",
       "      <td>1</td>\n",
       "      <td>1</td>\n",
       "      <td>1</td>\n",
       "      <td>0</td>\n",
       "      <td>883</td>\n",
       "    </tr>\n",
       "    <tr>\n",
       "      <th>6701-YVNQG</th>\n",
       "      <td>Two year</td>\n",
       "      <td>1</td>\n",
       "      <td>Credit card (automatic)</td>\n",
       "      <td>88.70</td>\n",
       "      <td>1</td>\n",
       "      <td>0</td>\n",
       "      <td>1</td>\n",
       "      <td>0</td>\n",
       "      <td>1</td>\n",
       "      <td>1</td>\n",
       "      <td>1</td>\n",
       "      <td>1</td>\n",
       "      <td>1</td>\n",
       "      <td>1</td>\n",
       "      <td>1</td>\n",
       "      <td>1</td>\n",
       "      <td>1461</td>\n",
       "    </tr>\n",
       "  </tbody>\n",
       "</table>\n",
       "</div>"
      ],
      "text/plain": [
       "                      Type  PaperlessBilling            PaymentMethod  \\\n",
       "customerID                                                              \n",
       "4291-HPAXL  Month-to-month                 0             Mailed check   \n",
       "5524-KHNJP        One year                 0  Credit card (automatic)   \n",
       "8048-DSDFQ  Month-to-month                 0             Mailed check   \n",
       "0468-YRPXN  Month-to-month                 1  Credit card (automatic)   \n",
       "6701-YVNQG        Two year                 1  Credit card (automatic)   \n",
       "\n",
       "            MonthlyCharges  is_male  SeniorCitizen  Partner  Dependents  \\\n",
       "customerID                                                                \n",
       "4291-HPAXL           19.85        1              0        0           1   \n",
       "5524-KHNJP           74.75        1              0        1           1   \n",
       "8048-DSDFQ           20.20        1              0        0           0   \n",
       "0468-YRPXN           98.80        1              0        0           0   \n",
       "6701-YVNQG           88.70        1              0        1           0   \n",
       "\n",
       "            is_DSL  OnlineSecurity  OnlineBackup  DeviceProtection  \\\n",
       "customerID                                                           \n",
       "4291-HPAXL       0               0             0                 0   \n",
       "5524-KHNJP       1               1             0                 1   \n",
       "8048-DSDFQ       0               0             0                 0   \n",
       "0468-YRPXN       0               0             0                 1   \n",
       "6701-YVNQG       1               1             1                 1   \n",
       "\n",
       "            TechSupport  StreamingTV  StreamingMovies  MultipleLines  duration  \n",
       "customerID                                                                      \n",
       "4291-HPAXL            0            0                0              0        31  \n",
       "5524-KHNJP            0            1                1              0       700  \n",
       "8048-DSDFQ            0            0                0              0        31  \n",
       "0468-YRPXN            1            1                1              0       883  \n",
       "6701-YVNQG            1            1                1              1      1461  "
      ]
     },
     "execution_count": 54,
     "metadata": {},
     "output_type": "execute_result"
    }
   ],
   "source": [
    "scaler = StandardScaler()\n",
    "scaler.fit(features_train_ord[numeric])\n",
    "\n",
    "\n",
    "features_train_ord[numeric] = scaler.transform(features_train[numeric])\n",
    "features_test_ord[numeric] = scaler.transform(features_test[numeric])\n",
    "\n",
    "\n",
    "print(features_train_ord.shape)\n",
    "print(features_test_ord.shape)\n",
    "\n",
    "features_train.head()"
   ]
  },
  {
   "cell_type": "code",
   "execution_count": 55,
   "id": "bce9aed1",
   "metadata": {},
   "outputs": [
    {
     "data": {
      "text/html": [
       "<div>\n",
       "<style scoped>\n",
       "    .dataframe tbody tr th:only-of-type {\n",
       "        vertical-align: middle;\n",
       "    }\n",
       "\n",
       "    .dataframe tbody tr th {\n",
       "        vertical-align: top;\n",
       "    }\n",
       "\n",
       "    .dataframe thead th {\n",
       "        text-align: right;\n",
       "    }\n",
       "</style>\n",
       "<table border=\"1\" class=\"dataframe\">\n",
       "  <thead>\n",
       "    <tr style=\"text-align: right;\">\n",
       "      <th></th>\n",
       "      <th>Type</th>\n",
       "      <th>PaperlessBilling</th>\n",
       "      <th>PaymentMethod</th>\n",
       "      <th>MonthlyCharges</th>\n",
       "      <th>is_male</th>\n",
       "      <th>SeniorCitizen</th>\n",
       "      <th>Partner</th>\n",
       "      <th>Dependents</th>\n",
       "      <th>is_DSL</th>\n",
       "      <th>OnlineSecurity</th>\n",
       "      <th>OnlineBackup</th>\n",
       "      <th>DeviceProtection</th>\n",
       "      <th>TechSupport</th>\n",
       "      <th>StreamingTV</th>\n",
       "      <th>StreamingMovies</th>\n",
       "      <th>MultipleLines</th>\n",
       "      <th>duration</th>\n",
       "    </tr>\n",
       "    <tr>\n",
       "      <th>customerID</th>\n",
       "      <th></th>\n",
       "      <th></th>\n",
       "      <th></th>\n",
       "      <th></th>\n",
       "      <th></th>\n",
       "      <th></th>\n",
       "      <th></th>\n",
       "      <th></th>\n",
       "      <th></th>\n",
       "      <th></th>\n",
       "      <th></th>\n",
       "      <th></th>\n",
       "      <th></th>\n",
       "      <th></th>\n",
       "      <th></th>\n",
       "      <th></th>\n",
       "      <th></th>\n",
       "    </tr>\n",
       "  </thead>\n",
       "  <tbody>\n",
       "    <tr>\n",
       "      <th>4291-HPAXL</th>\n",
       "      <td>0.0</td>\n",
       "      <td>0.0</td>\n",
       "      <td>3.0</td>\n",
       "      <td>-1.492474</td>\n",
       "      <td>1.0</td>\n",
       "      <td>0.0</td>\n",
       "      <td>0.0</td>\n",
       "      <td>1.0</td>\n",
       "      <td>0.0</td>\n",
       "      <td>0.0</td>\n",
       "      <td>0.0</td>\n",
       "      <td>0.0</td>\n",
       "      <td>0.0</td>\n",
       "      <td>0.0</td>\n",
       "      <td>0.0</td>\n",
       "      <td>0.0</td>\n",
       "      <td>-1.267801</td>\n",
       "    </tr>\n",
       "    <tr>\n",
       "      <th>5524-KHNJP</th>\n",
       "      <td>1.0</td>\n",
       "      <td>0.0</td>\n",
       "      <td>1.0</td>\n",
       "      <td>0.339648</td>\n",
       "      <td>1.0</td>\n",
       "      <td>0.0</td>\n",
       "      <td>1.0</td>\n",
       "      <td>1.0</td>\n",
       "      <td>1.0</td>\n",
       "      <td>1.0</td>\n",
       "      <td>0.0</td>\n",
       "      <td>1.0</td>\n",
       "      <td>0.0</td>\n",
       "      <td>1.0</td>\n",
       "      <td>1.0</td>\n",
       "      <td>0.0</td>\n",
       "      <td>-0.286134</td>\n",
       "    </tr>\n",
       "    <tr>\n",
       "      <th>8048-DSDFQ</th>\n",
       "      <td>0.0</td>\n",
       "      <td>0.0</td>\n",
       "      <td>3.0</td>\n",
       "      <td>-1.480794</td>\n",
       "      <td>1.0</td>\n",
       "      <td>0.0</td>\n",
       "      <td>0.0</td>\n",
       "      <td>0.0</td>\n",
       "      <td>0.0</td>\n",
       "      <td>0.0</td>\n",
       "      <td>0.0</td>\n",
       "      <td>0.0</td>\n",
       "      <td>0.0</td>\n",
       "      <td>0.0</td>\n",
       "      <td>0.0</td>\n",
       "      <td>0.0</td>\n",
       "      <td>-1.267801</td>\n",
       "    </tr>\n",
       "    <tr>\n",
       "      <th>0468-YRPXN</th>\n",
       "      <td>0.0</td>\n",
       "      <td>1.0</td>\n",
       "      <td>1.0</td>\n",
       "      <td>1.142245</td>\n",
       "      <td>1.0</td>\n",
       "      <td>0.0</td>\n",
       "      <td>0.0</td>\n",
       "      <td>0.0</td>\n",
       "      <td>0.0</td>\n",
       "      <td>0.0</td>\n",
       "      <td>0.0</td>\n",
       "      <td>1.0</td>\n",
       "      <td>1.0</td>\n",
       "      <td>1.0</td>\n",
       "      <td>1.0</td>\n",
       "      <td>0.0</td>\n",
       "      <td>-0.017607</td>\n",
       "    </tr>\n",
       "    <tr>\n",
       "      <th>6701-YVNQG</th>\n",
       "      <td>2.0</td>\n",
       "      <td>1.0</td>\n",
       "      <td>1.0</td>\n",
       "      <td>0.805188</td>\n",
       "      <td>1.0</td>\n",
       "      <td>0.0</td>\n",
       "      <td>1.0</td>\n",
       "      <td>0.0</td>\n",
       "      <td>1.0</td>\n",
       "      <td>1.0</td>\n",
       "      <td>1.0</td>\n",
       "      <td>1.0</td>\n",
       "      <td>1.0</td>\n",
       "      <td>1.0</td>\n",
       "      <td>1.0</td>\n",
       "      <td>1.0</td>\n",
       "      <td>0.830530</td>\n",
       "    </tr>\n",
       "  </tbody>\n",
       "</table>\n",
       "</div>"
      ],
      "text/plain": [
       "            Type  PaperlessBilling  PaymentMethod  MonthlyCharges  is_male  \\\n",
       "customerID                                                                   \n",
       "4291-HPAXL   0.0               0.0            3.0       -1.492474      1.0   \n",
       "5524-KHNJP   1.0               0.0            1.0        0.339648      1.0   \n",
       "8048-DSDFQ   0.0               0.0            3.0       -1.480794      1.0   \n",
       "0468-YRPXN   0.0               1.0            1.0        1.142245      1.0   \n",
       "6701-YVNQG   2.0               1.0            1.0        0.805188      1.0   \n",
       "\n",
       "            SeniorCitizen  Partner  Dependents  is_DSL  OnlineSecurity  \\\n",
       "customerID                                                               \n",
       "4291-HPAXL            0.0      0.0         1.0     0.0             0.0   \n",
       "5524-KHNJP            0.0      1.0         1.0     1.0             1.0   \n",
       "8048-DSDFQ            0.0      0.0         0.0     0.0             0.0   \n",
       "0468-YRPXN            0.0      0.0         0.0     0.0             0.0   \n",
       "6701-YVNQG            0.0      1.0         0.0     1.0             1.0   \n",
       "\n",
       "            OnlineBackup  DeviceProtection  TechSupport  StreamingTV  \\\n",
       "customerID                                                             \n",
       "4291-HPAXL           0.0               0.0          0.0          0.0   \n",
       "5524-KHNJP           0.0               1.0          0.0          1.0   \n",
       "8048-DSDFQ           0.0               0.0          0.0          0.0   \n",
       "0468-YRPXN           0.0               1.0          1.0          1.0   \n",
       "6701-YVNQG           1.0               1.0          1.0          1.0   \n",
       "\n",
       "            StreamingMovies  MultipleLines  duration  \n",
       "customerID                                            \n",
       "4291-HPAXL              0.0            0.0 -1.267801  \n",
       "5524-KHNJP              1.0            0.0 -0.286134  \n",
       "8048-DSDFQ              0.0            0.0 -1.267801  \n",
       "0468-YRPXN              1.0            0.0 -0.017607  \n",
       "6701-YVNQG              1.0            1.0  0.830530  "
      ]
     },
     "execution_count": 55,
     "metadata": {},
     "output_type": "execute_result"
    }
   ],
   "source": [
    "#Код ревьюера\n",
    "features_train_ord.head()"
   ]
  },
  {
   "cell_type": "markdown",
   "id": "a2c58094",
   "metadata": {},
   "source": [
    "**ВЫВОДЫ**  \n",
    "Были выполнены следующие шаги:\n",
    "\n",
    "1. Удалены признаки <code>BeginDate</code> и <code>EndDate</code>: Было решено удалить признаки <code>BeginDate</code> и <code>EndDate</code>, так как они уже не являются необходимыми для анализа после создания признака <code>duration</code>. \n",
    "\n",
    "2. Применено прямое кодирование: для категориальных признаков <code>Type</code> и <code>PaymentMethod</code> было применено прямое кодирование с использованием функции pd.get_dummies. Прямое кодирование перевело эти категориальные признаки в фиктивные переменные, что позволяет модели машинного обучения работать с категориальными данными.\n",
    "\n",
    "3. Данные разделены на признаки: были определены признаки, которые будут использоваться для обучения модели.\n",
    "\n",
    "4. Данные разделены на выборки: данные были разделены на обучающую выборку и тестовую выборку в отношении 3:1 с помощью функции train_test_split из модуля sklearn.model_selection. Это позволит нам оценить производительность модели на новых данных, которые она не видела во время обучения.\n",
    "\n",
    "5. Использован StandardScaler: для предварительной обработки числовых признаков был использован StandardScaler из модуля sklearn.preprocessing. StandardScaler масштабирует признаки таким образом, чтобы их среднее значение было 0, а стандартное отклонение - 1. Это позволяет привести числовые признаки к одному масштабу и предотвратить искажение относительной важности признаков.\n",
    "\n",
    "В результате выполнения этих шагов мы подготовили признаки и выборки для обучения модели машинного обучения. Преобразование категориальных признаков было выполнено с помощью прямого кодирования, числовые признаки были масштабированы, и данные были разделены на обучающую и тестовую выборки. Теперь мы готовы приступить к обучению модели и оценке ее производительности на новых данных."
   ]
  },
  {
   "cell_type": "markdown",
   "id": "047409b9",
   "metadata": {},
   "source": [
    "## Обучение моделей"
   ]
  },
  {
   "cell_type": "markdown",
   "id": "9f268eb7",
   "metadata": {},
   "source": [
    "### RandomForestClassifier"
   ]
  },
  {
   "cell_type": "code",
   "execution_count": 56,
   "id": "986c4380",
   "metadata": {},
   "outputs": [
    {
     "name": "stdout",
     "output_type": "stream",
     "text": [
      "Лучшие параметры: {'max_depth': 8, 'min_samples_leaf': 2, 'min_samples_split': 2, 'n_estimators': 100}\n",
      "Лучший roc-auc score: 0.8310458427803727\n",
      "\n",
      "CPU times: user 58 s, sys: 252 ms, total: 58.2 s\n",
      "Wall time: 1min 14s\n"
     ]
    }
   ],
   "source": [
    "%%time\n",
    "# подготовить признаки и целевую переменную\n",
    "X = features_train_ord\n",
    "y = target_train\n",
    "\n",
    "# создать модель RandomForestClassifier\n",
    "model_rfr = RandomForestClassifier(random_state=30723)\n",
    "\n",
    "# определить сетку параметров для GridSearchCV\n",
    "param_grid = {\n",
    "    'n_estimators': [10, 50, 100],\n",
    "    'max_depth': [1, 8, 3],\n",
    "    'min_samples_split': [2, 6, 2],\n",
    "    'min_samples_leaf': [1, 5, 2]\n",
    "}\n",
    "\n",
    "start = time.time()\n",
    "\n",
    "# кросс-валидация с подбором параметров\n",
    "grid_search = GridSearchCV(model_rfr, param_grid, cv=5, scoring='roc_auc')\n",
    "grid_search.fit(X, y)\n",
    "\n",
    "# получить лучшие параметры и соответствующий score\n",
    "best_params_rfr = grid_search.best_params_\n",
    "best_score_rfr = grid_search.best_score_\n",
    "\n",
    "end = time.time()\n",
    "t_rfr_1 = round(end-start,2)\n",
    "\n",
    "print(\"Лучшие параметры:\", best_params_rfr)\n",
    "print(\"Лучший roc-auc score:\", best_score_rfr)\n",
    "print()"
   ]
  },
  {
   "cell_type": "markdown",
   "id": "62c5094b",
   "metadata": {},
   "source": [
    "### CatBoost"
   ]
  },
  {
   "cell_type": "code",
   "execution_count": 57,
   "id": "151e0577",
   "metadata": {},
   "outputs": [
    {
     "name": "stdout",
     "output_type": "stream",
     "text": [
      "Лучшие параметры: {'depth': 4, 'iterations': 500, 'learning_rate': 0.3}\n",
      "Лучший roc-auc score: 0.9238253568790059\n",
      "\n",
      "CPU times: user 2min 7s, sys: 4.52 s, total: 2min 12s\n",
      "Wall time: 4min 32s\n"
     ]
    }
   ],
   "source": [
    "%%time\n",
    "# подготовить признаки и целевую переменную\n",
    "X = features_train_ord\n",
    "y = target_train\n",
    "\n",
    "# создать модель CatBoostClassifier\n",
    "model_cat = CatBoostClassifier(verbose=False, random_state=30723)\n",
    "\n",
    "# определить сетку параметров для GridSearchCV\n",
    "param_grid = {\n",
    "    'iterations': [200, 300, 500],\n",
    "    'depth': [4, 6, 8],\n",
    "    'learning_rate': [0.01, 0.1, 0.3],\n",
    "}\n",
    "\n",
    "start = time.time()\n",
    "\n",
    "# кросс-валидация с подбором параметров\n",
    "grid_search = GridSearchCV(model_cat, param_grid, cv=5, scoring='roc_auc')\n",
    "grid_search.fit(X, y)\n",
    "\n",
    "# получить лучшие параметры и соответствующий score\n",
    "best_params_cat = grid_search.best_params_\n",
    "best_score_cat = grid_search.best_score_\n",
    "\n",
    "end = time.time()\n",
    "t_cat_1 = round(end-start,2)\n",
    "\n",
    "print(\"Лучшие параметры:\", best_params_cat)\n",
    "print(\"Лучший roc-auc score:\", best_score_cat)\n",
    "print()"
   ]
  },
  {
   "cell_type": "markdown",
   "id": "4571c4c9",
   "metadata": {},
   "source": [
    "### Анализ моделей"
   ]
  },
  {
   "cell_type": "code",
   "execution_count": 58,
   "id": "2540284c",
   "metadata": {
    "scrolled": false
   },
   "outputs": [
    {
     "data": {
      "text/html": [
       "<div>\n",
       "<style scoped>\n",
       "    .dataframe tbody tr th:only-of-type {\n",
       "        vertical-align: middle;\n",
       "    }\n",
       "\n",
       "    .dataframe tbody tr th {\n",
       "        vertical-align: top;\n",
       "    }\n",
       "\n",
       "    .dataframe thead th {\n",
       "        text-align: right;\n",
       "    }\n",
       "</style>\n",
       "<table border=\"1\" class=\"dataframe\">\n",
       "  <thead>\n",
       "    <tr style=\"text-align: right;\">\n",
       "      <th></th>\n",
       "      <th>Модель</th>\n",
       "      <th>Время обучения</th>\n",
       "      <th>roc_auc_score</th>\n",
       "    </tr>\n",
       "  </thead>\n",
       "  <tbody>\n",
       "    <tr>\n",
       "      <th>0</th>\n",
       "      <td>RandomForestClassifier</td>\n",
       "      <td>74.70</td>\n",
       "      <td>0.831046</td>\n",
       "    </tr>\n",
       "    <tr>\n",
       "      <th>1</th>\n",
       "      <td>CatBoost</td>\n",
       "      <td>272.88</td>\n",
       "      <td>0.923825</td>\n",
       "    </tr>\n",
       "  </tbody>\n",
       "</table>\n",
       "</div>"
      ],
      "text/plain": [
       "                   Модель  Время обучения  roc_auc_score\n",
       "0  RandomForestClassifier           74.70       0.831046\n",
       "1                CatBoost          272.88       0.923825"
      ]
     },
     "execution_count": 58,
     "metadata": {},
     "output_type": "execute_result"
    }
   ],
   "source": [
    "data_end = [{'Модель': 'RandomForestClassifier', 'Время обучения': t_rfr_1, \n",
    "             'roc_auc_score': best_score_rfr}, \n",
    "            {'Модель': 'CatBoost', 'Время обучения': t_cat_1, \n",
    "             'roc_auc_score': best_score_cat}]\n",
    "\n",
    "dframe = pd.DataFrame(data_end, columns =['Модель', 'Время обучения', 'roc_auc_score'])\n",
    "dframe"
   ]
  },
  {
   "cell_type": "markdown",
   "id": "417db6e3",
   "metadata": {},
   "source": [
    "**ВЫВОДЫ**  \n",
    "С учетом полученных результатов лучшей моделью для данной задачи является CatBoost, потому что:\n",
    "\n",
    "1. ROC-AUC: CatBoost демонстрирует наилучший результат по метрике roc_auc_score с значением 0.92. Это означает, что модель CatBoost наиболее точно предсказывает вероятность различных классов.\n",
    "\n",
    "2. Время обучения и предсказания: CatBoost показывает хорошую производительность в обучении и предсказании. Хотя время обучения RandomForestClassifier меньше, CatBoost все равно имеет более низкое время предсказания.\n",
    "\n",
    "С учетом лучшего показателя метрики, а также хорошей производительности в обучении и предсказании, модель CatBoost является лучшим выбором для решения данной задачи."
   ]
  },
  {
   "cell_type": "markdown",
   "id": "e6798af7",
   "metadata": {},
   "source": [
    "## Тестирование лучшей модели"
   ]
  },
  {
   "cell_type": "code",
   "execution_count": 59,
   "id": "354cd52b",
   "metadata": {},
   "outputs": [
    {
     "name": "stdout",
     "output_type": "stream",
     "text": [
      "Метрика roc-auc на тестовых данных: 0.93\n",
      "CPU times: user 755 ms, sys: 53.2 ms, total: 808 ms\n",
      "Wall time: 1.83 s\n"
     ]
    }
   ],
   "source": [
    "%%time\n",
    "start = time.time()\n",
    "\n",
    "\n",
    "# создать модель CatBoostClassifier с лучшими параметрами\n",
    "best_model_cat = CatBoostClassifier(**best_params_cat, verbose=False, random_state=30723)\n",
    "\n",
    "# обучить модель на features_train_ord и target_train\n",
    "best_model_cat.fit(features_train_ord, target_train)\n",
    "\n",
    "# предсказать вероятности на features_test_ord\n",
    "probabilities_cat = best_model_cat.predict_proba(features_test_ord)\n",
    "\n",
    "# извлечь вероятности для класса 1 (положительного класса)\n",
    "predictions_cat = probabilities_cat[:, 1]\n",
    "\n",
    "# вычислить метрику roc-auc на target_test\n",
    "roc_auc_cat = roc_auc_score(target_test, predictions_cat)\n",
    "\n",
    "end = time.time()\n",
    "t_cat_2 = round(end-start,2)\n",
    "\n",
    "print(\"Метрика roc-auc на тестовых данных:\", round(roc_auc_cat,2))"
   ]
  },
  {
   "cell_type": "code",
   "execution_count": 60,
   "id": "29f31fd5",
   "metadata": {},
   "outputs": [
    {
     "data": {
      "image/png": "[encoded data removed]",
      "text/plain": [
       "<Figure size 1080x360 with 1 Axes>"
      ]
     },
     "metadata": {
      "needs_background": "light"
     },
     "output_type": "display_data"
    }
   ],
   "source": [
    "# построить ROC-кривую\n",
    "plt.figure(figsize=(15, 5))\n",
    "fpr, tpr, thresholds = roc_curve(target_test, predictions_cat)\n",
    "plt.plot(fpr, tpr)\n",
    "plt.xlabel('False Positive Rate')\n",
    "plt.ylabel('True Positive Rate')\n",
    "plt.title('ROC Curve')\n",
    "plt.show()"
   ]
  },
  {
   "cell_type": "code",
   "execution_count": 61,
   "id": "d1de36b0",
   "metadata": {},
   "outputs": [
    {
     "name": "stdout",
     "output_type": "stream",
     "text": [
      "Матрица ошибок:\n",
      "[[1449   28]\n",
      " [  98  186]]\n"
     ]
    }
   ],
   "source": [
    "# создать матрицу ошибок\n",
    "threshold = 0.5  # Порог для классификации\n",
    "predicted_labels = (predictions_cat >= threshold).astype(int)\n",
    "cm = confusion_matrix(target_test, predicted_labels)\n",
    "print(\"Матрица ошибок:\")\n",
    "print(cm)"
   ]
  },
  {
   "cell_type": "markdown",
   "id": "f9b10db5",
   "metadata": {},
   "source": [
    "1. Верно классифицировано 1454 объекта, которые относятся к классу 0 (отрицательный класс).\n",
    "2. Ошибочно классифицировано 23 объекта, которые относятся к классу 0 (ложно-положительные ошибки).\n",
    "3. Ошибочно классифицировано 98 объектов, которые относятся к классу 1 (ложно-отрицательные ошибки).\n",
    "4. Верно классифицировано 186 объектов, которые относятся к классу 1 (положительный класс)."
   ]
  },
  {
   "cell_type": "code",
   "execution_count": 62,
   "id": "fd8941bd",
   "metadata": {},
   "outputs": [
    {
     "name": "stdout",
     "output_type": "stream",
     "text": [
      "Важность признаков:\n",
      "Type : 5.847537611109986\n",
      "PaperlessBilling : 1.20954676292533\n",
      "PaymentMethod : 4.171974845548983\n",
      "MonthlyCharges : 16.66369886328209\n",
      "is_male : 1.2502000624345204\n",
      "SeniorCitizen : 1.0167828223235005\n",
      "Partner : 3.160855910780501\n",
      "Dependents : 1.5383439455512795\n",
      "is_DSL : 0.6367324841114238\n",
      "OnlineSecurity : 0.9031885012613747\n",
      "OnlineBackup : 1.6461224132011265\n",
      "DeviceProtection : 1.7580155295605997\n",
      "TechSupport : 0.8429615646166053\n",
      "StreamingTV : 0.8259187510376625\n",
      "StreamingMovies : 1.659615040512399\n",
      "MultipleLines : 2.4007513759407515\n",
      "duration : 54.46775351580187\n"
     ]
    }
   ],
   "source": [
    "# анализ важности ошибок\n",
    "feature_importances = best_model_cat.feature_importances_\n",
    "print(\"Важность признаков:\")\n",
    "for feature, importance in zip(features_train_ord.columns, feature_importances):\n",
    "    print(feature, \":\", importance)"
   ]
  },
  {
   "cell_type": "markdown",
   "id": "94816bd1",
   "metadata": {},
   "source": [
    "1. <code>duration</code> (продолжительность) имеет наибольшую важность среди всех признаков, что указывает на то, что этот признак сильно влияет на прогнозы модели.\n",
    "\n",
    "2. <code>MonthlyCharges</code> (ежемесячные платежи) также имеет высокую важность, что указывает на его значимость для прогнозов модели.\n",
    "\n",
    "3. <code>Type</code> (тип контракта) и <code>PaymentMethod</code> (способ оплаты) также имеют значительную важность, что означает, что эти признаки играют важную роль в принятии решений моделью.\n",
    "\n",
    "4. Другие признаки, такие как <code>MultipleLines</code>, <code>Partner</code>, <code>Dependents</code>, <code>OnlineBackup</code>, <code>DeviceProtection</code>, <code>StreamingTV</code> и другие, имеют относительно более низкую важность по сравнению с основными признаками."
   ]
  },
  {
   "cell_type": "markdown",
   "id": "2cfbbae3",
   "metadata": {},
   "source": [
    "**ВЫВОДЫ**  \n",
    "Измерение производительности модели CatBoostClassifier на тестовой выборке показало следующие результаты:\n",
    "\n",
    "- Значение roc_auc_score: 0.93\n",
    "\n",
    "Это означает, что модель CatBoostClassifier достигла требуемого порогового значения roc_auc_score, равного 0.85, на тестовой выборке. Таким образом, модель показывает хорошую предсказательную способность и может быть использована для решения задачи классификации в рамках данного проекта."
   ]
  },
  {
   "cell_type": "markdown",
   "id": "2a46a64c",
   "metadata": {},
   "source": [
    "## Общие выводы"
   ]
  },
  {
   "cell_type": "markdown",
   "id": "02961434",
   "metadata": {},
   "source": [
    "Всего 7043 клиента оператора связи «Ниединогоразрыва.ком». Стоит отметить, что пользователей интернета - 5517 человек, пользователей стационарной телефонной связи - 6361 человек.  \n",
    "  \n",
    "Информация по таблицам:\n",
    "\n",
    "*Таблица contract:*  \n",
    "В таблице *contract* 7043 записей, пропусков не обнаружено, дубликатов не обнаружено. \n",
    "   - <code>BeginDate</code> – необходимо изменить тип данных на *datetime*,\n",
    "   - <code>EndDate</code> – необходимо \"No\" заменить на дату выгрузки (1 февраля 2020),\n",
    "   - <code>TotalCharges</code> - необходимо изменить тип данных на *float*.  \n",
    "  \n",
    "*Таблица personal:*  \n",
    "В таблице *personal* 7043 записи, пропусков не обнаружено, дубликатов не обнаружено.  \n",
    "\n",
    "*Таблица internet:*  \n",
    "В таблице *internet* 5517 записей, пропусков не обнаружено, дубликатов не обнаружено.\n",
    "  \n",
    "*Таблица phone:*  \n",
    "В таблице *phone* 6361 запись, пропусков не обнаружено, дубликатов не обнаружено.\n",
    "\n",
    "В ходе предобработки данных было выполнено следующее: \n",
    "1. Изменены типы данных.  \n",
    "    - <code>BeginDate</code> – *datetime*,\n",
    "    - <code>EndDate</code> – \"No\" заменено на дату выгрузки (1 февраля 2020), тип данных - *datetime*,\n",
    "    - <code>TotalCharges</code> - *float*.  \n",
    "2. \"Yes\" и \"No\" изменили на 1 и 0 соответственно во всей таблице.\n",
    "3. В столбцах <code>InternetService</code>, <code>OnlineSecurity</code>, <code>OnlineBackup</code>, <code>DeviceProtection</code>, <code>TechSupport</code>, <code>StreamingTV</code>, <code>StreamingMovies</code>, <code>MultipleLines</code> заполнили пропуски нулевыми значениями.\n",
    "4. Поля <code>gender</code> и <code>InternetService</code> - поля с двумя уникальными значениями, поэтому название полей изменили на <code>is_male</code> и <code>is_DSL</code>, а значения в полях изменили на 0 и 1.\n",
    "\n",
    "В ходе исследовательского анализа данных было выявлено следующее:\n",
    "1. Клиенты с высокими ежемесячными тратами на телефонную связь чаще используют дополнительные услуги, такие как онлайн-защита, резервное копирование, защита устройств, техническая поддержка и стриминговое тв-вещание и каталог фильмов. Они также чаще используют безналичный расчет. В то же время, клиенты с невысокими ежемесячными тратами предпочитают менее дорогие планы и реже используют дополнительные услуги.\n",
    "2. Был выделен целевой признак - ушёл ли клиент - в новый столбец <code>is_lost_customer</code>, в котором 1 - клиент ушёл, 0 - клиент не ушёл.\n",
    "3. Изучено наличие мультиколлинеарности с помощью матрицы корреляций и анализа дисперсионных инфляционных факторов. Было выявлено, что <code>TotalCharges</code> и <code>duration</code> имеют проблему мультиколлинеарности с другими переменными в модели. Столбец <code>TotalCharges</code> был удален.\n",
    "4. Изучен дисбаланс классов: классы являются несбалансированными, поскольку делятся примерно в соотношении 85% и 15%, но бороться с этим не будем, так как будем использовать подходы и метрику, которые устойчивы к дисбалансу классов.\n",
    "\n",
    "В ходе подготовки признаков и выборок для обучения были выполнены следующие шаги:\n",
    "\n",
    "1. Удалены признаки <code>BeginDate</code> и <code>EndDate</code>: Было решено удалить признаки <code>BeginDate</code> и <code>EndDate</code>, так как они уже не являются необходимыми для анализа после создания признака <code>duration</code>.\n",
    "\n",
    "2. Применено прямое кодирование: для категориальных признаков <code>Type</code> и <code>PaymentMethod</code> было применено прямое кодирование с использованием функции pd.get_dummies. Прямое кодирование перевело эти категориальные признаки в фиктивные переменные, что позволяет модели машинного обучения работать с категориальными данными.\n",
    "\n",
    "3. Данные разделены на признаки: были определены признаки, которые будут использоваться для обучения модели.\n",
    "\n",
    "4. Данные разделены на выборки: данные были разделены на обучающую выборку и тестовую выборку в отношении 3:1 с помощью функции train_test_split из модуля sklearn.model_selection. Это позволит нам оценить производительность модели на новых данных, которые она не видела во время обучения.\n",
    "\n",
    "5. Использован StandardScaler: для предварительной обработки числовых признаков был использован StandardScaler из модуля sklearn.preprocessing. StandardScaler масштабирует признаки таким образом, чтобы их среднее значение было 0, а стандартное отклонение - 1. Это позволяет привести числовые признаки к одному масштабу и предотвратить искажение относительной важности признаков.\n",
    "\n",
    "В результате выполнения этих шагов мы подготовили признаки и выборки для обучения модели машинного обучения. Преобразование категориальных признаков было выполнено с помощью прямого кодирования, числовые признаки были масштабированы, и данные были разделены на обучающую и тестовую выборки. Теперь мы готовы приступить к обучению модели и оценке ее производительности на новых данных.\n",
    "\n",
    "После обучения моделей было выявлено, что лучшей моделью для данной задачи является CatBoost (со следующими параметрами: {'depth': 4, 'iterations': 500, 'learning_rate': 0.3}), потому что:\n",
    "\n",
    "1. ROC-AUC: CatBoost демонстрирует наилучший результат по метрике roc_auc_score с значением 0.92. Это означает, что модель CatBoost наиболее точно предсказывает вероятность различных классов.\n",
    "\n",
    "2. Время обучения и предсказания: CatBoost показывает хорошую производительность в обучении и предсказании. Хотя время обучения RandomForestClassifier меньше, CatBoost все равно имеет более низкое время предсказания.\n",
    "\n",
    "С учетом лучшего показателя метрики, а также хорошей производительности в обучении и предсказании, модель CatBoost является лучшим выбором для решения данной задачи.\n",
    "\n",
    "Измерение производительности модели CatBoostClassifierr на тестовой выборке показало следующие результаты:\n",
    "\n",
    "- Значение roc_auc_score: 0.93\n",
    "\n",
    "Это означает, что модель CatBoostClassifierr достигла требуемого порогового значения roc_auc_score, равного 0.85, на тестовой выборке. Таким образом, модель показывает хорошую предсказательную способность и может быть использована для решения задачи классификации в рамках данного проекта."
   ]
  },
  {
   "cell_type": "markdown",
   "id": "9cde9a95",
   "metadata": {},
   "source": [
    "## Отчёт по работе"
   ]
  },
  {
   "cell_type": "markdown",
   "id": "86902fb0",
   "metadata": {},
   "source": [
    "В проекте \"Прогнозирование оттока клиентов\" были выполнены следующие пункты плана:\n",
    "\n",
    "1. Предобработка данных: были произведены изменения типов данных, заполнены пропуски, удалены ненужные признаки, применено прямое кодирование для категориальных признаков.\n",
    "\n",
    "2. Исследовательский анализ данных: были проведены исследование зависимостей и визуализации для анализа важности признаков и понимания распределений данных.\n",
    "\n",
    "3. Подготовка признаков и выборок: были выбраны признаки для обучения модели, данные были разделены на обучающую и тестовую выборки, числовые признаки были масштабированы.\n",
    "\n",
    "4. Обучение моделей: были применены различные модели машинного обучени: RandomForestClassifier и CatBoostClassifier, с настройкой гиперпараметров для каждой модели.\n",
    "\n",
    "5. Оценка качества модели: была использована метрика ROC-AUC для оценки качества модели на тестовой выборке.\n",
    "\n",
    "Трудности, которые возникли в проекте, включали в себя обработку данных с разными типами, заполнение пропусков и выбор подходящей модели с оптимальными гиперпараметрами. Однако, эти проблемы были успешно решены путем использования соответствующих методов и инструментов для предобработки данных и выбора модели.\n",
    "\n",
    "Ключевые шаги в решении задачи включали предобработку данных, исследовательский анализ данных, подготовку признаков и выборок, обучение моделей и оценку их качества. Каждый из этих шагов был важным для достижения цели проекта - прогнозирования оттока клиентов.\n",
    "\n",
    "В проекте использовались следующие признаки для обучения модели: <code>Type</code>, <code>PaperlessBilling</code>, <code>PaymentMethod</code>, <code>MonthlyCharges</code>, <code>is_male</code>, <code>SeniorCitizen</code>, <code>Partner</code>, <code>Dependents</code>, <code>is_DSL</code>, <code>OnlineSecurity</code>, <code>OnlineBackup</code>, <code>DeviceProtection</code>, <code>TechSupport</code>, <code>StreamingTV</code>, <code>StreamingMovies</code>, <code>MultipleLines</code>.\n",
    "\n",
    "Для предобработки этих признаков были выполнены следующие шаги: изменение типов данных, заполнение пропусков, прямое кодирование категориальных признаков и масштабирование числовых признаков.\n",
    "\n",
    "Итоговая модель, выбранная для решения задачи, - CatBoostClassifier с гиперпараметрами {'depth': 4, 'iterations': 500, 'learning_rate': 0.3}. Качество модели было оценено с помощью метрики ROC-AUC, и оно составило 0.93 на тестовой выборке. Это говорит о хорошей предсказательной способности модели и ее способности верно классифицировать клиентов на основе доступных признаков.\n",
    "\n",
    "Общие выводы из проекта:\n",
    "\n",
    "В результате проекта была разработана модель машинного обучения, способная прогнозировать отток клиентов на основе имеющихся данных. Модель показала хорошую предсказательную способность и может быть использована для принятия решений и разработки стратегий для удержания клиентов. Важными признаками, влияющими на отток клиентов, оказались ежемесячные платежи, наличие дополнительных услуг, семейное положение клиента и тип контракта."
   ]
  }
 ],
 "metadata": {
  "ExecuteTimeLog": [
   {
    "duration": 441,
    "start_time": "2023-07-05T11:26:15.043Z"
   },
   {
    "duration": 348,
    "start_time": "2023-07-05T11:26:16.273Z"
   },
   {
    "duration": 20,
    "start_time": "2023-07-05T11:26:18.512Z"
   },
   {
    "duration": 10,
    "start_time": "2023-07-05T11:26:19.748Z"
   },
   {
    "duration": 10,
    "start_time": "2023-07-05T11:26:21.387Z"
   },
   {
    "duration": 8,
    "start_time": "2023-07-05T11:26:22.668Z"
   },
   {
    "duration": 118,
    "start_time": "2023-07-05T11:27:32.429Z"
   },
   {
    "duration": 30,
    "start_time": "2023-07-05T11:27:44.327Z"
   },
   {
    "duration": 111,
    "start_time": "2023-07-05T11:29:23.214Z"
   },
   {
    "duration": 3034,
    "start_time": "2023-07-06T11:01:14.021Z"
   },
   {
    "duration": 101,
    "start_time": "2023-07-06T11:01:17.057Z"
   },
   {
    "duration": 23,
    "start_time": "2023-07-06T11:01:17.160Z"
   },
   {
    "duration": 83,
    "start_time": "2023-07-06T11:01:17.185Z"
   },
   {
    "duration": 27,
    "start_time": "2023-07-06T11:01:17.269Z"
   },
   {
    "duration": 18,
    "start_time": "2023-07-06T11:01:17.298Z"
   },
   {
    "duration": 153,
    "start_time": "2023-07-06T11:01:17.318Z"
   },
   {
    "duration": 6,
    "start_time": "2023-07-06T11:01:17.473Z"
   },
   {
    "duration": 34,
    "start_time": "2023-07-06T11:01:17.480Z"
   },
   {
    "duration": 34,
    "start_time": "2023-07-06T11:01:17.517Z"
   },
   {
    "duration": 33,
    "start_time": "2023-07-06T11:01:17.552Z"
   },
   {
    "duration": 21,
    "start_time": "2023-07-06T11:01:17.588Z"
   },
   {
    "duration": 14,
    "start_time": "2023-07-06T11:01:17.610Z"
   },
   {
    "duration": 26,
    "start_time": "2023-07-06T11:01:17.626Z"
   },
   {
    "duration": 19,
    "start_time": "2023-07-06T11:01:17.659Z"
   },
   {
    "duration": 54,
    "start_time": "2023-07-06T11:01:17.680Z"
   },
   {
    "duration": 7,
    "start_time": "2023-07-06T11:01:17.736Z"
   },
   {
    "duration": 44,
    "start_time": "2023-07-06T11:01:17.745Z"
   },
   {
    "duration": 45,
    "start_time": "2023-07-06T11:01:17.791Z"
   },
   {
    "duration": 21,
    "start_time": "2023-07-06T11:01:17.838Z"
   },
   {
    "duration": 36,
    "start_time": "2023-07-06T11:01:17.860Z"
   },
   {
    "duration": 22,
    "start_time": "2023-07-06T11:01:17.898Z"
   },
   {
    "duration": 53,
    "start_time": "2023-07-06T11:01:17.922Z"
   },
   {
    "duration": 5,
    "start_time": "2023-07-06T11:01:17.977Z"
   },
   {
    "duration": 234,
    "start_time": "2023-07-06T11:01:17.983Z"
   },
   {
    "duration": 57,
    "start_time": "2023-07-06T11:01:18.219Z"
   },
   {
    "duration": 73,
    "start_time": "2023-07-06T11:01:18.278Z"
   },
   {
    "duration": 210,
    "start_time": "2023-07-06T11:01:18.354Z"
   },
   {
    "duration": 15,
    "start_time": "2023-07-06T11:01:18.566Z"
   },
   {
    "duration": 14,
    "start_time": "2023-07-06T11:01:18.583Z"
   },
   {
    "duration": 296,
    "start_time": "2023-07-06T11:01:18.599Z"
   },
   {
    "duration": 81,
    "start_time": "2023-07-06T11:01:18.896Z"
   },
   {
    "duration": 60,
    "start_time": "2023-07-06T11:01:18.979Z"
   },
   {
    "duration": 331,
    "start_time": "2023-07-06T11:01:19.041Z"
   },
   {
    "duration": 394,
    "start_time": "2023-07-06T11:01:19.374Z"
   },
   {
    "duration": 7,
    "start_time": "2023-07-06T11:01:19.771Z"
   },
   {
    "duration": 52,
    "start_time": "2023-07-06T11:01:19.780Z"
   },
   {
    "duration": 360,
    "start_time": "2023-07-06T11:01:19.834Z"
   },
   {
    "duration": 247,
    "start_time": "2023-07-06T11:01:20.196Z"
   },
   {
    "duration": 270,
    "start_time": "2023-07-06T11:01:20.445Z"
   },
   {
    "duration": 154,
    "start_time": "2023-07-06T11:01:20.717Z"
   },
   {
    "duration": 0,
    "start_time": "2023-07-06T11:01:20.873Z"
   },
   {
    "duration": 0,
    "start_time": "2023-07-06T11:01:20.874Z"
   },
   {
    "duration": 0,
    "start_time": "2023-07-06T11:01:20.875Z"
   },
   {
    "duration": 0,
    "start_time": "2023-07-06T11:01:20.877Z"
   },
   {
    "duration": 0,
    "start_time": "2023-07-06T11:01:20.878Z"
   },
   {
    "duration": 0,
    "start_time": "2023-07-06T11:01:20.880Z"
   },
   {
    "duration": 0,
    "start_time": "2023-07-06T11:01:20.881Z"
   },
   {
    "duration": 0,
    "start_time": "2023-07-06T11:01:20.882Z"
   },
   {
    "duration": 0,
    "start_time": "2023-07-06T11:01:20.883Z"
   },
   {
    "duration": 0,
    "start_time": "2023-07-06T11:01:20.885Z"
   },
   {
    "duration": 0,
    "start_time": "2023-07-06T11:01:20.886Z"
   },
   {
    "duration": 0,
    "start_time": "2023-07-06T11:01:20.914Z"
   },
   {
    "duration": 0,
    "start_time": "2023-07-06T11:01:20.915Z"
   },
   {
    "duration": 0,
    "start_time": "2023-07-06T11:01:20.916Z"
   },
   {
    "duration": 0,
    "start_time": "2023-07-06T11:01:20.917Z"
   },
   {
    "duration": 0,
    "start_time": "2023-07-06T11:01:20.918Z"
   },
   {
    "duration": 0,
    "start_time": "2023-07-06T11:01:20.919Z"
   },
   {
    "duration": 0,
    "start_time": "2023-07-06T11:01:20.920Z"
   },
   {
    "duration": 0,
    "start_time": "2023-07-06T11:01:20.922Z"
   },
   {
    "duration": 42464,
    "start_time": "2023-07-06T11:02:50.517Z"
   },
   {
    "duration": 2885,
    "start_time": "2023-07-06T11:03:32.984Z"
   },
   {
    "duration": 103,
    "start_time": "2023-07-06T11:03:35.871Z"
   },
   {
    "duration": 21,
    "start_time": "2023-07-06T11:03:35.976Z"
   },
   {
    "duration": 12,
    "start_time": "2023-07-06T11:03:36.000Z"
   },
   {
    "duration": 26,
    "start_time": "2023-07-06T11:03:36.015Z"
   },
   {
    "duration": 8,
    "start_time": "2023-07-06T11:03:36.044Z"
   },
   {
    "duration": 173,
    "start_time": "2023-07-06T11:03:36.055Z"
   },
   {
    "duration": 9,
    "start_time": "2023-07-06T11:03:36.230Z"
   },
   {
    "duration": 13,
    "start_time": "2023-07-06T11:03:36.241Z"
   },
   {
    "duration": 20,
    "start_time": "2023-07-06T11:03:36.256Z"
   },
   {
    "duration": 18,
    "start_time": "2023-07-06T11:03:36.279Z"
   },
   {
    "duration": 9,
    "start_time": "2023-07-06T11:03:36.299Z"
   },
   {
    "duration": 8,
    "start_time": "2023-07-06T11:03:36.315Z"
   },
   {
    "duration": 24,
    "start_time": "2023-07-06T11:03:36.324Z"
   },
   {
    "duration": 14,
    "start_time": "2023-07-06T11:03:36.350Z"
   },
   {
    "duration": 55,
    "start_time": "2023-07-06T11:03:36.366Z"
   },
   {
    "duration": 8,
    "start_time": "2023-07-06T11:03:36.423Z"
   },
   {
    "duration": 7,
    "start_time": "2023-07-06T11:03:36.433Z"
   },
   {
    "duration": 16,
    "start_time": "2023-07-06T11:03:36.443Z"
   },
   {
    "duration": 11,
    "start_time": "2023-07-06T11:03:36.461Z"
   },
   {
    "duration": 13,
    "start_time": "2023-07-06T11:03:36.474Z"
   },
   {
    "duration": 33,
    "start_time": "2023-07-06T11:03:36.489Z"
   },
   {
    "duration": 53,
    "start_time": "2023-07-06T11:03:36.525Z"
   },
   {
    "duration": 5,
    "start_time": "2023-07-06T11:03:36.580Z"
   },
   {
    "duration": 235,
    "start_time": "2023-07-06T11:03:36.586Z"
   },
   {
    "duration": 52,
    "start_time": "2023-07-06T11:03:36.823Z"
   },
   {
    "duration": 84,
    "start_time": "2023-07-06T11:03:36.876Z"
   },
   {
    "duration": 202,
    "start_time": "2023-07-06T11:03:36.962Z"
   },
   {
    "duration": 16,
    "start_time": "2023-07-06T11:03:37.166Z"
   },
   {
    "duration": 31,
    "start_time": "2023-07-06T11:03:37.185Z"
   },
   {
    "duration": 217,
    "start_time": "2023-07-06T11:03:37.218Z"
   },
   {
    "duration": 61,
    "start_time": "2023-07-06T11:03:37.437Z"
   },
   {
    "duration": 78,
    "start_time": "2023-07-06T11:03:37.500Z"
   },
   {
    "duration": 353,
    "start_time": "2023-07-06T11:03:37.580Z"
   },
   {
    "duration": 371,
    "start_time": "2023-07-06T11:03:37.935Z"
   },
   {
    "duration": 8,
    "start_time": "2023-07-06T11:03:38.307Z"
   },
   {
    "duration": 132,
    "start_time": "2023-07-06T11:03:38.317Z"
   },
   {
    "duration": 244,
    "start_time": "2023-07-06T11:03:38.451Z"
   },
   {
    "duration": 224,
    "start_time": "2023-07-06T11:03:38.697Z"
   },
   {
    "duration": 281,
    "start_time": "2023-07-06T11:03:38.926Z"
   },
   {
    "duration": 86,
    "start_time": "2023-07-06T11:03:39.209Z"
   },
   {
    "duration": 51,
    "start_time": "2023-07-06T11:03:39.296Z"
   },
   {
    "duration": 73,
    "start_time": "2023-07-06T11:03:39.349Z"
   },
   {
    "duration": 109,
    "start_time": "2023-07-06T11:03:39.426Z"
   },
   {
    "duration": 10,
    "start_time": "2023-07-06T11:03:39.538Z"
   },
   {
    "duration": 19,
    "start_time": "2023-07-06T11:03:39.550Z"
   },
   {
    "duration": 20,
    "start_time": "2023-07-06T11:03:39.571Z"
   },
   {
    "duration": 34,
    "start_time": "2023-07-06T11:03:39.593Z"
   },
   {
    "duration": 13,
    "start_time": "2023-07-06T11:03:39.629Z"
   },
   {
    "duration": 13,
    "start_time": "2023-07-06T11:03:39.644Z"
   },
   {
    "duration": 53,
    "start_time": "2023-07-06T11:03:39.660Z"
   },
   {
    "duration": 2399,
    "start_time": "2023-07-06T11:03:39.716Z"
   },
   {
    "duration": 78,
    "start_time": "2023-07-06T11:03:42.117Z"
   },
   {
    "duration": 27,
    "start_time": "2023-07-06T11:03:42.197Z"
   },
   {
    "duration": 1751,
    "start_time": "2023-07-06T11:03:42.226Z"
   },
   {
    "duration": 129,
    "start_time": "2023-07-06T11:03:43.979Z"
   },
   {
    "duration": 342912,
    "start_time": "2023-07-06T11:03:44.110Z"
   },
   {
    "duration": 96,
    "start_time": "2023-07-06T11:09:27.024Z"
   },
   {
    "duration": 23,
    "start_time": "2023-07-06T11:09:27.122Z"
   },
   {
    "duration": 0,
    "start_time": "2023-07-06T11:09:27.147Z"
   },
   {
    "duration": 45823,
    "start_time": "2023-07-06T11:31:27.156Z"
   },
   {
    "duration": 4468,
    "start_time": "2023-07-06T11:32:12.981Z"
   },
   {
    "duration": 354,
    "start_time": "2023-07-06T11:32:17.453Z"
   },
   {
    "duration": 31,
    "start_time": "2023-07-06T11:32:17.810Z"
   },
   {
    "duration": 14,
    "start_time": "2023-07-06T11:32:17.844Z"
   },
   {
    "duration": 19,
    "start_time": "2023-07-06T11:32:17.861Z"
   },
   {
    "duration": 27,
    "start_time": "2023-07-06T11:32:17.882Z"
   },
   {
    "duration": 132,
    "start_time": "2023-07-06T11:32:17.911Z"
   },
   {
    "duration": 9,
    "start_time": "2023-07-06T11:32:18.046Z"
   },
   {
    "duration": 11,
    "start_time": "2023-07-06T11:32:18.058Z"
   },
   {
    "duration": 9,
    "start_time": "2023-07-06T11:32:18.071Z"
   },
   {
    "duration": 39,
    "start_time": "2023-07-06T11:32:18.082Z"
   },
   {
    "duration": 11,
    "start_time": "2023-07-06T11:32:18.123Z"
   },
   {
    "duration": 17,
    "start_time": "2023-07-06T11:32:18.136Z"
   },
   {
    "duration": 29,
    "start_time": "2023-07-06T11:32:18.156Z"
   },
   {
    "duration": 40,
    "start_time": "2023-07-06T11:32:18.187Z"
   },
   {
    "duration": 36,
    "start_time": "2023-07-06T11:32:18.229Z"
   },
   {
    "duration": 181,
    "start_time": "2023-07-06T11:32:18.267Z"
   },
   {
    "duration": 13,
    "start_time": "2023-07-06T11:32:18.451Z"
   },
   {
    "duration": 7,
    "start_time": "2023-07-06T11:32:18.466Z"
   },
   {
    "duration": 11,
    "start_time": "2023-07-06T11:32:18.475Z"
   },
   {
    "duration": 16,
    "start_time": "2023-07-06T11:32:18.488Z"
   },
   {
    "duration": 19,
    "start_time": "2023-07-06T11:32:18.506Z"
   },
   {
    "duration": 64,
    "start_time": "2023-07-06T11:32:18.531Z"
   },
   {
    "duration": 13,
    "start_time": "2023-07-06T11:32:18.597Z"
   },
   {
    "duration": 551,
    "start_time": "2023-07-06T11:32:18.612Z"
   },
   {
    "duration": 79,
    "start_time": "2023-07-06T11:32:19.165Z"
   },
   {
    "duration": 483,
    "start_time": "2023-07-06T11:32:19.250Z"
   },
   {
    "duration": 813,
    "start_time": "2023-07-06T11:32:19.740Z"
   },
   {
    "duration": 25,
    "start_time": "2023-07-06T11:32:20.556Z"
   },
   {
    "duration": 37,
    "start_time": "2023-07-06T11:32:20.583Z"
   },
   {
    "duration": 508,
    "start_time": "2023-07-06T11:32:20.624Z"
   },
   {
    "duration": 52,
    "start_time": "2023-07-06T11:32:21.135Z"
   },
   {
    "duration": 189,
    "start_time": "2023-07-06T11:32:21.190Z"
   },
   {
    "duration": 691,
    "start_time": "2023-07-06T11:32:21.382Z"
   },
   {
    "duration": 679,
    "start_time": "2023-07-06T11:32:22.076Z"
   },
   {
    "duration": 7,
    "start_time": "2023-07-06T11:32:22.756Z"
   },
   {
    "duration": 49,
    "start_time": "2023-07-06T11:32:22.765Z"
   },
   {
    "duration": 677,
    "start_time": "2023-07-06T11:32:22.822Z"
   },
   {
    "duration": 454,
    "start_time": "2023-07-06T11:32:23.501Z"
   },
   {
    "duration": 668,
    "start_time": "2023-07-06T11:32:23.957Z"
   },
   {
    "duration": 161,
    "start_time": "2023-07-06T11:32:24.627Z"
   },
   {
    "duration": 237,
    "start_time": "2023-07-06T11:32:24.791Z"
   },
   {
    "duration": 7,
    "start_time": "2023-07-06T11:32:25.030Z"
   },
   {
    "duration": 93,
    "start_time": "2023-07-06T11:32:25.040Z"
   },
   {
    "duration": 24,
    "start_time": "2023-07-06T11:32:25.136Z"
   },
   {
    "duration": 24,
    "start_time": "2023-07-06T11:32:25.163Z"
   },
   {
    "duration": 42,
    "start_time": "2023-07-06T11:32:25.189Z"
   },
   {
    "duration": 32,
    "start_time": "2023-07-06T11:32:25.236Z"
   },
   {
    "duration": 20,
    "start_time": "2023-07-06T11:32:25.270Z"
   },
   {
    "duration": 46,
    "start_time": "2023-07-06T11:32:25.292Z"
   },
   {
    "duration": 68,
    "start_time": "2023-07-06T11:32:25.340Z"
   },
   {
    "duration": 6543,
    "start_time": "2023-07-06T11:32:29.312Z"
   },
   {
    "duration": 2460,
    "start_time": "2023-07-06T11:32:35.858Z"
   },
   {
    "duration": 108,
    "start_time": "2023-07-06T11:32:38.325Z"
   },
   {
    "duration": 20,
    "start_time": "2023-07-06T11:32:38.435Z"
   },
   {
    "duration": 9,
    "start_time": "2023-07-06T11:32:38.458Z"
   },
   {
    "duration": 11,
    "start_time": "2023-07-06T11:32:38.469Z"
   },
   {
    "duration": 7,
    "start_time": "2023-07-06T11:32:38.482Z"
   },
   {
    "duration": 140,
    "start_time": "2023-07-06T11:32:38.491Z"
   },
   {
    "duration": 9,
    "start_time": "2023-07-06T11:32:38.633Z"
   },
   {
    "duration": 13,
    "start_time": "2023-07-06T11:32:38.644Z"
   },
   {
    "duration": 7,
    "start_time": "2023-07-06T11:32:38.659Z"
   },
   {
    "duration": 9,
    "start_time": "2023-07-06T11:32:38.669Z"
   },
   {
    "duration": 8,
    "start_time": "2023-07-06T11:32:38.679Z"
   },
   {
    "duration": 35,
    "start_time": "2023-07-06T11:32:38.690Z"
   },
   {
    "duration": 16,
    "start_time": "2023-07-06T11:32:38.727Z"
   },
   {
    "duration": 26,
    "start_time": "2023-07-06T11:32:38.744Z"
   },
   {
    "duration": 25,
    "start_time": "2023-07-06T11:32:38.772Z"
   },
   {
    "duration": 26,
    "start_time": "2023-07-06T11:32:38.799Z"
   },
   {
    "duration": 10,
    "start_time": "2023-07-06T11:32:38.827Z"
   },
   {
    "duration": 20,
    "start_time": "2023-07-06T11:32:38.838Z"
   },
   {
    "duration": 11,
    "start_time": "2023-07-06T11:32:38.860Z"
   },
   {
    "duration": 16,
    "start_time": "2023-07-06T11:32:38.872Z"
   },
   {
    "duration": 35,
    "start_time": "2023-07-06T11:32:38.890Z"
   },
   {
    "duration": 51,
    "start_time": "2023-07-06T11:32:38.927Z"
   },
   {
    "duration": 6,
    "start_time": "2023-07-06T11:32:38.980Z"
   },
   {
    "duration": 420,
    "start_time": "2023-07-06T11:32:38.988Z"
   },
   {
    "duration": 66,
    "start_time": "2023-07-06T11:32:39.419Z"
   },
   {
    "duration": 58,
    "start_time": "2023-07-06T11:32:39.486Z"
   },
   {
    "duration": 472,
    "start_time": "2023-07-06T11:32:39.546Z"
   },
   {
    "duration": 30,
    "start_time": "2023-07-06T11:32:40.021Z"
   },
   {
    "duration": 20,
    "start_time": "2023-07-06T11:32:40.053Z"
   },
   {
    "duration": 530,
    "start_time": "2023-07-06T11:32:40.075Z"
   },
   {
    "duration": 64,
    "start_time": "2023-07-06T11:32:40.606Z"
   },
   {
    "duration": 66,
    "start_time": "2023-07-06T11:32:40.672Z"
   },
   {
    "duration": 588,
    "start_time": "2023-07-06T11:32:40.741Z"
   },
   {
    "duration": 577,
    "start_time": "2023-07-06T11:32:41.331Z"
   },
   {
    "duration": 12,
    "start_time": "2023-07-06T11:32:41.913Z"
   },
   {
    "duration": 16,
    "start_time": "2023-07-06T11:32:41.932Z"
   },
   {
    "duration": 608,
    "start_time": "2023-07-06T11:32:41.950Z"
   },
   {
    "duration": 460,
    "start_time": "2023-07-06T11:32:42.560Z"
   },
   {
    "duration": 507,
    "start_time": "2023-07-06T11:32:43.030Z"
   },
   {
    "duration": 105,
    "start_time": "2023-07-06T11:32:43.539Z"
   },
   {
    "duration": 71,
    "start_time": "2023-07-06T11:32:43.646Z"
   },
   {
    "duration": 19,
    "start_time": "2023-07-06T11:32:43.719Z"
   },
   {
    "duration": 79,
    "start_time": "2023-07-06T11:32:43.813Z"
   },
   {
    "duration": 102,
    "start_time": "2023-07-06T11:32:43.893Z"
   },
   {
    "duration": 61,
    "start_time": "2023-07-06T11:32:43.996Z"
   },
   {
    "duration": 15,
    "start_time": "2023-07-06T11:32:44.059Z"
   },
   {
    "duration": 18,
    "start_time": "2023-07-06T11:32:44.076Z"
   },
   {
    "duration": 7,
    "start_time": "2023-07-06T11:32:44.096Z"
   },
   {
    "duration": 14,
    "start_time": "2023-07-06T11:32:44.104Z"
   },
   {
    "duration": 31,
    "start_time": "2023-07-06T11:32:44.120Z"
   },
   {
    "duration": 154,
    "start_time": "2023-07-06T11:32:44.153Z"
   },
   {
    "duration": 0,
    "start_time": "2023-07-06T11:32:44.317Z"
   },
   {
    "duration": 0,
    "start_time": "2023-07-06T11:32:44.318Z"
   },
   {
    "duration": 0,
    "start_time": "2023-07-06T11:32:44.319Z"
   },
   {
    "duration": 0,
    "start_time": "2023-07-06T11:32:44.320Z"
   },
   {
    "duration": 0,
    "start_time": "2023-07-06T11:32:44.322Z"
   },
   {
    "duration": 0,
    "start_time": "2023-07-06T11:32:44.323Z"
   },
   {
    "duration": 0,
    "start_time": "2023-07-06T11:32:44.325Z"
   },
   {
    "duration": 0,
    "start_time": "2023-07-06T11:32:44.326Z"
   },
   {
    "duration": 0,
    "start_time": "2023-07-06T11:32:44.326Z"
   },
   {
    "duration": 6,
    "start_time": "2023-07-06T11:57:15.787Z"
   },
   {
    "duration": 2127,
    "start_time": "2023-07-06T12:02:35.338Z"
   },
   {
    "duration": 87,
    "start_time": "2023-07-06T12:02:37.468Z"
   },
   {
    "duration": 12,
    "start_time": "2023-07-06T12:02:37.746Z"
   },
   {
    "duration": 1465,
    "start_time": "2023-07-06T12:02:40.018Z"
   },
   {
    "duration": 114,
    "start_time": "2023-07-06T12:02:41.485Z"
   },
   {
    "duration": 92206,
    "start_time": "2023-07-06T12:04:29.608Z"
   },
   {
    "duration": 98,
    "start_time": "2023-07-06T12:06:01.817Z"
   },
   {
    "duration": 12,
    "start_time": "2023-07-06T12:06:01.917Z"
   },
   {
    "duration": 18,
    "start_time": "2023-07-06T12:06:39.923Z"
   },
   {
    "duration": 61073,
    "start_time": "2023-07-06T14:06:49.312Z"
   },
   {
    "duration": 3202,
    "start_time": "2023-07-06T14:09:25.829Z"
   },
   {
    "duration": 7854,
    "start_time": "2023-07-06T14:09:41.013Z"
   },
   {
    "duration": 1799,
    "start_time": "2023-07-06T14:09:48.869Z"
   },
   {
    "duration": 468,
    "start_time": "2023-07-06T14:09:50.670Z"
   },
   {
    "duration": 15,
    "start_time": "2023-07-06T14:09:51.139Z"
   },
   {
    "duration": 25,
    "start_time": "2023-07-06T14:09:51.156Z"
   },
   {
    "duration": 15,
    "start_time": "2023-07-06T14:09:51.183Z"
   },
   {
    "duration": 21,
    "start_time": "2023-07-06T14:09:51.201Z"
   },
   {
    "duration": 89,
    "start_time": "2023-07-06T14:09:51.224Z"
   },
   {
    "duration": 6,
    "start_time": "2023-07-06T14:09:51.315Z"
   },
   {
    "duration": 25,
    "start_time": "2023-07-06T14:09:51.322Z"
   },
   {
    "duration": 20,
    "start_time": "2023-07-06T14:09:51.349Z"
   },
   {
    "duration": 22,
    "start_time": "2023-07-06T14:09:51.370Z"
   },
   {
    "duration": 45,
    "start_time": "2023-07-06T14:09:51.393Z"
   },
   {
    "duration": 15,
    "start_time": "2023-07-06T14:09:51.441Z"
   },
   {
    "duration": 30,
    "start_time": "2023-07-06T14:09:51.458Z"
   },
   {
    "duration": 47,
    "start_time": "2023-07-06T14:09:51.490Z"
   },
   {
    "duration": 22,
    "start_time": "2023-07-06T14:09:51.539Z"
   },
   {
    "duration": 5,
    "start_time": "2023-07-06T14:09:51.563Z"
   },
   {
    "duration": 8,
    "start_time": "2023-07-06T14:09:51.570Z"
   },
   {
    "duration": 12,
    "start_time": "2023-07-06T14:09:51.580Z"
   },
   {
    "duration": 20,
    "start_time": "2023-07-06T14:09:51.593Z"
   },
   {
    "duration": 16,
    "start_time": "2023-07-06T14:09:51.615Z"
   },
   {
    "duration": 21,
    "start_time": "2023-07-06T14:09:51.632Z"
   },
   {
    "duration": 65,
    "start_time": "2023-07-06T14:09:51.654Z"
   },
   {
    "duration": 4,
    "start_time": "2023-07-06T14:09:51.720Z"
   },
   {
    "duration": 329,
    "start_time": "2023-07-06T14:09:51.725Z"
   },
   {
    "duration": 54,
    "start_time": "2023-07-06T14:09:52.055Z"
   },
   {
    "duration": 53,
    "start_time": "2023-07-06T14:09:52.113Z"
   },
   {
    "duration": 358,
    "start_time": "2023-07-06T14:09:52.168Z"
   },
   {
    "duration": 12,
    "start_time": "2023-07-06T14:09:52.528Z"
   },
   {
    "duration": 44,
    "start_time": "2023-07-06T14:09:52.541Z"
   },
   {
    "duration": 423,
    "start_time": "2023-07-06T14:09:52.586Z"
   },
   {
    "duration": 42,
    "start_time": "2023-07-06T14:09:53.010Z"
   },
   {
    "duration": 37,
    "start_time": "2023-07-06T14:09:53.054Z"
   },
   {
    "duration": 466,
    "start_time": "2023-07-06T14:09:53.093Z"
   },
   {
    "duration": 465,
    "start_time": "2023-07-06T14:09:53.561Z"
   },
   {
    "duration": 5,
    "start_time": "2023-07-06T14:09:54.028Z"
   },
   {
    "duration": 18,
    "start_time": "2023-07-06T14:09:54.034Z"
   },
   {
    "duration": 438,
    "start_time": "2023-07-06T14:09:54.054Z"
   },
   {
    "duration": 370,
    "start_time": "2023-07-06T14:09:54.493Z"
   },
   {
    "duration": 460,
    "start_time": "2023-07-06T14:09:54.866Z"
   },
   {
    "duration": 90,
    "start_time": "2023-07-06T14:09:55.328Z"
   },
   {
    "duration": 192,
    "start_time": "2023-07-06T14:09:55.420Z"
   },
   {
    "duration": 7,
    "start_time": "2023-07-06T14:09:55.614Z"
   },
   {
    "duration": 104,
    "start_time": "2023-07-06T14:09:55.623Z"
   },
   {
    "duration": 11,
    "start_time": "2023-07-06T14:09:55.728Z"
   },
   {
    "duration": 12,
    "start_time": "2023-07-06T14:09:55.740Z"
   },
   {
    "duration": 15,
    "start_time": "2023-07-06T14:09:55.753Z"
   },
   {
    "duration": 12,
    "start_time": "2023-07-06T14:09:55.770Z"
   },
   {
    "duration": 15,
    "start_time": "2023-07-06T14:09:55.783Z"
   },
   {
    "duration": 17,
    "start_time": "2023-07-06T14:09:55.806Z"
   },
   {
    "duration": 34,
    "start_time": "2023-07-06T14:09:55.824Z"
   },
   {
    "duration": 2179,
    "start_time": "2023-07-06T14:09:55.860Z"
   },
   {
    "duration": 80,
    "start_time": "2023-07-06T14:09:58.040Z"
   },
   {
    "duration": 12,
    "start_time": "2023-07-06T14:09:58.123Z"
   },
   {
    "duration": 975,
    "start_time": "2023-07-06T14:09:58.137Z"
   },
   {
    "duration": 67,
    "start_time": "2023-07-06T14:09:59.114Z"
   },
   {
    "duration": 381444,
    "start_time": "2023-07-06T14:09:59.183Z"
   },
   {
    "duration": 131,
    "start_time": "2023-07-06T14:16:20.629Z"
   },
   {
    "duration": 10,
    "start_time": "2023-07-06T14:16:20.762Z"
   },
   {
    "duration": 0,
    "start_time": "2023-07-06T14:16:20.773Z"
   },
   {
    "duration": 0,
    "start_time": "2023-07-06T14:16:20.774Z"
   },
   {
    "duration": 1068,
    "start_time": "2023-07-06T14:16:44.727Z"
   },
   {
    "duration": 1093,
    "start_time": "2023-07-06T14:17:03.435Z"
   },
   {
    "duration": 952,
    "start_time": "2023-07-06T14:18:05.148Z"
   },
   {
    "duration": 921,
    "start_time": "2023-07-06T14:18:11.951Z"
   },
   {
    "duration": 13,
    "start_time": "2023-07-06T14:22:00.170Z"
   },
   {
    "duration": 61,
    "start_time": "2023-07-06T14:22:19.575Z"
   },
   {
    "duration": 10,
    "start_time": "2023-07-06T14:22:43.140Z"
   },
   {
    "duration": 109,
    "start_time": "2023-07-06T14:23:04.748Z"
   },
   {
    "duration": 5,
    "start_time": "2023-07-06T14:23:13.886Z"
   },
   {
    "duration": 8,
    "start_time": "2023-07-06T14:23:15.187Z"
   },
   {
    "duration": 5,
    "start_time": "2023-07-06T14:23:17.162Z"
   },
   {
    "duration": 8,
    "start_time": "2023-07-06T14:23:19.071Z"
   },
   {
    "duration": 22,
    "start_time": "2023-07-06T14:23:20.081Z"
   },
   {
    "duration": 7,
    "start_time": "2023-07-06T14:23:21.048Z"
   },
   {
    "duration": 19,
    "start_time": "2023-07-06T14:23:22.159Z"
   },
   {
    "duration": 23,
    "start_time": "2023-07-06T14:23:26.455Z"
   },
   {
    "duration": 6,
    "start_time": "2023-07-06T14:23:27.755Z"
   },
   {
    "duration": 7,
    "start_time": "2023-07-06T14:23:29.550Z"
   },
   {
    "duration": 4,
    "start_time": "2023-07-06T14:23:30.960Z"
   },
   {
    "duration": 11,
    "start_time": "2023-07-06T14:23:32.477Z"
   },
   {
    "duration": 11,
    "start_time": "2023-07-06T14:23:34.127Z"
   },
   {
    "duration": 5,
    "start_time": "2023-07-06T14:23:39.247Z"
   },
   {
    "duration": 15,
    "start_time": "2023-07-06T14:24:04.221Z"
   },
   {
    "duration": 56,
    "start_time": "2023-07-06T14:24:10.381Z"
   },
   {
    "duration": 2031,
    "start_time": "2023-07-06T14:24:13.368Z"
   },
   {
    "duration": 18,
    "start_time": "2023-07-06T14:27:24.526Z"
   },
   {
    "duration": 7655,
    "start_time": "2023-07-06T14:40:55.646Z"
   },
   {
    "duration": 1879,
    "start_time": "2023-07-06T14:41:03.318Z"
   },
   {
    "duration": 133,
    "start_time": "2023-07-06T14:41:05.198Z"
   },
   {
    "duration": 19,
    "start_time": "2023-07-06T14:41:05.333Z"
   },
   {
    "duration": 9,
    "start_time": "2023-07-06T14:41:05.354Z"
   },
   {
    "duration": 77,
    "start_time": "2023-07-06T14:41:05.365Z"
   },
   {
    "duration": 33,
    "start_time": "2023-07-06T14:41:05.444Z"
   },
   {
    "duration": 157,
    "start_time": "2023-07-06T14:41:05.479Z"
   },
   {
    "duration": 6,
    "start_time": "2023-07-06T14:41:05.638Z"
   },
   {
    "duration": 27,
    "start_time": "2023-07-06T14:41:05.645Z"
   },
   {
    "duration": 37,
    "start_time": "2023-07-06T14:41:05.673Z"
   },
   {
    "duration": 32,
    "start_time": "2023-07-06T14:41:05.718Z"
   },
   {
    "duration": 6,
    "start_time": "2023-07-06T14:41:05.752Z"
   },
   {
    "duration": 16,
    "start_time": "2023-07-06T14:41:05.761Z"
   },
   {
    "duration": 44,
    "start_time": "2023-07-06T14:41:05.778Z"
   },
   {
    "duration": 36,
    "start_time": "2023-07-06T14:41:05.824Z"
   },
   {
    "duration": 52,
    "start_time": "2023-07-06T14:41:05.862Z"
   },
   {
    "duration": 12,
    "start_time": "2023-07-06T14:41:05.916Z"
   },
   {
    "duration": 11,
    "start_time": "2023-07-06T14:41:05.930Z"
   },
   {
    "duration": 7,
    "start_time": "2023-07-06T14:41:05.942Z"
   },
   {
    "duration": 8,
    "start_time": "2023-07-06T14:41:05.950Z"
   },
   {
    "duration": 15,
    "start_time": "2023-07-06T14:41:05.959Z"
   },
   {
    "duration": 33,
    "start_time": "2023-07-06T14:41:05.976Z"
   },
   {
    "duration": 75,
    "start_time": "2023-07-06T14:41:06.011Z"
   },
   {
    "duration": 4,
    "start_time": "2023-07-06T14:41:06.089Z"
   },
   {
    "duration": 388,
    "start_time": "2023-07-06T14:41:06.095Z"
   },
   {
    "duration": 48,
    "start_time": "2023-07-06T14:41:06.484Z"
   },
   {
    "duration": 40,
    "start_time": "2023-07-06T14:41:06.534Z"
   },
   {
    "duration": 362,
    "start_time": "2023-07-06T14:41:06.576Z"
   },
   {
    "duration": 13,
    "start_time": "2023-07-06T14:41:06.940Z"
   },
   {
    "duration": 6,
    "start_time": "2023-07-06T14:41:06.955Z"
   },
   {
    "duration": 416,
    "start_time": "2023-07-06T14:41:06.962Z"
   },
   {
    "duration": 51,
    "start_time": "2023-07-06T14:41:07.379Z"
   },
   {
    "duration": 54,
    "start_time": "2023-07-06T14:41:07.432Z"
   },
   {
    "duration": 541,
    "start_time": "2023-07-06T14:41:07.488Z"
   },
   {
    "duration": 483,
    "start_time": "2023-07-06T14:41:08.030Z"
   },
   {
    "duration": 7,
    "start_time": "2023-07-06T14:41:08.526Z"
   },
   {
    "duration": 38,
    "start_time": "2023-07-06T14:41:08.535Z"
   },
   {
    "duration": 465,
    "start_time": "2023-07-06T14:41:08.574Z"
   },
   {
    "duration": 419,
    "start_time": "2023-07-06T14:41:09.041Z"
   },
   {
    "duration": 472,
    "start_time": "2023-07-06T14:41:09.463Z"
   },
   {
    "duration": 1702,
    "start_time": "2023-07-06T14:41:09.936Z"
   },
   {
    "duration": 93,
    "start_time": "2023-07-06T14:41:11.640Z"
   },
   {
    "duration": 14,
    "start_time": "2023-07-06T14:41:11.811Z"
   },
   {
    "duration": 106,
    "start_time": "2023-07-06T14:41:11.829Z"
   },
   {
    "duration": 8,
    "start_time": "2023-07-06T14:41:11.937Z"
   },
   {
    "duration": 13,
    "start_time": "2023-07-06T14:41:11.947Z"
   },
   {
    "duration": 173,
    "start_time": "2023-07-06T14:41:11.961Z"
   },
   {
    "duration": 0,
    "start_time": "2023-07-06T14:41:12.136Z"
   },
   {
    "duration": 0,
    "start_time": "2023-07-06T14:41:12.137Z"
   },
   {
    "duration": 0,
    "start_time": "2023-07-06T14:41:12.138Z"
   },
   {
    "duration": 0,
    "start_time": "2023-07-06T14:41:12.139Z"
   },
   {
    "duration": 0,
    "start_time": "2023-07-06T14:41:12.140Z"
   },
   {
    "duration": 0,
    "start_time": "2023-07-06T14:41:12.141Z"
   },
   {
    "duration": 0,
    "start_time": "2023-07-06T14:41:12.142Z"
   },
   {
    "duration": 0,
    "start_time": "2023-07-06T14:41:12.143Z"
   },
   {
    "duration": 0,
    "start_time": "2023-07-06T14:41:12.145Z"
   },
   {
    "duration": 0,
    "start_time": "2023-07-06T14:41:12.145Z"
   },
   {
    "duration": 0,
    "start_time": "2023-07-06T14:41:12.146Z"
   },
   {
    "duration": 0,
    "start_time": "2023-07-06T14:41:12.147Z"
   },
   {
    "duration": 0,
    "start_time": "2023-07-06T14:41:12.148Z"
   },
   {
    "duration": 0,
    "start_time": "2023-07-06T14:41:12.149Z"
   },
   {
    "duration": 5,
    "start_time": "2023-07-06T14:44:17.360Z"
   },
   {
    "duration": 6,
    "start_time": "2023-07-06T14:44:19.631Z"
   },
   {
    "duration": 9,
    "start_time": "2023-07-06T14:44:21.640Z"
   },
   {
    "duration": 10,
    "start_time": "2023-07-06T14:45:41.729Z"
   },
   {
    "duration": 16,
    "start_time": "2023-07-06T14:46:10.923Z"
   },
   {
    "duration": 5,
    "start_time": "2023-07-06T14:46:24.123Z"
   },
   {
    "duration": 13,
    "start_time": "2023-07-06T14:46:26.819Z"
   },
   {
    "duration": 17,
    "start_time": "2023-07-06T14:46:41.524Z"
   },
   {
    "duration": 8263,
    "start_time": "2023-07-06T14:47:29.350Z"
   },
   {
    "duration": 2171,
    "start_time": "2023-07-06T14:47:37.616Z"
   },
   {
    "duration": 110,
    "start_time": "2023-07-06T14:47:39.788Z"
   },
   {
    "duration": 20,
    "start_time": "2023-07-06T14:47:39.907Z"
   },
   {
    "duration": 10,
    "start_time": "2023-07-06T14:47:39.928Z"
   },
   {
    "duration": 25,
    "start_time": "2023-07-06T14:47:39.940Z"
   },
   {
    "duration": 19,
    "start_time": "2023-07-06T14:47:39.967Z"
   },
   {
    "duration": 122,
    "start_time": "2023-07-06T14:47:39.987Z"
   },
   {
    "duration": 10,
    "start_time": "2023-07-06T14:47:40.110Z"
   },
   {
    "duration": 27,
    "start_time": "2023-07-06T14:47:40.123Z"
   },
   {
    "duration": 18,
    "start_time": "2023-07-06T14:47:40.152Z"
   },
   {
    "duration": 27,
    "start_time": "2023-07-06T14:47:40.171Z"
   },
   {
    "duration": 25,
    "start_time": "2023-07-06T14:47:40.199Z"
   },
   {
    "duration": 22,
    "start_time": "2023-07-06T14:47:40.226Z"
   },
   {
    "duration": 48,
    "start_time": "2023-07-06T14:47:40.249Z"
   },
   {
    "duration": 51,
    "start_time": "2023-07-06T14:47:40.299Z"
   },
   {
    "duration": 35,
    "start_time": "2023-07-06T14:47:40.352Z"
   },
   {
    "duration": 7,
    "start_time": "2023-07-06T14:47:40.389Z"
   },
   {
    "duration": 40,
    "start_time": "2023-07-06T14:47:40.397Z"
   },
   {
    "duration": 23,
    "start_time": "2023-07-06T14:47:40.438Z"
   },
   {
    "duration": 13,
    "start_time": "2023-07-06T14:47:40.463Z"
   },
   {
    "duration": 42,
    "start_time": "2023-07-06T14:47:40.477Z"
   },
   {
    "duration": 23,
    "start_time": "2023-07-06T14:47:40.522Z"
   },
   {
    "duration": 41,
    "start_time": "2023-07-06T14:47:40.547Z"
   },
   {
    "duration": 26,
    "start_time": "2023-07-06T14:47:40.590Z"
   },
   {
    "duration": 347,
    "start_time": "2023-07-06T14:47:40.618Z"
   },
   {
    "duration": 57,
    "start_time": "2023-07-06T14:47:40.967Z"
   },
   {
    "duration": 45,
    "start_time": "2023-07-06T14:47:41.029Z"
   },
   {
    "duration": 402,
    "start_time": "2023-07-06T14:47:41.076Z"
   },
   {
    "duration": 34,
    "start_time": "2023-07-06T14:47:41.479Z"
   },
   {
    "duration": 17,
    "start_time": "2023-07-06T14:47:41.524Z"
   },
   {
    "duration": 409,
    "start_time": "2023-07-06T14:47:41.543Z"
   },
   {
    "duration": 58,
    "start_time": "2023-07-06T14:47:41.955Z"
   },
   {
    "duration": 41,
    "start_time": "2023-07-06T14:47:42.018Z"
   },
   {
    "duration": 509,
    "start_time": "2023-07-06T14:47:42.061Z"
   },
   {
    "duration": 492,
    "start_time": "2023-07-06T14:47:42.572Z"
   },
   {
    "duration": 5,
    "start_time": "2023-07-06T14:47:43.065Z"
   },
   {
    "duration": 18,
    "start_time": "2023-07-06T14:47:43.072Z"
   },
   {
    "duration": 563,
    "start_time": "2023-07-06T14:47:43.092Z"
   },
   {
    "duration": 470,
    "start_time": "2023-07-06T14:47:43.657Z"
   },
   {
    "duration": 426,
    "start_time": "2023-07-06T14:47:44.129Z"
   },
   {
    "duration": 1883,
    "start_time": "2023-07-06T14:47:44.557Z"
   },
   {
    "duration": 85,
    "start_time": "2023-07-06T14:47:46.442Z"
   },
   {
    "duration": 79,
    "start_time": "2023-07-06T14:47:46.529Z"
   },
   {
    "duration": 121,
    "start_time": "2023-07-06T14:47:46.609Z"
   },
   {
    "duration": 12,
    "start_time": "2023-07-06T14:47:46.731Z"
   },
   {
    "duration": 23,
    "start_time": "2023-07-06T14:47:46.744Z"
   },
   {
    "duration": 13,
    "start_time": "2023-07-06T14:47:46.769Z"
   },
   {
    "duration": 22,
    "start_time": "2023-07-06T14:47:46.783Z"
   },
   {
    "duration": 1625,
    "start_time": "2023-07-06T14:47:46.815Z"
   },
   {
    "duration": 0,
    "start_time": "2023-07-06T14:47:48.441Z"
   },
   {
    "duration": 0,
    "start_time": "2023-07-06T14:47:48.443Z"
   },
   {
    "duration": 0,
    "start_time": "2023-07-06T14:47:48.444Z"
   },
   {
    "duration": 0,
    "start_time": "2023-07-06T14:47:48.446Z"
   },
   {
    "duration": 0,
    "start_time": "2023-07-06T14:47:48.447Z"
   },
   {
    "duration": 0,
    "start_time": "2023-07-06T14:47:48.448Z"
   },
   {
    "duration": 0,
    "start_time": "2023-07-06T14:47:48.449Z"
   },
   {
    "duration": 0,
    "start_time": "2023-07-06T14:47:48.451Z"
   },
   {
    "duration": 0,
    "start_time": "2023-07-06T14:47:48.453Z"
   },
   {
    "duration": 0,
    "start_time": "2023-07-06T14:47:48.454Z"
   },
   {
    "duration": 0,
    "start_time": "2023-07-06T14:47:48.456Z"
   },
   {
    "duration": 0,
    "start_time": "2023-07-06T14:47:48.458Z"
   },
   {
    "duration": 22,
    "start_time": "2023-07-06T14:48:20.632Z"
   },
   {
    "duration": 8722,
    "start_time": "2023-07-06T14:48:31.119Z"
   },
   {
    "duration": 2103,
    "start_time": "2023-07-06T14:48:39.844Z"
   },
   {
    "duration": 119,
    "start_time": "2023-07-06T14:48:41.949Z"
   },
   {
    "duration": 23,
    "start_time": "2023-07-06T14:48:42.070Z"
   },
   {
    "duration": 25,
    "start_time": "2023-07-06T14:48:42.096Z"
   },
   {
    "duration": 21,
    "start_time": "2023-07-06T14:48:42.123Z"
   },
   {
    "duration": 12,
    "start_time": "2023-07-06T14:48:42.146Z"
   },
   {
    "duration": 94,
    "start_time": "2023-07-06T14:48:42.160Z"
   },
   {
    "duration": 6,
    "start_time": "2023-07-06T14:48:42.255Z"
   },
   {
    "duration": 13,
    "start_time": "2023-07-06T14:48:42.262Z"
   },
   {
    "duration": 27,
    "start_time": "2023-07-06T14:48:42.276Z"
   },
   {
    "duration": 36,
    "start_time": "2023-07-06T14:48:42.304Z"
   },
   {
    "duration": 8,
    "start_time": "2023-07-06T14:48:42.342Z"
   },
   {
    "duration": 20,
    "start_time": "2023-07-06T14:48:42.354Z"
   },
   {
    "duration": 23,
    "start_time": "2023-07-06T14:48:42.375Z"
   },
   {
    "duration": 43,
    "start_time": "2023-07-06T14:48:42.414Z"
   },
   {
    "duration": 38,
    "start_time": "2023-07-06T14:48:42.458Z"
   },
   {
    "duration": 18,
    "start_time": "2023-07-06T14:48:42.498Z"
   },
   {
    "duration": 32,
    "start_time": "2023-07-06T14:48:42.518Z"
   },
   {
    "duration": 34,
    "start_time": "2023-07-06T14:48:42.551Z"
   },
   {
    "duration": 38,
    "start_time": "2023-07-06T14:48:42.587Z"
   },
   {
    "duration": 14,
    "start_time": "2023-07-06T14:48:42.627Z"
   },
   {
    "duration": 29,
    "start_time": "2023-07-06T14:48:42.643Z"
   },
   {
    "duration": 63,
    "start_time": "2023-07-06T14:48:42.674Z"
   },
   {
    "duration": 4,
    "start_time": "2023-07-06T14:48:42.739Z"
   },
   {
    "duration": 380,
    "start_time": "2023-07-06T14:48:42.745Z"
   },
   {
    "duration": 55,
    "start_time": "2023-07-06T14:48:43.127Z"
   },
   {
    "duration": 71,
    "start_time": "2023-07-06T14:48:43.184Z"
   },
   {
    "duration": 428,
    "start_time": "2023-07-06T14:48:43.257Z"
   },
   {
    "duration": 30,
    "start_time": "2023-07-06T14:48:43.687Z"
   },
   {
    "duration": 13,
    "start_time": "2023-07-06T14:48:43.719Z"
   },
   {
    "duration": 433,
    "start_time": "2023-07-06T14:48:43.733Z"
   },
   {
    "duration": 59,
    "start_time": "2023-07-06T14:48:44.168Z"
   },
   {
    "duration": 40,
    "start_time": "2023-07-06T14:48:44.228Z"
   },
   {
    "duration": 466,
    "start_time": "2023-07-06T14:48:44.269Z"
   },
   {
    "duration": 490,
    "start_time": "2023-07-06T14:48:44.737Z"
   },
   {
    "duration": 6,
    "start_time": "2023-07-06T14:48:45.229Z"
   },
   {
    "duration": 26,
    "start_time": "2023-07-06T14:48:45.237Z"
   },
   {
    "duration": 536,
    "start_time": "2023-07-06T14:48:45.265Z"
   },
   {
    "duration": 378,
    "start_time": "2023-07-06T14:48:45.812Z"
   },
   {
    "duration": 440,
    "start_time": "2023-07-06T14:48:46.206Z"
   },
   {
    "duration": 1754,
    "start_time": "2023-07-06T14:48:46.647Z"
   },
   {
    "duration": 202,
    "start_time": "2023-07-06T14:48:48.403Z"
   },
   {
    "duration": 117,
    "start_time": "2023-07-06T14:48:48.607Z"
   },
   {
    "duration": 15,
    "start_time": "2023-07-06T14:48:48.726Z"
   },
   {
    "duration": 14,
    "start_time": "2023-07-06T14:48:48.743Z"
   },
   {
    "duration": 20,
    "start_time": "2023-07-06T14:48:48.759Z"
   },
   {
    "duration": 14,
    "start_time": "2023-07-06T14:48:48.781Z"
   },
   {
    "duration": 27,
    "start_time": "2023-07-06T14:48:48.797Z"
   },
   {
    "duration": 7,
    "start_time": "2023-07-06T14:48:48.826Z"
   },
   {
    "duration": 1135,
    "start_time": "2023-07-06T14:48:48.835Z"
   },
   {
    "duration": 0,
    "start_time": "2023-07-06T14:48:49.972Z"
   },
   {
    "duration": 0,
    "start_time": "2023-07-06T14:48:49.973Z"
   },
   {
    "duration": 0,
    "start_time": "2023-07-06T14:48:49.974Z"
   },
   {
    "duration": 0,
    "start_time": "2023-07-06T14:48:49.975Z"
   },
   {
    "duration": 0,
    "start_time": "2023-07-06T14:48:49.976Z"
   },
   {
    "duration": 0,
    "start_time": "2023-07-06T14:48:49.977Z"
   },
   {
    "duration": 0,
    "start_time": "2023-07-06T14:48:49.977Z"
   },
   {
    "duration": 0,
    "start_time": "2023-07-06T14:48:49.978Z"
   },
   {
    "duration": 0,
    "start_time": "2023-07-06T14:48:49.979Z"
   },
   {
    "duration": 0,
    "start_time": "2023-07-06T14:48:49.981Z"
   },
   {
    "duration": 0,
    "start_time": "2023-07-06T14:48:49.981Z"
   },
   {
    "duration": 13,
    "start_time": "2023-07-06T14:53:17.125Z"
   },
   {
    "duration": 10,
    "start_time": "2023-07-06T14:54:40.161Z"
   },
   {
    "duration": 20,
    "start_time": "2023-07-06T14:54:58.219Z"
   },
   {
    "duration": 18,
    "start_time": "2023-07-06T14:55:57.109Z"
   },
   {
    "duration": 21,
    "start_time": "2023-07-06T14:55:59.026Z"
   },
   {
    "duration": 14,
    "start_time": "2023-07-06T14:56:01.057Z"
   },
   {
    "duration": 15,
    "start_time": "2023-07-06T14:58:02.482Z"
   },
   {
    "duration": 8,
    "start_time": "2023-07-06T14:58:20.305Z"
   },
   {
    "duration": 24,
    "start_time": "2023-07-06T14:58:22.017Z"
   },
   {
    "duration": 40,
    "start_time": "2023-07-06T14:58:24.081Z"
   },
   {
    "duration": 32,
    "start_time": "2023-07-06T14:58:38.414Z"
   },
   {
    "duration": 16,
    "start_time": "2023-07-06T14:58:56.937Z"
   },
   {
    "duration": 31,
    "start_time": "2023-07-06T14:59:03.218Z"
   },
   {
    "duration": 16,
    "start_time": "2023-07-06T14:59:24.028Z"
   },
   {
    "duration": 65,
    "start_time": "2023-07-06T15:00:00.778Z"
   },
   {
    "duration": 13,
    "start_time": "2023-07-06T15:00:15.526Z"
   },
   {
    "duration": 19,
    "start_time": "2023-07-06T15:01:02.244Z"
   },
   {
    "duration": 1532,
    "start_time": "2023-07-06T15:01:44.245Z"
   },
   {
    "duration": 10,
    "start_time": "2023-07-06T15:03:52.024Z"
   },
   {
    "duration": 3961,
    "start_time": "2023-07-06T15:04:04.323Z"
   },
   {
    "duration": 4,
    "start_time": "2023-07-06T15:04:46.628Z"
   },
   {
    "duration": 137807,
    "start_time": "2023-07-06T15:05:33.675Z"
   },
   {
    "duration": 18,
    "start_time": "2023-07-06T15:10:54.839Z"
   },
   {
    "duration": 85811,
    "start_time": "2023-07-06T15:11:24.841Z"
   },
   {
    "duration": 8,
    "start_time": "2023-07-06T15:14:45.855Z"
   },
   {
    "duration": 107,
    "start_time": "2023-07-06T15:14:57.350Z"
   },
   {
    "duration": 85106,
    "start_time": "2023-07-06T15:15:07.188Z"
   },
   {
    "duration": 26901,
    "start_time": "2023-07-06T15:19:39.914Z"
   },
   {
    "duration": 19714,
    "start_time": "2023-07-06T15:21:49.819Z"
   },
   {
    "duration": 4,
    "start_time": "2023-07-06T15:22:49.018Z"
   },
   {
    "duration": 20715,
    "start_time": "2023-07-06T15:22:57.432Z"
   },
   {
    "duration": 23027,
    "start_time": "2023-07-06T15:24:45.985Z"
   },
   {
    "duration": 0,
    "start_time": "2023-07-06T15:25:09.014Z"
   },
   {
    "duration": 13,
    "start_time": "2023-07-06T15:25:36.572Z"
   },
   {
    "duration": 15,
    "start_time": "2023-07-06T15:25:47.232Z"
   },
   {
    "duration": 19225,
    "start_time": "2023-07-06T15:25:57.512Z"
   },
   {
    "duration": 1461,
    "start_time": "2023-07-06T15:26:49.902Z"
   },
   {
    "duration": 5,
    "start_time": "2023-07-06T15:27:39.451Z"
   },
   {
    "duration": 5,
    "start_time": "2023-07-06T15:28:05.030Z"
   },
   {
    "duration": 22727,
    "start_time": "2023-07-06T15:28:31.471Z"
   },
   {
    "duration": 721,
    "start_time": "2023-07-06T15:29:35.631Z"
   },
   {
    "duration": 21,
    "start_time": "2023-07-06T15:30:09.801Z"
   },
   {
    "duration": 33350,
    "start_time": "2023-07-06T15:31:23.509Z"
   },
   {
    "duration": 7807,
    "start_time": "2023-07-06T18:34:27.035Z"
   },
   {
    "duration": 1935,
    "start_time": "2023-07-06T18:34:34.845Z"
   },
   {
    "duration": 160,
    "start_time": "2023-07-06T18:34:36.781Z"
   },
   {
    "duration": 20,
    "start_time": "2023-07-06T18:34:36.943Z"
   },
   {
    "duration": 8,
    "start_time": "2023-07-06T18:34:36.964Z"
   },
   {
    "duration": 13,
    "start_time": "2023-07-06T18:34:36.973Z"
   },
   {
    "duration": 11,
    "start_time": "2023-07-06T18:34:36.987Z"
   },
   {
    "duration": 125,
    "start_time": "2023-07-06T18:34:36.999Z"
   },
   {
    "duration": 6,
    "start_time": "2023-07-06T18:34:37.125Z"
   },
   {
    "duration": 7,
    "start_time": "2023-07-06T18:34:37.134Z"
   },
   {
    "duration": 7,
    "start_time": "2023-07-06T18:34:37.143Z"
   },
   {
    "duration": 18,
    "start_time": "2023-07-06T18:34:37.151Z"
   },
   {
    "duration": 16,
    "start_time": "2023-07-06T18:34:37.171Z"
   },
   {
    "duration": 20,
    "start_time": "2023-07-06T18:34:37.189Z"
   },
   {
    "duration": 24,
    "start_time": "2023-07-06T18:34:37.210Z"
   },
   {
    "duration": 17,
    "start_time": "2023-07-06T18:34:37.236Z"
   },
   {
    "duration": 23,
    "start_time": "2023-07-06T18:34:37.255Z"
   },
   {
    "duration": 6,
    "start_time": "2023-07-06T18:34:37.280Z"
   },
   {
    "duration": 17,
    "start_time": "2023-07-06T18:34:37.287Z"
   },
   {
    "duration": 25,
    "start_time": "2023-07-06T18:34:37.305Z"
   },
   {
    "duration": 12,
    "start_time": "2023-07-06T18:34:37.332Z"
   },
   {
    "duration": 15,
    "start_time": "2023-07-06T18:34:37.345Z"
   },
   {
    "duration": 14,
    "start_time": "2023-07-06T18:34:37.362Z"
   },
   {
    "duration": 57,
    "start_time": "2023-07-06T18:34:37.378Z"
   },
   {
    "duration": 5,
    "start_time": "2023-07-06T18:34:37.437Z"
   },
   {
    "duration": 443,
    "start_time": "2023-07-06T18:34:37.443Z"
   },
   {
    "duration": 57,
    "start_time": "2023-07-06T18:34:37.888Z"
   },
   {
    "duration": 40,
    "start_time": "2023-07-06T18:34:37.949Z"
   },
   {
    "duration": 362,
    "start_time": "2023-07-06T18:34:37.990Z"
   },
   {
    "duration": 15,
    "start_time": "2023-07-06T18:34:38.354Z"
   },
   {
    "duration": 16,
    "start_time": "2023-07-06T18:34:38.371Z"
   },
   {
    "duration": 476,
    "start_time": "2023-07-06T18:34:38.389Z"
   },
   {
    "duration": 51,
    "start_time": "2023-07-06T18:34:38.867Z"
   },
   {
    "duration": 41,
    "start_time": "2023-07-06T18:34:38.920Z"
   },
   {
    "duration": 490,
    "start_time": "2023-07-06T18:34:38.963Z"
   },
   {
    "duration": 487,
    "start_time": "2023-07-06T18:34:39.455Z"
   },
   {
    "duration": 6,
    "start_time": "2023-07-06T18:34:39.943Z"
   },
   {
    "duration": 16,
    "start_time": "2023-07-06T18:34:39.950Z"
   },
   {
    "duration": 505,
    "start_time": "2023-07-06T18:34:39.967Z"
   },
   {
    "duration": 401,
    "start_time": "2023-07-06T18:34:40.474Z"
   },
   {
    "duration": 459,
    "start_time": "2023-07-06T18:34:40.877Z"
   },
   {
    "duration": 1624,
    "start_time": "2023-07-06T18:34:41.337Z"
   },
   {
    "duration": 68,
    "start_time": "2023-07-06T18:34:42.962Z"
   },
   {
    "duration": 106,
    "start_time": "2023-07-06T18:34:43.099Z"
   },
   {
    "duration": 71,
    "start_time": "2023-07-06T18:34:43.207Z"
   },
   {
    "duration": 64,
    "start_time": "2023-07-06T18:34:43.279Z"
   },
   {
    "duration": 49,
    "start_time": "2023-07-06T18:34:43.345Z"
   },
   {
    "duration": 30,
    "start_time": "2023-07-06T18:34:43.395Z"
   },
   {
    "duration": 12,
    "start_time": "2023-07-06T18:34:43.427Z"
   },
   {
    "duration": 7,
    "start_time": "2023-07-06T18:34:43.441Z"
   },
   {
    "duration": 23,
    "start_time": "2023-07-06T18:34:43.450Z"
   },
   {
    "duration": 11,
    "start_time": "2023-07-06T18:34:43.474Z"
   },
   {
    "duration": 25,
    "start_time": "2023-07-06T18:34:43.487Z"
   },
   {
    "duration": 400,
    "start_time": "2023-07-06T18:34:43.520Z"
   },
   {
    "duration": 7,
    "start_time": "2023-07-06T18:34:43.922Z"
   },
   {
    "duration": 26991,
    "start_time": "2023-07-06T18:34:43.930Z"
   },
   {
    "duration": 0,
    "start_time": "2023-07-06T18:35:10.923Z"
   },
   {
    "duration": 0,
    "start_time": "2023-07-06T18:35:10.924Z"
   },
   {
    "duration": 0,
    "start_time": "2023-07-06T18:35:10.925Z"
   },
   {
    "duration": 0,
    "start_time": "2023-07-06T18:35:10.927Z"
   },
   {
    "duration": 0,
    "start_time": "2023-07-06T18:35:10.928Z"
   },
   {
    "duration": 0,
    "start_time": "2023-07-06T18:35:10.931Z"
   },
   {
    "duration": 0,
    "start_time": "2023-07-06T18:35:10.932Z"
   },
   {
    "duration": 24270,
    "start_time": "2023-07-06T18:36:40.112Z"
   },
   {
    "duration": 18,
    "start_time": "2023-07-06T18:37:54.414Z"
   },
   {
    "duration": 14,
    "start_time": "2023-07-06T18:38:05.165Z"
   },
   {
    "duration": 8,
    "start_time": "2023-07-06T18:38:12.761Z"
   },
   {
    "duration": 15,
    "start_time": "2023-07-06T18:39:11.321Z"
   },
   {
    "duration": 24438,
    "start_time": "2023-07-06T18:39:42.633Z"
   },
   {
    "duration": 33574,
    "start_time": "2023-07-06T18:46:15.044Z"
   },
   {
    "duration": 22524,
    "start_time": "2023-07-06T18:47:12.863Z"
   },
   {
    "duration": 11,
    "start_time": "2023-07-06T18:48:42.756Z"
   },
   {
    "duration": 12,
    "start_time": "2023-07-06T18:49:03.942Z"
   },
   {
    "duration": 1276,
    "start_time": "2023-07-06T18:49:16.676Z"
   },
   {
    "duration": 20,
    "start_time": "2023-07-06T18:49:34.615Z"
   },
   {
    "duration": 11,
    "start_time": "2023-07-06T18:49:41.709Z"
   },
   {
    "duration": 13,
    "start_time": "2023-07-06T18:50:20.198Z"
   },
   {
    "duration": 13,
    "start_time": "2023-07-06T18:51:52.301Z"
   },
   {
    "duration": 1073,
    "start_time": "2023-07-06T18:52:09.316Z"
   },
   {
    "duration": 35,
    "start_time": "2023-07-06T18:54:33.647Z"
   },
   {
    "duration": 13,
    "start_time": "2023-07-06T18:54:58.189Z"
   },
   {
    "duration": 21,
    "start_time": "2023-07-06T18:55:24.769Z"
   },
   {
    "duration": 14,
    "start_time": "2023-07-06T18:55:30.443Z"
   },
   {
    "duration": 38,
    "start_time": "2023-07-06T18:55:39.531Z"
   },
   {
    "duration": 17,
    "start_time": "2023-07-06T18:55:41.503Z"
   },
   {
    "duration": 12,
    "start_time": "2023-07-06T18:57:18.922Z"
   },
   {
    "duration": 33,
    "start_time": "2023-07-06T18:57:41.601Z"
   },
   {
    "duration": 13,
    "start_time": "2023-07-06T18:57:43.713Z"
   },
   {
    "duration": 12,
    "start_time": "2023-07-06T18:58:11.762Z"
   },
   {
    "duration": 39,
    "start_time": "2023-07-06T18:59:20.293Z"
   },
   {
    "duration": 37,
    "start_time": "2023-07-06T18:59:25.170Z"
   },
   {
    "duration": 34,
    "start_time": "2023-07-06T18:59:29.694Z"
   },
   {
    "duration": 16,
    "start_time": "2023-07-06T18:59:31.631Z"
   },
   {
    "duration": 23,
    "start_time": "2023-07-06T18:59:42.446Z"
   },
   {
    "duration": 29,
    "start_time": "2023-07-06T18:59:45.492Z"
   },
   {
    "duration": 1518,
    "start_time": "2023-07-06T19:01:16.243Z"
   },
   {
    "duration": 18,
    "start_time": "2023-07-06T19:01:34.793Z"
   },
   {
    "duration": 18,
    "start_time": "2023-07-06T19:01:38.321Z"
   },
   {
    "duration": 7,
    "start_time": "2023-07-06T19:01:46.470Z"
   },
   {
    "duration": 15,
    "start_time": "2023-07-06T19:01:48.433Z"
   },
   {
    "duration": 13,
    "start_time": "2023-07-06T19:01:50.414Z"
   },
   {
    "duration": 12,
    "start_time": "2023-07-06T19:01:52.947Z"
   },
   {
    "duration": 19,
    "start_time": "2023-07-06T19:01:54.662Z"
   },
   {
    "duration": 1271,
    "start_time": "2023-07-06T19:01:58.178Z"
   },
   {
    "duration": 31468,
    "start_time": "2023-07-06T19:04:53.773Z"
   },
   {
    "duration": 1769,
    "start_time": "2023-07-06T19:06:55.415Z"
   },
   {
    "duration": 5,
    "start_time": "2023-07-06T19:07:17.193Z"
   },
   {
    "duration": 13,
    "start_time": "2023-07-06T19:07:32.230Z"
   },
   {
    "duration": 110,
    "start_time": "2023-07-06T19:08:20.129Z"
   },
   {
    "duration": 3239,
    "start_time": "2023-07-06T19:08:44.563Z"
   },
   {
    "duration": 15,
    "start_time": "2023-07-06T19:08:57.827Z"
   },
   {
    "duration": 26,
    "start_time": "2023-07-06T19:09:25.191Z"
   },
   {
    "duration": 12,
    "start_time": "2023-07-06T19:09:48.819Z"
   },
   {
    "duration": 3152,
    "start_time": "2023-07-06T19:09:51.669Z"
   },
   {
    "duration": 4,
    "start_time": "2023-07-06T19:10:02.638Z"
   },
   {
    "duration": 3221,
    "start_time": "2023-07-06T19:10:04.196Z"
   },
   {
    "duration": 14654,
    "start_time": "2023-07-06T19:10:26.997Z"
   },
   {
    "duration": 2245,
    "start_time": "2023-07-06T19:10:41.653Z"
   },
   {
    "duration": 156,
    "start_time": "2023-07-06T19:10:43.914Z"
   },
   {
    "duration": 15,
    "start_time": "2023-07-06T19:10:44.072Z"
   },
   {
    "duration": 6,
    "start_time": "2023-07-06T19:10:44.089Z"
   },
   {
    "duration": 46,
    "start_time": "2023-07-06T19:10:44.096Z"
   },
   {
    "duration": 11,
    "start_time": "2023-07-06T19:10:44.144Z"
   },
   {
    "duration": 114,
    "start_time": "2023-07-06T19:10:44.157Z"
   },
   {
    "duration": 6,
    "start_time": "2023-07-06T19:10:44.272Z"
   },
   {
    "duration": 6,
    "start_time": "2023-07-06T19:10:44.280Z"
   },
   {
    "duration": 30,
    "start_time": "2023-07-06T19:10:44.287Z"
   },
   {
    "duration": 9,
    "start_time": "2023-07-06T19:10:44.322Z"
   },
   {
    "duration": 17,
    "start_time": "2023-07-06T19:10:44.333Z"
   },
   {
    "duration": 9,
    "start_time": "2023-07-06T19:10:44.351Z"
   },
   {
    "duration": 21,
    "start_time": "2023-07-06T19:10:44.362Z"
   },
   {
    "duration": 33,
    "start_time": "2023-07-06T19:10:44.384Z"
   },
   {
    "duration": 55,
    "start_time": "2023-07-06T19:10:44.418Z"
   },
   {
    "duration": 6,
    "start_time": "2023-07-06T19:10:44.474Z"
   },
   {
    "duration": 15,
    "start_time": "2023-07-06T19:10:44.482Z"
   },
   {
    "duration": 30,
    "start_time": "2023-07-06T19:10:44.505Z"
   },
   {
    "duration": 22,
    "start_time": "2023-07-06T19:10:44.537Z"
   },
   {
    "duration": 15,
    "start_time": "2023-07-06T19:10:44.561Z"
   },
   {
    "duration": 11,
    "start_time": "2023-07-06T19:10:44.577Z"
   },
   {
    "duration": 44,
    "start_time": "2023-07-06T19:10:44.589Z"
   },
   {
    "duration": 9,
    "start_time": "2023-07-06T19:10:44.634Z"
   },
   {
    "duration": 385,
    "start_time": "2023-07-06T19:10:44.644Z"
   },
   {
    "duration": 47,
    "start_time": "2023-07-06T19:10:45.031Z"
   },
   {
    "duration": 63,
    "start_time": "2023-07-06T19:10:45.081Z"
   },
   {
    "duration": 329,
    "start_time": "2023-07-06T19:10:45.146Z"
   },
   {
    "duration": 16,
    "start_time": "2023-07-06T19:10:45.476Z"
   },
   {
    "duration": 52,
    "start_time": "2023-07-06T19:10:45.493Z"
   },
   {
    "duration": 375,
    "start_time": "2023-07-06T19:10:45.546Z"
   },
   {
    "duration": 47,
    "start_time": "2023-07-06T19:10:45.922Z"
   },
   {
    "duration": 80,
    "start_time": "2023-07-06T19:10:45.971Z"
   },
   {
    "duration": 565,
    "start_time": "2023-07-06T19:10:46.053Z"
   },
   {
    "duration": 621,
    "start_time": "2023-07-06T19:10:46.620Z"
   },
   {
    "duration": 10,
    "start_time": "2023-07-06T19:10:47.245Z"
   },
   {
    "duration": 19,
    "start_time": "2023-07-06T19:10:47.257Z"
   },
   {
    "duration": 410,
    "start_time": "2023-07-06T19:10:47.278Z"
   },
   {
    "duration": 371,
    "start_time": "2023-07-06T19:10:47.690Z"
   },
   {
    "duration": 497,
    "start_time": "2023-07-06T19:10:48.063Z"
   },
   {
    "duration": 1808,
    "start_time": "2023-07-06T19:10:48.562Z"
   },
   {
    "duration": 137,
    "start_time": "2023-07-06T19:10:50.371Z"
   },
   {
    "duration": 12,
    "start_time": "2023-07-06T19:10:50.511Z"
   },
   {
    "duration": 107,
    "start_time": "2023-07-06T19:10:50.530Z"
   },
   {
    "duration": 13,
    "start_time": "2023-07-06T19:10:50.639Z"
   },
   {
    "duration": 25,
    "start_time": "2023-07-06T19:10:50.654Z"
   },
   {
    "duration": 15,
    "start_time": "2023-07-06T19:10:50.681Z"
   },
   {
    "duration": 48,
    "start_time": "2023-07-06T19:10:50.697Z"
   },
   {
    "duration": 12,
    "start_time": "2023-07-06T19:10:50.746Z"
   },
   {
    "duration": 34,
    "start_time": "2023-07-06T19:10:50.760Z"
   },
   {
    "duration": 14,
    "start_time": "2023-07-06T19:10:50.795Z"
   },
   {
    "duration": 53,
    "start_time": "2023-07-06T19:10:50.814Z"
   },
   {
    "duration": 99348,
    "start_time": "2023-07-06T19:10:50.869Z"
   },
   {
    "duration": 277150,
    "start_time": "2023-07-06T19:12:30.226Z"
   },
   {
    "duration": 601,
    "start_time": "2023-07-06T19:17:07.378Z"
   },
   {
    "duration": 2956,
    "start_time": "2023-07-06T19:17:07.980Z"
   },
   {
    "duration": 3266,
    "start_time": "2023-07-06T19:17:10.938Z"
   },
   {
    "duration": 79,
    "start_time": "2023-07-06T19:17:14.208Z"
   },
   {
    "duration": 27,
    "start_time": "2023-07-06T19:17:14.289Z"
   },
   {
    "duration": 0,
    "start_time": "2023-07-06T19:17:14.318Z"
   },
   {
    "duration": 0,
    "start_time": "2023-07-06T19:17:14.321Z"
   },
   {
    "duration": 168763,
    "start_time": "2023-07-06T19:18:03.488Z"
   },
   {
    "duration": 129,
    "start_time": "2023-07-06T19:21:29.626Z"
   },
   {
    "duration": 101598,
    "start_time": "2023-07-06T19:21:50.563Z"
   },
   {
    "duration": 102,
    "start_time": "2023-07-06T19:24:06.151Z"
   },
   {
    "duration": 106033,
    "start_time": "2023-07-06T19:28:28.018Z"
   },
   {
    "duration": 672,
    "start_time": "2023-07-06T19:32:44.426Z"
   },
   {
    "duration": 12938,
    "start_time": "2023-07-06T19:36:36.333Z"
   },
   {
    "duration": 3079,
    "start_time": "2023-07-06T19:36:49.273Z"
   },
   {
    "duration": 135,
    "start_time": "2023-07-06T19:36:52.353Z"
   },
   {
    "duration": 29,
    "start_time": "2023-07-06T19:36:52.490Z"
   },
   {
    "duration": 5,
    "start_time": "2023-07-06T19:36:52.521Z"
   },
   {
    "duration": 14,
    "start_time": "2023-07-06T19:36:52.527Z"
   },
   {
    "duration": 7,
    "start_time": "2023-07-06T19:36:52.542Z"
   },
   {
    "duration": 94,
    "start_time": "2023-07-06T19:36:52.550Z"
   },
   {
    "duration": 5,
    "start_time": "2023-07-06T19:36:52.646Z"
   },
   {
    "duration": 9,
    "start_time": "2023-07-06T19:36:52.653Z"
   },
   {
    "duration": 7,
    "start_time": "2023-07-06T19:36:52.663Z"
   },
   {
    "duration": 39,
    "start_time": "2023-07-06T19:36:52.672Z"
   },
   {
    "duration": 8,
    "start_time": "2023-07-06T19:36:52.714Z"
   },
   {
    "duration": 17,
    "start_time": "2023-07-06T19:36:52.725Z"
   },
   {
    "duration": 18,
    "start_time": "2023-07-06T19:36:52.744Z"
   },
   {
    "duration": 23,
    "start_time": "2023-07-06T19:36:52.764Z"
   },
   {
    "duration": 40,
    "start_time": "2023-07-06T19:36:52.789Z"
   },
   {
    "duration": 9,
    "start_time": "2023-07-06T19:36:52.831Z"
   },
   {
    "duration": 18,
    "start_time": "2023-07-06T19:36:52.842Z"
   },
   {
    "duration": 7,
    "start_time": "2023-07-06T19:36:52.862Z"
   },
   {
    "duration": 19,
    "start_time": "2023-07-06T19:36:52.870Z"
   },
   {
    "duration": 16,
    "start_time": "2023-07-06T19:36:52.890Z"
   },
   {
    "duration": 28,
    "start_time": "2023-07-06T19:36:52.907Z"
   },
   {
    "duration": 42,
    "start_time": "2023-07-06T19:36:52.937Z"
   },
   {
    "duration": 4,
    "start_time": "2023-07-06T19:36:52.980Z"
   },
   {
    "duration": 362,
    "start_time": "2023-07-06T19:36:52.986Z"
   },
   {
    "duration": 38,
    "start_time": "2023-07-06T19:36:53.349Z"
   },
   {
    "duration": 50,
    "start_time": "2023-07-06T19:36:53.398Z"
   },
   {
    "duration": 327,
    "start_time": "2023-07-06T19:36:53.450Z"
   },
   {
    "duration": 12,
    "start_time": "2023-07-06T19:36:53.778Z"
   },
   {
    "duration": 22,
    "start_time": "2023-07-06T19:36:53.792Z"
   },
   {
    "duration": 364,
    "start_time": "2023-07-06T19:36:53.815Z"
   },
   {
    "duration": 56,
    "start_time": "2023-07-06T19:36:54.180Z"
   },
   {
    "duration": 35,
    "start_time": "2023-07-06T19:36:54.239Z"
   },
   {
    "duration": 463,
    "start_time": "2023-07-06T19:36:54.276Z"
   },
   {
    "duration": 583,
    "start_time": "2023-07-06T19:36:54.741Z"
   },
   {
    "duration": 6,
    "start_time": "2023-07-06T19:36:55.326Z"
   },
   {
    "duration": 29,
    "start_time": "2023-07-06T19:36:55.333Z"
   },
   {
    "duration": 393,
    "start_time": "2023-07-06T19:36:55.364Z"
   },
   {
    "duration": 370,
    "start_time": "2023-07-06T19:36:55.759Z"
   },
   {
    "duration": 439,
    "start_time": "2023-07-06T19:36:56.132Z"
   },
   {
    "duration": 1451,
    "start_time": "2023-07-06T19:36:56.573Z"
   },
   {
    "duration": 87,
    "start_time": "2023-07-06T19:36:58.026Z"
   },
   {
    "duration": 90,
    "start_time": "2023-07-06T19:36:58.117Z"
   },
   {
    "duration": 104,
    "start_time": "2023-07-06T19:36:58.212Z"
   },
   {
    "duration": 7,
    "start_time": "2023-07-06T19:36:58.317Z"
   },
   {
    "duration": 15,
    "start_time": "2023-07-06T19:36:58.325Z"
   },
   {
    "duration": 8,
    "start_time": "2023-07-06T19:36:58.341Z"
   },
   {
    "duration": 7,
    "start_time": "2023-07-06T19:36:58.351Z"
   },
   {
    "duration": 6,
    "start_time": "2023-07-06T19:36:58.360Z"
   },
   {
    "duration": 21,
    "start_time": "2023-07-06T19:36:58.368Z"
   },
   {
    "duration": 19,
    "start_time": "2023-07-06T19:36:58.390Z"
   },
   {
    "duration": 24,
    "start_time": "2023-07-06T19:36:58.410Z"
   },
   {
    "duration": 92575,
    "start_time": "2023-07-06T19:36:58.436Z"
   },
   {
    "duration": 176854,
    "start_time": "2023-07-06T19:38:31.014Z"
   },
   {
    "duration": 12886,
    "start_time": "2023-07-06T19:53:21.034Z"
   },
   {
    "duration": 2207,
    "start_time": "2023-07-06T19:53:33.923Z"
   },
   {
    "duration": 144,
    "start_time": "2023-07-06T19:53:36.132Z"
   },
   {
    "duration": 16,
    "start_time": "2023-07-06T19:53:36.278Z"
   },
   {
    "duration": 20,
    "start_time": "2023-07-06T19:53:36.296Z"
   },
   {
    "duration": 15,
    "start_time": "2023-07-06T19:53:36.318Z"
   },
   {
    "duration": 16,
    "start_time": "2023-07-06T19:53:36.334Z"
   },
   {
    "duration": 108,
    "start_time": "2023-07-06T19:53:36.352Z"
   },
   {
    "duration": 6,
    "start_time": "2023-07-06T19:53:36.461Z"
   },
   {
    "duration": 18,
    "start_time": "2023-07-06T19:53:36.469Z"
   },
   {
    "duration": 27,
    "start_time": "2023-07-06T19:53:36.489Z"
   },
   {
    "duration": 14,
    "start_time": "2023-07-06T19:53:36.517Z"
   },
   {
    "duration": 11,
    "start_time": "2023-07-06T19:53:36.532Z"
   },
   {
    "duration": 6,
    "start_time": "2023-07-06T19:53:36.547Z"
   },
   {
    "duration": 14,
    "start_time": "2023-07-06T19:53:36.554Z"
   },
   {
    "duration": 20,
    "start_time": "2023-07-06T19:53:36.569Z"
   },
   {
    "duration": 34,
    "start_time": "2023-07-06T19:53:36.590Z"
   },
   {
    "duration": 6,
    "start_time": "2023-07-06T19:53:36.625Z"
   },
   {
    "duration": 9,
    "start_time": "2023-07-06T19:53:36.632Z"
   },
   {
    "duration": 26,
    "start_time": "2023-07-06T19:53:36.642Z"
   },
   {
    "duration": 26,
    "start_time": "2023-07-06T19:53:36.669Z"
   },
   {
    "duration": 34,
    "start_time": "2023-07-06T19:53:36.697Z"
   },
   {
    "duration": 13,
    "start_time": "2023-07-06T19:53:36.732Z"
   },
   {
    "duration": 45,
    "start_time": "2023-07-06T19:53:36.746Z"
   },
   {
    "duration": 4,
    "start_time": "2023-07-06T19:53:36.792Z"
   },
   {
    "duration": 373,
    "start_time": "2023-07-06T19:53:36.797Z"
   },
   {
    "duration": 55,
    "start_time": "2023-07-06T19:53:37.171Z"
   },
   {
    "duration": 42,
    "start_time": "2023-07-06T19:53:37.228Z"
   },
   {
    "duration": 388,
    "start_time": "2023-07-06T19:53:37.272Z"
   },
   {
    "duration": 14,
    "start_time": "2023-07-06T19:53:37.661Z"
   },
   {
    "duration": 4,
    "start_time": "2023-07-06T19:53:37.677Z"
   },
   {
    "duration": 393,
    "start_time": "2023-07-06T19:53:37.699Z"
   },
   {
    "duration": 45,
    "start_time": "2023-07-06T19:53:38.094Z"
   },
   {
    "duration": 77,
    "start_time": "2023-07-06T19:53:38.140Z"
   },
   {
    "duration": 500,
    "start_time": "2023-07-06T19:53:38.219Z"
   },
   {
    "duration": 594,
    "start_time": "2023-07-06T19:53:38.722Z"
   },
   {
    "duration": 5,
    "start_time": "2023-07-06T19:53:39.317Z"
   },
   {
    "duration": 20,
    "start_time": "2023-07-06T19:53:39.324Z"
   },
   {
    "duration": 352,
    "start_time": "2023-07-06T19:53:39.345Z"
   },
   {
    "duration": 365,
    "start_time": "2023-07-06T19:53:39.710Z"
   },
   {
    "duration": 448,
    "start_time": "2023-07-06T19:53:40.079Z"
   },
   {
    "duration": 1537,
    "start_time": "2023-07-06T19:53:40.529Z"
   },
   {
    "duration": 50,
    "start_time": "2023-07-06T19:53:42.068Z"
   },
   {
    "duration": 4,
    "start_time": "2023-07-06T19:53:42.120Z"
   },
   {
    "duration": 7,
    "start_time": "2023-07-06T19:53:42.200Z"
   },
   {
    "duration": 111,
    "start_time": "2023-07-06T19:53:42.209Z"
   },
   {
    "duration": 12,
    "start_time": "2023-07-06T19:53:42.322Z"
   },
   {
    "duration": 12,
    "start_time": "2023-07-06T19:53:42.335Z"
   },
   {
    "duration": 8,
    "start_time": "2023-07-06T19:53:42.349Z"
   },
   {
    "duration": 5,
    "start_time": "2023-07-06T19:53:42.359Z"
   },
   {
    "duration": 28,
    "start_time": "2023-07-06T19:53:42.365Z"
   },
   {
    "duration": 15,
    "start_time": "2023-07-06T19:53:42.394Z"
   },
   {
    "duration": 27,
    "start_time": "2023-07-06T19:53:42.410Z"
   },
   {
    "duration": 95252,
    "start_time": "2023-07-06T19:53:42.438Z"
   },
   {
    "duration": 196643,
    "start_time": "2023-07-06T19:55:17.691Z"
   },
   {
    "duration": 14269,
    "start_time": "2023-07-06T20:08:53.318Z"
   },
   {
    "duration": 2321,
    "start_time": "2023-07-06T20:09:07.589Z"
   },
   {
    "duration": 157,
    "start_time": "2023-07-06T20:09:09.912Z"
   },
   {
    "duration": 23,
    "start_time": "2023-07-06T20:09:10.071Z"
   },
   {
    "duration": 17,
    "start_time": "2023-07-06T20:09:10.097Z"
   },
   {
    "duration": 37,
    "start_time": "2023-07-06T20:09:10.116Z"
   },
   {
    "duration": 7,
    "start_time": "2023-07-06T20:09:10.154Z"
   },
   {
    "duration": 96,
    "start_time": "2023-07-06T20:09:10.162Z"
   },
   {
    "duration": 6,
    "start_time": "2023-07-06T20:09:10.259Z"
   },
   {
    "duration": 8,
    "start_time": "2023-07-06T20:09:10.266Z"
   },
   {
    "duration": 6,
    "start_time": "2023-07-06T20:09:10.276Z"
   },
   {
    "duration": 33,
    "start_time": "2023-07-06T20:09:10.283Z"
   },
   {
    "duration": 31,
    "start_time": "2023-07-06T20:09:10.318Z"
   },
   {
    "duration": 10,
    "start_time": "2023-07-06T20:09:10.353Z"
   },
   {
    "duration": 16,
    "start_time": "2023-07-06T20:09:10.365Z"
   },
   {
    "duration": 23,
    "start_time": "2023-07-06T20:09:10.383Z"
   },
   {
    "duration": 41,
    "start_time": "2023-07-06T20:09:10.407Z"
   },
   {
    "duration": 6,
    "start_time": "2023-07-06T20:09:10.450Z"
   },
   {
    "duration": 6,
    "start_time": "2023-07-06T20:09:10.458Z"
   },
   {
    "duration": 5,
    "start_time": "2023-07-06T20:09:10.466Z"
   },
   {
    "duration": 14,
    "start_time": "2023-07-06T20:09:10.472Z"
   },
   {
    "duration": 46,
    "start_time": "2023-07-06T20:09:10.487Z"
   },
   {
    "duration": 16,
    "start_time": "2023-07-06T20:09:10.534Z"
   },
   {
    "duration": 85,
    "start_time": "2023-07-06T20:09:10.552Z"
   },
   {
    "duration": 4,
    "start_time": "2023-07-06T20:09:10.639Z"
   },
   {
    "duration": 338,
    "start_time": "2023-07-06T20:09:10.644Z"
   },
   {
    "duration": 56,
    "start_time": "2023-07-06T20:09:10.984Z"
   },
   {
    "duration": 45,
    "start_time": "2023-07-06T20:09:11.045Z"
   },
   {
    "duration": 376,
    "start_time": "2023-07-06T20:09:11.091Z"
   },
   {
    "duration": 19,
    "start_time": "2023-07-06T20:09:11.469Z"
   },
   {
    "duration": 24,
    "start_time": "2023-07-06T20:09:11.489Z"
   },
   {
    "duration": 436,
    "start_time": "2023-07-06T20:09:11.514Z"
   },
   {
    "duration": 62,
    "start_time": "2023-07-06T20:09:11.951Z"
   },
   {
    "duration": 50,
    "start_time": "2023-07-06T20:09:12.014Z"
   },
   {
    "duration": 520,
    "start_time": "2023-07-06T20:09:12.066Z"
   },
   {
    "duration": 569,
    "start_time": "2023-07-06T20:09:12.587Z"
   },
   {
    "duration": 5,
    "start_time": "2023-07-06T20:09:13.157Z"
   },
   {
    "duration": 11,
    "start_time": "2023-07-06T20:09:13.164Z"
   },
   {
    "duration": 404,
    "start_time": "2023-07-06T20:09:13.177Z"
   },
   {
    "duration": 390,
    "start_time": "2023-07-06T20:09:13.583Z"
   },
   {
    "duration": 492,
    "start_time": "2023-07-06T20:09:13.977Z"
   },
   {
    "duration": 1797,
    "start_time": "2023-07-06T20:09:14.471Z"
   },
   {
    "duration": 76,
    "start_time": "2023-07-06T20:09:16.269Z"
   },
   {
    "duration": 66,
    "start_time": "2023-07-06T20:09:16.351Z"
   },
   {
    "duration": 120,
    "start_time": "2023-07-06T20:09:16.420Z"
   },
   {
    "duration": 16,
    "start_time": "2023-07-06T20:09:16.542Z"
   },
   {
    "duration": 22,
    "start_time": "2023-07-06T20:09:16.560Z"
   },
   {
    "duration": 12,
    "start_time": "2023-07-06T20:09:16.584Z"
   },
   {
    "duration": 58,
    "start_time": "2023-07-06T20:09:16.598Z"
   },
   {
    "duration": 6,
    "start_time": "2023-07-06T20:09:16.658Z"
   },
   {
    "duration": 51,
    "start_time": "2023-07-06T20:09:16.666Z"
   },
   {
    "duration": 15,
    "start_time": "2023-07-06T20:09:16.730Z"
   },
   {
    "duration": 19,
    "start_time": "2023-07-06T20:09:16.747Z"
   },
   {
    "duration": 116567,
    "start_time": "2023-07-06T20:09:16.767Z"
   },
   {
    "duration": 217831,
    "start_time": "2023-07-06T20:11:13.343Z"
   },
   {
    "duration": 1386168,
    "start_time": "2023-07-06T20:14:51.176Z"
   },
   {
    "duration": 0,
    "start_time": "2023-07-06T20:37:57.363Z"
   },
   {
    "duration": 0,
    "start_time": "2023-07-06T20:37:57.370Z"
   },
   {
    "duration": 11,
    "start_time": "2023-07-06T20:38:05.193Z"
   },
   {
    "duration": 8,
    "start_time": "2023-07-06T20:38:20.539Z"
   },
   {
    "duration": 79,
    "start_time": "2023-07-06T20:41:27.146Z"
   },
   {
    "duration": 2114,
    "start_time": "2023-07-06T20:41:45.033Z"
   },
   {
    "duration": 72,
    "start_time": "2023-07-06T20:42:38.487Z"
   },
   {
    "duration": 81,
    "start_time": "2023-07-06T20:45:22.687Z"
   },
   {
    "duration": 1230,
    "start_time": "2023-07-06T20:46:41.041Z"
   },
   {
    "duration": 1280,
    "start_time": "2023-07-06T20:46:56.215Z"
   },
   {
    "duration": 1311,
    "start_time": "2023-07-06T20:47:31.861Z"
   },
   {
    "duration": 36974,
    "start_time": "2023-07-07T10:38:18.102Z"
   },
   {
    "duration": 2713,
    "start_time": "2023-07-07T10:38:55.079Z"
   },
   {
    "duration": 98,
    "start_time": "2023-07-07T10:38:57.793Z"
   },
   {
    "duration": 19,
    "start_time": "2023-07-07T10:38:57.893Z"
   },
   {
    "duration": 16,
    "start_time": "2023-07-07T10:38:57.913Z"
   },
   {
    "duration": 33,
    "start_time": "2023-07-07T10:38:57.931Z"
   },
   {
    "duration": 33,
    "start_time": "2023-07-07T10:38:57.966Z"
   },
   {
    "duration": 100,
    "start_time": "2023-07-07T10:38:58.000Z"
   },
   {
    "duration": 6,
    "start_time": "2023-07-07T10:38:58.101Z"
   },
   {
    "duration": 8,
    "start_time": "2023-07-07T10:38:58.110Z"
   },
   {
    "duration": 28,
    "start_time": "2023-07-07T10:38:58.119Z"
   },
   {
    "duration": 9,
    "start_time": "2023-07-07T10:38:58.148Z"
   },
   {
    "duration": 14,
    "start_time": "2023-07-07T10:38:58.158Z"
   },
   {
    "duration": 10,
    "start_time": "2023-07-07T10:38:58.173Z"
   },
   {
    "duration": 24,
    "start_time": "2023-07-07T10:38:58.184Z"
   },
   {
    "duration": 20,
    "start_time": "2023-07-07T10:38:58.209Z"
   },
   {
    "duration": 28,
    "start_time": "2023-07-07T10:38:58.231Z"
   },
   {
    "duration": 11,
    "start_time": "2023-07-07T10:38:58.260Z"
   },
   {
    "duration": 14,
    "start_time": "2023-07-07T10:38:58.273Z"
   },
   {
    "duration": 5,
    "start_time": "2023-07-07T10:38:58.289Z"
   },
   {
    "duration": 11,
    "start_time": "2023-07-07T10:38:58.296Z"
   },
   {
    "duration": 13,
    "start_time": "2023-07-07T10:38:58.309Z"
   },
   {
    "duration": 12,
    "start_time": "2023-07-07T10:38:58.323Z"
   },
   {
    "duration": 69,
    "start_time": "2023-07-07T10:38:58.336Z"
   },
   {
    "duration": 4,
    "start_time": "2023-07-07T10:38:58.406Z"
   },
   {
    "duration": 440,
    "start_time": "2023-07-07T10:38:58.412Z"
   },
   {
    "duration": 62,
    "start_time": "2023-07-07T10:38:58.854Z"
   },
   {
    "duration": 57,
    "start_time": "2023-07-07T10:38:58.921Z"
   },
   {
    "duration": 379,
    "start_time": "2023-07-07T10:38:58.980Z"
   },
   {
    "duration": 24,
    "start_time": "2023-07-07T10:38:59.367Z"
   },
   {
    "duration": 4,
    "start_time": "2023-07-07T10:38:59.393Z"
   },
   {
    "duration": 416,
    "start_time": "2023-07-07T10:38:59.399Z"
   },
   {
    "duration": 58,
    "start_time": "2023-07-07T10:38:59.817Z"
   },
   {
    "duration": 46,
    "start_time": "2023-07-07T10:38:59.877Z"
   },
   {
    "duration": 560,
    "start_time": "2023-07-07T10:38:59.925Z"
   },
   {
    "duration": 694,
    "start_time": "2023-07-07T10:39:00.487Z"
   },
   {
    "duration": 7,
    "start_time": "2023-07-07T10:39:01.183Z"
   },
   {
    "duration": 43,
    "start_time": "2023-07-07T10:39:01.191Z"
   },
   {
    "duration": 455,
    "start_time": "2023-07-07T10:39:01.236Z"
   },
   {
    "duration": 394,
    "start_time": "2023-07-07T10:39:01.693Z"
   },
   {
    "duration": 466,
    "start_time": "2023-07-07T10:39:02.088Z"
   },
   {
    "duration": 1601,
    "start_time": "2023-07-07T10:39:02.556Z"
   },
   {
    "duration": 108,
    "start_time": "2023-07-07T10:39:04.160Z"
   },
   {
    "duration": 5,
    "start_time": "2023-07-07T10:39:04.271Z"
   },
   {
    "duration": 92,
    "start_time": "2023-07-07T10:39:04.278Z"
   },
   {
    "duration": 6,
    "start_time": "2023-07-07T10:39:04.372Z"
   },
   {
    "duration": 14,
    "start_time": "2023-07-07T10:39:04.380Z"
   },
   {
    "duration": 11,
    "start_time": "2023-07-07T10:39:04.396Z"
   },
   {
    "duration": 14,
    "start_time": "2023-07-07T10:39:04.409Z"
   },
   {
    "duration": 7,
    "start_time": "2023-07-07T10:39:04.425Z"
   },
   {
    "duration": 44,
    "start_time": "2023-07-07T10:39:04.433Z"
   },
   {
    "duration": 12,
    "start_time": "2023-07-07T10:39:04.479Z"
   },
   {
    "duration": 21,
    "start_time": "2023-07-07T10:39:04.492Z"
   },
   {
    "duration": 87046,
    "start_time": "2023-07-07T10:39:04.514Z"
   },
   {
    "duration": 206215,
    "start_time": "2023-07-07T10:40:31.562Z"
   },
   {
    "duration": 9,
    "start_time": "2023-07-07T10:43:57.779Z"
   },
   {
    "duration": 1268,
    "start_time": "2023-07-07T10:43:57.789Z"
   },
   {
    "duration": 18,
    "start_time": "2023-07-07T10:43:59.061Z"
   },
   {
    "duration": 25,
    "start_time": "2023-07-07T10:53:42.013Z"
   },
   {
    "duration": 159,
    "start_time": "2023-07-07T10:54:53.480Z"
   },
   {
    "duration": 10,
    "start_time": "2023-07-07T10:55:42.094Z"
   },
   {
    "duration": 52740,
    "start_time": "2023-07-07T19:24:19.286Z"
   },
   {
    "duration": 9446,
    "start_time": "2023-07-07T19:25:12.028Z"
   },
   {
    "duration": 352,
    "start_time": "2023-07-07T19:25:21.476Z"
   },
   {
    "duration": 16,
    "start_time": "2023-07-07T19:25:21.831Z"
   },
   {
    "duration": 9,
    "start_time": "2023-07-07T19:25:21.849Z"
   },
   {
    "duration": 20,
    "start_time": "2023-07-07T19:25:21.860Z"
   },
   {
    "duration": 8,
    "start_time": "2023-07-07T19:25:21.882Z"
   },
   {
    "duration": 95,
    "start_time": "2023-07-07T19:25:21.891Z"
   },
   {
    "duration": 30,
    "start_time": "2023-07-07T19:25:21.988Z"
   },
   {
    "duration": 8,
    "start_time": "2023-07-07T19:25:22.021Z"
   },
   {
    "duration": 11,
    "start_time": "2023-07-07T19:25:22.030Z"
   },
   {
    "duration": 12,
    "start_time": "2023-07-07T19:25:22.043Z"
   },
   {
    "duration": 18,
    "start_time": "2023-07-07T19:25:22.056Z"
   },
   {
    "duration": 7,
    "start_time": "2023-07-07T19:25:22.076Z"
   },
   {
    "duration": 34,
    "start_time": "2023-07-07T19:25:22.084Z"
   },
   {
    "duration": 16,
    "start_time": "2023-07-07T19:25:22.120Z"
   },
   {
    "duration": 26,
    "start_time": "2023-07-07T19:25:22.137Z"
   },
   {
    "duration": 6,
    "start_time": "2023-07-07T19:25:22.164Z"
   },
   {
    "duration": 8,
    "start_time": "2023-07-07T19:25:22.172Z"
   },
   {
    "duration": 31,
    "start_time": "2023-07-07T19:25:22.182Z"
   },
   {
    "duration": 21,
    "start_time": "2023-07-07T19:25:22.215Z"
   },
   {
    "duration": 13,
    "start_time": "2023-07-07T19:25:22.238Z"
   },
   {
    "duration": 13,
    "start_time": "2023-07-07T19:25:22.253Z"
   },
   {
    "duration": 65,
    "start_time": "2023-07-07T19:25:22.267Z"
   },
   {
    "duration": 5,
    "start_time": "2023-07-07T19:25:22.334Z"
   },
   {
    "duration": 519,
    "start_time": "2023-07-07T19:25:22.340Z"
   },
   {
    "duration": 69,
    "start_time": "2023-07-07T19:25:22.861Z"
   },
   {
    "duration": 52,
    "start_time": "2023-07-07T19:25:22.933Z"
   },
   {
    "duration": 431,
    "start_time": "2023-07-07T19:25:22.987Z"
   },
   {
    "duration": 18,
    "start_time": "2023-07-07T19:25:23.420Z"
   },
   {
    "duration": 26,
    "start_time": "2023-07-07T19:25:23.440Z"
   },
   {
    "duration": 534,
    "start_time": "2023-07-07T19:25:23.468Z"
   },
   {
    "duration": 69,
    "start_time": "2023-07-07T19:25:24.004Z"
   },
   {
    "duration": 76,
    "start_time": "2023-07-07T19:25:24.076Z"
   },
   {
    "duration": 767,
    "start_time": "2023-07-07T19:25:24.155Z"
   },
   {
    "duration": 592,
    "start_time": "2023-07-07T19:25:24.924Z"
   },
   {
    "duration": 6,
    "start_time": "2023-07-07T19:25:25.518Z"
   },
   {
    "duration": 34,
    "start_time": "2023-07-07T19:25:25.526Z"
   },
   {
    "duration": 476,
    "start_time": "2023-07-07T19:25:25.562Z"
   },
   {
    "duration": 400,
    "start_time": "2023-07-07T19:25:26.039Z"
   },
   {
    "duration": 482,
    "start_time": "2023-07-07T19:25:26.440Z"
   },
   {
    "duration": 1924,
    "start_time": "2023-07-07T19:25:26.923Z"
   },
   {
    "duration": 73,
    "start_time": "2023-07-07T19:25:28.850Z"
   },
   {
    "duration": 91,
    "start_time": "2023-07-07T19:25:28.926Z"
   },
   {
    "duration": 96,
    "start_time": "2023-07-07T19:25:29.019Z"
   },
   {
    "duration": 5,
    "start_time": "2023-07-07T19:25:29.117Z"
   },
   {
    "duration": 15,
    "start_time": "2023-07-07T19:25:29.124Z"
   },
   {
    "duration": 6,
    "start_time": "2023-07-07T19:25:29.140Z"
   },
   {
    "duration": 17,
    "start_time": "2023-07-07T19:25:29.148Z"
   },
   {
    "duration": 11,
    "start_time": "2023-07-07T19:25:29.167Z"
   },
   {
    "duration": 50,
    "start_time": "2023-07-07T19:25:29.180Z"
   },
   {
    "duration": 18,
    "start_time": "2023-07-07T19:25:29.233Z"
   },
   {
    "duration": 35,
    "start_time": "2023-07-07T19:25:29.254Z"
   },
   {
    "duration": 53,
    "start_time": "2023-07-07T19:25:29.291Z"
   },
   {
    "duration": 62061,
    "start_time": "2023-07-07T19:25:29.346Z"
   },
   {
    "duration": 231896,
    "start_time": "2023-07-07T19:26:31.413Z"
   },
   {
    "duration": 11,
    "start_time": "2023-07-07T19:30:23.311Z"
   },
   {
    "duration": 298,
    "start_time": "2023-07-07T19:30:23.323Z"
   },
   {
    "duration": 1647,
    "start_time": "2023-07-07T19:31:15.564Z"
   },
   {
    "duration": 2930,
    "start_time": "2023-07-07T19:39:28.048Z"
   },
   {
    "duration": 8,
    "start_time": "2023-07-07T19:45:25.854Z"
   },
   {
    "duration": 303,
    "start_time": "2023-07-07T19:46:40.245Z"
   },
   {
    "duration": 8,
    "start_time": "2023-07-07T19:46:51.495Z"
   },
   {
    "duration": 10,
    "start_time": "2023-07-07T19:47:20.582Z"
   },
   {
    "duration": 40,
    "start_time": "2023-07-07T19:49:00.538Z"
   },
   {
    "duration": 10,
    "start_time": "2023-07-07T19:49:03.511Z"
   },
   {
    "duration": 656,
    "start_time": "2023-07-07T19:50:12.935Z"
   },
   {
    "duration": 330,
    "start_time": "2023-07-07T19:50:23.731Z"
   },
   {
    "duration": 409,
    "start_time": "2023-07-07T19:50:39.244Z"
   },
   {
    "duration": 369,
    "start_time": "2023-07-07T19:50:44.032Z"
   },
   {
    "duration": 336,
    "start_time": "2023-07-07T19:51:12.268Z"
   },
   {
    "duration": 361,
    "start_time": "2023-07-07T19:51:16.245Z"
   },
   {
    "duration": 370,
    "start_time": "2023-07-07T19:51:19.305Z"
   },
   {
    "duration": 300,
    "start_time": "2023-07-07T19:51:58.363Z"
   },
   {
    "duration": 435,
    "start_time": "2023-07-07T19:52:04.911Z"
   },
   {
    "duration": 429,
    "start_time": "2023-07-07T19:52:33.108Z"
   },
   {
    "duration": 11,
    "start_time": "2023-07-07T19:52:53.706Z"
   },
   {
    "duration": 9,
    "start_time": "2023-07-07T19:53:15.195Z"
   },
   {
    "duration": 18,
    "start_time": "2023-07-07T19:59:40.988Z"
   },
   {
    "duration": 6324,
    "start_time": "2023-07-07T20:03:00.364Z"
   },
   {
    "duration": 23998,
    "start_time": "2023-07-07T20:04:20.639Z"
   },
   {
    "duration": 4509,
    "start_time": "2023-07-07T20:04:44.646Z"
   },
   {
    "duration": 183,
    "start_time": "2023-07-07T20:04:49.163Z"
   },
   {
    "duration": 39,
    "start_time": "2023-07-07T20:04:49.356Z"
   },
   {
    "duration": 23,
    "start_time": "2023-07-07T20:04:49.406Z"
   },
   {
    "duration": 24,
    "start_time": "2023-07-07T20:04:49.437Z"
   },
   {
    "duration": 18,
    "start_time": "2023-07-07T20:04:49.471Z"
   },
   {
    "duration": 205,
    "start_time": "2023-07-07T20:04:49.495Z"
   },
   {
    "duration": 12,
    "start_time": "2023-07-07T20:04:49.708Z"
   },
   {
    "duration": 27,
    "start_time": "2023-07-07T20:04:49.731Z"
   },
   {
    "duration": 11,
    "start_time": "2023-07-07T20:04:49.766Z"
   },
   {
    "duration": 17,
    "start_time": "2023-07-07T20:04:49.786Z"
   },
   {
    "duration": 18,
    "start_time": "2023-07-07T20:04:49.811Z"
   },
   {
    "duration": 13,
    "start_time": "2023-07-07T20:04:49.838Z"
   },
   {
    "duration": 38,
    "start_time": "2023-07-07T20:04:49.859Z"
   },
   {
    "duration": 28,
    "start_time": "2023-07-07T20:04:49.905Z"
   },
   {
    "duration": 48,
    "start_time": "2023-07-07T20:04:49.941Z"
   },
   {
    "duration": 14,
    "start_time": "2023-07-07T20:04:49.997Z"
   },
   {
    "duration": 26,
    "start_time": "2023-07-07T20:04:50.020Z"
   },
   {
    "duration": 43,
    "start_time": "2023-07-07T20:04:50.055Z"
   },
   {
    "duration": 21,
    "start_time": "2023-07-07T20:04:50.100Z"
   },
   {
    "duration": 30,
    "start_time": "2023-07-07T20:04:50.124Z"
   },
   {
    "duration": 28,
    "start_time": "2023-07-07T20:04:50.156Z"
   },
   {
    "duration": 93,
    "start_time": "2023-07-07T20:04:50.186Z"
   },
   {
    "duration": 12,
    "start_time": "2023-07-07T20:04:50.282Z"
   },
   {
    "duration": 681,
    "start_time": "2023-07-07T20:04:50.297Z"
   },
   {
    "duration": 113,
    "start_time": "2023-07-07T20:04:50.988Z"
   },
   {
    "duration": 83,
    "start_time": "2023-07-07T20:04:51.121Z"
   },
   {
    "duration": 468,
    "start_time": "2023-07-07T20:04:51.210Z"
   },
   {
    "duration": 25,
    "start_time": "2023-07-07T20:04:51.684Z"
   },
   {
    "duration": 13,
    "start_time": "2023-07-07T20:04:51.716Z"
   },
   {
    "duration": 615,
    "start_time": "2023-07-07T20:04:51.736Z"
   },
   {
    "duration": 110,
    "start_time": "2023-07-07T20:04:52.353Z"
   },
   {
    "duration": 78,
    "start_time": "2023-07-07T20:04:52.471Z"
   },
   {
    "duration": 695,
    "start_time": "2023-07-07T20:04:52.556Z"
   },
   {
    "duration": 905,
    "start_time": "2023-07-07T20:04:53.255Z"
   },
   {
    "duration": 11,
    "start_time": "2023-07-07T20:04:54.166Z"
   },
   {
    "duration": 40,
    "start_time": "2023-07-07T20:04:54.179Z"
   },
   {
    "duration": 558,
    "start_time": "2023-07-07T20:04:54.225Z"
   },
   {
    "duration": 610,
    "start_time": "2023-07-07T20:04:54.785Z"
   },
   {
    "duration": 681,
    "start_time": "2023-07-07T20:04:55.397Z"
   },
   {
    "duration": 2748,
    "start_time": "2023-07-07T20:04:56.080Z"
   },
   {
    "duration": 292,
    "start_time": "2023-07-07T20:04:58.830Z"
   },
   {
    "duration": 16,
    "start_time": "2023-07-07T20:04:59.130Z"
   },
   {
    "duration": 64,
    "start_time": "2023-07-07T20:04:59.156Z"
   },
   {
    "duration": 239,
    "start_time": "2023-07-07T20:04:59.227Z"
   },
   {
    "duration": 0,
    "start_time": "2023-07-07T20:04:59.468Z"
   },
   {
    "duration": 0,
    "start_time": "2023-07-07T20:04:59.470Z"
   },
   {
    "duration": 0,
    "start_time": "2023-07-07T20:04:59.471Z"
   },
   {
    "duration": 0,
    "start_time": "2023-07-07T20:04:59.473Z"
   },
   {
    "duration": 0,
    "start_time": "2023-07-07T20:04:59.475Z"
   },
   {
    "duration": 0,
    "start_time": "2023-07-07T20:04:59.476Z"
   },
   {
    "duration": 0,
    "start_time": "2023-07-07T20:04:59.479Z"
   },
   {
    "duration": 0,
    "start_time": "2023-07-07T20:04:59.481Z"
   },
   {
    "duration": 0,
    "start_time": "2023-07-07T20:04:59.482Z"
   },
   {
    "duration": 0,
    "start_time": "2023-07-07T20:04:59.484Z"
   },
   {
    "duration": 0,
    "start_time": "2023-07-07T20:04:59.485Z"
   },
   {
    "duration": 0,
    "start_time": "2023-07-07T20:04:59.512Z"
   },
   {
    "duration": 0,
    "start_time": "2023-07-07T20:04:59.514Z"
   },
   {
    "duration": 0,
    "start_time": "2023-07-07T20:04:59.516Z"
   },
   {
    "duration": 0,
    "start_time": "2023-07-07T20:04:59.521Z"
   },
   {
    "duration": 0,
    "start_time": "2023-07-07T20:04:59.523Z"
   },
   {
    "duration": 6608,
    "start_time": "2023-07-07T20:06:30.644Z"
   },
   {
    "duration": 5634,
    "start_time": "2023-07-07T20:06:53.059Z"
   },
   {
    "duration": 5002,
    "start_time": "2023-07-07T20:07:50.311Z"
   },
   {
    "duration": 4695,
    "start_time": "2023-07-07T20:10:22.358Z"
   },
   {
    "duration": 4634,
    "start_time": "2023-07-07T20:11:00.455Z"
   },
   {
    "duration": 18117,
    "start_time": "2023-07-07T20:20:13.933Z"
   },
   {
    "duration": 2995,
    "start_time": "2023-07-07T20:20:32.054Z"
   },
   {
    "duration": 130,
    "start_time": "2023-07-07T20:20:35.051Z"
   },
   {
    "duration": 25,
    "start_time": "2023-07-07T20:20:35.183Z"
   },
   {
    "duration": 14,
    "start_time": "2023-07-07T20:20:35.210Z"
   },
   {
    "duration": 13,
    "start_time": "2023-07-07T20:20:35.227Z"
   },
   {
    "duration": 14,
    "start_time": "2023-07-07T20:20:35.243Z"
   },
   {
    "duration": 170,
    "start_time": "2023-07-07T20:20:35.259Z"
   },
   {
    "duration": 15,
    "start_time": "2023-07-07T20:20:35.431Z"
   },
   {
    "duration": 13,
    "start_time": "2023-07-07T20:20:35.450Z"
   },
   {
    "duration": 9,
    "start_time": "2023-07-07T20:20:35.473Z"
   },
   {
    "duration": 30,
    "start_time": "2023-07-07T20:20:35.485Z"
   },
   {
    "duration": 18,
    "start_time": "2023-07-07T20:20:35.525Z"
   },
   {
    "duration": 12,
    "start_time": "2023-07-07T20:20:35.545Z"
   },
   {
    "duration": 27,
    "start_time": "2023-07-07T20:20:35.559Z"
   },
   {
    "duration": 49,
    "start_time": "2023-07-07T20:20:35.589Z"
   },
   {
    "duration": 49,
    "start_time": "2023-07-07T20:20:35.650Z"
   },
   {
    "duration": 10,
    "start_time": "2023-07-07T20:20:35.702Z"
   },
   {
    "duration": 23,
    "start_time": "2023-07-07T20:20:35.718Z"
   },
   {
    "duration": 18,
    "start_time": "2023-07-07T20:20:35.745Z"
   },
   {
    "duration": 12,
    "start_time": "2023-07-07T20:20:35.765Z"
   },
   {
    "duration": 19,
    "start_time": "2023-07-07T20:20:35.779Z"
   },
   {
    "duration": 59,
    "start_time": "2023-07-07T20:20:35.801Z"
   },
   {
    "duration": 85,
    "start_time": "2023-07-07T20:20:35.862Z"
   },
   {
    "duration": 7,
    "start_time": "2023-07-07T20:20:35.949Z"
   },
   {
    "duration": 582,
    "start_time": "2023-07-07T20:20:35.959Z"
   },
   {
    "duration": 78,
    "start_time": "2023-07-07T20:20:36.544Z"
   },
   {
    "duration": 93,
    "start_time": "2023-07-07T20:20:36.638Z"
   },
   {
    "duration": 526,
    "start_time": "2023-07-07T20:20:36.733Z"
   },
   {
    "duration": 23,
    "start_time": "2023-07-07T20:20:37.262Z"
   },
   {
    "duration": 44,
    "start_time": "2023-07-07T20:20:37.287Z"
   },
   {
    "duration": 628,
    "start_time": "2023-07-07T20:20:37.333Z"
   },
   {
    "duration": 80,
    "start_time": "2023-07-07T20:20:37.963Z"
   },
   {
    "duration": 82,
    "start_time": "2023-07-07T20:20:38.047Z"
   },
   {
    "duration": 723,
    "start_time": "2023-07-07T20:20:38.131Z"
   },
   {
    "duration": 826,
    "start_time": "2023-07-07T20:20:38.862Z"
   },
   {
    "duration": 16,
    "start_time": "2023-07-07T20:20:39.689Z"
   },
   {
    "duration": 40,
    "start_time": "2023-07-07T20:20:39.707Z"
   },
   {
    "duration": 577,
    "start_time": "2023-07-07T20:20:39.752Z"
   },
   {
    "duration": 529,
    "start_time": "2023-07-07T20:20:40.341Z"
   },
   {
    "duration": 623,
    "start_time": "2023-07-07T20:20:40.872Z"
   },
   {
    "duration": 3201,
    "start_time": "2023-07-07T20:20:41.497Z"
   },
   {
    "duration": 253,
    "start_time": "2023-07-07T20:20:44.700Z"
   },
   {
    "duration": 73,
    "start_time": "2023-07-07T20:20:44.955Z"
   },
   {
    "duration": 20,
    "start_time": "2023-07-07T20:20:45.113Z"
   },
   {
    "duration": 5319,
    "start_time": "2023-07-07T20:20:45.137Z"
   },
   {
    "duration": 11,
    "start_time": "2023-07-07T20:20:50.459Z"
   },
   {
    "duration": 43,
    "start_time": "2023-07-07T20:20:50.473Z"
   },
   {
    "duration": 43,
    "start_time": "2023-07-07T20:20:50.519Z"
   },
   {
    "duration": 30,
    "start_time": "2023-07-07T20:20:50.565Z"
   },
   {
    "duration": 12,
    "start_time": "2023-07-07T20:20:50.599Z"
   },
   {
    "duration": 46,
    "start_time": "2023-07-07T20:20:50.614Z"
   },
   {
    "duration": 19,
    "start_time": "2023-07-07T20:20:50.663Z"
   },
   {
    "duration": 72,
    "start_time": "2023-07-07T20:20:50.684Z"
   },
   {
    "duration": 50,
    "start_time": "2023-07-07T20:20:50.759Z"
   },
   {
    "duration": 75452,
    "start_time": "2023-07-07T20:20:50.815Z"
   },
   {
    "duration": 294448,
    "start_time": "2023-07-07T20:22:06.269Z"
   },
   {
    "duration": 19,
    "start_time": "2023-07-07T20:27:00.720Z"
   },
   {
    "duration": 2404,
    "start_time": "2023-07-07T20:27:00.742Z"
   },
   {
    "duration": 366,
    "start_time": "2023-07-07T20:27:03.149Z"
   },
   {
    "duration": 34,
    "start_time": "2023-07-07T20:27:03.518Z"
   },
   {
    "duration": 27,
    "start_time": "2023-07-07T20:27:03.555Z"
   },
   {
    "duration": 310587,
    "start_time": "2023-07-07T20:27:43.907Z"
   },
   {
    "duration": 2429,
    "start_time": "2023-07-07T20:33:17.775Z"
   },
   {
    "duration": 71819,
    "start_time": "2023-07-07T20:33:35.514Z"
   },
   {
    "duration": 208,
    "start_time": "2023-07-07T20:35:36.533Z"
   },
   {
    "duration": 16314,
    "start_time": "2023-07-07T20:35:53.894Z"
   },
   {
    "duration": 2531,
    "start_time": "2023-07-07T20:36:10.211Z"
   },
   {
    "duration": 120,
    "start_time": "2023-07-07T20:36:12.744Z"
   },
   {
    "duration": 33,
    "start_time": "2023-07-07T20:36:12.867Z"
   },
   {
    "duration": 8,
    "start_time": "2023-07-07T20:36:12.903Z"
   },
   {
    "duration": 23,
    "start_time": "2023-07-07T20:36:12.912Z"
   },
   {
    "duration": 11,
    "start_time": "2023-07-07T20:36:12.946Z"
   },
   {
    "duration": 164,
    "start_time": "2023-07-07T20:36:12.959Z"
   },
   {
    "duration": 8,
    "start_time": "2023-07-07T20:36:13.132Z"
   },
   {
    "duration": 24,
    "start_time": "2023-07-07T20:36:13.143Z"
   },
   {
    "duration": 15,
    "start_time": "2023-07-07T20:36:13.169Z"
   },
   {
    "duration": 32,
    "start_time": "2023-07-07T20:36:13.187Z"
   },
   {
    "duration": 26,
    "start_time": "2023-07-07T20:36:13.224Z"
   },
   {
    "duration": 14,
    "start_time": "2023-07-07T20:36:13.255Z"
   },
   {
    "duration": 27,
    "start_time": "2023-07-07T20:36:13.271Z"
   },
   {
    "duration": 22,
    "start_time": "2023-07-07T20:36:13.300Z"
   },
   {
    "duration": 52,
    "start_time": "2023-07-07T20:36:13.324Z"
   },
   {
    "duration": 11,
    "start_time": "2023-07-07T20:36:13.379Z"
   },
   {
    "duration": 18,
    "start_time": "2023-07-07T20:36:13.392Z"
   },
   {
    "duration": 16,
    "start_time": "2023-07-07T20:36:13.414Z"
   },
   {
    "duration": 19,
    "start_time": "2023-07-07T20:36:13.434Z"
   },
   {
    "duration": 22,
    "start_time": "2023-07-07T20:36:13.455Z"
   },
   {
    "duration": 20,
    "start_time": "2023-07-07T20:36:13.480Z"
   },
   {
    "duration": 98,
    "start_time": "2023-07-07T20:36:13.502Z"
   },
   {
    "duration": 5,
    "start_time": "2023-07-07T20:36:13.602Z"
   },
   {
    "duration": 518,
    "start_time": "2023-07-07T20:36:13.613Z"
   },
   {
    "duration": 61,
    "start_time": "2023-07-07T20:36:14.135Z"
   },
   {
    "duration": 66,
    "start_time": "2023-07-07T20:36:14.198Z"
   },
   {
    "duration": 475,
    "start_time": "2023-07-07T20:36:14.266Z"
   },
   {
    "duration": 16,
    "start_time": "2023-07-07T20:36:14.743Z"
   },
   {
    "duration": 16,
    "start_time": "2023-07-07T20:36:14.761Z"
   },
   {
    "duration": 526,
    "start_time": "2023-07-07T20:36:14.778Z"
   },
   {
    "duration": 66,
    "start_time": "2023-07-07T20:36:15.306Z"
   },
   {
    "duration": 84,
    "start_time": "2023-07-07T20:36:15.374Z"
   },
   {
    "duration": 709,
    "start_time": "2023-07-07T20:36:15.461Z"
   },
   {
    "duration": 839,
    "start_time": "2023-07-07T20:36:16.172Z"
   },
   {
    "duration": 15,
    "start_time": "2023-07-07T20:36:17.013Z"
   },
   {
    "duration": 43,
    "start_time": "2023-07-07T20:36:17.030Z"
   },
   {
    "duration": 646,
    "start_time": "2023-07-07T20:36:17.075Z"
   },
   {
    "duration": 512,
    "start_time": "2023-07-07T20:36:17.729Z"
   },
   {
    "duration": 530,
    "start_time": "2023-07-07T20:36:18.248Z"
   },
   {
    "duration": 2121,
    "start_time": "2023-07-07T20:36:18.780Z"
   },
   {
    "duration": 236,
    "start_time": "2023-07-07T20:36:20.903Z"
   },
   {
    "duration": 72,
    "start_time": "2023-07-07T20:36:21.143Z"
   },
   {
    "duration": 20,
    "start_time": "2023-07-07T20:36:21.217Z"
   },
   {
    "duration": 206,
    "start_time": "2023-07-07T20:36:21.242Z"
   },
   {
    "duration": 0,
    "start_time": "2023-07-07T20:36:21.450Z"
   },
   {
    "duration": 0,
    "start_time": "2023-07-07T20:36:21.451Z"
   },
   {
    "duration": 0,
    "start_time": "2023-07-07T20:36:21.453Z"
   },
   {
    "duration": 0,
    "start_time": "2023-07-07T20:36:21.454Z"
   },
   {
    "duration": 0,
    "start_time": "2023-07-07T20:36:21.455Z"
   },
   {
    "duration": 0,
    "start_time": "2023-07-07T20:36:21.456Z"
   },
   {
    "duration": 0,
    "start_time": "2023-07-07T20:36:21.458Z"
   },
   {
    "duration": 0,
    "start_time": "2023-07-07T20:36:21.459Z"
   },
   {
    "duration": 0,
    "start_time": "2023-07-07T20:36:21.461Z"
   },
   {
    "duration": 0,
    "start_time": "2023-07-07T20:36:21.462Z"
   },
   {
    "duration": 0,
    "start_time": "2023-07-07T20:36:21.463Z"
   },
   {
    "duration": 0,
    "start_time": "2023-07-07T20:36:21.464Z"
   },
   {
    "duration": 0,
    "start_time": "2023-07-07T20:36:21.465Z"
   },
   {
    "duration": 0,
    "start_time": "2023-07-07T20:36:21.466Z"
   },
   {
    "duration": 0,
    "start_time": "2023-07-07T20:36:21.468Z"
   },
   {
    "duration": 0,
    "start_time": "2023-07-07T20:36:21.469Z"
   },
   {
    "duration": 4644,
    "start_time": "2023-07-07T20:36:41.702Z"
   },
   {
    "duration": 92,
    "start_time": "2023-07-07T20:37:32.947Z"
   },
   {
    "duration": 1383,
    "start_time": "2023-07-07T20:37:38.477Z"
   },
   {
    "duration": 1509,
    "start_time": "2023-07-07T20:37:59.201Z"
   },
   {
    "duration": 1570,
    "start_time": "2023-07-07T20:38:49.335Z"
   },
   {
    "duration": 534,
    "start_time": "2023-07-07T20:39:12.945Z"
   },
   {
    "duration": 16373,
    "start_time": "2023-07-07T20:39:49.485Z"
   },
   {
    "duration": 2451,
    "start_time": "2023-07-07T20:40:05.860Z"
   },
   {
    "duration": 124,
    "start_time": "2023-07-07T20:40:08.314Z"
   },
   {
    "duration": 23,
    "start_time": "2023-07-07T20:40:08.441Z"
   },
   {
    "duration": 17,
    "start_time": "2023-07-07T20:40:08.466Z"
   },
   {
    "duration": 26,
    "start_time": "2023-07-07T20:40:08.485Z"
   },
   {
    "duration": 14,
    "start_time": "2023-07-07T20:40:08.516Z"
   },
   {
    "duration": 144,
    "start_time": "2023-07-07T20:40:08.531Z"
   },
   {
    "duration": 7,
    "start_time": "2023-07-07T20:40:08.677Z"
   },
   {
    "duration": 32,
    "start_time": "2023-07-07T20:40:08.686Z"
   },
   {
    "duration": 25,
    "start_time": "2023-07-07T20:40:08.720Z"
   },
   {
    "duration": 25,
    "start_time": "2023-07-07T20:40:08.748Z"
   },
   {
    "duration": 31,
    "start_time": "2023-07-07T20:40:08.776Z"
   },
   {
    "duration": 20,
    "start_time": "2023-07-07T20:40:08.810Z"
   },
   {
    "duration": 36,
    "start_time": "2023-07-07T20:40:08.832Z"
   },
   {
    "duration": 28,
    "start_time": "2023-07-07T20:40:08.870Z"
   },
   {
    "duration": 54,
    "start_time": "2023-07-07T20:40:08.900Z"
   },
   {
    "duration": 8,
    "start_time": "2023-07-07T20:40:08.956Z"
   },
   {
    "duration": 13,
    "start_time": "2023-07-07T20:40:08.966Z"
   },
   {
    "duration": 64,
    "start_time": "2023-07-07T20:40:08.981Z"
   },
   {
    "duration": 58,
    "start_time": "2023-07-07T20:40:09.047Z"
   },
   {
    "duration": 39,
    "start_time": "2023-07-07T20:40:09.107Z"
   },
   {
    "duration": 21,
    "start_time": "2023-07-07T20:40:09.148Z"
   },
   {
    "duration": 56,
    "start_time": "2023-07-07T20:40:09.171Z"
   },
   {
    "duration": 7,
    "start_time": "2023-07-07T20:40:09.229Z"
   },
   {
    "duration": 456,
    "start_time": "2023-07-07T20:40:09.238Z"
   },
   {
    "duration": 84,
    "start_time": "2023-07-07T20:40:09.696Z"
   },
   {
    "duration": 79,
    "start_time": "2023-07-07T20:40:09.785Z"
   },
   {
    "duration": 440,
    "start_time": "2023-07-07T20:40:09.865Z"
   },
   {
    "duration": 34,
    "start_time": "2023-07-07T20:40:10.307Z"
   },
   {
    "duration": 27,
    "start_time": "2023-07-07T20:40:10.343Z"
   },
   {
    "duration": 453,
    "start_time": "2023-07-07T20:40:10.372Z"
   },
   {
    "duration": 55,
    "start_time": "2023-07-07T20:40:10.831Z"
   },
   {
    "duration": 79,
    "start_time": "2023-07-07T20:40:10.888Z"
   },
   {
    "duration": 610,
    "start_time": "2023-07-07T20:40:10.969Z"
   },
   {
    "duration": 732,
    "start_time": "2023-07-07T20:40:11.581Z"
   },
   {
    "duration": 11,
    "start_time": "2023-07-07T20:40:12.315Z"
   },
   {
    "duration": 20,
    "start_time": "2023-07-07T20:40:12.329Z"
   },
   {
    "duration": 477,
    "start_time": "2023-07-07T20:40:12.351Z"
   },
   {
    "duration": 436,
    "start_time": "2023-07-07T20:40:12.830Z"
   },
   {
    "duration": 678,
    "start_time": "2023-07-07T20:40:13.269Z"
   },
   {
    "duration": 2277,
    "start_time": "2023-07-07T20:40:13.949Z"
   },
   {
    "duration": 90,
    "start_time": "2023-07-07T20:40:16.228Z"
   },
   {
    "duration": 11,
    "start_time": "2023-07-07T20:40:16.320Z"
   },
   {
    "duration": 83,
    "start_time": "2023-07-07T20:40:16.333Z"
   },
   {
    "duration": 636,
    "start_time": "2023-07-07T20:40:16.421Z"
   },
   {
    "duration": 6,
    "start_time": "2023-07-07T20:40:17.058Z"
   },
   {
    "duration": 19,
    "start_time": "2023-07-07T20:40:17.065Z"
   },
   {
    "duration": 13,
    "start_time": "2023-07-07T20:40:17.086Z"
   },
   {
    "duration": 17,
    "start_time": "2023-07-07T20:40:17.101Z"
   },
   {
    "duration": 7,
    "start_time": "2023-07-07T20:40:17.120Z"
   },
   {
    "duration": 36,
    "start_time": "2023-07-07T20:40:17.128Z"
   },
   {
    "duration": 12,
    "start_time": "2023-07-07T20:40:17.166Z"
   },
   {
    "duration": 42,
    "start_time": "2023-07-07T20:40:17.180Z"
   },
   {
    "duration": 28,
    "start_time": "2023-07-07T20:40:17.224Z"
   },
   {
    "duration": 68002,
    "start_time": "2023-07-07T20:40:17.254Z"
   },
   {
    "duration": 41540,
    "start_time": "2023-07-08T05:34:00.755Z"
   },
   {
    "duration": 2940,
    "start_time": "2023-07-08T05:34:42.297Z"
   },
   {
    "duration": 94,
    "start_time": "2023-07-08T05:34:45.238Z"
   },
   {
    "duration": 16,
    "start_time": "2023-07-08T05:34:45.334Z"
   },
   {
    "duration": 6,
    "start_time": "2023-07-08T05:34:45.353Z"
   },
   {
    "duration": 9,
    "start_time": "2023-07-08T05:34:45.361Z"
   },
   {
    "duration": 7,
    "start_time": "2023-07-08T05:34:45.372Z"
   },
   {
    "duration": 103,
    "start_time": "2023-07-08T05:34:45.380Z"
   },
   {
    "duration": 6,
    "start_time": "2023-07-08T05:34:45.484Z"
   },
   {
    "duration": 11,
    "start_time": "2023-07-08T05:34:45.492Z"
   },
   {
    "duration": 5,
    "start_time": "2023-07-08T05:34:45.505Z"
   },
   {
    "duration": 15,
    "start_time": "2023-07-08T05:34:45.512Z"
   },
   {
    "duration": 7,
    "start_time": "2023-07-08T05:34:45.529Z"
   },
   {
    "duration": 6,
    "start_time": "2023-07-08T05:34:45.538Z"
   },
   {
    "duration": 18,
    "start_time": "2023-07-08T05:34:45.568Z"
   },
   {
    "duration": 14,
    "start_time": "2023-07-08T05:34:45.588Z"
   },
   {
    "duration": 26,
    "start_time": "2023-07-08T05:34:45.604Z"
   },
   {
    "duration": 7,
    "start_time": "2023-07-08T05:34:45.631Z"
   },
   {
    "duration": 8,
    "start_time": "2023-07-08T05:34:45.669Z"
   },
   {
    "duration": 6,
    "start_time": "2023-07-08T05:34:45.679Z"
   },
   {
    "duration": 10,
    "start_time": "2023-07-08T05:34:45.686Z"
   },
   {
    "duration": 22,
    "start_time": "2023-07-08T05:34:45.698Z"
   },
   {
    "duration": 13,
    "start_time": "2023-07-08T05:34:45.723Z"
   },
   {
    "duration": 74,
    "start_time": "2023-07-08T05:34:45.738Z"
   },
   {
    "duration": 5,
    "start_time": "2023-07-08T05:34:45.814Z"
   },
   {
    "duration": 399,
    "start_time": "2023-07-08T05:34:45.821Z"
   },
   {
    "duration": 49,
    "start_time": "2023-07-08T05:34:46.222Z"
   },
   {
    "duration": 46,
    "start_time": "2023-07-08T05:34:46.275Z"
   },
   {
    "duration": 408,
    "start_time": "2023-07-08T05:34:46.323Z"
   },
   {
    "duration": 14,
    "start_time": "2023-07-08T05:34:46.733Z"
   },
   {
    "duration": 19,
    "start_time": "2023-07-08T05:34:46.749Z"
   },
   {
    "duration": 427,
    "start_time": "2023-07-08T05:34:46.770Z"
   },
   {
    "duration": 47,
    "start_time": "2023-07-08T05:34:47.199Z"
   },
   {
    "duration": 167,
    "start_time": "2023-07-08T05:34:47.248Z"
   },
   {
    "duration": 511,
    "start_time": "2023-07-08T05:34:47.417Z"
   },
   {
    "duration": 597,
    "start_time": "2023-07-08T05:34:47.930Z"
   },
   {
    "duration": 6,
    "start_time": "2023-07-08T05:34:48.529Z"
   },
   {
    "duration": 18,
    "start_time": "2023-07-08T05:34:48.537Z"
   },
   {
    "duration": 405,
    "start_time": "2023-07-08T05:34:48.557Z"
   },
   {
    "duration": 389,
    "start_time": "2023-07-08T05:34:48.968Z"
   },
   {
    "duration": 468,
    "start_time": "2023-07-08T05:34:49.359Z"
   },
   {
    "duration": 1620,
    "start_time": "2023-07-08T05:34:49.828Z"
   },
   {
    "duration": 30,
    "start_time": "2023-07-08T05:34:51.449Z"
   },
   {
    "duration": 6,
    "start_time": "2023-07-08T05:34:51.569Z"
   },
   {
    "duration": 105,
    "start_time": "2023-07-08T05:34:51.577Z"
   },
   {
    "duration": 525,
    "start_time": "2023-07-08T05:34:51.684Z"
   },
   {
    "duration": 5,
    "start_time": "2023-07-08T05:34:52.211Z"
   },
   {
    "duration": 23,
    "start_time": "2023-07-08T05:34:52.218Z"
   },
   {
    "duration": 6,
    "start_time": "2023-07-08T05:34:52.243Z"
   },
   {
    "duration": 21,
    "start_time": "2023-07-08T05:34:52.250Z"
   },
   {
    "duration": 6,
    "start_time": "2023-07-08T05:34:52.272Z"
   },
   {
    "duration": 23,
    "start_time": "2023-07-08T05:34:52.279Z"
   },
   {
    "duration": 13,
    "start_time": "2023-07-08T05:34:52.304Z"
   },
   {
    "duration": 37,
    "start_time": "2023-07-08T05:34:52.319Z"
   },
   {
    "duration": 20,
    "start_time": "2023-07-08T05:34:52.358Z"
   },
   {
    "duration": 74724,
    "start_time": "2023-07-08T05:34:52.380Z"
   },
   {
    "duration": 272883,
    "start_time": "2023-07-08T05:36:07.106Z"
   },
   {
    "duration": 9,
    "start_time": "2023-07-08T05:40:39.990Z"
   },
   {
    "duration": 1841,
    "start_time": "2023-07-08T05:40:40.001Z"
   },
   {
    "duration": 360,
    "start_time": "2023-07-08T05:40:41.845Z"
   },
   {
    "duration": 6,
    "start_time": "2023-07-08T05:40:42.208Z"
   },
   {
    "duration": 12,
    "start_time": "2023-07-08T05:40:42.216Z"
   }
  ],
  "kernelspec": {
   "display_name": "Python 3 (ipykernel)",
   "language": "python",
   "name": "python3"
  },
  "language_info": {
   "codemirror_mode": {
    "name": "ipython",
    "version": 3
   },
   "file_extension": ".py",
   "mimetype": "text/x-python",
   "name": "python",
   "nbconvert_exporter": "python",
   "pygments_lexer": "ipython3",
   "version": "3.10.9"
  },
  "toc": {
   "base_numbering": 1,
   "nav_menu": {},
   "number_sections": true,
   "sideBar": true,
   "skip_h1_title": true,
   "title_cell": "Table of Contents",
   "title_sidebar": "Contents",
   "toc_cell": false,
   "toc_position": {},
   "toc_section_display": true,
   "toc_window_display": false
  }
 },
 "nbformat": 4,
 "nbformat_minor": 5
}
