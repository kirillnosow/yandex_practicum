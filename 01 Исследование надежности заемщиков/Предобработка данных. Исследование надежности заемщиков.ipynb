{
 "cells": [
  {
   "cell_type": "markdown",
   "id": "388a3076",
   "metadata": {
    "deletable": false,
    "editable": false,
    "id": "c81daeeb"
   },
   "source": [
    "# Исследование надежности заемщиков\n"
   ]
  },
  {
   "cell_type": "markdown",
   "id": "7349fdb0",
   "metadata": {
    "deletable": false,
    "editable": false,
    "id": "827c20bf"
   },
   "source": [
    "Во второй части проекта вы выполните шаги 3 и 4. Их вручную проверит ревьюер.\n",
    "Чтобы вам не пришлось писать код заново для шагов 1 и 2, мы добавили авторские решения в ячейки с кодом. \n",
    "\n"
   ]
  },
  {
   "cell_type": "markdown",
   "id": "51c7ab87",
   "metadata": {},
   "source": [
    "**Цели проекта:**\n",
    "\n",
    "Разобраться, влияет ли семейное положение, количество детей клиента, его доход и цель кредита на факт погашения кредита в срок.\n",
    "\n",
    "**Задачи проекта:**\n",
    "1. Провести предобработку данных\n",
    "  1. заполнить пропуски, \n",
    "  2. обработать значения в столбцах с аномалиями,\n",
    "  3. удалить строки-дубликаты,\n",
    "  4. провести категоризацию данных.\n",
    "2. Ответить на вопросы\n",
    "  1. Есть ли зависимость между количеством детей и возвратом кредита в срок?\n",
    "  2. Есть ли зависимость между семейным положением и возвратом кредита в срок?\n",
    "  3. Есть ли зависимость между уровнем дохода и возвратом кредита в срок?\n",
    "  4. Как разные цели кредита влияют на его возврат в срок?\n",
    "\n",
    "**Данные:**\n",
    "\n",
    "Входные данные от банка — статистика о платёжеспособности клиентов."
   ]
  },
  {
   "cell_type": "markdown",
   "id": "6923407c",
   "metadata": {
    "deletable": false,
    "editable": false,
    "id": "744d7639"
   },
   "source": [
    "## Откройте таблицу и изучите общую информацию о данных"
   ]
  },
  {
   "cell_type": "markdown",
   "id": "21e8d4e0",
   "metadata": {
    "deletable": false,
    "editable": false,
    "id": "e7a14c31"
   },
   "source": [
    "**Задание 1. Импортируйте библиотеку pandas. Считайте данные из csv-файла в датафрейм и сохраните в переменную `data`. Путь к файлу:**\n",
    "\n",
    "`/datasets/data.csv`"
   ]
  },
  {
   "cell_type": "code",
   "execution_count": 1,
   "id": "b1cadf5a",
   "metadata": {
    "deletable": false,
    "id": "7bcf75c9"
   },
   "outputs": [],
   "source": [
    "import pandas as pd\n",
    "\n",
    "try:\n",
    "    data = pd.read_csv('/datasets/data.csv')\n",
    "except:\n",
    "    data = pd.read_csv('https://code.s3.yandex.net/datasets/data.csv')"
   ]
  },
  {
   "cell_type": "markdown",
   "id": "8c2cfbcd",
   "metadata": {
    "deletable": false,
    "editable": false,
    "id": "b8038fe3"
   },
   "source": [
    "**Задание 2. Выведите первые 20 строчек датафрейма `data` на экран.**"
   ]
  },
  {
   "cell_type": "code",
   "execution_count": 2,
   "id": "7ca9bf84",
   "metadata": {
    "deletable": false,
    "id": "2a7cab99",
    "outputId": "1a8f3ef2-d323-4ec2-ddf7-89670b5944c4"
   },
   "outputs": [
    {
     "data": {
      "text/html": [
       "<div>\n",
       "<style scoped>\n",
       "    .dataframe tbody tr th:only-of-type {\n",
       "        vertical-align: middle;\n",
       "    }\n",
       "\n",
       "    .dataframe tbody tr th {\n",
       "        vertical-align: top;\n",
       "    }\n",
       "\n",
       "    .dataframe thead th {\n",
       "        text-align: right;\n",
       "    }\n",
       "</style>\n",
       "<table border=\"1\" class=\"dataframe\">\n",
       "  <thead>\n",
       "    <tr style=\"text-align: right;\">\n",
       "      <th></th>\n",
       "      <th>children</th>\n",
       "      <th>days_employed</th>\n",
       "      <th>dob_years</th>\n",
       "      <th>education</th>\n",
       "      <th>education_id</th>\n",
       "      <th>family_status</th>\n",
       "      <th>family_status_id</th>\n",
       "      <th>gender</th>\n",
       "      <th>income_type</th>\n",
       "      <th>debt</th>\n",
       "      <th>total_income</th>\n",
       "      <th>purpose</th>\n",
       "    </tr>\n",
       "  </thead>\n",
       "  <tbody>\n",
       "    <tr>\n",
       "      <th>0</th>\n",
       "      <td>1</td>\n",
       "      <td>-8437.673028</td>\n",
       "      <td>42</td>\n",
       "      <td>высшее</td>\n",
       "      <td>0</td>\n",
       "      <td>женат / замужем</td>\n",
       "      <td>0</td>\n",
       "      <td>F</td>\n",
       "      <td>сотрудник</td>\n",
       "      <td>0</td>\n",
       "      <td>253875.639453</td>\n",
       "      <td>покупка жилья</td>\n",
       "    </tr>\n",
       "    <tr>\n",
       "      <th>1</th>\n",
       "      <td>1</td>\n",
       "      <td>-4024.803754</td>\n",
       "      <td>36</td>\n",
       "      <td>среднее</td>\n",
       "      <td>1</td>\n",
       "      <td>женат / замужем</td>\n",
       "      <td>0</td>\n",
       "      <td>F</td>\n",
       "      <td>сотрудник</td>\n",
       "      <td>0</td>\n",
       "      <td>112080.014102</td>\n",
       "      <td>приобретение автомобиля</td>\n",
       "    </tr>\n",
       "    <tr>\n",
       "      <th>2</th>\n",
       "      <td>0</td>\n",
       "      <td>-5623.422610</td>\n",
       "      <td>33</td>\n",
       "      <td>Среднее</td>\n",
       "      <td>1</td>\n",
       "      <td>женат / замужем</td>\n",
       "      <td>0</td>\n",
       "      <td>M</td>\n",
       "      <td>сотрудник</td>\n",
       "      <td>0</td>\n",
       "      <td>145885.952297</td>\n",
       "      <td>покупка жилья</td>\n",
       "    </tr>\n",
       "    <tr>\n",
       "      <th>3</th>\n",
       "      <td>3</td>\n",
       "      <td>-4124.747207</td>\n",
       "      <td>32</td>\n",
       "      <td>среднее</td>\n",
       "      <td>1</td>\n",
       "      <td>женат / замужем</td>\n",
       "      <td>0</td>\n",
       "      <td>M</td>\n",
       "      <td>сотрудник</td>\n",
       "      <td>0</td>\n",
       "      <td>267628.550329</td>\n",
       "      <td>дополнительное образование</td>\n",
       "    </tr>\n",
       "    <tr>\n",
       "      <th>4</th>\n",
       "      <td>0</td>\n",
       "      <td>340266.072047</td>\n",
       "      <td>53</td>\n",
       "      <td>среднее</td>\n",
       "      <td>1</td>\n",
       "      <td>гражданский брак</td>\n",
       "      <td>1</td>\n",
       "      <td>F</td>\n",
       "      <td>пенсионер</td>\n",
       "      <td>0</td>\n",
       "      <td>158616.077870</td>\n",
       "      <td>сыграть свадьбу</td>\n",
       "    </tr>\n",
       "    <tr>\n",
       "      <th>5</th>\n",
       "      <td>0</td>\n",
       "      <td>-926.185831</td>\n",
       "      <td>27</td>\n",
       "      <td>высшее</td>\n",
       "      <td>0</td>\n",
       "      <td>гражданский брак</td>\n",
       "      <td>1</td>\n",
       "      <td>M</td>\n",
       "      <td>компаньон</td>\n",
       "      <td>0</td>\n",
       "      <td>255763.565419</td>\n",
       "      <td>покупка жилья</td>\n",
       "    </tr>\n",
       "    <tr>\n",
       "      <th>6</th>\n",
       "      <td>0</td>\n",
       "      <td>-2879.202052</td>\n",
       "      <td>43</td>\n",
       "      <td>высшее</td>\n",
       "      <td>0</td>\n",
       "      <td>женат / замужем</td>\n",
       "      <td>0</td>\n",
       "      <td>F</td>\n",
       "      <td>компаньон</td>\n",
       "      <td>0</td>\n",
       "      <td>240525.971920</td>\n",
       "      <td>операции с жильем</td>\n",
       "    </tr>\n",
       "    <tr>\n",
       "      <th>7</th>\n",
       "      <td>0</td>\n",
       "      <td>-152.779569</td>\n",
       "      <td>50</td>\n",
       "      <td>СРЕДНЕЕ</td>\n",
       "      <td>1</td>\n",
       "      <td>женат / замужем</td>\n",
       "      <td>0</td>\n",
       "      <td>M</td>\n",
       "      <td>сотрудник</td>\n",
       "      <td>0</td>\n",
       "      <td>135823.934197</td>\n",
       "      <td>образование</td>\n",
       "    </tr>\n",
       "    <tr>\n",
       "      <th>8</th>\n",
       "      <td>2</td>\n",
       "      <td>-6929.865299</td>\n",
       "      <td>35</td>\n",
       "      <td>ВЫСШЕЕ</td>\n",
       "      <td>0</td>\n",
       "      <td>гражданский брак</td>\n",
       "      <td>1</td>\n",
       "      <td>F</td>\n",
       "      <td>сотрудник</td>\n",
       "      <td>0</td>\n",
       "      <td>95856.832424</td>\n",
       "      <td>на проведение свадьбы</td>\n",
       "    </tr>\n",
       "    <tr>\n",
       "      <th>9</th>\n",
       "      <td>0</td>\n",
       "      <td>-2188.756445</td>\n",
       "      <td>41</td>\n",
       "      <td>среднее</td>\n",
       "      <td>1</td>\n",
       "      <td>женат / замужем</td>\n",
       "      <td>0</td>\n",
       "      <td>M</td>\n",
       "      <td>сотрудник</td>\n",
       "      <td>0</td>\n",
       "      <td>144425.938277</td>\n",
       "      <td>покупка жилья для семьи</td>\n",
       "    </tr>\n",
       "    <tr>\n",
       "      <th>10</th>\n",
       "      <td>2</td>\n",
       "      <td>-4171.483647</td>\n",
       "      <td>36</td>\n",
       "      <td>высшее</td>\n",
       "      <td>0</td>\n",
       "      <td>женат / замужем</td>\n",
       "      <td>0</td>\n",
       "      <td>M</td>\n",
       "      <td>компаньон</td>\n",
       "      <td>0</td>\n",
       "      <td>113943.491460</td>\n",
       "      <td>покупка недвижимости</td>\n",
       "    </tr>\n",
       "    <tr>\n",
       "      <th>11</th>\n",
       "      <td>0</td>\n",
       "      <td>-792.701887</td>\n",
       "      <td>40</td>\n",
       "      <td>среднее</td>\n",
       "      <td>1</td>\n",
       "      <td>женат / замужем</td>\n",
       "      <td>0</td>\n",
       "      <td>F</td>\n",
       "      <td>сотрудник</td>\n",
       "      <td>0</td>\n",
       "      <td>77069.234271</td>\n",
       "      <td>покупка коммерческой недвижимости</td>\n",
       "    </tr>\n",
       "    <tr>\n",
       "      <th>12</th>\n",
       "      <td>0</td>\n",
       "      <td>NaN</td>\n",
       "      <td>65</td>\n",
       "      <td>среднее</td>\n",
       "      <td>1</td>\n",
       "      <td>гражданский брак</td>\n",
       "      <td>1</td>\n",
       "      <td>M</td>\n",
       "      <td>пенсионер</td>\n",
       "      <td>0</td>\n",
       "      <td>NaN</td>\n",
       "      <td>сыграть свадьбу</td>\n",
       "    </tr>\n",
       "    <tr>\n",
       "      <th>13</th>\n",
       "      <td>0</td>\n",
       "      <td>-1846.641941</td>\n",
       "      <td>54</td>\n",
       "      <td>неоконченное высшее</td>\n",
       "      <td>2</td>\n",
       "      <td>женат / замужем</td>\n",
       "      <td>0</td>\n",
       "      <td>F</td>\n",
       "      <td>сотрудник</td>\n",
       "      <td>0</td>\n",
       "      <td>130458.228857</td>\n",
       "      <td>приобретение автомобиля</td>\n",
       "    </tr>\n",
       "    <tr>\n",
       "      <th>14</th>\n",
       "      <td>0</td>\n",
       "      <td>-1844.956182</td>\n",
       "      <td>56</td>\n",
       "      <td>высшее</td>\n",
       "      <td>0</td>\n",
       "      <td>гражданский брак</td>\n",
       "      <td>1</td>\n",
       "      <td>F</td>\n",
       "      <td>компаньон</td>\n",
       "      <td>1</td>\n",
       "      <td>165127.911772</td>\n",
       "      <td>покупка жилой недвижимости</td>\n",
       "    </tr>\n",
       "    <tr>\n",
       "      <th>15</th>\n",
       "      <td>1</td>\n",
       "      <td>-972.364419</td>\n",
       "      <td>26</td>\n",
       "      <td>среднее</td>\n",
       "      <td>1</td>\n",
       "      <td>женат / замужем</td>\n",
       "      <td>0</td>\n",
       "      <td>F</td>\n",
       "      <td>сотрудник</td>\n",
       "      <td>0</td>\n",
       "      <td>116820.904450</td>\n",
       "      <td>строительство собственной недвижимости</td>\n",
       "    </tr>\n",
       "    <tr>\n",
       "      <th>16</th>\n",
       "      <td>0</td>\n",
       "      <td>-1719.934226</td>\n",
       "      <td>35</td>\n",
       "      <td>среднее</td>\n",
       "      <td>1</td>\n",
       "      <td>женат / замужем</td>\n",
       "      <td>0</td>\n",
       "      <td>F</td>\n",
       "      <td>сотрудник</td>\n",
       "      <td>0</td>\n",
       "      <td>289202.704229</td>\n",
       "      <td>недвижимость</td>\n",
       "    </tr>\n",
       "    <tr>\n",
       "      <th>17</th>\n",
       "      <td>0</td>\n",
       "      <td>-2369.999720</td>\n",
       "      <td>33</td>\n",
       "      <td>высшее</td>\n",
       "      <td>0</td>\n",
       "      <td>гражданский брак</td>\n",
       "      <td>1</td>\n",
       "      <td>M</td>\n",
       "      <td>сотрудник</td>\n",
       "      <td>0</td>\n",
       "      <td>90410.586745</td>\n",
       "      <td>строительство недвижимости</td>\n",
       "    </tr>\n",
       "    <tr>\n",
       "      <th>18</th>\n",
       "      <td>0</td>\n",
       "      <td>400281.136913</td>\n",
       "      <td>53</td>\n",
       "      <td>среднее</td>\n",
       "      <td>1</td>\n",
       "      <td>вдовец / вдова</td>\n",
       "      <td>2</td>\n",
       "      <td>F</td>\n",
       "      <td>пенсионер</td>\n",
       "      <td>0</td>\n",
       "      <td>56823.777243</td>\n",
       "      <td>на покупку подержанного автомобиля</td>\n",
       "    </tr>\n",
       "    <tr>\n",
       "      <th>19</th>\n",
       "      <td>0</td>\n",
       "      <td>-10038.818549</td>\n",
       "      <td>48</td>\n",
       "      <td>СРЕДНЕЕ</td>\n",
       "      <td>1</td>\n",
       "      <td>в разводе</td>\n",
       "      <td>3</td>\n",
       "      <td>F</td>\n",
       "      <td>сотрудник</td>\n",
       "      <td>0</td>\n",
       "      <td>242831.107982</td>\n",
       "      <td>на покупку своего автомобиля</td>\n",
       "    </tr>\n",
       "  </tbody>\n",
       "</table>\n",
       "</div>"
      ],
      "text/plain": [
       "    children  days_employed  dob_years            education  education_id  \\\n",
       "0          1   -8437.673028         42               высшее             0   \n",
       "1          1   -4024.803754         36              среднее             1   \n",
       "2          0   -5623.422610         33              Среднее             1   \n",
       "3          3   -4124.747207         32              среднее             1   \n",
       "4          0  340266.072047         53              среднее             1   \n",
       "5          0    -926.185831         27               высшее             0   \n",
       "6          0   -2879.202052         43               высшее             0   \n",
       "7          0    -152.779569         50              СРЕДНЕЕ             1   \n",
       "8          2   -6929.865299         35               ВЫСШЕЕ             0   \n",
       "9          0   -2188.756445         41              среднее             1   \n",
       "10         2   -4171.483647         36               высшее             0   \n",
       "11         0    -792.701887         40              среднее             1   \n",
       "12         0            NaN         65              среднее             1   \n",
       "13         0   -1846.641941         54  неоконченное высшее             2   \n",
       "14         0   -1844.956182         56               высшее             0   \n",
       "15         1    -972.364419         26              среднее             1   \n",
       "16         0   -1719.934226         35              среднее             1   \n",
       "17         0   -2369.999720         33               высшее             0   \n",
       "18         0  400281.136913         53              среднее             1   \n",
       "19         0  -10038.818549         48              СРЕДНЕЕ             1   \n",
       "\n",
       "       family_status  family_status_id gender income_type  debt  \\\n",
       "0    женат / замужем                 0      F   сотрудник     0   \n",
       "1    женат / замужем                 0      F   сотрудник     0   \n",
       "2    женат / замужем                 0      M   сотрудник     0   \n",
       "3    женат / замужем                 0      M   сотрудник     0   \n",
       "4   гражданский брак                 1      F   пенсионер     0   \n",
       "5   гражданский брак                 1      M   компаньон     0   \n",
       "6    женат / замужем                 0      F   компаньон     0   \n",
       "7    женат / замужем                 0      M   сотрудник     0   \n",
       "8   гражданский брак                 1      F   сотрудник     0   \n",
       "9    женат / замужем                 0      M   сотрудник     0   \n",
       "10   женат / замужем                 0      M   компаньон     0   \n",
       "11   женат / замужем                 0      F   сотрудник     0   \n",
       "12  гражданский брак                 1      M   пенсионер     0   \n",
       "13   женат / замужем                 0      F   сотрудник     0   \n",
       "14  гражданский брак                 1      F   компаньон     1   \n",
       "15   женат / замужем                 0      F   сотрудник     0   \n",
       "16   женат / замужем                 0      F   сотрудник     0   \n",
       "17  гражданский брак                 1      M   сотрудник     0   \n",
       "18    вдовец / вдова                 2      F   пенсионер     0   \n",
       "19         в разводе                 3      F   сотрудник     0   \n",
       "\n",
       "     total_income                                 purpose  \n",
       "0   253875.639453                           покупка жилья  \n",
       "1   112080.014102                 приобретение автомобиля  \n",
       "2   145885.952297                           покупка жилья  \n",
       "3   267628.550329              дополнительное образование  \n",
       "4   158616.077870                         сыграть свадьбу  \n",
       "5   255763.565419                           покупка жилья  \n",
       "6   240525.971920                       операции с жильем  \n",
       "7   135823.934197                             образование  \n",
       "8    95856.832424                   на проведение свадьбы  \n",
       "9   144425.938277                 покупка жилья для семьи  \n",
       "10  113943.491460                    покупка недвижимости  \n",
       "11   77069.234271       покупка коммерческой недвижимости  \n",
       "12            NaN                         сыграть свадьбу  \n",
       "13  130458.228857                 приобретение автомобиля  \n",
       "14  165127.911772              покупка жилой недвижимости  \n",
       "15  116820.904450  строительство собственной недвижимости  \n",
       "16  289202.704229                            недвижимость  \n",
       "17   90410.586745              строительство недвижимости  \n",
       "18   56823.777243      на покупку подержанного автомобиля  \n",
       "19  242831.107982            на покупку своего автомобиля  "
      ]
     },
     "execution_count": 2,
     "metadata": {},
     "output_type": "execute_result"
    }
   ],
   "source": [
    "data.head(20)"
   ]
  },
  {
   "cell_type": "markdown",
   "id": "4df77c77",
   "metadata": {
    "deletable": false,
    "editable": false,
    "id": "1c12e233"
   },
   "source": [
    "**Задание 3. Выведите основную информацию о датафрейме с помощью метода `info()`.**"
   ]
  },
  {
   "cell_type": "code",
   "execution_count": 3,
   "id": "9b8717c3",
   "metadata": {
    "deletable": false,
    "id": "2b757bca",
    "outputId": "15376089-8dad-46c9-b520-c05248d43158"
   },
   "outputs": [
    {
     "name": "stdout",
     "output_type": "stream",
     "text": [
      "<class 'pandas.core.frame.DataFrame'>\n",
      "RangeIndex: 21525 entries, 0 to 21524\n",
      "Data columns (total 12 columns):\n",
      " #   Column            Non-Null Count  Dtype  \n",
      "---  ------            --------------  -----  \n",
      " 0   children          21525 non-null  int64  \n",
      " 1   days_employed     19351 non-null  float64\n",
      " 2   dob_years         21525 non-null  int64  \n",
      " 3   education         21525 non-null  object \n",
      " 4   education_id      21525 non-null  int64  \n",
      " 5   family_status     21525 non-null  object \n",
      " 6   family_status_id  21525 non-null  int64  \n",
      " 7   gender            21525 non-null  object \n",
      " 8   income_type       21525 non-null  object \n",
      " 9   debt              21525 non-null  int64  \n",
      " 10  total_income      19351 non-null  float64\n",
      " 11  purpose           21525 non-null  object \n",
      "dtypes: float64(2), int64(5), object(5)\n",
      "memory usage: 2.0+ MB\n"
     ]
    }
   ],
   "source": [
    "data.info()"
   ]
  },
  {
   "cell_type": "markdown",
   "id": "15d9f1d9",
   "metadata": {
    "deletable": false,
    "editable": false,
    "id": "333ec665"
   },
   "source": [
    "## Предобработка данных"
   ]
  },
  {
   "cell_type": "markdown",
   "id": "51abe12e",
   "metadata": {
    "deletable": false,
    "editable": false,
    "id": "02d92d53"
   },
   "source": [
    "### Удаление пропусков"
   ]
  },
  {
   "cell_type": "markdown",
   "id": "d499f72e",
   "metadata": {
    "deletable": false,
    "editable": false,
    "id": "cd84967c"
   },
   "source": [
    "**Задание 4. Выведите количество пропущенных значений для каждого столбца. Используйте комбинацию двух методов.**"
   ]
  },
  {
   "cell_type": "code",
   "execution_count": 4,
   "id": "d8782433",
   "metadata": {
    "deletable": false,
    "id": "7f9b2309",
    "outputId": "81f4d817-781c-465c-ed15-91ce4446810d"
   },
   "outputs": [
    {
     "data": {
      "text/plain": [
       "children               0\n",
       "days_employed       2174\n",
       "dob_years              0\n",
       "education              0\n",
       "education_id           0\n",
       "family_status          0\n",
       "family_status_id       0\n",
       "gender                 0\n",
       "income_type            0\n",
       "debt                   0\n",
       "total_income        2174\n",
       "purpose                0\n",
       "dtype: int64"
      ]
     },
     "execution_count": 4,
     "metadata": {},
     "output_type": "execute_result"
    }
   ],
   "source": [
    "data.isna().sum()"
   ]
  },
  {
   "cell_type": "markdown",
   "id": "51a472d0",
   "metadata": {
    "deletable": false,
    "editable": false,
    "id": "db86e27b"
   },
   "source": [
    "**Задание 5. В двух столбцах есть пропущенные значения. Один из них — `days_employed`. Пропуски в этом столбце вы обработаете на следующем этапе. Другой столбец с пропущенными значениями — `total_income` — хранит данные о доходах. На сумму дохода сильнее всего влияет тип занятости, поэтому заполнить пропуски в этом столбце нужно медианным значением по каждому типу из столбца `income_type`. Например, у человека с типом занятости `сотрудник` пропуск в столбце `total_income` должен быть заполнен медианным доходом среди всех записей с тем же типом.**"
   ]
  },
  {
   "cell_type": "code",
   "execution_count": 5,
   "id": "d34b265e",
   "metadata": {
    "deletable": false,
    "id": "42006a93"
   },
   "outputs": [],
   "source": [
    "for t in data['income_type'].unique():\n",
    "    data.loc[(data['income_type'] == t) & (data['total_income'].isna()), 'total_income'] = \\\n",
    "    data.loc[(data['income_type'] == t), 'total_income'].median()"
   ]
  },
  {
   "cell_type": "markdown",
   "id": "8a9ea8c6",
   "metadata": {
    "deletable": false,
    "editable": false,
    "id": "89da5ece"
   },
   "source": [
    "### Обработка аномальных значений"
   ]
  },
  {
   "cell_type": "markdown",
   "id": "c566e140",
   "metadata": {
    "deletable": false,
    "editable": false,
    "id": "57964554"
   },
   "source": [
    "**Задание 6. В данных могут встречаться артефакты (аномалии) — значения, которые не отражают действительность и появились по какой-то ошибке. таким артефактом будет отрицательное количество дней трудового стажа в столбце `days_employed`. Для реальных данных это нормально. Обработайте значения в этом столбце: замените все отрицательные значения положительными с помощью метода `abs()`.**"
   ]
  },
  {
   "cell_type": "code",
   "execution_count": 6,
   "id": "2eee4503",
   "metadata": {
    "deletable": false,
    "id": "f6f055bf"
   },
   "outputs": [],
   "source": [
    "data['days_employed'] = data['days_employed'].abs()"
   ]
  },
  {
   "cell_type": "markdown",
   "id": "6b3656a1",
   "metadata": {
    "deletable": false,
    "editable": false,
    "id": "6107dd2f"
   },
   "source": [
    "**Задание 7. Для каждого типа занятости выведите медианное значение трудового стажа `days_employed` в днях.**"
   ]
  },
  {
   "cell_type": "code",
   "execution_count": 7,
   "id": "4c4a5ea3",
   "metadata": {
    "deletable": false,
    "id": "85a5faf6",
    "outputId": "801ef80e-522b-4668-f34e-565af7432bcf"
   },
   "outputs": [
    {
     "data": {
      "text/plain": [
       "income_type\n",
       "безработный        366413.652744\n",
       "в декрете            3296.759962\n",
       "госслужащий          2689.368353\n",
       "компаньон            1547.382223\n",
       "пенсионер          365213.306266\n",
       "предприниматель       520.848083\n",
       "сотрудник            1574.202821\n",
       "студент               578.751554\n",
       "Name: days_employed, dtype: float64"
      ]
     },
     "execution_count": 7,
     "metadata": {},
     "output_type": "execute_result"
    }
   ],
   "source": [
    "data.groupby('income_type')['days_employed'].agg('median')"
   ]
  },
  {
   "cell_type": "markdown",
   "id": "603b7afe",
   "metadata": {
    "deletable": false,
    "editable": false,
    "id": "38d1a030"
   },
   "source": [
    "У двух типов (безработные и пенсионеры) получатся аномально большие значения. Исправить такие значения сложно, поэтому оставьте их как есть. Тем более этот столбец не понадобится вам для исследования."
   ]
  },
  {
   "cell_type": "markdown",
   "id": "1f7ca285",
   "metadata": {
    "deletable": false,
    "editable": false,
    "id": "d8a9f147"
   },
   "source": [
    "**Задание 8. Выведите перечень уникальных значений столбца `children`.**"
   ]
  },
  {
   "cell_type": "code",
   "execution_count": 8,
   "id": "9d612a10",
   "metadata": {
    "deletable": false,
    "id": "ef5056eb",
    "outputId": "6975b15c-7f95-4697-d16d-a0c79b657b03"
   },
   "outputs": [
    {
     "data": {
      "text/plain": [
       "array([ 1,  0,  3,  2, -1,  4, 20,  5])"
      ]
     },
     "execution_count": 8,
     "metadata": {},
     "output_type": "execute_result"
    }
   ],
   "source": [
    "data['children'].unique()"
   ]
  },
  {
   "cell_type": "markdown",
   "id": "8e927c7e",
   "metadata": {
    "deletable": false,
    "editable": false,
    "id": "40b9ebf2"
   },
   "source": [
    "**Задание 9. В столбце `children` есть два аномальных значения. Удалите строки, в которых встречаются такие аномальные значения из датафрейма `data`.**"
   ]
  },
  {
   "cell_type": "code",
   "execution_count": 9,
   "id": "d42be8f2",
   "metadata": {
    "deletable": false,
    "id": "3ff9801d"
   },
   "outputs": [],
   "source": [
    "data = data[(data['children'] != -1) & (data['children'] != 20)]"
   ]
  },
  {
   "cell_type": "markdown",
   "id": "4a7d3d1d",
   "metadata": {
    "deletable": false,
    "editable": false,
    "id": "bbc4d0ce"
   },
   "source": [
    "**Задание 10. Ещё раз выведите перечень уникальных значений столбца `children`, чтобы убедиться, что артефакты удалены.**"
   ]
  },
  {
   "cell_type": "code",
   "execution_count": 10,
   "id": "3100cf8e",
   "metadata": {
    "deletable": false,
    "id": "ad4fa8b7",
    "outputId": "b2097101-d49d-44d9-901b-32a65c9463d1"
   },
   "outputs": [
    {
     "data": {
      "text/plain": [
       "array([1, 0, 3, 2, 4, 5])"
      ]
     },
     "execution_count": 10,
     "metadata": {},
     "output_type": "execute_result"
    }
   ],
   "source": [
    "data['children'].unique()"
   ]
  },
  {
   "cell_type": "markdown",
   "id": "10fdd677",
   "metadata": {
    "deletable": false,
    "editable": false,
    "id": "75440b63"
   },
   "source": [
    "### Удаление пропусков (продолжение)"
   ]
  },
  {
   "cell_type": "markdown",
   "id": "b3ad11ea",
   "metadata": {
    "deletable": false,
    "editable": false,
    "id": "f4ea573f"
   },
   "source": [
    "**Задание 11. Заполните пропуски в столбце `days_employed` медианными значениями по каждого типа занятости `income_type`.**"
   ]
  },
  {
   "cell_type": "code",
   "execution_count": 11,
   "id": "2562c395",
   "metadata": {
    "deletable": false,
    "id": "af6b1a7e"
   },
   "outputs": [],
   "source": [
    "for t in data['income_type'].unique():\n",
    "    data.loc[(data['income_type'] == t) & (data['days_employed'].isna()), 'days_employed'] = \\\n",
    "    data.loc[(data['income_type'] == t), 'days_employed'].median()"
   ]
  },
  {
   "cell_type": "markdown",
   "id": "fb437df7",
   "metadata": {
    "deletable": false,
    "editable": false,
    "id": "2753f40d"
   },
   "source": [
    "**Задание 12. Убедитесь, что все пропуски заполнены. Проверьте себя и ещё раз выведите количество пропущенных значений для каждого столбца с помощью двух методов.**"
   ]
  },
  {
   "cell_type": "code",
   "execution_count": 12,
   "id": "06db70f9",
   "metadata": {
    "deletable": false,
    "id": "55f78bc2",
    "outputId": "8da1e4e1-358e-4e87-98c9-f261bce0a7b2"
   },
   "outputs": [
    {
     "data": {
      "text/plain": [
       "children            0\n",
       "days_employed       0\n",
       "dob_years           0\n",
       "education           0\n",
       "education_id        0\n",
       "family_status       0\n",
       "family_status_id    0\n",
       "gender              0\n",
       "income_type         0\n",
       "debt                0\n",
       "total_income        0\n",
       "purpose             0\n",
       "dtype: int64"
      ]
     },
     "execution_count": 12,
     "metadata": {},
     "output_type": "execute_result"
    }
   ],
   "source": [
    "data.isna().sum()"
   ]
  },
  {
   "cell_type": "markdown",
   "id": "01ad4d9b",
   "metadata": {
    "deletable": false,
    "editable": false,
    "id": "ddc81e43"
   },
   "source": [
    "### Изменение типов данных"
   ]
  },
  {
   "cell_type": "markdown",
   "id": "367ce33c",
   "metadata": {
    "deletable": false,
    "editable": false,
    "id": "42d19d24"
   },
   "source": [
    "**Задание 13. Замените вещественный тип данных в столбце `total_income` на целочисленный с помощью метода `astype()`.**"
   ]
  },
  {
   "cell_type": "code",
   "execution_count": 13,
   "id": "50ce266e",
   "metadata": {
    "deletable": false,
    "id": "920b65ad"
   },
   "outputs": [],
   "source": [
    "data['total_income'] = data['total_income'].astype(int)"
   ]
  },
  {
   "cell_type": "markdown",
   "id": "f973e0b2",
   "metadata": {
    "deletable": false,
    "editable": false,
    "id": "80c420ba"
   },
   "source": [
    "### Обработка дубликатов"
   ]
  },
  {
   "cell_type": "markdown",
   "id": "18bba15d",
   "metadata": {
    "deletable": false,
    "editable": false
   },
   "source": [
    "**Задание 14. Обработайте неявные дубликаты в столбце `education`. В этом столбце есть одни и те же значения, но записанные по-разному: с использованием заглавных и строчных букв. Приведите их к нижнему регистру. Проверьте остальные столбцы.**"
   ]
  },
  {
   "cell_type": "code",
   "execution_count": 14,
   "id": "ddd9947a",
   "metadata": {
    "deletable": false
   },
   "outputs": [],
   "source": [
    "data['education'] = data['education'].str.lower()"
   ]
  },
  {
   "cell_type": "markdown",
   "id": "efb2e1b1",
   "metadata": {
    "deletable": false,
    "editable": false,
    "id": "dc587695"
   },
   "source": [
    "**Задание 15. Выведите на экран количество строк-дубликатов в данных. Если такие строки присутствуют, удалите их.**"
   ]
  },
  {
   "cell_type": "code",
   "execution_count": 15,
   "id": "cf5f704e",
   "metadata": {
    "deletable": false,
    "id": "3ee445e4",
    "outputId": "9684deba-1934-42d1-99e1-cda61740f822"
   },
   "outputs": [
    {
     "data": {
      "text/plain": [
       "71"
      ]
     },
     "execution_count": 15,
     "metadata": {},
     "output_type": "execute_result"
    }
   ],
   "source": [
    "data.duplicated().sum()"
   ]
  },
  {
   "cell_type": "code",
   "execution_count": 16,
   "id": "741d3276",
   "metadata": {
    "deletable": false,
    "id": "8575fe05"
   },
   "outputs": [],
   "source": [
    "data = data.drop_duplicates()"
   ]
  },
  {
   "cell_type": "markdown",
   "id": "3726ff69",
   "metadata": {
    "deletable": false,
    "editable": false,
    "id": "9904cf55"
   },
   "source": [
    "### Категоризация данных"
   ]
  },
  {
   "cell_type": "markdown",
   "id": "002bb3eb",
   "metadata": {
    "deletable": false,
    "editable": false,
    "id": "72fcc8a2"
   },
   "source": [
    "**Задание 16. На основании диапазонов, указанных ниже, создайте в датафрейме `data` столбец `total_income_category` с категориями:**\n",
    "\n",
    "- 0–30000 — `'E'`;\n",
    "- 30001–50000 — `'D'`;\n",
    "- 50001–200000 — `'C'`;\n",
    "- 200001–1000000 — `'B'`;\n",
    "- 1000001 и выше — `'A'`.\n",
    "\n",
    "\n",
    "**Например, кредитополучателю с доходом 25000 нужно назначить категорию `'E'`, а клиенту, получающему 235000, — `'B'`. Используйте собственную функцию с именем `categorize_income()` и метод `apply()`.**"
   ]
  },
  {
   "cell_type": "code",
   "execution_count": 17,
   "id": "5a34808d",
   "metadata": {
    "deletable": false,
    "id": "e1771346"
   },
   "outputs": [],
   "source": [
    "def categorize_income(income):\n",
    "    try:\n",
    "        if 0 <= income <= 30000:\n",
    "            return 'E'\n",
    "        elif 30001 <= income <= 50000:\n",
    "            return 'D'\n",
    "        elif 50001 <= income <= 200000:\n",
    "            return 'C'\n",
    "        elif 200001 <= income <= 1000000:\n",
    "            return 'B'\n",
    "        elif income >= 1000001:\n",
    "            return 'A'\n",
    "    except:\n",
    "        pass"
   ]
  },
  {
   "cell_type": "code",
   "execution_count": 18,
   "id": "a258bfb2",
   "metadata": {
    "deletable": false,
    "id": "d5f3586d"
   },
   "outputs": [],
   "source": [
    "data['total_income_category'] = data['total_income'].apply(categorize_income)"
   ]
  },
  {
   "cell_type": "markdown",
   "id": "fc05178e",
   "metadata": {
    "deletable": false,
    "editable": false,
    "id": "dde49b5c"
   },
   "source": [
    "**Задание 17. Выведите на экран перечень уникальных целей взятия кредита из столбца `purpose`.**"
   ]
  },
  {
   "cell_type": "code",
   "execution_count": 19,
   "id": "c4e5ec28",
   "metadata": {
    "deletable": false,
    "id": "f67ce9b3",
    "outputId": "673c12d9-7d7e-4ae0-9812-c622c89dd244"
   },
   "outputs": [
    {
     "data": {
      "text/plain": [
       "array(['покупка жилья', 'приобретение автомобиля',\n",
       "       'дополнительное образование', 'сыграть свадьбу',\n",
       "       'операции с жильем', 'образование', 'на проведение свадьбы',\n",
       "       'покупка жилья для семьи', 'покупка недвижимости',\n",
       "       'покупка коммерческой недвижимости', 'покупка жилой недвижимости',\n",
       "       'строительство собственной недвижимости', 'недвижимость',\n",
       "       'строительство недвижимости', 'на покупку подержанного автомобиля',\n",
       "       'на покупку своего автомобиля',\n",
       "       'операции с коммерческой недвижимостью',\n",
       "       'строительство жилой недвижимости', 'жилье',\n",
       "       'операции со своей недвижимостью', 'автомобили',\n",
       "       'заняться образованием', 'сделка с подержанным автомобилем',\n",
       "       'получение образования', 'автомобиль', 'свадьба',\n",
       "       'получение дополнительного образования', 'покупка своего жилья',\n",
       "       'операции с недвижимостью', 'получение высшего образования',\n",
       "       'свой автомобиль', 'сделка с автомобилем',\n",
       "       'профильное образование', 'высшее образование',\n",
       "       'покупка жилья для сдачи', 'на покупку автомобиля', 'ремонт жилью',\n",
       "       'заняться высшим образованием'], dtype=object)"
      ]
     },
     "execution_count": 19,
     "metadata": {},
     "output_type": "execute_result"
    }
   ],
   "source": [
    "data['purpose'].unique()"
   ]
  },
  {
   "cell_type": "markdown",
   "id": "72711b7b",
   "metadata": {
    "deletable": false,
    "editable": false,
    "id": "85d0aef0"
   },
   "source": [
    "**Задание 18. Создайте функцию, которая на основании данных из столбца `purpose` сформирует новый столбец `purpose_category`, в который войдут следующие категории:**\n",
    "\n",
    "- `'операции с автомобилем'`,\n",
    "- `'операции с недвижимостью'`,\n",
    "- `'проведение свадьбы'`,\n",
    "- `'получение образования'`.\n",
    "\n",
    "**Например, если в столбце `purpose` находится подстрока `'на покупку автомобиля'`, то в столбце `purpose_category` должна появиться строка `'операции с автомобилем'`.**\n",
    "\n",
    "**Используйте собственную функцию с именем `categorize_purpose()` и метод `apply()`. Изучите данные в столбце `purpose` и определите, какие подстроки помогут вам правильно определить категорию.**"
   ]
  },
  {
   "cell_type": "code",
   "execution_count": 20,
   "id": "dfc1feac",
   "metadata": {
    "deletable": false,
    "id": "e149fab4"
   },
   "outputs": [],
   "source": [
    "def categorize_purpose(row):\n",
    "    try:\n",
    "        if 'автом' in row:\n",
    "            return 'операции с автомобилем'\n",
    "        elif 'жил' in row or 'недвиж' in row:\n",
    "            return 'операции с недвижимостью'\n",
    "        elif 'свад' in row:\n",
    "            return 'проведение свадьбы'\n",
    "        elif 'образов' in row:\n",
    "            return 'получение образования'\n",
    "    except:\n",
    "        return 'нет категории'"
   ]
  },
  {
   "cell_type": "code",
   "execution_count": 21,
   "id": "f080b960",
   "metadata": {
    "deletable": false,
    "id": "bf36e69b"
   },
   "outputs": [],
   "source": [
    "data['purpose_category'] = data['purpose'].apply(categorize_purpose)"
   ]
  },
  {
   "cell_type": "markdown",
   "id": "2da68e90",
   "metadata": {
    "deletable": false,
    "editable": false,
    "id": "09b242bf"
   },
   "source": [
    "### Шаг 3. Исследуйте данные и ответьте на вопросы"
   ]
  },
  {
   "cell_type": "markdown",
   "id": "e63cbc4f",
   "metadata": {
    "deletable": false,
    "editable": false,
    "id": "c5d66278"
   },
   "source": [
    "#### 3.1 Есть ли зависимость между количеством детей и возвратом кредита в срок?"
   ]
  },
  {
   "cell_type": "code",
   "execution_count": 22,
   "id": "8c4c6b47",
   "metadata": {
    "deletable": false,
    "id": "2cacfc4a",
    "scrolled": false
   },
   "outputs": [
    {
     "name": "stdout",
     "output_type": "stream",
     "text": [
      "8% клиентов, не имеющих детей, не возвращают кредит\n",
      "9% клиентов, имеющих 1 ребенка, не возвращают кредит\n",
      "9% клиентов, имеющих 2 детей, не возвращают кредит\n",
      "8% клиентов, имеющих 3 детей, не возвращают кредит\n",
      "10% клиентов, имеющих 4 детей, не возвращают кредит\n",
      "0% клиентов, имеющих 5 детей, не возвращают кредит\n"
     ]
    },
    {
     "data": {
      "text/html": [
       "<div>\n",
       "<style scoped>\n",
       "    .dataframe tbody tr th:only-of-type {\n",
       "        vertical-align: middle;\n",
       "    }\n",
       "\n",
       "    .dataframe tbody tr th {\n",
       "        vertical-align: top;\n",
       "    }\n",
       "\n",
       "    .dataframe thead tr th {\n",
       "        text-align: left;\n",
       "    }\n",
       "\n",
       "    .dataframe thead tr:last-of-type th {\n",
       "        text-align: right;\n",
       "    }\n",
       "</style>\n",
       "<table border=\"1\" class=\"dataframe\">\n",
       "  <thead>\n",
       "    <tr>\n",
       "      <th></th>\n",
       "      <th>count</th>\n",
       "      <th>mean</th>\n",
       "    </tr>\n",
       "    <tr>\n",
       "      <th></th>\n",
       "      <th>debt</th>\n",
       "      <th>debt</th>\n",
       "    </tr>\n",
       "    <tr>\n",
       "      <th>children</th>\n",
       "      <th></th>\n",
       "      <th></th>\n",
       "    </tr>\n",
       "  </thead>\n",
       "  <tbody>\n",
       "    <tr>\n",
       "      <th>0</th>\n",
       "      <td>14091</td>\n",
       "      <td>0.075438</td>\n",
       "    </tr>\n",
       "    <tr>\n",
       "      <th>1</th>\n",
       "      <td>4808</td>\n",
       "      <td>0.092346</td>\n",
       "    </tr>\n",
       "    <tr>\n",
       "      <th>2</th>\n",
       "      <td>2052</td>\n",
       "      <td>0.094542</td>\n",
       "    </tr>\n",
       "    <tr>\n",
       "      <th>3</th>\n",
       "      <td>330</td>\n",
       "      <td>0.081818</td>\n",
       "    </tr>\n",
       "    <tr>\n",
       "      <th>4</th>\n",
       "      <td>41</td>\n",
       "      <td>0.097561</td>\n",
       "    </tr>\n",
       "    <tr>\n",
       "      <th>5</th>\n",
       "      <td>9</td>\n",
       "      <td>0.000000</td>\n",
       "    </tr>\n",
       "  </tbody>\n",
       "</table>\n",
       "</div>"
      ],
      "text/plain": [
       "          count      mean\n",
       "           debt      debt\n",
       "children                 \n",
       "0         14091  0.075438\n",
       "1          4808  0.092346\n",
       "2          2052  0.094542\n",
       "3           330  0.081818\n",
       "4            41  0.097561\n",
       "5             9  0.000000"
      ]
     },
     "execution_count": 22,
     "metadata": {},
     "output_type": "execute_result"
    }
   ],
   "source": [
    "# группируем по количеству детей, суммируем по задолженностям\n",
    "children_debt = data.groupby('children')['debt'].sum()\n",
    "#print(children_debt)\n",
    "\n",
    "# считаем, сколько всего человек имеет/не имеет детей\n",
    "children_count = data.groupby('children')['debt'].count()\n",
    "\n",
    "# процент, кто имеет 0 детей и не возвращает кредит\n",
    "children_0 = children_debt[0]/children_count[0]\n",
    "# процент, кто имеет 1 ребека и не возвращает кредит\n",
    "children_1 = children_debt[1]/children_count[1]\n",
    "# процент, кто имеет 2 детей и не возвращает кредит\n",
    "children_2 = children_debt[2]/children_count[2]\n",
    "# процент, кто имеет 3 детей и не возвращает кредит\n",
    "children_3 = children_debt[3]/children_count[3]\n",
    "# процент, кто имеет 4 детей и не возвращает кредит\n",
    "children_4 = children_debt[4]/children_count[4]\n",
    "# процент, кто имеет 5 детей и не возвращает кредит\n",
    "children_5 = children_debt[5]/children_count[5]\n",
    "\n",
    "print ('{:.0%} клиентов, не имеющих детей, не возвращают кредит'.format(children_0))\n",
    "print ('{:.0%} клиентов, имеющих 1 ребенка, не возвращают кредит'.format(children_1))\n",
    "print ('{:.0%} клиентов, имеющих 2 детей, не возвращают кредит'.format(children_2))\n",
    "print ('{:.0%} клиентов, имеющих 3 детей, не возвращают кредит'.format(children_3))\n",
    "print ('{:.0%} клиентов, имеющих 4 детей, не возвращают кредит'.format(children_4))\n",
    "print ('{:.0%} клиентов, имеющих 5 детей, не возвращают кредит'.format(children_5))\n",
    "\n",
    "pd.pivot_table(data, index=['children'], values='debt', aggfunc=['count', 'mean'])"
   ]
  },
  {
   "cell_type": "markdown",
   "id": "d79f97c9",
   "metadata": {
    "deletable": false,
    "id": "3a6b99ec"
   },
   "source": [
    "**Вывод:** Если не учитывать малочисленные категории (клиенты, имеющие 3 и больше детей), то можем сделать вывод, что клиентов, у которых нет детей, возвращают кредит в срок немного чаще (только 7,5% не возвращают кредит в срок). Клиенты, имеющие 1 ребёнка или 2 детей, возвращают кредит в срок реже тех, у кого нет детей (9,2% и 9,5% соответственно). \n",
    "\n",
    "Можем сделать вывод, что есть зависимость возврата кредита в срок и наличия детей у клиента."
   ]
  },
  {
   "cell_type": "markdown",
   "id": "571e2df1",
   "metadata": {
    "deletable": false,
    "editable": false,
    "id": "97be82ca"
   },
   "source": [
    "#### 3.2 Есть ли зависимость между семейным положением и возвратом кредита в срок?"
   ]
  },
  {
   "cell_type": "code",
   "execution_count": 23,
   "id": "6e98ff02",
   "metadata": {
    "deletable": false,
    "id": "dc3f7ee8"
   },
   "outputs": [
    {
     "name": "stdout",
     "output_type": "stream",
     "text": [
      "10% клиентов, которые не женаты / не замужем, не возвращают кредит\n",
      "7% клиентов, которые в разводе, не возвращают кредит\n",
      "9% клиентов, которые вдовцы / вдовы, не возвращают кредит\n",
      "2% клиентов, которые в гражданском браке, не возвращают кредит\n",
      "1% клиентов, которые женаты / замужем, не возвращают кредит\n"
     ]
    },
    {
     "data": {
      "text/html": [
       "<div>\n",
       "<style scoped>\n",
       "    .dataframe tbody tr th:only-of-type {\n",
       "        vertical-align: middle;\n",
       "    }\n",
       "\n",
       "    .dataframe tbody tr th {\n",
       "        vertical-align: top;\n",
       "    }\n",
       "\n",
       "    .dataframe thead tr th {\n",
       "        text-align: left;\n",
       "    }\n",
       "\n",
       "    .dataframe thead tr:last-of-type th {\n",
       "        text-align: right;\n",
       "    }\n",
       "</style>\n",
       "<table border=\"1\" class=\"dataframe\">\n",
       "  <thead>\n",
       "    <tr>\n",
       "      <th></th>\n",
       "      <th>count</th>\n",
       "      <th>mean</th>\n",
       "    </tr>\n",
       "    <tr>\n",
       "      <th></th>\n",
       "      <th>debt</th>\n",
       "      <th>debt</th>\n",
       "    </tr>\n",
       "    <tr>\n",
       "      <th>family_status</th>\n",
       "      <th></th>\n",
       "      <th></th>\n",
       "    </tr>\n",
       "  </thead>\n",
       "  <tbody>\n",
       "    <tr>\n",
       "      <th>Не женат / не замужем</th>\n",
       "      <td>2796</td>\n",
       "      <td>0.097639</td>\n",
       "    </tr>\n",
       "    <tr>\n",
       "      <th>в разводе</th>\n",
       "      <td>1189</td>\n",
       "      <td>0.070648</td>\n",
       "    </tr>\n",
       "    <tr>\n",
       "      <th>вдовец / вдова</th>\n",
       "      <td>951</td>\n",
       "      <td>0.066246</td>\n",
       "    </tr>\n",
       "    <tr>\n",
       "      <th>гражданский брак</th>\n",
       "      <td>4134</td>\n",
       "      <td>0.093130</td>\n",
       "    </tr>\n",
       "    <tr>\n",
       "      <th>женат / замужем</th>\n",
       "      <td>12261</td>\n",
       "      <td>0.075606</td>\n",
       "    </tr>\n",
       "  </tbody>\n",
       "</table>\n",
       "</div>"
      ],
      "text/plain": [
       "                       count      mean\n",
       "                        debt      debt\n",
       "family_status                         \n",
       "Не женат / не замужем   2796  0.097639\n",
       "в разводе               1189  0.070648\n",
       "вдовец / вдова           951  0.066246\n",
       "гражданский брак        4134  0.093130\n",
       "женат / замужем        12261  0.075606"
      ]
     },
     "execution_count": 23,
     "metadata": {},
     "output_type": "execute_result"
    }
   ],
   "source": [
    "# группируем по семейному положению, суммируем по задолженностям\n",
    "family_status_debt = data.groupby('family_status')['debt'].sum()\n",
    "#print(family_status_debt)\n",
    "\n",
    "# считаем, сколько всего человек имеет/не имеет детей\n",
    "family_status_count = data.groupby('family_status')['debt'].count()\n",
    "#print(family_status_count)\n",
    "\n",
    "# процент, кто не женат / не замужем и не возвращает кредит\n",
    "family_0 = family_status_debt[0]/family_status_count[0]\n",
    "# процент, кто в разводе и не возвращает кредит\n",
    "family_1 = family_status_debt[1]/family_status_count[1]\n",
    "# процент, кто вдовец / вдова и не возвращает кредит\n",
    "family_2 = family_status_debt[1]/family_status_count[2]\n",
    "# процент, кто в гражданском браке и не возвращает кредит\n",
    "family_3 = family_status_debt[1]/family_status_count[3]\n",
    "# процент, кто женат / замужем и не возвращает кредит\n",
    "family_4 = family_status_debt[1]/family_status_count[4]\n",
    "\n",
    "print ('{:.0%} клиентов, которые не женаты / не замужем, не возвращают кредит'.format(family_0))\n",
    "print ('{:.0%} клиентов, которые в разводе, не возвращают кредит'.format(family_1))\n",
    "print ('{:.0%} клиентов, которые вдовцы / вдовы, не возвращают кредит'.format(family_2))\n",
    "print ('{:.0%} клиентов, которые в гражданском браке, не возвращают кредит'.format(family_3))\n",
    "print ('{:.0%} клиентов, которые женаты / замужем, не возвращают кредит'.format(family_4))\n",
    "\n",
    "pd.pivot_table(data, index=['family_status'], values='debt', aggfunc=['count', 'mean'])"
   ]
  },
  {
   "cell_type": "markdown",
   "id": "61bd3794",
   "metadata": {
    "deletable": false,
    "id": "1cef7837"
   },
   "source": [
    "**Вывод:** Можем увидеть, что чаще всего не возвращают кредит клиенты, которые не женаты / не замужем, вдовцы / вдовы и те, кто в разводе. Как правило, возвращают кредит те, кто в женат / замужем или в гражданском браке. Следовательно, зависимость между семейным положением и возвратом кредита в срок есть."
   ]
  },
  {
   "cell_type": "markdown",
   "id": "f5967b63",
   "metadata": {
    "deletable": false,
    "editable": false,
    "id": "1e8b2fca"
   },
   "source": [
    "#### 3.3 Есть ли зависимость между уровнем дохода и возвратом кредита в срок?"
   ]
  },
  {
   "cell_type": "code",
   "execution_count": 24,
   "id": "922ecc98",
   "metadata": {
    "deletable": false,
    "id": "cd7e3720"
   },
   "outputs": [
    {
     "data": {
      "text/html": [
       "<div>\n",
       "<style scoped>\n",
       "    .dataframe tbody tr th:only-of-type {\n",
       "        vertical-align: middle;\n",
       "    }\n",
       "\n",
       "    .dataframe tbody tr th {\n",
       "        vertical-align: top;\n",
       "    }\n",
       "\n",
       "    .dataframe thead tr th {\n",
       "        text-align: left;\n",
       "    }\n",
       "\n",
       "    .dataframe thead tr:last-of-type th {\n",
       "        text-align: right;\n",
       "    }\n",
       "</style>\n",
       "<table border=\"1\" class=\"dataframe\">\n",
       "  <thead>\n",
       "    <tr>\n",
       "      <th></th>\n",
       "      <th>доход</th>\n",
       "      <th>count</th>\n",
       "      <th>mean</th>\n",
       "    </tr>\n",
       "    <tr>\n",
       "      <th></th>\n",
       "      <th></th>\n",
       "      <th>debt</th>\n",
       "      <th>debt</th>\n",
       "    </tr>\n",
       "    <tr>\n",
       "      <th>total_income_category</th>\n",
       "      <th></th>\n",
       "      <th></th>\n",
       "      <th></th>\n",
       "    </tr>\n",
       "  </thead>\n",
       "  <tbody>\n",
       "    <tr>\n",
       "      <th>A</th>\n",
       "      <td>больше 1 000 000</td>\n",
       "      <td>25</td>\n",
       "      <td>0.080000</td>\n",
       "    </tr>\n",
       "    <tr>\n",
       "      <th>B</th>\n",
       "      <td>200 001 - 1 000 000</td>\n",
       "      <td>5014</td>\n",
       "      <td>0.070602</td>\n",
       "    </tr>\n",
       "    <tr>\n",
       "      <th>C</th>\n",
       "      <td>50 001 - 200 000</td>\n",
       "      <td>15921</td>\n",
       "      <td>0.084982</td>\n",
       "    </tr>\n",
       "    <tr>\n",
       "      <th>D</th>\n",
       "      <td>30 001 - 50 000</td>\n",
       "      <td>349</td>\n",
       "      <td>0.060172</td>\n",
       "    </tr>\n",
       "    <tr>\n",
       "      <th>E</th>\n",
       "      <td>до 30 000</td>\n",
       "      <td>22</td>\n",
       "      <td>0.090909</td>\n",
       "    </tr>\n",
       "  </tbody>\n",
       "</table>\n",
       "</div>"
      ],
      "text/plain": [
       "                                     доход  count      mean\n",
       "                                             debt      debt\n",
       "total_income_category                                      \n",
       "A                         больше 1 000 000     25  0.080000\n",
       "B                      200 001 - 1 000 000   5014  0.070602\n",
       "C                         50 001 - 200 000  15921  0.084982\n",
       "D                          30 001 - 50 000    349  0.060172\n",
       "E                                до 30 000     22  0.090909"
      ]
     },
     "execution_count": 24,
     "metadata": {},
     "output_type": "execute_result"
    }
   ],
   "source": [
    "total_income_category = ['больше 1 000 000', '200 001 - 1 000 000',\n",
    "                         '50 001 - 200 000', '30 001 - 50 000', 'до 30 000']\n",
    "\n",
    "pivot = pd.pivot_table(data, index=['total_income_category'], values=['debt'], aggfunc=['count', 'mean'])\n",
    "\n",
    "pivot.insert(0, 'доход', total_income_category)\n",
    "pivot"
   ]
  },
  {
   "cell_type": "markdown",
   "id": "9d37f3c9",
   "metadata": {
    "deletable": false,
    "id": "e8593def"
   },
   "source": [
    "**Вывод:** Если не учитывать малочисленные категории (A, D, E), то можем сделать вывод, что клиенты, у которых доход больше 200 000 рублей, но меньше 1 000 000 рублей возвращают кредит в срок чаще, чем те, у кого доход до 200 000 (7% не возвращают в категории B, 8,5% не возвращают в категории С).\n",
    "\n",
    "Можем сделать вывод, что есть зависимость между возвратом кредита в срок и уровнем дохода. Чем больше уровень дохода у клиента, тем чаще он возвращает кредит в срок."
   ]
  },
  {
   "cell_type": "markdown",
   "id": "06f9ce65",
   "metadata": {
    "deletable": false,
    "editable": false,
    "id": "99ecbd1f"
   },
   "source": [
    "#### 3.4 Как разные цели кредита влияют на его возврат в срок?"
   ]
  },
  {
   "cell_type": "code",
   "execution_count": 25,
   "id": "448e2ccc",
   "metadata": {
    "deletable": false,
    "id": "2b687290"
   },
   "outputs": [
    {
     "name": "stdout",
     "output_type": "stream",
     "text": [
      "9% клиентов, кто берёт кредит на операции с автомобилем и не возвращает кредит\n",
      "7% клиентов, кто берёт кредит на операции с недвижимостью и не возвращает кредит\n",
      "9% клиентов, кто берёт кредит на получение образования и не возвращает кредит\n",
      "8% клиентов, кто берёт кредит на проведение свадьбы и не возвращает кредит\n"
     ]
    },
    {
     "data": {
      "text/html": [
       "<div>\n",
       "<style scoped>\n",
       "    .dataframe tbody tr th:only-of-type {\n",
       "        vertical-align: middle;\n",
       "    }\n",
       "\n",
       "    .dataframe tbody tr th {\n",
       "        vertical-align: top;\n",
       "    }\n",
       "\n",
       "    .dataframe thead tr th {\n",
       "        text-align: left;\n",
       "    }\n",
       "\n",
       "    .dataframe thead tr:last-of-type th {\n",
       "        text-align: right;\n",
       "    }\n",
       "</style>\n",
       "<table border=\"1\" class=\"dataframe\">\n",
       "  <thead>\n",
       "    <tr>\n",
       "      <th></th>\n",
       "      <th>count</th>\n",
       "      <th>mean</th>\n",
       "    </tr>\n",
       "    <tr>\n",
       "      <th></th>\n",
       "      <th>debt</th>\n",
       "      <th>debt</th>\n",
       "    </tr>\n",
       "    <tr>\n",
       "      <th>purpose_category</th>\n",
       "      <th></th>\n",
       "      <th></th>\n",
       "    </tr>\n",
       "  </thead>\n",
       "  <tbody>\n",
       "    <tr>\n",
       "      <th>операции с автомобилем</th>\n",
       "      <td>4279</td>\n",
       "      <td>0.093480</td>\n",
       "    </tr>\n",
       "    <tr>\n",
       "      <th>операции с недвижимостью</th>\n",
       "      <td>10751</td>\n",
       "      <td>0.072551</td>\n",
       "    </tr>\n",
       "    <tr>\n",
       "      <th>получение образования</th>\n",
       "      <td>3988</td>\n",
       "      <td>0.092528</td>\n",
       "    </tr>\n",
       "    <tr>\n",
       "      <th>проведение свадьбы</th>\n",
       "      <td>2313</td>\n",
       "      <td>0.079118</td>\n",
       "    </tr>\n",
       "  </tbody>\n",
       "</table>\n",
       "</div>"
      ],
      "text/plain": [
       "                          count      mean\n",
       "                           debt      debt\n",
       "purpose_category                         \n",
       "операции с автомобилем     4279  0.093480\n",
       "операции с недвижимостью  10751  0.072551\n",
       "получение образования      3988  0.092528\n",
       "проведение свадьбы         2313  0.079118"
      ]
     },
     "execution_count": 25,
     "metadata": {},
     "output_type": "execute_result"
    }
   ],
   "source": [
    "# группируем по цели кредита (через категоризацию), суммируем по задолженностям\n",
    "purpose_debt = data.groupby('purpose_category')['debt'].sum()\n",
    "#print(purpose_debt)\n",
    "\n",
    "# считаем, сколько всего человек в каждой категории по цели\n",
    "purpose_count = data.groupby('purpose_category')['debt'].count()\n",
    "#print(purpose_count)\n",
    "\n",
    "# процент, кто берёт кредит на операции с автомобилем и не возвращает кредит\n",
    "purpose_0 = purpose_debt[0]/purpose_count[0]\n",
    "# процент, кто берёт кредит на операции с недвижимостью и не возвращает кредит\n",
    "purpose_1 = purpose_debt[1]/purpose_count[1]\n",
    "# процент, кто берёт кредит на получение образования и не возвращает кредит\n",
    "purpose_2 = purpose_debt[2]/purpose_count[2]\n",
    "# процент, кто берёт кредит на проведение свадьбы и не возвращает кредит\n",
    "purpose_3 = purpose_debt[3]/purpose_count[3]\n",
    "\n",
    "print ('{:.0%} клиентов, кто берёт кредит на операции с автомобилем и не возвращает кредит'.format(purpose_0))\n",
    "print ('{:.0%} клиентов, кто берёт кредит на операции с недвижимостью и не возвращает кредит'.format(purpose_1))\n",
    "print ('{:.0%} клиентов, кто берёт кредит на получение образования и не возвращает кредит'.format(purpose_2))\n",
    "print ('{:.0%} клиентов, кто берёт кредит на проведение свадьбы и не возвращает кредит'.format(purpose_3))\n",
    "\n",
    "pd.pivot_table(data, index=['purpose_category'], values='debt', aggfunc=['count', 'mean'])"
   ]
  },
  {
   "cell_type": "markdown",
   "id": "fd6d8fc0",
   "metadata": {
    "deletable": false,
    "id": "b4bb2ce6"
   },
   "source": [
    "**Вывод:** Можем увидеть, что чаще возвращают кредит те, кто берёт кредит на операции с недвижимостью и проведение свадьбы. Кредиты, целью которых являются операции с автомобилем и получение образования, в срок возвращаются реже."
   ]
  },
  {
   "cell_type": "markdown",
   "id": "1229b721",
   "metadata": {
    "deletable": false,
    "editable": false,
    "id": "09c3ac4c"
   },
   "source": [
    "#### 3.5 Приведите возможные причины появления пропусков в исходных данных."
   ]
  },
  {
   "cell_type": "markdown",
   "id": "277fbf58",
   "metadata": {
    "deletable": false,
    "id": "9da2ceda"
   },
   "source": [
    "*Ответ:* причин может огромное количество: может быть некорректная выгрузка данных, некорректное внесение данных, ошибки в программном обеспечении при записи данных, разные форматы данных."
   ]
  },
  {
   "cell_type": "markdown",
   "id": "62823301",
   "metadata": {
    "deletable": false,
    "editable": false,
    "id": "7b0487d6"
   },
   "source": [
    "#### 3.6 Объясните, почему заполнить пропуски медианным значением — лучшее решение для количественных переменных."
   ]
  },
  {
   "cell_type": "markdown",
   "id": "0a76839d",
   "metadata": {
    "deletable": false,
    "id": "7ecf2b8e"
   },
   "source": [
    "*Ответ:*  Среднее значение может некорректно охарактеризовать данные, если некоторые значения сильно выделяются среди большинства. Медианное значение является более устойчивым показателем к выбросам в данных. Заполнение средним используется, когда отсутствует нет экономического смысла пропущенных значений."
   ]
  },
  {
   "cell_type": "markdown",
   "id": "cc8a75fd",
   "metadata": {
    "deletable": false,
    "editable": false,
    "id": "6db5255a"
   },
   "source": [
    "### Шаг 4: общий вывод."
   ]
  },
  {
   "cell_type": "markdown",
   "id": "de2bcda2",
   "metadata": {
    "deletable": false,
    "id": "bad65432"
   },
   "source": [
    "Был проведен анализ входных данные от банка — статистики о платёжеспособности клиентов. В данной выгрузке была следующая информация: количество детей в семье, общий трудовой стаж в днях, возраст клиента в годах, уровень образования клиента, идентификатор уровня образования, семейное положение, идентификатор семейного положения, пол клиента, тип занятости, имел ли задолженность по возврату кредитов, ежемесячный доход, цель получения кредита.\n",
    "\n",
    "В процессе работы с данными была проведена предобработка данных: заполнены пропуски, обработаны значения в столбцах с аномалиями, удалены строки-дубликаты, проведена категоризация данных.\n",
    "\n",
    "Ответим на вопросы, получаем следующие выводы:\n",
    "\n",
    "1. Есть зависимость между семейным положением и вовзратом кредита в срок. Клиенты, не состоящие в браке (любом), не возвращают кредит чаще тех, кто женат/замужем или состоит в гражданском браке. \n",
    "2. Есть зависимость между наличием детей и возвратом кредита в срок. Клиенты, имеющие детей, не возвращают кредиты в срок чаще, чем те, у кого детей нет.\n",
    "3. Есть зависимость между уровнем дохода и возвратом кредита в срок. Клиенты, чей уровень дохода больше 200 000 рублей, но меньше 1 000 000 рублей возвращают кредит в срок чаще, чем те, у кого доход до 200 000 рублей.\n",
    "4. Чаще возвращают кредит те, кто берёт кредит на операции с недвижимостью и проведение свадьбы."
   ]
  }
 ],
 "metadata": {
  "ExecuteTimeLog": [
   {
    "duration": 47,
    "start_time": "2022-12-08T08:22:43.395Z"
   },
   {
    "duration": 527,
    "start_time": "2022-12-08T08:23:01.443Z"
   },
   {
    "duration": 47,
    "start_time": "2022-12-08T08:23:02.604Z"
   },
   {
    "duration": 9,
    "start_time": "2022-12-08T08:23:07.725Z"
   },
   {
    "duration": 31,
    "start_time": "2022-12-08T08:23:12.347Z"
   },
   {
    "duration": 4,
    "start_time": "2022-12-08T08:23:17.108Z"
   },
   {
    "duration": 18,
    "start_time": "2022-12-08T08:23:24.600Z"
   },
   {
    "duration": 16,
    "start_time": "2022-12-08T08:23:28.038Z"
   },
   {
    "duration": 10,
    "start_time": "2022-12-08T08:23:29.814Z"
   },
   {
    "duration": 35,
    "start_time": "2022-12-08T08:23:35.374Z"
   },
   {
    "duration": 4,
    "start_time": "2022-12-08T08:23:38.507Z"
   },
   {
    "duration": 10,
    "start_time": "2022-12-08T08:23:40.402Z"
   },
   {
    "duration": 7,
    "start_time": "2022-12-08T08:23:42.516Z"
   },
   {
    "duration": 6,
    "start_time": "2022-12-08T08:23:46.680Z"
   },
   {
    "duration": 9,
    "start_time": "2022-12-08T08:23:48.361Z"
   },
   {
    "duration": 7,
    "start_time": "2022-12-08T08:23:50.041Z"
   },
   {
    "duration": 47,
    "start_time": "2022-12-08T08:23:51.919Z"
   },
   {
    "duration": 51,
    "start_time": "2022-12-08T08:24:03.223Z"
   },
   {
    "duration": 14,
    "start_time": "2022-12-08T08:24:23.012Z"
   },
   {
    "duration": 6,
    "start_time": "2022-12-08T08:24:25.973Z"
   },
   {
    "duration": 12,
    "start_time": "2022-12-08T08:24:34.696Z"
   },
   {
    "duration": 27,
    "start_time": "2022-12-08T08:24:41.637Z"
   },
   {
    "duration": 19,
    "start_time": "2022-12-08T08:24:43.519Z"
   },
   {
    "duration": 8,
    "start_time": "2022-12-08T08:24:50.719Z"
   },
   {
    "duration": 6,
    "start_time": "2022-12-08T08:25:14.013Z"
   },
   {
    "duration": 16,
    "start_time": "2022-12-08T08:28:46.413Z"
   },
   {
    "duration": 18,
    "start_time": "2022-12-08T08:29:11.693Z"
   },
   {
    "duration": 10,
    "start_time": "2022-12-08T08:30:02.767Z"
   },
   {
    "duration": 10,
    "start_time": "2022-12-08T08:33:42.542Z"
   },
   {
    "duration": 10,
    "start_time": "2022-12-08T08:36:36.454Z"
   },
   {
    "duration": 11,
    "start_time": "2022-12-08T08:37:27.185Z"
   },
   {
    "duration": 12,
    "start_time": "2022-12-08T08:37:53.871Z"
   },
   {
    "duration": 8,
    "start_time": "2022-12-08T08:40:57.980Z"
   },
   {
    "duration": 8,
    "start_time": "2022-12-08T08:41:27.200Z"
   },
   {
    "duration": 8,
    "start_time": "2022-12-08T08:41:33.994Z"
   },
   {
    "duration": 4,
    "start_time": "2022-12-08T08:42:21.272Z"
   },
   {
    "duration": 7,
    "start_time": "2022-12-08T08:42:26.041Z"
   },
   {
    "duration": 7,
    "start_time": "2022-12-08T08:42:43.043Z"
   },
   {
    "duration": 6,
    "start_time": "2022-12-08T08:42:43.964Z"
   },
   {
    "duration": 10,
    "start_time": "2022-12-08T08:44:17.217Z"
   },
   {
    "duration": 7,
    "start_time": "2022-12-08T08:51:21.557Z"
   },
   {
    "duration": 8,
    "start_time": "2022-12-08T08:51:36.993Z"
   },
   {
    "duration": 13,
    "start_time": "2022-12-08T08:52:23.580Z"
   },
   {
    "duration": 17,
    "start_time": "2022-12-08T08:52:31.662Z"
   },
   {
    "duration": 9,
    "start_time": "2022-12-08T08:53:53.825Z"
   },
   {
    "duration": 16,
    "start_time": "2022-12-08T09:07:27.527Z"
   },
   {
    "duration": 14,
    "start_time": "2022-12-08T09:10:12.754Z"
   },
   {
    "duration": 15,
    "start_time": "2022-12-08T09:10:34.104Z"
   },
   {
    "duration": 10,
    "start_time": "2022-12-08T09:13:38.742Z"
   },
   {
    "duration": 16,
    "start_time": "2022-12-08T09:19:00.355Z"
   },
   {
    "duration": 4,
    "start_time": "2022-12-08T09:19:26.876Z"
   },
   {
    "duration": 13,
    "start_time": "2022-12-08T09:19:28.839Z"
   },
   {
    "duration": 16,
    "start_time": "2022-12-08T09:19:32.548Z"
   },
   {
    "duration": 6,
    "start_time": "2022-12-08T09:19:42.712Z"
   },
   {
    "duration": 14,
    "start_time": "2022-12-08T09:19:44.554Z"
   },
   {
    "duration": 12,
    "start_time": "2022-12-08T09:20:14.153Z"
   },
   {
    "duration": 9,
    "start_time": "2022-12-08T09:21:02.907Z"
   },
   {
    "duration": 13,
    "start_time": "2022-12-08T09:21:54.361Z"
   },
   {
    "duration": 14,
    "start_time": "2022-12-08T09:22:26.665Z"
   },
   {
    "duration": 15,
    "start_time": "2022-12-08T09:26:02.700Z"
   },
   {
    "duration": 16,
    "start_time": "2022-12-08T09:28:33.089Z"
   },
   {
    "duration": 12,
    "start_time": "2022-12-08T09:29:25.920Z"
   },
   {
    "duration": 10,
    "start_time": "2022-12-08T09:29:35.076Z"
   },
   {
    "duration": 7,
    "start_time": "2022-12-08T09:38:16.162Z"
   },
   {
    "duration": 13,
    "start_time": "2022-12-08T09:39:12.657Z"
   },
   {
    "duration": 14,
    "start_time": "2022-12-08T09:40:15.588Z"
   },
   {
    "duration": 12,
    "start_time": "2022-12-08T09:42:07.056Z"
   },
   {
    "duration": 15,
    "start_time": "2022-12-08T09:43:27.758Z"
   },
   {
    "duration": 540,
    "start_time": "2022-12-08T20:42:26.181Z"
   },
   {
    "duration": 29,
    "start_time": "2022-12-08T20:42:26.723Z"
   },
   {
    "duration": 22,
    "start_time": "2022-12-08T20:42:26.754Z"
   },
   {
    "duration": 13,
    "start_time": "2022-12-08T20:42:26.779Z"
   },
   {
    "duration": 48,
    "start_time": "2022-12-08T20:42:26.794Z"
   },
   {
    "duration": 4,
    "start_time": "2022-12-08T20:42:26.843Z"
   },
   {
    "duration": 30,
    "start_time": "2022-12-08T20:42:26.848Z"
   },
   {
    "duration": 5,
    "start_time": "2022-12-08T20:42:26.880Z"
   },
   {
    "duration": 11,
    "start_time": "2022-12-08T20:42:26.886Z"
   },
   {
    "duration": 6,
    "start_time": "2022-12-08T20:42:26.899Z"
   },
   {
    "duration": 36,
    "start_time": "2022-12-08T20:42:26.906Z"
   },
   {
    "duration": 35,
    "start_time": "2022-12-08T20:42:26.943Z"
   },
   {
    "duration": 3,
    "start_time": "2022-12-08T20:42:26.980Z"
   },
   {
    "duration": 13,
    "start_time": "2022-12-08T20:42:26.985Z"
   },
   {
    "duration": 22,
    "start_time": "2022-12-08T20:42:27.000Z"
   },
   {
    "duration": 28,
    "start_time": "2022-12-08T20:42:27.024Z"
   },
   {
    "duration": 23,
    "start_time": "2022-12-08T20:42:27.055Z"
   },
   {
    "duration": 9,
    "start_time": "2022-12-08T20:42:27.080Z"
   },
   {
    "duration": 6,
    "start_time": "2022-12-08T20:42:27.091Z"
   },
   {
    "duration": 11,
    "start_time": "2022-12-08T20:42:27.098Z"
   },
   {
    "duration": 10,
    "start_time": "2022-12-08T20:42:27.111Z"
   },
   {
    "duration": 10,
    "start_time": "2022-12-08T20:42:27.123Z"
   },
   {
    "duration": 13,
    "start_time": "2022-12-08T20:42:27.135Z"
   },
   {
    "duration": 36,
    "start_time": "2022-12-08T20:42:27.150Z"
   },
   {
    "duration": 11,
    "start_time": "2022-12-08T20:42:27.187Z"
   },
   {
    "duration": 6,
    "start_time": "2022-12-08T20:43:38.376Z"
   },
   {
    "duration": 6,
    "start_time": "2022-12-08T20:43:53.529Z"
   },
   {
    "duration": 58,
    "start_time": "2022-12-09T10:13:43.250Z"
   },
   {
    "duration": 613,
    "start_time": "2022-12-09T10:14:00.826Z"
   },
   {
    "duration": 26,
    "start_time": "2022-12-09T10:14:01.442Z"
   },
   {
    "duration": 20,
    "start_time": "2022-12-09T10:14:01.470Z"
   },
   {
    "duration": 24,
    "start_time": "2022-12-09T10:14:01.493Z"
   },
   {
    "duration": 63,
    "start_time": "2022-12-09T10:14:01.519Z"
   },
   {
    "duration": 4,
    "start_time": "2022-12-09T10:14:01.584Z"
   },
   {
    "duration": 33,
    "start_time": "2022-12-09T10:14:01.590Z"
   },
   {
    "duration": 17,
    "start_time": "2022-12-09T10:14:01.625Z"
   },
   {
    "duration": 38,
    "start_time": "2022-12-09T10:14:01.645Z"
   },
   {
    "duration": 21,
    "start_time": "2022-12-09T10:14:01.686Z"
   },
   {
    "duration": 50,
    "start_time": "2022-12-09T10:14:01.710Z"
   },
   {
    "duration": 20,
    "start_time": "2022-12-09T10:14:01.762Z"
   },
   {
    "duration": 12,
    "start_time": "2022-12-09T10:14:01.784Z"
   },
   {
    "duration": 23,
    "start_time": "2022-12-09T10:14:01.798Z"
   },
   {
    "duration": 55,
    "start_time": "2022-12-09T10:14:01.823Z"
   },
   {
    "duration": 27,
    "start_time": "2022-12-09T10:14:01.880Z"
   },
   {
    "duration": 4,
    "start_time": "2022-12-09T10:14:01.909Z"
   },
   {
    "duration": 27,
    "start_time": "2022-12-09T10:14:01.915Z"
   },
   {
    "duration": 14,
    "start_time": "2022-12-09T10:14:01.944Z"
   },
   {
    "duration": 8,
    "start_time": "2022-12-09T10:14:01.961Z"
   },
   {
    "duration": 30,
    "start_time": "2022-12-09T10:14:01.972Z"
   },
   {
    "duration": 18,
    "start_time": "2022-12-09T10:14:02.005Z"
   },
   {
    "duration": 31,
    "start_time": "2022-12-09T10:14:02.025Z"
   },
   {
    "duration": 29,
    "start_time": "2022-12-09T10:14:02.058Z"
   },
   {
    "duration": 37,
    "start_time": "2022-12-09T10:14:02.090Z"
   },
   {
    "duration": 14,
    "start_time": "2022-12-09T10:15:15.753Z"
   },
   {
    "duration": 77,
    "start_time": "2022-12-09T10:19:47.305Z"
   },
   {
    "duration": 5,
    "start_time": "2022-12-09T10:20:02.488Z"
   },
   {
    "duration": 15,
    "start_time": "2022-12-09T10:20:07.631Z"
   },
   {
    "duration": 15,
    "start_time": "2022-12-09T10:20:30.142Z"
   },
   {
    "duration": 18,
    "start_time": "2022-12-09T10:21:10.659Z"
   },
   {
    "duration": 14,
    "start_time": "2022-12-09T10:22:15.857Z"
   },
   {
    "duration": 12,
    "start_time": "2022-12-09T10:22:47.703Z"
   },
   {
    "duration": 72,
    "start_time": "2022-12-09T10:23:02.209Z"
   },
   {
    "duration": 14,
    "start_time": "2022-12-09T10:23:04.886Z"
   },
   {
    "duration": 1113,
    "start_time": "2022-12-09T13:59:33.146Z"
   },
   {
    "duration": 26,
    "start_time": "2022-12-09T13:59:34.261Z"
   },
   {
    "duration": 26,
    "start_time": "2022-12-09T13:59:34.288Z"
   },
   {
    "duration": 13,
    "start_time": "2022-12-09T13:59:34.317Z"
   },
   {
    "duration": 47,
    "start_time": "2022-12-09T13:59:34.332Z"
   },
   {
    "duration": 5,
    "start_time": "2022-12-09T13:59:34.383Z"
   },
   {
    "duration": 19,
    "start_time": "2022-12-09T13:59:34.390Z"
   },
   {
    "duration": 5,
    "start_time": "2022-12-09T13:59:34.411Z"
   },
   {
    "duration": 9,
    "start_time": "2022-12-09T13:59:34.418Z"
   },
   {
    "duration": 4,
    "start_time": "2022-12-09T13:59:34.432Z"
   },
   {
    "duration": 61,
    "start_time": "2022-12-09T13:59:34.438Z"
   },
   {
    "duration": 10,
    "start_time": "2022-12-09T13:59:34.500Z"
   },
   {
    "duration": 12,
    "start_time": "2022-12-09T13:59:34.511Z"
   },
   {
    "duration": 16,
    "start_time": "2022-12-09T13:59:34.525Z"
   },
   {
    "duration": 21,
    "start_time": "2022-12-09T13:59:34.543Z"
   },
   {
    "duration": 33,
    "start_time": "2022-12-09T13:59:34.565Z"
   },
   {
    "duration": 5,
    "start_time": "2022-12-09T13:59:34.600Z"
   },
   {
    "duration": 23,
    "start_time": "2022-12-09T13:59:34.607Z"
   },
   {
    "duration": 9,
    "start_time": "2022-12-09T13:59:34.632Z"
   },
   {
    "duration": 4,
    "start_time": "2022-12-09T13:59:34.643Z"
   },
   {
    "duration": 14,
    "start_time": "2022-12-09T13:59:34.648Z"
   },
   {
    "duration": 30,
    "start_time": "2022-12-09T13:59:34.664Z"
   },
   {
    "duration": 18,
    "start_time": "2022-12-09T13:59:34.696Z"
   },
   {
    "duration": 12,
    "start_time": "2022-12-09T13:59:34.716Z"
   },
   {
    "duration": 16,
    "start_time": "2022-12-09T13:59:34.730Z"
   },
   {
    "duration": 15,
    "start_time": "2022-12-09T13:59:51.793Z"
   },
   {
    "duration": 15,
    "start_time": "2022-12-09T14:02:18.758Z"
   },
   {
    "duration": 70,
    "start_time": "2022-12-09T14:03:24.871Z"
   },
   {
    "duration": 90,
    "start_time": "2022-12-09T14:03:31.233Z"
   },
   {
    "duration": 27,
    "start_time": "2022-12-09T14:03:42.221Z"
   },
   {
    "duration": 26,
    "start_time": "2022-12-09T14:03:58.733Z"
   },
   {
    "duration": 41,
    "start_time": "2022-12-09T14:04:13.463Z"
   },
   {
    "duration": 34,
    "start_time": "2022-12-09T14:05:31.422Z"
   },
   {
    "duration": 57,
    "start_time": "2022-12-09T14:07:47.364Z"
   },
   {
    "duration": 42,
    "start_time": "2022-12-09T14:08:16.275Z"
   },
   {
    "duration": 40,
    "start_time": "2022-12-09T14:08:41.998Z"
   },
   {
    "duration": 501,
    "start_time": "2022-12-09T14:08:55.707Z"
   },
   {
    "duration": 29,
    "start_time": "2022-12-09T14:08:56.210Z"
   },
   {
    "duration": 24,
    "start_time": "2022-12-09T14:08:56.241Z"
   },
   {
    "duration": 18,
    "start_time": "2022-12-09T14:08:56.277Z"
   },
   {
    "duration": 47,
    "start_time": "2022-12-09T14:08:56.298Z"
   },
   {
    "duration": 4,
    "start_time": "2022-12-09T14:08:56.346Z"
   },
   {
    "duration": 17,
    "start_time": "2022-12-09T14:08:56.352Z"
   },
   {
    "duration": 18,
    "start_time": "2022-12-09T14:08:56.371Z"
   },
   {
    "duration": 21,
    "start_time": "2022-12-09T14:08:56.390Z"
   },
   {
    "duration": 9,
    "start_time": "2022-12-09T14:08:56.416Z"
   },
   {
    "duration": 37,
    "start_time": "2022-12-09T14:08:56.427Z"
   },
   {
    "duration": 19,
    "start_time": "2022-12-09T14:08:56.466Z"
   },
   {
    "duration": 14,
    "start_time": "2022-12-09T14:08:56.492Z"
   },
   {
    "duration": 15,
    "start_time": "2022-12-09T14:08:56.508Z"
   },
   {
    "duration": 28,
    "start_time": "2022-12-09T14:08:56.524Z"
   },
   {
    "duration": 39,
    "start_time": "2022-12-09T14:08:56.554Z"
   },
   {
    "duration": 5,
    "start_time": "2022-12-09T14:08:56.595Z"
   },
   {
    "duration": 22,
    "start_time": "2022-12-09T14:08:56.602Z"
   },
   {
    "duration": 10,
    "start_time": "2022-12-09T14:08:56.626Z"
   },
   {
    "duration": 5,
    "start_time": "2022-12-09T14:08:56.638Z"
   },
   {
    "duration": 17,
    "start_time": "2022-12-09T14:08:56.645Z"
   },
   {
    "duration": 87,
    "start_time": "2022-12-09T14:08:56.663Z"
   },
   {
    "duration": 0,
    "start_time": "2022-12-09T14:08:56.751Z"
   },
   {
    "duration": 0,
    "start_time": "2022-12-09T14:08:56.752Z"
   },
   {
    "duration": 0,
    "start_time": "2022-12-09T14:08:56.754Z"
   },
   {
    "duration": 22,
    "start_time": "2022-12-09T14:09:12.233Z"
   },
   {
    "duration": 41,
    "start_time": "2022-12-09T14:10:36.002Z"
   },
   {
    "duration": 22,
    "start_time": "2022-12-09T14:10:54.331Z"
   },
   {
    "duration": 22,
    "start_time": "2022-12-09T14:11:52.007Z"
   },
   {
    "duration": 23,
    "start_time": "2022-12-09T14:13:09.685Z"
   },
   {
    "duration": 24,
    "start_time": "2022-12-09T14:13:24.297Z"
   },
   {
    "duration": 30,
    "start_time": "2022-12-09T14:13:28.928Z"
   },
   {
    "duration": 318,
    "start_time": "2022-12-09T14:14:20.371Z"
   },
   {
    "duration": 38,
    "start_time": "2022-12-09T14:14:29.903Z"
   },
   {
    "duration": 69,
    "start_time": "2022-12-09T14:15:05.123Z"
   },
   {
    "duration": 55,
    "start_time": "2022-12-09T14:15:13.550Z"
   },
   {
    "duration": 64,
    "start_time": "2022-12-09T14:15:16.831Z"
   },
   {
    "duration": 28,
    "start_time": "2022-12-09T14:15:19.485Z"
   },
   {
    "duration": 13,
    "start_time": "2022-12-09T14:19:36.153Z"
   },
   {
    "duration": 36,
    "start_time": "2022-12-09T14:19:48.724Z"
   },
   {
    "duration": 46,
    "start_time": "2022-12-09T14:20:43.876Z"
   },
   {
    "duration": 62,
    "start_time": "2022-12-09T14:21:21.017Z"
   },
   {
    "duration": 33,
    "start_time": "2022-12-09T14:21:28.547Z"
   },
   {
    "duration": 36,
    "start_time": "2022-12-09T14:22:27.308Z"
   },
   {
    "duration": 71,
    "start_time": "2022-12-09T15:02:01.452Z"
   },
   {
    "duration": 16,
    "start_time": "2022-12-09T15:02:02.989Z"
   },
   {
    "duration": 15,
    "start_time": "2022-12-09T15:02:05.733Z"
   },
   {
    "duration": 11,
    "start_time": "2022-12-09T15:02:07.883Z"
   },
   {
    "duration": 35,
    "start_time": "2022-12-09T15:02:10.090Z"
   },
   {
    "duration": 4,
    "start_time": "2022-12-09T15:02:11.707Z"
   },
   {
    "duration": 9,
    "start_time": "2022-12-09T15:02:13.055Z"
   },
   {
    "duration": 5,
    "start_time": "2022-12-09T15:02:14.913Z"
   },
   {
    "duration": 7,
    "start_time": "2022-12-09T15:02:16.434Z"
   },
   {
    "duration": 5,
    "start_time": "2022-12-09T15:02:17.843Z"
   },
   {
    "duration": 35,
    "start_time": "2022-12-09T15:02:19.395Z"
   },
   {
    "duration": 12,
    "start_time": "2022-12-09T15:02:21.014Z"
   },
   {
    "duration": 4,
    "start_time": "2022-12-09T15:02:22.842Z"
   },
   {
    "duration": 13,
    "start_time": "2022-12-09T15:02:24.229Z"
   },
   {
    "duration": 24,
    "start_time": "2022-12-09T15:02:25.923Z"
   },
   {
    "duration": 20,
    "start_time": "2022-12-09T15:02:27.347Z"
   },
   {
    "duration": 4,
    "start_time": "2022-12-09T15:02:29.195Z"
   },
   {
    "duration": 10,
    "start_time": "2022-12-09T15:02:30.875Z"
   },
   {
    "duration": 8,
    "start_time": "2022-12-09T15:02:32.380Z"
   },
   {
    "duration": 3,
    "start_time": "2022-12-09T15:02:34.744Z"
   },
   {
    "duration": 10,
    "start_time": "2022-12-09T15:02:35.977Z"
   },
   {
    "duration": 34,
    "start_time": "2022-12-09T15:02:37.535Z"
   },
   {
    "duration": 35,
    "start_time": "2022-12-09T15:02:42.640Z"
   },
   {
    "duration": 33,
    "start_time": "2022-12-09T15:02:44.944Z"
   },
   {
    "duration": 35,
    "start_time": "2022-12-09T15:02:47.346Z"
   },
   {
    "duration": 703,
    "start_time": "2022-12-10T12:38:53.680Z"
   },
   {
    "duration": 21,
    "start_time": "2022-12-10T12:38:54.385Z"
   },
   {
    "duration": 13,
    "start_time": "2022-12-10T12:38:54.408Z"
   },
   {
    "duration": 8,
    "start_time": "2022-12-10T12:38:54.423Z"
   },
   {
    "duration": 32,
    "start_time": "2022-12-10T12:38:54.432Z"
   },
   {
    "duration": 3,
    "start_time": "2022-12-10T12:38:54.466Z"
   },
   {
    "duration": 27,
    "start_time": "2022-12-10T12:38:54.470Z"
   },
   {
    "duration": 4,
    "start_time": "2022-12-10T12:38:54.498Z"
   },
   {
    "duration": 14,
    "start_time": "2022-12-10T12:38:54.504Z"
   },
   {
    "duration": 9,
    "start_time": "2022-12-10T12:38:54.520Z"
   },
   {
    "duration": 34,
    "start_time": "2022-12-10T12:38:54.531Z"
   },
   {
    "duration": 9,
    "start_time": "2022-12-10T12:38:54.566Z"
   },
   {
    "duration": 4,
    "start_time": "2022-12-10T12:38:54.576Z"
   },
   {
    "duration": 10,
    "start_time": "2022-12-10T12:38:54.597Z"
   },
   {
    "duration": 19,
    "start_time": "2022-12-10T12:38:54.609Z"
   },
   {
    "duration": 16,
    "start_time": "2022-12-10T12:38:54.629Z"
   },
   {
    "duration": 3,
    "start_time": "2022-12-10T12:38:54.646Z"
   },
   {
    "duration": 23,
    "start_time": "2022-12-10T12:38:54.651Z"
   },
   {
    "duration": 21,
    "start_time": "2022-12-10T12:38:54.676Z"
   },
   {
    "duration": 6,
    "start_time": "2022-12-10T12:38:54.699Z"
   },
   {
    "duration": 26,
    "start_time": "2022-12-10T12:38:54.707Z"
   },
   {
    "duration": 28,
    "start_time": "2022-12-10T12:38:54.735Z"
   },
   {
    "duration": 27,
    "start_time": "2022-12-10T12:38:54.764Z"
   },
   {
    "duration": 24,
    "start_time": "2022-12-10T12:38:54.793Z"
   },
   {
    "duration": 27,
    "start_time": "2022-12-10T12:38:54.818Z"
   },
   {
    "duration": 46,
    "start_time": "2022-12-10T12:59:59.757Z"
   },
   {
    "duration": 93,
    "start_time": "2022-12-10T13:06:19.694Z"
   },
   {
    "duration": 9,
    "start_time": "2022-12-10T13:06:26.868Z"
   },
   {
    "duration": 9,
    "start_time": "2022-12-10T13:06:36.550Z"
   },
   {
    "duration": 9,
    "start_time": "2022-12-10T13:06:37.578Z"
   },
   {
    "duration": 586,
    "start_time": "2022-12-10T13:06:45.355Z"
   },
   {
    "duration": 25,
    "start_time": "2022-12-10T13:06:45.943Z"
   },
   {
    "duration": 16,
    "start_time": "2022-12-10T13:06:45.970Z"
   },
   {
    "duration": 14,
    "start_time": "2022-12-10T13:06:45.988Z"
   },
   {
    "duration": 57,
    "start_time": "2022-12-10T13:06:46.004Z"
   },
   {
    "duration": 3,
    "start_time": "2022-12-10T13:06:46.063Z"
   },
   {
    "duration": 16,
    "start_time": "2022-12-10T13:06:46.068Z"
   },
   {
    "duration": 5,
    "start_time": "2022-12-10T13:06:46.086Z"
   },
   {
    "duration": 10,
    "start_time": "2022-12-10T13:06:46.093Z"
   },
   {
    "duration": 5,
    "start_time": "2022-12-10T13:06:46.106Z"
   },
   {
    "duration": 57,
    "start_time": "2022-12-10T13:06:46.112Z"
   },
   {
    "duration": 9,
    "start_time": "2022-12-10T13:06:46.171Z"
   },
   {
    "duration": 7,
    "start_time": "2022-12-10T13:06:46.182Z"
   },
   {
    "duration": 17,
    "start_time": "2022-12-10T13:06:46.191Z"
   },
   {
    "duration": 37,
    "start_time": "2022-12-10T13:06:46.210Z"
   },
   {
    "duration": 20,
    "start_time": "2022-12-10T13:06:46.249Z"
   },
   {
    "duration": 4,
    "start_time": "2022-12-10T13:06:46.271Z"
   },
   {
    "duration": 16,
    "start_time": "2022-12-10T13:06:46.276Z"
   },
   {
    "duration": 6,
    "start_time": "2022-12-10T13:06:46.294Z"
   },
   {
    "duration": 4,
    "start_time": "2022-12-10T13:06:46.302Z"
   },
   {
    "duration": 43,
    "start_time": "2022-12-10T13:06:46.307Z"
   },
   {
    "duration": 31,
    "start_time": "2022-12-10T13:06:46.352Z"
   },
   {
    "duration": 34,
    "start_time": "2022-12-10T13:06:46.385Z"
   },
   {
    "duration": 399,
    "start_time": "2022-12-10T13:06:46.421Z"
   },
   {
    "duration": 0,
    "start_time": "2022-12-10T13:06:46.822Z"
   },
   {
    "duration": 30,
    "start_time": "2022-12-10T13:07:00.500Z"
   },
   {
    "duration": 30,
    "start_time": "2022-12-10T13:10:15.297Z"
   },
   {
    "duration": 37,
    "start_time": "2022-12-10T13:10:23.305Z"
   },
   {
    "duration": 31,
    "start_time": "2022-12-10T13:11:00.024Z"
   },
   {
    "duration": 23,
    "start_time": "2022-12-10T13:11:03.439Z"
   },
   {
    "duration": 32,
    "start_time": "2022-12-10T13:11:09.611Z"
   },
   {
    "duration": 28,
    "start_time": "2022-12-10T13:16:30.813Z"
   },
   {
    "duration": 36,
    "start_time": "2022-12-10T13:16:36.840Z"
   },
   {
    "duration": 34,
    "start_time": "2022-12-10T13:16:50.217Z"
   },
   {
    "duration": 30,
    "start_time": "2022-12-10T13:17:11.697Z"
   },
   {
    "duration": 31,
    "start_time": "2022-12-10T13:17:27.467Z"
   },
   {
    "duration": 73,
    "start_time": "2022-12-10T13:17:36.789Z"
   },
   {
    "duration": 74,
    "start_time": "2022-12-10T13:17:40.898Z"
   },
   {
    "duration": 103,
    "start_time": "2022-12-10T13:17:44.592Z"
   },
   {
    "duration": 101,
    "start_time": "2022-12-10T13:17:51.305Z"
   },
   {
    "duration": 33,
    "start_time": "2022-12-10T13:17:55.598Z"
   },
   {
    "duration": 31,
    "start_time": "2022-12-10T13:20:14.953Z"
   },
   {
    "duration": 35,
    "start_time": "2022-12-10T13:20:26.360Z"
   },
   {
    "duration": 35,
    "start_time": "2022-12-10T13:21:03.406Z"
   },
   {
    "duration": 1126,
    "start_time": "2022-12-10T13:21:14.286Z"
   },
   {
    "duration": 1091,
    "start_time": "2022-12-10T13:21:32.992Z"
   },
   {
    "duration": 1114,
    "start_time": "2022-12-10T13:21:48.410Z"
   },
   {
    "duration": 60,
    "start_time": "2022-12-10T13:21:56.149Z"
   },
   {
    "duration": 1113,
    "start_time": "2022-12-10T13:23:40.536Z"
   },
   {
    "duration": 35,
    "start_time": "2022-12-10T13:23:50.952Z"
   },
   {
    "duration": 35,
    "start_time": "2022-12-10T13:25:10.739Z"
   },
   {
    "duration": 30,
    "start_time": "2022-12-10T13:25:26.490Z"
   },
   {
    "duration": 33,
    "start_time": "2022-12-10T13:25:36.579Z"
   },
   {
    "duration": 31,
    "start_time": "2022-12-10T13:25:37.294Z"
   },
   {
    "duration": 32,
    "start_time": "2022-12-10T13:26:09.666Z"
   },
   {
    "duration": 31,
    "start_time": "2022-12-10T13:26:16.003Z"
   },
   {
    "duration": 493,
    "start_time": "2022-12-10T13:26:22.450Z"
   },
   {
    "duration": 22,
    "start_time": "2022-12-10T13:26:22.945Z"
   },
   {
    "duration": 18,
    "start_time": "2022-12-10T13:26:22.968Z"
   },
   {
    "duration": 9,
    "start_time": "2022-12-10T13:26:22.988Z"
   },
   {
    "duration": 55,
    "start_time": "2022-12-10T13:26:22.999Z"
   },
   {
    "duration": 4,
    "start_time": "2022-12-10T13:26:23.055Z"
   },
   {
    "duration": 16,
    "start_time": "2022-12-10T13:26:23.060Z"
   },
   {
    "duration": 4,
    "start_time": "2022-12-10T13:26:23.078Z"
   },
   {
    "duration": 13,
    "start_time": "2022-12-10T13:26:23.083Z"
   },
   {
    "duration": 4,
    "start_time": "2022-12-10T13:26:23.100Z"
   },
   {
    "duration": 58,
    "start_time": "2022-12-10T13:26:23.106Z"
   },
   {
    "duration": 11,
    "start_time": "2022-12-10T13:26:23.165Z"
   },
   {
    "duration": 7,
    "start_time": "2022-12-10T13:26:23.178Z"
   },
   {
    "duration": 16,
    "start_time": "2022-12-10T13:26:23.186Z"
   },
   {
    "duration": 34,
    "start_time": "2022-12-10T13:26:23.204Z"
   },
   {
    "duration": 20,
    "start_time": "2022-12-10T13:26:23.239Z"
   },
   {
    "duration": 5,
    "start_time": "2022-12-10T13:26:23.260Z"
   },
   {
    "duration": 22,
    "start_time": "2022-12-10T13:26:23.267Z"
   },
   {
    "duration": 8,
    "start_time": "2022-12-10T13:26:23.290Z"
   },
   {
    "duration": 3,
    "start_time": "2022-12-10T13:26:23.300Z"
   },
   {
    "duration": 14,
    "start_time": "2022-12-10T13:26:23.305Z"
   },
   {
    "duration": 42,
    "start_time": "2022-12-10T13:26:23.320Z"
   },
   {
    "duration": 33,
    "start_time": "2022-12-10T13:26:23.364Z"
   },
   {
    "duration": 54,
    "start_time": "2022-12-10T13:26:23.400Z"
   },
   {
    "duration": 31,
    "start_time": "2022-12-10T13:26:23.456Z"
   },
   {
    "duration": 35,
    "start_time": "2022-12-10T13:28:21.416Z"
   },
   {
    "duration": 88,
    "start_time": "2022-12-10T13:29:06.486Z"
   },
   {
    "duration": 536,
    "start_time": "2022-12-10T13:29:27.808Z"
   },
   {
    "duration": 23,
    "start_time": "2022-12-10T13:29:28.346Z"
   },
   {
    "duration": 17,
    "start_time": "2022-12-10T13:29:28.371Z"
   },
   {
    "duration": 11,
    "start_time": "2022-12-10T13:29:28.390Z"
   },
   {
    "duration": 62,
    "start_time": "2022-12-10T13:29:28.403Z"
   },
   {
    "duration": 3,
    "start_time": "2022-12-10T13:29:28.467Z"
   },
   {
    "duration": 11,
    "start_time": "2022-12-10T13:29:28.472Z"
   },
   {
    "duration": 4,
    "start_time": "2022-12-10T13:29:28.485Z"
   },
   {
    "duration": 9,
    "start_time": "2022-12-10T13:29:28.490Z"
   },
   {
    "duration": 4,
    "start_time": "2022-12-10T13:29:28.501Z"
   },
   {
    "duration": 33,
    "start_time": "2022-12-10T13:29:28.537Z"
   },
   {
    "duration": 11,
    "start_time": "2022-12-10T13:29:28.572Z"
   },
   {
    "duration": 3,
    "start_time": "2022-12-10T13:29:28.586Z"
   },
   {
    "duration": 17,
    "start_time": "2022-12-10T13:29:28.591Z"
   },
   {
    "duration": 52,
    "start_time": "2022-12-10T13:29:28.610Z"
   },
   {
    "duration": 18,
    "start_time": "2022-12-10T13:29:28.666Z"
   },
   {
    "duration": 3,
    "start_time": "2022-12-10T13:29:28.687Z"
   },
   {
    "duration": 17,
    "start_time": "2022-12-10T13:29:28.691Z"
   },
   {
    "duration": 5,
    "start_time": "2022-12-10T13:29:28.710Z"
   },
   {
    "duration": 23,
    "start_time": "2022-12-10T13:29:28.717Z"
   },
   {
    "duration": 17,
    "start_time": "2022-12-10T13:29:28.743Z"
   },
   {
    "duration": 27,
    "start_time": "2022-12-10T13:29:28.762Z"
   },
   {
    "duration": 58,
    "start_time": "2022-12-10T13:29:28.791Z"
   },
   {
    "duration": 146,
    "start_time": "2022-12-10T13:29:28.852Z"
   },
   {
    "duration": 0,
    "start_time": "2022-12-10T13:29:29.000Z"
   },
   {
    "duration": 45,
    "start_time": "2022-12-10T13:29:39.574Z"
   },
   {
    "duration": 39,
    "start_time": "2022-12-10T13:29:49.107Z"
   },
   {
    "duration": 32,
    "start_time": "2022-12-10T13:30:12.873Z"
   },
   {
    "duration": 34,
    "start_time": "2022-12-10T13:30:31.358Z"
   },
   {
    "duration": 50,
    "start_time": "2022-12-10T13:30:37.995Z"
   },
   {
    "duration": 33,
    "start_time": "2022-12-10T13:30:49.786Z"
   },
   {
    "duration": 36,
    "start_time": "2022-12-10T13:31:34.077Z"
   },
   {
    "duration": 32,
    "start_time": "2022-12-10T13:31:54.341Z"
   },
   {
    "duration": 45,
    "start_time": "2022-12-10T13:32:18.071Z"
   },
   {
    "duration": 43,
    "start_time": "2022-12-10T13:32:27.882Z"
   },
   {
    "duration": 25,
    "start_time": "2022-12-10T13:32:37.934Z"
   },
   {
    "duration": 419,
    "start_time": "2022-12-10T13:55:20.838Z"
   },
   {
    "duration": 22,
    "start_time": "2022-12-10T13:55:21.259Z"
   },
   {
    "duration": 15,
    "start_time": "2022-12-10T13:55:21.282Z"
   },
   {
    "duration": 9,
    "start_time": "2022-12-10T13:55:21.299Z"
   },
   {
    "duration": 32,
    "start_time": "2022-12-10T13:55:21.310Z"
   },
   {
    "duration": 3,
    "start_time": "2022-12-10T13:55:21.344Z"
   },
   {
    "duration": 10,
    "start_time": "2022-12-10T13:55:21.349Z"
   },
   {
    "duration": 35,
    "start_time": "2022-12-10T13:55:21.361Z"
   },
   {
    "duration": 8,
    "start_time": "2022-12-10T13:55:21.397Z"
   },
   {
    "duration": 17,
    "start_time": "2022-12-10T13:55:21.408Z"
   },
   {
    "duration": 46,
    "start_time": "2022-12-10T13:55:21.426Z"
   },
   {
    "duration": 8,
    "start_time": "2022-12-10T13:55:21.474Z"
   },
   {
    "duration": 19,
    "start_time": "2022-12-10T13:55:21.484Z"
   },
   {
    "duration": 22,
    "start_time": "2022-12-10T13:55:21.504Z"
   },
   {
    "duration": 18,
    "start_time": "2022-12-10T13:55:21.528Z"
   },
   {
    "duration": 17,
    "start_time": "2022-12-10T13:55:21.548Z"
   },
   {
    "duration": 4,
    "start_time": "2022-12-10T13:55:21.566Z"
   },
   {
    "duration": 27,
    "start_time": "2022-12-10T13:55:21.571Z"
   },
   {
    "duration": 11,
    "start_time": "2022-12-10T13:55:21.600Z"
   },
   {
    "duration": 20,
    "start_time": "2022-12-10T13:55:21.613Z"
   },
   {
    "duration": 12,
    "start_time": "2022-12-10T13:55:21.635Z"
   },
   {
    "duration": 29,
    "start_time": "2022-12-10T13:55:21.649Z"
   },
   {
    "duration": 50,
    "start_time": "2022-12-10T13:55:21.680Z"
   },
   {
    "duration": 20,
    "start_time": "2022-12-10T13:55:21.732Z"
   },
   {
    "duration": 57,
    "start_time": "2022-12-10T13:55:21.754Z"
   }
  ],
  "colab": {
   "name": "dpp_template_part2.ipynb",
   "provenance": []
  },
  "kernelspec": {
   "display_name": "Python 3 (ipykernel)",
   "language": "python",
   "name": "python3"
  },
  "language_info": {
   "codemirror_mode": {
    "name": "ipython",
    "version": 3
   },
   "file_extension": ".py",
   "mimetype": "text/x-python",
   "name": "python",
   "nbconvert_exporter": "python",
   "pygments_lexer": "ipython3",
   "version": "3.10.9"
  },
  "toc": {
   "base_numbering": 1,
   "nav_menu": {},
   "number_sections": true,
   "sideBar": true,
   "skip_h1_title": true,
   "title_cell": "Table of Contents",
   "title_sidebar": "Contents",
   "toc_cell": false,
   "toc_position": {},
   "toc_section_display": true,
   "toc_window_display": true
  }
 },
 "nbformat": 4,
 "nbformat_minor": 5
}
