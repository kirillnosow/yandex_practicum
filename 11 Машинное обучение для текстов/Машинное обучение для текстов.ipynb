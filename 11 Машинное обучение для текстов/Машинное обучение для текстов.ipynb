{
 "cells": [
  {
   "cell_type": "markdown",
   "metadata": {},
   "source": [
    "# Проект для «Викишоп»"
   ]
  },
  {
   "cell_type": "markdown",
   "metadata": {},
   "source": [
    "<b>Цели проекта:</b>  \n",
    "Обучить модель классифицировать комментарии на позитивные и негативные и построить модель со значением метрики качества F1 не меньше 0.75.\n",
    "  \n",
    "<b>Задачи проекта:</b>\n",
    "- Загрузить данные и их леммизировать.\n",
    "- Обучить разные модели с различными гиперпараметрами.\n",
    "- Проверить данные на тестовой выборке и сделать выводы.\n",
    "\n",
    "<b>Данные:</b>  \n",
    "Данные с текстом комментариев. Данные находятся в файле `toxic_comments.csv`.   \n",
    "Столбец *text* в нём содержит текст комментария, а *toxic* — целевой признак."
   ]
  },
  {
   "cell_type": "markdown",
   "metadata": {},
   "source": [
    "## Подготовка"
   ]
  },
  {
   "cell_type": "code",
   "execution_count": 1,
   "metadata": {},
   "outputs": [],
   "source": [
    "# импортировать библиотеки\n",
    "import pandas as pd\n",
    "import numpy\n",
    "from tqdm import tqdm\n",
    "import time\n",
    "\n",
    "# лемматизация\n",
    "from nltk import pos_tag, word_tokenize\n",
    "from nltk.stem import WordNetLemmatizer\n",
    "\n",
    "# регулярные выражения\n",
    "import re\n",
    "\n",
    "# для нового мешка слов с учётом стоп-слов\n",
    "from nltk.corpus import stopwords\n",
    "import nltk\n",
    "\n",
    "# tf-idf\n",
    "from sklearn.feature_extraction.text import TfidfVectorizer\n",
    "from sklearn.feature_extraction.text import CountVectorizer\n",
    "\n",
    "# работа с моделями\n",
    "from sklearn.model_selection import train_test_split\n",
    "from sklearn.model_selection import GridSearchCV\n",
    "from sklearn.metrics import f1_score\n",
    "from sklearn.linear_model import LogisticRegression \n",
    "from catboost import CatBoostClassifier\n",
    "from sklearn.datasets import load_iris\n",
    "from sklearn.pipeline import Pipeline"
   ]
  },
  {
   "cell_type": "code",
   "execution_count": 2,
   "metadata": {},
   "outputs": [],
   "source": [
    "# записать файл в data\n",
    "try: \n",
    "    data = pd.read_csv('/datasets/toxic_comments.csv', sep=',')\n",
    "except:\n",
    "    data = pd.read_csv('toxic_comments.csv', sep=',')"
   ]
  },
  {
   "cell_type": "code",
   "execution_count": 3,
   "metadata": {},
   "outputs": [
    {
     "data": {
      "text/html": [
       "<div>\n",
       "<style scoped>\n",
       "    .dataframe tbody tr th:only-of-type {\n",
       "        vertical-align: middle;\n",
       "    }\n",
       "\n",
       "    .dataframe tbody tr th {\n",
       "        vertical-align: top;\n",
       "    }\n",
       "\n",
       "    .dataframe thead th {\n",
       "        text-align: right;\n",
       "    }\n",
       "</style>\n",
       "<table border=\"1\" class=\"dataframe\">\n",
       "  <thead>\n",
       "    <tr style=\"text-align: right;\">\n",
       "      <th></th>\n",
       "      <th>Unnamed: 0</th>\n",
       "      <th>text</th>\n",
       "      <th>toxic</th>\n",
       "    </tr>\n",
       "  </thead>\n",
       "  <tbody>\n",
       "    <tr>\n",
       "      <th>0</th>\n",
       "      <td>0</td>\n",
       "      <td>Explanation\\nWhy the edits made under my usern...</td>\n",
       "      <td>0</td>\n",
       "    </tr>\n",
       "    <tr>\n",
       "      <th>1</th>\n",
       "      <td>1</td>\n",
       "      <td>D'aww! He matches this background colour I'm s...</td>\n",
       "      <td>0</td>\n",
       "    </tr>\n",
       "    <tr>\n",
       "      <th>2</th>\n",
       "      <td>2</td>\n",
       "      <td>Hey man, I'm really not trying to edit war. It...</td>\n",
       "      <td>0</td>\n",
       "    </tr>\n",
       "    <tr>\n",
       "      <th>3</th>\n",
       "      <td>3</td>\n",
       "      <td>\"\\nMore\\nI can't make any real suggestions on ...</td>\n",
       "      <td>0</td>\n",
       "    </tr>\n",
       "    <tr>\n",
       "      <th>4</th>\n",
       "      <td>4</td>\n",
       "      <td>You, sir, are my hero. Any chance you remember...</td>\n",
       "      <td>0</td>\n",
       "    </tr>\n",
       "    <tr>\n",
       "      <th>5</th>\n",
       "      <td>5</td>\n",
       "      <td>\"\\n\\nCongratulations from me as well, use the ...</td>\n",
       "      <td>0</td>\n",
       "    </tr>\n",
       "    <tr>\n",
       "      <th>6</th>\n",
       "      <td>6</td>\n",
       "      <td>COCKSUCKER BEFORE YOU PISS AROUND ON MY WORK</td>\n",
       "      <td>1</td>\n",
       "    </tr>\n",
       "    <tr>\n",
       "      <th>7</th>\n",
       "      <td>7</td>\n",
       "      <td>Your vandalism to the Matt Shirvington article...</td>\n",
       "      <td>0</td>\n",
       "    </tr>\n",
       "    <tr>\n",
       "      <th>8</th>\n",
       "      <td>8</td>\n",
       "      <td>Sorry if the word 'nonsense' was offensive to ...</td>\n",
       "      <td>0</td>\n",
       "    </tr>\n",
       "    <tr>\n",
       "      <th>9</th>\n",
       "      <td>9</td>\n",
       "      <td>alignment on this subject and which are contra...</td>\n",
       "      <td>0</td>\n",
       "    </tr>\n",
       "  </tbody>\n",
       "</table>\n",
       "</div>"
      ],
      "text/plain": [
       "   Unnamed: 0                                               text  toxic\n",
       "0           0  Explanation\\nWhy the edits made under my usern...      0\n",
       "1           1  D'aww! He matches this background colour I'm s...      0\n",
       "2           2  Hey man, I'm really not trying to edit war. It...      0\n",
       "3           3  \"\\nMore\\nI can't make any real suggestions on ...      0\n",
       "4           4  You, sir, are my hero. Any chance you remember...      0\n",
       "5           5  \"\\n\\nCongratulations from me as well, use the ...      0\n",
       "6           6       COCKSUCKER BEFORE YOU PISS AROUND ON MY WORK      1\n",
       "7           7  Your vandalism to the Matt Shirvington article...      0\n",
       "8           8  Sorry if the word 'nonsense' was offensive to ...      0\n",
       "9           9  alignment on this subject and which are contra...      0"
      ]
     },
     "execution_count": 3,
     "metadata": {},
     "output_type": "execute_result"
    }
   ],
   "source": [
    "# открыть файл\n",
    "data.head(10)"
   ]
  },
  {
   "cell_type": "code",
   "execution_count": 4,
   "metadata": {},
   "outputs": [
    {
     "name": "stdout",
     "output_type": "stream",
     "text": [
      "<class 'pandas.core.frame.DataFrame'>\n",
      "RangeIndex: 159292 entries, 0 to 159291\n",
      "Data columns (total 3 columns):\n",
      " #   Column      Non-Null Count   Dtype \n",
      "---  ------      --------------   ----- \n",
      " 0   Unnamed: 0  159292 non-null  int64 \n",
      " 1   text        159292 non-null  object\n",
      " 2   toxic       159292 non-null  int64 \n",
      "dtypes: int64(2), object(1)\n",
      "memory usage: 3.6+ MB\n"
     ]
    }
   ],
   "source": [
    "# изучить файл: метод info()\n",
    "data.info()"
   ]
  },
  {
   "cell_type": "code",
   "execution_count": 5,
   "metadata": {},
   "outputs": [
    {
     "data": {
      "text/html": [
       "<div>\n",
       "<style scoped>\n",
       "    .dataframe tbody tr th:only-of-type {\n",
       "        vertical-align: middle;\n",
       "    }\n",
       "\n",
       "    .dataframe tbody tr th {\n",
       "        vertical-align: top;\n",
       "    }\n",
       "\n",
       "    .dataframe thead th {\n",
       "        text-align: right;\n",
       "    }\n",
       "</style>\n",
       "<table border=\"1\" class=\"dataframe\">\n",
       "  <thead>\n",
       "    <tr style=\"text-align: right;\">\n",
       "      <th></th>\n",
       "      <th>Unnamed: 0</th>\n",
       "      <th>toxic</th>\n",
       "    </tr>\n",
       "  </thead>\n",
       "  <tbody>\n",
       "    <tr>\n",
       "      <th>count</th>\n",
       "      <td>159292.000000</td>\n",
       "      <td>159292.000000</td>\n",
       "    </tr>\n",
       "    <tr>\n",
       "      <th>mean</th>\n",
       "      <td>79725.697242</td>\n",
       "      <td>0.101612</td>\n",
       "    </tr>\n",
       "    <tr>\n",
       "      <th>std</th>\n",
       "      <td>46028.837471</td>\n",
       "      <td>0.302139</td>\n",
       "    </tr>\n",
       "    <tr>\n",
       "      <th>min</th>\n",
       "      <td>0.000000</td>\n",
       "      <td>0.000000</td>\n",
       "    </tr>\n",
       "    <tr>\n",
       "      <th>25%</th>\n",
       "      <td>39872.750000</td>\n",
       "      <td>0.000000</td>\n",
       "    </tr>\n",
       "    <tr>\n",
       "      <th>50%</th>\n",
       "      <td>79721.500000</td>\n",
       "      <td>0.000000</td>\n",
       "    </tr>\n",
       "    <tr>\n",
       "      <th>75%</th>\n",
       "      <td>119573.250000</td>\n",
       "      <td>0.000000</td>\n",
       "    </tr>\n",
       "    <tr>\n",
       "      <th>max</th>\n",
       "      <td>159450.000000</td>\n",
       "      <td>1.000000</td>\n",
       "    </tr>\n",
       "  </tbody>\n",
       "</table>\n",
       "</div>"
      ],
      "text/plain": [
       "          Unnamed: 0          toxic\n",
       "count  159292.000000  159292.000000\n",
       "mean    79725.697242       0.101612\n",
       "std     46028.837471       0.302139\n",
       "min         0.000000       0.000000\n",
       "25%     39872.750000       0.000000\n",
       "50%     79721.500000       0.000000\n",
       "75%    119573.250000       0.000000\n",
       "max    159450.000000       1.000000"
      ]
     },
     "execution_count": 5,
     "metadata": {},
     "output_type": "execute_result"
    }
   ],
   "source": [
    "# изучить файл: метод describe()\n",
    "data.describe()"
   ]
  },
  {
   "cell_type": "markdown",
   "metadata": {},
   "source": [
    "Пропусков в данных не обнаружено. Стобец <code>Unnamed: 0</code> не несёт ценности, его можно удалить."
   ]
  },
  {
   "cell_type": "code",
   "execution_count": 6,
   "metadata": {},
   "outputs": [],
   "source": [
    "# удалить столбец\n",
    "data = data.drop('Unnamed: 0', axis=1)"
   ]
  },
  {
   "cell_type": "code",
   "execution_count": 7,
   "metadata": {},
   "outputs": [
    {
     "data": {
      "text/html": [
       "<div>\n",
       "<style scoped>\n",
       "    .dataframe tbody tr th:only-of-type {\n",
       "        vertical-align: middle;\n",
       "    }\n",
       "\n",
       "    .dataframe tbody tr th {\n",
       "        vertical-align: top;\n",
       "    }\n",
       "\n",
       "    .dataframe thead th {\n",
       "        text-align: right;\n",
       "    }\n",
       "</style>\n",
       "<table border=\"1\" class=\"dataframe\">\n",
       "  <thead>\n",
       "    <tr style=\"text-align: right;\">\n",
       "      <th></th>\n",
       "      <th>text</th>\n",
       "      <th>toxic</th>\n",
       "    </tr>\n",
       "  </thead>\n",
       "  <tbody>\n",
       "    <tr>\n",
       "      <th>0</th>\n",
       "      <td>Explanation\\nWhy the edits made under my usern...</td>\n",
       "      <td>0</td>\n",
       "    </tr>\n",
       "    <tr>\n",
       "      <th>1</th>\n",
       "      <td>D'aww! He matches this background colour I'm s...</td>\n",
       "      <td>0</td>\n",
       "    </tr>\n",
       "    <tr>\n",
       "      <th>2</th>\n",
       "      <td>Hey man, I'm really not trying to edit war. It...</td>\n",
       "      <td>0</td>\n",
       "    </tr>\n",
       "    <tr>\n",
       "      <th>3</th>\n",
       "      <td>\"\\nMore\\nI can't make any real suggestions on ...</td>\n",
       "      <td>0</td>\n",
       "    </tr>\n",
       "    <tr>\n",
       "      <th>4</th>\n",
       "      <td>You, sir, are my hero. Any chance you remember...</td>\n",
       "      <td>0</td>\n",
       "    </tr>\n",
       "  </tbody>\n",
       "</table>\n",
       "</div>"
      ],
      "text/plain": [
       "                                                text  toxic\n",
       "0  Explanation\\nWhy the edits made under my usern...      0\n",
       "1  D'aww! He matches this background colour I'm s...      0\n",
       "2  Hey man, I'm really not trying to edit war. It...      0\n",
       "3  \"\\nMore\\nI can't make any real suggestions on ...      0\n",
       "4  You, sir, are my hero. Any chance you remember...      0"
      ]
     },
     "execution_count": 7,
     "metadata": {},
     "output_type": "execute_result"
    }
   ],
   "source": [
    "# проверить, что столбце удалён\n",
    "data.head()"
   ]
  },
  {
   "cell_type": "markdown",
   "metadata": {},
   "source": [
    "Создадим корпус постов. Преобразуем столбец <code>text</code> в список текстов. Переводить тексты в стандартный для Python формат, кодировку Unicode U, не будем, так как тексты на английском. Это может привести к падению ядра из-за увеличения объема занимаемой памяти."
   ]
  },
  {
   "cell_type": "code",
   "execution_count": 8,
   "metadata": {},
   "outputs": [],
   "source": [
    "# создать корпус постов\n",
    "corpus = data['text'].values"
   ]
  },
  {
   "cell_type": "markdown",
   "metadata": {},
   "source": [
    "Проведём лемматизацию текста (приведём слова к начальной форме — лемме). А также от лишних символов очистим текст  регулярными выражениями."
   ]
  },
  {
   "cell_type": "code",
   "execution_count": 9,
   "metadata": {},
   "outputs": [],
   "source": [
    "def lemmatize_with_pos(text):\n",
    "    lemmatizer = WordNetLemmatizer()\n",
    "    text = re.sub('[^a-zA-Z]+', ' ', text) \n",
    "    words = word_tokenize(text)\n",
    "    tagged_words = pos_tag(words)\n",
    "    lemmatized_words = []\n",
    "    for word, tag in tagged_words:\n",
    "        if tag.startswith('NN'):\n",
    "            lemmatized_words.append(lemmatizer.lemmatize(word, pos='n'))\n",
    "        elif tag.startswith('VB'):\n",
    "            lemmatized_words.append(lemmatizer.lemmatize(word, pos='v'))\n",
    "        elif tag.startswith('JJ'):\n",
    "            lemmatized_words.append(lemmatizer.lemmatize(word, pos='a'))\n",
    "        elif tag.startswith('R'):\n",
    "            lemmatized_words.append(lemmatizer.lemmatize(word, pos='r'))\n",
    "        else:\n",
    "            lemmatized_words.append(word)\n",
    "    return ' '.join(lemmatized_words)"
   ]
  },
  {
   "cell_type": "code",
   "execution_count": 10,
   "metadata": {},
   "outputs": [
    {
     "name": "stderr",
     "output_type": "stream",
     "text": [
      "100%|██████████| 159292/159292 [09:43<00:00, 273.12it/s]\n"
     ]
    }
   ],
   "source": [
    "# применить функцию\n",
    "for i in tqdm(range(len(corpus))):\n",
    "    corpus[i] = lemmatize_with_pos(corpus[i])"
   ]
  },
  {
   "cell_type": "code",
   "execution_count": 11,
   "metadata": {
    "scrolled": true
   },
   "outputs": [
    {
     "data": {
      "text/html": [
       "<div>\n",
       "<style scoped>\n",
       "    .dataframe tbody tr th:only-of-type {\n",
       "        vertical-align: middle;\n",
       "    }\n",
       "\n",
       "    .dataframe tbody tr th {\n",
       "        vertical-align: top;\n",
       "    }\n",
       "\n",
       "    .dataframe thead th {\n",
       "        text-align: right;\n",
       "    }\n",
       "</style>\n",
       "<table border=\"1\" class=\"dataframe\">\n",
       "  <thead>\n",
       "    <tr style=\"text-align: right;\">\n",
       "      <th></th>\n",
       "      <th>text</th>\n",
       "      <th>toxic</th>\n",
       "      <th>lemm_text</th>\n",
       "    </tr>\n",
       "  </thead>\n",
       "  <tbody>\n",
       "    <tr>\n",
       "      <th>0</th>\n",
       "      <td>Explanation Why the edits make under my userna...</td>\n",
       "      <td>0</td>\n",
       "      <td>Explanation Why the edits make under my userna...</td>\n",
       "    </tr>\n",
       "    <tr>\n",
       "      <th>1</th>\n",
       "      <td>D aww He match this background colour I m seem...</td>\n",
       "      <td>0</td>\n",
       "      <td>D aww He match this background colour I m seem...</td>\n",
       "    </tr>\n",
       "    <tr>\n",
       "      <th>2</th>\n",
       "      <td>Hey man I m really not try to edit war It s ju...</td>\n",
       "      <td>0</td>\n",
       "      <td>Hey man I m really not try to edit war It s ju...</td>\n",
       "    </tr>\n",
       "    <tr>\n",
       "      <th>3</th>\n",
       "      <td>More I can t make any real suggestion on impro...</td>\n",
       "      <td>0</td>\n",
       "      <td>More I can t make any real suggestion on impro...</td>\n",
       "    </tr>\n",
       "    <tr>\n",
       "      <th>4</th>\n",
       "      <td>You sir be my hero Any chance you remember wha...</td>\n",
       "      <td>0</td>\n",
       "      <td>You sir be my hero Any chance you remember wha...</td>\n",
       "    </tr>\n",
       "  </tbody>\n",
       "</table>\n",
       "</div>"
      ],
      "text/plain": [
       "                                                text  toxic  \\\n",
       "0  Explanation Why the edits make under my userna...      0   \n",
       "1  D aww He match this background colour I m seem...      0   \n",
       "2  Hey man I m really not try to edit war It s ju...      0   \n",
       "3  More I can t make any real suggestion on impro...      0   \n",
       "4  You sir be my hero Any chance you remember wha...      0   \n",
       "\n",
       "                                           lemm_text  \n",
       "0  Explanation Why the edits make under my userna...  \n",
       "1  D aww He match this background colour I m seem...  \n",
       "2  Hey man I m really not try to edit war It s ju...  \n",
       "3  More I can t make any real suggestion on impro...  \n",
       "4  You sir be my hero Any chance you remember wha...  "
      ]
     },
     "execution_count": 11,
     "metadata": {},
     "output_type": "execute_result"
    }
   ],
   "source": [
    "# записать данные в новый фрейм\n",
    "new_data = pd.DataFrame(corpus)\n",
    "# добавить новый столбец\n",
    "data['lemm_text'] = new_data[0]\n",
    "data.head()"
   ]
  },
  {
   "cell_type": "markdown",
   "metadata": {},
   "source": [
    "Получив новый столбец после лемматизации и очищения от лишних символов, можем разделить данные на две выборки в соотношении 4:1."
   ]
  },
  {
   "cell_type": "code",
   "execution_count": 12,
   "metadata": {},
   "outputs": [],
   "source": [
    "# разделить данные на выборки\n",
    "train, test = train_test_split(data, test_size=0.2, random_state=12345)"
   ]
  },
  {
   "cell_type": "code",
   "execution_count": 13,
   "metadata": {},
   "outputs": [],
   "source": [
    "# разделить обучающую выборку на признаки (features) и целевую переменную (target)\n",
    "features_train = train.drop('toxic', axis=1)\n",
    "target_train = train['toxic']"
   ]
  },
  {
   "cell_type": "code",
   "execution_count": 14,
   "metadata": {},
   "outputs": [],
   "source": [
    "# разделить тестовую выборку на признаки (features) и целевую переменную (target)\n",
    "features_test = test.drop('toxic', axis=1)\n",
    "target_test = test['toxic']"
   ]
  },
  {
   "cell_type": "code",
   "execution_count": 15,
   "metadata": {},
   "outputs": [
    {
     "name": "stderr",
     "output_type": "stream",
     "text": [
      "[nltk_data] Downloading package stopwords to /home/jovyan/nltk_data...\n",
      "[nltk_data]   Package stopwords is already up-to-date!\n"
     ]
    }
   ],
   "source": [
    "# стоп-слова\n",
    "try:\n",
    "    nltk.download('stopwords')\n",
    "except:\n",
    "    pass\n",
    "# объявить набор стоп-слов \n",
    "try:\n",
    "    stopwords = set(stopwords.words('english'))\n",
    "except:\n",
    "    pass"
   ]
  },
  {
   "cell_type": "markdown",
   "metadata": {},
   "source": [
    "### Итоги"
   ]
  },
  {
   "cell_type": "markdown",
   "metadata": {},
   "source": [
    "1. Открыт и изучен файл методами info(), describe().\n",
    "2. Удалён столбец <code>Unnamed: 0</code>.\n",
    "3. Проведена лемматизация и очистка данных.\n",
    "4. Данные разделены на выборки в соотношении 4:1.\n",
    "5. Объявлен набор стоп-слов."
   ]
  },
  {
   "cell_type": "markdown",
   "metadata": {},
   "source": [
    "## Обучение"
   ]
  },
  {
   "cell_type": "code",
   "execution_count": 16,
   "metadata": {},
   "outputs": [
    {
     "data": {
      "text/plain": [
       "(127433, 140645)"
      ]
     },
     "metadata": {},
     "output_type": "display_data"
    },
    {
     "data": {
      "text/plain": [
       "(31859, 140645)"
      ]
     },
     "metadata": {},
     "output_type": "display_data"
    }
   ],
   "source": [
    "# посчитать величину TF-IDF для обучающей выборки\n",
    "count_tf_idf_train = TfidfVectorizer(stop_words=list(stopwords))\n",
    "tf_idf_train = count_tf_idf_train.fit_transform(train.lemm_text)\n",
    "display(tf_idf_train.shape)\n",
    "\n",
    "# посчитать величину TF-IDF для тестовой выборки\n",
    "count_tf_idf_test = TfidfVectorizer(stop_words=stopwords)\n",
    "tf_idf_test = count_tf_idf_train.transform(test.lemm_text)\n",
    "display(tf_idf_test.shape)"
   ]
  },
  {
   "cell_type": "markdown",
   "metadata": {},
   "source": [
    "### LogisticRegression"
   ]
  },
  {
   "cell_type": "code",
   "execution_count": 17,
   "metadata": {},
   "outputs": [],
   "source": [
    "# определить Pipeline для LogisticRegression\n",
    "lr_pipeline = Pipeline([\n",
    "    ('lr', LogisticRegression(solver='liblinear'))])"
   ]
  },
  {
   "cell_type": "code",
   "execution_count": 18,
   "metadata": {},
   "outputs": [],
   "source": [
    "# список параметров для подбора\n",
    "parameters = {\n",
    "    'lr__C': [0.1, 1, 10]\n",
    "}"
   ]
  },
  {
   "cell_type": "code",
   "execution_count": 19,
   "metadata": {},
   "outputs": [
    {
     "name": "stdout",
     "output_type": "stream",
     "text": [
      "LogisticRegression best score: 0.9563927767016547\n",
      "CPU times: user 46.6 s, sys: 48.3 s, total: 1min 34s\n",
      "Wall time: 1min 34s\n"
     ]
    }
   ],
   "source": [
    "%%time\n",
    "start = time.time()\n",
    "\n",
    "# обучить модель LogisticRegression с кросс-валидацией и подбором параметров\n",
    "lr_grid = GridSearchCV(lr_pipeline, param_grid=parameters, cv=3)\n",
    "lr_grid.fit(tf_idf_train, target_train)\n",
    "lr_score = str(lr_grid.best_score_)\n",
    "print('LogisticRegression best score: ' + lr_score)\n",
    "\n",
    "end = time.time()\n",
    "lr_time = end-start"
   ]
  },
  {
   "cell_type": "markdown",
   "metadata": {},
   "source": [
    "### CatBoostClassifier"
   ]
  },
  {
   "cell_type": "code",
   "execution_count": 20,
   "metadata": {},
   "outputs": [],
   "source": [
    "cat_vars = [var for var in features_train.columns if features_train[var].dtype == \"O\"]"
   ]
  },
  {
   "cell_type": "code",
   "execution_count": 21,
   "metadata": {},
   "outputs": [],
   "source": [
    "# определить Pipeline для CatBoostClassifier\n",
    "catboost_pipeline = Pipeline([\n",
    "    ('catboost', CatBoostClassifier(cat_features = cat_vars, silent=True))\n",
    "])"
   ]
  },
  {
   "cell_type": "code",
   "execution_count": 22,
   "metadata": {},
   "outputs": [],
   "source": [
    "# чисок параметров для подбора\n",
    "parameters = {\n",
    "    'catboost__depth': [4, 6, 8]\n",
    "}"
   ]
  },
  {
   "cell_type": "code",
   "execution_count": 23,
   "metadata": {},
   "outputs": [
    {
     "name": "stdout",
     "output_type": "stream",
     "text": [
      "CatBoostClassifier best score: 0.8990214473521801\n",
      "CPU times: user 7min 54s, sys: 3.92 s, total: 7min 58s\n",
      "Wall time: 8min 11s\n"
     ]
    }
   ],
   "source": [
    "%%time\n",
    "start = time.time()\n",
    "# обучить модели CatBoostClassifier с кросс-валидацией и подбором параметров\n",
    "catboost_grid = GridSearchCV(catboost_pipeline, param_grid=parameters, cv=3)\n",
    "catboost_grid.fit(features_train, target_train)\n",
    "cat_score = str(catboost_grid.best_score_)\n",
    "print('CatBoostClassifier best score: ' + cat_score)\n",
    "\n",
    "end = time.time()\n",
    "cat_time = end-start"
   ]
  },
  {
   "cell_type": "markdown",
   "metadata": {},
   "source": [
    "### Лучшая модель"
   ]
  },
  {
   "cell_type": "code",
   "execution_count": 24,
   "metadata": {},
   "outputs": [
    {
     "data": {
      "text/plain": [
       "{'lr__C': 10}"
      ]
     },
     "execution_count": 24,
     "metadata": {},
     "output_type": "execute_result"
    }
   ],
   "source": [
    "# напечатать лучшие параметры\n",
    "lr_params = lr_grid.best_params_\n",
    "lr_params"
   ]
  },
  {
   "cell_type": "code",
   "execution_count": 25,
   "metadata": {},
   "outputs": [
    {
     "data": {
      "text/html": [
       "<div>\n",
       "<style scoped>\n",
       "    .dataframe tbody tr th:only-of-type {\n",
       "        vertical-align: middle;\n",
       "    }\n",
       "\n",
       "    .dataframe tbody tr th {\n",
       "        vertical-align: top;\n",
       "    }\n",
       "\n",
       "    .dataframe thead th {\n",
       "        text-align: right;\n",
       "    }\n",
       "</style>\n",
       "<table border=\"1\" class=\"dataframe\">\n",
       "  <thead>\n",
       "    <tr style=\"text-align: right;\">\n",
       "      <th></th>\n",
       "      <th>Модель</th>\n",
       "      <th>Время работы, сек.</th>\n",
       "      <th>score</th>\n",
       "    </tr>\n",
       "  </thead>\n",
       "  <tbody>\n",
       "    <tr>\n",
       "      <th>0</th>\n",
       "      <td>LogisticRegression</td>\n",
       "      <td>94.988488</td>\n",
       "      <td>0.9563927767016547</td>\n",
       "    </tr>\n",
       "    <tr>\n",
       "      <th>1</th>\n",
       "      <td>CatBoostClassifier</td>\n",
       "      <td>491.090554</td>\n",
       "      <td>0.8990214473521801</td>\n",
       "    </tr>\n",
       "  </tbody>\n",
       "</table>\n",
       "</div>"
      ],
      "text/plain": [
       "               Модель  Время работы, сек.               score\n",
       "0  LogisticRegression           94.988488  0.9563927767016547\n",
       "1  CatBoostClassifier          491.090554  0.8990214473521801"
      ]
     },
     "execution_count": 25,
     "metadata": {},
     "output_type": "execute_result"
    }
   ],
   "source": [
    "# создать таблицу для сравнения результатов\n",
    "data_time = [{'Модель': 'LogisticRegression', 'Время работы, сек.': lr_time, 'score': lr_score},\n",
    "            {'Модель': 'CatBoostClassifier', 'Время работы, сек.': cat_time, 'score': cat_score}]\n",
    "\n",
    "dframe = pd.DataFrame(data_time, columns =['Модель', 'Время работы, сек.', 'score'])\n",
    "dframe"
   ]
  },
  {
   "cell_type": "markdown",
   "metadata": {},
   "source": [
    "Лучшей моделью и по времени работы, и по score является LogisticRegression."
   ]
  },
  {
   "cell_type": "code",
   "execution_count": 26,
   "metadata": {},
   "outputs": [
    {
     "data": {
      "text/plain": [
       "Pipeline(steps=[('lr', LogisticRegression(C=10, solver='liblinear'))])"
      ]
     },
     "execution_count": 26,
     "metadata": {},
     "output_type": "execute_result"
    }
   ],
   "source": [
    "# задать алгоритм для модели\n",
    "lr_pipeline = Pipeline([\n",
    "    ('lr', LogisticRegression(solver='liblinear', C=10))])\n",
    "# обучить модель\n",
    "lr_pipeline.fit(tf_idf_train, target_train)"
   ]
  },
  {
   "cell_type": "code",
   "execution_count": 27,
   "metadata": {},
   "outputs": [
    {
     "name": "stdout",
     "output_type": "stream",
     "text": [
      "F1: 0.78\n"
     ]
    }
   ],
   "source": [
    "# предсказания\n",
    "pred_lr = lr_pipeline.predict(tf_idf_test)\n",
    "# посчитать и напечатать f1\n",
    "f1_lr = f1_score(target_test, pred_lr)\n",
    "print('F1: {:.2f}'.format(f1_lr))"
   ]
  },
  {
   "cell_type": "markdown",
   "metadata": {},
   "source": [
    "## Выводы"
   ]
  },
  {
   "cell_type": "markdown",
   "metadata": {},
   "source": [
    "1. Открыт и изучен файл методами info(), describe().\n",
    "2. Удалён столбец <code>Unnamed: 0</code>.\n",
    "3. Проведена лемматизация и очистка данных.\n",
    "4. Данные разделены на выборки в соотношении 4:1.\n",
    "5. Объявлен набор стоп-слов.\n",
    "6. Произведено обучение на LogisticRegression и CatBoostRegressor.\n",
    "7. Посчитаны метрики F1 для каждой модели.\n",
    "  \n",
    "Модель LogisticRegression справилась лучше (по результатам F1)."
   ]
  }
 ],
 "metadata": {
  "ExecuteTimeLog": [
   {
    "duration": 1766,
    "start_time": "2023-05-08T11:32:37.701Z"
   },
   {
    "duration": 2984,
    "start_time": "2023-05-08T11:32:47.837Z"
   },
   {
    "duration": 13,
    "start_time": "2023-05-08T11:32:58.361Z"
   },
   {
    "duration": 50,
    "start_time": "2023-05-08T11:33:09.431Z"
   },
   {
    "duration": 11,
    "start_time": "2023-05-08T11:33:18.403Z"
   },
   {
    "duration": 7,
    "start_time": "2023-05-08T11:33:29.387Z"
   },
   {
    "duration": 2936,
    "start_time": "2023-05-08T11:33:37.653Z"
   },
   {
    "duration": 3,
    "start_time": "2023-05-08T11:33:58.262Z"
   },
   {
    "duration": 46076,
    "start_time": "2023-05-08T11:34:06.291Z"
   },
   {
    "duration": 48,
    "start_time": "2023-05-08T11:36:33.654Z"
   },
   {
    "duration": 134,
    "start_time": "2023-05-08T11:37:49.261Z"
   },
   {
    "duration": 3010,
    "start_time": "2023-05-08T11:45:31.012Z"
   },
   {
    "duration": 2755,
    "start_time": "2023-05-08T11:45:34.025Z"
   },
   {
    "duration": 20,
    "start_time": "2023-05-08T11:45:36.782Z"
   },
   {
    "duration": 51,
    "start_time": "2023-05-08T11:45:36.804Z"
   },
   {
    "duration": 65,
    "start_time": "2023-05-08T11:45:36.859Z"
   },
   {
    "duration": 37,
    "start_time": "2023-05-08T11:45:36.927Z"
   },
   {
    "duration": 29,
    "start_time": "2023-05-08T11:45:36.974Z"
   },
   {
    "duration": 2212,
    "start_time": "2023-05-08T11:45:37.006Z"
   },
   {
    "duration": 4,
    "start_time": "2023-05-08T11:45:39.219Z"
   },
   {
    "duration": 46932,
    "start_time": "2023-05-08T11:45:39.235Z"
   },
   {
    "duration": 878,
    "start_time": "2023-05-08T11:46:26.170Z"
   },
   {
    "duration": 80,
    "start_time": "2023-05-08T11:47:31.116Z"
   },
   {
    "duration": 26,
    "start_time": "2023-05-08T11:47:39.941Z"
   },
   {
    "duration": 227,
    "start_time": "2023-05-08T11:48:53.000Z"
   },
   {
    "duration": 7666,
    "start_time": "2023-05-08T11:49:12.659Z"
   },
   {
    "duration": 54975,
    "start_time": "2023-05-08T11:49:49.966Z"
   },
   {
    "duration": 59,
    "start_time": "2023-05-08T11:50:56.553Z"
   },
   {
    "duration": 1999,
    "start_time": "2023-05-08T11:51:23.562Z"
   },
   {
    "duration": 4265,
    "start_time": "2023-05-08T11:53:25.646Z"
   },
   {
    "duration": 12,
    "start_time": "2023-05-08T12:20:48.284Z"
   },
   {
    "duration": 8,
    "start_time": "2023-05-08T12:21:21.075Z"
   },
   {
    "duration": 3,
    "start_time": "2023-05-08T12:21:24.175Z"
   },
   {
    "duration": 1997,
    "start_time": "2023-05-08T12:21:34.095Z"
   },
   {
    "duration": 63,
    "start_time": "2023-05-08T12:24:06.426Z"
   },
   {
    "duration": 5,
    "start_time": "2023-05-08T12:27:06.596Z"
   },
   {
    "duration": 3762,
    "start_time": "2023-05-08T12:27:13.642Z"
   },
   {
    "duration": 4,
    "start_time": "2023-05-08T12:27:53.654Z"
   },
   {
    "duration": 5,
    "start_time": "2023-05-08T12:28:58.007Z"
   },
   {
    "duration": 24,
    "start_time": "2023-05-08T12:29:09.342Z"
   },
   {
    "duration": 1117,
    "start_time": "2023-05-08T12:29:22.040Z"
   },
   {
    "duration": 577,
    "start_time": "2023-05-08T12:29:38.489Z"
   },
   {
    "duration": 4,
    "start_time": "2023-05-08T12:29:51.012Z"
   },
   {
    "duration": 3090,
    "start_time": "2023-05-08T12:29:58.111Z"
   },
   {
    "duration": 404,
    "start_time": "2023-05-08T12:31:32.378Z"
   },
   {
    "duration": 14,
    "start_time": "2023-05-08T12:33:05.326Z"
   },
   {
    "duration": 3147,
    "start_time": "2023-05-08T12:33:11.123Z"
   },
   {
    "duration": 371,
    "start_time": "2023-05-08T12:33:17.722Z"
   },
   {
    "duration": 4,
    "start_time": "2023-05-08T12:35:04.601Z"
   },
   {
    "duration": 3341,
    "start_time": "2023-05-08T12:35:11.784Z"
   },
   {
    "duration": 445,
    "start_time": "2023-05-08T12:35:16.747Z"
   },
   {
    "duration": 14,
    "start_time": "2023-05-08T12:38:28.653Z"
   },
   {
    "duration": 16,
    "start_time": "2023-05-08T12:38:33.674Z"
   },
   {
    "duration": 141,
    "start_time": "2023-05-08T12:38:45.890Z"
   },
   {
    "duration": 4,
    "start_time": "2023-05-08T12:44:31.779Z"
   },
   {
    "duration": 225,
    "start_time": "2023-05-08T12:45:54.170Z"
   },
   {
    "duration": 1294,
    "start_time": "2023-05-08T12:52:04.362Z"
   },
   {
    "duration": 3613,
    "start_time": "2023-05-08T12:52:05.659Z"
   },
   {
    "duration": 14,
    "start_time": "2023-05-08T12:52:09.274Z"
   },
   {
    "duration": 34,
    "start_time": "2023-05-08T12:52:09.289Z"
   },
   {
    "duration": 27,
    "start_time": "2023-05-08T12:52:09.325Z"
   },
   {
    "duration": 10,
    "start_time": "2023-05-08T12:52:09.354Z"
   },
   {
    "duration": 14,
    "start_time": "2023-05-08T12:52:09.365Z"
   },
   {
    "duration": 1828,
    "start_time": "2023-05-08T12:52:09.380Z"
   },
   {
    "duration": 6,
    "start_time": "2023-05-08T12:52:11.210Z"
   },
   {
    "duration": 37403,
    "start_time": "2023-05-08T12:52:11.217Z"
   },
   {
    "duration": 623,
    "start_time": "2023-05-08T12:52:48.622Z"
   },
   {
    "duration": 63,
    "start_time": "2023-05-08T12:52:49.246Z"
   },
   {
    "duration": 11,
    "start_time": "2023-05-08T12:52:49.311Z"
   },
   {
    "duration": 23,
    "start_time": "2023-05-08T12:52:49.325Z"
   },
   {
    "duration": 134,
    "start_time": "2023-05-08T12:52:49.350Z"
   },
   {
    "duration": 6152,
    "start_time": "2023-05-08T12:52:49.486Z"
   },
   {
    "duration": 14185,
    "start_time": "2023-05-08T12:52:55.639Z"
   },
   {
    "duration": 16,
    "start_time": "2023-05-08T12:53:09.826Z"
   },
   {
    "duration": 63,
    "start_time": "2023-05-08T12:53:09.843Z"
   },
   {
    "duration": 4,
    "start_time": "2023-05-08T12:53:09.908Z"
   },
   {
    "duration": 3116,
    "start_time": "2023-05-08T12:53:09.913Z"
   },
   {
    "duration": 95,
    "start_time": "2023-05-08T12:53:13.030Z"
   },
   {
    "duration": 950,
    "start_time": "2023-05-08T12:55:23.860Z"
   },
   {
    "duration": 2885,
    "start_time": "2023-05-08T12:55:37.309Z"
   },
   {
    "duration": 85,
    "start_time": "2023-05-08T12:55:42.192Z"
   },
   {
    "duration": 16,
    "start_time": "2023-05-08T12:55:47.207Z"
   },
   {
    "duration": 2864,
    "start_time": "2023-05-08T12:57:39.951Z"
   },
   {
    "duration": 99,
    "start_time": "2023-05-08T12:57:44.378Z"
   },
   {
    "duration": 4,
    "start_time": "2023-05-08T13:00:33.916Z"
   },
   {
    "duration": 2769,
    "start_time": "2023-05-08T13:00:48.917Z"
   },
   {
    "duration": 2794,
    "start_time": "2023-05-08T13:00:55.409Z"
   },
   {
    "duration": 111,
    "start_time": "2023-05-08T13:01:01.204Z"
   },
   {
    "duration": 56,
    "start_time": "2023-05-08T13:01:52.300Z"
   },
   {
    "duration": 1267,
    "start_time": "2023-05-08T13:02:02.073Z"
   },
   {
    "duration": 3315,
    "start_time": "2023-05-08T13:02:03.342Z"
   },
   {
    "duration": 14,
    "start_time": "2023-05-08T13:02:06.658Z"
   },
   {
    "duration": 30,
    "start_time": "2023-05-08T13:02:06.674Z"
   },
   {
    "duration": 30,
    "start_time": "2023-05-08T13:02:06.706Z"
   },
   {
    "duration": 9,
    "start_time": "2023-05-08T13:02:06.738Z"
   },
   {
    "duration": 17,
    "start_time": "2023-05-08T13:02:06.749Z"
   },
   {
    "duration": 1828,
    "start_time": "2023-05-08T13:02:06.768Z"
   },
   {
    "duration": 8,
    "start_time": "2023-05-08T13:02:08.598Z"
   },
   {
    "duration": 36691,
    "start_time": "2023-05-08T13:02:08.608Z"
   },
   {
    "duration": 609,
    "start_time": "2023-05-08T13:02:45.301Z"
   },
   {
    "duration": 49,
    "start_time": "2023-05-08T13:02:45.912Z"
   },
   {
    "duration": 11,
    "start_time": "2023-05-08T13:02:45.963Z"
   },
   {
    "duration": 23,
    "start_time": "2023-05-08T13:02:45.976Z"
   },
   {
    "duration": 204,
    "start_time": "2023-05-08T13:02:46.000Z"
   },
   {
    "duration": 5869,
    "start_time": "2023-05-08T13:02:46.205Z"
   },
   {
    "duration": 13746,
    "start_time": "2023-05-08T13:02:52.075Z"
   },
   {
    "duration": 15,
    "start_time": "2023-05-08T13:03:05.823Z"
   },
   {
    "duration": 4,
    "start_time": "2023-05-08T13:03:05.840Z"
   },
   {
    "duration": 21279,
    "start_time": "2023-05-08T13:03:05.845Z"
   },
   {
    "duration": 113,
    "start_time": "2023-05-08T13:03:27.126Z"
   },
   {
    "duration": 106,
    "start_time": "2023-05-08T13:08:27.257Z"
   },
   {
    "duration": 13,
    "start_time": "2023-05-08T13:08:37.844Z"
   },
   {
    "duration": 10,
    "start_time": "2023-05-08T13:08:46.528Z"
   },
   {
    "duration": 9,
    "start_time": "2023-05-08T13:09:02.956Z"
   },
   {
    "duration": 10,
    "start_time": "2023-05-08T13:09:51.742Z"
   },
   {
    "duration": 4755,
    "start_time": "2023-05-08T13:09:56.966Z"
   },
   {
    "duration": 12720,
    "start_time": "2023-05-08T13:10:19.716Z"
   },
   {
    "duration": 11,
    "start_time": "2023-05-08T13:11:41.461Z"
   },
   {
    "duration": 9,
    "start_time": "2023-05-08T13:11:56.135Z"
   },
   {
    "duration": 11,
    "start_time": "2023-05-08T13:12:07.675Z"
   },
   {
    "duration": 10,
    "start_time": "2023-05-08T13:12:43.871Z"
   },
   {
    "duration": 354,
    "start_time": "2023-05-08T13:12:52.146Z"
   },
   {
    "duration": 13,
    "start_time": "2023-05-08T13:13:01.221Z"
   },
   {
    "duration": 13,
    "start_time": "2023-05-08T13:13:05.819Z"
   },
   {
    "duration": 11,
    "start_time": "2023-05-08T13:13:10.788Z"
   },
   {
    "duration": 9,
    "start_time": "2023-05-08T13:13:28.148Z"
   },
   {
    "duration": 2664,
    "start_time": "2023-05-08T13:13:37.634Z"
   },
   {
    "duration": 2604,
    "start_time": "2023-05-08T13:13:53.505Z"
   },
   {
    "duration": 66,
    "start_time": "2023-05-08T13:19:52.004Z"
   },
   {
    "duration": 18,
    "start_time": "2023-05-08T13:19:56.461Z"
   },
   {
    "duration": 98,
    "start_time": "2023-05-08T13:20:53.687Z"
   },
   {
    "duration": 9,
    "start_time": "2023-05-08T13:21:08.464Z"
   },
   {
    "duration": 8,
    "start_time": "2023-05-08T13:21:22.955Z"
   },
   {
    "duration": 8,
    "start_time": "2023-05-08T13:21:32.655Z"
   },
   {
    "duration": 1818,
    "start_time": "2023-05-08T13:24:50.954Z"
   },
   {
    "duration": 3429,
    "start_time": "2023-05-08T13:24:52.774Z"
   },
   {
    "duration": 12,
    "start_time": "2023-05-08T13:24:56.205Z"
   },
   {
    "duration": 34,
    "start_time": "2023-05-08T13:24:56.219Z"
   },
   {
    "duration": 19,
    "start_time": "2023-05-08T13:24:56.255Z"
   },
   {
    "duration": 11,
    "start_time": "2023-05-08T13:24:56.275Z"
   },
   {
    "duration": 6,
    "start_time": "2023-05-08T13:24:56.294Z"
   },
   {
    "duration": 1792,
    "start_time": "2023-05-08T13:24:56.302Z"
   },
   {
    "duration": 3,
    "start_time": "2023-05-08T13:24:58.096Z"
   },
   {
    "duration": 36195,
    "start_time": "2023-05-08T13:24:58.101Z"
   },
   {
    "duration": 683,
    "start_time": "2023-05-08T13:25:34.298Z"
   },
   {
    "duration": 67,
    "start_time": "2023-05-08T13:25:34.983Z"
   },
   {
    "duration": 14,
    "start_time": "2023-05-08T13:25:35.052Z"
   },
   {
    "duration": 24,
    "start_time": "2023-05-08T13:25:35.070Z"
   },
   {
    "duration": 162,
    "start_time": "2023-05-08T13:25:35.096Z"
   },
   {
    "duration": 6354,
    "start_time": "2023-05-08T13:25:35.260Z"
   },
   {
    "duration": 13689,
    "start_time": "2023-05-08T13:25:41.616Z"
   },
   {
    "duration": 14,
    "start_time": "2023-05-08T13:25:55.306Z"
   },
   {
    "duration": 2,
    "start_time": "2023-05-08T13:25:55.322Z"
   },
   {
    "duration": 22311,
    "start_time": "2023-05-08T13:25:55.326Z"
   },
   {
    "duration": 115,
    "start_time": "2023-05-08T13:26:17.639Z"
   },
   {
    "duration": 10,
    "start_time": "2023-05-08T13:26:17.756Z"
   },
   {
    "duration": 1364,
    "start_time": "2023-05-09T08:13:53.619Z"
   },
   {
    "duration": 3268,
    "start_time": "2023-05-09T08:13:58.199Z"
   },
   {
    "duration": 19,
    "start_time": "2023-05-09T08:14:04.137Z"
   },
   {
    "duration": 30,
    "start_time": "2023-05-09T08:14:09.690Z"
   },
   {
    "duration": 20,
    "start_time": "2023-05-09T08:14:11.795Z"
   },
   {
    "duration": 10,
    "start_time": "2023-05-09T08:14:16.689Z"
   },
   {
    "duration": 139,
    "start_time": "2023-05-09T08:14:18.258Z"
   },
   {
    "duration": 10,
    "start_time": "2023-05-09T08:14:22.535Z"
   },
   {
    "duration": 2,
    "start_time": "2023-05-09T08:14:24.912Z"
   },
   {
    "duration": 3,
    "start_time": "2023-05-09T08:21:23.828Z"
   },
   {
    "duration": 89,
    "start_time": "2023-05-09T08:24:02.558Z"
   },
   {
    "duration": 4,
    "start_time": "2023-05-09T08:24:22.605Z"
   },
   {
    "duration": 1143,
    "start_time": "2023-05-09T08:27:11.428Z"
   },
   {
    "duration": 5,
    "start_time": "2023-05-09T08:37:28.993Z"
   },
   {
    "duration": 6,
    "start_time": "2023-05-09T08:39:27.115Z"
   },
   {
    "duration": 27,
    "start_time": "2023-05-09T08:39:37.399Z"
   },
   {
    "duration": 3,
    "start_time": "2023-05-09T08:41:03.488Z"
   },
   {
    "duration": 22,
    "start_time": "2023-05-09T08:41:06.676Z"
   },
   {
    "duration": 502427,
    "start_time": "2023-05-09T08:41:51.306Z"
   },
   {
    "duration": 567232,
    "start_time": "2023-05-09T08:50:53.999Z"
   },
   {
    "duration": 14,
    "start_time": "2023-05-09T09:00:21.233Z"
   },
   {
    "duration": 25,
    "start_time": "2023-05-09T09:00:41.766Z"
   },
   {
    "duration": 65,
    "start_time": "2023-05-09T09:01:06.868Z"
   },
   {
    "duration": 14,
    "start_time": "2023-05-09T09:01:08.121Z"
   },
   {
    "duration": 7,
    "start_time": "2023-05-09T09:01:09.310Z"
   },
   {
    "duration": 6,
    "start_time": "2023-05-09T09:01:10.702Z"
   },
   {
    "duration": 6736,
    "start_time": "2023-05-09T09:01:15.253Z"
   },
   {
    "duration": 9,
    "start_time": "2023-05-09T09:11:41.410Z"
   },
   {
    "duration": 4,
    "start_time": "2023-05-09T09:12:09.322Z"
   },
   {
    "duration": 3,
    "start_time": "2023-05-09T09:12:28.950Z"
   },
   {
    "duration": 105,
    "start_time": "2023-05-09T09:28:52.288Z"
   },
   {
    "duration": 4,
    "start_time": "2023-05-09T09:30:02.480Z"
   },
   {
    "duration": 3,
    "start_time": "2023-05-09T09:30:12.901Z"
   },
   {
    "duration": 9,
    "start_time": "2023-05-09T09:30:34.453Z"
   },
   {
    "duration": 6,
    "start_time": "2023-05-09T09:30:55.824Z"
   },
   {
    "duration": 10,
    "start_time": "2023-05-09T09:31:04.457Z"
   },
   {
    "duration": 3,
    "start_time": "2023-05-09T09:31:58.660Z"
   },
   {
    "duration": 82,
    "start_time": "2023-05-09T09:32:02.938Z"
   },
   {
    "duration": 2,
    "start_time": "2023-05-09T09:33:08.804Z"
   },
   {
    "duration": 3,
    "start_time": "2023-05-09T09:33:11.059Z"
   },
   {
    "duration": 98045,
    "start_time": "2023-05-09T09:33:12.260Z"
   },
   {
    "duration": 2,
    "start_time": "2023-05-09T09:36:34.676Z"
   },
   {
    "duration": 3,
    "start_time": "2023-05-09T09:36:48.694Z"
   },
   {
    "duration": 9,
    "start_time": "2023-05-09T09:37:14.694Z"
   },
   {
    "duration": 6134,
    "start_time": "2023-05-09T09:37:27.974Z"
   },
   {
    "duration": 4,
    "start_time": "2023-05-09T09:37:49.361Z"
   },
   {
    "duration": 3,
    "start_time": "2023-05-09T09:38:01.200Z"
   },
   {
    "duration": 3,
    "start_time": "2023-05-09T09:38:02.785Z"
   },
   {
    "duration": 457370,
    "start_time": "2023-05-09T09:38:09.939Z"
   },
   {
    "duration": 2,
    "start_time": "2023-05-09T09:47:38.637Z"
   },
   {
    "duration": 444413,
    "start_time": "2023-05-09T09:47:40.520Z"
   },
   {
    "duration": 102,
    "start_time": "2023-05-09T09:57:33.803Z"
   },
   {
    "duration": 43,
    "start_time": "2023-05-09T09:57:41.752Z"
   },
   {
    "duration": 5,
    "start_time": "2023-05-09T09:57:52.890Z"
   },
   {
    "duration": 98,
    "start_time": "2023-05-09T09:57:57.966Z"
   },
   {
    "duration": 102,
    "start_time": "2023-05-09T09:58:13.422Z"
   },
   {
    "duration": 113,
    "start_time": "2023-05-09T09:58:22.946Z"
   },
   {
    "duration": 106,
    "start_time": "2023-05-09T09:58:35.965Z"
   },
   {
    "duration": 118,
    "start_time": "2023-05-09T09:58:39.557Z"
   },
   {
    "duration": 3,
    "start_time": "2023-05-09T09:58:54.332Z"
   },
   {
    "duration": 3,
    "start_time": "2023-05-09T09:58:55.589Z"
   },
   {
    "duration": 99399,
    "start_time": "2023-05-09T09:58:56.909Z"
   },
   {
    "duration": 3,
    "start_time": "2023-05-09T10:01:19.574Z"
   },
   {
    "duration": 3,
    "start_time": "2023-05-09T10:01:20.868Z"
   },
   {
    "duration": 99829,
    "start_time": "2023-05-09T10:01:22.085Z"
   },
   {
    "duration": 18,
    "start_time": "2023-05-09T10:07:54.027Z"
   },
   {
    "duration": 3,
    "start_time": "2023-05-09T10:08:08.233Z"
   },
   {
    "duration": 2,
    "start_time": "2023-05-09T10:08:10.061Z"
   },
   {
    "duration": 100800,
    "start_time": "2023-05-09T10:08:12.213Z"
   },
   {
    "duration": 18,
    "start_time": "2023-05-09T10:10:44.102Z"
   },
   {
    "duration": 93,
    "start_time": "2023-05-09T10:14:20.407Z"
   },
   {
    "duration": 72,
    "start_time": "2023-05-09T10:14:42.526Z"
   },
   {
    "duration": 9,
    "start_time": "2023-05-09T10:18:43.084Z"
   },
   {
    "duration": 3,
    "start_time": "2023-05-09T10:20:07.285Z"
   },
   {
    "duration": 9,
    "start_time": "2023-05-09T10:20:09.141Z"
   },
   {
    "duration": 119,
    "start_time": "2023-05-09T10:20:17.987Z"
   },
   {
    "duration": 78,
    "start_time": "2023-05-09T10:21:04.099Z"
   },
   {
    "duration": 9,
    "start_time": "2023-05-09T10:22:12.429Z"
   },
   {
    "duration": 3,
    "start_time": "2023-05-09T10:22:15.826Z"
   },
   {
    "duration": 11,
    "start_time": "2023-05-09T10:22:17.348Z"
   },
   {
    "duration": 10,
    "start_time": "2023-05-09T10:24:10.060Z"
   },
   {
    "duration": 9,
    "start_time": "2023-05-09T10:24:22.885Z"
   },
   {
    "duration": 11,
    "start_time": "2023-05-09T10:24:29.677Z"
   },
   {
    "duration": 3,
    "start_time": "2023-05-09T10:26:37.357Z"
   },
   {
    "duration": 10,
    "start_time": "2023-05-09T10:28:37.387Z"
   },
   {
    "duration": 10,
    "start_time": "2023-05-09T10:29:06.199Z"
   },
   {
    "duration": 3,
    "start_time": "2023-05-09T10:29:08.497Z"
   },
   {
    "duration": 9,
    "start_time": "2023-05-09T10:30:05.664Z"
   },
   {
    "duration": 8624,
    "start_time": "2023-05-09T10:30:11.480Z"
   },
   {
    "duration": 16,
    "start_time": "2023-05-09T10:30:36.661Z"
   },
   {
    "duration": 9543,
    "start_time": "2023-05-09T10:30:46.767Z"
   },
   {
    "duration": 16,
    "start_time": "2023-05-09T10:31:02.185Z"
   },
   {
    "duration": 3,
    "start_time": "2023-05-09T10:33:22.242Z"
   },
   {
    "duration": 10,
    "start_time": "2023-05-09T10:33:31.043Z"
   },
   {
    "duration": 11,
    "start_time": "2023-05-09T10:33:43.795Z"
   },
   {
    "duration": 11,
    "start_time": "2023-05-09T10:34:14.302Z"
   },
   {
    "duration": 15347,
    "start_time": "2023-05-09T10:34:23.856Z"
   },
   {
    "duration": 17,
    "start_time": "2023-05-09T10:34:42.059Z"
   },
   {
    "duration": 108,
    "start_time": "2023-05-09T10:37:00.084Z"
   },
   {
    "duration": 175,
    "start_time": "2023-05-09T10:37:20.765Z"
   },
   {
    "duration": 99045,
    "start_time": "2023-05-09T10:37:54.463Z"
   },
   {
    "duration": 11,
    "start_time": "2023-05-09T10:40:35.541Z"
   },
   {
    "duration": 72,
    "start_time": "2023-05-09T10:40:46.799Z"
   },
   {
    "duration": 1455,
    "start_time": "2023-05-09T10:43:05.754Z"
   },
   {
    "duration": 0,
    "start_time": "2023-05-09T10:43:07.211Z"
   },
   {
    "duration": 0,
    "start_time": "2023-05-09T10:43:07.212Z"
   },
   {
    "duration": 0,
    "start_time": "2023-05-09T10:43:07.213Z"
   },
   {
    "duration": 0,
    "start_time": "2023-05-09T10:43:07.215Z"
   },
   {
    "duration": 0,
    "start_time": "2023-05-09T10:43:07.215Z"
   },
   {
    "duration": 0,
    "start_time": "2023-05-09T10:43:07.216Z"
   },
   {
    "duration": 0,
    "start_time": "2023-05-09T10:43:07.217Z"
   },
   {
    "duration": 0,
    "start_time": "2023-05-09T10:43:07.218Z"
   },
   {
    "duration": 0,
    "start_time": "2023-05-09T10:43:07.219Z"
   },
   {
    "duration": 0,
    "start_time": "2023-05-09T10:43:07.220Z"
   },
   {
    "duration": 0,
    "start_time": "2023-05-09T10:43:07.221Z"
   },
   {
    "duration": 0,
    "start_time": "2023-05-09T10:43:07.222Z"
   },
   {
    "duration": 1,
    "start_time": "2023-05-09T10:43:07.223Z"
   },
   {
    "duration": 0,
    "start_time": "2023-05-09T10:43:07.224Z"
   },
   {
    "duration": 0,
    "start_time": "2023-05-09T10:43:07.225Z"
   },
   {
    "duration": 0,
    "start_time": "2023-05-09T10:43:07.226Z"
   },
   {
    "duration": 0,
    "start_time": "2023-05-09T10:43:07.227Z"
   },
   {
    "duration": 0,
    "start_time": "2023-05-09T10:43:07.228Z"
   },
   {
    "duration": 0,
    "start_time": "2023-05-09T10:43:07.229Z"
   },
   {
    "duration": 0,
    "start_time": "2023-05-09T10:43:07.230Z"
   },
   {
    "duration": 0,
    "start_time": "2023-05-09T10:43:07.231Z"
   },
   {
    "duration": 0,
    "start_time": "2023-05-09T10:43:07.232Z"
   },
   {
    "duration": 0,
    "start_time": "2023-05-09T10:43:07.233Z"
   },
   {
    "duration": 0,
    "start_time": "2023-05-09T10:43:07.234Z"
   },
   {
    "duration": 0,
    "start_time": "2023-05-09T10:43:07.236Z"
   },
   {
    "duration": 0,
    "start_time": "2023-05-09T10:43:07.237Z"
   },
   {
    "duration": 1447,
    "start_time": "2023-05-09T10:48:19.508Z"
   },
   {
    "duration": 954,
    "start_time": "2023-05-09T10:48:20.957Z"
   },
   {
    "duration": 17,
    "start_time": "2023-05-09T10:48:21.913Z"
   },
   {
    "duration": 55,
    "start_time": "2023-05-09T10:48:21.932Z"
   },
   {
    "duration": 29,
    "start_time": "2023-05-09T10:48:21.989Z"
   },
   {
    "duration": 17,
    "start_time": "2023-05-09T10:48:22.020Z"
   },
   {
    "duration": 11,
    "start_time": "2023-05-09T10:48:22.039Z"
   },
   {
    "duration": 34,
    "start_time": "2023-05-09T10:48:22.052Z"
   },
   {
    "duration": 8,
    "start_time": "2023-05-09T10:48:22.088Z"
   },
   {
    "duration": 583237,
    "start_time": "2023-05-09T10:48:22.099Z"
   },
   {
    "duration": 17,
    "start_time": "2023-05-09T10:58:05.337Z"
   },
   {
    "duration": 90,
    "start_time": "2023-05-09T10:58:05.356Z"
   },
   {
    "duration": 15,
    "start_time": "2023-05-09T10:58:05.448Z"
   },
   {
    "duration": 24,
    "start_time": "2023-05-09T10:58:05.465Z"
   },
   {
    "duration": 191,
    "start_time": "2023-05-09T10:58:05.491Z"
   },
   {
    "duration": 7315,
    "start_time": "2023-05-09T10:58:05.685Z"
   },
   {
    "duration": 3,
    "start_time": "2023-05-09T10:58:13.002Z"
   },
   {
    "duration": 4,
    "start_time": "2023-05-09T10:58:13.007Z"
   },
   {
    "duration": 94994,
    "start_time": "2023-05-09T10:58:13.013Z"
   },
   {
    "duration": 5,
    "start_time": "2023-05-09T10:59:48.009Z"
   },
   {
    "duration": 36,
    "start_time": "2023-05-09T10:59:48.016Z"
   },
   {
    "duration": 9,
    "start_time": "2023-05-09T10:59:48.055Z"
   },
   {
    "duration": 491166,
    "start_time": "2023-05-09T10:59:48.066Z"
   },
   {
    "duration": 4,
    "start_time": "2023-05-09T11:07:59.235Z"
   },
   {
    "duration": 14,
    "start_time": "2023-05-09T11:07:59.241Z"
   },
   {
    "duration": 15949,
    "start_time": "2023-05-09T11:07:59.257Z"
   },
   {
    "duration": 15,
    "start_time": "2023-05-09T11:08:15.208Z"
   }
  ],
  "kernelspec": {
   "display_name": "Python 3 (ipykernel)",
   "language": "python",
   "name": "python3"
  },
  "language_info": {
   "codemirror_mode": {
    "name": "ipython",
    "version": 3
   },
   "file_extension": ".py",
   "mimetype": "text/x-python",
   "name": "python",
   "nbconvert_exporter": "python",
   "pygments_lexer": "ipython3",
   "version": "3.10.9"
  },
  "toc": {
   "base_numbering": 1,
   "nav_menu": {},
   "number_sections": true,
   "sideBar": true,
   "skip_h1_title": true,
   "title_cell": "Содержание",
   "title_sidebar": "Contents",
   "toc_cell": true,
   "toc_position": {
    "height": "calc(100% - 180px)",
    "left": "10px",
    "top": "150px",
    "width": "302.391px"
   },
   "toc_section_display": true,
   "toc_window_display": false
  }
 },
 "nbformat": 4,
 "nbformat_minor": 2
}
